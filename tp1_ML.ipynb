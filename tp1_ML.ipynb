{
 "cells": [
  {
   "cell_type": "markdown",
   "id": "4da6622e-79fa-4753-acb1-8573cc2ec73c",
   "metadata": {},
   "source": [
    "# 1 - Listado de variables y selección\n",
    "\n",
    "## Entrada\n",
    "* Manufacturer: Marca / fabricante del equipo\n",
    "* Category: Tipo de notebook\n",
    "* Screen Size: Tamaño diagonal de la pantalla en pulgadas\n",
    "* Screen Type: Resolución y tipo de panel\n",
    "* CPU: Modelo de procesador\n",
    "* RAM: Capacidad de memoria\n",
    "* Storage: Tipo y tamaño de almacenamiento interno\n",
    "* GPU: Tipo y modelo de procesador de gráficos\n",
    "* OS: Sistema operativo\n",
    "* Weight: Peso\n",
    "\n",
    "## Salida\n",
    "* Price: Será reducida con rangos a valores \"bajo\", \"medio\" o \"alto\"\n",
    "\n",
    "## No utilizadas\n",
    "* Model Name: Texto arbitrario que generalmente no representa las capacidades del producto, y cuando lo hace meramente tiene agregados valores de otras columnas\n",
    "* OS Version: No usada debido a su gran cantidad de nulos y presunta poca importancia"
   ]
  },
  {
   "cell_type": "markdown",
   "id": "3050e4c0-e31f-4d53-9c57-2396b4dada74",
   "metadata": {},
   "source": [
    "# 2 - Análisis detallado de un conjunto de variables"
   ]
  },
  {
   "cell_type": "code",
   "execution_count": null,
   "id": "7fb1e001-fc54-4fed-a971-db7fa28f29d8",
   "metadata": {},
   "outputs": [],
   "source": [
    "import pandas as pd"
   ]
  },
  {
   "cell_type": "code",
   "execution_count": null,
   "id": "d008d871-5090-4c28-ae9c-2996fff72252",
   "metadata": {},
   "outputs": [],
   "source": [
    "laptops_train = pd.read_csv('laptops_train.csv')\n",
    "laptops_test = pd.read_csv('laptops_test.csv')"
   ]
  },
  {
   "cell_type": "code",
   "execution_count": null,
   "id": "bd454cda-a531-461e-aff6-24e25eaae7b3",
   "metadata": {},
   "outputs": [],
   "source": [
    "print(\"Entries de train: \"+str(len(laptops_train)))\n",
    "print(\"Entries de test: \"+str(len(laptops_test)))"
   ]
  },
  {
   "cell_type": "markdown",
   "id": "4342b27c-4c97-4c26-9b16-eb6731dc6af3",
   "metadata": {},
   "source": [
    "### Valores nulos"
   ]
  },
  {
   "cell_type": "code",
   "execution_count": null,
   "id": "af739fd0-b4af-406a-a565-47279ed3942d",
   "metadata": {},
   "outputs": [],
   "source": [
    "laptops_train.isnull().sum()"
   ]
  },
  {
   "cell_type": "code",
   "execution_count": null,
   "id": "7e9787de-0959-4a72-b157-eebb6219e24d",
   "metadata": {
    "scrolled": true
   },
   "outputs": [],
   "source": [
    "laptops_test.isnull().sum()"
   ]
  },
  {
   "cell_type": "markdown",
   "id": "e0310ae5-0d21-4238-96f3-c3ecc34a8c89",
   "metadata": {},
   "source": [
    "Este dataset solo presenta valores nulos en la columna \"Operating System Version\", la cual se decidió no utilizar anteriormente, por lo cual no es un problema a tener en cuenta en este caso"
   ]
  },
  {
   "cell_type": "code",
   "execution_count": null,
   "id": "5fe44481-ef9e-4727-a665-5d3e7316f862",
   "metadata": {
    "scrolled": true
   },
   "outputs": [],
   "source": [
    "laptops_train"
   ]
  },
  {
   "cell_type": "code",
   "execution_count": null,
   "id": "5952abb6-852b-4678-8fab-124b3dddb799",
   "metadata": {
    "editable": true,
    "slideshow": {
     "slide_type": ""
    },
    "tags": []
   },
   "outputs": [],
   "source": [
    "# Renombre de las series\n",
    "new_col_names = {\n",
    "    \"Manufacturer\":\"manufacturer\",\n",
    "    \"Model Name\":\"model\",\n",
    "    \"Category\":\"category\",\n",
    "    \"Screen Size\":\"screen_size\",\n",
    "    \"Screen\":\"display\",\n",
    "    \"CPU\":\"cpu\",\n",
    "    \"RAM\":\"gb_ram\",\n",
    "    \" Storage\":\"storage\", # la string original tiene el espacio, sin eso no lo cambia\n",
    "    \"GPU\":\"gpu\",\n",
    "    \"Operating System\":\"os\",\n",
    "    \"Operating System Version\":\"os_version\",\n",
    "    \"Weight\":\"weight\",\n",
    "    \"Price\":\"price\"\n",
    "}\n",
    "\n",
    "dropped_cols = [\"os_version\", \"model\"]\n",
    "\n",
    "laptops_train = laptops_train.rename(columns=new_col_names).drop(columns=dropped_cols)\n",
    "laptops_test = laptops_test.rename(columns=new_col_names).drop(columns=dropped_cols)"
   ]
  },
  {
   "cell_type": "code",
   "execution_count": null,
   "id": "1c15d532-d226-47aa-9a0f-2228a2809ccd",
   "metadata": {
    "scrolled": true
   },
   "outputs": [],
   "source": [
    "laptops_train"
   ]
  },
  {
   "cell_type": "markdown",
   "id": "8f600f0e-74d4-4c9d-bcc2-7c23a843bd79",
   "metadata": {},
   "source": [
    "## Variable de salida"
   ]
  },
  {
   "cell_type": "code",
   "execution_count": null,
   "id": "f1d4fe45-cd1a-4bcb-97d9-028a68870ce7",
   "metadata": {},
   "outputs": [],
   "source": [
    "# Conversión de la variable de salida de rupias a dólares, tomando como base la cotización del 28/03/2023, según la última actualización del dataset\n",
    "# Se dividió por 100 el valor obtenido debido a que los precios convertidos con la cotización de referencia se encontraban fuera del rango esperado\n",
    "# Cotización: 1 INR = 0.0001217 USD\n",
    "\n",
    "\n",
    "cotizacion = 0.0001217\n",
    "\n",
    "def convertir_precio(precio):\n",
    "    return int(precio * cotizacion)\n",
    "\n",
    "laptops_train[\"price\"] = laptops_train[\"price\"].apply(convertir_precio)\n",
    "laptops_test[\"price\"] = laptops_test[\"price\"].apply(convertir_precio)"
   ]
  },
  {
   "cell_type": "code",
   "execution_count": null,
   "id": "2b06b65a-712a-4eb1-a22b-3fe009b71a05",
   "metadata": {},
   "outputs": [],
   "source": [
    "laptops_train"
   ]
  },
  {
   "cell_type": "code",
   "execution_count": null,
   "id": "4be3cc5d-2d01-4469-9210-ffcabeee371a",
   "metadata": {},
   "outputs": [],
   "source": [
    "laptops_test"
   ]
  },
  {
   "cell_type": "code",
   "execution_count": null,
   "id": "107908e8-078c-466b-b0e2-3f46cf5a29ef",
   "metadata": {},
   "outputs": [],
   "source": [
    "import matplotlib as plt\n",
    "import plotly.express as px"
   ]
  },
  {
   "cell_type": "code",
   "execution_count": null,
   "id": "ec6921ac-77b5-445d-9b99-db2488cf8257",
   "metadata": {},
   "outputs": [],
   "source": [
    "px.histogram(laptops_train, x=\"price\")"
   ]
  },
  {
   "cell_type": "code",
   "execution_count": null,
   "id": "168044ab-d3fd-4109-b4f8-ff8421c808d2",
   "metadata": {},
   "outputs": [],
   "source": [
    "px.histogram(laptops_test, x=\"price\")"
   ]
  },
  {
   "cell_type": "code",
   "execution_count": null,
   "id": "d1cb3cb1-fd3f-4b7b-bb75-91e1eba60f70",
   "metadata": {},
   "outputs": [],
   "source": [
    "px.box(laptops_train, x=\"price\")"
   ]
  },
  {
   "cell_type": "code",
   "execution_count": null,
   "id": "4d1ce3f4-808b-4bae-919f-7efe38c9e6f3",
   "metadata": {},
   "outputs": [],
   "source": [
    "px.box(laptops_test, x=\"price\")"
   ]
  },
  {
   "cell_type": "code",
   "execution_count": null,
   "id": "9fa72beb-4487-4f5e-9049-5fdc2d286922",
   "metadata": {},
   "outputs": [],
   "source": [
    "laptops_train[\"price\"].describe()"
   ]
  },
  {
   "cell_type": "code",
   "execution_count": null,
   "id": "4bb51838-2673-448c-beb6-4dd0c822f82f",
   "metadata": {},
   "outputs": [],
   "source": [
    "laptops_test[\"price\"].describe()"
   ]
  },
  {
   "cell_type": "markdown",
   "id": "58b33b99-5d54-4d37-ad72-fd597f8ca06f",
   "metadata": {},
   "source": [
    "Se puede apreciar como la variable de salida tiene una forma de campana gaussiana con asimetría positiva. Podemos notar como tanto el set de train y de test tienen una distribución similar, lo cual es importante controlar debido a que ambas tablas fueron provistas por el creador del dataset. A su vez se puede ver como existen valores anómalos y aberrantes en los rangos superiores del dataset. En consecuencia, esto podría generar overfitting debido a los pocos datos en este rango, y optamos por quitar estos dispositivos del dataset directamente."
   ]
  },
  {
   "cell_type": "code",
   "execution_count": null,
   "id": "8245f878-2a6f-4b4a-9adc-622977d69a8b",
   "metadata": {},
   "outputs": [],
   "source": [
    "# Descartamos los valores anómalos y aberrantes (donde precio > 3500)\n",
    "\n",
    "descartes_train = laptops_train[laptops_train.price > 3500].index\n",
    "descartes_test = laptops_test[laptops_test.price > 3500].index\n",
    "\n",
    "laptops_train = laptops_train.drop(descartes_train)\n",
    "laptops_test = laptops_test.drop(descartes_test)\n",
    "\n",
    "print(\"Valores descartados:\")\n",
    "print(\"Train:\"+str(len(descartes_train)))\n",
    "print(\"Test:\"+str(len(descartes_test)))"
   ]
  },
  {
   "cell_type": "code",
   "execution_count": null,
   "id": "25951c4a-b643-4f06-a100-ac2a76492425",
   "metadata": {},
   "outputs": [],
   "source": [
    "# Conversión a rangos de precios\n",
    "# Rangos:\n",
    "# low: 0 < price <= 1000\n",
    "# mid: 1000 < price <= 1500\n",
    "# high: 1500 < price <= 3500\n",
    "\n",
    "laptops_train[\"price_range\"] = pd.cut(x=laptops_train[\"price\"], bins=[0, 1000, 1500, 3500], labels=[\"low\", \"mid\", \"high\"])\n",
    "laptops_test[\"price_range\"] = pd.cut(x=laptops_test[\"price\"], bins=[0, 1000, 1500, 3500], labels=[\"low\", \"mid\", \"high\"])"
   ]
  },
  {
   "cell_type": "code",
   "execution_count": null,
   "id": "16bec1c9-ca09-4959-9af0-e14a5a58e6b2",
   "metadata": {},
   "outputs": [],
   "source": [
    "# Ordenamos el dataset por la nueva columna de price_range para que los gráficos queden mejor acomodados\n",
    "# (se puede hacer agregando category_orders={\"price_range\": [\"low\", \"mid\", \"high\"]} a cada gráfico, pero de esta manera aplica para todos)\n",
    "\n",
    "laptops_train = laptops_train.sort_values(by=\"price_range\")\n",
    "laptops_test = laptops_test.sort_values(by=\"price_range\")"
   ]
  },
  {
   "cell_type": "code",
   "execution_count": null,
   "id": "7c8a4087-f8e4-4cce-ac33-e21666a095f5",
   "metadata": {},
   "outputs": [],
   "source": [
    "laptops_train"
   ]
  },
  {
   "cell_type": "code",
   "execution_count": null,
   "id": "e2d185dc-d17e-49d8-aa6e-c63eb585b991",
   "metadata": {},
   "outputs": [],
   "source": [
    "#Una ves aplicado los rangos, droppeamos la columna de precio, porque no la vamos a usar\n",
    "laptops_train = laptops_train.drop(columns=\"price\")\n",
    "laptops_test = laptops_test.drop(columns=\"price\")"
   ]
  },
  {
   "cell_type": "code",
   "execution_count": null,
   "id": "b8142871-055e-4f70-bcc0-b64e8e878772",
   "metadata": {},
   "outputs": [],
   "source": [
    "laptops_train"
   ]
  },
  {
   "cell_type": "code",
   "execution_count": null,
   "id": "483aff6f-9950-4a94-94a3-9ed9131e4151",
   "metadata": {},
   "outputs": [],
   "source": [
    "px.histogram(laptops_train, x = \"price_range\")"
   ]
  },
  {
   "cell_type": "markdown",
   "id": "a5a3e9c1-e141-4b46-b205-668018dfa694",
   "metadata": {},
   "source": [
    "## Variables de entrada"
   ]
  },
  {
   "cell_type": "markdown",
   "id": "59d25859-ac38-4d20-aef4-eee2ff85bdbf",
   "metadata": {},
   "source": [
    "### Manufacturer"
   ]
  },
  {
   "cell_type": "code",
   "execution_count": null,
   "id": "254ba90f-6650-43e9-b13b-7d18b23d1926",
   "metadata": {},
   "outputs": [],
   "source": [
    "px.histogram(laptops_train,x=\"manufacturer\", color=\"price_range\").update_xaxes(categoryorder=\"sum descending\")"
   ]
  },
  {
   "cell_type": "markdown",
   "id": "9d21d6c3-db2e-4758-a5df-69d8e5e4422f",
   "metadata": {},
   "source": [
    "Se puede observar como el dataset cuenta en su mayoria con 4 manufacturadores predominantes, Lenovo, Dell, HP y Asus."
   ]
  },
  {
   "cell_type": "markdown",
   "id": "e3a19a0a-1f74-440c-bf9b-b55ca0dad46a",
   "metadata": {},
   "source": [
    "### Category"
   ]
  },
  {
   "cell_type": "code",
   "execution_count": null,
   "id": "591ee396-0ff2-4ba6-a22a-c83e3641b201",
   "metadata": {},
   "outputs": [],
   "source": [
    "px.histogram(laptops_train, x=\"category\", color=\"price_range\").update_xaxes(categoryorder=\"sum descending\")"
   ]
  },
  {
   "cell_type": "markdown",
   "id": "1fae806e-2741-4a10-ac22-1130c08b0b20",
   "metadata": {},
   "source": [
    "Se observa como la mayoria de los datos ingresados tienen como categoria \"Notebook\". Ademas, la categoria \"Workstation\" contiene solo valores donde el rango de precio es \"High\" lo cual influira en la decision tomada por el modelo. Se puede notar tambien como las categorias \"Gaming\" y \"Ultrabook\" cuentan con muchos valores \"mid\" y \"high\", lo que tambien influye en las decisiones finales."
   ]
  },
  {
   "cell_type": "markdown",
   "id": "c56023c0-c686-4791-9d05-f5805ce38233",
   "metadata": {},
   "source": [
    "### Screen size"
   ]
  },
  {
   "cell_type": "code",
   "execution_count": null,
   "id": "01e7debc-b632-4ecd-8e9f-65d568a967af",
   "metadata": {},
   "outputs": [],
   "source": [
    "px.histogram(laptops_train, x=\"screen_size\", color=\"price_range\").update_xaxes(categoryorder=\"category ascending\")"
   ]
  },
  {
   "cell_type": "markdown",
   "id": "ee4be1f2-031a-4ae3-b0f6-e353074c4b0b",
   "metadata": {},
   "source": [
    "Se puede ver como la mayoria de los datos cuentan con un tamaño de pantalla de 15,6 pulgadas. Tambien se puede notar algunos datos individuales esparcidos entre los otros tamaños. A esta columna le aplicaremos una conversión de string a float, y dividimos arbitrariamente por 10 su valor"
   ]
  },
  {
   "cell_type": "code",
   "execution_count": null,
   "id": "44ffb282-3e2a-4808-b42c-9f9b79142c81",
   "metadata": {},
   "outputs": [],
   "source": [
    "# Conversión de string a float\n",
    "\n",
    "def convertir_tamanio_pantalla(tamanio):\n",
    "    return float(tamanio[:-1])/10\n",
    "\n",
    "laptops_train[\"screen_size\"] = laptops_train[\"screen_size\"].apply(convertir_tamanio_pantalla)\n",
    "laptops_test[\"screen_size\"] = laptops_test[\"screen_size\"].apply(convertir_tamanio_pantalla)"
   ]
  },
  {
   "cell_type": "code",
   "execution_count": null,
   "id": "15b2b635-d220-4a1a-a32c-e244b3c66f99",
   "metadata": {},
   "outputs": [],
   "source": [
    "px.histogram(laptops_train, x=\"screen_size\", color=\"price_range\")"
   ]
  },
  {
   "cell_type": "markdown",
   "id": "476c2dfa-ec8c-485d-bf64-f5940fb91bc0",
   "metadata": {},
   "source": [
    "### Display"
   ]
  },
  {
   "cell_type": "code",
   "execution_count": null,
   "id": "af7d9789-ba2d-4c17-abc6-e6b649ab954c",
   "metadata": {
    "scrolled": true
   },
   "outputs": [],
   "source": [
    "px.histogram(laptops_train, x=\"display\", color=\"price_range\", height=600)"
   ]
  },
  {
   "cell_type": "markdown",
   "id": "2ac97b7c-1e15-4ca4-8f48-495800d07bef",
   "metadata": {},
   "source": [
    "Esta columna posee valores conflictivos, debido a que varios términos representan lo mismo, y que estas strings no son útiles a la hora de entrenar un modelo, por lo cual esta columna será subdividida en 3:\n",
    "* panel_res_x: resolución en el eje X\n",
    "* panel_res_y: resolución en el eje Y\n",
    "* panel_tech: lista de términos de features como \"IPS\" o \"Touchscreen\", usada luego como entrada de un count vectorizer"
   ]
  },
  {
   "cell_type": "code",
   "execution_count": null,
   "id": "f6a5b907-19ae-4413-8213-db091e521356",
   "metadata": {},
   "outputs": [],
   "source": [
    "def obtener_pixeles_resolucion(display_string, axis):\n",
    "    res_array = display_string.split()\n",
    "    res = [substring for substring in res_array if \"x\" in substring][0]\n",
    "    axis = 0 if axis == \"x\" else 1\n",
    "    return int(res.split('x')[axis])"
   ]
  },
  {
   "cell_type": "code",
   "execution_count": null,
   "id": "b21824e6-6cb1-4a27-a476-f5bb0a3b19cb",
   "metadata": {},
   "outputs": [],
   "source": [
    "# Creación de la columna res_x\n",
    "\n",
    "laptops_train.insert(4, \"panel_res_x\", laptops_train[\"display\"].apply(obtener_pixeles_resolucion, args=(\"x\")))\n",
    "laptops_test.insert(4, \"panel_res_x\", laptops_test[\"display\"].apply(obtener_pixeles_resolucion, args=(\"x\")))"
   ]
  },
  {
   "cell_type": "code",
   "execution_count": null,
   "id": "04d8b1b0-0b77-4758-a260-1ea9bc1e9af9",
   "metadata": {},
   "outputs": [],
   "source": [
    "# Creación de la columna res_y\n",
    "\n",
    "laptops_train.insert(5, \"panel_res_y\", laptops_train[\"display\"].apply(obtener_pixeles_resolucion, args=(\"y\")))\n",
    "laptops_test.insert(5, \"panel_res_y\", laptops_test[\"display\"].apply(obtener_pixeles_resolucion, args=(\"y\")))"
   ]
  },
  {
   "cell_type": "code",
   "execution_count": null,
   "id": "e4be1e69-f3f9-46d2-990d-2a656df6b7bd",
   "metadata": {},
   "outputs": [],
   "source": [
    "# Código auxiliar para detectar las posibles features de los displays del dataset\n",
    "\n",
    "features = set()\n",
    "\n",
    "for display in laptops_train[\"display\"]:\n",
    "     for word in display.split():\n",
    "         features.add(word)\n",
    "\n",
    "print(features)"
   ]
  },
  {
   "cell_type": "code",
   "execution_count": null,
   "id": "38489cb0-3a24-4a1c-85dc-7c845798b7d2",
   "metadata": {},
   "outputs": [],
   "source": [
    "# Creación de la columna panel_tech\n",
    "\n",
    "# features consideradas relevantes, dado que las resoluciones tienen sus columnas separadas y variantes de \"HD\" representan esos mismos números\n",
    "features = [\"IPS\", \"Touchscreen\", \"Retina\"]\n",
    "\n",
    "def obtener_features_panel(panel):\n",
    "    panel_strings = panel.split()\n",
    "    return \" \".join([feature for feature in panel_strings if feature in features])\n",
    "\n",
    "laptops_train.insert(6, \"panel_tech\", laptops_train[\"display\"].apply(obtener_features_panel))\n",
    "laptops_test.insert(6, \"panel_tech\", laptops_test[\"display\"].apply(obtener_features_panel))"
   ]
  },
  {
   "cell_type": "code",
   "execution_count": null,
   "id": "9fa82cff-68aa-4063-a8f3-05014c22dbfb",
   "metadata": {},
   "outputs": [],
   "source": [
    "# Se elimina la columna \"display\" debido a que su información relevante ya fue transferida a las nuevas columnas\n",
    "\n",
    "laptops_train = laptops_train.drop(columns=\"display\")\n",
    "laptops_test = laptops_test.drop(columns=\"display\")"
   ]
  },
  {
   "cell_type": "code",
   "execution_count": null,
   "id": "dfc7362a-02e0-4a35-b1de-416b2234fc5a",
   "metadata": {},
   "outputs": [],
   "source": [
    "laptops_train"
   ]
  },
  {
   "cell_type": "code",
   "execution_count": null,
   "id": "1bde3666-3146-47e6-a366-af49223b120c",
   "metadata": {},
   "outputs": [],
   "source": [
    "px.histogram(laptops_train, x=\"panel_res_x\", color=\"price_range\", height=600)"
   ]
  },
  {
   "cell_type": "code",
   "execution_count": null,
   "id": "c57c5bb5-58fa-44cc-89d1-ebfda5b71df4",
   "metadata": {
    "scrolled": true
   },
   "outputs": [],
   "source": [
    "px.histogram(laptops_train, x=\"panel_res_y\", color=\"price_range\", height=400)"
   ]
  },
  {
   "cell_type": "code",
   "execution_count": null,
   "id": "fc7936d2-0d5e-4f6e-9219-5670b1c3dadf",
   "metadata": {},
   "outputs": [],
   "source": [
    "px.scatter_3d(laptops_train, x=\"panel_res_x\", y=\"panel_res_y\", z=\"price_range\", color=\"price_range\", height=600)"
   ]
  },
  {
   "cell_type": "code",
   "execution_count": null,
   "id": "cfb536db-ff41-4b92-b9e6-4eb258d040fc",
   "metadata": {},
   "outputs": [],
   "source": [
    "px.histogram(laptops_train, x=\"panel_tech\", color=\"price_range\", height=600)"
   ]
  },
  {
   "cell_type": "markdown",
   "id": "cd01d915-70f3-4738-b530-6762b9d7a04b",
   "metadata": {},
   "source": [
    "### CPU"
   ]
  },
  {
   "cell_type": "code",
   "execution_count": null,
   "id": "aef0154d-b356-43ca-8bd7-7e374246a941",
   "metadata": {},
   "outputs": [],
   "source": [
    "px.histogram(laptops_train, x=\"cpu\", color=\"price_range\", height=700)"
   ]
  },
  {
   "cell_type": "markdown",
   "id": "21dc57d2-5c55-4de0-a532-3832c811314e",
   "metadata": {},
   "source": [
    "Se nota como la variable con mas ejemplares es la de Intel Core i5, y como el rango de precios aumenta con CPUs mas modernos"
   ]
  },
  {
   "cell_type": "markdown",
   "id": "84c51819-3e62-4d87-b3ac-c4a10a7451e7",
   "metadata": {},
   "source": [
    "### RAM"
   ]
  },
  {
   "cell_type": "code",
   "execution_count": null,
   "id": "3fd7fec3-a7d1-492c-85cf-8a09f3389f8d",
   "metadata": {},
   "outputs": [],
   "source": [
    "px.histogram(laptops_train, x=\"gb_ram\", color=\"price_range\", barmode=\"group\", category_orders={\"gb_ram\": [\"2GB\", \"4GB\", \"6GB\", \"8GB\", \"12GB\", \"16GB\", \"24GB\", \"32GB\"]})"
   ]
  },
  {
   "cell_type": "markdown",
   "id": "14aee252-10b0-4e84-a611-bd4407df1ee8",
   "metadata": {},
   "source": [
    "Se puede apreciar como los rangos de precios ocupan mayoritariamente su segmento correspondiente, es decir, la mayoría de laptops con poca RAM se encuentran en el rango de precios bajos, aquellas con una cantidad media en el rango de precio medio, y las que tienen más capacidad de memoria en el rango de precio alto. Dado que todas las capacidades de memoria están listadas en GB, se pueden convertir a integer tranquilamente"
   ]
  },
  {
   "cell_type": "code",
   "execution_count": null,
   "id": "c8201536-f97a-4a19-80f7-2ed5118ef971",
   "metadata": {},
   "outputs": [],
   "source": [
    "# Conversión de RAM a integere\n",
    "\n",
    "def convertir_ram_a_int(capacidad):\n",
    "    return(int(capacidad[:-2]))\n",
    "\n",
    "laptops_train[\"gb_ram\"] = laptops_train[\"gb_ram\"].apply(convertir_ram_a_int)\n",
    "laptops_test[\"gb_ram\"] = laptops_test[\"gb_ram\"].apply(convertir_ram_a_int)"
   ]
  },
  {
   "cell_type": "code",
   "execution_count": null,
   "id": "f13a07c7-c4e7-48f0-be2c-9574c1e931e4",
   "metadata": {},
   "outputs": [],
   "source": [
    "px.histogram(laptops_train, x=\"gb_ram\", barmode=\"group\", color=\"price_range\")"
   ]
  },
  {
   "cell_type": "markdown",
   "id": "e05c2843-4cee-4e88-b2c0-30836b74b943",
   "metadata": {},
   "source": [
    "### Storage"
   ]
  },
  {
   "cell_type": "code",
   "execution_count": null,
   "id": "1c3a11cb-8e1e-49c5-8388-ef45ab6714d4",
   "metadata": {},
   "outputs": [],
   "source": [
    "px.histogram(laptops_train, x=\"storage\", color=\"price_range\", height=600)"
   ]
  },
  {
   "cell_type": "markdown",
   "id": "5f0971c4-0a70-454b-8d36-1711b9852193",
   "metadata": {},
   "source": [
    "Para esta variable, dividiremos los GB de SSD y HDD en columnas separadas. Se eliminarán las entries que tengan almacenamiento listado como \"Hybrid\" ya que no se puede saber la cantidad de GB de cada medio. A su vez, los listados como \"Flash Storage\" serán tomados como GB de SSD."
   ]
  },
  {
   "cell_type": "code",
   "execution_count": null,
   "id": "c0cafa3b-9009-4faa-8b66-ee103173b8a5",
   "metadata": {
    "scrolled": true
   },
   "outputs": [],
   "source": [
    "# Quitamos las computadoras con almacenamiento \"Híbrido\"\n",
    "\n",
    "descartes_train = laptops_train[laptops_train.storage.str.contains(\"Hybrid\")].index\n",
    "descartes_test = laptops_test[laptops_test.storage.str.contains(\"Hybrid\")].index\n",
    "\n",
    "laptops_train = laptops_train.drop(descartes_train)\n",
    "laptops_test = laptops_test.drop(descartes_test)\n",
    "\n",
    "print(\"Valores descartados:\")\n",
    "print(\"Train:\"+str(len(descartes_train)))\n",
    "print(\"Test:\"+str(len(descartes_test)))"
   ]
  },
  {
   "cell_type": "code",
   "execution_count": null,
   "id": "8b54ab3d-4fce-410d-a11e-27373af9fe97",
   "metadata": {},
   "outputs": [],
   "source": [
    "# Convertimos \"Flash Storage\" a \"SSD\"\n",
    "\n",
    "def convertir_a_ssd(storage_string):\n",
    "    return storage_string.replace(\"Flash Storage\", \"SSD\")\n",
    "\n",
    "laptops_train[\"storage\"] = laptops_train[\"storage\"].apply(convertir_a_ssd)\n",
    "laptops_test[\"storage\"] = laptops_test[\"storage\"].apply(convertir_a_ssd)"
   ]
  },
  {
   "cell_type": "code",
   "execution_count": null,
   "id": "ff928a57-1d59-4eaf-8d4c-b0ac425385cd",
   "metadata": {},
   "outputs": [],
   "source": [
    "# Función para obtener los GB de SSD y HDD\n",
    "\n",
    "def separar_unidades_almacenamiento(storage_string, medio):\n",
    "    if \"+\" in storage_string:\n",
    "        storage_string = \" \".join(storage_string.split(\"+\"))\n",
    "    storage_array = storage_string.split()\n",
    "    \n",
    "    if medio == \"S\" and \"SSD\" in storage_array:\n",
    "        ssd = 0\n",
    "        for index, string in enumerate(storage_array):\n",
    "            if string == \"SSD\":\n",
    "                drive_capacity = storage_array[index-1]\n",
    "                multiplier = 1\n",
    "                if \"TB\" in drive_capacity:\n",
    "                    multiplier = 1024\n",
    "                ssd += int(drive_capacity.strip('GTB ')) * multiplier\n",
    "        return ssd\n",
    "    \n",
    "    if medio == \"H\" and \"HDD\" in storage_array:\n",
    "        hdd = 0\n",
    "        for index, string in enumerate(storage_array):\n",
    "            if string == \"HDD\":\n",
    "                drive_capacity = storage_array[index-1]\n",
    "                multiplier = 1\n",
    "                if \"TB\" in drive_capacity:\n",
    "                    multiplier = 1024\n",
    "                hdd += int(drive_capacity.strip('GTB ')) * multiplier\n",
    "        return hdd\n",
    "    return 0"
   ]
  },
  {
   "cell_type": "code",
   "execution_count": null,
   "id": "4a9b0542-4320-4420-9837-bb7ffc0396fb",
   "metadata": {},
   "outputs": [],
   "source": [
    "# Creación de la columna gb_ssd\n",
    "\n",
    "laptops_train.insert(9, \"gb_ssd\", laptops_train[\"storage\"].apply(separar_unidades_almacenamiento, args=(\"S\")))\n",
    "laptops_test.insert(9, \"gb_ssd\", laptops_test[\"storage\"].apply(separar_unidades_almacenamiento, args=(\"S\")))"
   ]
  },
  {
   "cell_type": "code",
   "execution_count": null,
   "id": "f94cbc31-d3bf-483c-99b8-d2d36f5f500d",
   "metadata": {},
   "outputs": [],
   "source": [
    "# Creación de la columna gb_hdd\n",
    "\n",
    "laptops_train.insert(10, \"gb_hdd\", laptops_train[\"storage\"].apply(separar_unidades_almacenamiento, args=(\"H\")))\n",
    "laptops_test.insert(10, \"gb_hdd\", laptops_test[\"storage\"].apply(separar_unidades_almacenamiento, args=(\"H\")))"
   ]
  },
  {
   "cell_type": "code",
   "execution_count": null,
   "id": "bce35c82-198d-494f-a882-b2a65a0ba540",
   "metadata": {},
   "outputs": [],
   "source": [
    "# Se elimina la columna \"storage\" debido a que su información relevante ya fue transferida a las nuevas columnas\n",
    "\n",
    "laptops_train = laptops_train.drop(columns=\"storage\")\n",
    "laptops_test = laptops_test.drop(columns=\"storage\")"
   ]
  },
  {
   "cell_type": "code",
   "execution_count": null,
   "id": "5106e65e-c8f6-4894-aa7a-f3bb9dfc9fab",
   "metadata": {},
   "outputs": [],
   "source": [
    "laptops_train"
   ]
  },
  {
   "cell_type": "code",
   "execution_count": null,
   "id": "766734f6-e505-4517-b934-6f66e3472d2c",
   "metadata": {
    "scrolled": true
   },
   "outputs": [],
   "source": [
    "px.scatter_3d(laptops_train, x=\"gb_ssd\", y=\"gb_hdd\", z=\"price_range\", color=\"price_range\")"
   ]
  },
  {
   "cell_type": "markdown",
   "id": "aa174db2-bf21-43cd-9f56-97d199f09ff9",
   "metadata": {},
   "source": [
    "### GPU"
   ]
  },
  {
   "cell_type": "code",
   "execution_count": null,
   "id": "838fc264-ec64-40f0-a443-fdadd273cb1c",
   "metadata": {},
   "outputs": [],
   "source": [
    "px.histogram(laptops_train, x=\"gpu\", color=\"price_range\", height=600)"
   ]
  },
  {
   "cell_type": "markdown",
   "id": "3ef7e9ce-35dd-4688-ac69-bdab43b09dbc",
   "metadata": {},
   "source": [
    "Las GPU mas caras resultan ser las pertenecientes a NVidia, aumentando el precio con las gpu mas modernas. La mas comun en el dataset son las de Intel HD Graphics."
   ]
  },
  {
   "cell_type": "markdown",
   "id": "58517c05-650b-433e-9f69-fee01ec0e8a5",
   "metadata": {},
   "source": [
    "### OS"
   ]
  },
  {
   "cell_type": "code",
   "execution_count": null,
   "id": "5f0228b9-66fc-426b-8ff3-c77ce0992775",
   "metadata": {},
   "outputs": [],
   "source": [
    "px.histogram(laptops_train, x=\"os\", color=\"price_range\")"
   ]
  },
  {
   "cell_type": "markdown",
   "id": "64f28bff-e0e3-40a8-8455-2bfe9bafa156",
   "metadata": {},
   "source": [
    "La gran mayoria de las laptops tiene como sistema operativo a Windows. Se aprecia una discrepancia al haber dos columnas de mac OS, lo cual resolvemos con la siguiente operación"
   ]
  },
  {
   "cell_type": "code",
   "execution_count": null,
   "id": "96091ead-5057-4c7d-a314-7412b8321ff5",
   "metadata": {},
   "outputs": [],
   "source": [
    "# Normalización de nombres de macOS\n",
    "\n",
    "def acomodar_nombre_os(nombre):\n",
    "    if nombre == \"Mac OS\":\n",
    "        nombre = \"macOS\"\n",
    "    return nombre\n",
    "\n",
    "laptops_train[\"os\"] = laptops_train[\"os\"].apply(acomodar_nombre_os)\n",
    "laptops_test[\"os\"] = laptops_test[\"os\"].apply(acomodar_nombre_os)"
   ]
  },
  {
   "cell_type": "code",
   "execution_count": null,
   "id": "de32b21f-9eca-4018-a6ba-129b08759145",
   "metadata": {},
   "outputs": [],
   "source": [
    "px.histogram(laptops_train, x=\"os\", color=\"price_range\")"
   ]
  },
  {
   "cell_type": "markdown",
   "id": "5a977303-3e85-4bc6-9da8-a4481eed41e0",
   "metadata": {
    "editable": true,
    "slideshow": {
     "slide_type": ""
    },
    "tags": []
   },
   "source": [
    "### Weight"
   ]
  },
  {
   "cell_type": "code",
   "execution_count": null,
   "id": "3f9f9226-549a-4480-a452-39cea0af765f",
   "metadata": {},
   "outputs": [],
   "source": [
    "px.histogram(laptops_train, x=\"weight\", color=\"price_range\").update_xaxes(categoryorder=\"category ascending\")"
   ]
  },
  {
   "cell_type": "markdown",
   "id": "dbb5f347-348d-4f58-880b-ee60cd3816a5",
   "metadata": {},
   "source": [
    "En cuanto al peso, se puede notar como la mayoria de los equipos pesan 2.2kg, marcando su precio como \"bajo\".\n",
    "Observando la grafica podemos ver como el precio aumenta extremos, manteniendose en un precio bajo en los pesos intermedios"
   ]
  },
  {
   "cell_type": "code",
   "execution_count": null,
   "id": "6450e3b7-ecac-4ee3-92ef-1d2d698663be",
   "metadata": {},
   "outputs": [],
   "source": [
    "# Conversión de pesos a floats\n",
    "\n",
    "def convertir_peso(peso):\n",
    "    return float(peso.strip('kgs '))\n",
    "\n",
    "laptops_train[\"weight\"] = laptops_train[\"weight\"].apply(convertir_peso)\n",
    "laptops_test[\"weight\"] = laptops_test[\"weight\"].apply(convertir_peso)"
   ]
  },
  {
   "cell_type": "code",
   "execution_count": null,
   "id": "5ba09187-f022-4e2e-b494-276167ea65ee",
   "metadata": {},
   "outputs": [],
   "source": [
    "px.histogram(laptops_train, x=\"weight\", color=\"price_range\")"
   ]
  },
  {
   "cell_type": "markdown",
   "id": "2a37221f-c73f-4401-b69d-27da55c0e4e0",
   "metadata": {},
   "source": [
    "## Listado de dudas/preguntas para el proveedor del dataset\n",
    "\n",
    "* De que fuentes provienen estos precios? y que metodos fueron utilizados para recolectarlos?\n",
    "* Porque la columna de SO Type tiene tantos valores nulos?\n",
    "* Pensas que el tipo de SO afecta al precio?\n",
    "* Pensas que existen otros factores que afecten el precio de una laptop? como serían el material de chasis, distribución de teclado, etc.\n",
    "* Cual crees que es la variable que mas afecta al precio de una laptop?\n",
    "* Omitiste alguna variable al creear el dataset?"
   ]
  },
  {
   "cell_type": "markdown",
   "id": "ff2f5a6f-a2a5-4d3e-b101-379582d2a298",
   "metadata": {},
   "source": [
    "## 3 - Hipotesis sobre los datos\n",
    "\n",
    "* Pensamos que la variable OS influye poco sobre el rango de precio final\n",
    "* Creemos que las variables mas influyentes son GPU, Storage, RAM y CPU\n",
    "* La variable Category se ve afectada principalmente por el GPU? "
   ]
  },
  {
   "cell_type": "markdown",
   "id": "46474d40-a775-421f-8953-f42f36d0d68d",
   "metadata": {},
   "source": [
    "## Comprobacion de la hipotesis"
   ]
  },
  {
   "cell_type": "markdown",
   "id": "f310b814-6339-4f4b-8a05-e870fa47fbb0",
   "metadata": {},
   "source": [
    "## Creacion de nuevas variables"
   ]
  },
  {
   "cell_type": "markdown",
   "id": "6bedd662-5507-40ff-b856-90fb87b9756e",
   "metadata": {},
   "source": [
    "## 4 - Modelado"
   ]
  },
  {
   "cell_type": "code",
   "execution_count": null,
   "id": "315492e6-b0e0-40e9-b7f1-f88354ecb13f",
   "metadata": {},
   "outputs": [],
   "source": []
  }
 ],
 "metadata": {
  "kernelspec": {
   "display_name": "Python 3 (ipykernel)",
   "language": "python",
   "name": "python3"
  },
  "language_info": {
   "codemirror_mode": {
    "name": "ipython",
    "version": 3
   },
   "file_extension": ".py",
   "mimetype": "text/x-python",
   "name": "python",
   "nbconvert_exporter": "python",
   "pygments_lexer": "ipython3",
   "version": "3.12.5"
  }
 },
 "nbformat": 4,
 "nbformat_minor": 5
}
