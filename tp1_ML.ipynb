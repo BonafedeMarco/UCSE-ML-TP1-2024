{
 "cells": [
  {
   "cell_type": "markdown",
   "id": "4da6622e-79fa-4753-acb1-8573cc2ec73c",
   "metadata": {},
   "source": [
    "# 1 - Listado de variables y selección\n",
    "\n",
    "## Entrada\n",
    "* Manufacturer: Marca / fabricante del equipo\n",
    "* Model Name: Nombre / número de modelo del equipo\n",
    "* Category: Tipo de notebook\n",
    "* Screen Size: Tamaño diagonal de la pantalla en pulgadas\n",
    "* Screen Type: Resolución y tipo de panel\n",
    "* CPU: Modelo de procesador\n",
    "* RAM: Capacidad de memoria\n",
    "* Storage: Tipo y tamaño de almacenamiento interno\n",
    "* GPU: Tipo y modelo de procesador de gráficos\n",
    "* OS: Sistema operativo\n",
    "* Weight: Peso\n",
    "\n",
    "## Salida\n",
    "* Price: Será reducida con rangos a valores \"bajo\", \"medio\" o \"alto\"\n",
    "\n",
    "## No utilizadas\n",
    "* OS Version: No usada debido a su gran cantidad de nulos y presunta poca importancia"
   ]
  },
  {
   "cell_type": "markdown",
   "id": "3050e4c0-e31f-4d53-9c57-2396b4dada74",
   "metadata": {},
   "source": [
    "# 2 - Análisis detallado de un conjunto de variables\n"
   ]
  },
  {
   "cell_type": "code",
   "execution_count": 1,
   "id": "107908e8-078c-466b-b0e2-3f46cf5a29ef",
   "metadata": {},
   "outputs": [],
   "source": [
    "import matplotlib as plt"
   ]
  },
  {
   "cell_type": "code",
   "execution_count": null,
   "id": "fe60df96-b6dd-496e-b0ba-fee948739965",
   "metadata": {},
   "outputs": [],
   "source": []
  }
 ],
 "metadata": {
  "kernelspec": {
   "display_name": "Python 3 (ipykernel)",
   "language": "python",
   "name": "python3"
  },
  "language_info": {
   "codemirror_mode": {
    "name": "ipython",
    "version": 3
   },
   "file_extension": ".py",
   "mimetype": "text/x-python",
   "name": "python",
   "nbconvert_exporter": "python",
   "pygments_lexer": "ipython3",
   "version": "3.12.5"
  }
 },
 "nbformat": 4,
 "nbformat_minor": 5
}
