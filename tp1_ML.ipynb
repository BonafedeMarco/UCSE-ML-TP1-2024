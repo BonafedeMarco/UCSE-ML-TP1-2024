{
 "cells": [
  {
   "cell_type": "markdown",
   "id": "4da6622e-79fa-4753-acb1-8573cc2ec73c",
   "metadata": {},
   "source": [
    "# 1 - Listado de variables y selección\n",
    "\n",
    "## Entrada\n",
    "* Manufacturer: Marca / fabricante del equipo\n",
    "* Model Name: Nombre / número de modelo del equipo\n",
    "* Category: Tipo de notebook\n",
    "* Screen Size: Tamaño diagonal de la pantalla en pulgadas\n",
    "* Screen Type: Resolución y tipo de panel\n",
    "* CPU: Modelo de procesador\n",
    "* RAM: Capacidad de memoria\n",
    "* Storage: Tipo y tamaño de almacenamiento interno\n",
    "* GPU: Tipo y modelo de procesador de gráficos\n",
    "* OS: Sistema operativo\n",
    "* Weight: Peso\n",
    "\n",
    "## Salida\n",
    "* Price: Será reducida con rangos a valores \"bajo\", \"medio\" o \"alto\"\n",
    "\n",
    "## No utilizadas\n",
    "* OS Version: No usada debido a su gran cantidad de nulos y presunta poca importancia"
   ]
  },
  {
   "cell_type": "markdown",
   "id": "3050e4c0-e31f-4d53-9c57-2396b4dada74",
   "metadata": {},
   "source": [
    "# 2 - Análisis detallado de un conjunto de variables\n"
   ]
  },
  {
   "cell_type": "code",
   "execution_count": 124,
   "id": "7fb1e001-fc54-4fed-a971-db7fa28f29d8",
   "metadata": {},
   "outputs": [],
   "source": [
    "import pandas as pd"
   ]
  },
  {
   "cell_type": "code",
   "execution_count": 125,
   "id": "d008d871-5090-4c28-ae9c-2996fff72252",
   "metadata": {},
   "outputs": [],
   "source": [
    "laptops_train = pd.read_csv('laptops_train.csv')\n",
    "laptops_test = pd.read_csv('laptops_test.csv')"
   ]
  },
  {
   "cell_type": "code",
   "execution_count": 126,
   "id": "bd454cda-a531-461e-aff6-24e25eaae7b3",
   "metadata": {},
   "outputs": [
    {
     "name": "stdout",
     "output_type": "stream",
     "text": [
      "Entries de train: 977\n",
      "Entries de test: 325\n"
     ]
    }
   ],
   "source": [
    "print(\"Entries de train: \"+str(len(laptops_train)))\n",
    "print(\"Entries de test: \"+str(len(laptops_test)))"
   ]
  },
  {
   "cell_type": "code",
   "execution_count": 127,
   "id": "af739fd0-b4af-406a-a565-47279ed3942d",
   "metadata": {},
   "outputs": [
    {
     "data": {
      "text/plain": [
       "Manufacturer                  0\n",
       "Model Name                    0\n",
       "Category                      0\n",
       "Screen Size                   0\n",
       "Screen                        0\n",
       "CPU                           0\n",
       "RAM                           0\n",
       " Storage                      0\n",
       "GPU                           0\n",
       "Operating System              0\n",
       "Operating System Version    136\n",
       "Weight                        0\n",
       "Price                         0\n",
       "dtype: int64"
      ]
     },
     "execution_count": 127,
     "metadata": {},
     "output_type": "execute_result"
    }
   ],
   "source": [
    "laptops_train.isnull().sum()"
   ]
  },
  {
   "cell_type": "code",
   "execution_count": 128,
   "id": "7e9787de-0959-4a72-b157-eebb6219e24d",
   "metadata": {},
   "outputs": [
    {
     "data": {
      "text/plain": [
       "Manufacturer                 0\n",
       "Model Name                   0\n",
       "Category                     0\n",
       "Screen Size                  0\n",
       "Screen                       0\n",
       "CPU                          0\n",
       "RAM                          0\n",
       " Storage                     0\n",
       "GPU                          0\n",
       "Operating System             0\n",
       "Operating System Version    34\n",
       "Weight                       0\n",
       "Price                        0\n",
       "dtype: int64"
      ]
     },
     "execution_count": 128,
     "metadata": {},
     "output_type": "execute_result"
    }
   ],
   "source": [
    "laptops_test.isnull().sum()"
   ]
  },
  {
   "cell_type": "code",
   "execution_count": 129,
   "id": "5fe44481-ef9e-4727-a665-5d3e7316f862",
   "metadata": {
    "scrolled": true
   },
   "outputs": [
    {
     "data": {
      "text/html": [
       "<div>\n",
       "<style scoped>\n",
       "    .dataframe tbody tr th:only-of-type {\n",
       "        vertical-align: middle;\n",
       "    }\n",
       "\n",
       "    .dataframe tbody tr th {\n",
       "        vertical-align: top;\n",
       "    }\n",
       "\n",
       "    .dataframe thead th {\n",
       "        text-align: right;\n",
       "    }\n",
       "</style>\n",
       "<table border=\"1\" class=\"dataframe\">\n",
       "  <thead>\n",
       "    <tr style=\"text-align: right;\">\n",
       "      <th></th>\n",
       "      <th>Manufacturer</th>\n",
       "      <th>Model Name</th>\n",
       "      <th>Category</th>\n",
       "      <th>Screen Size</th>\n",
       "      <th>Screen</th>\n",
       "      <th>CPU</th>\n",
       "      <th>RAM</th>\n",
       "      <th>Storage</th>\n",
       "      <th>GPU</th>\n",
       "      <th>Operating System</th>\n",
       "      <th>Operating System Version</th>\n",
       "      <th>Weight</th>\n",
       "      <th>Price</th>\n",
       "    </tr>\n",
       "  </thead>\n",
       "  <tbody>\n",
       "    <tr>\n",
       "      <th>0</th>\n",
       "      <td>Apple</td>\n",
       "      <td>MacBook Pro</td>\n",
       "      <td>Ultrabook</td>\n",
       "      <td>13.3\"</td>\n",
       "      <td>IPS Panel Retina Display 2560x1600</td>\n",
       "      <td>Intel Core i5 2.3GHz</td>\n",
       "      <td>8GB</td>\n",
       "      <td>128GB SSD</td>\n",
       "      <td>Intel Iris Plus Graphics 640</td>\n",
       "      <td>macOS</td>\n",
       "      <td>NaN</td>\n",
       "      <td>1.37kg</td>\n",
       "      <td>11912523.48</td>\n",
       "    </tr>\n",
       "    <tr>\n",
       "      <th>1</th>\n",
       "      <td>Apple</td>\n",
       "      <td>Macbook Air</td>\n",
       "      <td>Ultrabook</td>\n",
       "      <td>13.3\"</td>\n",
       "      <td>1440x900</td>\n",
       "      <td>Intel Core i5 1.8GHz</td>\n",
       "      <td>8GB</td>\n",
       "      <td>128GB Flash Storage</td>\n",
       "      <td>Intel HD Graphics 6000</td>\n",
       "      <td>macOS</td>\n",
       "      <td>NaN</td>\n",
       "      <td>1.34kg</td>\n",
       "      <td>7993374.48</td>\n",
       "    </tr>\n",
       "    <tr>\n",
       "      <th>2</th>\n",
       "      <td>HP</td>\n",
       "      <td>250 G6</td>\n",
       "      <td>Notebook</td>\n",
       "      <td>15.6\"</td>\n",
       "      <td>Full HD 1920x1080</td>\n",
       "      <td>Intel Core i5 7200U 2.5GHz</td>\n",
       "      <td>8GB</td>\n",
       "      <td>256GB SSD</td>\n",
       "      <td>Intel HD Graphics 620</td>\n",
       "      <td>No OS</td>\n",
       "      <td>NaN</td>\n",
       "      <td>1.86kg</td>\n",
       "      <td>5112900.00</td>\n",
       "    </tr>\n",
       "    <tr>\n",
       "      <th>3</th>\n",
       "      <td>Apple</td>\n",
       "      <td>MacBook Pro</td>\n",
       "      <td>Ultrabook</td>\n",
       "      <td>15.4\"</td>\n",
       "      <td>IPS Panel Retina Display 2880x1800</td>\n",
       "      <td>Intel Core i7 2.7GHz</td>\n",
       "      <td>16GB</td>\n",
       "      <td>512GB SSD</td>\n",
       "      <td>AMD Radeon Pro 455</td>\n",
       "      <td>macOS</td>\n",
       "      <td>NaN</td>\n",
       "      <td>1.83kg</td>\n",
       "      <td>22563005.40</td>\n",
       "    </tr>\n",
       "    <tr>\n",
       "      <th>4</th>\n",
       "      <td>Apple</td>\n",
       "      <td>MacBook Pro</td>\n",
       "      <td>Ultrabook</td>\n",
       "      <td>13.3\"</td>\n",
       "      <td>IPS Panel Retina Display 2560x1600</td>\n",
       "      <td>Intel Core i5 3.1GHz</td>\n",
       "      <td>8GB</td>\n",
       "      <td>256GB SSD</td>\n",
       "      <td>Intel Iris Plus Graphics 650</td>\n",
       "      <td>macOS</td>\n",
       "      <td>NaN</td>\n",
       "      <td>1.37kg</td>\n",
       "      <td>16037611.20</td>\n",
       "    </tr>\n",
       "    <tr>\n",
       "      <th>...</th>\n",
       "      <td>...</td>\n",
       "      <td>...</td>\n",
       "      <td>...</td>\n",
       "      <td>...</td>\n",
       "      <td>...</td>\n",
       "      <td>...</td>\n",
       "      <td>...</td>\n",
       "      <td>...</td>\n",
       "      <td>...</td>\n",
       "      <td>...</td>\n",
       "      <td>...</td>\n",
       "      <td>...</td>\n",
       "      <td>...</td>\n",
       "    </tr>\n",
       "    <tr>\n",
       "      <th>972</th>\n",
       "      <td>Dell</td>\n",
       "      <td>Alienware 17</td>\n",
       "      <td>Gaming</td>\n",
       "      <td>17.3\"</td>\n",
       "      <td>Full HD 1920x1080</td>\n",
       "      <td>Intel Core i7 6700HQ 2.6GHz</td>\n",
       "      <td>32GB</td>\n",
       "      <td>256GB SSD +  1TB HDD</td>\n",
       "      <td>Nvidia GeForce GTX 1070</td>\n",
       "      <td>Windows</td>\n",
       "      <td>10</td>\n",
       "      <td>4.42kg</td>\n",
       "      <td>24897600.00</td>\n",
       "    </tr>\n",
       "    <tr>\n",
       "      <th>973</th>\n",
       "      <td>Toshiba</td>\n",
       "      <td>Tecra A40-C-1DF</td>\n",
       "      <td>Notebook</td>\n",
       "      <td>14.0\"</td>\n",
       "      <td>Full HD 1920x1080</td>\n",
       "      <td>Intel Core i5 6200U 2.3GHz</td>\n",
       "      <td>8GB</td>\n",
       "      <td>256GB SSD</td>\n",
       "      <td>Intel HD Graphics 520</td>\n",
       "      <td>Windows</td>\n",
       "      <td>10</td>\n",
       "      <td>1.95kg</td>\n",
       "      <td>10492560.00</td>\n",
       "    </tr>\n",
       "    <tr>\n",
       "      <th>974</th>\n",
       "      <td>Asus</td>\n",
       "      <td>Rog Strix</td>\n",
       "      <td>Gaming</td>\n",
       "      <td>17.3\"</td>\n",
       "      <td>Full HD 1920x1080</td>\n",
       "      <td>Intel Core i7 7700HQ 2.8GHz</td>\n",
       "      <td>16GB</td>\n",
       "      <td>256GB SSD +  1TB HDD</td>\n",
       "      <td>Nvidia GeForce GTX 1060</td>\n",
       "      <td>Windows</td>\n",
       "      <td>10</td>\n",
       "      <td>2.73kg</td>\n",
       "      <td>18227710.80</td>\n",
       "    </tr>\n",
       "    <tr>\n",
       "      <th>975</th>\n",
       "      <td>HP</td>\n",
       "      <td>Probook 450</td>\n",
       "      <td>Notebook</td>\n",
       "      <td>15.6\"</td>\n",
       "      <td>IPS Panel Full HD 1920x1080</td>\n",
       "      <td>Intel Core i5 7200U 2.70GHz</td>\n",
       "      <td>8GB</td>\n",
       "      <td>128GB SSD +  1TB HDD</td>\n",
       "      <td>Nvidia GeForce 930MX</td>\n",
       "      <td>Windows</td>\n",
       "      <td>10</td>\n",
       "      <td>2.04kg</td>\n",
       "      <td>8705268.00</td>\n",
       "    </tr>\n",
       "    <tr>\n",
       "      <th>976</th>\n",
       "      <td>Lenovo</td>\n",
       "      <td>ThinkPad T460</td>\n",
       "      <td>Notebook</td>\n",
       "      <td>14.0\"</td>\n",
       "      <td>1366x768</td>\n",
       "      <td>Intel Core i5 6200U 2.3GHz</td>\n",
       "      <td>4GB</td>\n",
       "      <td>508GB Hybrid</td>\n",
       "      <td>Intel HD Graphics 520</td>\n",
       "      <td>Windows</td>\n",
       "      <td>7</td>\n",
       "      <td>1.70kg</td>\n",
       "      <td>8909784.00</td>\n",
       "    </tr>\n",
       "  </tbody>\n",
       "</table>\n",
       "<p>977 rows × 13 columns</p>\n",
       "</div>"
      ],
      "text/plain": [
       "    Manufacturer       Model Name   Category Screen Size  \\\n",
       "0          Apple      MacBook Pro  Ultrabook       13.3\"   \n",
       "1          Apple      Macbook Air  Ultrabook       13.3\"   \n",
       "2             HP           250 G6   Notebook       15.6\"   \n",
       "3          Apple      MacBook Pro  Ultrabook       15.4\"   \n",
       "4          Apple      MacBook Pro  Ultrabook       13.3\"   \n",
       "..           ...              ...        ...         ...   \n",
       "972         Dell     Alienware 17     Gaming       17.3\"   \n",
       "973      Toshiba  Tecra A40-C-1DF   Notebook       14.0\"   \n",
       "974         Asus        Rog Strix     Gaming       17.3\"   \n",
       "975           HP      Probook 450   Notebook       15.6\"   \n",
       "976       Lenovo    ThinkPad T460   Notebook       14.0\"   \n",
       "\n",
       "                                 Screen                          CPU   RAM  \\\n",
       "0    IPS Panel Retina Display 2560x1600         Intel Core i5 2.3GHz   8GB   \n",
       "1                              1440x900         Intel Core i5 1.8GHz   8GB   \n",
       "2                     Full HD 1920x1080   Intel Core i5 7200U 2.5GHz   8GB   \n",
       "3    IPS Panel Retina Display 2880x1800         Intel Core i7 2.7GHz  16GB   \n",
       "4    IPS Panel Retina Display 2560x1600         Intel Core i5 3.1GHz   8GB   \n",
       "..                                  ...                          ...   ...   \n",
       "972                   Full HD 1920x1080  Intel Core i7 6700HQ 2.6GHz  32GB   \n",
       "973                   Full HD 1920x1080   Intel Core i5 6200U 2.3GHz   8GB   \n",
       "974                   Full HD 1920x1080  Intel Core i7 7700HQ 2.8GHz  16GB   \n",
       "975         IPS Panel Full HD 1920x1080  Intel Core i5 7200U 2.70GHz   8GB   \n",
       "976                            1366x768   Intel Core i5 6200U 2.3GHz   4GB   \n",
       "\n",
       "                  Storage                           GPU Operating System  \\\n",
       "0               128GB SSD  Intel Iris Plus Graphics 640            macOS   \n",
       "1     128GB Flash Storage        Intel HD Graphics 6000            macOS   \n",
       "2               256GB SSD         Intel HD Graphics 620            No OS   \n",
       "3               512GB SSD            AMD Radeon Pro 455            macOS   \n",
       "4               256GB SSD  Intel Iris Plus Graphics 650            macOS   \n",
       "..                    ...                           ...              ...   \n",
       "972  256GB SSD +  1TB HDD       Nvidia GeForce GTX 1070          Windows   \n",
       "973             256GB SSD         Intel HD Graphics 520          Windows   \n",
       "974  256GB SSD +  1TB HDD       Nvidia GeForce GTX 1060          Windows   \n",
       "975  128GB SSD +  1TB HDD          Nvidia GeForce 930MX          Windows   \n",
       "976          508GB Hybrid         Intel HD Graphics 520          Windows   \n",
       "\n",
       "    Operating System Version  Weight        Price  \n",
       "0                        NaN  1.37kg  11912523.48  \n",
       "1                        NaN  1.34kg   7993374.48  \n",
       "2                        NaN  1.86kg   5112900.00  \n",
       "3                        NaN  1.83kg  22563005.40  \n",
       "4                        NaN  1.37kg  16037611.20  \n",
       "..                       ...     ...          ...  \n",
       "972                       10  4.42kg  24897600.00  \n",
       "973                       10  1.95kg  10492560.00  \n",
       "974                       10  2.73kg  18227710.80  \n",
       "975                       10  2.04kg   8705268.00  \n",
       "976                        7  1.70kg   8909784.00  \n",
       "\n",
       "[977 rows x 13 columns]"
      ]
     },
     "execution_count": 129,
     "metadata": {},
     "output_type": "execute_result"
    }
   ],
   "source": [
    "laptops_train"
   ]
  },
  {
   "cell_type": "code",
   "execution_count": 130,
   "id": "5952abb6-852b-4678-8fab-124b3dddb799",
   "metadata": {},
   "outputs": [],
   "source": [
    "# Renombre de las series\n",
    "new_col_names = {\n",
    "    \"Manufacturer\":\"manufacturer\",\n",
    "    \"Model Name\":\"model\",\n",
    "    \"Category\":\"category\",\n",
    "    \"Screen Size\":\"screen_size\",\n",
    "    \"Screen\":\"resolution\",\n",
    "    \"CPU\":\"cpu\",\n",
    "    \"RAM\":\"ram\",\n",
    "    \" Storage\":\"storage\", # la string original tiene el espacio, sin eso no lo cambia\n",
    "    \"GPU\":\"gpu\",\n",
    "    \"Operating System\":\"os\",\n",
    "    #\"Operating System Version\":\"os_version\",\n",
    "    \"Weight\":\"weight\",\n",
    "    \"Price\":\"price\"\n",
    "}\n",
    "\n",
    "laptops_train = laptops_train.rename(columns=new_col_names).drop(columns=\"Operating System Version\")\n",
    "laptops_test = laptops_test.rename(columns=new_col_names).drop(columns=\"Operating System Version\")"
   ]
  },
  {
   "cell_type": "code",
   "execution_count": 131,
   "id": "1c15d532-d226-47aa-9a0f-2228a2809ccd",
   "metadata": {
    "scrolled": true
   },
   "outputs": [
    {
     "data": {
      "text/html": [
       "<div>\n",
       "<style scoped>\n",
       "    .dataframe tbody tr th:only-of-type {\n",
       "        vertical-align: middle;\n",
       "    }\n",
       "\n",
       "    .dataframe tbody tr th {\n",
       "        vertical-align: top;\n",
       "    }\n",
       "\n",
       "    .dataframe thead th {\n",
       "        text-align: right;\n",
       "    }\n",
       "</style>\n",
       "<table border=\"1\" class=\"dataframe\">\n",
       "  <thead>\n",
       "    <tr style=\"text-align: right;\">\n",
       "      <th></th>\n",
       "      <th>manufacturer</th>\n",
       "      <th>model</th>\n",
       "      <th>category</th>\n",
       "      <th>screen_size</th>\n",
       "      <th>resolution</th>\n",
       "      <th>cpu</th>\n",
       "      <th>ram</th>\n",
       "      <th>storage</th>\n",
       "      <th>gpu</th>\n",
       "      <th>os</th>\n",
       "      <th>weight</th>\n",
       "      <th>price</th>\n",
       "    </tr>\n",
       "  </thead>\n",
       "  <tbody>\n",
       "    <tr>\n",
       "      <th>0</th>\n",
       "      <td>Apple</td>\n",
       "      <td>MacBook Pro</td>\n",
       "      <td>Ultrabook</td>\n",
       "      <td>13.3\"</td>\n",
       "      <td>IPS Panel Retina Display 2560x1600</td>\n",
       "      <td>Intel Core i5 2.3GHz</td>\n",
       "      <td>8GB</td>\n",
       "      <td>128GB SSD</td>\n",
       "      <td>Intel Iris Plus Graphics 640</td>\n",
       "      <td>macOS</td>\n",
       "      <td>1.37kg</td>\n",
       "      <td>11912523.48</td>\n",
       "    </tr>\n",
       "    <tr>\n",
       "      <th>1</th>\n",
       "      <td>Apple</td>\n",
       "      <td>Macbook Air</td>\n",
       "      <td>Ultrabook</td>\n",
       "      <td>13.3\"</td>\n",
       "      <td>1440x900</td>\n",
       "      <td>Intel Core i5 1.8GHz</td>\n",
       "      <td>8GB</td>\n",
       "      <td>128GB Flash Storage</td>\n",
       "      <td>Intel HD Graphics 6000</td>\n",
       "      <td>macOS</td>\n",
       "      <td>1.34kg</td>\n",
       "      <td>7993374.48</td>\n",
       "    </tr>\n",
       "    <tr>\n",
       "      <th>2</th>\n",
       "      <td>HP</td>\n",
       "      <td>250 G6</td>\n",
       "      <td>Notebook</td>\n",
       "      <td>15.6\"</td>\n",
       "      <td>Full HD 1920x1080</td>\n",
       "      <td>Intel Core i5 7200U 2.5GHz</td>\n",
       "      <td>8GB</td>\n",
       "      <td>256GB SSD</td>\n",
       "      <td>Intel HD Graphics 620</td>\n",
       "      <td>No OS</td>\n",
       "      <td>1.86kg</td>\n",
       "      <td>5112900.00</td>\n",
       "    </tr>\n",
       "    <tr>\n",
       "      <th>3</th>\n",
       "      <td>Apple</td>\n",
       "      <td>MacBook Pro</td>\n",
       "      <td>Ultrabook</td>\n",
       "      <td>15.4\"</td>\n",
       "      <td>IPS Panel Retina Display 2880x1800</td>\n",
       "      <td>Intel Core i7 2.7GHz</td>\n",
       "      <td>16GB</td>\n",
       "      <td>512GB SSD</td>\n",
       "      <td>AMD Radeon Pro 455</td>\n",
       "      <td>macOS</td>\n",
       "      <td>1.83kg</td>\n",
       "      <td>22563005.40</td>\n",
       "    </tr>\n",
       "    <tr>\n",
       "      <th>4</th>\n",
       "      <td>Apple</td>\n",
       "      <td>MacBook Pro</td>\n",
       "      <td>Ultrabook</td>\n",
       "      <td>13.3\"</td>\n",
       "      <td>IPS Panel Retina Display 2560x1600</td>\n",
       "      <td>Intel Core i5 3.1GHz</td>\n",
       "      <td>8GB</td>\n",
       "      <td>256GB SSD</td>\n",
       "      <td>Intel Iris Plus Graphics 650</td>\n",
       "      <td>macOS</td>\n",
       "      <td>1.37kg</td>\n",
       "      <td>16037611.20</td>\n",
       "    </tr>\n",
       "    <tr>\n",
       "      <th>...</th>\n",
       "      <td>...</td>\n",
       "      <td>...</td>\n",
       "      <td>...</td>\n",
       "      <td>...</td>\n",
       "      <td>...</td>\n",
       "      <td>...</td>\n",
       "      <td>...</td>\n",
       "      <td>...</td>\n",
       "      <td>...</td>\n",
       "      <td>...</td>\n",
       "      <td>...</td>\n",
       "      <td>...</td>\n",
       "    </tr>\n",
       "    <tr>\n",
       "      <th>972</th>\n",
       "      <td>Dell</td>\n",
       "      <td>Alienware 17</td>\n",
       "      <td>Gaming</td>\n",
       "      <td>17.3\"</td>\n",
       "      <td>Full HD 1920x1080</td>\n",
       "      <td>Intel Core i7 6700HQ 2.6GHz</td>\n",
       "      <td>32GB</td>\n",
       "      <td>256GB SSD +  1TB HDD</td>\n",
       "      <td>Nvidia GeForce GTX 1070</td>\n",
       "      <td>Windows</td>\n",
       "      <td>4.42kg</td>\n",
       "      <td>24897600.00</td>\n",
       "    </tr>\n",
       "    <tr>\n",
       "      <th>973</th>\n",
       "      <td>Toshiba</td>\n",
       "      <td>Tecra A40-C-1DF</td>\n",
       "      <td>Notebook</td>\n",
       "      <td>14.0\"</td>\n",
       "      <td>Full HD 1920x1080</td>\n",
       "      <td>Intel Core i5 6200U 2.3GHz</td>\n",
       "      <td>8GB</td>\n",
       "      <td>256GB SSD</td>\n",
       "      <td>Intel HD Graphics 520</td>\n",
       "      <td>Windows</td>\n",
       "      <td>1.95kg</td>\n",
       "      <td>10492560.00</td>\n",
       "    </tr>\n",
       "    <tr>\n",
       "      <th>974</th>\n",
       "      <td>Asus</td>\n",
       "      <td>Rog Strix</td>\n",
       "      <td>Gaming</td>\n",
       "      <td>17.3\"</td>\n",
       "      <td>Full HD 1920x1080</td>\n",
       "      <td>Intel Core i7 7700HQ 2.8GHz</td>\n",
       "      <td>16GB</td>\n",
       "      <td>256GB SSD +  1TB HDD</td>\n",
       "      <td>Nvidia GeForce GTX 1060</td>\n",
       "      <td>Windows</td>\n",
       "      <td>2.73kg</td>\n",
       "      <td>18227710.80</td>\n",
       "    </tr>\n",
       "    <tr>\n",
       "      <th>975</th>\n",
       "      <td>HP</td>\n",
       "      <td>Probook 450</td>\n",
       "      <td>Notebook</td>\n",
       "      <td>15.6\"</td>\n",
       "      <td>IPS Panel Full HD 1920x1080</td>\n",
       "      <td>Intel Core i5 7200U 2.70GHz</td>\n",
       "      <td>8GB</td>\n",
       "      <td>128GB SSD +  1TB HDD</td>\n",
       "      <td>Nvidia GeForce 930MX</td>\n",
       "      <td>Windows</td>\n",
       "      <td>2.04kg</td>\n",
       "      <td>8705268.00</td>\n",
       "    </tr>\n",
       "    <tr>\n",
       "      <th>976</th>\n",
       "      <td>Lenovo</td>\n",
       "      <td>ThinkPad T460</td>\n",
       "      <td>Notebook</td>\n",
       "      <td>14.0\"</td>\n",
       "      <td>1366x768</td>\n",
       "      <td>Intel Core i5 6200U 2.3GHz</td>\n",
       "      <td>4GB</td>\n",
       "      <td>508GB Hybrid</td>\n",
       "      <td>Intel HD Graphics 520</td>\n",
       "      <td>Windows</td>\n",
       "      <td>1.70kg</td>\n",
       "      <td>8909784.00</td>\n",
       "    </tr>\n",
       "  </tbody>\n",
       "</table>\n",
       "<p>977 rows × 12 columns</p>\n",
       "</div>"
      ],
      "text/plain": [
       "    manufacturer            model   category screen_size  \\\n",
       "0          Apple      MacBook Pro  Ultrabook       13.3\"   \n",
       "1          Apple      Macbook Air  Ultrabook       13.3\"   \n",
       "2             HP           250 G6   Notebook       15.6\"   \n",
       "3          Apple      MacBook Pro  Ultrabook       15.4\"   \n",
       "4          Apple      MacBook Pro  Ultrabook       13.3\"   \n",
       "..           ...              ...        ...         ...   \n",
       "972         Dell     Alienware 17     Gaming       17.3\"   \n",
       "973      Toshiba  Tecra A40-C-1DF   Notebook       14.0\"   \n",
       "974         Asus        Rog Strix     Gaming       17.3\"   \n",
       "975           HP      Probook 450   Notebook       15.6\"   \n",
       "976       Lenovo    ThinkPad T460   Notebook       14.0\"   \n",
       "\n",
       "                             resolution                          cpu   ram  \\\n",
       "0    IPS Panel Retina Display 2560x1600         Intel Core i5 2.3GHz   8GB   \n",
       "1                              1440x900         Intel Core i5 1.8GHz   8GB   \n",
       "2                     Full HD 1920x1080   Intel Core i5 7200U 2.5GHz   8GB   \n",
       "3    IPS Panel Retina Display 2880x1800         Intel Core i7 2.7GHz  16GB   \n",
       "4    IPS Panel Retina Display 2560x1600         Intel Core i5 3.1GHz   8GB   \n",
       "..                                  ...                          ...   ...   \n",
       "972                   Full HD 1920x1080  Intel Core i7 6700HQ 2.6GHz  32GB   \n",
       "973                   Full HD 1920x1080   Intel Core i5 6200U 2.3GHz   8GB   \n",
       "974                   Full HD 1920x1080  Intel Core i7 7700HQ 2.8GHz  16GB   \n",
       "975         IPS Panel Full HD 1920x1080  Intel Core i5 7200U 2.70GHz   8GB   \n",
       "976                            1366x768   Intel Core i5 6200U 2.3GHz   4GB   \n",
       "\n",
       "                  storage                           gpu       os  weight  \\\n",
       "0               128GB SSD  Intel Iris Plus Graphics 640    macOS  1.37kg   \n",
       "1     128GB Flash Storage        Intel HD Graphics 6000    macOS  1.34kg   \n",
       "2               256GB SSD         Intel HD Graphics 620    No OS  1.86kg   \n",
       "3               512GB SSD            AMD Radeon Pro 455    macOS  1.83kg   \n",
       "4               256GB SSD  Intel Iris Plus Graphics 650    macOS  1.37kg   \n",
       "..                    ...                           ...      ...     ...   \n",
       "972  256GB SSD +  1TB HDD       Nvidia GeForce GTX 1070  Windows  4.42kg   \n",
       "973             256GB SSD         Intel HD Graphics 520  Windows  1.95kg   \n",
       "974  256GB SSD +  1TB HDD       Nvidia GeForce GTX 1060  Windows  2.73kg   \n",
       "975  128GB SSD +  1TB HDD          Nvidia GeForce 930MX  Windows  2.04kg   \n",
       "976          508GB Hybrid         Intel HD Graphics 520  Windows  1.70kg   \n",
       "\n",
       "           price  \n",
       "0    11912523.48  \n",
       "1     7993374.48  \n",
       "2     5112900.00  \n",
       "3    22563005.40  \n",
       "4    16037611.20  \n",
       "..           ...  \n",
       "972  24897600.00  \n",
       "973  10492560.00  \n",
       "974  18227710.80  \n",
       "975   8705268.00  \n",
       "976   8909784.00  \n",
       "\n",
       "[977 rows x 12 columns]"
      ]
     },
     "execution_count": 131,
     "metadata": {},
     "output_type": "execute_result"
    }
   ],
   "source": [
    "laptops_train"
   ]
  },
  {
   "cell_type": "code",
   "execution_count": 132,
   "id": "f1d4fe45-cd1a-4bcb-97d9-028a68870ce7",
   "metadata": {},
   "outputs": [],
   "source": [
    "# Conversión de la variable de salida de rupias a dólares, tomando como base la cotización del 28/03/2023, según la última actualización del dataset\n",
    "# Se dividió por 100 el valor obtenido debido a que los precios convertidos con la cotización de referencia se encontraban fuera del rango esperado\n",
    "# Cotización: 1 INR = 0.0001217 USD\n",
    "\n",
    "\n",
    "cotizacion = 0.0001217\n",
    "\n",
    "def convertir_precio(precio):\n",
    "    return int(precio * cotizacion)\n",
    "\n",
    "laptops_train[\"price\"] = laptops_train[\"price\"].apply(convertir_precio)"
   ]
  },
  {
   "cell_type": "code",
   "execution_count": 133,
   "id": "2b06b65a-712a-4eb1-a22b-3fe009b71a05",
   "metadata": {},
   "outputs": [
    {
     "data": {
      "text/html": [
       "<div>\n",
       "<style scoped>\n",
       "    .dataframe tbody tr th:only-of-type {\n",
       "        vertical-align: middle;\n",
       "    }\n",
       "\n",
       "    .dataframe tbody tr th {\n",
       "        vertical-align: top;\n",
       "    }\n",
       "\n",
       "    .dataframe thead th {\n",
       "        text-align: right;\n",
       "    }\n",
       "</style>\n",
       "<table border=\"1\" class=\"dataframe\">\n",
       "  <thead>\n",
       "    <tr style=\"text-align: right;\">\n",
       "      <th></th>\n",
       "      <th>manufacturer</th>\n",
       "      <th>model</th>\n",
       "      <th>category</th>\n",
       "      <th>screen_size</th>\n",
       "      <th>resolution</th>\n",
       "      <th>cpu</th>\n",
       "      <th>ram</th>\n",
       "      <th>storage</th>\n",
       "      <th>gpu</th>\n",
       "      <th>os</th>\n",
       "      <th>weight</th>\n",
       "      <th>price</th>\n",
       "    </tr>\n",
       "  </thead>\n",
       "  <tbody>\n",
       "    <tr>\n",
       "      <th>0</th>\n",
       "      <td>Apple</td>\n",
       "      <td>MacBook Pro</td>\n",
       "      <td>Ultrabook</td>\n",
       "      <td>13.3\"</td>\n",
       "      <td>IPS Panel Retina Display 2560x1600</td>\n",
       "      <td>Intel Core i5 2.3GHz</td>\n",
       "      <td>8GB</td>\n",
       "      <td>128GB SSD</td>\n",
       "      <td>Intel Iris Plus Graphics 640</td>\n",
       "      <td>macOS</td>\n",
       "      <td>1.37kg</td>\n",
       "      <td>1449</td>\n",
       "    </tr>\n",
       "    <tr>\n",
       "      <th>1</th>\n",
       "      <td>Apple</td>\n",
       "      <td>Macbook Air</td>\n",
       "      <td>Ultrabook</td>\n",
       "      <td>13.3\"</td>\n",
       "      <td>1440x900</td>\n",
       "      <td>Intel Core i5 1.8GHz</td>\n",
       "      <td>8GB</td>\n",
       "      <td>128GB Flash Storage</td>\n",
       "      <td>Intel HD Graphics 6000</td>\n",
       "      <td>macOS</td>\n",
       "      <td>1.34kg</td>\n",
       "      <td>972</td>\n",
       "    </tr>\n",
       "    <tr>\n",
       "      <th>2</th>\n",
       "      <td>HP</td>\n",
       "      <td>250 G6</td>\n",
       "      <td>Notebook</td>\n",
       "      <td>15.6\"</td>\n",
       "      <td>Full HD 1920x1080</td>\n",
       "      <td>Intel Core i5 7200U 2.5GHz</td>\n",
       "      <td>8GB</td>\n",
       "      <td>256GB SSD</td>\n",
       "      <td>Intel HD Graphics 620</td>\n",
       "      <td>No OS</td>\n",
       "      <td>1.86kg</td>\n",
       "      <td>622</td>\n",
       "    </tr>\n",
       "    <tr>\n",
       "      <th>3</th>\n",
       "      <td>Apple</td>\n",
       "      <td>MacBook Pro</td>\n",
       "      <td>Ultrabook</td>\n",
       "      <td>15.4\"</td>\n",
       "      <td>IPS Panel Retina Display 2880x1800</td>\n",
       "      <td>Intel Core i7 2.7GHz</td>\n",
       "      <td>16GB</td>\n",
       "      <td>512GB SSD</td>\n",
       "      <td>AMD Radeon Pro 455</td>\n",
       "      <td>macOS</td>\n",
       "      <td>1.83kg</td>\n",
       "      <td>2745</td>\n",
       "    </tr>\n",
       "    <tr>\n",
       "      <th>4</th>\n",
       "      <td>Apple</td>\n",
       "      <td>MacBook Pro</td>\n",
       "      <td>Ultrabook</td>\n",
       "      <td>13.3\"</td>\n",
       "      <td>IPS Panel Retina Display 2560x1600</td>\n",
       "      <td>Intel Core i5 3.1GHz</td>\n",
       "      <td>8GB</td>\n",
       "      <td>256GB SSD</td>\n",
       "      <td>Intel Iris Plus Graphics 650</td>\n",
       "      <td>macOS</td>\n",
       "      <td>1.37kg</td>\n",
       "      <td>1951</td>\n",
       "    </tr>\n",
       "    <tr>\n",
       "      <th>...</th>\n",
       "      <td>...</td>\n",
       "      <td>...</td>\n",
       "      <td>...</td>\n",
       "      <td>...</td>\n",
       "      <td>...</td>\n",
       "      <td>...</td>\n",
       "      <td>...</td>\n",
       "      <td>...</td>\n",
       "      <td>...</td>\n",
       "      <td>...</td>\n",
       "      <td>...</td>\n",
       "      <td>...</td>\n",
       "    </tr>\n",
       "    <tr>\n",
       "      <th>972</th>\n",
       "      <td>Dell</td>\n",
       "      <td>Alienware 17</td>\n",
       "      <td>Gaming</td>\n",
       "      <td>17.3\"</td>\n",
       "      <td>Full HD 1920x1080</td>\n",
       "      <td>Intel Core i7 6700HQ 2.6GHz</td>\n",
       "      <td>32GB</td>\n",
       "      <td>256GB SSD +  1TB HDD</td>\n",
       "      <td>Nvidia GeForce GTX 1070</td>\n",
       "      <td>Windows</td>\n",
       "      <td>4.42kg</td>\n",
       "      <td>3030</td>\n",
       "    </tr>\n",
       "    <tr>\n",
       "      <th>973</th>\n",
       "      <td>Toshiba</td>\n",
       "      <td>Tecra A40-C-1DF</td>\n",
       "      <td>Notebook</td>\n",
       "      <td>14.0\"</td>\n",
       "      <td>Full HD 1920x1080</td>\n",
       "      <td>Intel Core i5 6200U 2.3GHz</td>\n",
       "      <td>8GB</td>\n",
       "      <td>256GB SSD</td>\n",
       "      <td>Intel HD Graphics 520</td>\n",
       "      <td>Windows</td>\n",
       "      <td>1.95kg</td>\n",
       "      <td>1276</td>\n",
       "    </tr>\n",
       "    <tr>\n",
       "      <th>974</th>\n",
       "      <td>Asus</td>\n",
       "      <td>Rog Strix</td>\n",
       "      <td>Gaming</td>\n",
       "      <td>17.3\"</td>\n",
       "      <td>Full HD 1920x1080</td>\n",
       "      <td>Intel Core i7 7700HQ 2.8GHz</td>\n",
       "      <td>16GB</td>\n",
       "      <td>256GB SSD +  1TB HDD</td>\n",
       "      <td>Nvidia GeForce GTX 1060</td>\n",
       "      <td>Windows</td>\n",
       "      <td>2.73kg</td>\n",
       "      <td>2218</td>\n",
       "    </tr>\n",
       "    <tr>\n",
       "      <th>975</th>\n",
       "      <td>HP</td>\n",
       "      <td>Probook 450</td>\n",
       "      <td>Notebook</td>\n",
       "      <td>15.6\"</td>\n",
       "      <td>IPS Panel Full HD 1920x1080</td>\n",
       "      <td>Intel Core i5 7200U 2.70GHz</td>\n",
       "      <td>8GB</td>\n",
       "      <td>128GB SSD +  1TB HDD</td>\n",
       "      <td>Nvidia GeForce 930MX</td>\n",
       "      <td>Windows</td>\n",
       "      <td>2.04kg</td>\n",
       "      <td>1059</td>\n",
       "    </tr>\n",
       "    <tr>\n",
       "      <th>976</th>\n",
       "      <td>Lenovo</td>\n",
       "      <td>ThinkPad T460</td>\n",
       "      <td>Notebook</td>\n",
       "      <td>14.0\"</td>\n",
       "      <td>1366x768</td>\n",
       "      <td>Intel Core i5 6200U 2.3GHz</td>\n",
       "      <td>4GB</td>\n",
       "      <td>508GB Hybrid</td>\n",
       "      <td>Intel HD Graphics 520</td>\n",
       "      <td>Windows</td>\n",
       "      <td>1.70kg</td>\n",
       "      <td>1084</td>\n",
       "    </tr>\n",
       "  </tbody>\n",
       "</table>\n",
       "<p>977 rows × 12 columns</p>\n",
       "</div>"
      ],
      "text/plain": [
       "    manufacturer            model   category screen_size  \\\n",
       "0          Apple      MacBook Pro  Ultrabook       13.3\"   \n",
       "1          Apple      Macbook Air  Ultrabook       13.3\"   \n",
       "2             HP           250 G6   Notebook       15.6\"   \n",
       "3          Apple      MacBook Pro  Ultrabook       15.4\"   \n",
       "4          Apple      MacBook Pro  Ultrabook       13.3\"   \n",
       "..           ...              ...        ...         ...   \n",
       "972         Dell     Alienware 17     Gaming       17.3\"   \n",
       "973      Toshiba  Tecra A40-C-1DF   Notebook       14.0\"   \n",
       "974         Asus        Rog Strix     Gaming       17.3\"   \n",
       "975           HP      Probook 450   Notebook       15.6\"   \n",
       "976       Lenovo    ThinkPad T460   Notebook       14.0\"   \n",
       "\n",
       "                             resolution                          cpu   ram  \\\n",
       "0    IPS Panel Retina Display 2560x1600         Intel Core i5 2.3GHz   8GB   \n",
       "1                              1440x900         Intel Core i5 1.8GHz   8GB   \n",
       "2                     Full HD 1920x1080   Intel Core i5 7200U 2.5GHz   8GB   \n",
       "3    IPS Panel Retina Display 2880x1800         Intel Core i7 2.7GHz  16GB   \n",
       "4    IPS Panel Retina Display 2560x1600         Intel Core i5 3.1GHz   8GB   \n",
       "..                                  ...                          ...   ...   \n",
       "972                   Full HD 1920x1080  Intel Core i7 6700HQ 2.6GHz  32GB   \n",
       "973                   Full HD 1920x1080   Intel Core i5 6200U 2.3GHz   8GB   \n",
       "974                   Full HD 1920x1080  Intel Core i7 7700HQ 2.8GHz  16GB   \n",
       "975         IPS Panel Full HD 1920x1080  Intel Core i5 7200U 2.70GHz   8GB   \n",
       "976                            1366x768   Intel Core i5 6200U 2.3GHz   4GB   \n",
       "\n",
       "                  storage                           gpu       os  weight  \\\n",
       "0               128GB SSD  Intel Iris Plus Graphics 640    macOS  1.37kg   \n",
       "1     128GB Flash Storage        Intel HD Graphics 6000    macOS  1.34kg   \n",
       "2               256GB SSD         Intel HD Graphics 620    No OS  1.86kg   \n",
       "3               512GB SSD            AMD Radeon Pro 455    macOS  1.83kg   \n",
       "4               256GB SSD  Intel Iris Plus Graphics 650    macOS  1.37kg   \n",
       "..                    ...                           ...      ...     ...   \n",
       "972  256GB SSD +  1TB HDD       Nvidia GeForce GTX 1070  Windows  4.42kg   \n",
       "973             256GB SSD         Intel HD Graphics 520  Windows  1.95kg   \n",
       "974  256GB SSD +  1TB HDD       Nvidia GeForce GTX 1060  Windows  2.73kg   \n",
       "975  128GB SSD +  1TB HDD          Nvidia GeForce 930MX  Windows  2.04kg   \n",
       "976          508GB Hybrid         Intel HD Graphics 520  Windows  1.70kg   \n",
       "\n",
       "     price  \n",
       "0     1449  \n",
       "1      972  \n",
       "2      622  \n",
       "3     2745  \n",
       "4     1951  \n",
       "..     ...  \n",
       "972   3030  \n",
       "973   1276  \n",
       "974   2218  \n",
       "975   1059  \n",
       "976   1084  \n",
       "\n",
       "[977 rows x 12 columns]"
      ]
     },
     "execution_count": 133,
     "metadata": {},
     "output_type": "execute_result"
    }
   ],
   "source": [
    "laptops_train"
   ]
  },
  {
   "cell_type": "code",
   "execution_count": 134,
   "id": "107908e8-078c-466b-b0e2-3f46cf5a29ef",
   "metadata": {},
   "outputs": [],
   "source": [
    "import matplotlib as plt\n",
    "import plotly.express as px"
   ]
  },
  {
   "cell_type": "markdown",
   "id": "8f600f0e-74d4-4c9d-bcc2-7c23a843bd79",
   "metadata": {},
   "source": [
    "## Variable de salida"
   ]
  },
  {
   "cell_type": "code",
   "execution_count": 135,
   "id": "ec6921ac-77b5-445d-9b99-db2488cf8257",
   "metadata": {},
   "outputs": [
    {
     "data": {
      "application/vnd.plotly.v1+json": {
       "config": {
        "plotlyServerURL": "https://plot.ly"
       },
       "data": [
        {
         "alignmentgroup": "True",
         "bingroup": "x",
         "hovertemplate": "price=%{x}<br>count=%{y}<extra></extra>",
         "legendgroup": "",
         "marker": {
          "color": "#636efa",
          "pattern": {
           "shape": ""
          }
         },
         "name": "",
         "offsetgroup": "",
         "orientation": "v",
         "showlegend": false,
         "type": "histogram",
         "x": [
          1449,
          972,
          622,
          2745,
          1951,
          432,
          2315,
          1253,
          1617,
          833,
          426,
          373,
          2640,
          539,
          1366,
          1643,
          806,
          3092,
          539,
          1059,
          207,
          1081,
          279,
          886,
          713,
          453,
          1189,
          865,
          1404,
          969,
          265,
          215,
          475,
          2022,
          1079,
          269,
          397,
          1059,
          528,
          951,
          420,
          1622,
          565,
          738,
          1081,
          1535,
          399,
          1405,
          691,
          504,
          345,
          910,
          431,
          1193,
          415,
          830,
          475,
          634,
          2650,
          449,
          1405,
          951,
          648,
          1018,
          746,
          2145,
          474,
          247,
          594,
          1026,
          1178,
          1033,
          941,
          1184,
          420,
          1026,
          561,
          925,
          573,
          1057,
          1186,
          1634,
          930,
          431,
          427,
          1459,
          756,
          648,
          1568,
          1784,
          756,
          745,
          1295,
          1293,
          1135,
          916,
          649,
          524,
          624,
          1351,
          778,
          377,
          700,
          1210,
          1450,
          713,
          448,
          1291,
          1405,
          1601,
          1365,
          1492,
          1513,
          781,
          1762,
          1513,
          1173,
          1223,
          610,
          1209,
          518,
          2425,
          680,
          1375,
          488,
          280,
          878,
          300,
          1510,
          1004,
          691,
          485,
          956,
          618,
          647,
          1069,
          273,
          1015,
          539,
          756,
          708,
          1207,
          940,
          651,
          399,
          1189,
          2179,
          372,
          2195,
          483,
          1351,
          972,
          538,
          2045,
          1170,
          669,
          680,
          1423,
          1135,
          483,
          436,
          871,
          787,
          1167,
          376,
          1946,
          393,
          1147,
          924,
          815,
          1459,
          756,
          334,
          529,
          998,
          496,
          485,
          3028,
          879,
          1622,
          1135,
          1513,
          2000,
          858,
          1297,
          1676,
          2593,
          842,
          1070,
          1174,
          3056,
          281,
          1082,
          755,
          907,
          989,
          6600,
          1037,
          1492,
          1130,
          1996,
          533,
          802,
          1892,
          3305,
          1512,
          475,
          2109,
          1568,
          646,
          842,
          1522,
          377,
          594,
          1622,
          1008,
          637,
          1115,
          1243,
          1384,
          732,
          972,
          1474,
          859,
          2658,
          900,
          929,
          832,
          964,
          1373,
          431,
          357,
          1622,
          929,
          745,
          972,
          422,
          622,
          4209,
          915,
          637,
          1239,
          962,
          951,
          1167,
          1065,
          604,
          3245,
          730,
          2207,
          886,
          1946,
          507,
          2000,
          759,
          1026,
          482,
          1146,
          2704,
          1838,
          1235,
          480,
          781,
          710,
          611,
          864,
          1622,
          505,
          1101,
          952,
          2119,
          1676,
          795,
          2704,
          878,
          771,
          1189,
          806,
          529,
          918,
          929,
          463,
          897,
          626,
          1029,
          713,
          1187,
          1057,
          1275,
          713,
          215,
          1284,
          529,
          1979,
          799,
          1405,
          1059,
          3121,
          539,
          1588,
          550,
          2296,
          702,
          594,
          1368,
          389,
          2137,
          1128,
          886,
          507,
          1081,
          2704,
          2271,
          507,
          297,
          913,
          2650,
          497,
          1060,
          524,
          1398,
          637,
          1183,
          976,
          713,
          315,
          594,
          1136,
          1444,
          2855,
          1297,
          1020,
          1443,
          485,
          1081,
          1372,
          1135,
          1237,
          297,
          1236,
          297,
          972,
          774,
          2271,
          1708,
          1221,
          301,
          1740,
          405,
          717,
          2193,
          1411,
          1524,
          1881,
          1518,
          1050,
          348,
          1081,
          603,
          1544,
          475,
          1022,
          778,
          691,
          539,
          420,
          1174,
          875,
          972,
          1893,
          1189,
          460,
          2379,
          529,
          940,
          529,
          598,
          334,
          309,
          915,
          1288,
          436,
          1790,
          1189,
          1892,
          2469,
          594,
          1481,
          2310,
          2715,
          1124,
          1721,
          751,
          1459,
          842,
          539,
          1330,
          1015,
          2934,
          2840,
          331,
          1654,
          1238,
          951,
          2433,
          2026,
          1890,
          1818,
          442,
          329,
          2083,
          2102,
          507,
          853,
          1004,
          648,
          745,
          1623,
          584,
          1315,
          2055,
          485,
          1544,
          646,
          3028,
          1254,
          1236,
          1189,
          2163,
          323,
          291,
          1092,
          648,
          2645,
          2650,
          1834,
          375,
          2379,
          2577,
          604,
          561,
          810,
          1546,
          377,
          1189,
          1275,
          478,
          2156,
          1112,
          2801,
          637,
          2137,
          1660,
          1455,
          1059,
          518,
          2214,
          1070,
          1946,
          692,
          588,
          470,
          810,
          864,
          2261,
          328,
          507,
          821,
          1838,
          2010,
          2163,
          1248,
          1379,
          1993,
          1405,
          800,
          2605,
          1476,
          730,
          1809,
          1365,
          634,
          785,
          269,
          611,
          1135,
          2530,
          2055,
          1945,
          2110,
          1095,
          3028,
          1460,
          626,
          1373,
          1189,
          972,
          1892,
          1026,
          985,
          367,
          669,
          1730,
          323,
          286,
          1026,
          1324,
          663,
          1431,
          1243,
          972,
          691,
          904,
          1319,
          1514,
          265,
          564,
          3211,
          962,
          1627,
          1513,
          1513,
          1384,
          745,
          962,
          1450,
          864,
          496,
          633,
          1490,
          3260,
          930,
          1405,
          399,
          1784,
          1481,
          862,
          431,
          1946,
          929,
          1513,
          796,
          1239,
          863,
          377,
          763,
          849,
          500,
          429,
          1871,
          539,
          1208,
          2920,
          588,
          1385,
          242,
          275,
          1026,
          615,
          668,
          377,
          681,
          2126,
          3245,
          907,
          1730,
          1037,
          799,
          372,
          1071,
          2013,
          420,
          702,
          898,
          741,
          269,
          2018,
          2881,
          2953,
          810,
          420,
          1091,
          778,
          1663,
          319,
          2541,
          1621,
          1810,
          659,
          1915,
          799,
          1026,
          652,
          1838,
          572,
          496,
          2191,
          1595,
          1807,
          1907,
          1319,
          723,
          356,
          2379,
          503,
          2487,
          1513,
          610,
          1405,
          377,
          5301,
          951,
          480,
          388,
          940,
          1263,
          615,
          1503,
          2454,
          410,
          1216,
          1585,
          839,
          864,
          1008,
          972,
          258,
          506,
          691,
          1969,
          2056,
          1600,
          897,
          626,
          431,
          981,
          2022,
          269,
          1901,
          2596,
          1200,
          563,
          2651,
          1265,
          486,
          296,
          994,
          2812,
          1312,
          1714,
          3028,
          767,
          1569,
          1289,
          394,
          1151,
          994,
          1228,
          1294,
          3405,
          1329,
          453,
          578,
          583,
          1608,
          538,
          1033,
          806,
          1361,
          445,
          2021,
          885,
          1118,
          377,
          756,
          1400,
          1228,
          535,
          2487,
          1405,
          1079,
          453,
          2219,
          756,
          1622,
          3044,
          662,
          590,
          615,
          344,
          405,
          756,
          2064,
          2802,
          1052,
          291,
          1892,
          723,
          2031,
          745,
          886,
          431,
          464,
          672,
          486,
          860,
          1081,
          2007,
          1288,
          708,
          1351,
          1178,
          785,
          322,
          1543,
          927,
          1275,
          322,
          286,
          1298,
          1825,
          905,
          1622,
          3960,
          1459,
          530,
          778,
          702,
          637,
          529,
          2093,
          702,
          703,
          604,
          1038,
          842,
          2617,
          713,
          2266,
          444,
          1306,
          719,
          1661,
          1081,
          3570,
          357,
          1784,
          583,
          1219,
          4749,
          514,
          2056,
          626,
          1186,
          919,
          1297,
          1189,
          1689,
          3104,
          648,
          1134,
          2011,
          1687,
          1221,
          918,
          708,
          508,
          1189,
          1730,
          322,
          1278,
          1946,
          1103,
          1189,
          1346,
          907,
          2564,
          688,
          3137,
          629,
          3883,
          2543,
          1908,
          356,
          2487,
          2046,
          1178,
          1081,
          2487,
          1065,
          1449,
          219,
          2131,
          1037,
          1260,
          2521,
          323,
          876,
          1459,
          799,
          2234,
          1189,
          1622,
          1892,
          805,
          1503,
          844,
          680,
          1816,
          659,
          1892,
          2613,
          1622,
          1039,
          854,
          2011,
          1946,
          416,
          2710,
          817,
          530,
          1179,
          2704,
          1297,
          2029,
          539,
          1469,
          633,
          384,
          669,
          5950,
          2271,
          561,
          1283,
          1785,
          3002,
          2617,
          723,
          351,
          638,
          1946,
          3325,
          984,
          772,
          2023,
          799,
          665,
          1110,
          2464,
          1588,
          323,
          2055,
          936,
          2059,
          851,
          1022,
          485,
          2769,
          702,
          507,
          920,
          1459,
          1390,
          1100,
          2424,
          984,
          1184,
          2110,
          976,
          1924,
          1141,
          518,
          1502,
          795,
          2000,
          1828,
          431,
          1011,
          987,
          907,
          1839,
          741,
          376,
          723,
          399,
          1946,
          493,
          1482,
          321,
          410,
          1368,
          1513,
          1838,
          1946,
          2866,
          1596,
          1005,
          973,
          664,
          1011,
          2178,
          1384,
          1784,
          2217,
          2124,
          2271,
          1604,
          388,
          853,
          2055,
          1303,
          3354,
          853,
          1102,
          539,
          953,
          1038,
          1730,
          1459,
          1211,
          741,
          1403,
          1243,
          2137,
          1974,
          789,
          1785,
          1260,
          766,
          1243,
          334,
          1708,
          312,
          1946,
          1195,
          1806,
          604,
          1297,
          1773,
          2984,
          1513,
          573,
          669,
          1210,
          1405,
          1081,
          1593,
          741,
          713,
          377,
          2433,
          1920,
          1579,
          1254,
          1611,
          3413,
          2055,
          838,
          1372,
          420,
          1661,
          1904,
          1091,
          1937,
          916,
          503,
          892,
          741,
          3407,
          752,
          2055,
          2124,
          3030,
          1276,
          2218,
          1059,
          1084
         ],
         "xaxis": "x",
         "yaxis": "y"
        }
       ],
       "layout": {
        "autosize": true,
        "barmode": "relative",
        "legend": {
         "tracegroupgap": 0
        },
        "margin": {
         "t": 60
        },
        "template": {
         "data": {
          "bar": [
           {
            "error_x": {
             "color": "#2a3f5f"
            },
            "error_y": {
             "color": "#2a3f5f"
            },
            "marker": {
             "line": {
              "color": "#E5ECF6",
              "width": 0.5
             },
             "pattern": {
              "fillmode": "overlay",
              "size": 10,
              "solidity": 0.2
             }
            },
            "type": "bar"
           }
          ],
          "barpolar": [
           {
            "marker": {
             "line": {
              "color": "#E5ECF6",
              "width": 0.5
             },
             "pattern": {
              "fillmode": "overlay",
              "size": 10,
              "solidity": 0.2
             }
            },
            "type": "barpolar"
           }
          ],
          "carpet": [
           {
            "aaxis": {
             "endlinecolor": "#2a3f5f",
             "gridcolor": "white",
             "linecolor": "white",
             "minorgridcolor": "white",
             "startlinecolor": "#2a3f5f"
            },
            "baxis": {
             "endlinecolor": "#2a3f5f",
             "gridcolor": "white",
             "linecolor": "white",
             "minorgridcolor": "white",
             "startlinecolor": "#2a3f5f"
            },
            "type": "carpet"
           }
          ],
          "choropleth": [
           {
            "colorbar": {
             "outlinewidth": 0,
             "ticks": ""
            },
            "type": "choropleth"
           }
          ],
          "contour": [
           {
            "colorbar": {
             "outlinewidth": 0,
             "ticks": ""
            },
            "colorscale": [
             [
              0,
              "#0d0887"
             ],
             [
              0.1111111111111111,
              "#46039f"
             ],
             [
              0.2222222222222222,
              "#7201a8"
             ],
             [
              0.3333333333333333,
              "#9c179e"
             ],
             [
              0.4444444444444444,
              "#bd3786"
             ],
             [
              0.5555555555555556,
              "#d8576b"
             ],
             [
              0.6666666666666666,
              "#ed7953"
             ],
             [
              0.7777777777777778,
              "#fb9f3a"
             ],
             [
              0.8888888888888888,
              "#fdca26"
             ],
             [
              1,
              "#f0f921"
             ]
            ],
            "type": "contour"
           }
          ],
          "contourcarpet": [
           {
            "colorbar": {
             "outlinewidth": 0,
             "ticks": ""
            },
            "type": "contourcarpet"
           }
          ],
          "heatmap": [
           {
            "colorbar": {
             "outlinewidth": 0,
             "ticks": ""
            },
            "colorscale": [
             [
              0,
              "#0d0887"
             ],
             [
              0.1111111111111111,
              "#46039f"
             ],
             [
              0.2222222222222222,
              "#7201a8"
             ],
             [
              0.3333333333333333,
              "#9c179e"
             ],
             [
              0.4444444444444444,
              "#bd3786"
             ],
             [
              0.5555555555555556,
              "#d8576b"
             ],
             [
              0.6666666666666666,
              "#ed7953"
             ],
             [
              0.7777777777777778,
              "#fb9f3a"
             ],
             [
              0.8888888888888888,
              "#fdca26"
             ],
             [
              1,
              "#f0f921"
             ]
            ],
            "type": "heatmap"
           }
          ],
          "heatmapgl": [
           {
            "colorbar": {
             "outlinewidth": 0,
             "ticks": ""
            },
            "colorscale": [
             [
              0,
              "#0d0887"
             ],
             [
              0.1111111111111111,
              "#46039f"
             ],
             [
              0.2222222222222222,
              "#7201a8"
             ],
             [
              0.3333333333333333,
              "#9c179e"
             ],
             [
              0.4444444444444444,
              "#bd3786"
             ],
             [
              0.5555555555555556,
              "#d8576b"
             ],
             [
              0.6666666666666666,
              "#ed7953"
             ],
             [
              0.7777777777777778,
              "#fb9f3a"
             ],
             [
              0.8888888888888888,
              "#fdca26"
             ],
             [
              1,
              "#f0f921"
             ]
            ],
            "type": "heatmapgl"
           }
          ],
          "histogram": [
           {
            "marker": {
             "pattern": {
              "fillmode": "overlay",
              "size": 10,
              "solidity": 0.2
             }
            },
            "type": "histogram"
           }
          ],
          "histogram2d": [
           {
            "colorbar": {
             "outlinewidth": 0,
             "ticks": ""
            },
            "colorscale": [
             [
              0,
              "#0d0887"
             ],
             [
              0.1111111111111111,
              "#46039f"
             ],
             [
              0.2222222222222222,
              "#7201a8"
             ],
             [
              0.3333333333333333,
              "#9c179e"
             ],
             [
              0.4444444444444444,
              "#bd3786"
             ],
             [
              0.5555555555555556,
              "#d8576b"
             ],
             [
              0.6666666666666666,
              "#ed7953"
             ],
             [
              0.7777777777777778,
              "#fb9f3a"
             ],
             [
              0.8888888888888888,
              "#fdca26"
             ],
             [
              1,
              "#f0f921"
             ]
            ],
            "type": "histogram2d"
           }
          ],
          "histogram2dcontour": [
           {
            "colorbar": {
             "outlinewidth": 0,
             "ticks": ""
            },
            "colorscale": [
             [
              0,
              "#0d0887"
             ],
             [
              0.1111111111111111,
              "#46039f"
             ],
             [
              0.2222222222222222,
              "#7201a8"
             ],
             [
              0.3333333333333333,
              "#9c179e"
             ],
             [
              0.4444444444444444,
              "#bd3786"
             ],
             [
              0.5555555555555556,
              "#d8576b"
             ],
             [
              0.6666666666666666,
              "#ed7953"
             ],
             [
              0.7777777777777778,
              "#fb9f3a"
             ],
             [
              0.8888888888888888,
              "#fdca26"
             ],
             [
              1,
              "#f0f921"
             ]
            ],
            "type": "histogram2dcontour"
           }
          ],
          "mesh3d": [
           {
            "colorbar": {
             "outlinewidth": 0,
             "ticks": ""
            },
            "type": "mesh3d"
           }
          ],
          "parcoords": [
           {
            "line": {
             "colorbar": {
              "outlinewidth": 0,
              "ticks": ""
             }
            },
            "type": "parcoords"
           }
          ],
          "pie": [
           {
            "automargin": true,
            "type": "pie"
           }
          ],
          "scatter": [
           {
            "fillpattern": {
             "fillmode": "overlay",
             "size": 10,
             "solidity": 0.2
            },
            "type": "scatter"
           }
          ],
          "scatter3d": [
           {
            "line": {
             "colorbar": {
              "outlinewidth": 0,
              "ticks": ""
             }
            },
            "marker": {
             "colorbar": {
              "outlinewidth": 0,
              "ticks": ""
             }
            },
            "type": "scatter3d"
           }
          ],
          "scattercarpet": [
           {
            "marker": {
             "colorbar": {
              "outlinewidth": 0,
              "ticks": ""
             }
            },
            "type": "scattercarpet"
           }
          ],
          "scattergeo": [
           {
            "marker": {
             "colorbar": {
              "outlinewidth": 0,
              "ticks": ""
             }
            },
            "type": "scattergeo"
           }
          ],
          "scattergl": [
           {
            "marker": {
             "colorbar": {
              "outlinewidth": 0,
              "ticks": ""
             }
            },
            "type": "scattergl"
           }
          ],
          "scattermapbox": [
           {
            "marker": {
             "colorbar": {
              "outlinewidth": 0,
              "ticks": ""
             }
            },
            "type": "scattermapbox"
           }
          ],
          "scatterpolar": [
           {
            "marker": {
             "colorbar": {
              "outlinewidth": 0,
              "ticks": ""
             }
            },
            "type": "scatterpolar"
           }
          ],
          "scatterpolargl": [
           {
            "marker": {
             "colorbar": {
              "outlinewidth": 0,
              "ticks": ""
             }
            },
            "type": "scatterpolargl"
           }
          ],
          "scatterternary": [
           {
            "marker": {
             "colorbar": {
              "outlinewidth": 0,
              "ticks": ""
             }
            },
            "type": "scatterternary"
           }
          ],
          "surface": [
           {
            "colorbar": {
             "outlinewidth": 0,
             "ticks": ""
            },
            "colorscale": [
             [
              0,
              "#0d0887"
             ],
             [
              0.1111111111111111,
              "#46039f"
             ],
             [
              0.2222222222222222,
              "#7201a8"
             ],
             [
              0.3333333333333333,
              "#9c179e"
             ],
             [
              0.4444444444444444,
              "#bd3786"
             ],
             [
              0.5555555555555556,
              "#d8576b"
             ],
             [
              0.6666666666666666,
              "#ed7953"
             ],
             [
              0.7777777777777778,
              "#fb9f3a"
             ],
             [
              0.8888888888888888,
              "#fdca26"
             ],
             [
              1,
              "#f0f921"
             ]
            ],
            "type": "surface"
           }
          ],
          "table": [
           {
            "cells": {
             "fill": {
              "color": "#EBF0F8"
             },
             "line": {
              "color": "white"
             }
            },
            "header": {
             "fill": {
              "color": "#C8D4E3"
             },
             "line": {
              "color": "white"
             }
            },
            "type": "table"
           }
          ]
         },
         "layout": {
          "annotationdefaults": {
           "arrowcolor": "#2a3f5f",
           "arrowhead": 0,
           "arrowwidth": 1
          },
          "autotypenumbers": "strict",
          "coloraxis": {
           "colorbar": {
            "outlinewidth": 0,
            "ticks": ""
           }
          },
          "colorscale": {
           "diverging": [
            [
             0,
             "#8e0152"
            ],
            [
             0.1,
             "#c51b7d"
            ],
            [
             0.2,
             "#de77ae"
            ],
            [
             0.3,
             "#f1b6da"
            ],
            [
             0.4,
             "#fde0ef"
            ],
            [
             0.5,
             "#f7f7f7"
            ],
            [
             0.6,
             "#e6f5d0"
            ],
            [
             0.7,
             "#b8e186"
            ],
            [
             0.8,
             "#7fbc41"
            ],
            [
             0.9,
             "#4d9221"
            ],
            [
             1,
             "#276419"
            ]
           ],
           "sequential": [
            [
             0,
             "#0d0887"
            ],
            [
             0.1111111111111111,
             "#46039f"
            ],
            [
             0.2222222222222222,
             "#7201a8"
            ],
            [
             0.3333333333333333,
             "#9c179e"
            ],
            [
             0.4444444444444444,
             "#bd3786"
            ],
            [
             0.5555555555555556,
             "#d8576b"
            ],
            [
             0.6666666666666666,
             "#ed7953"
            ],
            [
             0.7777777777777778,
             "#fb9f3a"
            ],
            [
             0.8888888888888888,
             "#fdca26"
            ],
            [
             1,
             "#f0f921"
            ]
           ],
           "sequentialminus": [
            [
             0,
             "#0d0887"
            ],
            [
             0.1111111111111111,
             "#46039f"
            ],
            [
             0.2222222222222222,
             "#7201a8"
            ],
            [
             0.3333333333333333,
             "#9c179e"
            ],
            [
             0.4444444444444444,
             "#bd3786"
            ],
            [
             0.5555555555555556,
             "#d8576b"
            ],
            [
             0.6666666666666666,
             "#ed7953"
            ],
            [
             0.7777777777777778,
             "#fb9f3a"
            ],
            [
             0.8888888888888888,
             "#fdca26"
            ],
            [
             1,
             "#f0f921"
            ]
           ]
          },
          "colorway": [
           "#636efa",
           "#EF553B",
           "#00cc96",
           "#ab63fa",
           "#FFA15A",
           "#19d3f3",
           "#FF6692",
           "#B6E880",
           "#FF97FF",
           "#FECB52"
          ],
          "font": {
           "color": "#2a3f5f"
          },
          "geo": {
           "bgcolor": "white",
           "lakecolor": "white",
           "landcolor": "#E5ECF6",
           "showlakes": true,
           "showland": true,
           "subunitcolor": "white"
          },
          "hoverlabel": {
           "align": "left"
          },
          "hovermode": "closest",
          "mapbox": {
           "style": "light"
          },
          "paper_bgcolor": "white",
          "plot_bgcolor": "#E5ECF6",
          "polar": {
           "angularaxis": {
            "gridcolor": "white",
            "linecolor": "white",
            "ticks": ""
           },
           "bgcolor": "#E5ECF6",
           "radialaxis": {
            "gridcolor": "white",
            "linecolor": "white",
            "ticks": ""
           }
          },
          "scene": {
           "xaxis": {
            "backgroundcolor": "#E5ECF6",
            "gridcolor": "white",
            "gridwidth": 2,
            "linecolor": "white",
            "showbackground": true,
            "ticks": "",
            "zerolinecolor": "white"
           },
           "yaxis": {
            "backgroundcolor": "#E5ECF6",
            "gridcolor": "white",
            "gridwidth": 2,
            "linecolor": "white",
            "showbackground": true,
            "ticks": "",
            "zerolinecolor": "white"
           },
           "zaxis": {
            "backgroundcolor": "#E5ECF6",
            "gridcolor": "white",
            "gridwidth": 2,
            "linecolor": "white",
            "showbackground": true,
            "ticks": "",
            "zerolinecolor": "white"
           }
          },
          "shapedefaults": {
           "line": {
            "color": "#2a3f5f"
           }
          },
          "ternary": {
           "aaxis": {
            "gridcolor": "white",
            "linecolor": "white",
            "ticks": ""
           },
           "baxis": {
            "gridcolor": "white",
            "linecolor": "white",
            "ticks": ""
           },
           "bgcolor": "#E5ECF6",
           "caxis": {
            "gridcolor": "white",
            "linecolor": "white",
            "ticks": ""
           }
          },
          "title": {
           "x": 0.05
          },
          "xaxis": {
           "automargin": true,
           "gridcolor": "white",
           "linecolor": "white",
           "ticks": "",
           "title": {
            "standoff": 15
           },
           "zerolinecolor": "white",
           "zerolinewidth": 2
          },
          "yaxis": {
           "automargin": true,
           "gridcolor": "white",
           "linecolor": "white",
           "ticks": "",
           "title": {
            "standoff": 15
           },
           "zerolinecolor": "white",
           "zerolinewidth": 2
          }
         }
        },
        "xaxis": {
         "anchor": "y",
         "autorange": true,
         "domain": [
          0,
          1
         ],
         "range": [
          199.5,
          6699.5
         ],
         "title": {
          "text": "price"
         },
         "type": "linear"
        },
        "yaxis": {
         "anchor": "x",
         "autorange": true,
         "domain": [
          0,
          1
         ],
         "range": [
          0,
          77.89473684210526
         ],
         "title": {
          "text": "count"
         }
        }
       }
      },
      "text/html": [
       "<div>                            <div id=\"28e0d61c-1cf9-4bab-85f0-c2390882fd17\" class=\"plotly-graph-div\" style=\"height:525px; width:100%;\"></div>            <script type=\"text/javascript\">                require([\"plotly\"], function(Plotly) {                    window.PLOTLYENV=window.PLOTLYENV || {};                                    if (document.getElementById(\"28e0d61c-1cf9-4bab-85f0-c2390882fd17\")) {                    Plotly.newPlot(                        \"28e0d61c-1cf9-4bab-85f0-c2390882fd17\",                        [{\"alignmentgroup\":\"True\",\"bingroup\":\"x\",\"hovertemplate\":\"price=%{x}\\u003cbr\\u003ecount=%{y}\\u003cextra\\u003e\\u003c\\u002fextra\\u003e\",\"legendgroup\":\"\",\"marker\":{\"color\":\"#636efa\",\"pattern\":{\"shape\":\"\"}},\"name\":\"\",\"offsetgroup\":\"\",\"orientation\":\"v\",\"showlegend\":false,\"x\":[1449,972,622,2745,1951,432,2315,1253,1617,833,426,373,2640,539,1366,1643,806,3092,539,1059,207,1081,279,886,713,453,1189,865,1404,969,265,215,475,2022,1079,269,397,1059,528,951,420,1622,565,738,1081,1535,399,1405,691,504,345,910,431,1193,415,830,475,634,2650,449,1405,951,648,1018,746,2145,474,247,594,1026,1178,1033,941,1184,420,1026,561,925,573,1057,1186,1634,930,431,427,1459,756,648,1568,1784,756,745,1295,1293,1135,916,649,524,624,1351,778,377,700,1210,1450,713,448,1291,1405,1601,1365,1492,1513,781,1762,1513,1173,1223,610,1209,518,2425,680,1375,488,280,878,300,1510,1004,691,485,956,618,647,1069,273,1015,539,756,708,1207,940,651,399,1189,2179,372,2195,483,1351,972,538,2045,1170,669,680,1423,1135,483,436,871,787,1167,376,1946,393,1147,924,815,1459,756,334,529,998,496,485,3028,879,1622,1135,1513,2000,858,1297,1676,2593,842,1070,1174,3056,281,1082,755,907,989,6600,1037,1492,1130,1996,533,802,1892,3305,1512,475,2109,1568,646,842,1522,377,594,1622,1008,637,1115,1243,1384,732,972,1474,859,2658,900,929,832,964,1373,431,357,1622,929,745,972,422,622,4209,915,637,1239,962,951,1167,1065,604,3245,730,2207,886,1946,507,2000,759,1026,482,1146,2704,1838,1235,480,781,710,611,864,1622,505,1101,952,2119,1676,795,2704,878,771,1189,806,529,918,929,463,897,626,1029,713,1187,1057,1275,713,215,1284,529,1979,799,1405,1059,3121,539,1588,550,2296,702,594,1368,389,2137,1128,886,507,1081,2704,2271,507,297,913,2650,497,1060,524,1398,637,1183,976,713,315,594,1136,1444,2855,1297,1020,1443,485,1081,1372,1135,1237,297,1236,297,972,774,2271,1708,1221,301,1740,405,717,2193,1411,1524,1881,1518,1050,348,1081,603,1544,475,1022,778,691,539,420,1174,875,972,1893,1189,460,2379,529,940,529,598,334,309,915,1288,436,1790,1189,1892,2469,594,1481,2310,2715,1124,1721,751,1459,842,539,1330,1015,2934,2840,331,1654,1238,951,2433,2026,1890,1818,442,329,2083,2102,507,853,1004,648,745,1623,584,1315,2055,485,1544,646,3028,1254,1236,1189,2163,323,291,1092,648,2645,2650,1834,375,2379,2577,604,561,810,1546,377,1189,1275,478,2156,1112,2801,637,2137,1660,1455,1059,518,2214,1070,1946,692,588,470,810,864,2261,328,507,821,1838,2010,2163,1248,1379,1993,1405,800,2605,1476,730,1809,1365,634,785,269,611,1135,2530,2055,1945,2110,1095,3028,1460,626,1373,1189,972,1892,1026,985,367,669,1730,323,286,1026,1324,663,1431,1243,972,691,904,1319,1514,265,564,3211,962,1627,1513,1513,1384,745,962,1450,864,496,633,1490,3260,930,1405,399,1784,1481,862,431,1946,929,1513,796,1239,863,377,763,849,500,429,1871,539,1208,2920,588,1385,242,275,1026,615,668,377,681,2126,3245,907,1730,1037,799,372,1071,2013,420,702,898,741,269,2018,2881,2953,810,420,1091,778,1663,319,2541,1621,1810,659,1915,799,1026,652,1838,572,496,2191,1595,1807,1907,1319,723,356,2379,503,2487,1513,610,1405,377,5301,951,480,388,940,1263,615,1503,2454,410,1216,1585,839,864,1008,972,258,506,691,1969,2056,1600,897,626,431,981,2022,269,1901,2596,1200,563,2651,1265,486,296,994,2812,1312,1714,3028,767,1569,1289,394,1151,994,1228,1294,3405,1329,453,578,583,1608,538,1033,806,1361,445,2021,885,1118,377,756,1400,1228,535,2487,1405,1079,453,2219,756,1622,3044,662,590,615,344,405,756,2064,2802,1052,291,1892,723,2031,745,886,431,464,672,486,860,1081,2007,1288,708,1351,1178,785,322,1543,927,1275,322,286,1298,1825,905,1622,3960,1459,530,778,702,637,529,2093,702,703,604,1038,842,2617,713,2266,444,1306,719,1661,1081,3570,357,1784,583,1219,4749,514,2056,626,1186,919,1297,1189,1689,3104,648,1134,2011,1687,1221,918,708,508,1189,1730,322,1278,1946,1103,1189,1346,907,2564,688,3137,629,3883,2543,1908,356,2487,2046,1178,1081,2487,1065,1449,219,2131,1037,1260,2521,323,876,1459,799,2234,1189,1622,1892,805,1503,844,680,1816,659,1892,2613,1622,1039,854,2011,1946,416,2710,817,530,1179,2704,1297,2029,539,1469,633,384,669,5950,2271,561,1283,1785,3002,2617,723,351,638,1946,3325,984,772,2023,799,665,1110,2464,1588,323,2055,936,2059,851,1022,485,2769,702,507,920,1459,1390,1100,2424,984,1184,2110,976,1924,1141,518,1502,795,2000,1828,431,1011,987,907,1839,741,376,723,399,1946,493,1482,321,410,1368,1513,1838,1946,2866,1596,1005,973,664,1011,2178,1384,1784,2217,2124,2271,1604,388,853,2055,1303,3354,853,1102,539,953,1038,1730,1459,1211,741,1403,1243,2137,1974,789,1785,1260,766,1243,334,1708,312,1946,1195,1806,604,1297,1773,2984,1513,573,669,1210,1405,1081,1593,741,713,377,2433,1920,1579,1254,1611,3413,2055,838,1372,420,1661,1904,1091,1937,916,503,892,741,3407,752,2055,2124,3030,1276,2218,1059,1084],\"xaxis\":\"x\",\"yaxis\":\"y\",\"type\":\"histogram\"}],                        {\"template\":{\"data\":{\"histogram2dcontour\":[{\"type\":\"histogram2dcontour\",\"colorbar\":{\"outlinewidth\":0,\"ticks\":\"\"},\"colorscale\":[[0.0,\"#0d0887\"],[0.1111111111111111,\"#46039f\"],[0.2222222222222222,\"#7201a8\"],[0.3333333333333333,\"#9c179e\"],[0.4444444444444444,\"#bd3786\"],[0.5555555555555556,\"#d8576b\"],[0.6666666666666666,\"#ed7953\"],[0.7777777777777778,\"#fb9f3a\"],[0.8888888888888888,\"#fdca26\"],[1.0,\"#f0f921\"]]}],\"choropleth\":[{\"type\":\"choropleth\",\"colorbar\":{\"outlinewidth\":0,\"ticks\":\"\"}}],\"histogram2d\":[{\"type\":\"histogram2d\",\"colorbar\":{\"outlinewidth\":0,\"ticks\":\"\"},\"colorscale\":[[0.0,\"#0d0887\"],[0.1111111111111111,\"#46039f\"],[0.2222222222222222,\"#7201a8\"],[0.3333333333333333,\"#9c179e\"],[0.4444444444444444,\"#bd3786\"],[0.5555555555555556,\"#d8576b\"],[0.6666666666666666,\"#ed7953\"],[0.7777777777777778,\"#fb9f3a\"],[0.8888888888888888,\"#fdca26\"],[1.0,\"#f0f921\"]]}],\"heatmap\":[{\"type\":\"heatmap\",\"colorbar\":{\"outlinewidth\":0,\"ticks\":\"\"},\"colorscale\":[[0.0,\"#0d0887\"],[0.1111111111111111,\"#46039f\"],[0.2222222222222222,\"#7201a8\"],[0.3333333333333333,\"#9c179e\"],[0.4444444444444444,\"#bd3786\"],[0.5555555555555556,\"#d8576b\"],[0.6666666666666666,\"#ed7953\"],[0.7777777777777778,\"#fb9f3a\"],[0.8888888888888888,\"#fdca26\"],[1.0,\"#f0f921\"]]}],\"heatmapgl\":[{\"type\":\"heatmapgl\",\"colorbar\":{\"outlinewidth\":0,\"ticks\":\"\"},\"colorscale\":[[0.0,\"#0d0887\"],[0.1111111111111111,\"#46039f\"],[0.2222222222222222,\"#7201a8\"],[0.3333333333333333,\"#9c179e\"],[0.4444444444444444,\"#bd3786\"],[0.5555555555555556,\"#d8576b\"],[0.6666666666666666,\"#ed7953\"],[0.7777777777777778,\"#fb9f3a\"],[0.8888888888888888,\"#fdca26\"],[1.0,\"#f0f921\"]]}],\"contourcarpet\":[{\"type\":\"contourcarpet\",\"colorbar\":{\"outlinewidth\":0,\"ticks\":\"\"}}],\"contour\":[{\"type\":\"contour\",\"colorbar\":{\"outlinewidth\":0,\"ticks\":\"\"},\"colorscale\":[[0.0,\"#0d0887\"],[0.1111111111111111,\"#46039f\"],[0.2222222222222222,\"#7201a8\"],[0.3333333333333333,\"#9c179e\"],[0.4444444444444444,\"#bd3786\"],[0.5555555555555556,\"#d8576b\"],[0.6666666666666666,\"#ed7953\"],[0.7777777777777778,\"#fb9f3a\"],[0.8888888888888888,\"#fdca26\"],[1.0,\"#f0f921\"]]}],\"surface\":[{\"type\":\"surface\",\"colorbar\":{\"outlinewidth\":0,\"ticks\":\"\"},\"colorscale\":[[0.0,\"#0d0887\"],[0.1111111111111111,\"#46039f\"],[0.2222222222222222,\"#7201a8\"],[0.3333333333333333,\"#9c179e\"],[0.4444444444444444,\"#bd3786\"],[0.5555555555555556,\"#d8576b\"],[0.6666666666666666,\"#ed7953\"],[0.7777777777777778,\"#fb9f3a\"],[0.8888888888888888,\"#fdca26\"],[1.0,\"#f0f921\"]]}],\"mesh3d\":[{\"type\":\"mesh3d\",\"colorbar\":{\"outlinewidth\":0,\"ticks\":\"\"}}],\"scatter\":[{\"fillpattern\":{\"fillmode\":\"overlay\",\"size\":10,\"solidity\":0.2},\"type\":\"scatter\"}],\"parcoords\":[{\"type\":\"parcoords\",\"line\":{\"colorbar\":{\"outlinewidth\":0,\"ticks\":\"\"}}}],\"scatterpolargl\":[{\"type\":\"scatterpolargl\",\"marker\":{\"colorbar\":{\"outlinewidth\":0,\"ticks\":\"\"}}}],\"bar\":[{\"error_x\":{\"color\":\"#2a3f5f\"},\"error_y\":{\"color\":\"#2a3f5f\"},\"marker\":{\"line\":{\"color\":\"#E5ECF6\",\"width\":0.5},\"pattern\":{\"fillmode\":\"overlay\",\"size\":10,\"solidity\":0.2}},\"type\":\"bar\"}],\"scattergeo\":[{\"type\":\"scattergeo\",\"marker\":{\"colorbar\":{\"outlinewidth\":0,\"ticks\":\"\"}}}],\"scatterpolar\":[{\"type\":\"scatterpolar\",\"marker\":{\"colorbar\":{\"outlinewidth\":0,\"ticks\":\"\"}}}],\"histogram\":[{\"marker\":{\"pattern\":{\"fillmode\":\"overlay\",\"size\":10,\"solidity\":0.2}},\"type\":\"histogram\"}],\"scattergl\":[{\"type\":\"scattergl\",\"marker\":{\"colorbar\":{\"outlinewidth\":0,\"ticks\":\"\"}}}],\"scatter3d\":[{\"type\":\"scatter3d\",\"line\":{\"colorbar\":{\"outlinewidth\":0,\"ticks\":\"\"}},\"marker\":{\"colorbar\":{\"outlinewidth\":0,\"ticks\":\"\"}}}],\"scattermapbox\":[{\"type\":\"scattermapbox\",\"marker\":{\"colorbar\":{\"outlinewidth\":0,\"ticks\":\"\"}}}],\"scatterternary\":[{\"type\":\"scatterternary\",\"marker\":{\"colorbar\":{\"outlinewidth\":0,\"ticks\":\"\"}}}],\"scattercarpet\":[{\"type\":\"scattercarpet\",\"marker\":{\"colorbar\":{\"outlinewidth\":0,\"ticks\":\"\"}}}],\"carpet\":[{\"aaxis\":{\"endlinecolor\":\"#2a3f5f\",\"gridcolor\":\"white\",\"linecolor\":\"white\",\"minorgridcolor\":\"white\",\"startlinecolor\":\"#2a3f5f\"},\"baxis\":{\"endlinecolor\":\"#2a3f5f\",\"gridcolor\":\"white\",\"linecolor\":\"white\",\"minorgridcolor\":\"white\",\"startlinecolor\":\"#2a3f5f\"},\"type\":\"carpet\"}],\"table\":[{\"cells\":{\"fill\":{\"color\":\"#EBF0F8\"},\"line\":{\"color\":\"white\"}},\"header\":{\"fill\":{\"color\":\"#C8D4E3\"},\"line\":{\"color\":\"white\"}},\"type\":\"table\"}],\"barpolar\":[{\"marker\":{\"line\":{\"color\":\"#E5ECF6\",\"width\":0.5},\"pattern\":{\"fillmode\":\"overlay\",\"size\":10,\"solidity\":0.2}},\"type\":\"barpolar\"}],\"pie\":[{\"automargin\":true,\"type\":\"pie\"}]},\"layout\":{\"autotypenumbers\":\"strict\",\"colorway\":[\"#636efa\",\"#EF553B\",\"#00cc96\",\"#ab63fa\",\"#FFA15A\",\"#19d3f3\",\"#FF6692\",\"#B6E880\",\"#FF97FF\",\"#FECB52\"],\"font\":{\"color\":\"#2a3f5f\"},\"hovermode\":\"closest\",\"hoverlabel\":{\"align\":\"left\"},\"paper_bgcolor\":\"white\",\"plot_bgcolor\":\"#E5ECF6\",\"polar\":{\"bgcolor\":\"#E5ECF6\",\"angularaxis\":{\"gridcolor\":\"white\",\"linecolor\":\"white\",\"ticks\":\"\"},\"radialaxis\":{\"gridcolor\":\"white\",\"linecolor\":\"white\",\"ticks\":\"\"}},\"ternary\":{\"bgcolor\":\"#E5ECF6\",\"aaxis\":{\"gridcolor\":\"white\",\"linecolor\":\"white\",\"ticks\":\"\"},\"baxis\":{\"gridcolor\":\"white\",\"linecolor\":\"white\",\"ticks\":\"\"},\"caxis\":{\"gridcolor\":\"white\",\"linecolor\":\"white\",\"ticks\":\"\"}},\"coloraxis\":{\"colorbar\":{\"outlinewidth\":0,\"ticks\":\"\"}},\"colorscale\":{\"sequential\":[[0.0,\"#0d0887\"],[0.1111111111111111,\"#46039f\"],[0.2222222222222222,\"#7201a8\"],[0.3333333333333333,\"#9c179e\"],[0.4444444444444444,\"#bd3786\"],[0.5555555555555556,\"#d8576b\"],[0.6666666666666666,\"#ed7953\"],[0.7777777777777778,\"#fb9f3a\"],[0.8888888888888888,\"#fdca26\"],[1.0,\"#f0f921\"]],\"sequentialminus\":[[0.0,\"#0d0887\"],[0.1111111111111111,\"#46039f\"],[0.2222222222222222,\"#7201a8\"],[0.3333333333333333,\"#9c179e\"],[0.4444444444444444,\"#bd3786\"],[0.5555555555555556,\"#d8576b\"],[0.6666666666666666,\"#ed7953\"],[0.7777777777777778,\"#fb9f3a\"],[0.8888888888888888,\"#fdca26\"],[1.0,\"#f0f921\"]],\"diverging\":[[0,\"#8e0152\"],[0.1,\"#c51b7d\"],[0.2,\"#de77ae\"],[0.3,\"#f1b6da\"],[0.4,\"#fde0ef\"],[0.5,\"#f7f7f7\"],[0.6,\"#e6f5d0\"],[0.7,\"#b8e186\"],[0.8,\"#7fbc41\"],[0.9,\"#4d9221\"],[1,\"#276419\"]]},\"xaxis\":{\"gridcolor\":\"white\",\"linecolor\":\"white\",\"ticks\":\"\",\"title\":{\"standoff\":15},\"zerolinecolor\":\"white\",\"automargin\":true,\"zerolinewidth\":2},\"yaxis\":{\"gridcolor\":\"white\",\"linecolor\":\"white\",\"ticks\":\"\",\"title\":{\"standoff\":15},\"zerolinecolor\":\"white\",\"automargin\":true,\"zerolinewidth\":2},\"scene\":{\"xaxis\":{\"backgroundcolor\":\"#E5ECF6\",\"gridcolor\":\"white\",\"linecolor\":\"white\",\"showbackground\":true,\"ticks\":\"\",\"zerolinecolor\":\"white\",\"gridwidth\":2},\"yaxis\":{\"backgroundcolor\":\"#E5ECF6\",\"gridcolor\":\"white\",\"linecolor\":\"white\",\"showbackground\":true,\"ticks\":\"\",\"zerolinecolor\":\"white\",\"gridwidth\":2},\"zaxis\":{\"backgroundcolor\":\"#E5ECF6\",\"gridcolor\":\"white\",\"linecolor\":\"white\",\"showbackground\":true,\"ticks\":\"\",\"zerolinecolor\":\"white\",\"gridwidth\":2}},\"shapedefaults\":{\"line\":{\"color\":\"#2a3f5f\"}},\"annotationdefaults\":{\"arrowcolor\":\"#2a3f5f\",\"arrowhead\":0,\"arrowwidth\":1},\"geo\":{\"bgcolor\":\"white\",\"landcolor\":\"#E5ECF6\",\"subunitcolor\":\"white\",\"showland\":true,\"showlakes\":true,\"lakecolor\":\"white\"},\"title\":{\"x\":0.05},\"mapbox\":{\"style\":\"light\"}}},\"xaxis\":{\"anchor\":\"y\",\"domain\":[0.0,1.0],\"title\":{\"text\":\"price\"}},\"yaxis\":{\"anchor\":\"x\",\"domain\":[0.0,1.0],\"title\":{\"text\":\"count\"}},\"legend\":{\"tracegroupgap\":0},\"margin\":{\"t\":60},\"barmode\":\"relative\"},                        {\"responsive\": true}                    ).then(function(){\n",
       "                            \n",
       "var gd = document.getElementById('28e0d61c-1cf9-4bab-85f0-c2390882fd17');\n",
       "var x = new MutationObserver(function (mutations, observer) {{\n",
       "        var display = window.getComputedStyle(gd).display;\n",
       "        if (!display || display === 'none') {{\n",
       "            console.log([gd, 'removed!']);\n",
       "            Plotly.purge(gd);\n",
       "            observer.disconnect();\n",
       "        }}\n",
       "}});\n",
       "\n",
       "// Listen for the removal of the full notebook cells\n",
       "var notebookContainer = gd.closest('#notebook-container');\n",
       "if (notebookContainer) {{\n",
       "    x.observe(notebookContainer, {childList: true});\n",
       "}}\n",
       "\n",
       "// Listen for the clearing of the current output cell\n",
       "var outputEl = gd.closest('.output');\n",
       "if (outputEl) {{\n",
       "    x.observe(outputEl, {childList: true});\n",
       "}}\n",
       "\n",
       "                        })                };                });            </script>        </div>"
      ]
     },
     "metadata": {},
     "output_type": "display_data"
    }
   ],
   "source": [
    "px.histogram(laptops_train, x=\"price\")"
   ]
  },
  {
   "cell_type": "code",
   "execution_count": 136,
   "id": "83eeabce-9a9d-4cc1-a84f-cf1e8bf45ca9",
   "metadata": {},
   "outputs": [
    {
     "data": {
      "application/vnd.plotly.v1+json": {
       "config": {
        "plotlyServerURL": "https://plot.ly"
       },
       "data": [
        {
         "alignmentgroup": "True",
         "bingroup": "x",
         "hovertemplate": "price=%{x}<br>count=%{y}<extra></extra>",
         "legendgroup": "",
         "marker": {
          "color": "#636efa",
          "pattern": {
           "shape": ""
          }
         },
         "name": "",
         "offsetgroup": "",
         "orientation": "v",
         "showlegend": false,
         "type": "histogram",
         "x": [
          1449,
          972,
          622,
          2745,
          1951,
          432,
          2315,
          1253,
          1617,
          833,
          426,
          373,
          2640,
          539,
          1366,
          1643,
          806,
          3092,
          539,
          1059,
          207,
          1081,
          279,
          886,
          713,
          453,
          1189,
          865,
          1404,
          969,
          265,
          215,
          475,
          2022,
          1079,
          269,
          397,
          1059,
          528,
          951,
          420,
          1622,
          565,
          738,
          1081,
          1535,
          399,
          1405,
          691,
          504,
          345,
          910,
          431,
          1193,
          415,
          830,
          475,
          634,
          2650,
          449,
          1405,
          951,
          648,
          1018,
          746,
          2145,
          474,
          247,
          594,
          1026,
          1178,
          1033,
          941,
          1184,
          420,
          1026,
          561,
          925,
          573,
          1057,
          1186,
          1634,
          930,
          431,
          427,
          1459,
          756,
          648,
          1568,
          1784,
          756,
          745,
          1295,
          1293,
          1135,
          916,
          649,
          524,
          624,
          1351,
          778,
          377,
          700,
          1210,
          1450,
          713,
          448,
          1291,
          1405,
          1601,
          1365,
          1492,
          1513,
          781,
          1762,
          1513,
          1173,
          1223,
          610,
          1209,
          518,
          2425,
          680,
          1375,
          488,
          280,
          878,
          300,
          1510,
          1004,
          691,
          485,
          956,
          618,
          647,
          1069,
          273,
          1015,
          539,
          756,
          708,
          1207,
          940,
          651,
          399,
          1189,
          2179,
          372,
          2195,
          483,
          1351,
          972,
          538,
          2045,
          1170,
          669,
          680,
          1423,
          1135,
          483,
          436,
          871,
          787,
          1167,
          376,
          1946,
          393,
          1147,
          924,
          815,
          1459,
          756,
          334,
          529,
          998,
          496,
          485,
          3028,
          879,
          1622,
          1135,
          1513,
          2000,
          858,
          1297,
          1676,
          2593,
          842,
          1070,
          1174,
          3056,
          281,
          1082,
          755,
          907,
          989,
          6600,
          1037,
          1492,
          1130,
          1996,
          533,
          802,
          1892,
          3305,
          1512,
          475,
          2109,
          1568,
          646,
          842,
          1522,
          377,
          594,
          1622,
          1008,
          637,
          1115,
          1243,
          1384,
          732,
          972,
          1474,
          859,
          2658,
          900,
          929,
          832,
          964,
          1373,
          431,
          357,
          1622,
          929,
          745,
          972,
          422,
          622,
          4209,
          915,
          637,
          1239,
          962,
          951,
          1167,
          1065,
          604,
          3245,
          730,
          2207,
          886,
          1946,
          507,
          2000,
          759,
          1026,
          482,
          1146,
          2704,
          1838,
          1235,
          480,
          781,
          710,
          611,
          864,
          1622,
          505,
          1101,
          952,
          2119,
          1676,
          795,
          2704,
          878,
          771,
          1189,
          806,
          529,
          918,
          929,
          463,
          897,
          626,
          1029,
          713,
          1187,
          1057,
          1275,
          713,
          215,
          1284,
          529,
          1979,
          799,
          1405,
          1059,
          3121,
          539,
          1588,
          550,
          2296,
          702,
          594,
          1368,
          389,
          2137,
          1128,
          886,
          507,
          1081,
          2704,
          2271,
          507,
          297,
          913,
          2650,
          497,
          1060,
          524,
          1398,
          637,
          1183,
          976,
          713,
          315,
          594,
          1136,
          1444,
          2855,
          1297,
          1020,
          1443,
          485,
          1081,
          1372,
          1135,
          1237,
          297,
          1236,
          297,
          972,
          774,
          2271,
          1708,
          1221,
          301,
          1740,
          405,
          717,
          2193,
          1411,
          1524,
          1881,
          1518,
          1050,
          348,
          1081,
          603,
          1544,
          475,
          1022,
          778,
          691,
          539,
          420,
          1174,
          875,
          972,
          1893,
          1189,
          460,
          2379,
          529,
          940,
          529,
          598,
          334,
          309,
          915,
          1288,
          436,
          1790,
          1189,
          1892,
          2469,
          594,
          1481,
          2310,
          2715,
          1124,
          1721,
          751,
          1459,
          842,
          539,
          1330,
          1015,
          2934,
          2840,
          331,
          1654,
          1238,
          951,
          2433,
          2026,
          1890,
          1818,
          442,
          329,
          2083,
          2102,
          507,
          853,
          1004,
          648,
          745,
          1623,
          584,
          1315,
          2055,
          485,
          1544,
          646,
          3028,
          1254,
          1236,
          1189,
          2163,
          323,
          291,
          1092,
          648,
          2645,
          2650,
          1834,
          375,
          2379,
          2577,
          604,
          561,
          810,
          1546,
          377,
          1189,
          1275,
          478,
          2156,
          1112,
          2801,
          637,
          2137,
          1660,
          1455,
          1059,
          518,
          2214,
          1070,
          1946,
          692,
          588,
          470,
          810,
          864,
          2261,
          328,
          507,
          821,
          1838,
          2010,
          2163,
          1248,
          1379,
          1993,
          1405,
          800,
          2605,
          1476,
          730,
          1809,
          1365,
          634,
          785,
          269,
          611,
          1135,
          2530,
          2055,
          1945,
          2110,
          1095,
          3028,
          1460,
          626,
          1373,
          1189,
          972,
          1892,
          1026,
          985,
          367,
          669,
          1730,
          323,
          286,
          1026,
          1324,
          663,
          1431,
          1243,
          972,
          691,
          904,
          1319,
          1514,
          265,
          564,
          3211,
          962,
          1627,
          1513,
          1513,
          1384,
          745,
          962,
          1450,
          864,
          496,
          633,
          1490,
          3260,
          930,
          1405,
          399,
          1784,
          1481,
          862,
          431,
          1946,
          929,
          1513,
          796,
          1239,
          863,
          377,
          763,
          849,
          500,
          429,
          1871,
          539,
          1208,
          2920,
          588,
          1385,
          242,
          275,
          1026,
          615,
          668,
          377,
          681,
          2126,
          3245,
          907,
          1730,
          1037,
          799,
          372,
          1071,
          2013,
          420,
          702,
          898,
          741,
          269,
          2018,
          2881,
          2953,
          810,
          420,
          1091,
          778,
          1663,
          319,
          2541,
          1621,
          1810,
          659,
          1915,
          799,
          1026,
          652,
          1838,
          572,
          496,
          2191,
          1595,
          1807,
          1907,
          1319,
          723,
          356,
          2379,
          503,
          2487,
          1513,
          610,
          1405,
          377,
          5301,
          951,
          480,
          388,
          940,
          1263,
          615,
          1503,
          2454,
          410,
          1216,
          1585,
          839,
          864,
          1008,
          972,
          258,
          506,
          691,
          1969,
          2056,
          1600,
          897,
          626,
          431,
          981,
          2022,
          269,
          1901,
          2596,
          1200,
          563,
          2651,
          1265,
          486,
          296,
          994,
          2812,
          1312,
          1714,
          3028,
          767,
          1569,
          1289,
          394,
          1151,
          994,
          1228,
          1294,
          3405,
          1329,
          453,
          578,
          583,
          1608,
          538,
          1033,
          806,
          1361,
          445,
          2021,
          885,
          1118,
          377,
          756,
          1400,
          1228,
          535,
          2487,
          1405,
          1079,
          453,
          2219,
          756,
          1622,
          3044,
          662,
          590,
          615,
          344,
          405,
          756,
          2064,
          2802,
          1052,
          291,
          1892,
          723,
          2031,
          745,
          886,
          431,
          464,
          672,
          486,
          860,
          1081,
          2007,
          1288,
          708,
          1351,
          1178,
          785,
          322,
          1543,
          927,
          1275,
          322,
          286,
          1298,
          1825,
          905,
          1622,
          3960,
          1459,
          530,
          778,
          702,
          637,
          529,
          2093,
          702,
          703,
          604,
          1038,
          842,
          2617,
          713,
          2266,
          444,
          1306,
          719,
          1661,
          1081,
          3570,
          357,
          1784,
          583,
          1219,
          4749,
          514,
          2056,
          626,
          1186,
          919,
          1297,
          1189,
          1689,
          3104,
          648,
          1134,
          2011,
          1687,
          1221,
          918,
          708,
          508,
          1189,
          1730,
          322,
          1278,
          1946,
          1103,
          1189,
          1346,
          907,
          2564,
          688,
          3137,
          629,
          3883,
          2543,
          1908,
          356,
          2487,
          2046,
          1178,
          1081,
          2487,
          1065,
          1449,
          219,
          2131,
          1037,
          1260,
          2521,
          323,
          876,
          1459,
          799,
          2234,
          1189,
          1622,
          1892,
          805,
          1503,
          844,
          680,
          1816,
          659,
          1892,
          2613,
          1622,
          1039,
          854,
          2011,
          1946,
          416,
          2710,
          817,
          530,
          1179,
          2704,
          1297,
          2029,
          539,
          1469,
          633,
          384,
          669,
          5950,
          2271,
          561,
          1283,
          1785,
          3002,
          2617,
          723,
          351,
          638,
          1946,
          3325,
          984,
          772,
          2023,
          799,
          665,
          1110,
          2464,
          1588,
          323,
          2055,
          936,
          2059,
          851,
          1022,
          485,
          2769,
          702,
          507,
          920,
          1459,
          1390,
          1100,
          2424,
          984,
          1184,
          2110,
          976,
          1924,
          1141,
          518,
          1502,
          795,
          2000,
          1828,
          431,
          1011,
          987,
          907,
          1839,
          741,
          376,
          723,
          399,
          1946,
          493,
          1482,
          321,
          410,
          1368,
          1513,
          1838,
          1946,
          2866,
          1596,
          1005,
          973,
          664,
          1011,
          2178,
          1384,
          1784,
          2217,
          2124,
          2271,
          1604,
          388,
          853,
          2055,
          1303,
          3354,
          853,
          1102,
          539,
          953,
          1038,
          1730,
          1459,
          1211,
          741,
          1403,
          1243,
          2137,
          1974,
          789,
          1785,
          1260,
          766,
          1243,
          334,
          1708,
          312,
          1946,
          1195,
          1806,
          604,
          1297,
          1773,
          2984,
          1513,
          573,
          669,
          1210,
          1405,
          1081,
          1593,
          741,
          713,
          377,
          2433,
          1920,
          1579,
          1254,
          1611,
          3413,
          2055,
          838,
          1372,
          420,
          1661,
          1904,
          1091,
          1937,
          916,
          503,
          892,
          741,
          3407,
          752,
          2055,
          2124,
          3030,
          1276,
          2218,
          1059,
          1084
         ],
         "xaxis": "x",
         "yaxis": "y"
        }
       ],
       "layout": {
        "autosize": true,
        "barmode": "relative",
        "legend": {
         "tracegroupgap": 0
        },
        "margin": {
         "t": 60
        },
        "template": {
         "data": {
          "bar": [
           {
            "error_x": {
             "color": "#2a3f5f"
            },
            "error_y": {
             "color": "#2a3f5f"
            },
            "marker": {
             "line": {
              "color": "#E5ECF6",
              "width": 0.5
             },
             "pattern": {
              "fillmode": "overlay",
              "size": 10,
              "solidity": 0.2
             }
            },
            "type": "bar"
           }
          ],
          "barpolar": [
           {
            "marker": {
             "line": {
              "color": "#E5ECF6",
              "width": 0.5
             },
             "pattern": {
              "fillmode": "overlay",
              "size": 10,
              "solidity": 0.2
             }
            },
            "type": "barpolar"
           }
          ],
          "carpet": [
           {
            "aaxis": {
             "endlinecolor": "#2a3f5f",
             "gridcolor": "white",
             "linecolor": "white",
             "minorgridcolor": "white",
             "startlinecolor": "#2a3f5f"
            },
            "baxis": {
             "endlinecolor": "#2a3f5f",
             "gridcolor": "white",
             "linecolor": "white",
             "minorgridcolor": "white",
             "startlinecolor": "#2a3f5f"
            },
            "type": "carpet"
           }
          ],
          "choropleth": [
           {
            "colorbar": {
             "outlinewidth": 0,
             "ticks": ""
            },
            "type": "choropleth"
           }
          ],
          "contour": [
           {
            "colorbar": {
             "outlinewidth": 0,
             "ticks": ""
            },
            "colorscale": [
             [
              0,
              "#0d0887"
             ],
             [
              0.1111111111111111,
              "#46039f"
             ],
             [
              0.2222222222222222,
              "#7201a8"
             ],
             [
              0.3333333333333333,
              "#9c179e"
             ],
             [
              0.4444444444444444,
              "#bd3786"
             ],
             [
              0.5555555555555556,
              "#d8576b"
             ],
             [
              0.6666666666666666,
              "#ed7953"
             ],
             [
              0.7777777777777778,
              "#fb9f3a"
             ],
             [
              0.8888888888888888,
              "#fdca26"
             ],
             [
              1,
              "#f0f921"
             ]
            ],
            "type": "contour"
           }
          ],
          "contourcarpet": [
           {
            "colorbar": {
             "outlinewidth": 0,
             "ticks": ""
            },
            "type": "contourcarpet"
           }
          ],
          "heatmap": [
           {
            "colorbar": {
             "outlinewidth": 0,
             "ticks": ""
            },
            "colorscale": [
             [
              0,
              "#0d0887"
             ],
             [
              0.1111111111111111,
              "#46039f"
             ],
             [
              0.2222222222222222,
              "#7201a8"
             ],
             [
              0.3333333333333333,
              "#9c179e"
             ],
             [
              0.4444444444444444,
              "#bd3786"
             ],
             [
              0.5555555555555556,
              "#d8576b"
             ],
             [
              0.6666666666666666,
              "#ed7953"
             ],
             [
              0.7777777777777778,
              "#fb9f3a"
             ],
             [
              0.8888888888888888,
              "#fdca26"
             ],
             [
              1,
              "#f0f921"
             ]
            ],
            "type": "heatmap"
           }
          ],
          "heatmapgl": [
           {
            "colorbar": {
             "outlinewidth": 0,
             "ticks": ""
            },
            "colorscale": [
             [
              0,
              "#0d0887"
             ],
             [
              0.1111111111111111,
              "#46039f"
             ],
             [
              0.2222222222222222,
              "#7201a8"
             ],
             [
              0.3333333333333333,
              "#9c179e"
             ],
             [
              0.4444444444444444,
              "#bd3786"
             ],
             [
              0.5555555555555556,
              "#d8576b"
             ],
             [
              0.6666666666666666,
              "#ed7953"
             ],
             [
              0.7777777777777778,
              "#fb9f3a"
             ],
             [
              0.8888888888888888,
              "#fdca26"
             ],
             [
              1,
              "#f0f921"
             ]
            ],
            "type": "heatmapgl"
           }
          ],
          "histogram": [
           {
            "marker": {
             "pattern": {
              "fillmode": "overlay",
              "size": 10,
              "solidity": 0.2
             }
            },
            "type": "histogram"
           }
          ],
          "histogram2d": [
           {
            "colorbar": {
             "outlinewidth": 0,
             "ticks": ""
            },
            "colorscale": [
             [
              0,
              "#0d0887"
             ],
             [
              0.1111111111111111,
              "#46039f"
             ],
             [
              0.2222222222222222,
              "#7201a8"
             ],
             [
              0.3333333333333333,
              "#9c179e"
             ],
             [
              0.4444444444444444,
              "#bd3786"
             ],
             [
              0.5555555555555556,
              "#d8576b"
             ],
             [
              0.6666666666666666,
              "#ed7953"
             ],
             [
              0.7777777777777778,
              "#fb9f3a"
             ],
             [
              0.8888888888888888,
              "#fdca26"
             ],
             [
              1,
              "#f0f921"
             ]
            ],
            "type": "histogram2d"
           }
          ],
          "histogram2dcontour": [
           {
            "colorbar": {
             "outlinewidth": 0,
             "ticks": ""
            },
            "colorscale": [
             [
              0,
              "#0d0887"
             ],
             [
              0.1111111111111111,
              "#46039f"
             ],
             [
              0.2222222222222222,
              "#7201a8"
             ],
             [
              0.3333333333333333,
              "#9c179e"
             ],
             [
              0.4444444444444444,
              "#bd3786"
             ],
             [
              0.5555555555555556,
              "#d8576b"
             ],
             [
              0.6666666666666666,
              "#ed7953"
             ],
             [
              0.7777777777777778,
              "#fb9f3a"
             ],
             [
              0.8888888888888888,
              "#fdca26"
             ],
             [
              1,
              "#f0f921"
             ]
            ],
            "type": "histogram2dcontour"
           }
          ],
          "mesh3d": [
           {
            "colorbar": {
             "outlinewidth": 0,
             "ticks": ""
            },
            "type": "mesh3d"
           }
          ],
          "parcoords": [
           {
            "line": {
             "colorbar": {
              "outlinewidth": 0,
              "ticks": ""
             }
            },
            "type": "parcoords"
           }
          ],
          "pie": [
           {
            "automargin": true,
            "type": "pie"
           }
          ],
          "scatter": [
           {
            "fillpattern": {
             "fillmode": "overlay",
             "size": 10,
             "solidity": 0.2
            },
            "type": "scatter"
           }
          ],
          "scatter3d": [
           {
            "line": {
             "colorbar": {
              "outlinewidth": 0,
              "ticks": ""
             }
            },
            "marker": {
             "colorbar": {
              "outlinewidth": 0,
              "ticks": ""
             }
            },
            "type": "scatter3d"
           }
          ],
          "scattercarpet": [
           {
            "marker": {
             "colorbar": {
              "outlinewidth": 0,
              "ticks": ""
             }
            },
            "type": "scattercarpet"
           }
          ],
          "scattergeo": [
           {
            "marker": {
             "colorbar": {
              "outlinewidth": 0,
              "ticks": ""
             }
            },
            "type": "scattergeo"
           }
          ],
          "scattergl": [
           {
            "marker": {
             "colorbar": {
              "outlinewidth": 0,
              "ticks": ""
             }
            },
            "type": "scattergl"
           }
          ],
          "scattermapbox": [
           {
            "marker": {
             "colorbar": {
              "outlinewidth": 0,
              "ticks": ""
             }
            },
            "type": "scattermapbox"
           }
          ],
          "scatterpolar": [
           {
            "marker": {
             "colorbar": {
              "outlinewidth": 0,
              "ticks": ""
             }
            },
            "type": "scatterpolar"
           }
          ],
          "scatterpolargl": [
           {
            "marker": {
             "colorbar": {
              "outlinewidth": 0,
              "ticks": ""
             }
            },
            "type": "scatterpolargl"
           }
          ],
          "scatterternary": [
           {
            "marker": {
             "colorbar": {
              "outlinewidth": 0,
              "ticks": ""
             }
            },
            "type": "scatterternary"
           }
          ],
          "surface": [
           {
            "colorbar": {
             "outlinewidth": 0,
             "ticks": ""
            },
            "colorscale": [
             [
              0,
              "#0d0887"
             ],
             [
              0.1111111111111111,
              "#46039f"
             ],
             [
              0.2222222222222222,
              "#7201a8"
             ],
             [
              0.3333333333333333,
              "#9c179e"
             ],
             [
              0.4444444444444444,
              "#bd3786"
             ],
             [
              0.5555555555555556,
              "#d8576b"
             ],
             [
              0.6666666666666666,
              "#ed7953"
             ],
             [
              0.7777777777777778,
              "#fb9f3a"
             ],
             [
              0.8888888888888888,
              "#fdca26"
             ],
             [
              1,
              "#f0f921"
             ]
            ],
            "type": "surface"
           }
          ],
          "table": [
           {
            "cells": {
             "fill": {
              "color": "#EBF0F8"
             },
             "line": {
              "color": "white"
             }
            },
            "header": {
             "fill": {
              "color": "#C8D4E3"
             },
             "line": {
              "color": "white"
             }
            },
            "type": "table"
           }
          ]
         },
         "layout": {
          "annotationdefaults": {
           "arrowcolor": "#2a3f5f",
           "arrowhead": 0,
           "arrowwidth": 1
          },
          "autotypenumbers": "strict",
          "coloraxis": {
           "colorbar": {
            "outlinewidth": 0,
            "ticks": ""
           }
          },
          "colorscale": {
           "diverging": [
            [
             0,
             "#8e0152"
            ],
            [
             0.1,
             "#c51b7d"
            ],
            [
             0.2,
             "#de77ae"
            ],
            [
             0.3,
             "#f1b6da"
            ],
            [
             0.4,
             "#fde0ef"
            ],
            [
             0.5,
             "#f7f7f7"
            ],
            [
             0.6,
             "#e6f5d0"
            ],
            [
             0.7,
             "#b8e186"
            ],
            [
             0.8,
             "#7fbc41"
            ],
            [
             0.9,
             "#4d9221"
            ],
            [
             1,
             "#276419"
            ]
           ],
           "sequential": [
            [
             0,
             "#0d0887"
            ],
            [
             0.1111111111111111,
             "#46039f"
            ],
            [
             0.2222222222222222,
             "#7201a8"
            ],
            [
             0.3333333333333333,
             "#9c179e"
            ],
            [
             0.4444444444444444,
             "#bd3786"
            ],
            [
             0.5555555555555556,
             "#d8576b"
            ],
            [
             0.6666666666666666,
             "#ed7953"
            ],
            [
             0.7777777777777778,
             "#fb9f3a"
            ],
            [
             0.8888888888888888,
             "#fdca26"
            ],
            [
             1,
             "#f0f921"
            ]
           ],
           "sequentialminus": [
            [
             0,
             "#0d0887"
            ],
            [
             0.1111111111111111,
             "#46039f"
            ],
            [
             0.2222222222222222,
             "#7201a8"
            ],
            [
             0.3333333333333333,
             "#9c179e"
            ],
            [
             0.4444444444444444,
             "#bd3786"
            ],
            [
             0.5555555555555556,
             "#d8576b"
            ],
            [
             0.6666666666666666,
             "#ed7953"
            ],
            [
             0.7777777777777778,
             "#fb9f3a"
            ],
            [
             0.8888888888888888,
             "#fdca26"
            ],
            [
             1,
             "#f0f921"
            ]
           ]
          },
          "colorway": [
           "#636efa",
           "#EF553B",
           "#00cc96",
           "#ab63fa",
           "#FFA15A",
           "#19d3f3",
           "#FF6692",
           "#B6E880",
           "#FF97FF",
           "#FECB52"
          ],
          "font": {
           "color": "#2a3f5f"
          },
          "geo": {
           "bgcolor": "white",
           "lakecolor": "white",
           "landcolor": "#E5ECF6",
           "showlakes": true,
           "showland": true,
           "subunitcolor": "white"
          },
          "hoverlabel": {
           "align": "left"
          },
          "hovermode": "closest",
          "mapbox": {
           "style": "light"
          },
          "paper_bgcolor": "white",
          "plot_bgcolor": "#E5ECF6",
          "polar": {
           "angularaxis": {
            "gridcolor": "white",
            "linecolor": "white",
            "ticks": ""
           },
           "bgcolor": "#E5ECF6",
           "radialaxis": {
            "gridcolor": "white",
            "linecolor": "white",
            "ticks": ""
           }
          },
          "scene": {
           "xaxis": {
            "backgroundcolor": "#E5ECF6",
            "gridcolor": "white",
            "gridwidth": 2,
            "linecolor": "white",
            "showbackground": true,
            "ticks": "",
            "zerolinecolor": "white"
           },
           "yaxis": {
            "backgroundcolor": "#E5ECF6",
            "gridcolor": "white",
            "gridwidth": 2,
            "linecolor": "white",
            "showbackground": true,
            "ticks": "",
            "zerolinecolor": "white"
           },
           "zaxis": {
            "backgroundcolor": "#E5ECF6",
            "gridcolor": "white",
            "gridwidth": 2,
            "linecolor": "white",
            "showbackground": true,
            "ticks": "",
            "zerolinecolor": "white"
           }
          },
          "shapedefaults": {
           "line": {
            "color": "#2a3f5f"
           }
          },
          "ternary": {
           "aaxis": {
            "gridcolor": "white",
            "linecolor": "white",
            "ticks": ""
           },
           "baxis": {
            "gridcolor": "white",
            "linecolor": "white",
            "ticks": ""
           },
           "bgcolor": "#E5ECF6",
           "caxis": {
            "gridcolor": "white",
            "linecolor": "white",
            "ticks": ""
           }
          },
          "title": {
           "x": 0.05
          },
          "xaxis": {
           "automargin": true,
           "gridcolor": "white",
           "linecolor": "white",
           "ticks": "",
           "title": {
            "standoff": 15
           },
           "zerolinecolor": "white",
           "zerolinewidth": 2
          },
          "yaxis": {
           "automargin": true,
           "gridcolor": "white",
           "linecolor": "white",
           "ticks": "",
           "title": {
            "standoff": 15
           },
           "zerolinecolor": "white",
           "zerolinewidth": 2
          }
         }
        },
        "xaxis": {
         "anchor": "y",
         "domain": [
          0,
          1
         ],
         "range": [
          0,
          3800
         ],
         "title": {
          "text": "price"
         },
         "type": "linear"
        },
        "yaxis": {
         "anchor": "x",
         "autorange": true,
         "domain": [
          0,
          1
         ],
         "range": [
          0,
          77.89473684210526
         ],
         "title": {
          "text": "count"
         }
        }
       }
      },
      "text/html": [
       "<div>                            <div id=\"294dd6a5-1473-4b48-86d9-12c01d5832cf\" class=\"plotly-graph-div\" style=\"height:525px; width:100%;\"></div>            <script type=\"text/javascript\">                require([\"plotly\"], function(Plotly) {                    window.PLOTLYENV=window.PLOTLYENV || {};                                    if (document.getElementById(\"294dd6a5-1473-4b48-86d9-12c01d5832cf\")) {                    Plotly.newPlot(                        \"294dd6a5-1473-4b48-86d9-12c01d5832cf\",                        [{\"alignmentgroup\":\"True\",\"bingroup\":\"x\",\"hovertemplate\":\"price=%{x}\\u003cbr\\u003ecount=%{y}\\u003cextra\\u003e\\u003c\\u002fextra\\u003e\",\"legendgroup\":\"\",\"marker\":{\"color\":\"#636efa\",\"pattern\":{\"shape\":\"\"}},\"name\":\"\",\"offsetgroup\":\"\",\"orientation\":\"v\",\"showlegend\":false,\"x\":[1449,972,622,2745,1951,432,2315,1253,1617,833,426,373,2640,539,1366,1643,806,3092,539,1059,207,1081,279,886,713,453,1189,865,1404,969,265,215,475,2022,1079,269,397,1059,528,951,420,1622,565,738,1081,1535,399,1405,691,504,345,910,431,1193,415,830,475,634,2650,449,1405,951,648,1018,746,2145,474,247,594,1026,1178,1033,941,1184,420,1026,561,925,573,1057,1186,1634,930,431,427,1459,756,648,1568,1784,756,745,1295,1293,1135,916,649,524,624,1351,778,377,700,1210,1450,713,448,1291,1405,1601,1365,1492,1513,781,1762,1513,1173,1223,610,1209,518,2425,680,1375,488,280,878,300,1510,1004,691,485,956,618,647,1069,273,1015,539,756,708,1207,940,651,399,1189,2179,372,2195,483,1351,972,538,2045,1170,669,680,1423,1135,483,436,871,787,1167,376,1946,393,1147,924,815,1459,756,334,529,998,496,485,3028,879,1622,1135,1513,2000,858,1297,1676,2593,842,1070,1174,3056,281,1082,755,907,989,6600,1037,1492,1130,1996,533,802,1892,3305,1512,475,2109,1568,646,842,1522,377,594,1622,1008,637,1115,1243,1384,732,972,1474,859,2658,900,929,832,964,1373,431,357,1622,929,745,972,422,622,4209,915,637,1239,962,951,1167,1065,604,3245,730,2207,886,1946,507,2000,759,1026,482,1146,2704,1838,1235,480,781,710,611,864,1622,505,1101,952,2119,1676,795,2704,878,771,1189,806,529,918,929,463,897,626,1029,713,1187,1057,1275,713,215,1284,529,1979,799,1405,1059,3121,539,1588,550,2296,702,594,1368,389,2137,1128,886,507,1081,2704,2271,507,297,913,2650,497,1060,524,1398,637,1183,976,713,315,594,1136,1444,2855,1297,1020,1443,485,1081,1372,1135,1237,297,1236,297,972,774,2271,1708,1221,301,1740,405,717,2193,1411,1524,1881,1518,1050,348,1081,603,1544,475,1022,778,691,539,420,1174,875,972,1893,1189,460,2379,529,940,529,598,334,309,915,1288,436,1790,1189,1892,2469,594,1481,2310,2715,1124,1721,751,1459,842,539,1330,1015,2934,2840,331,1654,1238,951,2433,2026,1890,1818,442,329,2083,2102,507,853,1004,648,745,1623,584,1315,2055,485,1544,646,3028,1254,1236,1189,2163,323,291,1092,648,2645,2650,1834,375,2379,2577,604,561,810,1546,377,1189,1275,478,2156,1112,2801,637,2137,1660,1455,1059,518,2214,1070,1946,692,588,470,810,864,2261,328,507,821,1838,2010,2163,1248,1379,1993,1405,800,2605,1476,730,1809,1365,634,785,269,611,1135,2530,2055,1945,2110,1095,3028,1460,626,1373,1189,972,1892,1026,985,367,669,1730,323,286,1026,1324,663,1431,1243,972,691,904,1319,1514,265,564,3211,962,1627,1513,1513,1384,745,962,1450,864,496,633,1490,3260,930,1405,399,1784,1481,862,431,1946,929,1513,796,1239,863,377,763,849,500,429,1871,539,1208,2920,588,1385,242,275,1026,615,668,377,681,2126,3245,907,1730,1037,799,372,1071,2013,420,702,898,741,269,2018,2881,2953,810,420,1091,778,1663,319,2541,1621,1810,659,1915,799,1026,652,1838,572,496,2191,1595,1807,1907,1319,723,356,2379,503,2487,1513,610,1405,377,5301,951,480,388,940,1263,615,1503,2454,410,1216,1585,839,864,1008,972,258,506,691,1969,2056,1600,897,626,431,981,2022,269,1901,2596,1200,563,2651,1265,486,296,994,2812,1312,1714,3028,767,1569,1289,394,1151,994,1228,1294,3405,1329,453,578,583,1608,538,1033,806,1361,445,2021,885,1118,377,756,1400,1228,535,2487,1405,1079,453,2219,756,1622,3044,662,590,615,344,405,756,2064,2802,1052,291,1892,723,2031,745,886,431,464,672,486,860,1081,2007,1288,708,1351,1178,785,322,1543,927,1275,322,286,1298,1825,905,1622,3960,1459,530,778,702,637,529,2093,702,703,604,1038,842,2617,713,2266,444,1306,719,1661,1081,3570,357,1784,583,1219,4749,514,2056,626,1186,919,1297,1189,1689,3104,648,1134,2011,1687,1221,918,708,508,1189,1730,322,1278,1946,1103,1189,1346,907,2564,688,3137,629,3883,2543,1908,356,2487,2046,1178,1081,2487,1065,1449,219,2131,1037,1260,2521,323,876,1459,799,2234,1189,1622,1892,805,1503,844,680,1816,659,1892,2613,1622,1039,854,2011,1946,416,2710,817,530,1179,2704,1297,2029,539,1469,633,384,669,5950,2271,561,1283,1785,3002,2617,723,351,638,1946,3325,984,772,2023,799,665,1110,2464,1588,323,2055,936,2059,851,1022,485,2769,702,507,920,1459,1390,1100,2424,984,1184,2110,976,1924,1141,518,1502,795,2000,1828,431,1011,987,907,1839,741,376,723,399,1946,493,1482,321,410,1368,1513,1838,1946,2866,1596,1005,973,664,1011,2178,1384,1784,2217,2124,2271,1604,388,853,2055,1303,3354,853,1102,539,953,1038,1730,1459,1211,741,1403,1243,2137,1974,789,1785,1260,766,1243,334,1708,312,1946,1195,1806,604,1297,1773,2984,1513,573,669,1210,1405,1081,1593,741,713,377,2433,1920,1579,1254,1611,3413,2055,838,1372,420,1661,1904,1091,1937,916,503,892,741,3407,752,2055,2124,3030,1276,2218,1059,1084],\"xaxis\":\"x\",\"yaxis\":\"y\",\"type\":\"histogram\"}],                        {\"template\":{\"data\":{\"histogram2dcontour\":[{\"type\":\"histogram2dcontour\",\"colorbar\":{\"outlinewidth\":0,\"ticks\":\"\"},\"colorscale\":[[0.0,\"#0d0887\"],[0.1111111111111111,\"#46039f\"],[0.2222222222222222,\"#7201a8\"],[0.3333333333333333,\"#9c179e\"],[0.4444444444444444,\"#bd3786\"],[0.5555555555555556,\"#d8576b\"],[0.6666666666666666,\"#ed7953\"],[0.7777777777777778,\"#fb9f3a\"],[0.8888888888888888,\"#fdca26\"],[1.0,\"#f0f921\"]]}],\"choropleth\":[{\"type\":\"choropleth\",\"colorbar\":{\"outlinewidth\":0,\"ticks\":\"\"}}],\"histogram2d\":[{\"type\":\"histogram2d\",\"colorbar\":{\"outlinewidth\":0,\"ticks\":\"\"},\"colorscale\":[[0.0,\"#0d0887\"],[0.1111111111111111,\"#46039f\"],[0.2222222222222222,\"#7201a8\"],[0.3333333333333333,\"#9c179e\"],[0.4444444444444444,\"#bd3786\"],[0.5555555555555556,\"#d8576b\"],[0.6666666666666666,\"#ed7953\"],[0.7777777777777778,\"#fb9f3a\"],[0.8888888888888888,\"#fdca26\"],[1.0,\"#f0f921\"]]}],\"heatmap\":[{\"type\":\"heatmap\",\"colorbar\":{\"outlinewidth\":0,\"ticks\":\"\"},\"colorscale\":[[0.0,\"#0d0887\"],[0.1111111111111111,\"#46039f\"],[0.2222222222222222,\"#7201a8\"],[0.3333333333333333,\"#9c179e\"],[0.4444444444444444,\"#bd3786\"],[0.5555555555555556,\"#d8576b\"],[0.6666666666666666,\"#ed7953\"],[0.7777777777777778,\"#fb9f3a\"],[0.8888888888888888,\"#fdca26\"],[1.0,\"#f0f921\"]]}],\"heatmapgl\":[{\"type\":\"heatmapgl\",\"colorbar\":{\"outlinewidth\":0,\"ticks\":\"\"},\"colorscale\":[[0.0,\"#0d0887\"],[0.1111111111111111,\"#46039f\"],[0.2222222222222222,\"#7201a8\"],[0.3333333333333333,\"#9c179e\"],[0.4444444444444444,\"#bd3786\"],[0.5555555555555556,\"#d8576b\"],[0.6666666666666666,\"#ed7953\"],[0.7777777777777778,\"#fb9f3a\"],[0.8888888888888888,\"#fdca26\"],[1.0,\"#f0f921\"]]}],\"contourcarpet\":[{\"type\":\"contourcarpet\",\"colorbar\":{\"outlinewidth\":0,\"ticks\":\"\"}}],\"contour\":[{\"type\":\"contour\",\"colorbar\":{\"outlinewidth\":0,\"ticks\":\"\"},\"colorscale\":[[0.0,\"#0d0887\"],[0.1111111111111111,\"#46039f\"],[0.2222222222222222,\"#7201a8\"],[0.3333333333333333,\"#9c179e\"],[0.4444444444444444,\"#bd3786\"],[0.5555555555555556,\"#d8576b\"],[0.6666666666666666,\"#ed7953\"],[0.7777777777777778,\"#fb9f3a\"],[0.8888888888888888,\"#fdca26\"],[1.0,\"#f0f921\"]]}],\"surface\":[{\"type\":\"surface\",\"colorbar\":{\"outlinewidth\":0,\"ticks\":\"\"},\"colorscale\":[[0.0,\"#0d0887\"],[0.1111111111111111,\"#46039f\"],[0.2222222222222222,\"#7201a8\"],[0.3333333333333333,\"#9c179e\"],[0.4444444444444444,\"#bd3786\"],[0.5555555555555556,\"#d8576b\"],[0.6666666666666666,\"#ed7953\"],[0.7777777777777778,\"#fb9f3a\"],[0.8888888888888888,\"#fdca26\"],[1.0,\"#f0f921\"]]}],\"mesh3d\":[{\"type\":\"mesh3d\",\"colorbar\":{\"outlinewidth\":0,\"ticks\":\"\"}}],\"scatter\":[{\"fillpattern\":{\"fillmode\":\"overlay\",\"size\":10,\"solidity\":0.2},\"type\":\"scatter\"}],\"parcoords\":[{\"type\":\"parcoords\",\"line\":{\"colorbar\":{\"outlinewidth\":0,\"ticks\":\"\"}}}],\"scatterpolargl\":[{\"type\":\"scatterpolargl\",\"marker\":{\"colorbar\":{\"outlinewidth\":0,\"ticks\":\"\"}}}],\"bar\":[{\"error_x\":{\"color\":\"#2a3f5f\"},\"error_y\":{\"color\":\"#2a3f5f\"},\"marker\":{\"line\":{\"color\":\"#E5ECF6\",\"width\":0.5},\"pattern\":{\"fillmode\":\"overlay\",\"size\":10,\"solidity\":0.2}},\"type\":\"bar\"}],\"scattergeo\":[{\"type\":\"scattergeo\",\"marker\":{\"colorbar\":{\"outlinewidth\":0,\"ticks\":\"\"}}}],\"scatterpolar\":[{\"type\":\"scatterpolar\",\"marker\":{\"colorbar\":{\"outlinewidth\":0,\"ticks\":\"\"}}}],\"histogram\":[{\"marker\":{\"pattern\":{\"fillmode\":\"overlay\",\"size\":10,\"solidity\":0.2}},\"type\":\"histogram\"}],\"scattergl\":[{\"type\":\"scattergl\",\"marker\":{\"colorbar\":{\"outlinewidth\":0,\"ticks\":\"\"}}}],\"scatter3d\":[{\"type\":\"scatter3d\",\"line\":{\"colorbar\":{\"outlinewidth\":0,\"ticks\":\"\"}},\"marker\":{\"colorbar\":{\"outlinewidth\":0,\"ticks\":\"\"}}}],\"scattermapbox\":[{\"type\":\"scattermapbox\",\"marker\":{\"colorbar\":{\"outlinewidth\":0,\"ticks\":\"\"}}}],\"scatterternary\":[{\"type\":\"scatterternary\",\"marker\":{\"colorbar\":{\"outlinewidth\":0,\"ticks\":\"\"}}}],\"scattercarpet\":[{\"type\":\"scattercarpet\",\"marker\":{\"colorbar\":{\"outlinewidth\":0,\"ticks\":\"\"}}}],\"carpet\":[{\"aaxis\":{\"endlinecolor\":\"#2a3f5f\",\"gridcolor\":\"white\",\"linecolor\":\"white\",\"minorgridcolor\":\"white\",\"startlinecolor\":\"#2a3f5f\"},\"baxis\":{\"endlinecolor\":\"#2a3f5f\",\"gridcolor\":\"white\",\"linecolor\":\"white\",\"minorgridcolor\":\"white\",\"startlinecolor\":\"#2a3f5f\"},\"type\":\"carpet\"}],\"table\":[{\"cells\":{\"fill\":{\"color\":\"#EBF0F8\"},\"line\":{\"color\":\"white\"}},\"header\":{\"fill\":{\"color\":\"#C8D4E3\"},\"line\":{\"color\":\"white\"}},\"type\":\"table\"}],\"barpolar\":[{\"marker\":{\"line\":{\"color\":\"#E5ECF6\",\"width\":0.5},\"pattern\":{\"fillmode\":\"overlay\",\"size\":10,\"solidity\":0.2}},\"type\":\"barpolar\"}],\"pie\":[{\"automargin\":true,\"type\":\"pie\"}]},\"layout\":{\"autotypenumbers\":\"strict\",\"colorway\":[\"#636efa\",\"#EF553B\",\"#00cc96\",\"#ab63fa\",\"#FFA15A\",\"#19d3f3\",\"#FF6692\",\"#B6E880\",\"#FF97FF\",\"#FECB52\"],\"font\":{\"color\":\"#2a3f5f\"},\"hovermode\":\"closest\",\"hoverlabel\":{\"align\":\"left\"},\"paper_bgcolor\":\"white\",\"plot_bgcolor\":\"#E5ECF6\",\"polar\":{\"bgcolor\":\"#E5ECF6\",\"angularaxis\":{\"gridcolor\":\"white\",\"linecolor\":\"white\",\"ticks\":\"\"},\"radialaxis\":{\"gridcolor\":\"white\",\"linecolor\":\"white\",\"ticks\":\"\"}},\"ternary\":{\"bgcolor\":\"#E5ECF6\",\"aaxis\":{\"gridcolor\":\"white\",\"linecolor\":\"white\",\"ticks\":\"\"},\"baxis\":{\"gridcolor\":\"white\",\"linecolor\":\"white\",\"ticks\":\"\"},\"caxis\":{\"gridcolor\":\"white\",\"linecolor\":\"white\",\"ticks\":\"\"}},\"coloraxis\":{\"colorbar\":{\"outlinewidth\":0,\"ticks\":\"\"}},\"colorscale\":{\"sequential\":[[0.0,\"#0d0887\"],[0.1111111111111111,\"#46039f\"],[0.2222222222222222,\"#7201a8\"],[0.3333333333333333,\"#9c179e\"],[0.4444444444444444,\"#bd3786\"],[0.5555555555555556,\"#d8576b\"],[0.6666666666666666,\"#ed7953\"],[0.7777777777777778,\"#fb9f3a\"],[0.8888888888888888,\"#fdca26\"],[1.0,\"#f0f921\"]],\"sequentialminus\":[[0.0,\"#0d0887\"],[0.1111111111111111,\"#46039f\"],[0.2222222222222222,\"#7201a8\"],[0.3333333333333333,\"#9c179e\"],[0.4444444444444444,\"#bd3786\"],[0.5555555555555556,\"#d8576b\"],[0.6666666666666666,\"#ed7953\"],[0.7777777777777778,\"#fb9f3a\"],[0.8888888888888888,\"#fdca26\"],[1.0,\"#f0f921\"]],\"diverging\":[[0,\"#8e0152\"],[0.1,\"#c51b7d\"],[0.2,\"#de77ae\"],[0.3,\"#f1b6da\"],[0.4,\"#fde0ef\"],[0.5,\"#f7f7f7\"],[0.6,\"#e6f5d0\"],[0.7,\"#b8e186\"],[0.8,\"#7fbc41\"],[0.9,\"#4d9221\"],[1,\"#276419\"]]},\"xaxis\":{\"gridcolor\":\"white\",\"linecolor\":\"white\",\"ticks\":\"\",\"title\":{\"standoff\":15},\"zerolinecolor\":\"white\",\"automargin\":true,\"zerolinewidth\":2},\"yaxis\":{\"gridcolor\":\"white\",\"linecolor\":\"white\",\"ticks\":\"\",\"title\":{\"standoff\":15},\"zerolinecolor\":\"white\",\"automargin\":true,\"zerolinewidth\":2},\"scene\":{\"xaxis\":{\"backgroundcolor\":\"#E5ECF6\",\"gridcolor\":\"white\",\"linecolor\":\"white\",\"showbackground\":true,\"ticks\":\"\",\"zerolinecolor\":\"white\",\"gridwidth\":2},\"yaxis\":{\"backgroundcolor\":\"#E5ECF6\",\"gridcolor\":\"white\",\"linecolor\":\"white\",\"showbackground\":true,\"ticks\":\"\",\"zerolinecolor\":\"white\",\"gridwidth\":2},\"zaxis\":{\"backgroundcolor\":\"#E5ECF6\",\"gridcolor\":\"white\",\"linecolor\":\"white\",\"showbackground\":true,\"ticks\":\"\",\"zerolinecolor\":\"white\",\"gridwidth\":2}},\"shapedefaults\":{\"line\":{\"color\":\"#2a3f5f\"}},\"annotationdefaults\":{\"arrowcolor\":\"#2a3f5f\",\"arrowhead\":0,\"arrowwidth\":1},\"geo\":{\"bgcolor\":\"white\",\"landcolor\":\"#E5ECF6\",\"subunitcolor\":\"white\",\"showland\":true,\"showlakes\":true,\"lakecolor\":\"white\"},\"title\":{\"x\":0.05},\"mapbox\":{\"style\":\"light\"}}},\"xaxis\":{\"anchor\":\"y\",\"domain\":[0.0,1.0],\"title\":{\"text\":\"price\"},\"range\":[0,3800]},\"yaxis\":{\"anchor\":\"x\",\"domain\":[0.0,1.0],\"title\":{\"text\":\"count\"}},\"legend\":{\"tracegroupgap\":0},\"margin\":{\"t\":60},\"barmode\":\"relative\"},                        {\"responsive\": true}                    ).then(function(){\n",
       "                            \n",
       "var gd = document.getElementById('294dd6a5-1473-4b48-86d9-12c01d5832cf');\n",
       "var x = new MutationObserver(function (mutations, observer) {{\n",
       "        var display = window.getComputedStyle(gd).display;\n",
       "        if (!display || display === 'none') {{\n",
       "            console.log([gd, 'removed!']);\n",
       "            Plotly.purge(gd);\n",
       "            observer.disconnect();\n",
       "        }}\n",
       "}});\n",
       "\n",
       "// Listen for the removal of the full notebook cells\n",
       "var notebookContainer = gd.closest('#notebook-container');\n",
       "if (notebookContainer) {{\n",
       "    x.observe(notebookContainer, {childList: true});\n",
       "}}\n",
       "\n",
       "// Listen for the clearing of the current output cell\n",
       "var outputEl = gd.closest('.output');\n",
       "if (outputEl) {{\n",
       "    x.observe(outputEl, {childList: true});\n",
       "}}\n",
       "\n",
       "                        })                };                });            </script>        </div>"
      ]
     },
     "metadata": {},
     "output_type": "display_data"
    }
   ],
   "source": [
    "px.histogram(laptops_train, x=\"price\", range_x=[0, 3800])"
   ]
  },
  {
   "cell_type": "code",
   "execution_count": 137,
   "id": "d1cb3cb1-fd3f-4b7b-bb75-91e1eba60f70",
   "metadata": {},
   "outputs": [
    {
     "data": {
      "application/vnd.plotly.v1+json": {
       "config": {
        "plotlyServerURL": "https://plot.ly"
       },
       "data": [
        {
         "alignmentgroup": "True",
         "hovertemplate": "price=%{x}<extra></extra>",
         "legendgroup": "",
         "marker": {
          "color": "#636efa"
         },
         "name": "",
         "notched": false,
         "offsetgroup": "",
         "orientation": "h",
         "showlegend": false,
         "type": "box",
         "x": [
          1449,
          972,
          622,
          2745,
          1951,
          432,
          2315,
          1253,
          1617,
          833,
          426,
          373,
          2640,
          539,
          1366,
          1643,
          806,
          3092,
          539,
          1059,
          207,
          1081,
          279,
          886,
          713,
          453,
          1189,
          865,
          1404,
          969,
          265,
          215,
          475,
          2022,
          1079,
          269,
          397,
          1059,
          528,
          951,
          420,
          1622,
          565,
          738,
          1081,
          1535,
          399,
          1405,
          691,
          504,
          345,
          910,
          431,
          1193,
          415,
          830,
          475,
          634,
          2650,
          449,
          1405,
          951,
          648,
          1018,
          746,
          2145,
          474,
          247,
          594,
          1026,
          1178,
          1033,
          941,
          1184,
          420,
          1026,
          561,
          925,
          573,
          1057,
          1186,
          1634,
          930,
          431,
          427,
          1459,
          756,
          648,
          1568,
          1784,
          756,
          745,
          1295,
          1293,
          1135,
          916,
          649,
          524,
          624,
          1351,
          778,
          377,
          700,
          1210,
          1450,
          713,
          448,
          1291,
          1405,
          1601,
          1365,
          1492,
          1513,
          781,
          1762,
          1513,
          1173,
          1223,
          610,
          1209,
          518,
          2425,
          680,
          1375,
          488,
          280,
          878,
          300,
          1510,
          1004,
          691,
          485,
          956,
          618,
          647,
          1069,
          273,
          1015,
          539,
          756,
          708,
          1207,
          940,
          651,
          399,
          1189,
          2179,
          372,
          2195,
          483,
          1351,
          972,
          538,
          2045,
          1170,
          669,
          680,
          1423,
          1135,
          483,
          436,
          871,
          787,
          1167,
          376,
          1946,
          393,
          1147,
          924,
          815,
          1459,
          756,
          334,
          529,
          998,
          496,
          485,
          3028,
          879,
          1622,
          1135,
          1513,
          2000,
          858,
          1297,
          1676,
          2593,
          842,
          1070,
          1174,
          3056,
          281,
          1082,
          755,
          907,
          989,
          6600,
          1037,
          1492,
          1130,
          1996,
          533,
          802,
          1892,
          3305,
          1512,
          475,
          2109,
          1568,
          646,
          842,
          1522,
          377,
          594,
          1622,
          1008,
          637,
          1115,
          1243,
          1384,
          732,
          972,
          1474,
          859,
          2658,
          900,
          929,
          832,
          964,
          1373,
          431,
          357,
          1622,
          929,
          745,
          972,
          422,
          622,
          4209,
          915,
          637,
          1239,
          962,
          951,
          1167,
          1065,
          604,
          3245,
          730,
          2207,
          886,
          1946,
          507,
          2000,
          759,
          1026,
          482,
          1146,
          2704,
          1838,
          1235,
          480,
          781,
          710,
          611,
          864,
          1622,
          505,
          1101,
          952,
          2119,
          1676,
          795,
          2704,
          878,
          771,
          1189,
          806,
          529,
          918,
          929,
          463,
          897,
          626,
          1029,
          713,
          1187,
          1057,
          1275,
          713,
          215,
          1284,
          529,
          1979,
          799,
          1405,
          1059,
          3121,
          539,
          1588,
          550,
          2296,
          702,
          594,
          1368,
          389,
          2137,
          1128,
          886,
          507,
          1081,
          2704,
          2271,
          507,
          297,
          913,
          2650,
          497,
          1060,
          524,
          1398,
          637,
          1183,
          976,
          713,
          315,
          594,
          1136,
          1444,
          2855,
          1297,
          1020,
          1443,
          485,
          1081,
          1372,
          1135,
          1237,
          297,
          1236,
          297,
          972,
          774,
          2271,
          1708,
          1221,
          301,
          1740,
          405,
          717,
          2193,
          1411,
          1524,
          1881,
          1518,
          1050,
          348,
          1081,
          603,
          1544,
          475,
          1022,
          778,
          691,
          539,
          420,
          1174,
          875,
          972,
          1893,
          1189,
          460,
          2379,
          529,
          940,
          529,
          598,
          334,
          309,
          915,
          1288,
          436,
          1790,
          1189,
          1892,
          2469,
          594,
          1481,
          2310,
          2715,
          1124,
          1721,
          751,
          1459,
          842,
          539,
          1330,
          1015,
          2934,
          2840,
          331,
          1654,
          1238,
          951,
          2433,
          2026,
          1890,
          1818,
          442,
          329,
          2083,
          2102,
          507,
          853,
          1004,
          648,
          745,
          1623,
          584,
          1315,
          2055,
          485,
          1544,
          646,
          3028,
          1254,
          1236,
          1189,
          2163,
          323,
          291,
          1092,
          648,
          2645,
          2650,
          1834,
          375,
          2379,
          2577,
          604,
          561,
          810,
          1546,
          377,
          1189,
          1275,
          478,
          2156,
          1112,
          2801,
          637,
          2137,
          1660,
          1455,
          1059,
          518,
          2214,
          1070,
          1946,
          692,
          588,
          470,
          810,
          864,
          2261,
          328,
          507,
          821,
          1838,
          2010,
          2163,
          1248,
          1379,
          1993,
          1405,
          800,
          2605,
          1476,
          730,
          1809,
          1365,
          634,
          785,
          269,
          611,
          1135,
          2530,
          2055,
          1945,
          2110,
          1095,
          3028,
          1460,
          626,
          1373,
          1189,
          972,
          1892,
          1026,
          985,
          367,
          669,
          1730,
          323,
          286,
          1026,
          1324,
          663,
          1431,
          1243,
          972,
          691,
          904,
          1319,
          1514,
          265,
          564,
          3211,
          962,
          1627,
          1513,
          1513,
          1384,
          745,
          962,
          1450,
          864,
          496,
          633,
          1490,
          3260,
          930,
          1405,
          399,
          1784,
          1481,
          862,
          431,
          1946,
          929,
          1513,
          796,
          1239,
          863,
          377,
          763,
          849,
          500,
          429,
          1871,
          539,
          1208,
          2920,
          588,
          1385,
          242,
          275,
          1026,
          615,
          668,
          377,
          681,
          2126,
          3245,
          907,
          1730,
          1037,
          799,
          372,
          1071,
          2013,
          420,
          702,
          898,
          741,
          269,
          2018,
          2881,
          2953,
          810,
          420,
          1091,
          778,
          1663,
          319,
          2541,
          1621,
          1810,
          659,
          1915,
          799,
          1026,
          652,
          1838,
          572,
          496,
          2191,
          1595,
          1807,
          1907,
          1319,
          723,
          356,
          2379,
          503,
          2487,
          1513,
          610,
          1405,
          377,
          5301,
          951,
          480,
          388,
          940,
          1263,
          615,
          1503,
          2454,
          410,
          1216,
          1585,
          839,
          864,
          1008,
          972,
          258,
          506,
          691,
          1969,
          2056,
          1600,
          897,
          626,
          431,
          981,
          2022,
          269,
          1901,
          2596,
          1200,
          563,
          2651,
          1265,
          486,
          296,
          994,
          2812,
          1312,
          1714,
          3028,
          767,
          1569,
          1289,
          394,
          1151,
          994,
          1228,
          1294,
          3405,
          1329,
          453,
          578,
          583,
          1608,
          538,
          1033,
          806,
          1361,
          445,
          2021,
          885,
          1118,
          377,
          756,
          1400,
          1228,
          535,
          2487,
          1405,
          1079,
          453,
          2219,
          756,
          1622,
          3044,
          662,
          590,
          615,
          344,
          405,
          756,
          2064,
          2802,
          1052,
          291,
          1892,
          723,
          2031,
          745,
          886,
          431,
          464,
          672,
          486,
          860,
          1081,
          2007,
          1288,
          708,
          1351,
          1178,
          785,
          322,
          1543,
          927,
          1275,
          322,
          286,
          1298,
          1825,
          905,
          1622,
          3960,
          1459,
          530,
          778,
          702,
          637,
          529,
          2093,
          702,
          703,
          604,
          1038,
          842,
          2617,
          713,
          2266,
          444,
          1306,
          719,
          1661,
          1081,
          3570,
          357,
          1784,
          583,
          1219,
          4749,
          514,
          2056,
          626,
          1186,
          919,
          1297,
          1189,
          1689,
          3104,
          648,
          1134,
          2011,
          1687,
          1221,
          918,
          708,
          508,
          1189,
          1730,
          322,
          1278,
          1946,
          1103,
          1189,
          1346,
          907,
          2564,
          688,
          3137,
          629,
          3883,
          2543,
          1908,
          356,
          2487,
          2046,
          1178,
          1081,
          2487,
          1065,
          1449,
          219,
          2131,
          1037,
          1260,
          2521,
          323,
          876,
          1459,
          799,
          2234,
          1189,
          1622,
          1892,
          805,
          1503,
          844,
          680,
          1816,
          659,
          1892,
          2613,
          1622,
          1039,
          854,
          2011,
          1946,
          416,
          2710,
          817,
          530,
          1179,
          2704,
          1297,
          2029,
          539,
          1469,
          633,
          384,
          669,
          5950,
          2271,
          561,
          1283,
          1785,
          3002,
          2617,
          723,
          351,
          638,
          1946,
          3325,
          984,
          772,
          2023,
          799,
          665,
          1110,
          2464,
          1588,
          323,
          2055,
          936,
          2059,
          851,
          1022,
          485,
          2769,
          702,
          507,
          920,
          1459,
          1390,
          1100,
          2424,
          984,
          1184,
          2110,
          976,
          1924,
          1141,
          518,
          1502,
          795,
          2000,
          1828,
          431,
          1011,
          987,
          907,
          1839,
          741,
          376,
          723,
          399,
          1946,
          493,
          1482,
          321,
          410,
          1368,
          1513,
          1838,
          1946,
          2866,
          1596,
          1005,
          973,
          664,
          1011,
          2178,
          1384,
          1784,
          2217,
          2124,
          2271,
          1604,
          388,
          853,
          2055,
          1303,
          3354,
          853,
          1102,
          539,
          953,
          1038,
          1730,
          1459,
          1211,
          741,
          1403,
          1243,
          2137,
          1974,
          789,
          1785,
          1260,
          766,
          1243,
          334,
          1708,
          312,
          1946,
          1195,
          1806,
          604,
          1297,
          1773,
          2984,
          1513,
          573,
          669,
          1210,
          1405,
          1081,
          1593,
          741,
          713,
          377,
          2433,
          1920,
          1579,
          1254,
          1611,
          3413,
          2055,
          838,
          1372,
          420,
          1661,
          1904,
          1091,
          1937,
          916,
          503,
          892,
          741,
          3407,
          752,
          2055,
          2124,
          3030,
          1276,
          2218,
          1059,
          1084
         ],
         "x0": " ",
         "xaxis": "x",
         "y0": " ",
         "yaxis": "y"
        }
       ],
       "layout": {
        "autosize": true,
        "boxmode": "group",
        "legend": {
         "tracegroupgap": 0
        },
        "margin": {
         "t": 60
        },
        "template": {
         "data": {
          "bar": [
           {
            "error_x": {
             "color": "#2a3f5f"
            },
            "error_y": {
             "color": "#2a3f5f"
            },
            "marker": {
             "line": {
              "color": "#E5ECF6",
              "width": 0.5
             },
             "pattern": {
              "fillmode": "overlay",
              "size": 10,
              "solidity": 0.2
             }
            },
            "type": "bar"
           }
          ],
          "barpolar": [
           {
            "marker": {
             "line": {
              "color": "#E5ECF6",
              "width": 0.5
             },
             "pattern": {
              "fillmode": "overlay",
              "size": 10,
              "solidity": 0.2
             }
            },
            "type": "barpolar"
           }
          ],
          "carpet": [
           {
            "aaxis": {
             "endlinecolor": "#2a3f5f",
             "gridcolor": "white",
             "linecolor": "white",
             "minorgridcolor": "white",
             "startlinecolor": "#2a3f5f"
            },
            "baxis": {
             "endlinecolor": "#2a3f5f",
             "gridcolor": "white",
             "linecolor": "white",
             "minorgridcolor": "white",
             "startlinecolor": "#2a3f5f"
            },
            "type": "carpet"
           }
          ],
          "choropleth": [
           {
            "colorbar": {
             "outlinewidth": 0,
             "ticks": ""
            },
            "type": "choropleth"
           }
          ],
          "contour": [
           {
            "colorbar": {
             "outlinewidth": 0,
             "ticks": ""
            },
            "colorscale": [
             [
              0,
              "#0d0887"
             ],
             [
              0.1111111111111111,
              "#46039f"
             ],
             [
              0.2222222222222222,
              "#7201a8"
             ],
             [
              0.3333333333333333,
              "#9c179e"
             ],
             [
              0.4444444444444444,
              "#bd3786"
             ],
             [
              0.5555555555555556,
              "#d8576b"
             ],
             [
              0.6666666666666666,
              "#ed7953"
             ],
             [
              0.7777777777777778,
              "#fb9f3a"
             ],
             [
              0.8888888888888888,
              "#fdca26"
             ],
             [
              1,
              "#f0f921"
             ]
            ],
            "type": "contour"
           }
          ],
          "contourcarpet": [
           {
            "colorbar": {
             "outlinewidth": 0,
             "ticks": ""
            },
            "type": "contourcarpet"
           }
          ],
          "heatmap": [
           {
            "colorbar": {
             "outlinewidth": 0,
             "ticks": ""
            },
            "colorscale": [
             [
              0,
              "#0d0887"
             ],
             [
              0.1111111111111111,
              "#46039f"
             ],
             [
              0.2222222222222222,
              "#7201a8"
             ],
             [
              0.3333333333333333,
              "#9c179e"
             ],
             [
              0.4444444444444444,
              "#bd3786"
             ],
             [
              0.5555555555555556,
              "#d8576b"
             ],
             [
              0.6666666666666666,
              "#ed7953"
             ],
             [
              0.7777777777777778,
              "#fb9f3a"
             ],
             [
              0.8888888888888888,
              "#fdca26"
             ],
             [
              1,
              "#f0f921"
             ]
            ],
            "type": "heatmap"
           }
          ],
          "heatmapgl": [
           {
            "colorbar": {
             "outlinewidth": 0,
             "ticks": ""
            },
            "colorscale": [
             [
              0,
              "#0d0887"
             ],
             [
              0.1111111111111111,
              "#46039f"
             ],
             [
              0.2222222222222222,
              "#7201a8"
             ],
             [
              0.3333333333333333,
              "#9c179e"
             ],
             [
              0.4444444444444444,
              "#bd3786"
             ],
             [
              0.5555555555555556,
              "#d8576b"
             ],
             [
              0.6666666666666666,
              "#ed7953"
             ],
             [
              0.7777777777777778,
              "#fb9f3a"
             ],
             [
              0.8888888888888888,
              "#fdca26"
             ],
             [
              1,
              "#f0f921"
             ]
            ],
            "type": "heatmapgl"
           }
          ],
          "histogram": [
           {
            "marker": {
             "pattern": {
              "fillmode": "overlay",
              "size": 10,
              "solidity": 0.2
             }
            },
            "type": "histogram"
           }
          ],
          "histogram2d": [
           {
            "colorbar": {
             "outlinewidth": 0,
             "ticks": ""
            },
            "colorscale": [
             [
              0,
              "#0d0887"
             ],
             [
              0.1111111111111111,
              "#46039f"
             ],
             [
              0.2222222222222222,
              "#7201a8"
             ],
             [
              0.3333333333333333,
              "#9c179e"
             ],
             [
              0.4444444444444444,
              "#bd3786"
             ],
             [
              0.5555555555555556,
              "#d8576b"
             ],
             [
              0.6666666666666666,
              "#ed7953"
             ],
             [
              0.7777777777777778,
              "#fb9f3a"
             ],
             [
              0.8888888888888888,
              "#fdca26"
             ],
             [
              1,
              "#f0f921"
             ]
            ],
            "type": "histogram2d"
           }
          ],
          "histogram2dcontour": [
           {
            "colorbar": {
             "outlinewidth": 0,
             "ticks": ""
            },
            "colorscale": [
             [
              0,
              "#0d0887"
             ],
             [
              0.1111111111111111,
              "#46039f"
             ],
             [
              0.2222222222222222,
              "#7201a8"
             ],
             [
              0.3333333333333333,
              "#9c179e"
             ],
             [
              0.4444444444444444,
              "#bd3786"
             ],
             [
              0.5555555555555556,
              "#d8576b"
             ],
             [
              0.6666666666666666,
              "#ed7953"
             ],
             [
              0.7777777777777778,
              "#fb9f3a"
             ],
             [
              0.8888888888888888,
              "#fdca26"
             ],
             [
              1,
              "#f0f921"
             ]
            ],
            "type": "histogram2dcontour"
           }
          ],
          "mesh3d": [
           {
            "colorbar": {
             "outlinewidth": 0,
             "ticks": ""
            },
            "type": "mesh3d"
           }
          ],
          "parcoords": [
           {
            "line": {
             "colorbar": {
              "outlinewidth": 0,
              "ticks": ""
             }
            },
            "type": "parcoords"
           }
          ],
          "pie": [
           {
            "automargin": true,
            "type": "pie"
           }
          ],
          "scatter": [
           {
            "fillpattern": {
             "fillmode": "overlay",
             "size": 10,
             "solidity": 0.2
            },
            "type": "scatter"
           }
          ],
          "scatter3d": [
           {
            "line": {
             "colorbar": {
              "outlinewidth": 0,
              "ticks": ""
             }
            },
            "marker": {
             "colorbar": {
              "outlinewidth": 0,
              "ticks": ""
             }
            },
            "type": "scatter3d"
           }
          ],
          "scattercarpet": [
           {
            "marker": {
             "colorbar": {
              "outlinewidth": 0,
              "ticks": ""
             }
            },
            "type": "scattercarpet"
           }
          ],
          "scattergeo": [
           {
            "marker": {
             "colorbar": {
              "outlinewidth": 0,
              "ticks": ""
             }
            },
            "type": "scattergeo"
           }
          ],
          "scattergl": [
           {
            "marker": {
             "colorbar": {
              "outlinewidth": 0,
              "ticks": ""
             }
            },
            "type": "scattergl"
           }
          ],
          "scattermapbox": [
           {
            "marker": {
             "colorbar": {
              "outlinewidth": 0,
              "ticks": ""
             }
            },
            "type": "scattermapbox"
           }
          ],
          "scatterpolar": [
           {
            "marker": {
             "colorbar": {
              "outlinewidth": 0,
              "ticks": ""
             }
            },
            "type": "scatterpolar"
           }
          ],
          "scatterpolargl": [
           {
            "marker": {
             "colorbar": {
              "outlinewidth": 0,
              "ticks": ""
             }
            },
            "type": "scatterpolargl"
           }
          ],
          "scatterternary": [
           {
            "marker": {
             "colorbar": {
              "outlinewidth": 0,
              "ticks": ""
             }
            },
            "type": "scatterternary"
           }
          ],
          "surface": [
           {
            "colorbar": {
             "outlinewidth": 0,
             "ticks": ""
            },
            "colorscale": [
             [
              0,
              "#0d0887"
             ],
             [
              0.1111111111111111,
              "#46039f"
             ],
             [
              0.2222222222222222,
              "#7201a8"
             ],
             [
              0.3333333333333333,
              "#9c179e"
             ],
             [
              0.4444444444444444,
              "#bd3786"
             ],
             [
              0.5555555555555556,
              "#d8576b"
             ],
             [
              0.6666666666666666,
              "#ed7953"
             ],
             [
              0.7777777777777778,
              "#fb9f3a"
             ],
             [
              0.8888888888888888,
              "#fdca26"
             ],
             [
              1,
              "#f0f921"
             ]
            ],
            "type": "surface"
           }
          ],
          "table": [
           {
            "cells": {
             "fill": {
              "color": "#EBF0F8"
             },
             "line": {
              "color": "white"
             }
            },
            "header": {
             "fill": {
              "color": "#C8D4E3"
             },
             "line": {
              "color": "white"
             }
            },
            "type": "table"
           }
          ]
         },
         "layout": {
          "annotationdefaults": {
           "arrowcolor": "#2a3f5f",
           "arrowhead": 0,
           "arrowwidth": 1
          },
          "autotypenumbers": "strict",
          "coloraxis": {
           "colorbar": {
            "outlinewidth": 0,
            "ticks": ""
           }
          },
          "colorscale": {
           "diverging": [
            [
             0,
             "#8e0152"
            ],
            [
             0.1,
             "#c51b7d"
            ],
            [
             0.2,
             "#de77ae"
            ],
            [
             0.3,
             "#f1b6da"
            ],
            [
             0.4,
             "#fde0ef"
            ],
            [
             0.5,
             "#f7f7f7"
            ],
            [
             0.6,
             "#e6f5d0"
            ],
            [
             0.7,
             "#b8e186"
            ],
            [
             0.8,
             "#7fbc41"
            ],
            [
             0.9,
             "#4d9221"
            ],
            [
             1,
             "#276419"
            ]
           ],
           "sequential": [
            [
             0,
             "#0d0887"
            ],
            [
             0.1111111111111111,
             "#46039f"
            ],
            [
             0.2222222222222222,
             "#7201a8"
            ],
            [
             0.3333333333333333,
             "#9c179e"
            ],
            [
             0.4444444444444444,
             "#bd3786"
            ],
            [
             0.5555555555555556,
             "#d8576b"
            ],
            [
             0.6666666666666666,
             "#ed7953"
            ],
            [
             0.7777777777777778,
             "#fb9f3a"
            ],
            [
             0.8888888888888888,
             "#fdca26"
            ],
            [
             1,
             "#f0f921"
            ]
           ],
           "sequentialminus": [
            [
             0,
             "#0d0887"
            ],
            [
             0.1111111111111111,
             "#46039f"
            ],
            [
             0.2222222222222222,
             "#7201a8"
            ],
            [
             0.3333333333333333,
             "#9c179e"
            ],
            [
             0.4444444444444444,
             "#bd3786"
            ],
            [
             0.5555555555555556,
             "#d8576b"
            ],
            [
             0.6666666666666666,
             "#ed7953"
            ],
            [
             0.7777777777777778,
             "#fb9f3a"
            ],
            [
             0.8888888888888888,
             "#fdca26"
            ],
            [
             1,
             "#f0f921"
            ]
           ]
          },
          "colorway": [
           "#636efa",
           "#EF553B",
           "#00cc96",
           "#ab63fa",
           "#FFA15A",
           "#19d3f3",
           "#FF6692",
           "#B6E880",
           "#FF97FF",
           "#FECB52"
          ],
          "font": {
           "color": "#2a3f5f"
          },
          "geo": {
           "bgcolor": "white",
           "lakecolor": "white",
           "landcolor": "#E5ECF6",
           "showlakes": true,
           "showland": true,
           "subunitcolor": "white"
          },
          "hoverlabel": {
           "align": "left"
          },
          "hovermode": "closest",
          "mapbox": {
           "style": "light"
          },
          "paper_bgcolor": "white",
          "plot_bgcolor": "#E5ECF6",
          "polar": {
           "angularaxis": {
            "gridcolor": "white",
            "linecolor": "white",
            "ticks": ""
           },
           "bgcolor": "#E5ECF6",
           "radialaxis": {
            "gridcolor": "white",
            "linecolor": "white",
            "ticks": ""
           }
          },
          "scene": {
           "xaxis": {
            "backgroundcolor": "#E5ECF6",
            "gridcolor": "white",
            "gridwidth": 2,
            "linecolor": "white",
            "showbackground": true,
            "ticks": "",
            "zerolinecolor": "white"
           },
           "yaxis": {
            "backgroundcolor": "#E5ECF6",
            "gridcolor": "white",
            "gridwidth": 2,
            "linecolor": "white",
            "showbackground": true,
            "ticks": "",
            "zerolinecolor": "white"
           },
           "zaxis": {
            "backgroundcolor": "#E5ECF6",
            "gridcolor": "white",
            "gridwidth": 2,
            "linecolor": "white",
            "showbackground": true,
            "ticks": "",
            "zerolinecolor": "white"
           }
          },
          "shapedefaults": {
           "line": {
            "color": "#2a3f5f"
           }
          },
          "ternary": {
           "aaxis": {
            "gridcolor": "white",
            "linecolor": "white",
            "ticks": ""
           },
           "baxis": {
            "gridcolor": "white",
            "linecolor": "white",
            "ticks": ""
           },
           "bgcolor": "#E5ECF6",
           "caxis": {
            "gridcolor": "white",
            "linecolor": "white",
            "ticks": ""
           }
          },
          "title": {
           "x": 0.05
          },
          "xaxis": {
           "automargin": true,
           "gridcolor": "white",
           "linecolor": "white",
           "ticks": "",
           "title": {
            "standoff": 15
           },
           "zerolinecolor": "white",
           "zerolinewidth": 2
          },
          "yaxis": {
           "automargin": true,
           "gridcolor": "white",
           "linecolor": "white",
           "ticks": "",
           "title": {
            "standoff": 15
           },
           "zerolinecolor": "white",
           "zerolinewidth": 2
          }
         }
        },
        "xaxis": {
         "anchor": "y",
         "autorange": true,
         "domain": [
          0,
          1
         ],
         "range": [
          -148.16666666666669,
          6955.166666666667
         ],
         "title": {
          "text": "price"
         },
         "type": "linear"
        },
        "yaxis": {
         "anchor": "x",
         "autorange": true,
         "domain": [
          0,
          1
         ],
         "range": [
          -0.5,
          0.5
         ],
         "type": "category"
        }
       }
      },
      "text/html": [
       "<div>                            <div id=\"f3827e63-0b39-49fd-b87d-6053b675dc2a\" class=\"plotly-graph-div\" style=\"height:525px; width:100%;\"></div>            <script type=\"text/javascript\">                require([\"plotly\"], function(Plotly) {                    window.PLOTLYENV=window.PLOTLYENV || {};                                    if (document.getElementById(\"f3827e63-0b39-49fd-b87d-6053b675dc2a\")) {                    Plotly.newPlot(                        \"f3827e63-0b39-49fd-b87d-6053b675dc2a\",                        [{\"alignmentgroup\":\"True\",\"hovertemplate\":\"price=%{x}\\u003cextra\\u003e\\u003c\\u002fextra\\u003e\",\"legendgroup\":\"\",\"marker\":{\"color\":\"#636efa\"},\"name\":\"\",\"notched\":false,\"offsetgroup\":\"\",\"orientation\":\"h\",\"showlegend\":false,\"x\":[1449,972,622,2745,1951,432,2315,1253,1617,833,426,373,2640,539,1366,1643,806,3092,539,1059,207,1081,279,886,713,453,1189,865,1404,969,265,215,475,2022,1079,269,397,1059,528,951,420,1622,565,738,1081,1535,399,1405,691,504,345,910,431,1193,415,830,475,634,2650,449,1405,951,648,1018,746,2145,474,247,594,1026,1178,1033,941,1184,420,1026,561,925,573,1057,1186,1634,930,431,427,1459,756,648,1568,1784,756,745,1295,1293,1135,916,649,524,624,1351,778,377,700,1210,1450,713,448,1291,1405,1601,1365,1492,1513,781,1762,1513,1173,1223,610,1209,518,2425,680,1375,488,280,878,300,1510,1004,691,485,956,618,647,1069,273,1015,539,756,708,1207,940,651,399,1189,2179,372,2195,483,1351,972,538,2045,1170,669,680,1423,1135,483,436,871,787,1167,376,1946,393,1147,924,815,1459,756,334,529,998,496,485,3028,879,1622,1135,1513,2000,858,1297,1676,2593,842,1070,1174,3056,281,1082,755,907,989,6600,1037,1492,1130,1996,533,802,1892,3305,1512,475,2109,1568,646,842,1522,377,594,1622,1008,637,1115,1243,1384,732,972,1474,859,2658,900,929,832,964,1373,431,357,1622,929,745,972,422,622,4209,915,637,1239,962,951,1167,1065,604,3245,730,2207,886,1946,507,2000,759,1026,482,1146,2704,1838,1235,480,781,710,611,864,1622,505,1101,952,2119,1676,795,2704,878,771,1189,806,529,918,929,463,897,626,1029,713,1187,1057,1275,713,215,1284,529,1979,799,1405,1059,3121,539,1588,550,2296,702,594,1368,389,2137,1128,886,507,1081,2704,2271,507,297,913,2650,497,1060,524,1398,637,1183,976,713,315,594,1136,1444,2855,1297,1020,1443,485,1081,1372,1135,1237,297,1236,297,972,774,2271,1708,1221,301,1740,405,717,2193,1411,1524,1881,1518,1050,348,1081,603,1544,475,1022,778,691,539,420,1174,875,972,1893,1189,460,2379,529,940,529,598,334,309,915,1288,436,1790,1189,1892,2469,594,1481,2310,2715,1124,1721,751,1459,842,539,1330,1015,2934,2840,331,1654,1238,951,2433,2026,1890,1818,442,329,2083,2102,507,853,1004,648,745,1623,584,1315,2055,485,1544,646,3028,1254,1236,1189,2163,323,291,1092,648,2645,2650,1834,375,2379,2577,604,561,810,1546,377,1189,1275,478,2156,1112,2801,637,2137,1660,1455,1059,518,2214,1070,1946,692,588,470,810,864,2261,328,507,821,1838,2010,2163,1248,1379,1993,1405,800,2605,1476,730,1809,1365,634,785,269,611,1135,2530,2055,1945,2110,1095,3028,1460,626,1373,1189,972,1892,1026,985,367,669,1730,323,286,1026,1324,663,1431,1243,972,691,904,1319,1514,265,564,3211,962,1627,1513,1513,1384,745,962,1450,864,496,633,1490,3260,930,1405,399,1784,1481,862,431,1946,929,1513,796,1239,863,377,763,849,500,429,1871,539,1208,2920,588,1385,242,275,1026,615,668,377,681,2126,3245,907,1730,1037,799,372,1071,2013,420,702,898,741,269,2018,2881,2953,810,420,1091,778,1663,319,2541,1621,1810,659,1915,799,1026,652,1838,572,496,2191,1595,1807,1907,1319,723,356,2379,503,2487,1513,610,1405,377,5301,951,480,388,940,1263,615,1503,2454,410,1216,1585,839,864,1008,972,258,506,691,1969,2056,1600,897,626,431,981,2022,269,1901,2596,1200,563,2651,1265,486,296,994,2812,1312,1714,3028,767,1569,1289,394,1151,994,1228,1294,3405,1329,453,578,583,1608,538,1033,806,1361,445,2021,885,1118,377,756,1400,1228,535,2487,1405,1079,453,2219,756,1622,3044,662,590,615,344,405,756,2064,2802,1052,291,1892,723,2031,745,886,431,464,672,486,860,1081,2007,1288,708,1351,1178,785,322,1543,927,1275,322,286,1298,1825,905,1622,3960,1459,530,778,702,637,529,2093,702,703,604,1038,842,2617,713,2266,444,1306,719,1661,1081,3570,357,1784,583,1219,4749,514,2056,626,1186,919,1297,1189,1689,3104,648,1134,2011,1687,1221,918,708,508,1189,1730,322,1278,1946,1103,1189,1346,907,2564,688,3137,629,3883,2543,1908,356,2487,2046,1178,1081,2487,1065,1449,219,2131,1037,1260,2521,323,876,1459,799,2234,1189,1622,1892,805,1503,844,680,1816,659,1892,2613,1622,1039,854,2011,1946,416,2710,817,530,1179,2704,1297,2029,539,1469,633,384,669,5950,2271,561,1283,1785,3002,2617,723,351,638,1946,3325,984,772,2023,799,665,1110,2464,1588,323,2055,936,2059,851,1022,485,2769,702,507,920,1459,1390,1100,2424,984,1184,2110,976,1924,1141,518,1502,795,2000,1828,431,1011,987,907,1839,741,376,723,399,1946,493,1482,321,410,1368,1513,1838,1946,2866,1596,1005,973,664,1011,2178,1384,1784,2217,2124,2271,1604,388,853,2055,1303,3354,853,1102,539,953,1038,1730,1459,1211,741,1403,1243,2137,1974,789,1785,1260,766,1243,334,1708,312,1946,1195,1806,604,1297,1773,2984,1513,573,669,1210,1405,1081,1593,741,713,377,2433,1920,1579,1254,1611,3413,2055,838,1372,420,1661,1904,1091,1937,916,503,892,741,3407,752,2055,2124,3030,1276,2218,1059,1084],\"x0\":\" \",\"xaxis\":\"x\",\"y0\":\" \",\"yaxis\":\"y\",\"type\":\"box\"}],                        {\"template\":{\"data\":{\"histogram2dcontour\":[{\"type\":\"histogram2dcontour\",\"colorbar\":{\"outlinewidth\":0,\"ticks\":\"\"},\"colorscale\":[[0.0,\"#0d0887\"],[0.1111111111111111,\"#46039f\"],[0.2222222222222222,\"#7201a8\"],[0.3333333333333333,\"#9c179e\"],[0.4444444444444444,\"#bd3786\"],[0.5555555555555556,\"#d8576b\"],[0.6666666666666666,\"#ed7953\"],[0.7777777777777778,\"#fb9f3a\"],[0.8888888888888888,\"#fdca26\"],[1.0,\"#f0f921\"]]}],\"choropleth\":[{\"type\":\"choropleth\",\"colorbar\":{\"outlinewidth\":0,\"ticks\":\"\"}}],\"histogram2d\":[{\"type\":\"histogram2d\",\"colorbar\":{\"outlinewidth\":0,\"ticks\":\"\"},\"colorscale\":[[0.0,\"#0d0887\"],[0.1111111111111111,\"#46039f\"],[0.2222222222222222,\"#7201a8\"],[0.3333333333333333,\"#9c179e\"],[0.4444444444444444,\"#bd3786\"],[0.5555555555555556,\"#d8576b\"],[0.6666666666666666,\"#ed7953\"],[0.7777777777777778,\"#fb9f3a\"],[0.8888888888888888,\"#fdca26\"],[1.0,\"#f0f921\"]]}],\"heatmap\":[{\"type\":\"heatmap\",\"colorbar\":{\"outlinewidth\":0,\"ticks\":\"\"},\"colorscale\":[[0.0,\"#0d0887\"],[0.1111111111111111,\"#46039f\"],[0.2222222222222222,\"#7201a8\"],[0.3333333333333333,\"#9c179e\"],[0.4444444444444444,\"#bd3786\"],[0.5555555555555556,\"#d8576b\"],[0.6666666666666666,\"#ed7953\"],[0.7777777777777778,\"#fb9f3a\"],[0.8888888888888888,\"#fdca26\"],[1.0,\"#f0f921\"]]}],\"heatmapgl\":[{\"type\":\"heatmapgl\",\"colorbar\":{\"outlinewidth\":0,\"ticks\":\"\"},\"colorscale\":[[0.0,\"#0d0887\"],[0.1111111111111111,\"#46039f\"],[0.2222222222222222,\"#7201a8\"],[0.3333333333333333,\"#9c179e\"],[0.4444444444444444,\"#bd3786\"],[0.5555555555555556,\"#d8576b\"],[0.6666666666666666,\"#ed7953\"],[0.7777777777777778,\"#fb9f3a\"],[0.8888888888888888,\"#fdca26\"],[1.0,\"#f0f921\"]]}],\"contourcarpet\":[{\"type\":\"contourcarpet\",\"colorbar\":{\"outlinewidth\":0,\"ticks\":\"\"}}],\"contour\":[{\"type\":\"contour\",\"colorbar\":{\"outlinewidth\":0,\"ticks\":\"\"},\"colorscale\":[[0.0,\"#0d0887\"],[0.1111111111111111,\"#46039f\"],[0.2222222222222222,\"#7201a8\"],[0.3333333333333333,\"#9c179e\"],[0.4444444444444444,\"#bd3786\"],[0.5555555555555556,\"#d8576b\"],[0.6666666666666666,\"#ed7953\"],[0.7777777777777778,\"#fb9f3a\"],[0.8888888888888888,\"#fdca26\"],[1.0,\"#f0f921\"]]}],\"surface\":[{\"type\":\"surface\",\"colorbar\":{\"outlinewidth\":0,\"ticks\":\"\"},\"colorscale\":[[0.0,\"#0d0887\"],[0.1111111111111111,\"#46039f\"],[0.2222222222222222,\"#7201a8\"],[0.3333333333333333,\"#9c179e\"],[0.4444444444444444,\"#bd3786\"],[0.5555555555555556,\"#d8576b\"],[0.6666666666666666,\"#ed7953\"],[0.7777777777777778,\"#fb9f3a\"],[0.8888888888888888,\"#fdca26\"],[1.0,\"#f0f921\"]]}],\"mesh3d\":[{\"type\":\"mesh3d\",\"colorbar\":{\"outlinewidth\":0,\"ticks\":\"\"}}],\"scatter\":[{\"fillpattern\":{\"fillmode\":\"overlay\",\"size\":10,\"solidity\":0.2},\"type\":\"scatter\"}],\"parcoords\":[{\"type\":\"parcoords\",\"line\":{\"colorbar\":{\"outlinewidth\":0,\"ticks\":\"\"}}}],\"scatterpolargl\":[{\"type\":\"scatterpolargl\",\"marker\":{\"colorbar\":{\"outlinewidth\":0,\"ticks\":\"\"}}}],\"bar\":[{\"error_x\":{\"color\":\"#2a3f5f\"},\"error_y\":{\"color\":\"#2a3f5f\"},\"marker\":{\"line\":{\"color\":\"#E5ECF6\",\"width\":0.5},\"pattern\":{\"fillmode\":\"overlay\",\"size\":10,\"solidity\":0.2}},\"type\":\"bar\"}],\"scattergeo\":[{\"type\":\"scattergeo\",\"marker\":{\"colorbar\":{\"outlinewidth\":0,\"ticks\":\"\"}}}],\"scatterpolar\":[{\"type\":\"scatterpolar\",\"marker\":{\"colorbar\":{\"outlinewidth\":0,\"ticks\":\"\"}}}],\"histogram\":[{\"marker\":{\"pattern\":{\"fillmode\":\"overlay\",\"size\":10,\"solidity\":0.2}},\"type\":\"histogram\"}],\"scattergl\":[{\"type\":\"scattergl\",\"marker\":{\"colorbar\":{\"outlinewidth\":0,\"ticks\":\"\"}}}],\"scatter3d\":[{\"type\":\"scatter3d\",\"line\":{\"colorbar\":{\"outlinewidth\":0,\"ticks\":\"\"}},\"marker\":{\"colorbar\":{\"outlinewidth\":0,\"ticks\":\"\"}}}],\"scattermapbox\":[{\"type\":\"scattermapbox\",\"marker\":{\"colorbar\":{\"outlinewidth\":0,\"ticks\":\"\"}}}],\"scatterternary\":[{\"type\":\"scatterternary\",\"marker\":{\"colorbar\":{\"outlinewidth\":0,\"ticks\":\"\"}}}],\"scattercarpet\":[{\"type\":\"scattercarpet\",\"marker\":{\"colorbar\":{\"outlinewidth\":0,\"ticks\":\"\"}}}],\"carpet\":[{\"aaxis\":{\"endlinecolor\":\"#2a3f5f\",\"gridcolor\":\"white\",\"linecolor\":\"white\",\"minorgridcolor\":\"white\",\"startlinecolor\":\"#2a3f5f\"},\"baxis\":{\"endlinecolor\":\"#2a3f5f\",\"gridcolor\":\"white\",\"linecolor\":\"white\",\"minorgridcolor\":\"white\",\"startlinecolor\":\"#2a3f5f\"},\"type\":\"carpet\"}],\"table\":[{\"cells\":{\"fill\":{\"color\":\"#EBF0F8\"},\"line\":{\"color\":\"white\"}},\"header\":{\"fill\":{\"color\":\"#C8D4E3\"},\"line\":{\"color\":\"white\"}},\"type\":\"table\"}],\"barpolar\":[{\"marker\":{\"line\":{\"color\":\"#E5ECF6\",\"width\":0.5},\"pattern\":{\"fillmode\":\"overlay\",\"size\":10,\"solidity\":0.2}},\"type\":\"barpolar\"}],\"pie\":[{\"automargin\":true,\"type\":\"pie\"}]},\"layout\":{\"autotypenumbers\":\"strict\",\"colorway\":[\"#636efa\",\"#EF553B\",\"#00cc96\",\"#ab63fa\",\"#FFA15A\",\"#19d3f3\",\"#FF6692\",\"#B6E880\",\"#FF97FF\",\"#FECB52\"],\"font\":{\"color\":\"#2a3f5f\"},\"hovermode\":\"closest\",\"hoverlabel\":{\"align\":\"left\"},\"paper_bgcolor\":\"white\",\"plot_bgcolor\":\"#E5ECF6\",\"polar\":{\"bgcolor\":\"#E5ECF6\",\"angularaxis\":{\"gridcolor\":\"white\",\"linecolor\":\"white\",\"ticks\":\"\"},\"radialaxis\":{\"gridcolor\":\"white\",\"linecolor\":\"white\",\"ticks\":\"\"}},\"ternary\":{\"bgcolor\":\"#E5ECF6\",\"aaxis\":{\"gridcolor\":\"white\",\"linecolor\":\"white\",\"ticks\":\"\"},\"baxis\":{\"gridcolor\":\"white\",\"linecolor\":\"white\",\"ticks\":\"\"},\"caxis\":{\"gridcolor\":\"white\",\"linecolor\":\"white\",\"ticks\":\"\"}},\"coloraxis\":{\"colorbar\":{\"outlinewidth\":0,\"ticks\":\"\"}},\"colorscale\":{\"sequential\":[[0.0,\"#0d0887\"],[0.1111111111111111,\"#46039f\"],[0.2222222222222222,\"#7201a8\"],[0.3333333333333333,\"#9c179e\"],[0.4444444444444444,\"#bd3786\"],[0.5555555555555556,\"#d8576b\"],[0.6666666666666666,\"#ed7953\"],[0.7777777777777778,\"#fb9f3a\"],[0.8888888888888888,\"#fdca26\"],[1.0,\"#f0f921\"]],\"sequentialminus\":[[0.0,\"#0d0887\"],[0.1111111111111111,\"#46039f\"],[0.2222222222222222,\"#7201a8\"],[0.3333333333333333,\"#9c179e\"],[0.4444444444444444,\"#bd3786\"],[0.5555555555555556,\"#d8576b\"],[0.6666666666666666,\"#ed7953\"],[0.7777777777777778,\"#fb9f3a\"],[0.8888888888888888,\"#fdca26\"],[1.0,\"#f0f921\"]],\"diverging\":[[0,\"#8e0152\"],[0.1,\"#c51b7d\"],[0.2,\"#de77ae\"],[0.3,\"#f1b6da\"],[0.4,\"#fde0ef\"],[0.5,\"#f7f7f7\"],[0.6,\"#e6f5d0\"],[0.7,\"#b8e186\"],[0.8,\"#7fbc41\"],[0.9,\"#4d9221\"],[1,\"#276419\"]]},\"xaxis\":{\"gridcolor\":\"white\",\"linecolor\":\"white\",\"ticks\":\"\",\"title\":{\"standoff\":15},\"zerolinecolor\":\"white\",\"automargin\":true,\"zerolinewidth\":2},\"yaxis\":{\"gridcolor\":\"white\",\"linecolor\":\"white\",\"ticks\":\"\",\"title\":{\"standoff\":15},\"zerolinecolor\":\"white\",\"automargin\":true,\"zerolinewidth\":2},\"scene\":{\"xaxis\":{\"backgroundcolor\":\"#E5ECF6\",\"gridcolor\":\"white\",\"linecolor\":\"white\",\"showbackground\":true,\"ticks\":\"\",\"zerolinecolor\":\"white\",\"gridwidth\":2},\"yaxis\":{\"backgroundcolor\":\"#E5ECF6\",\"gridcolor\":\"white\",\"linecolor\":\"white\",\"showbackground\":true,\"ticks\":\"\",\"zerolinecolor\":\"white\",\"gridwidth\":2},\"zaxis\":{\"backgroundcolor\":\"#E5ECF6\",\"gridcolor\":\"white\",\"linecolor\":\"white\",\"showbackground\":true,\"ticks\":\"\",\"zerolinecolor\":\"white\",\"gridwidth\":2}},\"shapedefaults\":{\"line\":{\"color\":\"#2a3f5f\"}},\"annotationdefaults\":{\"arrowcolor\":\"#2a3f5f\",\"arrowhead\":0,\"arrowwidth\":1},\"geo\":{\"bgcolor\":\"white\",\"landcolor\":\"#E5ECF6\",\"subunitcolor\":\"white\",\"showland\":true,\"showlakes\":true,\"lakecolor\":\"white\"},\"title\":{\"x\":0.05},\"mapbox\":{\"style\":\"light\"}}},\"xaxis\":{\"anchor\":\"y\",\"domain\":[0.0,1.0],\"title\":{\"text\":\"price\"}},\"yaxis\":{\"anchor\":\"x\",\"domain\":[0.0,1.0]},\"legend\":{\"tracegroupgap\":0},\"margin\":{\"t\":60},\"boxmode\":\"group\"},                        {\"responsive\": true}                    ).then(function(){\n",
       "                            \n",
       "var gd = document.getElementById('f3827e63-0b39-49fd-b87d-6053b675dc2a');\n",
       "var x = new MutationObserver(function (mutations, observer) {{\n",
       "        var display = window.getComputedStyle(gd).display;\n",
       "        if (!display || display === 'none') {{\n",
       "            console.log([gd, 'removed!']);\n",
       "            Plotly.purge(gd);\n",
       "            observer.disconnect();\n",
       "        }}\n",
       "}});\n",
       "\n",
       "// Listen for the removal of the full notebook cells\n",
       "var notebookContainer = gd.closest('#notebook-container');\n",
       "if (notebookContainer) {{\n",
       "    x.observe(notebookContainer, {childList: true});\n",
       "}}\n",
       "\n",
       "// Listen for the clearing of the current output cell\n",
       "var outputEl = gd.closest('.output');\n",
       "if (outputEl) {{\n",
       "    x.observe(outputEl, {childList: true});\n",
       "}}\n",
       "\n",
       "                        })                };                });            </script>        </div>"
      ]
     },
     "metadata": {},
     "output_type": "display_data"
    }
   ],
   "source": [
    "px.box(laptops_train, x=\"price\")"
   ]
  },
  {
   "cell_type": "code",
   "execution_count": 138,
   "id": "9fa72beb-4487-4f5e-9049-5fdc2d286922",
   "metadata": {},
   "outputs": [
    {
     "data": {
      "text/plain": [
       "count     977.000000\n",
       "mean     1218.808598\n",
       "std       767.490421\n",
       "min       207.000000\n",
       "25%       648.000000\n",
       "50%      1037.000000\n",
       "75%      1596.000000\n",
       "max      6600.000000\n",
       "Name: price, dtype: float64"
      ]
     },
     "execution_count": 138,
     "metadata": {},
     "output_type": "execute_result"
    }
   ],
   "source": [
    "laptops_train[\"price\"].describe()"
   ]
  },
  {
   "cell_type": "markdown",
   "id": "58b33b99-5d54-4d37-ad72-fd597f8ca06f",
   "metadata": {},
   "source": [
    "Se puede apreciar como la variable de salida tiene una forma de campana gaussiana (buscar forma estadísticamente correcta de decir que está tirada para la izquierda). A su vez se puede ver como existen valores anómalos y aberrantes en los rangos superiores del dataset."
   ]
  },
  {
   "cell_type": "markdown",
   "id": "a5a3e9c1-e141-4b46-b205-668018dfa694",
   "metadata": {},
   "source": [
    "## Variables de entrada"
   ]
  },
  {
   "cell_type": "markdown",
   "id": "59d25859-ac38-4d20-aef4-eee2ff85bdbf",
   "metadata": {},
   "source": [
    "### Manufacturer"
   ]
  },
  {
   "cell_type": "code",
   "execution_count": null,
   "id": "254ba90f-6650-43e9-b13b-7d18b23d1926",
   "metadata": {},
   "outputs": [],
   "source": []
  },
  {
   "cell_type": "markdown",
   "id": "0369777e-8a61-45c9-8975-5fea66b1a1ba",
   "metadata": {},
   "source": [
    "### Model"
   ]
  },
  {
   "cell_type": "code",
   "execution_count": null,
   "id": "744ac8ca-7bc0-4876-9cf2-c8b5c95582fb",
   "metadata": {},
   "outputs": [],
   "source": []
  },
  {
   "cell_type": "markdown",
   "id": "e3a19a0a-1f74-440c-bf9b-b55ca0dad46a",
   "metadata": {},
   "source": [
    "### Category"
   ]
  },
  {
   "cell_type": "code",
   "execution_count": null,
   "id": "591ee396-0ff2-4ba6-a22a-c83e3641b201",
   "metadata": {},
   "outputs": [],
   "source": []
  },
  {
   "cell_type": "markdown",
   "id": "c56023c0-c686-4791-9d05-f5805ce38233",
   "metadata": {},
   "source": [
    "### Screen size"
   ]
  },
  {
   "cell_type": "code",
   "execution_count": null,
   "id": "01e7debc-b632-4ecd-8e9f-65d568a967af",
   "metadata": {},
   "outputs": [],
   "source": []
  },
  {
   "cell_type": "markdown",
   "id": "476c2dfa-ec8c-485d-bf64-f5940fb91bc0",
   "metadata": {},
   "source": [
    "### Resolution"
   ]
  },
  {
   "cell_type": "code",
   "execution_count": null,
   "id": "af7d9789-ba2d-4c17-abc6-e6b649ab954c",
   "metadata": {},
   "outputs": [],
   "source": []
  },
  {
   "cell_type": "markdown",
   "id": "cd01d915-70f3-4738-b530-6762b9d7a04b",
   "metadata": {},
   "source": [
    "### CPU"
   ]
  },
  {
   "cell_type": "code",
   "execution_count": null,
   "id": "aef0154d-b356-43ca-8bd7-7e374246a941",
   "metadata": {},
   "outputs": [],
   "source": []
  },
  {
   "cell_type": "markdown",
   "id": "84c51819-3e62-4d87-b3ac-c4a10a7451e7",
   "metadata": {},
   "source": [
    "### RAM"
   ]
  },
  {
   "cell_type": "code",
   "execution_count": null,
   "id": "3fd7fec3-a7d1-492c-85cf-8a09f3389f8d",
   "metadata": {},
   "outputs": [],
   "source": []
  },
  {
   "cell_type": "markdown",
   "id": "e05c2843-4cee-4e88-b2c0-30836b74b943",
   "metadata": {},
   "source": [
    "### Storage"
   ]
  },
  {
   "cell_type": "code",
   "execution_count": null,
   "id": "1c3a11cb-8e1e-49c5-8388-ef45ab6714d4",
   "metadata": {},
   "outputs": [],
   "source": []
  },
  {
   "cell_type": "markdown",
   "id": "aa174db2-bf21-43cd-9f56-97d199f09ff9",
   "metadata": {},
   "source": [
    "### GPU"
   ]
  },
  {
   "cell_type": "code",
   "execution_count": null,
   "id": "838fc264-ec64-40f0-a443-fdadd273cb1c",
   "metadata": {},
   "outputs": [],
   "source": []
  },
  {
   "cell_type": "markdown",
   "id": "58517c05-650b-433e-9f69-fee01ec0e8a5",
   "metadata": {},
   "source": [
    "### OS"
   ]
  },
  {
   "cell_type": "code",
   "execution_count": null,
   "id": "5f0228b9-66fc-426b-8ff3-c77ce0992775",
   "metadata": {},
   "outputs": [],
   "source": []
  },
  {
   "cell_type": "markdown",
   "id": "5a977303-3e85-4bc6-9da8-a4481eed41e0",
   "metadata": {},
   "source": [
    "### Weight"
   ]
  },
  {
   "cell_type": "code",
   "execution_count": null,
   "id": "3f9f9226-549a-4480-a452-39cea0af765f",
   "metadata": {},
   "outputs": [],
   "source": []
  },
  {
   "cell_type": "markdown",
   "id": "2a37221f-c73f-4401-b69d-27da55c0e4e0",
   "metadata": {},
   "source": [
    "## Listado de dudas/preguntas para el proveedor del dataset\n",
    "\n",
    "* De que fuentes provienen estos precios? y que metodos fueron utilizados para recolectarlos?\n",
    "* Porque la columna de SO Type tiene tantos valores nulos?\n",
    "* Pensas que el tipo de SO afecta al precio?\n",
    "* Pensas que existen otros factores que afecten el precio de una laptop? como serían el material de chasis, distribución de teclado, etc.\n",
    "* Cual crees que es la variable que mas afecta al precio de una laptop?\n",
    "* Omitiste alguna variable al creear el dataset?"
   ]
  }
 ],
 "metadata": {
  "kernelspec": {
   "display_name": "Python 3 (ipykernel)",
   "language": "python",
   "name": "python3"
  },
  "language_info": {
   "codemirror_mode": {
    "name": "ipython",
    "version": 3
   },
   "file_extension": ".py",
   "mimetype": "text/x-python",
   "name": "python",
   "nbconvert_exporter": "python",
   "pygments_lexer": "ipython3",
   "version": "3.12.5"
  }
 },
 "nbformat": 4,
 "nbformat_minor": 5
}
