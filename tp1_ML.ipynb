{
 "cells": [
  {
   "cell_type": "markdown",
   "id": "4da6622e-79fa-4753-acb1-8573cc2ec73c",
   "metadata": {},
   "source": [
    "# 1 - Listado de variables y selección\n",
    "\n",
    "## Entrada\n",
    "* Manufacturer: Marca / fabricante del equipo\n",
    "* Category: Tipo de notebook\n",
    "* Screen Size: Tamaño diagonal de la pantalla en pulgadas\n",
    "* Screen Type: Resolución y tipo de panel\n",
    "* CPU: Modelo de procesador\n",
    "* RAM: Capacidad de memoria\n",
    "* Storage: Tipo y tamaño de almacenamiento interno\n",
    "* GPU: Tipo y modelo de procesador de gráficos\n",
    "* OS: Sistema operativo\n",
    "* Weight: Peso\n",
    "\n",
    "## Salida\n",
    "* Price: Será reducida con rangos a valores \"bajo\", \"medio\" o \"alto\"\n",
    "\n",
    "## No utilizadas\n",
    "* Model Name: Texto arbitrario que generalmente no representa las capacidades del producto, y cuando lo hace meramente tiene agregados valores de otras columnas\n",
    "* OS Version: No usada debido a su gran cantidad de nulos y presunta poca importancia"
   ]
  },
  {
   "cell_type": "markdown",
   "id": "3050e4c0-e31f-4d53-9c57-2396b4dada74",
   "metadata": {},
   "source": [
    "# 2 - Análisis detallado de un conjunto de variables"
   ]
  },
  {
   "cell_type": "code",
   "execution_count": 220,
   "id": "7fb1e001-fc54-4fed-a971-db7fa28f29d8",
   "metadata": {},
   "outputs": [],
   "source": [
    "import pandas as pd"
   ]
  },
  {
   "cell_type": "code",
   "execution_count": 221,
   "id": "d008d871-5090-4c28-ae9c-2996fff72252",
   "metadata": {},
   "outputs": [],
   "source": [
    "laptops_train = pd.read_csv('laptops_train.csv')\n",
    "laptops_test = pd.read_csv('laptops_test.csv')"
   ]
  },
  {
   "cell_type": "code",
   "execution_count": 222,
   "id": "bd454cda-a531-461e-aff6-24e25eaae7b3",
   "metadata": {},
   "outputs": [
    {
     "name": "stdout",
     "output_type": "stream",
     "text": [
      "Entries de train: 977\n",
      "Entries de test: 325\n"
     ]
    }
   ],
   "source": [
    "print(\"Entries de train: \"+str(len(laptops_train)))\n",
    "print(\"Entries de test: \"+str(len(laptops_test)))"
   ]
  },
  {
   "cell_type": "markdown",
   "id": "4342b27c-4c97-4c26-9b16-eb6731dc6af3",
   "metadata": {},
   "source": [
    "### Valores nulos"
   ]
  },
  {
   "cell_type": "code",
   "execution_count": 223,
   "id": "af739fd0-b4af-406a-a565-47279ed3942d",
   "metadata": {},
   "outputs": [
    {
     "data": {
      "text/plain": [
       "Manufacturer                  0\n",
       "Model Name                    0\n",
       "Category                      0\n",
       "Screen Size                   0\n",
       "Screen                        0\n",
       "CPU                           0\n",
       "RAM                           0\n",
       " Storage                      0\n",
       "GPU                           0\n",
       "Operating System              0\n",
       "Operating System Version    136\n",
       "Weight                        0\n",
       "Price                         0\n",
       "dtype: int64"
      ]
     },
     "execution_count": 223,
     "metadata": {},
     "output_type": "execute_result"
    }
   ],
   "source": [
    "laptops_train.isnull().sum()"
   ]
  },
  {
   "cell_type": "code",
   "execution_count": 224,
   "id": "7e9787de-0959-4a72-b157-eebb6219e24d",
   "metadata": {
    "scrolled": true
   },
   "outputs": [
    {
     "data": {
      "text/plain": [
       "Manufacturer                 0\n",
       "Model Name                   0\n",
       "Category                     0\n",
       "Screen Size                  0\n",
       "Screen                       0\n",
       "CPU                          0\n",
       "RAM                          0\n",
       " Storage                     0\n",
       "GPU                          0\n",
       "Operating System             0\n",
       "Operating System Version    34\n",
       "Weight                       0\n",
       "Price                        0\n",
       "dtype: int64"
      ]
     },
     "execution_count": 224,
     "metadata": {},
     "output_type": "execute_result"
    }
   ],
   "source": [
    "laptops_test.isnull().sum()"
   ]
  },
  {
   "cell_type": "markdown",
   "id": "e0310ae5-0d21-4238-96f3-c3ecc34a8c89",
   "metadata": {},
   "source": [
    "Este dataset solo presenta valores nulos en la columna \"Operating System Version\", la cual se decidió no utilizar anteriormente, por lo cual no es un problema a tener en cuenta en este caso"
   ]
  },
  {
   "cell_type": "code",
   "execution_count": 225,
   "id": "5fe44481-ef9e-4727-a665-5d3e7316f862",
   "metadata": {
    "scrolled": true
   },
   "outputs": [
    {
     "data": {
      "text/html": [
       "<div>\n",
       "<style scoped>\n",
       "    .dataframe tbody tr th:only-of-type {\n",
       "        vertical-align: middle;\n",
       "    }\n",
       "\n",
       "    .dataframe tbody tr th {\n",
       "        vertical-align: top;\n",
       "    }\n",
       "\n",
       "    .dataframe thead th {\n",
       "        text-align: right;\n",
       "    }\n",
       "</style>\n",
       "<table border=\"1\" class=\"dataframe\">\n",
       "  <thead>\n",
       "    <tr style=\"text-align: right;\">\n",
       "      <th></th>\n",
       "      <th>Manufacturer</th>\n",
       "      <th>Model Name</th>\n",
       "      <th>Category</th>\n",
       "      <th>Screen Size</th>\n",
       "      <th>Screen</th>\n",
       "      <th>CPU</th>\n",
       "      <th>RAM</th>\n",
       "      <th>Storage</th>\n",
       "      <th>GPU</th>\n",
       "      <th>Operating System</th>\n",
       "      <th>Operating System Version</th>\n",
       "      <th>Weight</th>\n",
       "      <th>Price</th>\n",
       "    </tr>\n",
       "  </thead>\n",
       "  <tbody>\n",
       "    <tr>\n",
       "      <th>0</th>\n",
       "      <td>Apple</td>\n",
       "      <td>MacBook Pro</td>\n",
       "      <td>Ultrabook</td>\n",
       "      <td>13.3\"</td>\n",
       "      <td>IPS Panel Retina Display 2560x1600</td>\n",
       "      <td>Intel Core i5 2.3GHz</td>\n",
       "      <td>8GB</td>\n",
       "      <td>128GB SSD</td>\n",
       "      <td>Intel Iris Plus Graphics 640</td>\n",
       "      <td>macOS</td>\n",
       "      <td>NaN</td>\n",
       "      <td>1.37kg</td>\n",
       "      <td>11912523.48</td>\n",
       "    </tr>\n",
       "    <tr>\n",
       "      <th>1</th>\n",
       "      <td>Apple</td>\n",
       "      <td>Macbook Air</td>\n",
       "      <td>Ultrabook</td>\n",
       "      <td>13.3\"</td>\n",
       "      <td>1440x900</td>\n",
       "      <td>Intel Core i5 1.8GHz</td>\n",
       "      <td>8GB</td>\n",
       "      <td>128GB Flash Storage</td>\n",
       "      <td>Intel HD Graphics 6000</td>\n",
       "      <td>macOS</td>\n",
       "      <td>NaN</td>\n",
       "      <td>1.34kg</td>\n",
       "      <td>7993374.48</td>\n",
       "    </tr>\n",
       "    <tr>\n",
       "      <th>2</th>\n",
       "      <td>HP</td>\n",
       "      <td>250 G6</td>\n",
       "      <td>Notebook</td>\n",
       "      <td>15.6\"</td>\n",
       "      <td>Full HD 1920x1080</td>\n",
       "      <td>Intel Core i5 7200U 2.5GHz</td>\n",
       "      <td>8GB</td>\n",
       "      <td>256GB SSD</td>\n",
       "      <td>Intel HD Graphics 620</td>\n",
       "      <td>No OS</td>\n",
       "      <td>NaN</td>\n",
       "      <td>1.86kg</td>\n",
       "      <td>5112900.00</td>\n",
       "    </tr>\n",
       "    <tr>\n",
       "      <th>3</th>\n",
       "      <td>Apple</td>\n",
       "      <td>MacBook Pro</td>\n",
       "      <td>Ultrabook</td>\n",
       "      <td>15.4\"</td>\n",
       "      <td>IPS Panel Retina Display 2880x1800</td>\n",
       "      <td>Intel Core i7 2.7GHz</td>\n",
       "      <td>16GB</td>\n",
       "      <td>512GB SSD</td>\n",
       "      <td>AMD Radeon Pro 455</td>\n",
       "      <td>macOS</td>\n",
       "      <td>NaN</td>\n",
       "      <td>1.83kg</td>\n",
       "      <td>22563005.40</td>\n",
       "    </tr>\n",
       "    <tr>\n",
       "      <th>4</th>\n",
       "      <td>Apple</td>\n",
       "      <td>MacBook Pro</td>\n",
       "      <td>Ultrabook</td>\n",
       "      <td>13.3\"</td>\n",
       "      <td>IPS Panel Retina Display 2560x1600</td>\n",
       "      <td>Intel Core i5 3.1GHz</td>\n",
       "      <td>8GB</td>\n",
       "      <td>256GB SSD</td>\n",
       "      <td>Intel Iris Plus Graphics 650</td>\n",
       "      <td>macOS</td>\n",
       "      <td>NaN</td>\n",
       "      <td>1.37kg</td>\n",
       "      <td>16037611.20</td>\n",
       "    </tr>\n",
       "    <tr>\n",
       "      <th>...</th>\n",
       "      <td>...</td>\n",
       "      <td>...</td>\n",
       "      <td>...</td>\n",
       "      <td>...</td>\n",
       "      <td>...</td>\n",
       "      <td>...</td>\n",
       "      <td>...</td>\n",
       "      <td>...</td>\n",
       "      <td>...</td>\n",
       "      <td>...</td>\n",
       "      <td>...</td>\n",
       "      <td>...</td>\n",
       "      <td>...</td>\n",
       "    </tr>\n",
       "    <tr>\n",
       "      <th>972</th>\n",
       "      <td>Dell</td>\n",
       "      <td>Alienware 17</td>\n",
       "      <td>Gaming</td>\n",
       "      <td>17.3\"</td>\n",
       "      <td>Full HD 1920x1080</td>\n",
       "      <td>Intel Core i7 6700HQ 2.6GHz</td>\n",
       "      <td>32GB</td>\n",
       "      <td>256GB SSD +  1TB HDD</td>\n",
       "      <td>Nvidia GeForce GTX 1070</td>\n",
       "      <td>Windows</td>\n",
       "      <td>10</td>\n",
       "      <td>4.42kg</td>\n",
       "      <td>24897600.00</td>\n",
       "    </tr>\n",
       "    <tr>\n",
       "      <th>973</th>\n",
       "      <td>Toshiba</td>\n",
       "      <td>Tecra A40-C-1DF</td>\n",
       "      <td>Notebook</td>\n",
       "      <td>14.0\"</td>\n",
       "      <td>Full HD 1920x1080</td>\n",
       "      <td>Intel Core i5 6200U 2.3GHz</td>\n",
       "      <td>8GB</td>\n",
       "      <td>256GB SSD</td>\n",
       "      <td>Intel HD Graphics 520</td>\n",
       "      <td>Windows</td>\n",
       "      <td>10</td>\n",
       "      <td>1.95kg</td>\n",
       "      <td>10492560.00</td>\n",
       "    </tr>\n",
       "    <tr>\n",
       "      <th>974</th>\n",
       "      <td>Asus</td>\n",
       "      <td>Rog Strix</td>\n",
       "      <td>Gaming</td>\n",
       "      <td>17.3\"</td>\n",
       "      <td>Full HD 1920x1080</td>\n",
       "      <td>Intel Core i7 7700HQ 2.8GHz</td>\n",
       "      <td>16GB</td>\n",
       "      <td>256GB SSD +  1TB HDD</td>\n",
       "      <td>Nvidia GeForce GTX 1060</td>\n",
       "      <td>Windows</td>\n",
       "      <td>10</td>\n",
       "      <td>2.73kg</td>\n",
       "      <td>18227710.80</td>\n",
       "    </tr>\n",
       "    <tr>\n",
       "      <th>975</th>\n",
       "      <td>HP</td>\n",
       "      <td>Probook 450</td>\n",
       "      <td>Notebook</td>\n",
       "      <td>15.6\"</td>\n",
       "      <td>IPS Panel Full HD 1920x1080</td>\n",
       "      <td>Intel Core i5 7200U 2.70GHz</td>\n",
       "      <td>8GB</td>\n",
       "      <td>128GB SSD +  1TB HDD</td>\n",
       "      <td>Nvidia GeForce 930MX</td>\n",
       "      <td>Windows</td>\n",
       "      <td>10</td>\n",
       "      <td>2.04kg</td>\n",
       "      <td>8705268.00</td>\n",
       "    </tr>\n",
       "    <tr>\n",
       "      <th>976</th>\n",
       "      <td>Lenovo</td>\n",
       "      <td>ThinkPad T460</td>\n",
       "      <td>Notebook</td>\n",
       "      <td>14.0\"</td>\n",
       "      <td>1366x768</td>\n",
       "      <td>Intel Core i5 6200U 2.3GHz</td>\n",
       "      <td>4GB</td>\n",
       "      <td>508GB Hybrid</td>\n",
       "      <td>Intel HD Graphics 520</td>\n",
       "      <td>Windows</td>\n",
       "      <td>7</td>\n",
       "      <td>1.70kg</td>\n",
       "      <td>8909784.00</td>\n",
       "    </tr>\n",
       "  </tbody>\n",
       "</table>\n",
       "<p>977 rows × 13 columns</p>\n",
       "</div>"
      ],
      "text/plain": [
       "    Manufacturer       Model Name   Category Screen Size  \\\n",
       "0          Apple      MacBook Pro  Ultrabook       13.3\"   \n",
       "1          Apple      Macbook Air  Ultrabook       13.3\"   \n",
       "2             HP           250 G6   Notebook       15.6\"   \n",
       "3          Apple      MacBook Pro  Ultrabook       15.4\"   \n",
       "4          Apple      MacBook Pro  Ultrabook       13.3\"   \n",
       "..           ...              ...        ...         ...   \n",
       "972         Dell     Alienware 17     Gaming       17.3\"   \n",
       "973      Toshiba  Tecra A40-C-1DF   Notebook       14.0\"   \n",
       "974         Asus        Rog Strix     Gaming       17.3\"   \n",
       "975           HP      Probook 450   Notebook       15.6\"   \n",
       "976       Lenovo    ThinkPad T460   Notebook       14.0\"   \n",
       "\n",
       "                                 Screen                          CPU   RAM  \\\n",
       "0    IPS Panel Retina Display 2560x1600         Intel Core i5 2.3GHz   8GB   \n",
       "1                              1440x900         Intel Core i5 1.8GHz   8GB   \n",
       "2                     Full HD 1920x1080   Intel Core i5 7200U 2.5GHz   8GB   \n",
       "3    IPS Panel Retina Display 2880x1800         Intel Core i7 2.7GHz  16GB   \n",
       "4    IPS Panel Retina Display 2560x1600         Intel Core i5 3.1GHz   8GB   \n",
       "..                                  ...                          ...   ...   \n",
       "972                   Full HD 1920x1080  Intel Core i7 6700HQ 2.6GHz  32GB   \n",
       "973                   Full HD 1920x1080   Intel Core i5 6200U 2.3GHz   8GB   \n",
       "974                   Full HD 1920x1080  Intel Core i7 7700HQ 2.8GHz  16GB   \n",
       "975         IPS Panel Full HD 1920x1080  Intel Core i5 7200U 2.70GHz   8GB   \n",
       "976                            1366x768   Intel Core i5 6200U 2.3GHz   4GB   \n",
       "\n",
       "                  Storage                           GPU Operating System  \\\n",
       "0               128GB SSD  Intel Iris Plus Graphics 640            macOS   \n",
       "1     128GB Flash Storage        Intel HD Graphics 6000            macOS   \n",
       "2               256GB SSD         Intel HD Graphics 620            No OS   \n",
       "3               512GB SSD            AMD Radeon Pro 455            macOS   \n",
       "4               256GB SSD  Intel Iris Plus Graphics 650            macOS   \n",
       "..                    ...                           ...              ...   \n",
       "972  256GB SSD +  1TB HDD       Nvidia GeForce GTX 1070          Windows   \n",
       "973             256GB SSD         Intel HD Graphics 520          Windows   \n",
       "974  256GB SSD +  1TB HDD       Nvidia GeForce GTX 1060          Windows   \n",
       "975  128GB SSD +  1TB HDD          Nvidia GeForce 930MX          Windows   \n",
       "976          508GB Hybrid         Intel HD Graphics 520          Windows   \n",
       "\n",
       "    Operating System Version  Weight        Price  \n",
       "0                        NaN  1.37kg  11912523.48  \n",
       "1                        NaN  1.34kg   7993374.48  \n",
       "2                        NaN  1.86kg   5112900.00  \n",
       "3                        NaN  1.83kg  22563005.40  \n",
       "4                        NaN  1.37kg  16037611.20  \n",
       "..                       ...     ...          ...  \n",
       "972                       10  4.42kg  24897600.00  \n",
       "973                       10  1.95kg  10492560.00  \n",
       "974                       10  2.73kg  18227710.80  \n",
       "975                       10  2.04kg   8705268.00  \n",
       "976                        7  1.70kg   8909784.00  \n",
       "\n",
       "[977 rows x 13 columns]"
      ]
     },
     "execution_count": 225,
     "metadata": {},
     "output_type": "execute_result"
    }
   ],
   "source": [
    "laptops_train"
   ]
  },
  {
   "cell_type": "code",
   "execution_count": 226,
   "id": "5952abb6-852b-4678-8fab-124b3dddb799",
   "metadata": {},
   "outputs": [],
   "source": [
    "# Renombre de las series\n",
    "new_col_names = {\n",
    "    \"Manufacturer\":\"manufacturer\",\n",
    "    \"Model Name\":\"model\",\n",
    "    \"Category\":\"category\",\n",
    "    \"Screen Size\":\"screen_size\",\n",
    "    \"Screen\":\"resolution\",\n",
    "    \"CPU\":\"cpu\",\n",
    "    \"RAM\":\"ram\",\n",
    "    \" Storage\":\"storage\", # la string original tiene el espacio, sin eso no lo cambia\n",
    "    \"GPU\":\"gpu\",\n",
    "    \"Operating System\":\"os\",\n",
    "    \"Operating System Version\":\"os_version\",\n",
    "    \"Weight\":\"weight\",\n",
    "    \"Price\":\"price\"\n",
    "}\n",
    "\n",
    "dropped_cols = [\"os_version\", \"model\"]\n",
    "\n",
    "laptops_train = laptops_train.rename(columns=new_col_names).drop(columns=dropped_cols)\n",
    "laptops_test = laptops_test.rename(columns=new_col_names).drop(columns=dropped_cols)"
   ]
  },
  {
   "cell_type": "code",
   "execution_count": 227,
   "id": "1c15d532-d226-47aa-9a0f-2228a2809ccd",
   "metadata": {
    "scrolled": true
   },
   "outputs": [
    {
     "data": {
      "text/html": [
       "<div>\n",
       "<style scoped>\n",
       "    .dataframe tbody tr th:only-of-type {\n",
       "        vertical-align: middle;\n",
       "    }\n",
       "\n",
       "    .dataframe tbody tr th {\n",
       "        vertical-align: top;\n",
       "    }\n",
       "\n",
       "    .dataframe thead th {\n",
       "        text-align: right;\n",
       "    }\n",
       "</style>\n",
       "<table border=\"1\" class=\"dataframe\">\n",
       "  <thead>\n",
       "    <tr style=\"text-align: right;\">\n",
       "      <th></th>\n",
       "      <th>manufacturer</th>\n",
       "      <th>category</th>\n",
       "      <th>screen_size</th>\n",
       "      <th>resolution</th>\n",
       "      <th>cpu</th>\n",
       "      <th>ram</th>\n",
       "      <th>storage</th>\n",
       "      <th>gpu</th>\n",
       "      <th>os</th>\n",
       "      <th>weight</th>\n",
       "      <th>price</th>\n",
       "    </tr>\n",
       "  </thead>\n",
       "  <tbody>\n",
       "    <tr>\n",
       "      <th>0</th>\n",
       "      <td>Apple</td>\n",
       "      <td>Ultrabook</td>\n",
       "      <td>13.3\"</td>\n",
       "      <td>IPS Panel Retina Display 2560x1600</td>\n",
       "      <td>Intel Core i5 2.3GHz</td>\n",
       "      <td>8GB</td>\n",
       "      <td>128GB SSD</td>\n",
       "      <td>Intel Iris Plus Graphics 640</td>\n",
       "      <td>macOS</td>\n",
       "      <td>1.37kg</td>\n",
       "      <td>11912523.48</td>\n",
       "    </tr>\n",
       "    <tr>\n",
       "      <th>1</th>\n",
       "      <td>Apple</td>\n",
       "      <td>Ultrabook</td>\n",
       "      <td>13.3\"</td>\n",
       "      <td>1440x900</td>\n",
       "      <td>Intel Core i5 1.8GHz</td>\n",
       "      <td>8GB</td>\n",
       "      <td>128GB Flash Storage</td>\n",
       "      <td>Intel HD Graphics 6000</td>\n",
       "      <td>macOS</td>\n",
       "      <td>1.34kg</td>\n",
       "      <td>7993374.48</td>\n",
       "    </tr>\n",
       "    <tr>\n",
       "      <th>2</th>\n",
       "      <td>HP</td>\n",
       "      <td>Notebook</td>\n",
       "      <td>15.6\"</td>\n",
       "      <td>Full HD 1920x1080</td>\n",
       "      <td>Intel Core i5 7200U 2.5GHz</td>\n",
       "      <td>8GB</td>\n",
       "      <td>256GB SSD</td>\n",
       "      <td>Intel HD Graphics 620</td>\n",
       "      <td>No OS</td>\n",
       "      <td>1.86kg</td>\n",
       "      <td>5112900.00</td>\n",
       "    </tr>\n",
       "    <tr>\n",
       "      <th>3</th>\n",
       "      <td>Apple</td>\n",
       "      <td>Ultrabook</td>\n",
       "      <td>15.4\"</td>\n",
       "      <td>IPS Panel Retina Display 2880x1800</td>\n",
       "      <td>Intel Core i7 2.7GHz</td>\n",
       "      <td>16GB</td>\n",
       "      <td>512GB SSD</td>\n",
       "      <td>AMD Radeon Pro 455</td>\n",
       "      <td>macOS</td>\n",
       "      <td>1.83kg</td>\n",
       "      <td>22563005.40</td>\n",
       "    </tr>\n",
       "    <tr>\n",
       "      <th>4</th>\n",
       "      <td>Apple</td>\n",
       "      <td>Ultrabook</td>\n",
       "      <td>13.3\"</td>\n",
       "      <td>IPS Panel Retina Display 2560x1600</td>\n",
       "      <td>Intel Core i5 3.1GHz</td>\n",
       "      <td>8GB</td>\n",
       "      <td>256GB SSD</td>\n",
       "      <td>Intel Iris Plus Graphics 650</td>\n",
       "      <td>macOS</td>\n",
       "      <td>1.37kg</td>\n",
       "      <td>16037611.20</td>\n",
       "    </tr>\n",
       "    <tr>\n",
       "      <th>...</th>\n",
       "      <td>...</td>\n",
       "      <td>...</td>\n",
       "      <td>...</td>\n",
       "      <td>...</td>\n",
       "      <td>...</td>\n",
       "      <td>...</td>\n",
       "      <td>...</td>\n",
       "      <td>...</td>\n",
       "      <td>...</td>\n",
       "      <td>...</td>\n",
       "      <td>...</td>\n",
       "    </tr>\n",
       "    <tr>\n",
       "      <th>972</th>\n",
       "      <td>Dell</td>\n",
       "      <td>Gaming</td>\n",
       "      <td>17.3\"</td>\n",
       "      <td>Full HD 1920x1080</td>\n",
       "      <td>Intel Core i7 6700HQ 2.6GHz</td>\n",
       "      <td>32GB</td>\n",
       "      <td>256GB SSD +  1TB HDD</td>\n",
       "      <td>Nvidia GeForce GTX 1070</td>\n",
       "      <td>Windows</td>\n",
       "      <td>4.42kg</td>\n",
       "      <td>24897600.00</td>\n",
       "    </tr>\n",
       "    <tr>\n",
       "      <th>973</th>\n",
       "      <td>Toshiba</td>\n",
       "      <td>Notebook</td>\n",
       "      <td>14.0\"</td>\n",
       "      <td>Full HD 1920x1080</td>\n",
       "      <td>Intel Core i5 6200U 2.3GHz</td>\n",
       "      <td>8GB</td>\n",
       "      <td>256GB SSD</td>\n",
       "      <td>Intel HD Graphics 520</td>\n",
       "      <td>Windows</td>\n",
       "      <td>1.95kg</td>\n",
       "      <td>10492560.00</td>\n",
       "    </tr>\n",
       "    <tr>\n",
       "      <th>974</th>\n",
       "      <td>Asus</td>\n",
       "      <td>Gaming</td>\n",
       "      <td>17.3\"</td>\n",
       "      <td>Full HD 1920x1080</td>\n",
       "      <td>Intel Core i7 7700HQ 2.8GHz</td>\n",
       "      <td>16GB</td>\n",
       "      <td>256GB SSD +  1TB HDD</td>\n",
       "      <td>Nvidia GeForce GTX 1060</td>\n",
       "      <td>Windows</td>\n",
       "      <td>2.73kg</td>\n",
       "      <td>18227710.80</td>\n",
       "    </tr>\n",
       "    <tr>\n",
       "      <th>975</th>\n",
       "      <td>HP</td>\n",
       "      <td>Notebook</td>\n",
       "      <td>15.6\"</td>\n",
       "      <td>IPS Panel Full HD 1920x1080</td>\n",
       "      <td>Intel Core i5 7200U 2.70GHz</td>\n",
       "      <td>8GB</td>\n",
       "      <td>128GB SSD +  1TB HDD</td>\n",
       "      <td>Nvidia GeForce 930MX</td>\n",
       "      <td>Windows</td>\n",
       "      <td>2.04kg</td>\n",
       "      <td>8705268.00</td>\n",
       "    </tr>\n",
       "    <tr>\n",
       "      <th>976</th>\n",
       "      <td>Lenovo</td>\n",
       "      <td>Notebook</td>\n",
       "      <td>14.0\"</td>\n",
       "      <td>1366x768</td>\n",
       "      <td>Intel Core i5 6200U 2.3GHz</td>\n",
       "      <td>4GB</td>\n",
       "      <td>508GB Hybrid</td>\n",
       "      <td>Intel HD Graphics 520</td>\n",
       "      <td>Windows</td>\n",
       "      <td>1.70kg</td>\n",
       "      <td>8909784.00</td>\n",
       "    </tr>\n",
       "  </tbody>\n",
       "</table>\n",
       "<p>977 rows × 11 columns</p>\n",
       "</div>"
      ],
      "text/plain": [
       "    manufacturer   category screen_size                          resolution  \\\n",
       "0          Apple  Ultrabook       13.3\"  IPS Panel Retina Display 2560x1600   \n",
       "1          Apple  Ultrabook       13.3\"                            1440x900   \n",
       "2             HP   Notebook       15.6\"                   Full HD 1920x1080   \n",
       "3          Apple  Ultrabook       15.4\"  IPS Panel Retina Display 2880x1800   \n",
       "4          Apple  Ultrabook       13.3\"  IPS Panel Retina Display 2560x1600   \n",
       "..           ...        ...         ...                                 ...   \n",
       "972         Dell     Gaming       17.3\"                   Full HD 1920x1080   \n",
       "973      Toshiba   Notebook       14.0\"                   Full HD 1920x1080   \n",
       "974         Asus     Gaming       17.3\"                   Full HD 1920x1080   \n",
       "975           HP   Notebook       15.6\"         IPS Panel Full HD 1920x1080   \n",
       "976       Lenovo   Notebook       14.0\"                            1366x768   \n",
       "\n",
       "                             cpu   ram               storage  \\\n",
       "0           Intel Core i5 2.3GHz   8GB             128GB SSD   \n",
       "1           Intel Core i5 1.8GHz   8GB   128GB Flash Storage   \n",
       "2     Intel Core i5 7200U 2.5GHz   8GB             256GB SSD   \n",
       "3           Intel Core i7 2.7GHz  16GB             512GB SSD   \n",
       "4           Intel Core i5 3.1GHz   8GB             256GB SSD   \n",
       "..                           ...   ...                   ...   \n",
       "972  Intel Core i7 6700HQ 2.6GHz  32GB  256GB SSD +  1TB HDD   \n",
       "973   Intel Core i5 6200U 2.3GHz   8GB             256GB SSD   \n",
       "974  Intel Core i7 7700HQ 2.8GHz  16GB  256GB SSD +  1TB HDD   \n",
       "975  Intel Core i5 7200U 2.70GHz   8GB  128GB SSD +  1TB HDD   \n",
       "976   Intel Core i5 6200U 2.3GHz   4GB          508GB Hybrid   \n",
       "\n",
       "                              gpu       os  weight        price  \n",
       "0    Intel Iris Plus Graphics 640    macOS  1.37kg  11912523.48  \n",
       "1          Intel HD Graphics 6000    macOS  1.34kg   7993374.48  \n",
       "2           Intel HD Graphics 620    No OS  1.86kg   5112900.00  \n",
       "3              AMD Radeon Pro 455    macOS  1.83kg  22563005.40  \n",
       "4    Intel Iris Plus Graphics 650    macOS  1.37kg  16037611.20  \n",
       "..                            ...      ...     ...          ...  \n",
       "972       Nvidia GeForce GTX 1070  Windows  4.42kg  24897600.00  \n",
       "973         Intel HD Graphics 520  Windows  1.95kg  10492560.00  \n",
       "974       Nvidia GeForce GTX 1060  Windows  2.73kg  18227710.80  \n",
       "975          Nvidia GeForce 930MX  Windows  2.04kg   8705268.00  \n",
       "976         Intel HD Graphics 520  Windows  1.70kg   8909784.00  \n",
       "\n",
       "[977 rows x 11 columns]"
      ]
     },
     "execution_count": 227,
     "metadata": {},
     "output_type": "execute_result"
    }
   ],
   "source": [
    "laptops_train"
   ]
  },
  {
   "cell_type": "markdown",
   "id": "8f600f0e-74d4-4c9d-bcc2-7c23a843bd79",
   "metadata": {},
   "source": [
    "## Variable de salida"
   ]
  },
  {
   "cell_type": "code",
   "execution_count": 228,
   "id": "f1d4fe45-cd1a-4bcb-97d9-028a68870ce7",
   "metadata": {},
   "outputs": [],
   "source": [
    "# Conversión de la variable de salida de rupias a dólares, tomando como base la cotización del 28/03/2023, según la última actualización del dataset\n",
    "# Se dividió por 100 el valor obtenido debido a que los precios convertidos con la cotización de referencia se encontraban fuera del rango esperado\n",
    "# Cotización: 1 INR = 0.0001217 USD\n",
    "\n",
    "\n",
    "cotizacion = 0.0001217\n",
    "\n",
    "def convertir_precio(precio):\n",
    "    return int(precio * cotizacion)\n",
    "\n",
    "laptops_train[\"price\"] = laptops_train[\"price\"].apply(convertir_precio)\n",
    "laptops_test[\"price\"] = laptops_test[\"price\"].apply(convertir_precio)"
   ]
  },
  {
   "cell_type": "code",
   "execution_count": 229,
   "id": "2b06b65a-712a-4eb1-a22b-3fe009b71a05",
   "metadata": {},
   "outputs": [
    {
     "data": {
      "text/html": [
       "<div>\n",
       "<style scoped>\n",
       "    .dataframe tbody tr th:only-of-type {\n",
       "        vertical-align: middle;\n",
       "    }\n",
       "\n",
       "    .dataframe tbody tr th {\n",
       "        vertical-align: top;\n",
       "    }\n",
       "\n",
       "    .dataframe thead th {\n",
       "        text-align: right;\n",
       "    }\n",
       "</style>\n",
       "<table border=\"1\" class=\"dataframe\">\n",
       "  <thead>\n",
       "    <tr style=\"text-align: right;\">\n",
       "      <th></th>\n",
       "      <th>manufacturer</th>\n",
       "      <th>category</th>\n",
       "      <th>screen_size</th>\n",
       "      <th>resolution</th>\n",
       "      <th>cpu</th>\n",
       "      <th>ram</th>\n",
       "      <th>storage</th>\n",
       "      <th>gpu</th>\n",
       "      <th>os</th>\n",
       "      <th>weight</th>\n",
       "      <th>price</th>\n",
       "    </tr>\n",
       "  </thead>\n",
       "  <tbody>\n",
       "    <tr>\n",
       "      <th>0</th>\n",
       "      <td>Apple</td>\n",
       "      <td>Ultrabook</td>\n",
       "      <td>13.3\"</td>\n",
       "      <td>IPS Panel Retina Display 2560x1600</td>\n",
       "      <td>Intel Core i5 2.3GHz</td>\n",
       "      <td>8GB</td>\n",
       "      <td>128GB SSD</td>\n",
       "      <td>Intel Iris Plus Graphics 640</td>\n",
       "      <td>macOS</td>\n",
       "      <td>1.37kg</td>\n",
       "      <td>1449</td>\n",
       "    </tr>\n",
       "    <tr>\n",
       "      <th>1</th>\n",
       "      <td>Apple</td>\n",
       "      <td>Ultrabook</td>\n",
       "      <td>13.3\"</td>\n",
       "      <td>1440x900</td>\n",
       "      <td>Intel Core i5 1.8GHz</td>\n",
       "      <td>8GB</td>\n",
       "      <td>128GB Flash Storage</td>\n",
       "      <td>Intel HD Graphics 6000</td>\n",
       "      <td>macOS</td>\n",
       "      <td>1.34kg</td>\n",
       "      <td>972</td>\n",
       "    </tr>\n",
       "    <tr>\n",
       "      <th>2</th>\n",
       "      <td>HP</td>\n",
       "      <td>Notebook</td>\n",
       "      <td>15.6\"</td>\n",
       "      <td>Full HD 1920x1080</td>\n",
       "      <td>Intel Core i5 7200U 2.5GHz</td>\n",
       "      <td>8GB</td>\n",
       "      <td>256GB SSD</td>\n",
       "      <td>Intel HD Graphics 620</td>\n",
       "      <td>No OS</td>\n",
       "      <td>1.86kg</td>\n",
       "      <td>622</td>\n",
       "    </tr>\n",
       "    <tr>\n",
       "      <th>3</th>\n",
       "      <td>Apple</td>\n",
       "      <td>Ultrabook</td>\n",
       "      <td>15.4\"</td>\n",
       "      <td>IPS Panel Retina Display 2880x1800</td>\n",
       "      <td>Intel Core i7 2.7GHz</td>\n",
       "      <td>16GB</td>\n",
       "      <td>512GB SSD</td>\n",
       "      <td>AMD Radeon Pro 455</td>\n",
       "      <td>macOS</td>\n",
       "      <td>1.83kg</td>\n",
       "      <td>2745</td>\n",
       "    </tr>\n",
       "    <tr>\n",
       "      <th>4</th>\n",
       "      <td>Apple</td>\n",
       "      <td>Ultrabook</td>\n",
       "      <td>13.3\"</td>\n",
       "      <td>IPS Panel Retina Display 2560x1600</td>\n",
       "      <td>Intel Core i5 3.1GHz</td>\n",
       "      <td>8GB</td>\n",
       "      <td>256GB SSD</td>\n",
       "      <td>Intel Iris Plus Graphics 650</td>\n",
       "      <td>macOS</td>\n",
       "      <td>1.37kg</td>\n",
       "      <td>1951</td>\n",
       "    </tr>\n",
       "    <tr>\n",
       "      <th>...</th>\n",
       "      <td>...</td>\n",
       "      <td>...</td>\n",
       "      <td>...</td>\n",
       "      <td>...</td>\n",
       "      <td>...</td>\n",
       "      <td>...</td>\n",
       "      <td>...</td>\n",
       "      <td>...</td>\n",
       "      <td>...</td>\n",
       "      <td>...</td>\n",
       "      <td>...</td>\n",
       "    </tr>\n",
       "    <tr>\n",
       "      <th>972</th>\n",
       "      <td>Dell</td>\n",
       "      <td>Gaming</td>\n",
       "      <td>17.3\"</td>\n",
       "      <td>Full HD 1920x1080</td>\n",
       "      <td>Intel Core i7 6700HQ 2.6GHz</td>\n",
       "      <td>32GB</td>\n",
       "      <td>256GB SSD +  1TB HDD</td>\n",
       "      <td>Nvidia GeForce GTX 1070</td>\n",
       "      <td>Windows</td>\n",
       "      <td>4.42kg</td>\n",
       "      <td>3030</td>\n",
       "    </tr>\n",
       "    <tr>\n",
       "      <th>973</th>\n",
       "      <td>Toshiba</td>\n",
       "      <td>Notebook</td>\n",
       "      <td>14.0\"</td>\n",
       "      <td>Full HD 1920x1080</td>\n",
       "      <td>Intel Core i5 6200U 2.3GHz</td>\n",
       "      <td>8GB</td>\n",
       "      <td>256GB SSD</td>\n",
       "      <td>Intel HD Graphics 520</td>\n",
       "      <td>Windows</td>\n",
       "      <td>1.95kg</td>\n",
       "      <td>1276</td>\n",
       "    </tr>\n",
       "    <tr>\n",
       "      <th>974</th>\n",
       "      <td>Asus</td>\n",
       "      <td>Gaming</td>\n",
       "      <td>17.3\"</td>\n",
       "      <td>Full HD 1920x1080</td>\n",
       "      <td>Intel Core i7 7700HQ 2.8GHz</td>\n",
       "      <td>16GB</td>\n",
       "      <td>256GB SSD +  1TB HDD</td>\n",
       "      <td>Nvidia GeForce GTX 1060</td>\n",
       "      <td>Windows</td>\n",
       "      <td>2.73kg</td>\n",
       "      <td>2218</td>\n",
       "    </tr>\n",
       "    <tr>\n",
       "      <th>975</th>\n",
       "      <td>HP</td>\n",
       "      <td>Notebook</td>\n",
       "      <td>15.6\"</td>\n",
       "      <td>IPS Panel Full HD 1920x1080</td>\n",
       "      <td>Intel Core i5 7200U 2.70GHz</td>\n",
       "      <td>8GB</td>\n",
       "      <td>128GB SSD +  1TB HDD</td>\n",
       "      <td>Nvidia GeForce 930MX</td>\n",
       "      <td>Windows</td>\n",
       "      <td>2.04kg</td>\n",
       "      <td>1059</td>\n",
       "    </tr>\n",
       "    <tr>\n",
       "      <th>976</th>\n",
       "      <td>Lenovo</td>\n",
       "      <td>Notebook</td>\n",
       "      <td>14.0\"</td>\n",
       "      <td>1366x768</td>\n",
       "      <td>Intel Core i5 6200U 2.3GHz</td>\n",
       "      <td>4GB</td>\n",
       "      <td>508GB Hybrid</td>\n",
       "      <td>Intel HD Graphics 520</td>\n",
       "      <td>Windows</td>\n",
       "      <td>1.70kg</td>\n",
       "      <td>1084</td>\n",
       "    </tr>\n",
       "  </tbody>\n",
       "</table>\n",
       "<p>977 rows × 11 columns</p>\n",
       "</div>"
      ],
      "text/plain": [
       "    manufacturer   category screen_size                          resolution  \\\n",
       "0          Apple  Ultrabook       13.3\"  IPS Panel Retina Display 2560x1600   \n",
       "1          Apple  Ultrabook       13.3\"                            1440x900   \n",
       "2             HP   Notebook       15.6\"                   Full HD 1920x1080   \n",
       "3          Apple  Ultrabook       15.4\"  IPS Panel Retina Display 2880x1800   \n",
       "4          Apple  Ultrabook       13.3\"  IPS Panel Retina Display 2560x1600   \n",
       "..           ...        ...         ...                                 ...   \n",
       "972         Dell     Gaming       17.3\"                   Full HD 1920x1080   \n",
       "973      Toshiba   Notebook       14.0\"                   Full HD 1920x1080   \n",
       "974         Asus     Gaming       17.3\"                   Full HD 1920x1080   \n",
       "975           HP   Notebook       15.6\"         IPS Panel Full HD 1920x1080   \n",
       "976       Lenovo   Notebook       14.0\"                            1366x768   \n",
       "\n",
       "                             cpu   ram               storage  \\\n",
       "0           Intel Core i5 2.3GHz   8GB             128GB SSD   \n",
       "1           Intel Core i5 1.8GHz   8GB   128GB Flash Storage   \n",
       "2     Intel Core i5 7200U 2.5GHz   8GB             256GB SSD   \n",
       "3           Intel Core i7 2.7GHz  16GB             512GB SSD   \n",
       "4           Intel Core i5 3.1GHz   8GB             256GB SSD   \n",
       "..                           ...   ...                   ...   \n",
       "972  Intel Core i7 6700HQ 2.6GHz  32GB  256GB SSD +  1TB HDD   \n",
       "973   Intel Core i5 6200U 2.3GHz   8GB             256GB SSD   \n",
       "974  Intel Core i7 7700HQ 2.8GHz  16GB  256GB SSD +  1TB HDD   \n",
       "975  Intel Core i5 7200U 2.70GHz   8GB  128GB SSD +  1TB HDD   \n",
       "976   Intel Core i5 6200U 2.3GHz   4GB          508GB Hybrid   \n",
       "\n",
       "                              gpu       os  weight  price  \n",
       "0    Intel Iris Plus Graphics 640    macOS  1.37kg   1449  \n",
       "1          Intel HD Graphics 6000    macOS  1.34kg    972  \n",
       "2           Intel HD Graphics 620    No OS  1.86kg    622  \n",
       "3              AMD Radeon Pro 455    macOS  1.83kg   2745  \n",
       "4    Intel Iris Plus Graphics 650    macOS  1.37kg   1951  \n",
       "..                            ...      ...     ...    ...  \n",
       "972       Nvidia GeForce GTX 1070  Windows  4.42kg   3030  \n",
       "973         Intel HD Graphics 520  Windows  1.95kg   1276  \n",
       "974       Nvidia GeForce GTX 1060  Windows  2.73kg   2218  \n",
       "975          Nvidia GeForce 930MX  Windows  2.04kg   1059  \n",
       "976         Intel HD Graphics 520  Windows  1.70kg   1084  \n",
       "\n",
       "[977 rows x 11 columns]"
      ]
     },
     "execution_count": 229,
     "metadata": {},
     "output_type": "execute_result"
    }
   ],
   "source": [
    "laptops_train"
   ]
  },
  {
   "cell_type": "code",
   "execution_count": 230,
   "id": "4be3cc5d-2d01-4469-9210-ffcabeee371a",
   "metadata": {},
   "outputs": [
    {
     "data": {
      "text/html": [
       "<div>\n",
       "<style scoped>\n",
       "    .dataframe tbody tr th:only-of-type {\n",
       "        vertical-align: middle;\n",
       "    }\n",
       "\n",
       "    .dataframe tbody tr th {\n",
       "        vertical-align: top;\n",
       "    }\n",
       "\n",
       "    .dataframe thead th {\n",
       "        text-align: right;\n",
       "    }\n",
       "</style>\n",
       "<table border=\"1\" class=\"dataframe\">\n",
       "  <thead>\n",
       "    <tr style=\"text-align: right;\">\n",
       "      <th></th>\n",
       "      <th>manufacturer</th>\n",
       "      <th>category</th>\n",
       "      <th>screen_size</th>\n",
       "      <th>resolution</th>\n",
       "      <th>cpu</th>\n",
       "      <th>ram</th>\n",
       "      <th>storage</th>\n",
       "      <th>gpu</th>\n",
       "      <th>os</th>\n",
       "      <th>weight</th>\n",
       "      <th>price</th>\n",
       "    </tr>\n",
       "  </thead>\n",
       "  <tbody>\n",
       "    <tr>\n",
       "      <th>0</th>\n",
       "      <td>HP</td>\n",
       "      <td>Notebook</td>\n",
       "      <td>15.6\"</td>\n",
       "      <td>1366x768</td>\n",
       "      <td>Intel Core i7 7500U 2.7GHz</td>\n",
       "      <td>6GB</td>\n",
       "      <td>1TB HDD</td>\n",
       "      <td>Intel HD Graphics 620</td>\n",
       "      <td>Windows</td>\n",
       "      <td>2.04kg</td>\n",
       "      <td>626</td>\n",
       "    </tr>\n",
       "    <tr>\n",
       "      <th>1</th>\n",
       "      <td>Asus</td>\n",
       "      <td>Gaming</td>\n",
       "      <td>17.3\"</td>\n",
       "      <td>Full HD 1920x1080</td>\n",
       "      <td>Intel Core i7 7700HQ 2.8GHz</td>\n",
       "      <td>16GB</td>\n",
       "      <td>256GB SSD +  1TB HDD</td>\n",
       "      <td>Nvidia GeForce GTX 1050 Ti</td>\n",
       "      <td>Windows</td>\n",
       "      <td>2.99kg</td>\n",
       "      <td>1892</td>\n",
       "    </tr>\n",
       "    <tr>\n",
       "      <th>2</th>\n",
       "      <td>Dell</td>\n",
       "      <td>2 in 1 Convertible</td>\n",
       "      <td>15.6\"</td>\n",
       "      <td>IPS Panel Full HD / Touchscreen 1920x1080</td>\n",
       "      <td>Intel Core i7 7500U 2.7GHz</td>\n",
       "      <td>12GB</td>\n",
       "      <td>512GB SSD</td>\n",
       "      <td>Intel HD Graphics 620</td>\n",
       "      <td>Windows</td>\n",
       "      <td>2.19kg</td>\n",
       "      <td>1405</td>\n",
       "    </tr>\n",
       "    <tr>\n",
       "      <th>3</th>\n",
       "      <td>Toshiba</td>\n",
       "      <td>Notebook</td>\n",
       "      <td>13.3\"</td>\n",
       "      <td>Full HD 1920x1080</td>\n",
       "      <td>Intel Core i5 6200U 2.3GHz</td>\n",
       "      <td>4GB</td>\n",
       "      <td>128GB SSD</td>\n",
       "      <td>Intel HD Graphics 520</td>\n",
       "      <td>Windows</td>\n",
       "      <td>1.2kg</td>\n",
       "      <td>1293</td>\n",
       "    </tr>\n",
       "    <tr>\n",
       "      <th>4</th>\n",
       "      <td>Lenovo</td>\n",
       "      <td>Notebook</td>\n",
       "      <td>15.6\"</td>\n",
       "      <td>Full HD 1920x1080</td>\n",
       "      <td>AMD A12-Series 9720P 3.6GHz</td>\n",
       "      <td>6GB</td>\n",
       "      <td>256GB SSD</td>\n",
       "      <td>AMD Radeon 530</td>\n",
       "      <td>Windows</td>\n",
       "      <td>2.2kg</td>\n",
       "      <td>594</td>\n",
       "    </tr>\n",
       "    <tr>\n",
       "      <th>...</th>\n",
       "      <td>...</td>\n",
       "      <td>...</td>\n",
       "      <td>...</td>\n",
       "      <td>...</td>\n",
       "      <td>...</td>\n",
       "      <td>...</td>\n",
       "      <td>...</td>\n",
       "      <td>...</td>\n",
       "      <td>...</td>\n",
       "      <td>...</td>\n",
       "      <td>...</td>\n",
       "    </tr>\n",
       "    <tr>\n",
       "      <th>320</th>\n",
       "      <td>Lenovo</td>\n",
       "      <td>2 in 1 Convertible</td>\n",
       "      <td>14.0\"</td>\n",
       "      <td>IPS Panel Full HD / Touchscreen 1920x1080</td>\n",
       "      <td>Intel Core i7 6500U 2.5GHz</td>\n",
       "      <td>4GB</td>\n",
       "      <td>128GB SSD</td>\n",
       "      <td>Intel HD Graphics 520</td>\n",
       "      <td>Windows</td>\n",
       "      <td>1.8kg</td>\n",
       "      <td>690</td>\n",
       "    </tr>\n",
       "    <tr>\n",
       "      <th>321</th>\n",
       "      <td>Lenovo</td>\n",
       "      <td>2 in 1 Convertible</td>\n",
       "      <td>13.3\"</td>\n",
       "      <td>IPS Panel Quad HD+ / Touchscreen 3200x1800</td>\n",
       "      <td>Intel Core i7 6500U 2.5GHz</td>\n",
       "      <td>16GB</td>\n",
       "      <td>512GB SSD</td>\n",
       "      <td>Intel HD Graphics 520</td>\n",
       "      <td>Windows</td>\n",
       "      <td>1.3kg</td>\n",
       "      <td>1622</td>\n",
       "    </tr>\n",
       "    <tr>\n",
       "      <th>322</th>\n",
       "      <td>Lenovo</td>\n",
       "      <td>Notebook</td>\n",
       "      <td>14.0\"</td>\n",
       "      <td>1366x768</td>\n",
       "      <td>Intel Celeron Dual Core N3050 1.6GHz</td>\n",
       "      <td>2GB</td>\n",
       "      <td>64GB Flash Storage</td>\n",
       "      <td>Intel HD Graphics</td>\n",
       "      <td>Windows</td>\n",
       "      <td>1.5kg</td>\n",
       "      <td>247</td>\n",
       "    </tr>\n",
       "    <tr>\n",
       "      <th>323</th>\n",
       "      <td>HP</td>\n",
       "      <td>Notebook</td>\n",
       "      <td>15.6\"</td>\n",
       "      <td>1366x768</td>\n",
       "      <td>Intel Core i7 6500U 2.5GHz</td>\n",
       "      <td>6GB</td>\n",
       "      <td>1TB HDD</td>\n",
       "      <td>AMD Radeon R5 M330</td>\n",
       "      <td>Windows</td>\n",
       "      <td>2.19kg</td>\n",
       "      <td>826</td>\n",
       "    </tr>\n",
       "    <tr>\n",
       "      <th>324</th>\n",
       "      <td>Asus</td>\n",
       "      <td>Notebook</td>\n",
       "      <td>15.6\"</td>\n",
       "      <td>1366x768</td>\n",
       "      <td>Intel Celeron Dual Core N3050 1.6GHz</td>\n",
       "      <td>4GB</td>\n",
       "      <td>500GB HDD</td>\n",
       "      <td>Intel HD Graphics</td>\n",
       "      <td>Windows</td>\n",
       "      <td>2.2kg</td>\n",
       "      <td>399</td>\n",
       "    </tr>\n",
       "  </tbody>\n",
       "</table>\n",
       "<p>325 rows × 11 columns</p>\n",
       "</div>"
      ],
      "text/plain": [
       "    manufacturer            category screen_size  \\\n",
       "0             HP            Notebook       15.6\"   \n",
       "1           Asus              Gaming       17.3\"   \n",
       "2           Dell  2 in 1 Convertible       15.6\"   \n",
       "3        Toshiba            Notebook       13.3\"   \n",
       "4         Lenovo            Notebook       15.6\"   \n",
       "..           ...                 ...         ...   \n",
       "320       Lenovo  2 in 1 Convertible       14.0\"   \n",
       "321       Lenovo  2 in 1 Convertible       13.3\"   \n",
       "322       Lenovo            Notebook       14.0\"   \n",
       "323           HP            Notebook       15.6\"   \n",
       "324         Asus            Notebook       15.6\"   \n",
       "\n",
       "                                     resolution  \\\n",
       "0                                      1366x768   \n",
       "1                             Full HD 1920x1080   \n",
       "2     IPS Panel Full HD / Touchscreen 1920x1080   \n",
       "3                             Full HD 1920x1080   \n",
       "4                             Full HD 1920x1080   \n",
       "..                                          ...   \n",
       "320   IPS Panel Full HD / Touchscreen 1920x1080   \n",
       "321  IPS Panel Quad HD+ / Touchscreen 3200x1800   \n",
       "322                                    1366x768   \n",
       "323                                    1366x768   \n",
       "324                                    1366x768   \n",
       "\n",
       "                                      cpu   ram               storage  \\\n",
       "0              Intel Core i7 7500U 2.7GHz   6GB               1TB HDD   \n",
       "1             Intel Core i7 7700HQ 2.8GHz  16GB  256GB SSD +  1TB HDD   \n",
       "2              Intel Core i7 7500U 2.7GHz  12GB             512GB SSD   \n",
       "3              Intel Core i5 6200U 2.3GHz   4GB             128GB SSD   \n",
       "4             AMD A12-Series 9720P 3.6GHz   6GB             256GB SSD   \n",
       "..                                    ...   ...                   ...   \n",
       "320            Intel Core i7 6500U 2.5GHz   4GB             128GB SSD   \n",
       "321            Intel Core i7 6500U 2.5GHz  16GB             512GB SSD   \n",
       "322  Intel Celeron Dual Core N3050 1.6GHz   2GB    64GB Flash Storage   \n",
       "323            Intel Core i7 6500U 2.5GHz   6GB               1TB HDD   \n",
       "324  Intel Celeron Dual Core N3050 1.6GHz   4GB             500GB HDD   \n",
       "\n",
       "                            gpu       os  weight  price  \n",
       "0         Intel HD Graphics 620  Windows  2.04kg    626  \n",
       "1    Nvidia GeForce GTX 1050 Ti  Windows  2.99kg   1892  \n",
       "2         Intel HD Graphics 620  Windows  2.19kg   1405  \n",
       "3         Intel HD Graphics 520  Windows   1.2kg   1293  \n",
       "4                AMD Radeon 530  Windows   2.2kg    594  \n",
       "..                          ...      ...     ...    ...  \n",
       "320       Intel HD Graphics 520  Windows   1.8kg    690  \n",
       "321       Intel HD Graphics 520  Windows   1.3kg   1622  \n",
       "322           Intel HD Graphics  Windows   1.5kg    247  \n",
       "323          AMD Radeon R5 M330  Windows  2.19kg    826  \n",
       "324           Intel HD Graphics  Windows   2.2kg    399  \n",
       "\n",
       "[325 rows x 11 columns]"
      ]
     },
     "execution_count": 230,
     "metadata": {},
     "output_type": "execute_result"
    }
   ],
   "source": [
    "laptops_test"
   ]
  },
  {
   "cell_type": "code",
   "execution_count": 231,
   "id": "107908e8-078c-466b-b0e2-3f46cf5a29ef",
   "metadata": {},
   "outputs": [],
   "source": [
    "import matplotlib as plt\n",
    "import plotly.express as px"
   ]
  },
  {
   "cell_type": "code",
   "execution_count": 232,
   "id": "ec6921ac-77b5-445d-9b99-db2488cf8257",
   "metadata": {},
   "outputs": [
    {
     "data": {
      "application/vnd.plotly.v1+json": {
       "config": {
        "plotlyServerURL": "https://plot.ly"
       },
       "data": [
        {
         "alignmentgroup": "True",
         "bingroup": "x",
         "hovertemplate": "price=%{x}<br>count=%{y}<extra></extra>",
         "legendgroup": "",
         "marker": {
          "color": "#636efa",
          "pattern": {
           "shape": ""
          }
         },
         "name": "",
         "offsetgroup": "",
         "orientation": "v",
         "showlegend": false,
         "type": "histogram",
         "x": [
          1449,
          972,
          622,
          2745,
          1951,
          432,
          2315,
          1253,
          1617,
          833,
          426,
          373,
          2640,
          539,
          1366,
          1643,
          806,
          3092,
          539,
          1059,
          207,
          1081,
          279,
          886,
          713,
          453,
          1189,
          865,
          1404,
          969,
          265,
          215,
          475,
          2022,
          1079,
          269,
          397,
          1059,
          528,
          951,
          420,
          1622,
          565,
          738,
          1081,
          1535,
          399,
          1405,
          691,
          504,
          345,
          910,
          431,
          1193,
          415,
          830,
          475,
          634,
          2650,
          449,
          1405,
          951,
          648,
          1018,
          746,
          2145,
          474,
          247,
          594,
          1026,
          1178,
          1033,
          941,
          1184,
          420,
          1026,
          561,
          925,
          573,
          1057,
          1186,
          1634,
          930,
          431,
          427,
          1459,
          756,
          648,
          1568,
          1784,
          756,
          745,
          1295,
          1293,
          1135,
          916,
          649,
          524,
          624,
          1351,
          778,
          377,
          700,
          1210,
          1450,
          713,
          448,
          1291,
          1405,
          1601,
          1365,
          1492,
          1513,
          781,
          1762,
          1513,
          1173,
          1223,
          610,
          1209,
          518,
          2425,
          680,
          1375,
          488,
          280,
          878,
          300,
          1510,
          1004,
          691,
          485,
          956,
          618,
          647,
          1069,
          273,
          1015,
          539,
          756,
          708,
          1207,
          940,
          651,
          399,
          1189,
          2179,
          372,
          2195,
          483,
          1351,
          972,
          538,
          2045,
          1170,
          669,
          680,
          1423,
          1135,
          483,
          436,
          871,
          787,
          1167,
          376,
          1946,
          393,
          1147,
          924,
          815,
          1459,
          756,
          334,
          529,
          998,
          496,
          485,
          3028,
          879,
          1622,
          1135,
          1513,
          2000,
          858,
          1297,
          1676,
          2593,
          842,
          1070,
          1174,
          3056,
          281,
          1082,
          755,
          907,
          989,
          6600,
          1037,
          1492,
          1130,
          1996,
          533,
          802,
          1892,
          3305,
          1512,
          475,
          2109,
          1568,
          646,
          842,
          1522,
          377,
          594,
          1622,
          1008,
          637,
          1115,
          1243,
          1384,
          732,
          972,
          1474,
          859,
          2658,
          900,
          929,
          832,
          964,
          1373,
          431,
          357,
          1622,
          929,
          745,
          972,
          422,
          622,
          4209,
          915,
          637,
          1239,
          962,
          951,
          1167,
          1065,
          604,
          3245,
          730,
          2207,
          886,
          1946,
          507,
          2000,
          759,
          1026,
          482,
          1146,
          2704,
          1838,
          1235,
          480,
          781,
          710,
          611,
          864,
          1622,
          505,
          1101,
          952,
          2119,
          1676,
          795,
          2704,
          878,
          771,
          1189,
          806,
          529,
          918,
          929,
          463,
          897,
          626,
          1029,
          713,
          1187,
          1057,
          1275,
          713,
          215,
          1284,
          529,
          1979,
          799,
          1405,
          1059,
          3121,
          539,
          1588,
          550,
          2296,
          702,
          594,
          1368,
          389,
          2137,
          1128,
          886,
          507,
          1081,
          2704,
          2271,
          507,
          297,
          913,
          2650,
          497,
          1060,
          524,
          1398,
          637,
          1183,
          976,
          713,
          315,
          594,
          1136,
          1444,
          2855,
          1297,
          1020,
          1443,
          485,
          1081,
          1372,
          1135,
          1237,
          297,
          1236,
          297,
          972,
          774,
          2271,
          1708,
          1221,
          301,
          1740,
          405,
          717,
          2193,
          1411,
          1524,
          1881,
          1518,
          1050,
          348,
          1081,
          603,
          1544,
          475,
          1022,
          778,
          691,
          539,
          420,
          1174,
          875,
          972,
          1893,
          1189,
          460,
          2379,
          529,
          940,
          529,
          598,
          334,
          309,
          915,
          1288,
          436,
          1790,
          1189,
          1892,
          2469,
          594,
          1481,
          2310,
          2715,
          1124,
          1721,
          751,
          1459,
          842,
          539,
          1330,
          1015,
          2934,
          2840,
          331,
          1654,
          1238,
          951,
          2433,
          2026,
          1890,
          1818,
          442,
          329,
          2083,
          2102,
          507,
          853,
          1004,
          648,
          745,
          1623,
          584,
          1315,
          2055,
          485,
          1544,
          646,
          3028,
          1254,
          1236,
          1189,
          2163,
          323,
          291,
          1092,
          648,
          2645,
          2650,
          1834,
          375,
          2379,
          2577,
          604,
          561,
          810,
          1546,
          377,
          1189,
          1275,
          478,
          2156,
          1112,
          2801,
          637,
          2137,
          1660,
          1455,
          1059,
          518,
          2214,
          1070,
          1946,
          692,
          588,
          470,
          810,
          864,
          2261,
          328,
          507,
          821,
          1838,
          2010,
          2163,
          1248,
          1379,
          1993,
          1405,
          800,
          2605,
          1476,
          730,
          1809,
          1365,
          634,
          785,
          269,
          611,
          1135,
          2530,
          2055,
          1945,
          2110,
          1095,
          3028,
          1460,
          626,
          1373,
          1189,
          972,
          1892,
          1026,
          985,
          367,
          669,
          1730,
          323,
          286,
          1026,
          1324,
          663,
          1431,
          1243,
          972,
          691,
          904,
          1319,
          1514,
          265,
          564,
          3211,
          962,
          1627,
          1513,
          1513,
          1384,
          745,
          962,
          1450,
          864,
          496,
          633,
          1490,
          3260,
          930,
          1405,
          399,
          1784,
          1481,
          862,
          431,
          1946,
          929,
          1513,
          796,
          1239,
          863,
          377,
          763,
          849,
          500,
          429,
          1871,
          539,
          1208,
          2920,
          588,
          1385,
          242,
          275,
          1026,
          615,
          668,
          377,
          681,
          2126,
          3245,
          907,
          1730,
          1037,
          799,
          372,
          1071,
          2013,
          420,
          702,
          898,
          741,
          269,
          2018,
          2881,
          2953,
          810,
          420,
          1091,
          778,
          1663,
          319,
          2541,
          1621,
          1810,
          659,
          1915,
          799,
          1026,
          652,
          1838,
          572,
          496,
          2191,
          1595,
          1807,
          1907,
          1319,
          723,
          356,
          2379,
          503,
          2487,
          1513,
          610,
          1405,
          377,
          5301,
          951,
          480,
          388,
          940,
          1263,
          615,
          1503,
          2454,
          410,
          1216,
          1585,
          839,
          864,
          1008,
          972,
          258,
          506,
          691,
          1969,
          2056,
          1600,
          897,
          626,
          431,
          981,
          2022,
          269,
          1901,
          2596,
          1200,
          563,
          2651,
          1265,
          486,
          296,
          994,
          2812,
          1312,
          1714,
          3028,
          767,
          1569,
          1289,
          394,
          1151,
          994,
          1228,
          1294,
          3405,
          1329,
          453,
          578,
          583,
          1608,
          538,
          1033,
          806,
          1361,
          445,
          2021,
          885,
          1118,
          377,
          756,
          1400,
          1228,
          535,
          2487,
          1405,
          1079,
          453,
          2219,
          756,
          1622,
          3044,
          662,
          590,
          615,
          344,
          405,
          756,
          2064,
          2802,
          1052,
          291,
          1892,
          723,
          2031,
          745,
          886,
          431,
          464,
          672,
          486,
          860,
          1081,
          2007,
          1288,
          708,
          1351,
          1178,
          785,
          322,
          1543,
          927,
          1275,
          322,
          286,
          1298,
          1825,
          905,
          1622,
          3960,
          1459,
          530,
          778,
          702,
          637,
          529,
          2093,
          702,
          703,
          604,
          1038,
          842,
          2617,
          713,
          2266,
          444,
          1306,
          719,
          1661,
          1081,
          3570,
          357,
          1784,
          583,
          1219,
          4749,
          514,
          2056,
          626,
          1186,
          919,
          1297,
          1189,
          1689,
          3104,
          648,
          1134,
          2011,
          1687,
          1221,
          918,
          708,
          508,
          1189,
          1730,
          322,
          1278,
          1946,
          1103,
          1189,
          1346,
          907,
          2564,
          688,
          3137,
          629,
          3883,
          2543,
          1908,
          356,
          2487,
          2046,
          1178,
          1081,
          2487,
          1065,
          1449,
          219,
          2131,
          1037,
          1260,
          2521,
          323,
          876,
          1459,
          799,
          2234,
          1189,
          1622,
          1892,
          805,
          1503,
          844,
          680,
          1816,
          659,
          1892,
          2613,
          1622,
          1039,
          854,
          2011,
          1946,
          416,
          2710,
          817,
          530,
          1179,
          2704,
          1297,
          2029,
          539,
          1469,
          633,
          384,
          669,
          5950,
          2271,
          561,
          1283,
          1785,
          3002,
          2617,
          723,
          351,
          638,
          1946,
          3325,
          984,
          772,
          2023,
          799,
          665,
          1110,
          2464,
          1588,
          323,
          2055,
          936,
          2059,
          851,
          1022,
          485,
          2769,
          702,
          507,
          920,
          1459,
          1390,
          1100,
          2424,
          984,
          1184,
          2110,
          976,
          1924,
          1141,
          518,
          1502,
          795,
          2000,
          1828,
          431,
          1011,
          987,
          907,
          1839,
          741,
          376,
          723,
          399,
          1946,
          493,
          1482,
          321,
          410,
          1368,
          1513,
          1838,
          1946,
          2866,
          1596,
          1005,
          973,
          664,
          1011,
          2178,
          1384,
          1784,
          2217,
          2124,
          2271,
          1604,
          388,
          853,
          2055,
          1303,
          3354,
          853,
          1102,
          539,
          953,
          1038,
          1730,
          1459,
          1211,
          741,
          1403,
          1243,
          2137,
          1974,
          789,
          1785,
          1260,
          766,
          1243,
          334,
          1708,
          312,
          1946,
          1195,
          1806,
          604,
          1297,
          1773,
          2984,
          1513,
          573,
          669,
          1210,
          1405,
          1081,
          1593,
          741,
          713,
          377,
          2433,
          1920,
          1579,
          1254,
          1611,
          3413,
          2055,
          838,
          1372,
          420,
          1661,
          1904,
          1091,
          1937,
          916,
          503,
          892,
          741,
          3407,
          752,
          2055,
          2124,
          3030,
          1276,
          2218,
          1059,
          1084
         ],
         "xaxis": "x",
         "yaxis": "y"
        }
       ],
       "layout": {
        "autosize": true,
        "barmode": "relative",
        "legend": {
         "tracegroupgap": 0
        },
        "margin": {
         "t": 60
        },
        "template": {
         "data": {
          "bar": [
           {
            "error_x": {
             "color": "#2a3f5f"
            },
            "error_y": {
             "color": "#2a3f5f"
            },
            "marker": {
             "line": {
              "color": "#E5ECF6",
              "width": 0.5
             },
             "pattern": {
              "fillmode": "overlay",
              "size": 10,
              "solidity": 0.2
             }
            },
            "type": "bar"
           }
          ],
          "barpolar": [
           {
            "marker": {
             "line": {
              "color": "#E5ECF6",
              "width": 0.5
             },
             "pattern": {
              "fillmode": "overlay",
              "size": 10,
              "solidity": 0.2
             }
            },
            "type": "barpolar"
           }
          ],
          "carpet": [
           {
            "aaxis": {
             "endlinecolor": "#2a3f5f",
             "gridcolor": "white",
             "linecolor": "white",
             "minorgridcolor": "white",
             "startlinecolor": "#2a3f5f"
            },
            "baxis": {
             "endlinecolor": "#2a3f5f",
             "gridcolor": "white",
             "linecolor": "white",
             "minorgridcolor": "white",
             "startlinecolor": "#2a3f5f"
            },
            "type": "carpet"
           }
          ],
          "choropleth": [
           {
            "colorbar": {
             "outlinewidth": 0,
             "ticks": ""
            },
            "type": "choropleth"
           }
          ],
          "contour": [
           {
            "colorbar": {
             "outlinewidth": 0,
             "ticks": ""
            },
            "colorscale": [
             [
              0,
              "#0d0887"
             ],
             [
              0.1111111111111111,
              "#46039f"
             ],
             [
              0.2222222222222222,
              "#7201a8"
             ],
             [
              0.3333333333333333,
              "#9c179e"
             ],
             [
              0.4444444444444444,
              "#bd3786"
             ],
             [
              0.5555555555555556,
              "#d8576b"
             ],
             [
              0.6666666666666666,
              "#ed7953"
             ],
             [
              0.7777777777777778,
              "#fb9f3a"
             ],
             [
              0.8888888888888888,
              "#fdca26"
             ],
             [
              1,
              "#f0f921"
             ]
            ],
            "type": "contour"
           }
          ],
          "contourcarpet": [
           {
            "colorbar": {
             "outlinewidth": 0,
             "ticks": ""
            },
            "type": "contourcarpet"
           }
          ],
          "heatmap": [
           {
            "colorbar": {
             "outlinewidth": 0,
             "ticks": ""
            },
            "colorscale": [
             [
              0,
              "#0d0887"
             ],
             [
              0.1111111111111111,
              "#46039f"
             ],
             [
              0.2222222222222222,
              "#7201a8"
             ],
             [
              0.3333333333333333,
              "#9c179e"
             ],
             [
              0.4444444444444444,
              "#bd3786"
             ],
             [
              0.5555555555555556,
              "#d8576b"
             ],
             [
              0.6666666666666666,
              "#ed7953"
             ],
             [
              0.7777777777777778,
              "#fb9f3a"
             ],
             [
              0.8888888888888888,
              "#fdca26"
             ],
             [
              1,
              "#f0f921"
             ]
            ],
            "type": "heatmap"
           }
          ],
          "heatmapgl": [
           {
            "colorbar": {
             "outlinewidth": 0,
             "ticks": ""
            },
            "colorscale": [
             [
              0,
              "#0d0887"
             ],
             [
              0.1111111111111111,
              "#46039f"
             ],
             [
              0.2222222222222222,
              "#7201a8"
             ],
             [
              0.3333333333333333,
              "#9c179e"
             ],
             [
              0.4444444444444444,
              "#bd3786"
             ],
             [
              0.5555555555555556,
              "#d8576b"
             ],
             [
              0.6666666666666666,
              "#ed7953"
             ],
             [
              0.7777777777777778,
              "#fb9f3a"
             ],
             [
              0.8888888888888888,
              "#fdca26"
             ],
             [
              1,
              "#f0f921"
             ]
            ],
            "type": "heatmapgl"
           }
          ],
          "histogram": [
           {
            "marker": {
             "pattern": {
              "fillmode": "overlay",
              "size": 10,
              "solidity": 0.2
             }
            },
            "type": "histogram"
           }
          ],
          "histogram2d": [
           {
            "colorbar": {
             "outlinewidth": 0,
             "ticks": ""
            },
            "colorscale": [
             [
              0,
              "#0d0887"
             ],
             [
              0.1111111111111111,
              "#46039f"
             ],
             [
              0.2222222222222222,
              "#7201a8"
             ],
             [
              0.3333333333333333,
              "#9c179e"
             ],
             [
              0.4444444444444444,
              "#bd3786"
             ],
             [
              0.5555555555555556,
              "#d8576b"
             ],
             [
              0.6666666666666666,
              "#ed7953"
             ],
             [
              0.7777777777777778,
              "#fb9f3a"
             ],
             [
              0.8888888888888888,
              "#fdca26"
             ],
             [
              1,
              "#f0f921"
             ]
            ],
            "type": "histogram2d"
           }
          ],
          "histogram2dcontour": [
           {
            "colorbar": {
             "outlinewidth": 0,
             "ticks": ""
            },
            "colorscale": [
             [
              0,
              "#0d0887"
             ],
             [
              0.1111111111111111,
              "#46039f"
             ],
             [
              0.2222222222222222,
              "#7201a8"
             ],
             [
              0.3333333333333333,
              "#9c179e"
             ],
             [
              0.4444444444444444,
              "#bd3786"
             ],
             [
              0.5555555555555556,
              "#d8576b"
             ],
             [
              0.6666666666666666,
              "#ed7953"
             ],
             [
              0.7777777777777778,
              "#fb9f3a"
             ],
             [
              0.8888888888888888,
              "#fdca26"
             ],
             [
              1,
              "#f0f921"
             ]
            ],
            "type": "histogram2dcontour"
           }
          ],
          "mesh3d": [
           {
            "colorbar": {
             "outlinewidth": 0,
             "ticks": ""
            },
            "type": "mesh3d"
           }
          ],
          "parcoords": [
           {
            "line": {
             "colorbar": {
              "outlinewidth": 0,
              "ticks": ""
             }
            },
            "type": "parcoords"
           }
          ],
          "pie": [
           {
            "automargin": true,
            "type": "pie"
           }
          ],
          "scatter": [
           {
            "fillpattern": {
             "fillmode": "overlay",
             "size": 10,
             "solidity": 0.2
            },
            "type": "scatter"
           }
          ],
          "scatter3d": [
           {
            "line": {
             "colorbar": {
              "outlinewidth": 0,
              "ticks": ""
             }
            },
            "marker": {
             "colorbar": {
              "outlinewidth": 0,
              "ticks": ""
             }
            },
            "type": "scatter3d"
           }
          ],
          "scattercarpet": [
           {
            "marker": {
             "colorbar": {
              "outlinewidth": 0,
              "ticks": ""
             }
            },
            "type": "scattercarpet"
           }
          ],
          "scattergeo": [
           {
            "marker": {
             "colorbar": {
              "outlinewidth": 0,
              "ticks": ""
             }
            },
            "type": "scattergeo"
           }
          ],
          "scattergl": [
           {
            "marker": {
             "colorbar": {
              "outlinewidth": 0,
              "ticks": ""
             }
            },
            "type": "scattergl"
           }
          ],
          "scattermapbox": [
           {
            "marker": {
             "colorbar": {
              "outlinewidth": 0,
              "ticks": ""
             }
            },
            "type": "scattermapbox"
           }
          ],
          "scatterpolar": [
           {
            "marker": {
             "colorbar": {
              "outlinewidth": 0,
              "ticks": ""
             }
            },
            "type": "scatterpolar"
           }
          ],
          "scatterpolargl": [
           {
            "marker": {
             "colorbar": {
              "outlinewidth": 0,
              "ticks": ""
             }
            },
            "type": "scatterpolargl"
           }
          ],
          "scatterternary": [
           {
            "marker": {
             "colorbar": {
              "outlinewidth": 0,
              "ticks": ""
             }
            },
            "type": "scatterternary"
           }
          ],
          "surface": [
           {
            "colorbar": {
             "outlinewidth": 0,
             "ticks": ""
            },
            "colorscale": [
             [
              0,
              "#0d0887"
             ],
             [
              0.1111111111111111,
              "#46039f"
             ],
             [
              0.2222222222222222,
              "#7201a8"
             ],
             [
              0.3333333333333333,
              "#9c179e"
             ],
             [
              0.4444444444444444,
              "#bd3786"
             ],
             [
              0.5555555555555556,
              "#d8576b"
             ],
             [
              0.6666666666666666,
              "#ed7953"
             ],
             [
              0.7777777777777778,
              "#fb9f3a"
             ],
             [
              0.8888888888888888,
              "#fdca26"
             ],
             [
              1,
              "#f0f921"
             ]
            ],
            "type": "surface"
           }
          ],
          "table": [
           {
            "cells": {
             "fill": {
              "color": "#EBF0F8"
             },
             "line": {
              "color": "white"
             }
            },
            "header": {
             "fill": {
              "color": "#C8D4E3"
             },
             "line": {
              "color": "white"
             }
            },
            "type": "table"
           }
          ]
         },
         "layout": {
          "annotationdefaults": {
           "arrowcolor": "#2a3f5f",
           "arrowhead": 0,
           "arrowwidth": 1
          },
          "autotypenumbers": "strict",
          "coloraxis": {
           "colorbar": {
            "outlinewidth": 0,
            "ticks": ""
           }
          },
          "colorscale": {
           "diverging": [
            [
             0,
             "#8e0152"
            ],
            [
             0.1,
             "#c51b7d"
            ],
            [
             0.2,
             "#de77ae"
            ],
            [
             0.3,
             "#f1b6da"
            ],
            [
             0.4,
             "#fde0ef"
            ],
            [
             0.5,
             "#f7f7f7"
            ],
            [
             0.6,
             "#e6f5d0"
            ],
            [
             0.7,
             "#b8e186"
            ],
            [
             0.8,
             "#7fbc41"
            ],
            [
             0.9,
             "#4d9221"
            ],
            [
             1,
             "#276419"
            ]
           ],
           "sequential": [
            [
             0,
             "#0d0887"
            ],
            [
             0.1111111111111111,
             "#46039f"
            ],
            [
             0.2222222222222222,
             "#7201a8"
            ],
            [
             0.3333333333333333,
             "#9c179e"
            ],
            [
             0.4444444444444444,
             "#bd3786"
            ],
            [
             0.5555555555555556,
             "#d8576b"
            ],
            [
             0.6666666666666666,
             "#ed7953"
            ],
            [
             0.7777777777777778,
             "#fb9f3a"
            ],
            [
             0.8888888888888888,
             "#fdca26"
            ],
            [
             1,
             "#f0f921"
            ]
           ],
           "sequentialminus": [
            [
             0,
             "#0d0887"
            ],
            [
             0.1111111111111111,
             "#46039f"
            ],
            [
             0.2222222222222222,
             "#7201a8"
            ],
            [
             0.3333333333333333,
             "#9c179e"
            ],
            [
             0.4444444444444444,
             "#bd3786"
            ],
            [
             0.5555555555555556,
             "#d8576b"
            ],
            [
             0.6666666666666666,
             "#ed7953"
            ],
            [
             0.7777777777777778,
             "#fb9f3a"
            ],
            [
             0.8888888888888888,
             "#fdca26"
            ],
            [
             1,
             "#f0f921"
            ]
           ]
          },
          "colorway": [
           "#636efa",
           "#EF553B",
           "#00cc96",
           "#ab63fa",
           "#FFA15A",
           "#19d3f3",
           "#FF6692",
           "#B6E880",
           "#FF97FF",
           "#FECB52"
          ],
          "font": {
           "color": "#2a3f5f"
          },
          "geo": {
           "bgcolor": "white",
           "lakecolor": "white",
           "landcolor": "#E5ECF6",
           "showlakes": true,
           "showland": true,
           "subunitcolor": "white"
          },
          "hoverlabel": {
           "align": "left"
          },
          "hovermode": "closest",
          "mapbox": {
           "style": "light"
          },
          "paper_bgcolor": "white",
          "plot_bgcolor": "#E5ECF6",
          "polar": {
           "angularaxis": {
            "gridcolor": "white",
            "linecolor": "white",
            "ticks": ""
           },
           "bgcolor": "#E5ECF6",
           "radialaxis": {
            "gridcolor": "white",
            "linecolor": "white",
            "ticks": ""
           }
          },
          "scene": {
           "xaxis": {
            "backgroundcolor": "#E5ECF6",
            "gridcolor": "white",
            "gridwidth": 2,
            "linecolor": "white",
            "showbackground": true,
            "ticks": "",
            "zerolinecolor": "white"
           },
           "yaxis": {
            "backgroundcolor": "#E5ECF6",
            "gridcolor": "white",
            "gridwidth": 2,
            "linecolor": "white",
            "showbackground": true,
            "ticks": "",
            "zerolinecolor": "white"
           },
           "zaxis": {
            "backgroundcolor": "#E5ECF6",
            "gridcolor": "white",
            "gridwidth": 2,
            "linecolor": "white",
            "showbackground": true,
            "ticks": "",
            "zerolinecolor": "white"
           }
          },
          "shapedefaults": {
           "line": {
            "color": "#2a3f5f"
           }
          },
          "ternary": {
           "aaxis": {
            "gridcolor": "white",
            "linecolor": "white",
            "ticks": ""
           },
           "baxis": {
            "gridcolor": "white",
            "linecolor": "white",
            "ticks": ""
           },
           "bgcolor": "#E5ECF6",
           "caxis": {
            "gridcolor": "white",
            "linecolor": "white",
            "ticks": ""
           }
          },
          "title": {
           "x": 0.05
          },
          "xaxis": {
           "automargin": true,
           "gridcolor": "white",
           "linecolor": "white",
           "ticks": "",
           "title": {
            "standoff": 15
           },
           "zerolinecolor": "white",
           "zerolinewidth": 2
          },
          "yaxis": {
           "automargin": true,
           "gridcolor": "white",
           "linecolor": "white",
           "ticks": "",
           "title": {
            "standoff": 15
           },
           "zerolinecolor": "white",
           "zerolinewidth": 2
          }
         }
        },
        "xaxis": {
         "anchor": "y",
         "autorange": true,
         "domain": [
          0,
          1
         ],
         "range": [
          199.5,
          6699.5
         ],
         "title": {
          "text": "price"
         },
         "type": "linear"
        },
        "yaxis": {
         "anchor": "x",
         "autorange": true,
         "domain": [
          0,
          1
         ],
         "range": [
          0,
          77.89473684210526
         ],
         "title": {
          "text": "count"
         }
        }
       }
      },
      "text/html": [
       "<div>                            <div id=\"feb89cde-cebe-4f6d-93ea-a206f890a94c\" class=\"plotly-graph-div\" style=\"height:525px; width:100%;\"></div>            <script type=\"text/javascript\">                require([\"plotly\"], function(Plotly) {                    window.PLOTLYENV=window.PLOTLYENV || {};                                    if (document.getElementById(\"feb89cde-cebe-4f6d-93ea-a206f890a94c\")) {                    Plotly.newPlot(                        \"feb89cde-cebe-4f6d-93ea-a206f890a94c\",                        [{\"alignmentgroup\":\"True\",\"bingroup\":\"x\",\"hovertemplate\":\"price=%{x}\\u003cbr\\u003ecount=%{y}\\u003cextra\\u003e\\u003c\\u002fextra\\u003e\",\"legendgroup\":\"\",\"marker\":{\"color\":\"#636efa\",\"pattern\":{\"shape\":\"\"}},\"name\":\"\",\"offsetgroup\":\"\",\"orientation\":\"v\",\"showlegend\":false,\"x\":[1449,972,622,2745,1951,432,2315,1253,1617,833,426,373,2640,539,1366,1643,806,3092,539,1059,207,1081,279,886,713,453,1189,865,1404,969,265,215,475,2022,1079,269,397,1059,528,951,420,1622,565,738,1081,1535,399,1405,691,504,345,910,431,1193,415,830,475,634,2650,449,1405,951,648,1018,746,2145,474,247,594,1026,1178,1033,941,1184,420,1026,561,925,573,1057,1186,1634,930,431,427,1459,756,648,1568,1784,756,745,1295,1293,1135,916,649,524,624,1351,778,377,700,1210,1450,713,448,1291,1405,1601,1365,1492,1513,781,1762,1513,1173,1223,610,1209,518,2425,680,1375,488,280,878,300,1510,1004,691,485,956,618,647,1069,273,1015,539,756,708,1207,940,651,399,1189,2179,372,2195,483,1351,972,538,2045,1170,669,680,1423,1135,483,436,871,787,1167,376,1946,393,1147,924,815,1459,756,334,529,998,496,485,3028,879,1622,1135,1513,2000,858,1297,1676,2593,842,1070,1174,3056,281,1082,755,907,989,6600,1037,1492,1130,1996,533,802,1892,3305,1512,475,2109,1568,646,842,1522,377,594,1622,1008,637,1115,1243,1384,732,972,1474,859,2658,900,929,832,964,1373,431,357,1622,929,745,972,422,622,4209,915,637,1239,962,951,1167,1065,604,3245,730,2207,886,1946,507,2000,759,1026,482,1146,2704,1838,1235,480,781,710,611,864,1622,505,1101,952,2119,1676,795,2704,878,771,1189,806,529,918,929,463,897,626,1029,713,1187,1057,1275,713,215,1284,529,1979,799,1405,1059,3121,539,1588,550,2296,702,594,1368,389,2137,1128,886,507,1081,2704,2271,507,297,913,2650,497,1060,524,1398,637,1183,976,713,315,594,1136,1444,2855,1297,1020,1443,485,1081,1372,1135,1237,297,1236,297,972,774,2271,1708,1221,301,1740,405,717,2193,1411,1524,1881,1518,1050,348,1081,603,1544,475,1022,778,691,539,420,1174,875,972,1893,1189,460,2379,529,940,529,598,334,309,915,1288,436,1790,1189,1892,2469,594,1481,2310,2715,1124,1721,751,1459,842,539,1330,1015,2934,2840,331,1654,1238,951,2433,2026,1890,1818,442,329,2083,2102,507,853,1004,648,745,1623,584,1315,2055,485,1544,646,3028,1254,1236,1189,2163,323,291,1092,648,2645,2650,1834,375,2379,2577,604,561,810,1546,377,1189,1275,478,2156,1112,2801,637,2137,1660,1455,1059,518,2214,1070,1946,692,588,470,810,864,2261,328,507,821,1838,2010,2163,1248,1379,1993,1405,800,2605,1476,730,1809,1365,634,785,269,611,1135,2530,2055,1945,2110,1095,3028,1460,626,1373,1189,972,1892,1026,985,367,669,1730,323,286,1026,1324,663,1431,1243,972,691,904,1319,1514,265,564,3211,962,1627,1513,1513,1384,745,962,1450,864,496,633,1490,3260,930,1405,399,1784,1481,862,431,1946,929,1513,796,1239,863,377,763,849,500,429,1871,539,1208,2920,588,1385,242,275,1026,615,668,377,681,2126,3245,907,1730,1037,799,372,1071,2013,420,702,898,741,269,2018,2881,2953,810,420,1091,778,1663,319,2541,1621,1810,659,1915,799,1026,652,1838,572,496,2191,1595,1807,1907,1319,723,356,2379,503,2487,1513,610,1405,377,5301,951,480,388,940,1263,615,1503,2454,410,1216,1585,839,864,1008,972,258,506,691,1969,2056,1600,897,626,431,981,2022,269,1901,2596,1200,563,2651,1265,486,296,994,2812,1312,1714,3028,767,1569,1289,394,1151,994,1228,1294,3405,1329,453,578,583,1608,538,1033,806,1361,445,2021,885,1118,377,756,1400,1228,535,2487,1405,1079,453,2219,756,1622,3044,662,590,615,344,405,756,2064,2802,1052,291,1892,723,2031,745,886,431,464,672,486,860,1081,2007,1288,708,1351,1178,785,322,1543,927,1275,322,286,1298,1825,905,1622,3960,1459,530,778,702,637,529,2093,702,703,604,1038,842,2617,713,2266,444,1306,719,1661,1081,3570,357,1784,583,1219,4749,514,2056,626,1186,919,1297,1189,1689,3104,648,1134,2011,1687,1221,918,708,508,1189,1730,322,1278,1946,1103,1189,1346,907,2564,688,3137,629,3883,2543,1908,356,2487,2046,1178,1081,2487,1065,1449,219,2131,1037,1260,2521,323,876,1459,799,2234,1189,1622,1892,805,1503,844,680,1816,659,1892,2613,1622,1039,854,2011,1946,416,2710,817,530,1179,2704,1297,2029,539,1469,633,384,669,5950,2271,561,1283,1785,3002,2617,723,351,638,1946,3325,984,772,2023,799,665,1110,2464,1588,323,2055,936,2059,851,1022,485,2769,702,507,920,1459,1390,1100,2424,984,1184,2110,976,1924,1141,518,1502,795,2000,1828,431,1011,987,907,1839,741,376,723,399,1946,493,1482,321,410,1368,1513,1838,1946,2866,1596,1005,973,664,1011,2178,1384,1784,2217,2124,2271,1604,388,853,2055,1303,3354,853,1102,539,953,1038,1730,1459,1211,741,1403,1243,2137,1974,789,1785,1260,766,1243,334,1708,312,1946,1195,1806,604,1297,1773,2984,1513,573,669,1210,1405,1081,1593,741,713,377,2433,1920,1579,1254,1611,3413,2055,838,1372,420,1661,1904,1091,1937,916,503,892,741,3407,752,2055,2124,3030,1276,2218,1059,1084],\"xaxis\":\"x\",\"yaxis\":\"y\",\"type\":\"histogram\"}],                        {\"template\":{\"data\":{\"histogram2dcontour\":[{\"type\":\"histogram2dcontour\",\"colorbar\":{\"outlinewidth\":0,\"ticks\":\"\"},\"colorscale\":[[0.0,\"#0d0887\"],[0.1111111111111111,\"#46039f\"],[0.2222222222222222,\"#7201a8\"],[0.3333333333333333,\"#9c179e\"],[0.4444444444444444,\"#bd3786\"],[0.5555555555555556,\"#d8576b\"],[0.6666666666666666,\"#ed7953\"],[0.7777777777777778,\"#fb9f3a\"],[0.8888888888888888,\"#fdca26\"],[1.0,\"#f0f921\"]]}],\"choropleth\":[{\"type\":\"choropleth\",\"colorbar\":{\"outlinewidth\":0,\"ticks\":\"\"}}],\"histogram2d\":[{\"type\":\"histogram2d\",\"colorbar\":{\"outlinewidth\":0,\"ticks\":\"\"},\"colorscale\":[[0.0,\"#0d0887\"],[0.1111111111111111,\"#46039f\"],[0.2222222222222222,\"#7201a8\"],[0.3333333333333333,\"#9c179e\"],[0.4444444444444444,\"#bd3786\"],[0.5555555555555556,\"#d8576b\"],[0.6666666666666666,\"#ed7953\"],[0.7777777777777778,\"#fb9f3a\"],[0.8888888888888888,\"#fdca26\"],[1.0,\"#f0f921\"]]}],\"heatmap\":[{\"type\":\"heatmap\",\"colorbar\":{\"outlinewidth\":0,\"ticks\":\"\"},\"colorscale\":[[0.0,\"#0d0887\"],[0.1111111111111111,\"#46039f\"],[0.2222222222222222,\"#7201a8\"],[0.3333333333333333,\"#9c179e\"],[0.4444444444444444,\"#bd3786\"],[0.5555555555555556,\"#d8576b\"],[0.6666666666666666,\"#ed7953\"],[0.7777777777777778,\"#fb9f3a\"],[0.8888888888888888,\"#fdca26\"],[1.0,\"#f0f921\"]]}],\"heatmapgl\":[{\"type\":\"heatmapgl\",\"colorbar\":{\"outlinewidth\":0,\"ticks\":\"\"},\"colorscale\":[[0.0,\"#0d0887\"],[0.1111111111111111,\"#46039f\"],[0.2222222222222222,\"#7201a8\"],[0.3333333333333333,\"#9c179e\"],[0.4444444444444444,\"#bd3786\"],[0.5555555555555556,\"#d8576b\"],[0.6666666666666666,\"#ed7953\"],[0.7777777777777778,\"#fb9f3a\"],[0.8888888888888888,\"#fdca26\"],[1.0,\"#f0f921\"]]}],\"contourcarpet\":[{\"type\":\"contourcarpet\",\"colorbar\":{\"outlinewidth\":0,\"ticks\":\"\"}}],\"contour\":[{\"type\":\"contour\",\"colorbar\":{\"outlinewidth\":0,\"ticks\":\"\"},\"colorscale\":[[0.0,\"#0d0887\"],[0.1111111111111111,\"#46039f\"],[0.2222222222222222,\"#7201a8\"],[0.3333333333333333,\"#9c179e\"],[0.4444444444444444,\"#bd3786\"],[0.5555555555555556,\"#d8576b\"],[0.6666666666666666,\"#ed7953\"],[0.7777777777777778,\"#fb9f3a\"],[0.8888888888888888,\"#fdca26\"],[1.0,\"#f0f921\"]]}],\"surface\":[{\"type\":\"surface\",\"colorbar\":{\"outlinewidth\":0,\"ticks\":\"\"},\"colorscale\":[[0.0,\"#0d0887\"],[0.1111111111111111,\"#46039f\"],[0.2222222222222222,\"#7201a8\"],[0.3333333333333333,\"#9c179e\"],[0.4444444444444444,\"#bd3786\"],[0.5555555555555556,\"#d8576b\"],[0.6666666666666666,\"#ed7953\"],[0.7777777777777778,\"#fb9f3a\"],[0.8888888888888888,\"#fdca26\"],[1.0,\"#f0f921\"]]}],\"mesh3d\":[{\"type\":\"mesh3d\",\"colorbar\":{\"outlinewidth\":0,\"ticks\":\"\"}}],\"scatter\":[{\"fillpattern\":{\"fillmode\":\"overlay\",\"size\":10,\"solidity\":0.2},\"type\":\"scatter\"}],\"parcoords\":[{\"type\":\"parcoords\",\"line\":{\"colorbar\":{\"outlinewidth\":0,\"ticks\":\"\"}}}],\"scatterpolargl\":[{\"type\":\"scatterpolargl\",\"marker\":{\"colorbar\":{\"outlinewidth\":0,\"ticks\":\"\"}}}],\"bar\":[{\"error_x\":{\"color\":\"#2a3f5f\"},\"error_y\":{\"color\":\"#2a3f5f\"},\"marker\":{\"line\":{\"color\":\"#E5ECF6\",\"width\":0.5},\"pattern\":{\"fillmode\":\"overlay\",\"size\":10,\"solidity\":0.2}},\"type\":\"bar\"}],\"scattergeo\":[{\"type\":\"scattergeo\",\"marker\":{\"colorbar\":{\"outlinewidth\":0,\"ticks\":\"\"}}}],\"scatterpolar\":[{\"type\":\"scatterpolar\",\"marker\":{\"colorbar\":{\"outlinewidth\":0,\"ticks\":\"\"}}}],\"histogram\":[{\"marker\":{\"pattern\":{\"fillmode\":\"overlay\",\"size\":10,\"solidity\":0.2}},\"type\":\"histogram\"}],\"scattergl\":[{\"type\":\"scattergl\",\"marker\":{\"colorbar\":{\"outlinewidth\":0,\"ticks\":\"\"}}}],\"scatter3d\":[{\"type\":\"scatter3d\",\"line\":{\"colorbar\":{\"outlinewidth\":0,\"ticks\":\"\"}},\"marker\":{\"colorbar\":{\"outlinewidth\":0,\"ticks\":\"\"}}}],\"scattermapbox\":[{\"type\":\"scattermapbox\",\"marker\":{\"colorbar\":{\"outlinewidth\":0,\"ticks\":\"\"}}}],\"scatterternary\":[{\"type\":\"scatterternary\",\"marker\":{\"colorbar\":{\"outlinewidth\":0,\"ticks\":\"\"}}}],\"scattercarpet\":[{\"type\":\"scattercarpet\",\"marker\":{\"colorbar\":{\"outlinewidth\":0,\"ticks\":\"\"}}}],\"carpet\":[{\"aaxis\":{\"endlinecolor\":\"#2a3f5f\",\"gridcolor\":\"white\",\"linecolor\":\"white\",\"minorgridcolor\":\"white\",\"startlinecolor\":\"#2a3f5f\"},\"baxis\":{\"endlinecolor\":\"#2a3f5f\",\"gridcolor\":\"white\",\"linecolor\":\"white\",\"minorgridcolor\":\"white\",\"startlinecolor\":\"#2a3f5f\"},\"type\":\"carpet\"}],\"table\":[{\"cells\":{\"fill\":{\"color\":\"#EBF0F8\"},\"line\":{\"color\":\"white\"}},\"header\":{\"fill\":{\"color\":\"#C8D4E3\"},\"line\":{\"color\":\"white\"}},\"type\":\"table\"}],\"barpolar\":[{\"marker\":{\"line\":{\"color\":\"#E5ECF6\",\"width\":0.5},\"pattern\":{\"fillmode\":\"overlay\",\"size\":10,\"solidity\":0.2}},\"type\":\"barpolar\"}],\"pie\":[{\"automargin\":true,\"type\":\"pie\"}]},\"layout\":{\"autotypenumbers\":\"strict\",\"colorway\":[\"#636efa\",\"#EF553B\",\"#00cc96\",\"#ab63fa\",\"#FFA15A\",\"#19d3f3\",\"#FF6692\",\"#B6E880\",\"#FF97FF\",\"#FECB52\"],\"font\":{\"color\":\"#2a3f5f\"},\"hovermode\":\"closest\",\"hoverlabel\":{\"align\":\"left\"},\"paper_bgcolor\":\"white\",\"plot_bgcolor\":\"#E5ECF6\",\"polar\":{\"bgcolor\":\"#E5ECF6\",\"angularaxis\":{\"gridcolor\":\"white\",\"linecolor\":\"white\",\"ticks\":\"\"},\"radialaxis\":{\"gridcolor\":\"white\",\"linecolor\":\"white\",\"ticks\":\"\"}},\"ternary\":{\"bgcolor\":\"#E5ECF6\",\"aaxis\":{\"gridcolor\":\"white\",\"linecolor\":\"white\",\"ticks\":\"\"},\"baxis\":{\"gridcolor\":\"white\",\"linecolor\":\"white\",\"ticks\":\"\"},\"caxis\":{\"gridcolor\":\"white\",\"linecolor\":\"white\",\"ticks\":\"\"}},\"coloraxis\":{\"colorbar\":{\"outlinewidth\":0,\"ticks\":\"\"}},\"colorscale\":{\"sequential\":[[0.0,\"#0d0887\"],[0.1111111111111111,\"#46039f\"],[0.2222222222222222,\"#7201a8\"],[0.3333333333333333,\"#9c179e\"],[0.4444444444444444,\"#bd3786\"],[0.5555555555555556,\"#d8576b\"],[0.6666666666666666,\"#ed7953\"],[0.7777777777777778,\"#fb9f3a\"],[0.8888888888888888,\"#fdca26\"],[1.0,\"#f0f921\"]],\"sequentialminus\":[[0.0,\"#0d0887\"],[0.1111111111111111,\"#46039f\"],[0.2222222222222222,\"#7201a8\"],[0.3333333333333333,\"#9c179e\"],[0.4444444444444444,\"#bd3786\"],[0.5555555555555556,\"#d8576b\"],[0.6666666666666666,\"#ed7953\"],[0.7777777777777778,\"#fb9f3a\"],[0.8888888888888888,\"#fdca26\"],[1.0,\"#f0f921\"]],\"diverging\":[[0,\"#8e0152\"],[0.1,\"#c51b7d\"],[0.2,\"#de77ae\"],[0.3,\"#f1b6da\"],[0.4,\"#fde0ef\"],[0.5,\"#f7f7f7\"],[0.6,\"#e6f5d0\"],[0.7,\"#b8e186\"],[0.8,\"#7fbc41\"],[0.9,\"#4d9221\"],[1,\"#276419\"]]},\"xaxis\":{\"gridcolor\":\"white\",\"linecolor\":\"white\",\"ticks\":\"\",\"title\":{\"standoff\":15},\"zerolinecolor\":\"white\",\"automargin\":true,\"zerolinewidth\":2},\"yaxis\":{\"gridcolor\":\"white\",\"linecolor\":\"white\",\"ticks\":\"\",\"title\":{\"standoff\":15},\"zerolinecolor\":\"white\",\"automargin\":true,\"zerolinewidth\":2},\"scene\":{\"xaxis\":{\"backgroundcolor\":\"#E5ECF6\",\"gridcolor\":\"white\",\"linecolor\":\"white\",\"showbackground\":true,\"ticks\":\"\",\"zerolinecolor\":\"white\",\"gridwidth\":2},\"yaxis\":{\"backgroundcolor\":\"#E5ECF6\",\"gridcolor\":\"white\",\"linecolor\":\"white\",\"showbackground\":true,\"ticks\":\"\",\"zerolinecolor\":\"white\",\"gridwidth\":2},\"zaxis\":{\"backgroundcolor\":\"#E5ECF6\",\"gridcolor\":\"white\",\"linecolor\":\"white\",\"showbackground\":true,\"ticks\":\"\",\"zerolinecolor\":\"white\",\"gridwidth\":2}},\"shapedefaults\":{\"line\":{\"color\":\"#2a3f5f\"}},\"annotationdefaults\":{\"arrowcolor\":\"#2a3f5f\",\"arrowhead\":0,\"arrowwidth\":1},\"geo\":{\"bgcolor\":\"white\",\"landcolor\":\"#E5ECF6\",\"subunitcolor\":\"white\",\"showland\":true,\"showlakes\":true,\"lakecolor\":\"white\"},\"title\":{\"x\":0.05},\"mapbox\":{\"style\":\"light\"}}},\"xaxis\":{\"anchor\":\"y\",\"domain\":[0.0,1.0],\"title\":{\"text\":\"price\"}},\"yaxis\":{\"anchor\":\"x\",\"domain\":[0.0,1.0],\"title\":{\"text\":\"count\"}},\"legend\":{\"tracegroupgap\":0},\"margin\":{\"t\":60},\"barmode\":\"relative\"},                        {\"responsive\": true}                    ).then(function(){\n",
       "                            \n",
       "var gd = document.getElementById('feb89cde-cebe-4f6d-93ea-a206f890a94c');\n",
       "var x = new MutationObserver(function (mutations, observer) {{\n",
       "        var display = window.getComputedStyle(gd).display;\n",
       "        if (!display || display === 'none') {{\n",
       "            console.log([gd, 'removed!']);\n",
       "            Plotly.purge(gd);\n",
       "            observer.disconnect();\n",
       "        }}\n",
       "}});\n",
       "\n",
       "// Listen for the removal of the full notebook cells\n",
       "var notebookContainer = gd.closest('#notebook-container');\n",
       "if (notebookContainer) {{\n",
       "    x.observe(notebookContainer, {childList: true});\n",
       "}}\n",
       "\n",
       "// Listen for the clearing of the current output cell\n",
       "var outputEl = gd.closest('.output');\n",
       "if (outputEl) {{\n",
       "    x.observe(outputEl, {childList: true});\n",
       "}}\n",
       "\n",
       "                        })                };                });            </script>        </div>"
      ]
     },
     "metadata": {},
     "output_type": "display_data"
    }
   ],
   "source": [
    "px.histogram(laptops_train, x=\"price\")"
   ]
  },
  {
   "cell_type": "code",
   "execution_count": 233,
   "id": "168044ab-d3fd-4109-b4f8-ff8421c808d2",
   "metadata": {},
   "outputs": [
    {
     "data": {
      "application/vnd.plotly.v1+json": {
       "config": {
        "plotlyServerURL": "https://plot.ly"
       },
       "data": [
        {
         "alignmentgroup": "True",
         "bingroup": "x",
         "hovertemplate": "price=%{x}<br>count=%{y}<extra></extra>",
         "legendgroup": "",
         "marker": {
          "color": "#636efa",
          "pattern": {
           "shape": ""
          }
         },
         "name": "",
         "offsetgroup": "",
         "orientation": "v",
         "showlegend": false,
         "type": "histogram",
         "x": [
          626,
          1892,
          1405,
          1293,
          594,
          702,
          990,
          648,
          872,
          1286,
          810,
          1210,
          2064,
          539,
          292,
          1459,
          962,
          1244,
          1459,
          411,
          1946,
          2260,
          1363,
          1286,
          591,
          842,
          1293,
          1190,
          1303,
          1568,
          1135,
          740,
          1026,
          1665,
          1720,
          2042,
          865,
          1309,
          833,
          3211,
          1612,
          2412,
          861,
          1720,
          1243,
          1282,
          1132,
          1687,
          1286,
          1147,
          1757,
          1168,
          1052,
          442,
          1289,
          1293,
          1329,
          1459,
          802,
          1866,
          1150,
          1093,
          916,
          228,
          1542,
          1135,
          1082,
          2276,
          1589,
          1672,
          2478,
          311,
          2835,
          1059,
          1183,
          1059,
          2439,
          763,
          539,
          485,
          1405,
          1968,
          1157,
          1079,
          604,
          1071,
          2087,
          1577,
          4301,
          863,
          1438,
          1406,
          521,
          1297,
          1297,
          1179,
          1854,
          713,
          1057,
          2704,
          584,
          1017,
          1513,
          3506,
          699,
          2217,
          811,
          1115,
          1617,
          1297,
          665,
          418,
          425,
          374,
          1730,
          885,
          1730,
          864,
          691,
          1730,
          541,
          2487,
          1228,
          1262,
          226,
          3137,
          1297,
          1529,
          1635,
          938,
          430,
          1449,
          1838,
          832,
          464,
          2130,
          594,
          1492,
          2975,
          1113,
          2408,
          1420,
          212,
          1828,
          1637,
          566,
          470,
          1806,
          518,
          2050,
          1070,
          1221,
          680,
          2218,
          300,
          813,
          666,
          1189,
          4273,
          848,
          2596,
          2350,
          2640,
          1236,
          1762,
          2412,
          1946,
          2055,
          2485,
          1092,
          1708,
          2531,
          366,
          321,
          648,
          1297,
          2435,
          518,
          1615,
          2487,
          853,
          2208,
          1622,
          1914,
          972,
          496,
          516,
          1621,
          1504,
          506,
          269,
          907,
          734,
          1254,
          399,
          430,
          767,
          832,
          892,
          1412,
          2330,
          703,
          1771,
          899,
          968,
          360,
          864,
          983,
          1275,
          747,
          1189,
          2812,
          886,
          713,
          524,
          1258,
          1297,
          1436,
          398,
          2326,
          294,
          2217,
          539,
          680,
          1390,
          2900,
          1265,
          962,
          626,
          323,
          680,
          2650,
          1384,
          1892,
          2109,
          1081,
          2109,
          188,
          647,
          583,
          1376,
          1243,
          1654,
          1597,
          572,
          1854,
          550,
          334,
          1598,
          564,
          1113,
          1243,
          1785,
          3786,
          507,
          1729,
          1037,
          517,
          2378,
          797,
          1265,
          1622,
          646,
          1385,
          391,
          1946,
          1190,
          1731,
          946,
          2516,
          620,
          1961,
          350,
          431,
          615,
          1160,
          480,
          366,
          2056,
          530,
          968,
          1329,
          901,
          788,
          496,
          312,
          410,
          972,
          595,
          872,
          226,
          779,
          690,
          1622,
          247,
          826,
          399,
          788,
          496,
          312,
          410,
          972,
          595,
          872,
          226,
          779,
          690,
          1622,
          247,
          826,
          399,
          788,
          496,
          312,
          410,
          972,
          595,
          872,
          226,
          779,
          690,
          1622,
          247,
          826,
          399
         ],
         "xaxis": "x",
         "yaxis": "y"
        }
       ],
       "layout": {
        "autosize": true,
        "barmode": "relative",
        "legend": {
         "tracegroupgap": 0
        },
        "margin": {
         "t": 60
        },
        "template": {
         "data": {
          "bar": [
           {
            "error_x": {
             "color": "#2a3f5f"
            },
            "error_y": {
             "color": "#2a3f5f"
            },
            "marker": {
             "line": {
              "color": "#E5ECF6",
              "width": 0.5
             },
             "pattern": {
              "fillmode": "overlay",
              "size": 10,
              "solidity": 0.2
             }
            },
            "type": "bar"
           }
          ],
          "barpolar": [
           {
            "marker": {
             "line": {
              "color": "#E5ECF6",
              "width": 0.5
             },
             "pattern": {
              "fillmode": "overlay",
              "size": 10,
              "solidity": 0.2
             }
            },
            "type": "barpolar"
           }
          ],
          "carpet": [
           {
            "aaxis": {
             "endlinecolor": "#2a3f5f",
             "gridcolor": "white",
             "linecolor": "white",
             "minorgridcolor": "white",
             "startlinecolor": "#2a3f5f"
            },
            "baxis": {
             "endlinecolor": "#2a3f5f",
             "gridcolor": "white",
             "linecolor": "white",
             "minorgridcolor": "white",
             "startlinecolor": "#2a3f5f"
            },
            "type": "carpet"
           }
          ],
          "choropleth": [
           {
            "colorbar": {
             "outlinewidth": 0,
             "ticks": ""
            },
            "type": "choropleth"
           }
          ],
          "contour": [
           {
            "colorbar": {
             "outlinewidth": 0,
             "ticks": ""
            },
            "colorscale": [
             [
              0,
              "#0d0887"
             ],
             [
              0.1111111111111111,
              "#46039f"
             ],
             [
              0.2222222222222222,
              "#7201a8"
             ],
             [
              0.3333333333333333,
              "#9c179e"
             ],
             [
              0.4444444444444444,
              "#bd3786"
             ],
             [
              0.5555555555555556,
              "#d8576b"
             ],
             [
              0.6666666666666666,
              "#ed7953"
             ],
             [
              0.7777777777777778,
              "#fb9f3a"
             ],
             [
              0.8888888888888888,
              "#fdca26"
             ],
             [
              1,
              "#f0f921"
             ]
            ],
            "type": "contour"
           }
          ],
          "contourcarpet": [
           {
            "colorbar": {
             "outlinewidth": 0,
             "ticks": ""
            },
            "type": "contourcarpet"
           }
          ],
          "heatmap": [
           {
            "colorbar": {
             "outlinewidth": 0,
             "ticks": ""
            },
            "colorscale": [
             [
              0,
              "#0d0887"
             ],
             [
              0.1111111111111111,
              "#46039f"
             ],
             [
              0.2222222222222222,
              "#7201a8"
             ],
             [
              0.3333333333333333,
              "#9c179e"
             ],
             [
              0.4444444444444444,
              "#bd3786"
             ],
             [
              0.5555555555555556,
              "#d8576b"
             ],
             [
              0.6666666666666666,
              "#ed7953"
             ],
             [
              0.7777777777777778,
              "#fb9f3a"
             ],
             [
              0.8888888888888888,
              "#fdca26"
             ],
             [
              1,
              "#f0f921"
             ]
            ],
            "type": "heatmap"
           }
          ],
          "heatmapgl": [
           {
            "colorbar": {
             "outlinewidth": 0,
             "ticks": ""
            },
            "colorscale": [
             [
              0,
              "#0d0887"
             ],
             [
              0.1111111111111111,
              "#46039f"
             ],
             [
              0.2222222222222222,
              "#7201a8"
             ],
             [
              0.3333333333333333,
              "#9c179e"
             ],
             [
              0.4444444444444444,
              "#bd3786"
             ],
             [
              0.5555555555555556,
              "#d8576b"
             ],
             [
              0.6666666666666666,
              "#ed7953"
             ],
             [
              0.7777777777777778,
              "#fb9f3a"
             ],
             [
              0.8888888888888888,
              "#fdca26"
             ],
             [
              1,
              "#f0f921"
             ]
            ],
            "type": "heatmapgl"
           }
          ],
          "histogram": [
           {
            "marker": {
             "pattern": {
              "fillmode": "overlay",
              "size": 10,
              "solidity": 0.2
             }
            },
            "type": "histogram"
           }
          ],
          "histogram2d": [
           {
            "colorbar": {
             "outlinewidth": 0,
             "ticks": ""
            },
            "colorscale": [
             [
              0,
              "#0d0887"
             ],
             [
              0.1111111111111111,
              "#46039f"
             ],
             [
              0.2222222222222222,
              "#7201a8"
             ],
             [
              0.3333333333333333,
              "#9c179e"
             ],
             [
              0.4444444444444444,
              "#bd3786"
             ],
             [
              0.5555555555555556,
              "#d8576b"
             ],
             [
              0.6666666666666666,
              "#ed7953"
             ],
             [
              0.7777777777777778,
              "#fb9f3a"
             ],
             [
              0.8888888888888888,
              "#fdca26"
             ],
             [
              1,
              "#f0f921"
             ]
            ],
            "type": "histogram2d"
           }
          ],
          "histogram2dcontour": [
           {
            "colorbar": {
             "outlinewidth": 0,
             "ticks": ""
            },
            "colorscale": [
             [
              0,
              "#0d0887"
             ],
             [
              0.1111111111111111,
              "#46039f"
             ],
             [
              0.2222222222222222,
              "#7201a8"
             ],
             [
              0.3333333333333333,
              "#9c179e"
             ],
             [
              0.4444444444444444,
              "#bd3786"
             ],
             [
              0.5555555555555556,
              "#d8576b"
             ],
             [
              0.6666666666666666,
              "#ed7953"
             ],
             [
              0.7777777777777778,
              "#fb9f3a"
             ],
             [
              0.8888888888888888,
              "#fdca26"
             ],
             [
              1,
              "#f0f921"
             ]
            ],
            "type": "histogram2dcontour"
           }
          ],
          "mesh3d": [
           {
            "colorbar": {
             "outlinewidth": 0,
             "ticks": ""
            },
            "type": "mesh3d"
           }
          ],
          "parcoords": [
           {
            "line": {
             "colorbar": {
              "outlinewidth": 0,
              "ticks": ""
             }
            },
            "type": "parcoords"
           }
          ],
          "pie": [
           {
            "automargin": true,
            "type": "pie"
           }
          ],
          "scatter": [
           {
            "fillpattern": {
             "fillmode": "overlay",
             "size": 10,
             "solidity": 0.2
            },
            "type": "scatter"
           }
          ],
          "scatter3d": [
           {
            "line": {
             "colorbar": {
              "outlinewidth": 0,
              "ticks": ""
             }
            },
            "marker": {
             "colorbar": {
              "outlinewidth": 0,
              "ticks": ""
             }
            },
            "type": "scatter3d"
           }
          ],
          "scattercarpet": [
           {
            "marker": {
             "colorbar": {
              "outlinewidth": 0,
              "ticks": ""
             }
            },
            "type": "scattercarpet"
           }
          ],
          "scattergeo": [
           {
            "marker": {
             "colorbar": {
              "outlinewidth": 0,
              "ticks": ""
             }
            },
            "type": "scattergeo"
           }
          ],
          "scattergl": [
           {
            "marker": {
             "colorbar": {
              "outlinewidth": 0,
              "ticks": ""
             }
            },
            "type": "scattergl"
           }
          ],
          "scattermapbox": [
           {
            "marker": {
             "colorbar": {
              "outlinewidth": 0,
              "ticks": ""
             }
            },
            "type": "scattermapbox"
           }
          ],
          "scatterpolar": [
           {
            "marker": {
             "colorbar": {
              "outlinewidth": 0,
              "ticks": ""
             }
            },
            "type": "scatterpolar"
           }
          ],
          "scatterpolargl": [
           {
            "marker": {
             "colorbar": {
              "outlinewidth": 0,
              "ticks": ""
             }
            },
            "type": "scatterpolargl"
           }
          ],
          "scatterternary": [
           {
            "marker": {
             "colorbar": {
              "outlinewidth": 0,
              "ticks": ""
             }
            },
            "type": "scatterternary"
           }
          ],
          "surface": [
           {
            "colorbar": {
             "outlinewidth": 0,
             "ticks": ""
            },
            "colorscale": [
             [
              0,
              "#0d0887"
             ],
             [
              0.1111111111111111,
              "#46039f"
             ],
             [
              0.2222222222222222,
              "#7201a8"
             ],
             [
              0.3333333333333333,
              "#9c179e"
             ],
             [
              0.4444444444444444,
              "#bd3786"
             ],
             [
              0.5555555555555556,
              "#d8576b"
             ],
             [
              0.6666666666666666,
              "#ed7953"
             ],
             [
              0.7777777777777778,
              "#fb9f3a"
             ],
             [
              0.8888888888888888,
              "#fdca26"
             ],
             [
              1,
              "#f0f921"
             ]
            ],
            "type": "surface"
           }
          ],
          "table": [
           {
            "cells": {
             "fill": {
              "color": "#EBF0F8"
             },
             "line": {
              "color": "white"
             }
            },
            "header": {
             "fill": {
              "color": "#C8D4E3"
             },
             "line": {
              "color": "white"
             }
            },
            "type": "table"
           }
          ]
         },
         "layout": {
          "annotationdefaults": {
           "arrowcolor": "#2a3f5f",
           "arrowhead": 0,
           "arrowwidth": 1
          },
          "autotypenumbers": "strict",
          "coloraxis": {
           "colorbar": {
            "outlinewidth": 0,
            "ticks": ""
           }
          },
          "colorscale": {
           "diverging": [
            [
             0,
             "#8e0152"
            ],
            [
             0.1,
             "#c51b7d"
            ],
            [
             0.2,
             "#de77ae"
            ],
            [
             0.3,
             "#f1b6da"
            ],
            [
             0.4,
             "#fde0ef"
            ],
            [
             0.5,
             "#f7f7f7"
            ],
            [
             0.6,
             "#e6f5d0"
            ],
            [
             0.7,
             "#b8e186"
            ],
            [
             0.8,
             "#7fbc41"
            ],
            [
             0.9,
             "#4d9221"
            ],
            [
             1,
             "#276419"
            ]
           ],
           "sequential": [
            [
             0,
             "#0d0887"
            ],
            [
             0.1111111111111111,
             "#46039f"
            ],
            [
             0.2222222222222222,
             "#7201a8"
            ],
            [
             0.3333333333333333,
             "#9c179e"
            ],
            [
             0.4444444444444444,
             "#bd3786"
            ],
            [
             0.5555555555555556,
             "#d8576b"
            ],
            [
             0.6666666666666666,
             "#ed7953"
            ],
            [
             0.7777777777777778,
             "#fb9f3a"
            ],
            [
             0.8888888888888888,
             "#fdca26"
            ],
            [
             1,
             "#f0f921"
            ]
           ],
           "sequentialminus": [
            [
             0,
             "#0d0887"
            ],
            [
             0.1111111111111111,
             "#46039f"
            ],
            [
             0.2222222222222222,
             "#7201a8"
            ],
            [
             0.3333333333333333,
             "#9c179e"
            ],
            [
             0.4444444444444444,
             "#bd3786"
            ],
            [
             0.5555555555555556,
             "#d8576b"
            ],
            [
             0.6666666666666666,
             "#ed7953"
            ],
            [
             0.7777777777777778,
             "#fb9f3a"
            ],
            [
             0.8888888888888888,
             "#fdca26"
            ],
            [
             1,
             "#f0f921"
            ]
           ]
          },
          "colorway": [
           "#636efa",
           "#EF553B",
           "#00cc96",
           "#ab63fa",
           "#FFA15A",
           "#19d3f3",
           "#FF6692",
           "#B6E880",
           "#FF97FF",
           "#FECB52"
          ],
          "font": {
           "color": "#2a3f5f"
          },
          "geo": {
           "bgcolor": "white",
           "lakecolor": "white",
           "landcolor": "#E5ECF6",
           "showlakes": true,
           "showland": true,
           "subunitcolor": "white"
          },
          "hoverlabel": {
           "align": "left"
          },
          "hovermode": "closest",
          "mapbox": {
           "style": "light"
          },
          "paper_bgcolor": "white",
          "plot_bgcolor": "#E5ECF6",
          "polar": {
           "angularaxis": {
            "gridcolor": "white",
            "linecolor": "white",
            "ticks": ""
           },
           "bgcolor": "#E5ECF6",
           "radialaxis": {
            "gridcolor": "white",
            "linecolor": "white",
            "ticks": ""
           }
          },
          "scene": {
           "xaxis": {
            "backgroundcolor": "#E5ECF6",
            "gridcolor": "white",
            "gridwidth": 2,
            "linecolor": "white",
            "showbackground": true,
            "ticks": "",
            "zerolinecolor": "white"
           },
           "yaxis": {
            "backgroundcolor": "#E5ECF6",
            "gridcolor": "white",
            "gridwidth": 2,
            "linecolor": "white",
            "showbackground": true,
            "ticks": "",
            "zerolinecolor": "white"
           },
           "zaxis": {
            "backgroundcolor": "#E5ECF6",
            "gridcolor": "white",
            "gridwidth": 2,
            "linecolor": "white",
            "showbackground": true,
            "ticks": "",
            "zerolinecolor": "white"
           }
          },
          "shapedefaults": {
           "line": {
            "color": "#2a3f5f"
           }
          },
          "ternary": {
           "aaxis": {
            "gridcolor": "white",
            "linecolor": "white",
            "ticks": ""
           },
           "baxis": {
            "gridcolor": "white",
            "linecolor": "white",
            "ticks": ""
           },
           "bgcolor": "#E5ECF6",
           "caxis": {
            "gridcolor": "white",
            "linecolor": "white",
            "ticks": ""
           }
          },
          "title": {
           "x": 0.05
          },
          "xaxis": {
           "automargin": true,
           "gridcolor": "white",
           "linecolor": "white",
           "ticks": "",
           "title": {
            "standoff": 15
           },
           "zerolinecolor": "white",
           "zerolinewidth": 2
          },
          "yaxis": {
           "automargin": true,
           "gridcolor": "white",
           "linecolor": "white",
           "ticks": "",
           "title": {
            "standoff": 15
           },
           "zerolinecolor": "white",
           "zerolinewidth": 2
          }
         }
        },
        "xaxis": {
         "anchor": "y",
         "autorange": true,
         "domain": [
          0,
          1
         ],
         "range": [
          -0.5,
          4399.5
         ],
         "title": {
          "text": "price"
         },
         "type": "linear"
        },
        "yaxis": {
         "anchor": "x",
         "autorange": true,
         "domain": [
          0,
          1
         ],
         "range": [
          0,
          45.26315789473684
         ],
         "title": {
          "text": "count"
         }
        }
       }
      },
      "text/html": [
       "<div>                            <div id=\"edb750e8-ba57-43b6-9be8-9f0077777989\" class=\"plotly-graph-div\" style=\"height:525px; width:100%;\"></div>            <script type=\"text/javascript\">                require([\"plotly\"], function(Plotly) {                    window.PLOTLYENV=window.PLOTLYENV || {};                                    if (document.getElementById(\"edb750e8-ba57-43b6-9be8-9f0077777989\")) {                    Plotly.newPlot(                        \"edb750e8-ba57-43b6-9be8-9f0077777989\",                        [{\"alignmentgroup\":\"True\",\"bingroup\":\"x\",\"hovertemplate\":\"price=%{x}\\u003cbr\\u003ecount=%{y}\\u003cextra\\u003e\\u003c\\u002fextra\\u003e\",\"legendgroup\":\"\",\"marker\":{\"color\":\"#636efa\",\"pattern\":{\"shape\":\"\"}},\"name\":\"\",\"offsetgroup\":\"\",\"orientation\":\"v\",\"showlegend\":false,\"x\":[626,1892,1405,1293,594,702,990,648,872,1286,810,1210,2064,539,292,1459,962,1244,1459,411,1946,2260,1363,1286,591,842,1293,1190,1303,1568,1135,740,1026,1665,1720,2042,865,1309,833,3211,1612,2412,861,1720,1243,1282,1132,1687,1286,1147,1757,1168,1052,442,1289,1293,1329,1459,802,1866,1150,1093,916,228,1542,1135,1082,2276,1589,1672,2478,311,2835,1059,1183,1059,2439,763,539,485,1405,1968,1157,1079,604,1071,2087,1577,4301,863,1438,1406,521,1297,1297,1179,1854,713,1057,2704,584,1017,1513,3506,699,2217,811,1115,1617,1297,665,418,425,374,1730,885,1730,864,691,1730,541,2487,1228,1262,226,3137,1297,1529,1635,938,430,1449,1838,832,464,2130,594,1492,2975,1113,2408,1420,212,1828,1637,566,470,1806,518,2050,1070,1221,680,2218,300,813,666,1189,4273,848,2596,2350,2640,1236,1762,2412,1946,2055,2485,1092,1708,2531,366,321,648,1297,2435,518,1615,2487,853,2208,1622,1914,972,496,516,1621,1504,506,269,907,734,1254,399,430,767,832,892,1412,2330,703,1771,899,968,360,864,983,1275,747,1189,2812,886,713,524,1258,1297,1436,398,2326,294,2217,539,680,1390,2900,1265,962,626,323,680,2650,1384,1892,2109,1081,2109,188,647,583,1376,1243,1654,1597,572,1854,550,334,1598,564,1113,1243,1785,3786,507,1729,1037,517,2378,797,1265,1622,646,1385,391,1946,1190,1731,946,2516,620,1961,350,431,615,1160,480,366,2056,530,968,1329,901,788,496,312,410,972,595,872,226,779,690,1622,247,826,399,788,496,312,410,972,595,872,226,779,690,1622,247,826,399,788,496,312,410,972,595,872,226,779,690,1622,247,826,399],\"xaxis\":\"x\",\"yaxis\":\"y\",\"type\":\"histogram\"}],                        {\"template\":{\"data\":{\"histogram2dcontour\":[{\"type\":\"histogram2dcontour\",\"colorbar\":{\"outlinewidth\":0,\"ticks\":\"\"},\"colorscale\":[[0.0,\"#0d0887\"],[0.1111111111111111,\"#46039f\"],[0.2222222222222222,\"#7201a8\"],[0.3333333333333333,\"#9c179e\"],[0.4444444444444444,\"#bd3786\"],[0.5555555555555556,\"#d8576b\"],[0.6666666666666666,\"#ed7953\"],[0.7777777777777778,\"#fb9f3a\"],[0.8888888888888888,\"#fdca26\"],[1.0,\"#f0f921\"]]}],\"choropleth\":[{\"type\":\"choropleth\",\"colorbar\":{\"outlinewidth\":0,\"ticks\":\"\"}}],\"histogram2d\":[{\"type\":\"histogram2d\",\"colorbar\":{\"outlinewidth\":0,\"ticks\":\"\"},\"colorscale\":[[0.0,\"#0d0887\"],[0.1111111111111111,\"#46039f\"],[0.2222222222222222,\"#7201a8\"],[0.3333333333333333,\"#9c179e\"],[0.4444444444444444,\"#bd3786\"],[0.5555555555555556,\"#d8576b\"],[0.6666666666666666,\"#ed7953\"],[0.7777777777777778,\"#fb9f3a\"],[0.8888888888888888,\"#fdca26\"],[1.0,\"#f0f921\"]]}],\"heatmap\":[{\"type\":\"heatmap\",\"colorbar\":{\"outlinewidth\":0,\"ticks\":\"\"},\"colorscale\":[[0.0,\"#0d0887\"],[0.1111111111111111,\"#46039f\"],[0.2222222222222222,\"#7201a8\"],[0.3333333333333333,\"#9c179e\"],[0.4444444444444444,\"#bd3786\"],[0.5555555555555556,\"#d8576b\"],[0.6666666666666666,\"#ed7953\"],[0.7777777777777778,\"#fb9f3a\"],[0.8888888888888888,\"#fdca26\"],[1.0,\"#f0f921\"]]}],\"heatmapgl\":[{\"type\":\"heatmapgl\",\"colorbar\":{\"outlinewidth\":0,\"ticks\":\"\"},\"colorscale\":[[0.0,\"#0d0887\"],[0.1111111111111111,\"#46039f\"],[0.2222222222222222,\"#7201a8\"],[0.3333333333333333,\"#9c179e\"],[0.4444444444444444,\"#bd3786\"],[0.5555555555555556,\"#d8576b\"],[0.6666666666666666,\"#ed7953\"],[0.7777777777777778,\"#fb9f3a\"],[0.8888888888888888,\"#fdca26\"],[1.0,\"#f0f921\"]]}],\"contourcarpet\":[{\"type\":\"contourcarpet\",\"colorbar\":{\"outlinewidth\":0,\"ticks\":\"\"}}],\"contour\":[{\"type\":\"contour\",\"colorbar\":{\"outlinewidth\":0,\"ticks\":\"\"},\"colorscale\":[[0.0,\"#0d0887\"],[0.1111111111111111,\"#46039f\"],[0.2222222222222222,\"#7201a8\"],[0.3333333333333333,\"#9c179e\"],[0.4444444444444444,\"#bd3786\"],[0.5555555555555556,\"#d8576b\"],[0.6666666666666666,\"#ed7953\"],[0.7777777777777778,\"#fb9f3a\"],[0.8888888888888888,\"#fdca26\"],[1.0,\"#f0f921\"]]}],\"surface\":[{\"type\":\"surface\",\"colorbar\":{\"outlinewidth\":0,\"ticks\":\"\"},\"colorscale\":[[0.0,\"#0d0887\"],[0.1111111111111111,\"#46039f\"],[0.2222222222222222,\"#7201a8\"],[0.3333333333333333,\"#9c179e\"],[0.4444444444444444,\"#bd3786\"],[0.5555555555555556,\"#d8576b\"],[0.6666666666666666,\"#ed7953\"],[0.7777777777777778,\"#fb9f3a\"],[0.8888888888888888,\"#fdca26\"],[1.0,\"#f0f921\"]]}],\"mesh3d\":[{\"type\":\"mesh3d\",\"colorbar\":{\"outlinewidth\":0,\"ticks\":\"\"}}],\"scatter\":[{\"fillpattern\":{\"fillmode\":\"overlay\",\"size\":10,\"solidity\":0.2},\"type\":\"scatter\"}],\"parcoords\":[{\"type\":\"parcoords\",\"line\":{\"colorbar\":{\"outlinewidth\":0,\"ticks\":\"\"}}}],\"scatterpolargl\":[{\"type\":\"scatterpolargl\",\"marker\":{\"colorbar\":{\"outlinewidth\":0,\"ticks\":\"\"}}}],\"bar\":[{\"error_x\":{\"color\":\"#2a3f5f\"},\"error_y\":{\"color\":\"#2a3f5f\"},\"marker\":{\"line\":{\"color\":\"#E5ECF6\",\"width\":0.5},\"pattern\":{\"fillmode\":\"overlay\",\"size\":10,\"solidity\":0.2}},\"type\":\"bar\"}],\"scattergeo\":[{\"type\":\"scattergeo\",\"marker\":{\"colorbar\":{\"outlinewidth\":0,\"ticks\":\"\"}}}],\"scatterpolar\":[{\"type\":\"scatterpolar\",\"marker\":{\"colorbar\":{\"outlinewidth\":0,\"ticks\":\"\"}}}],\"histogram\":[{\"marker\":{\"pattern\":{\"fillmode\":\"overlay\",\"size\":10,\"solidity\":0.2}},\"type\":\"histogram\"}],\"scattergl\":[{\"type\":\"scattergl\",\"marker\":{\"colorbar\":{\"outlinewidth\":0,\"ticks\":\"\"}}}],\"scatter3d\":[{\"type\":\"scatter3d\",\"line\":{\"colorbar\":{\"outlinewidth\":0,\"ticks\":\"\"}},\"marker\":{\"colorbar\":{\"outlinewidth\":0,\"ticks\":\"\"}}}],\"scattermapbox\":[{\"type\":\"scattermapbox\",\"marker\":{\"colorbar\":{\"outlinewidth\":0,\"ticks\":\"\"}}}],\"scatterternary\":[{\"type\":\"scatterternary\",\"marker\":{\"colorbar\":{\"outlinewidth\":0,\"ticks\":\"\"}}}],\"scattercarpet\":[{\"type\":\"scattercarpet\",\"marker\":{\"colorbar\":{\"outlinewidth\":0,\"ticks\":\"\"}}}],\"carpet\":[{\"aaxis\":{\"endlinecolor\":\"#2a3f5f\",\"gridcolor\":\"white\",\"linecolor\":\"white\",\"minorgridcolor\":\"white\",\"startlinecolor\":\"#2a3f5f\"},\"baxis\":{\"endlinecolor\":\"#2a3f5f\",\"gridcolor\":\"white\",\"linecolor\":\"white\",\"minorgridcolor\":\"white\",\"startlinecolor\":\"#2a3f5f\"},\"type\":\"carpet\"}],\"table\":[{\"cells\":{\"fill\":{\"color\":\"#EBF0F8\"},\"line\":{\"color\":\"white\"}},\"header\":{\"fill\":{\"color\":\"#C8D4E3\"},\"line\":{\"color\":\"white\"}},\"type\":\"table\"}],\"barpolar\":[{\"marker\":{\"line\":{\"color\":\"#E5ECF6\",\"width\":0.5},\"pattern\":{\"fillmode\":\"overlay\",\"size\":10,\"solidity\":0.2}},\"type\":\"barpolar\"}],\"pie\":[{\"automargin\":true,\"type\":\"pie\"}]},\"layout\":{\"autotypenumbers\":\"strict\",\"colorway\":[\"#636efa\",\"#EF553B\",\"#00cc96\",\"#ab63fa\",\"#FFA15A\",\"#19d3f3\",\"#FF6692\",\"#B6E880\",\"#FF97FF\",\"#FECB52\"],\"font\":{\"color\":\"#2a3f5f\"},\"hovermode\":\"closest\",\"hoverlabel\":{\"align\":\"left\"},\"paper_bgcolor\":\"white\",\"plot_bgcolor\":\"#E5ECF6\",\"polar\":{\"bgcolor\":\"#E5ECF6\",\"angularaxis\":{\"gridcolor\":\"white\",\"linecolor\":\"white\",\"ticks\":\"\"},\"radialaxis\":{\"gridcolor\":\"white\",\"linecolor\":\"white\",\"ticks\":\"\"}},\"ternary\":{\"bgcolor\":\"#E5ECF6\",\"aaxis\":{\"gridcolor\":\"white\",\"linecolor\":\"white\",\"ticks\":\"\"},\"baxis\":{\"gridcolor\":\"white\",\"linecolor\":\"white\",\"ticks\":\"\"},\"caxis\":{\"gridcolor\":\"white\",\"linecolor\":\"white\",\"ticks\":\"\"}},\"coloraxis\":{\"colorbar\":{\"outlinewidth\":0,\"ticks\":\"\"}},\"colorscale\":{\"sequential\":[[0.0,\"#0d0887\"],[0.1111111111111111,\"#46039f\"],[0.2222222222222222,\"#7201a8\"],[0.3333333333333333,\"#9c179e\"],[0.4444444444444444,\"#bd3786\"],[0.5555555555555556,\"#d8576b\"],[0.6666666666666666,\"#ed7953\"],[0.7777777777777778,\"#fb9f3a\"],[0.8888888888888888,\"#fdca26\"],[1.0,\"#f0f921\"]],\"sequentialminus\":[[0.0,\"#0d0887\"],[0.1111111111111111,\"#46039f\"],[0.2222222222222222,\"#7201a8\"],[0.3333333333333333,\"#9c179e\"],[0.4444444444444444,\"#bd3786\"],[0.5555555555555556,\"#d8576b\"],[0.6666666666666666,\"#ed7953\"],[0.7777777777777778,\"#fb9f3a\"],[0.8888888888888888,\"#fdca26\"],[1.0,\"#f0f921\"]],\"diverging\":[[0,\"#8e0152\"],[0.1,\"#c51b7d\"],[0.2,\"#de77ae\"],[0.3,\"#f1b6da\"],[0.4,\"#fde0ef\"],[0.5,\"#f7f7f7\"],[0.6,\"#e6f5d0\"],[0.7,\"#b8e186\"],[0.8,\"#7fbc41\"],[0.9,\"#4d9221\"],[1,\"#276419\"]]},\"xaxis\":{\"gridcolor\":\"white\",\"linecolor\":\"white\",\"ticks\":\"\",\"title\":{\"standoff\":15},\"zerolinecolor\":\"white\",\"automargin\":true,\"zerolinewidth\":2},\"yaxis\":{\"gridcolor\":\"white\",\"linecolor\":\"white\",\"ticks\":\"\",\"title\":{\"standoff\":15},\"zerolinecolor\":\"white\",\"automargin\":true,\"zerolinewidth\":2},\"scene\":{\"xaxis\":{\"backgroundcolor\":\"#E5ECF6\",\"gridcolor\":\"white\",\"linecolor\":\"white\",\"showbackground\":true,\"ticks\":\"\",\"zerolinecolor\":\"white\",\"gridwidth\":2},\"yaxis\":{\"backgroundcolor\":\"#E5ECF6\",\"gridcolor\":\"white\",\"linecolor\":\"white\",\"showbackground\":true,\"ticks\":\"\",\"zerolinecolor\":\"white\",\"gridwidth\":2},\"zaxis\":{\"backgroundcolor\":\"#E5ECF6\",\"gridcolor\":\"white\",\"linecolor\":\"white\",\"showbackground\":true,\"ticks\":\"\",\"zerolinecolor\":\"white\",\"gridwidth\":2}},\"shapedefaults\":{\"line\":{\"color\":\"#2a3f5f\"}},\"annotationdefaults\":{\"arrowcolor\":\"#2a3f5f\",\"arrowhead\":0,\"arrowwidth\":1},\"geo\":{\"bgcolor\":\"white\",\"landcolor\":\"#E5ECF6\",\"subunitcolor\":\"white\",\"showland\":true,\"showlakes\":true,\"lakecolor\":\"white\"},\"title\":{\"x\":0.05},\"mapbox\":{\"style\":\"light\"}}},\"xaxis\":{\"anchor\":\"y\",\"domain\":[0.0,1.0],\"title\":{\"text\":\"price\"}},\"yaxis\":{\"anchor\":\"x\",\"domain\":[0.0,1.0],\"title\":{\"text\":\"count\"}},\"legend\":{\"tracegroupgap\":0},\"margin\":{\"t\":60},\"barmode\":\"relative\"},                        {\"responsive\": true}                    ).then(function(){\n",
       "                            \n",
       "var gd = document.getElementById('edb750e8-ba57-43b6-9be8-9f0077777989');\n",
       "var x = new MutationObserver(function (mutations, observer) {{\n",
       "        var display = window.getComputedStyle(gd).display;\n",
       "        if (!display || display === 'none') {{\n",
       "            console.log([gd, 'removed!']);\n",
       "            Plotly.purge(gd);\n",
       "            observer.disconnect();\n",
       "        }}\n",
       "}});\n",
       "\n",
       "// Listen for the removal of the full notebook cells\n",
       "var notebookContainer = gd.closest('#notebook-container');\n",
       "if (notebookContainer) {{\n",
       "    x.observe(notebookContainer, {childList: true});\n",
       "}}\n",
       "\n",
       "// Listen for the clearing of the current output cell\n",
       "var outputEl = gd.closest('.output');\n",
       "if (outputEl) {{\n",
       "    x.observe(outputEl, {childList: true});\n",
       "}}\n",
       "\n",
       "                        })                };                });            </script>        </div>"
      ]
     },
     "metadata": {},
     "output_type": "display_data"
    }
   ],
   "source": [
    "px.histogram(laptops_test, x=\"price\")"
   ]
  },
  {
   "cell_type": "code",
   "execution_count": 234,
   "id": "d1cb3cb1-fd3f-4b7b-bb75-91e1eba60f70",
   "metadata": {},
   "outputs": [
    {
     "data": {
      "application/vnd.plotly.v1+json": {
       "config": {
        "plotlyServerURL": "https://plot.ly"
       },
       "data": [
        {
         "alignmentgroup": "True",
         "hovertemplate": "price=%{x}<extra></extra>",
         "legendgroup": "",
         "marker": {
          "color": "#636efa"
         },
         "name": "",
         "notched": false,
         "offsetgroup": "",
         "orientation": "h",
         "showlegend": false,
         "type": "box",
         "x": [
          1449,
          972,
          622,
          2745,
          1951,
          432,
          2315,
          1253,
          1617,
          833,
          426,
          373,
          2640,
          539,
          1366,
          1643,
          806,
          3092,
          539,
          1059,
          207,
          1081,
          279,
          886,
          713,
          453,
          1189,
          865,
          1404,
          969,
          265,
          215,
          475,
          2022,
          1079,
          269,
          397,
          1059,
          528,
          951,
          420,
          1622,
          565,
          738,
          1081,
          1535,
          399,
          1405,
          691,
          504,
          345,
          910,
          431,
          1193,
          415,
          830,
          475,
          634,
          2650,
          449,
          1405,
          951,
          648,
          1018,
          746,
          2145,
          474,
          247,
          594,
          1026,
          1178,
          1033,
          941,
          1184,
          420,
          1026,
          561,
          925,
          573,
          1057,
          1186,
          1634,
          930,
          431,
          427,
          1459,
          756,
          648,
          1568,
          1784,
          756,
          745,
          1295,
          1293,
          1135,
          916,
          649,
          524,
          624,
          1351,
          778,
          377,
          700,
          1210,
          1450,
          713,
          448,
          1291,
          1405,
          1601,
          1365,
          1492,
          1513,
          781,
          1762,
          1513,
          1173,
          1223,
          610,
          1209,
          518,
          2425,
          680,
          1375,
          488,
          280,
          878,
          300,
          1510,
          1004,
          691,
          485,
          956,
          618,
          647,
          1069,
          273,
          1015,
          539,
          756,
          708,
          1207,
          940,
          651,
          399,
          1189,
          2179,
          372,
          2195,
          483,
          1351,
          972,
          538,
          2045,
          1170,
          669,
          680,
          1423,
          1135,
          483,
          436,
          871,
          787,
          1167,
          376,
          1946,
          393,
          1147,
          924,
          815,
          1459,
          756,
          334,
          529,
          998,
          496,
          485,
          3028,
          879,
          1622,
          1135,
          1513,
          2000,
          858,
          1297,
          1676,
          2593,
          842,
          1070,
          1174,
          3056,
          281,
          1082,
          755,
          907,
          989,
          6600,
          1037,
          1492,
          1130,
          1996,
          533,
          802,
          1892,
          3305,
          1512,
          475,
          2109,
          1568,
          646,
          842,
          1522,
          377,
          594,
          1622,
          1008,
          637,
          1115,
          1243,
          1384,
          732,
          972,
          1474,
          859,
          2658,
          900,
          929,
          832,
          964,
          1373,
          431,
          357,
          1622,
          929,
          745,
          972,
          422,
          622,
          4209,
          915,
          637,
          1239,
          962,
          951,
          1167,
          1065,
          604,
          3245,
          730,
          2207,
          886,
          1946,
          507,
          2000,
          759,
          1026,
          482,
          1146,
          2704,
          1838,
          1235,
          480,
          781,
          710,
          611,
          864,
          1622,
          505,
          1101,
          952,
          2119,
          1676,
          795,
          2704,
          878,
          771,
          1189,
          806,
          529,
          918,
          929,
          463,
          897,
          626,
          1029,
          713,
          1187,
          1057,
          1275,
          713,
          215,
          1284,
          529,
          1979,
          799,
          1405,
          1059,
          3121,
          539,
          1588,
          550,
          2296,
          702,
          594,
          1368,
          389,
          2137,
          1128,
          886,
          507,
          1081,
          2704,
          2271,
          507,
          297,
          913,
          2650,
          497,
          1060,
          524,
          1398,
          637,
          1183,
          976,
          713,
          315,
          594,
          1136,
          1444,
          2855,
          1297,
          1020,
          1443,
          485,
          1081,
          1372,
          1135,
          1237,
          297,
          1236,
          297,
          972,
          774,
          2271,
          1708,
          1221,
          301,
          1740,
          405,
          717,
          2193,
          1411,
          1524,
          1881,
          1518,
          1050,
          348,
          1081,
          603,
          1544,
          475,
          1022,
          778,
          691,
          539,
          420,
          1174,
          875,
          972,
          1893,
          1189,
          460,
          2379,
          529,
          940,
          529,
          598,
          334,
          309,
          915,
          1288,
          436,
          1790,
          1189,
          1892,
          2469,
          594,
          1481,
          2310,
          2715,
          1124,
          1721,
          751,
          1459,
          842,
          539,
          1330,
          1015,
          2934,
          2840,
          331,
          1654,
          1238,
          951,
          2433,
          2026,
          1890,
          1818,
          442,
          329,
          2083,
          2102,
          507,
          853,
          1004,
          648,
          745,
          1623,
          584,
          1315,
          2055,
          485,
          1544,
          646,
          3028,
          1254,
          1236,
          1189,
          2163,
          323,
          291,
          1092,
          648,
          2645,
          2650,
          1834,
          375,
          2379,
          2577,
          604,
          561,
          810,
          1546,
          377,
          1189,
          1275,
          478,
          2156,
          1112,
          2801,
          637,
          2137,
          1660,
          1455,
          1059,
          518,
          2214,
          1070,
          1946,
          692,
          588,
          470,
          810,
          864,
          2261,
          328,
          507,
          821,
          1838,
          2010,
          2163,
          1248,
          1379,
          1993,
          1405,
          800,
          2605,
          1476,
          730,
          1809,
          1365,
          634,
          785,
          269,
          611,
          1135,
          2530,
          2055,
          1945,
          2110,
          1095,
          3028,
          1460,
          626,
          1373,
          1189,
          972,
          1892,
          1026,
          985,
          367,
          669,
          1730,
          323,
          286,
          1026,
          1324,
          663,
          1431,
          1243,
          972,
          691,
          904,
          1319,
          1514,
          265,
          564,
          3211,
          962,
          1627,
          1513,
          1513,
          1384,
          745,
          962,
          1450,
          864,
          496,
          633,
          1490,
          3260,
          930,
          1405,
          399,
          1784,
          1481,
          862,
          431,
          1946,
          929,
          1513,
          796,
          1239,
          863,
          377,
          763,
          849,
          500,
          429,
          1871,
          539,
          1208,
          2920,
          588,
          1385,
          242,
          275,
          1026,
          615,
          668,
          377,
          681,
          2126,
          3245,
          907,
          1730,
          1037,
          799,
          372,
          1071,
          2013,
          420,
          702,
          898,
          741,
          269,
          2018,
          2881,
          2953,
          810,
          420,
          1091,
          778,
          1663,
          319,
          2541,
          1621,
          1810,
          659,
          1915,
          799,
          1026,
          652,
          1838,
          572,
          496,
          2191,
          1595,
          1807,
          1907,
          1319,
          723,
          356,
          2379,
          503,
          2487,
          1513,
          610,
          1405,
          377,
          5301,
          951,
          480,
          388,
          940,
          1263,
          615,
          1503,
          2454,
          410,
          1216,
          1585,
          839,
          864,
          1008,
          972,
          258,
          506,
          691,
          1969,
          2056,
          1600,
          897,
          626,
          431,
          981,
          2022,
          269,
          1901,
          2596,
          1200,
          563,
          2651,
          1265,
          486,
          296,
          994,
          2812,
          1312,
          1714,
          3028,
          767,
          1569,
          1289,
          394,
          1151,
          994,
          1228,
          1294,
          3405,
          1329,
          453,
          578,
          583,
          1608,
          538,
          1033,
          806,
          1361,
          445,
          2021,
          885,
          1118,
          377,
          756,
          1400,
          1228,
          535,
          2487,
          1405,
          1079,
          453,
          2219,
          756,
          1622,
          3044,
          662,
          590,
          615,
          344,
          405,
          756,
          2064,
          2802,
          1052,
          291,
          1892,
          723,
          2031,
          745,
          886,
          431,
          464,
          672,
          486,
          860,
          1081,
          2007,
          1288,
          708,
          1351,
          1178,
          785,
          322,
          1543,
          927,
          1275,
          322,
          286,
          1298,
          1825,
          905,
          1622,
          3960,
          1459,
          530,
          778,
          702,
          637,
          529,
          2093,
          702,
          703,
          604,
          1038,
          842,
          2617,
          713,
          2266,
          444,
          1306,
          719,
          1661,
          1081,
          3570,
          357,
          1784,
          583,
          1219,
          4749,
          514,
          2056,
          626,
          1186,
          919,
          1297,
          1189,
          1689,
          3104,
          648,
          1134,
          2011,
          1687,
          1221,
          918,
          708,
          508,
          1189,
          1730,
          322,
          1278,
          1946,
          1103,
          1189,
          1346,
          907,
          2564,
          688,
          3137,
          629,
          3883,
          2543,
          1908,
          356,
          2487,
          2046,
          1178,
          1081,
          2487,
          1065,
          1449,
          219,
          2131,
          1037,
          1260,
          2521,
          323,
          876,
          1459,
          799,
          2234,
          1189,
          1622,
          1892,
          805,
          1503,
          844,
          680,
          1816,
          659,
          1892,
          2613,
          1622,
          1039,
          854,
          2011,
          1946,
          416,
          2710,
          817,
          530,
          1179,
          2704,
          1297,
          2029,
          539,
          1469,
          633,
          384,
          669,
          5950,
          2271,
          561,
          1283,
          1785,
          3002,
          2617,
          723,
          351,
          638,
          1946,
          3325,
          984,
          772,
          2023,
          799,
          665,
          1110,
          2464,
          1588,
          323,
          2055,
          936,
          2059,
          851,
          1022,
          485,
          2769,
          702,
          507,
          920,
          1459,
          1390,
          1100,
          2424,
          984,
          1184,
          2110,
          976,
          1924,
          1141,
          518,
          1502,
          795,
          2000,
          1828,
          431,
          1011,
          987,
          907,
          1839,
          741,
          376,
          723,
          399,
          1946,
          493,
          1482,
          321,
          410,
          1368,
          1513,
          1838,
          1946,
          2866,
          1596,
          1005,
          973,
          664,
          1011,
          2178,
          1384,
          1784,
          2217,
          2124,
          2271,
          1604,
          388,
          853,
          2055,
          1303,
          3354,
          853,
          1102,
          539,
          953,
          1038,
          1730,
          1459,
          1211,
          741,
          1403,
          1243,
          2137,
          1974,
          789,
          1785,
          1260,
          766,
          1243,
          334,
          1708,
          312,
          1946,
          1195,
          1806,
          604,
          1297,
          1773,
          2984,
          1513,
          573,
          669,
          1210,
          1405,
          1081,
          1593,
          741,
          713,
          377,
          2433,
          1920,
          1579,
          1254,
          1611,
          3413,
          2055,
          838,
          1372,
          420,
          1661,
          1904,
          1091,
          1937,
          916,
          503,
          892,
          741,
          3407,
          752,
          2055,
          2124,
          3030,
          1276,
          2218,
          1059,
          1084
         ],
         "x0": " ",
         "xaxis": "x",
         "y0": " ",
         "yaxis": "y"
        }
       ],
       "layout": {
        "autosize": true,
        "boxmode": "group",
        "legend": {
         "tracegroupgap": 0
        },
        "margin": {
         "t": 60
        },
        "template": {
         "data": {
          "bar": [
           {
            "error_x": {
             "color": "#2a3f5f"
            },
            "error_y": {
             "color": "#2a3f5f"
            },
            "marker": {
             "line": {
              "color": "#E5ECF6",
              "width": 0.5
             },
             "pattern": {
              "fillmode": "overlay",
              "size": 10,
              "solidity": 0.2
             }
            },
            "type": "bar"
           }
          ],
          "barpolar": [
           {
            "marker": {
             "line": {
              "color": "#E5ECF6",
              "width": 0.5
             },
             "pattern": {
              "fillmode": "overlay",
              "size": 10,
              "solidity": 0.2
             }
            },
            "type": "barpolar"
           }
          ],
          "carpet": [
           {
            "aaxis": {
             "endlinecolor": "#2a3f5f",
             "gridcolor": "white",
             "linecolor": "white",
             "minorgridcolor": "white",
             "startlinecolor": "#2a3f5f"
            },
            "baxis": {
             "endlinecolor": "#2a3f5f",
             "gridcolor": "white",
             "linecolor": "white",
             "minorgridcolor": "white",
             "startlinecolor": "#2a3f5f"
            },
            "type": "carpet"
           }
          ],
          "choropleth": [
           {
            "colorbar": {
             "outlinewidth": 0,
             "ticks": ""
            },
            "type": "choropleth"
           }
          ],
          "contour": [
           {
            "colorbar": {
             "outlinewidth": 0,
             "ticks": ""
            },
            "colorscale": [
             [
              0,
              "#0d0887"
             ],
             [
              0.1111111111111111,
              "#46039f"
             ],
             [
              0.2222222222222222,
              "#7201a8"
             ],
             [
              0.3333333333333333,
              "#9c179e"
             ],
             [
              0.4444444444444444,
              "#bd3786"
             ],
             [
              0.5555555555555556,
              "#d8576b"
             ],
             [
              0.6666666666666666,
              "#ed7953"
             ],
             [
              0.7777777777777778,
              "#fb9f3a"
             ],
             [
              0.8888888888888888,
              "#fdca26"
             ],
             [
              1,
              "#f0f921"
             ]
            ],
            "type": "contour"
           }
          ],
          "contourcarpet": [
           {
            "colorbar": {
             "outlinewidth": 0,
             "ticks": ""
            },
            "type": "contourcarpet"
           }
          ],
          "heatmap": [
           {
            "colorbar": {
             "outlinewidth": 0,
             "ticks": ""
            },
            "colorscale": [
             [
              0,
              "#0d0887"
             ],
             [
              0.1111111111111111,
              "#46039f"
             ],
             [
              0.2222222222222222,
              "#7201a8"
             ],
             [
              0.3333333333333333,
              "#9c179e"
             ],
             [
              0.4444444444444444,
              "#bd3786"
             ],
             [
              0.5555555555555556,
              "#d8576b"
             ],
             [
              0.6666666666666666,
              "#ed7953"
             ],
             [
              0.7777777777777778,
              "#fb9f3a"
             ],
             [
              0.8888888888888888,
              "#fdca26"
             ],
             [
              1,
              "#f0f921"
             ]
            ],
            "type": "heatmap"
           }
          ],
          "heatmapgl": [
           {
            "colorbar": {
             "outlinewidth": 0,
             "ticks": ""
            },
            "colorscale": [
             [
              0,
              "#0d0887"
             ],
             [
              0.1111111111111111,
              "#46039f"
             ],
             [
              0.2222222222222222,
              "#7201a8"
             ],
             [
              0.3333333333333333,
              "#9c179e"
             ],
             [
              0.4444444444444444,
              "#bd3786"
             ],
             [
              0.5555555555555556,
              "#d8576b"
             ],
             [
              0.6666666666666666,
              "#ed7953"
             ],
             [
              0.7777777777777778,
              "#fb9f3a"
             ],
             [
              0.8888888888888888,
              "#fdca26"
             ],
             [
              1,
              "#f0f921"
             ]
            ],
            "type": "heatmapgl"
           }
          ],
          "histogram": [
           {
            "marker": {
             "pattern": {
              "fillmode": "overlay",
              "size": 10,
              "solidity": 0.2
             }
            },
            "type": "histogram"
           }
          ],
          "histogram2d": [
           {
            "colorbar": {
             "outlinewidth": 0,
             "ticks": ""
            },
            "colorscale": [
             [
              0,
              "#0d0887"
             ],
             [
              0.1111111111111111,
              "#46039f"
             ],
             [
              0.2222222222222222,
              "#7201a8"
             ],
             [
              0.3333333333333333,
              "#9c179e"
             ],
             [
              0.4444444444444444,
              "#bd3786"
             ],
             [
              0.5555555555555556,
              "#d8576b"
             ],
             [
              0.6666666666666666,
              "#ed7953"
             ],
             [
              0.7777777777777778,
              "#fb9f3a"
             ],
             [
              0.8888888888888888,
              "#fdca26"
             ],
             [
              1,
              "#f0f921"
             ]
            ],
            "type": "histogram2d"
           }
          ],
          "histogram2dcontour": [
           {
            "colorbar": {
             "outlinewidth": 0,
             "ticks": ""
            },
            "colorscale": [
             [
              0,
              "#0d0887"
             ],
             [
              0.1111111111111111,
              "#46039f"
             ],
             [
              0.2222222222222222,
              "#7201a8"
             ],
             [
              0.3333333333333333,
              "#9c179e"
             ],
             [
              0.4444444444444444,
              "#bd3786"
             ],
             [
              0.5555555555555556,
              "#d8576b"
             ],
             [
              0.6666666666666666,
              "#ed7953"
             ],
             [
              0.7777777777777778,
              "#fb9f3a"
             ],
             [
              0.8888888888888888,
              "#fdca26"
             ],
             [
              1,
              "#f0f921"
             ]
            ],
            "type": "histogram2dcontour"
           }
          ],
          "mesh3d": [
           {
            "colorbar": {
             "outlinewidth": 0,
             "ticks": ""
            },
            "type": "mesh3d"
           }
          ],
          "parcoords": [
           {
            "line": {
             "colorbar": {
              "outlinewidth": 0,
              "ticks": ""
             }
            },
            "type": "parcoords"
           }
          ],
          "pie": [
           {
            "automargin": true,
            "type": "pie"
           }
          ],
          "scatter": [
           {
            "fillpattern": {
             "fillmode": "overlay",
             "size": 10,
             "solidity": 0.2
            },
            "type": "scatter"
           }
          ],
          "scatter3d": [
           {
            "line": {
             "colorbar": {
              "outlinewidth": 0,
              "ticks": ""
             }
            },
            "marker": {
             "colorbar": {
              "outlinewidth": 0,
              "ticks": ""
             }
            },
            "type": "scatter3d"
           }
          ],
          "scattercarpet": [
           {
            "marker": {
             "colorbar": {
              "outlinewidth": 0,
              "ticks": ""
             }
            },
            "type": "scattercarpet"
           }
          ],
          "scattergeo": [
           {
            "marker": {
             "colorbar": {
              "outlinewidth": 0,
              "ticks": ""
             }
            },
            "type": "scattergeo"
           }
          ],
          "scattergl": [
           {
            "marker": {
             "colorbar": {
              "outlinewidth": 0,
              "ticks": ""
             }
            },
            "type": "scattergl"
           }
          ],
          "scattermapbox": [
           {
            "marker": {
             "colorbar": {
              "outlinewidth": 0,
              "ticks": ""
             }
            },
            "type": "scattermapbox"
           }
          ],
          "scatterpolar": [
           {
            "marker": {
             "colorbar": {
              "outlinewidth": 0,
              "ticks": ""
             }
            },
            "type": "scatterpolar"
           }
          ],
          "scatterpolargl": [
           {
            "marker": {
             "colorbar": {
              "outlinewidth": 0,
              "ticks": ""
             }
            },
            "type": "scatterpolargl"
           }
          ],
          "scatterternary": [
           {
            "marker": {
             "colorbar": {
              "outlinewidth": 0,
              "ticks": ""
             }
            },
            "type": "scatterternary"
           }
          ],
          "surface": [
           {
            "colorbar": {
             "outlinewidth": 0,
             "ticks": ""
            },
            "colorscale": [
             [
              0,
              "#0d0887"
             ],
             [
              0.1111111111111111,
              "#46039f"
             ],
             [
              0.2222222222222222,
              "#7201a8"
             ],
             [
              0.3333333333333333,
              "#9c179e"
             ],
             [
              0.4444444444444444,
              "#bd3786"
             ],
             [
              0.5555555555555556,
              "#d8576b"
             ],
             [
              0.6666666666666666,
              "#ed7953"
             ],
             [
              0.7777777777777778,
              "#fb9f3a"
             ],
             [
              0.8888888888888888,
              "#fdca26"
             ],
             [
              1,
              "#f0f921"
             ]
            ],
            "type": "surface"
           }
          ],
          "table": [
           {
            "cells": {
             "fill": {
              "color": "#EBF0F8"
             },
             "line": {
              "color": "white"
             }
            },
            "header": {
             "fill": {
              "color": "#C8D4E3"
             },
             "line": {
              "color": "white"
             }
            },
            "type": "table"
           }
          ]
         },
         "layout": {
          "annotationdefaults": {
           "arrowcolor": "#2a3f5f",
           "arrowhead": 0,
           "arrowwidth": 1
          },
          "autotypenumbers": "strict",
          "coloraxis": {
           "colorbar": {
            "outlinewidth": 0,
            "ticks": ""
           }
          },
          "colorscale": {
           "diverging": [
            [
             0,
             "#8e0152"
            ],
            [
             0.1,
             "#c51b7d"
            ],
            [
             0.2,
             "#de77ae"
            ],
            [
             0.3,
             "#f1b6da"
            ],
            [
             0.4,
             "#fde0ef"
            ],
            [
             0.5,
             "#f7f7f7"
            ],
            [
             0.6,
             "#e6f5d0"
            ],
            [
             0.7,
             "#b8e186"
            ],
            [
             0.8,
             "#7fbc41"
            ],
            [
             0.9,
             "#4d9221"
            ],
            [
             1,
             "#276419"
            ]
           ],
           "sequential": [
            [
             0,
             "#0d0887"
            ],
            [
             0.1111111111111111,
             "#46039f"
            ],
            [
             0.2222222222222222,
             "#7201a8"
            ],
            [
             0.3333333333333333,
             "#9c179e"
            ],
            [
             0.4444444444444444,
             "#bd3786"
            ],
            [
             0.5555555555555556,
             "#d8576b"
            ],
            [
             0.6666666666666666,
             "#ed7953"
            ],
            [
             0.7777777777777778,
             "#fb9f3a"
            ],
            [
             0.8888888888888888,
             "#fdca26"
            ],
            [
             1,
             "#f0f921"
            ]
           ],
           "sequentialminus": [
            [
             0,
             "#0d0887"
            ],
            [
             0.1111111111111111,
             "#46039f"
            ],
            [
             0.2222222222222222,
             "#7201a8"
            ],
            [
             0.3333333333333333,
             "#9c179e"
            ],
            [
             0.4444444444444444,
             "#bd3786"
            ],
            [
             0.5555555555555556,
             "#d8576b"
            ],
            [
             0.6666666666666666,
             "#ed7953"
            ],
            [
             0.7777777777777778,
             "#fb9f3a"
            ],
            [
             0.8888888888888888,
             "#fdca26"
            ],
            [
             1,
             "#f0f921"
            ]
           ]
          },
          "colorway": [
           "#636efa",
           "#EF553B",
           "#00cc96",
           "#ab63fa",
           "#FFA15A",
           "#19d3f3",
           "#FF6692",
           "#B6E880",
           "#FF97FF",
           "#FECB52"
          ],
          "font": {
           "color": "#2a3f5f"
          },
          "geo": {
           "bgcolor": "white",
           "lakecolor": "white",
           "landcolor": "#E5ECF6",
           "showlakes": true,
           "showland": true,
           "subunitcolor": "white"
          },
          "hoverlabel": {
           "align": "left"
          },
          "hovermode": "closest",
          "mapbox": {
           "style": "light"
          },
          "paper_bgcolor": "white",
          "plot_bgcolor": "#E5ECF6",
          "polar": {
           "angularaxis": {
            "gridcolor": "white",
            "linecolor": "white",
            "ticks": ""
           },
           "bgcolor": "#E5ECF6",
           "radialaxis": {
            "gridcolor": "white",
            "linecolor": "white",
            "ticks": ""
           }
          },
          "scene": {
           "xaxis": {
            "backgroundcolor": "#E5ECF6",
            "gridcolor": "white",
            "gridwidth": 2,
            "linecolor": "white",
            "showbackground": true,
            "ticks": "",
            "zerolinecolor": "white"
           },
           "yaxis": {
            "backgroundcolor": "#E5ECF6",
            "gridcolor": "white",
            "gridwidth": 2,
            "linecolor": "white",
            "showbackground": true,
            "ticks": "",
            "zerolinecolor": "white"
           },
           "zaxis": {
            "backgroundcolor": "#E5ECF6",
            "gridcolor": "white",
            "gridwidth": 2,
            "linecolor": "white",
            "showbackground": true,
            "ticks": "",
            "zerolinecolor": "white"
           }
          },
          "shapedefaults": {
           "line": {
            "color": "#2a3f5f"
           }
          },
          "ternary": {
           "aaxis": {
            "gridcolor": "white",
            "linecolor": "white",
            "ticks": ""
           },
           "baxis": {
            "gridcolor": "white",
            "linecolor": "white",
            "ticks": ""
           },
           "bgcolor": "#E5ECF6",
           "caxis": {
            "gridcolor": "white",
            "linecolor": "white",
            "ticks": ""
           }
          },
          "title": {
           "x": 0.05
          },
          "xaxis": {
           "automargin": true,
           "gridcolor": "white",
           "linecolor": "white",
           "ticks": "",
           "title": {
            "standoff": 15
           },
           "zerolinecolor": "white",
           "zerolinewidth": 2
          },
          "yaxis": {
           "automargin": true,
           "gridcolor": "white",
           "linecolor": "white",
           "ticks": "",
           "title": {
            "standoff": 15
           },
           "zerolinecolor": "white",
           "zerolinewidth": 2
          }
         }
        },
        "xaxis": {
         "anchor": "y",
         "autorange": true,
         "domain": [
          0,
          1
         ],
         "range": [
          -148.16666666666669,
          6955.166666666667
         ],
         "title": {
          "text": "price"
         },
         "type": "linear"
        },
        "yaxis": {
         "anchor": "x",
         "autorange": true,
         "domain": [
          0,
          1
         ],
         "range": [
          -0.5,
          0.5
         ],
         "type": "category"
        }
       }
      },
      "text/html": [
       "<div>                            <div id=\"956172fc-729c-4362-80a9-5fc2a44d1c78\" class=\"plotly-graph-div\" style=\"height:525px; width:100%;\"></div>            <script type=\"text/javascript\">                require([\"plotly\"], function(Plotly) {                    window.PLOTLYENV=window.PLOTLYENV || {};                                    if (document.getElementById(\"956172fc-729c-4362-80a9-5fc2a44d1c78\")) {                    Plotly.newPlot(                        \"956172fc-729c-4362-80a9-5fc2a44d1c78\",                        [{\"alignmentgroup\":\"True\",\"hovertemplate\":\"price=%{x}\\u003cextra\\u003e\\u003c\\u002fextra\\u003e\",\"legendgroup\":\"\",\"marker\":{\"color\":\"#636efa\"},\"name\":\"\",\"notched\":false,\"offsetgroup\":\"\",\"orientation\":\"h\",\"showlegend\":false,\"x\":[1449,972,622,2745,1951,432,2315,1253,1617,833,426,373,2640,539,1366,1643,806,3092,539,1059,207,1081,279,886,713,453,1189,865,1404,969,265,215,475,2022,1079,269,397,1059,528,951,420,1622,565,738,1081,1535,399,1405,691,504,345,910,431,1193,415,830,475,634,2650,449,1405,951,648,1018,746,2145,474,247,594,1026,1178,1033,941,1184,420,1026,561,925,573,1057,1186,1634,930,431,427,1459,756,648,1568,1784,756,745,1295,1293,1135,916,649,524,624,1351,778,377,700,1210,1450,713,448,1291,1405,1601,1365,1492,1513,781,1762,1513,1173,1223,610,1209,518,2425,680,1375,488,280,878,300,1510,1004,691,485,956,618,647,1069,273,1015,539,756,708,1207,940,651,399,1189,2179,372,2195,483,1351,972,538,2045,1170,669,680,1423,1135,483,436,871,787,1167,376,1946,393,1147,924,815,1459,756,334,529,998,496,485,3028,879,1622,1135,1513,2000,858,1297,1676,2593,842,1070,1174,3056,281,1082,755,907,989,6600,1037,1492,1130,1996,533,802,1892,3305,1512,475,2109,1568,646,842,1522,377,594,1622,1008,637,1115,1243,1384,732,972,1474,859,2658,900,929,832,964,1373,431,357,1622,929,745,972,422,622,4209,915,637,1239,962,951,1167,1065,604,3245,730,2207,886,1946,507,2000,759,1026,482,1146,2704,1838,1235,480,781,710,611,864,1622,505,1101,952,2119,1676,795,2704,878,771,1189,806,529,918,929,463,897,626,1029,713,1187,1057,1275,713,215,1284,529,1979,799,1405,1059,3121,539,1588,550,2296,702,594,1368,389,2137,1128,886,507,1081,2704,2271,507,297,913,2650,497,1060,524,1398,637,1183,976,713,315,594,1136,1444,2855,1297,1020,1443,485,1081,1372,1135,1237,297,1236,297,972,774,2271,1708,1221,301,1740,405,717,2193,1411,1524,1881,1518,1050,348,1081,603,1544,475,1022,778,691,539,420,1174,875,972,1893,1189,460,2379,529,940,529,598,334,309,915,1288,436,1790,1189,1892,2469,594,1481,2310,2715,1124,1721,751,1459,842,539,1330,1015,2934,2840,331,1654,1238,951,2433,2026,1890,1818,442,329,2083,2102,507,853,1004,648,745,1623,584,1315,2055,485,1544,646,3028,1254,1236,1189,2163,323,291,1092,648,2645,2650,1834,375,2379,2577,604,561,810,1546,377,1189,1275,478,2156,1112,2801,637,2137,1660,1455,1059,518,2214,1070,1946,692,588,470,810,864,2261,328,507,821,1838,2010,2163,1248,1379,1993,1405,800,2605,1476,730,1809,1365,634,785,269,611,1135,2530,2055,1945,2110,1095,3028,1460,626,1373,1189,972,1892,1026,985,367,669,1730,323,286,1026,1324,663,1431,1243,972,691,904,1319,1514,265,564,3211,962,1627,1513,1513,1384,745,962,1450,864,496,633,1490,3260,930,1405,399,1784,1481,862,431,1946,929,1513,796,1239,863,377,763,849,500,429,1871,539,1208,2920,588,1385,242,275,1026,615,668,377,681,2126,3245,907,1730,1037,799,372,1071,2013,420,702,898,741,269,2018,2881,2953,810,420,1091,778,1663,319,2541,1621,1810,659,1915,799,1026,652,1838,572,496,2191,1595,1807,1907,1319,723,356,2379,503,2487,1513,610,1405,377,5301,951,480,388,940,1263,615,1503,2454,410,1216,1585,839,864,1008,972,258,506,691,1969,2056,1600,897,626,431,981,2022,269,1901,2596,1200,563,2651,1265,486,296,994,2812,1312,1714,3028,767,1569,1289,394,1151,994,1228,1294,3405,1329,453,578,583,1608,538,1033,806,1361,445,2021,885,1118,377,756,1400,1228,535,2487,1405,1079,453,2219,756,1622,3044,662,590,615,344,405,756,2064,2802,1052,291,1892,723,2031,745,886,431,464,672,486,860,1081,2007,1288,708,1351,1178,785,322,1543,927,1275,322,286,1298,1825,905,1622,3960,1459,530,778,702,637,529,2093,702,703,604,1038,842,2617,713,2266,444,1306,719,1661,1081,3570,357,1784,583,1219,4749,514,2056,626,1186,919,1297,1189,1689,3104,648,1134,2011,1687,1221,918,708,508,1189,1730,322,1278,1946,1103,1189,1346,907,2564,688,3137,629,3883,2543,1908,356,2487,2046,1178,1081,2487,1065,1449,219,2131,1037,1260,2521,323,876,1459,799,2234,1189,1622,1892,805,1503,844,680,1816,659,1892,2613,1622,1039,854,2011,1946,416,2710,817,530,1179,2704,1297,2029,539,1469,633,384,669,5950,2271,561,1283,1785,3002,2617,723,351,638,1946,3325,984,772,2023,799,665,1110,2464,1588,323,2055,936,2059,851,1022,485,2769,702,507,920,1459,1390,1100,2424,984,1184,2110,976,1924,1141,518,1502,795,2000,1828,431,1011,987,907,1839,741,376,723,399,1946,493,1482,321,410,1368,1513,1838,1946,2866,1596,1005,973,664,1011,2178,1384,1784,2217,2124,2271,1604,388,853,2055,1303,3354,853,1102,539,953,1038,1730,1459,1211,741,1403,1243,2137,1974,789,1785,1260,766,1243,334,1708,312,1946,1195,1806,604,1297,1773,2984,1513,573,669,1210,1405,1081,1593,741,713,377,2433,1920,1579,1254,1611,3413,2055,838,1372,420,1661,1904,1091,1937,916,503,892,741,3407,752,2055,2124,3030,1276,2218,1059,1084],\"x0\":\" \",\"xaxis\":\"x\",\"y0\":\" \",\"yaxis\":\"y\",\"type\":\"box\"}],                        {\"template\":{\"data\":{\"histogram2dcontour\":[{\"type\":\"histogram2dcontour\",\"colorbar\":{\"outlinewidth\":0,\"ticks\":\"\"},\"colorscale\":[[0.0,\"#0d0887\"],[0.1111111111111111,\"#46039f\"],[0.2222222222222222,\"#7201a8\"],[0.3333333333333333,\"#9c179e\"],[0.4444444444444444,\"#bd3786\"],[0.5555555555555556,\"#d8576b\"],[0.6666666666666666,\"#ed7953\"],[0.7777777777777778,\"#fb9f3a\"],[0.8888888888888888,\"#fdca26\"],[1.0,\"#f0f921\"]]}],\"choropleth\":[{\"type\":\"choropleth\",\"colorbar\":{\"outlinewidth\":0,\"ticks\":\"\"}}],\"histogram2d\":[{\"type\":\"histogram2d\",\"colorbar\":{\"outlinewidth\":0,\"ticks\":\"\"},\"colorscale\":[[0.0,\"#0d0887\"],[0.1111111111111111,\"#46039f\"],[0.2222222222222222,\"#7201a8\"],[0.3333333333333333,\"#9c179e\"],[0.4444444444444444,\"#bd3786\"],[0.5555555555555556,\"#d8576b\"],[0.6666666666666666,\"#ed7953\"],[0.7777777777777778,\"#fb9f3a\"],[0.8888888888888888,\"#fdca26\"],[1.0,\"#f0f921\"]]}],\"heatmap\":[{\"type\":\"heatmap\",\"colorbar\":{\"outlinewidth\":0,\"ticks\":\"\"},\"colorscale\":[[0.0,\"#0d0887\"],[0.1111111111111111,\"#46039f\"],[0.2222222222222222,\"#7201a8\"],[0.3333333333333333,\"#9c179e\"],[0.4444444444444444,\"#bd3786\"],[0.5555555555555556,\"#d8576b\"],[0.6666666666666666,\"#ed7953\"],[0.7777777777777778,\"#fb9f3a\"],[0.8888888888888888,\"#fdca26\"],[1.0,\"#f0f921\"]]}],\"heatmapgl\":[{\"type\":\"heatmapgl\",\"colorbar\":{\"outlinewidth\":0,\"ticks\":\"\"},\"colorscale\":[[0.0,\"#0d0887\"],[0.1111111111111111,\"#46039f\"],[0.2222222222222222,\"#7201a8\"],[0.3333333333333333,\"#9c179e\"],[0.4444444444444444,\"#bd3786\"],[0.5555555555555556,\"#d8576b\"],[0.6666666666666666,\"#ed7953\"],[0.7777777777777778,\"#fb9f3a\"],[0.8888888888888888,\"#fdca26\"],[1.0,\"#f0f921\"]]}],\"contourcarpet\":[{\"type\":\"contourcarpet\",\"colorbar\":{\"outlinewidth\":0,\"ticks\":\"\"}}],\"contour\":[{\"type\":\"contour\",\"colorbar\":{\"outlinewidth\":0,\"ticks\":\"\"},\"colorscale\":[[0.0,\"#0d0887\"],[0.1111111111111111,\"#46039f\"],[0.2222222222222222,\"#7201a8\"],[0.3333333333333333,\"#9c179e\"],[0.4444444444444444,\"#bd3786\"],[0.5555555555555556,\"#d8576b\"],[0.6666666666666666,\"#ed7953\"],[0.7777777777777778,\"#fb9f3a\"],[0.8888888888888888,\"#fdca26\"],[1.0,\"#f0f921\"]]}],\"surface\":[{\"type\":\"surface\",\"colorbar\":{\"outlinewidth\":0,\"ticks\":\"\"},\"colorscale\":[[0.0,\"#0d0887\"],[0.1111111111111111,\"#46039f\"],[0.2222222222222222,\"#7201a8\"],[0.3333333333333333,\"#9c179e\"],[0.4444444444444444,\"#bd3786\"],[0.5555555555555556,\"#d8576b\"],[0.6666666666666666,\"#ed7953\"],[0.7777777777777778,\"#fb9f3a\"],[0.8888888888888888,\"#fdca26\"],[1.0,\"#f0f921\"]]}],\"mesh3d\":[{\"type\":\"mesh3d\",\"colorbar\":{\"outlinewidth\":0,\"ticks\":\"\"}}],\"scatter\":[{\"fillpattern\":{\"fillmode\":\"overlay\",\"size\":10,\"solidity\":0.2},\"type\":\"scatter\"}],\"parcoords\":[{\"type\":\"parcoords\",\"line\":{\"colorbar\":{\"outlinewidth\":0,\"ticks\":\"\"}}}],\"scatterpolargl\":[{\"type\":\"scatterpolargl\",\"marker\":{\"colorbar\":{\"outlinewidth\":0,\"ticks\":\"\"}}}],\"bar\":[{\"error_x\":{\"color\":\"#2a3f5f\"},\"error_y\":{\"color\":\"#2a3f5f\"},\"marker\":{\"line\":{\"color\":\"#E5ECF6\",\"width\":0.5},\"pattern\":{\"fillmode\":\"overlay\",\"size\":10,\"solidity\":0.2}},\"type\":\"bar\"}],\"scattergeo\":[{\"type\":\"scattergeo\",\"marker\":{\"colorbar\":{\"outlinewidth\":0,\"ticks\":\"\"}}}],\"scatterpolar\":[{\"type\":\"scatterpolar\",\"marker\":{\"colorbar\":{\"outlinewidth\":0,\"ticks\":\"\"}}}],\"histogram\":[{\"marker\":{\"pattern\":{\"fillmode\":\"overlay\",\"size\":10,\"solidity\":0.2}},\"type\":\"histogram\"}],\"scattergl\":[{\"type\":\"scattergl\",\"marker\":{\"colorbar\":{\"outlinewidth\":0,\"ticks\":\"\"}}}],\"scatter3d\":[{\"type\":\"scatter3d\",\"line\":{\"colorbar\":{\"outlinewidth\":0,\"ticks\":\"\"}},\"marker\":{\"colorbar\":{\"outlinewidth\":0,\"ticks\":\"\"}}}],\"scattermapbox\":[{\"type\":\"scattermapbox\",\"marker\":{\"colorbar\":{\"outlinewidth\":0,\"ticks\":\"\"}}}],\"scatterternary\":[{\"type\":\"scatterternary\",\"marker\":{\"colorbar\":{\"outlinewidth\":0,\"ticks\":\"\"}}}],\"scattercarpet\":[{\"type\":\"scattercarpet\",\"marker\":{\"colorbar\":{\"outlinewidth\":0,\"ticks\":\"\"}}}],\"carpet\":[{\"aaxis\":{\"endlinecolor\":\"#2a3f5f\",\"gridcolor\":\"white\",\"linecolor\":\"white\",\"minorgridcolor\":\"white\",\"startlinecolor\":\"#2a3f5f\"},\"baxis\":{\"endlinecolor\":\"#2a3f5f\",\"gridcolor\":\"white\",\"linecolor\":\"white\",\"minorgridcolor\":\"white\",\"startlinecolor\":\"#2a3f5f\"},\"type\":\"carpet\"}],\"table\":[{\"cells\":{\"fill\":{\"color\":\"#EBF0F8\"},\"line\":{\"color\":\"white\"}},\"header\":{\"fill\":{\"color\":\"#C8D4E3\"},\"line\":{\"color\":\"white\"}},\"type\":\"table\"}],\"barpolar\":[{\"marker\":{\"line\":{\"color\":\"#E5ECF6\",\"width\":0.5},\"pattern\":{\"fillmode\":\"overlay\",\"size\":10,\"solidity\":0.2}},\"type\":\"barpolar\"}],\"pie\":[{\"automargin\":true,\"type\":\"pie\"}]},\"layout\":{\"autotypenumbers\":\"strict\",\"colorway\":[\"#636efa\",\"#EF553B\",\"#00cc96\",\"#ab63fa\",\"#FFA15A\",\"#19d3f3\",\"#FF6692\",\"#B6E880\",\"#FF97FF\",\"#FECB52\"],\"font\":{\"color\":\"#2a3f5f\"},\"hovermode\":\"closest\",\"hoverlabel\":{\"align\":\"left\"},\"paper_bgcolor\":\"white\",\"plot_bgcolor\":\"#E5ECF6\",\"polar\":{\"bgcolor\":\"#E5ECF6\",\"angularaxis\":{\"gridcolor\":\"white\",\"linecolor\":\"white\",\"ticks\":\"\"},\"radialaxis\":{\"gridcolor\":\"white\",\"linecolor\":\"white\",\"ticks\":\"\"}},\"ternary\":{\"bgcolor\":\"#E5ECF6\",\"aaxis\":{\"gridcolor\":\"white\",\"linecolor\":\"white\",\"ticks\":\"\"},\"baxis\":{\"gridcolor\":\"white\",\"linecolor\":\"white\",\"ticks\":\"\"},\"caxis\":{\"gridcolor\":\"white\",\"linecolor\":\"white\",\"ticks\":\"\"}},\"coloraxis\":{\"colorbar\":{\"outlinewidth\":0,\"ticks\":\"\"}},\"colorscale\":{\"sequential\":[[0.0,\"#0d0887\"],[0.1111111111111111,\"#46039f\"],[0.2222222222222222,\"#7201a8\"],[0.3333333333333333,\"#9c179e\"],[0.4444444444444444,\"#bd3786\"],[0.5555555555555556,\"#d8576b\"],[0.6666666666666666,\"#ed7953\"],[0.7777777777777778,\"#fb9f3a\"],[0.8888888888888888,\"#fdca26\"],[1.0,\"#f0f921\"]],\"sequentialminus\":[[0.0,\"#0d0887\"],[0.1111111111111111,\"#46039f\"],[0.2222222222222222,\"#7201a8\"],[0.3333333333333333,\"#9c179e\"],[0.4444444444444444,\"#bd3786\"],[0.5555555555555556,\"#d8576b\"],[0.6666666666666666,\"#ed7953\"],[0.7777777777777778,\"#fb9f3a\"],[0.8888888888888888,\"#fdca26\"],[1.0,\"#f0f921\"]],\"diverging\":[[0,\"#8e0152\"],[0.1,\"#c51b7d\"],[0.2,\"#de77ae\"],[0.3,\"#f1b6da\"],[0.4,\"#fde0ef\"],[0.5,\"#f7f7f7\"],[0.6,\"#e6f5d0\"],[0.7,\"#b8e186\"],[0.8,\"#7fbc41\"],[0.9,\"#4d9221\"],[1,\"#276419\"]]},\"xaxis\":{\"gridcolor\":\"white\",\"linecolor\":\"white\",\"ticks\":\"\",\"title\":{\"standoff\":15},\"zerolinecolor\":\"white\",\"automargin\":true,\"zerolinewidth\":2},\"yaxis\":{\"gridcolor\":\"white\",\"linecolor\":\"white\",\"ticks\":\"\",\"title\":{\"standoff\":15},\"zerolinecolor\":\"white\",\"automargin\":true,\"zerolinewidth\":2},\"scene\":{\"xaxis\":{\"backgroundcolor\":\"#E5ECF6\",\"gridcolor\":\"white\",\"linecolor\":\"white\",\"showbackground\":true,\"ticks\":\"\",\"zerolinecolor\":\"white\",\"gridwidth\":2},\"yaxis\":{\"backgroundcolor\":\"#E5ECF6\",\"gridcolor\":\"white\",\"linecolor\":\"white\",\"showbackground\":true,\"ticks\":\"\",\"zerolinecolor\":\"white\",\"gridwidth\":2},\"zaxis\":{\"backgroundcolor\":\"#E5ECF6\",\"gridcolor\":\"white\",\"linecolor\":\"white\",\"showbackground\":true,\"ticks\":\"\",\"zerolinecolor\":\"white\",\"gridwidth\":2}},\"shapedefaults\":{\"line\":{\"color\":\"#2a3f5f\"}},\"annotationdefaults\":{\"arrowcolor\":\"#2a3f5f\",\"arrowhead\":0,\"arrowwidth\":1},\"geo\":{\"bgcolor\":\"white\",\"landcolor\":\"#E5ECF6\",\"subunitcolor\":\"white\",\"showland\":true,\"showlakes\":true,\"lakecolor\":\"white\"},\"title\":{\"x\":0.05},\"mapbox\":{\"style\":\"light\"}}},\"xaxis\":{\"anchor\":\"y\",\"domain\":[0.0,1.0],\"title\":{\"text\":\"price\"}},\"yaxis\":{\"anchor\":\"x\",\"domain\":[0.0,1.0]},\"legend\":{\"tracegroupgap\":0},\"margin\":{\"t\":60},\"boxmode\":\"group\"},                        {\"responsive\": true}                    ).then(function(){\n",
       "                            \n",
       "var gd = document.getElementById('956172fc-729c-4362-80a9-5fc2a44d1c78');\n",
       "var x = new MutationObserver(function (mutations, observer) {{\n",
       "        var display = window.getComputedStyle(gd).display;\n",
       "        if (!display || display === 'none') {{\n",
       "            console.log([gd, 'removed!']);\n",
       "            Plotly.purge(gd);\n",
       "            observer.disconnect();\n",
       "        }}\n",
       "}});\n",
       "\n",
       "// Listen for the removal of the full notebook cells\n",
       "var notebookContainer = gd.closest('#notebook-container');\n",
       "if (notebookContainer) {{\n",
       "    x.observe(notebookContainer, {childList: true});\n",
       "}}\n",
       "\n",
       "// Listen for the clearing of the current output cell\n",
       "var outputEl = gd.closest('.output');\n",
       "if (outputEl) {{\n",
       "    x.observe(outputEl, {childList: true});\n",
       "}}\n",
       "\n",
       "                        })                };                });            </script>        </div>"
      ]
     },
     "metadata": {},
     "output_type": "display_data"
    }
   ],
   "source": [
    "px.box(laptops_train, x=\"price\")"
   ]
  },
  {
   "cell_type": "code",
   "execution_count": 235,
   "id": "4d1ce3f4-808b-4bae-919f-7efe38c9e6f3",
   "metadata": {},
   "outputs": [
    {
     "data": {
      "application/vnd.plotly.v1+json": {
       "config": {
        "plotlyServerURL": "https://plot.ly"
       },
       "data": [
        {
         "alignmentgroup": "True",
         "hovertemplate": "price=%{x}<extra></extra>",
         "legendgroup": "",
         "marker": {
          "color": "#636efa"
         },
         "name": "",
         "notched": false,
         "offsetgroup": "",
         "orientation": "h",
         "showlegend": false,
         "type": "box",
         "x": [
          626,
          1892,
          1405,
          1293,
          594,
          702,
          990,
          648,
          872,
          1286,
          810,
          1210,
          2064,
          539,
          292,
          1459,
          962,
          1244,
          1459,
          411,
          1946,
          2260,
          1363,
          1286,
          591,
          842,
          1293,
          1190,
          1303,
          1568,
          1135,
          740,
          1026,
          1665,
          1720,
          2042,
          865,
          1309,
          833,
          3211,
          1612,
          2412,
          861,
          1720,
          1243,
          1282,
          1132,
          1687,
          1286,
          1147,
          1757,
          1168,
          1052,
          442,
          1289,
          1293,
          1329,
          1459,
          802,
          1866,
          1150,
          1093,
          916,
          228,
          1542,
          1135,
          1082,
          2276,
          1589,
          1672,
          2478,
          311,
          2835,
          1059,
          1183,
          1059,
          2439,
          763,
          539,
          485,
          1405,
          1968,
          1157,
          1079,
          604,
          1071,
          2087,
          1577,
          4301,
          863,
          1438,
          1406,
          521,
          1297,
          1297,
          1179,
          1854,
          713,
          1057,
          2704,
          584,
          1017,
          1513,
          3506,
          699,
          2217,
          811,
          1115,
          1617,
          1297,
          665,
          418,
          425,
          374,
          1730,
          885,
          1730,
          864,
          691,
          1730,
          541,
          2487,
          1228,
          1262,
          226,
          3137,
          1297,
          1529,
          1635,
          938,
          430,
          1449,
          1838,
          832,
          464,
          2130,
          594,
          1492,
          2975,
          1113,
          2408,
          1420,
          212,
          1828,
          1637,
          566,
          470,
          1806,
          518,
          2050,
          1070,
          1221,
          680,
          2218,
          300,
          813,
          666,
          1189,
          4273,
          848,
          2596,
          2350,
          2640,
          1236,
          1762,
          2412,
          1946,
          2055,
          2485,
          1092,
          1708,
          2531,
          366,
          321,
          648,
          1297,
          2435,
          518,
          1615,
          2487,
          853,
          2208,
          1622,
          1914,
          972,
          496,
          516,
          1621,
          1504,
          506,
          269,
          907,
          734,
          1254,
          399,
          430,
          767,
          832,
          892,
          1412,
          2330,
          703,
          1771,
          899,
          968,
          360,
          864,
          983,
          1275,
          747,
          1189,
          2812,
          886,
          713,
          524,
          1258,
          1297,
          1436,
          398,
          2326,
          294,
          2217,
          539,
          680,
          1390,
          2900,
          1265,
          962,
          626,
          323,
          680,
          2650,
          1384,
          1892,
          2109,
          1081,
          2109,
          188,
          647,
          583,
          1376,
          1243,
          1654,
          1597,
          572,
          1854,
          550,
          334,
          1598,
          564,
          1113,
          1243,
          1785,
          3786,
          507,
          1729,
          1037,
          517,
          2378,
          797,
          1265,
          1622,
          646,
          1385,
          391,
          1946,
          1190,
          1731,
          946,
          2516,
          620,
          1961,
          350,
          431,
          615,
          1160,
          480,
          366,
          2056,
          530,
          968,
          1329,
          901,
          788,
          496,
          312,
          410,
          972,
          595,
          872,
          226,
          779,
          690,
          1622,
          247,
          826,
          399,
          788,
          496,
          312,
          410,
          972,
          595,
          872,
          226,
          779,
          690,
          1622,
          247,
          826,
          399,
          788,
          496,
          312,
          410,
          972,
          595,
          872,
          226,
          779,
          690,
          1622,
          247,
          826,
          399
         ],
         "x0": " ",
         "xaxis": "x",
         "y0": " ",
         "yaxis": "y"
        }
       ],
       "layout": {
        "autosize": true,
        "boxmode": "group",
        "legend": {
         "tracegroupgap": 0
        },
        "margin": {
         "t": 60
        },
        "template": {
         "data": {
          "bar": [
           {
            "error_x": {
             "color": "#2a3f5f"
            },
            "error_y": {
             "color": "#2a3f5f"
            },
            "marker": {
             "line": {
              "color": "#E5ECF6",
              "width": 0.5
             },
             "pattern": {
              "fillmode": "overlay",
              "size": 10,
              "solidity": 0.2
             }
            },
            "type": "bar"
           }
          ],
          "barpolar": [
           {
            "marker": {
             "line": {
              "color": "#E5ECF6",
              "width": 0.5
             },
             "pattern": {
              "fillmode": "overlay",
              "size": 10,
              "solidity": 0.2
             }
            },
            "type": "barpolar"
           }
          ],
          "carpet": [
           {
            "aaxis": {
             "endlinecolor": "#2a3f5f",
             "gridcolor": "white",
             "linecolor": "white",
             "minorgridcolor": "white",
             "startlinecolor": "#2a3f5f"
            },
            "baxis": {
             "endlinecolor": "#2a3f5f",
             "gridcolor": "white",
             "linecolor": "white",
             "minorgridcolor": "white",
             "startlinecolor": "#2a3f5f"
            },
            "type": "carpet"
           }
          ],
          "choropleth": [
           {
            "colorbar": {
             "outlinewidth": 0,
             "ticks": ""
            },
            "type": "choropleth"
           }
          ],
          "contour": [
           {
            "colorbar": {
             "outlinewidth": 0,
             "ticks": ""
            },
            "colorscale": [
             [
              0,
              "#0d0887"
             ],
             [
              0.1111111111111111,
              "#46039f"
             ],
             [
              0.2222222222222222,
              "#7201a8"
             ],
             [
              0.3333333333333333,
              "#9c179e"
             ],
             [
              0.4444444444444444,
              "#bd3786"
             ],
             [
              0.5555555555555556,
              "#d8576b"
             ],
             [
              0.6666666666666666,
              "#ed7953"
             ],
             [
              0.7777777777777778,
              "#fb9f3a"
             ],
             [
              0.8888888888888888,
              "#fdca26"
             ],
             [
              1,
              "#f0f921"
             ]
            ],
            "type": "contour"
           }
          ],
          "contourcarpet": [
           {
            "colorbar": {
             "outlinewidth": 0,
             "ticks": ""
            },
            "type": "contourcarpet"
           }
          ],
          "heatmap": [
           {
            "colorbar": {
             "outlinewidth": 0,
             "ticks": ""
            },
            "colorscale": [
             [
              0,
              "#0d0887"
             ],
             [
              0.1111111111111111,
              "#46039f"
             ],
             [
              0.2222222222222222,
              "#7201a8"
             ],
             [
              0.3333333333333333,
              "#9c179e"
             ],
             [
              0.4444444444444444,
              "#bd3786"
             ],
             [
              0.5555555555555556,
              "#d8576b"
             ],
             [
              0.6666666666666666,
              "#ed7953"
             ],
             [
              0.7777777777777778,
              "#fb9f3a"
             ],
             [
              0.8888888888888888,
              "#fdca26"
             ],
             [
              1,
              "#f0f921"
             ]
            ],
            "type": "heatmap"
           }
          ],
          "heatmapgl": [
           {
            "colorbar": {
             "outlinewidth": 0,
             "ticks": ""
            },
            "colorscale": [
             [
              0,
              "#0d0887"
             ],
             [
              0.1111111111111111,
              "#46039f"
             ],
             [
              0.2222222222222222,
              "#7201a8"
             ],
             [
              0.3333333333333333,
              "#9c179e"
             ],
             [
              0.4444444444444444,
              "#bd3786"
             ],
             [
              0.5555555555555556,
              "#d8576b"
             ],
             [
              0.6666666666666666,
              "#ed7953"
             ],
             [
              0.7777777777777778,
              "#fb9f3a"
             ],
             [
              0.8888888888888888,
              "#fdca26"
             ],
             [
              1,
              "#f0f921"
             ]
            ],
            "type": "heatmapgl"
           }
          ],
          "histogram": [
           {
            "marker": {
             "pattern": {
              "fillmode": "overlay",
              "size": 10,
              "solidity": 0.2
             }
            },
            "type": "histogram"
           }
          ],
          "histogram2d": [
           {
            "colorbar": {
             "outlinewidth": 0,
             "ticks": ""
            },
            "colorscale": [
             [
              0,
              "#0d0887"
             ],
             [
              0.1111111111111111,
              "#46039f"
             ],
             [
              0.2222222222222222,
              "#7201a8"
             ],
             [
              0.3333333333333333,
              "#9c179e"
             ],
             [
              0.4444444444444444,
              "#bd3786"
             ],
             [
              0.5555555555555556,
              "#d8576b"
             ],
             [
              0.6666666666666666,
              "#ed7953"
             ],
             [
              0.7777777777777778,
              "#fb9f3a"
             ],
             [
              0.8888888888888888,
              "#fdca26"
             ],
             [
              1,
              "#f0f921"
             ]
            ],
            "type": "histogram2d"
           }
          ],
          "histogram2dcontour": [
           {
            "colorbar": {
             "outlinewidth": 0,
             "ticks": ""
            },
            "colorscale": [
             [
              0,
              "#0d0887"
             ],
             [
              0.1111111111111111,
              "#46039f"
             ],
             [
              0.2222222222222222,
              "#7201a8"
             ],
             [
              0.3333333333333333,
              "#9c179e"
             ],
             [
              0.4444444444444444,
              "#bd3786"
             ],
             [
              0.5555555555555556,
              "#d8576b"
             ],
             [
              0.6666666666666666,
              "#ed7953"
             ],
             [
              0.7777777777777778,
              "#fb9f3a"
             ],
             [
              0.8888888888888888,
              "#fdca26"
             ],
             [
              1,
              "#f0f921"
             ]
            ],
            "type": "histogram2dcontour"
           }
          ],
          "mesh3d": [
           {
            "colorbar": {
             "outlinewidth": 0,
             "ticks": ""
            },
            "type": "mesh3d"
           }
          ],
          "parcoords": [
           {
            "line": {
             "colorbar": {
              "outlinewidth": 0,
              "ticks": ""
             }
            },
            "type": "parcoords"
           }
          ],
          "pie": [
           {
            "automargin": true,
            "type": "pie"
           }
          ],
          "scatter": [
           {
            "fillpattern": {
             "fillmode": "overlay",
             "size": 10,
             "solidity": 0.2
            },
            "type": "scatter"
           }
          ],
          "scatter3d": [
           {
            "line": {
             "colorbar": {
              "outlinewidth": 0,
              "ticks": ""
             }
            },
            "marker": {
             "colorbar": {
              "outlinewidth": 0,
              "ticks": ""
             }
            },
            "type": "scatter3d"
           }
          ],
          "scattercarpet": [
           {
            "marker": {
             "colorbar": {
              "outlinewidth": 0,
              "ticks": ""
             }
            },
            "type": "scattercarpet"
           }
          ],
          "scattergeo": [
           {
            "marker": {
             "colorbar": {
              "outlinewidth": 0,
              "ticks": ""
             }
            },
            "type": "scattergeo"
           }
          ],
          "scattergl": [
           {
            "marker": {
             "colorbar": {
              "outlinewidth": 0,
              "ticks": ""
             }
            },
            "type": "scattergl"
           }
          ],
          "scattermapbox": [
           {
            "marker": {
             "colorbar": {
              "outlinewidth": 0,
              "ticks": ""
             }
            },
            "type": "scattermapbox"
           }
          ],
          "scatterpolar": [
           {
            "marker": {
             "colorbar": {
              "outlinewidth": 0,
              "ticks": ""
             }
            },
            "type": "scatterpolar"
           }
          ],
          "scatterpolargl": [
           {
            "marker": {
             "colorbar": {
              "outlinewidth": 0,
              "ticks": ""
             }
            },
            "type": "scatterpolargl"
           }
          ],
          "scatterternary": [
           {
            "marker": {
             "colorbar": {
              "outlinewidth": 0,
              "ticks": ""
             }
            },
            "type": "scatterternary"
           }
          ],
          "surface": [
           {
            "colorbar": {
             "outlinewidth": 0,
             "ticks": ""
            },
            "colorscale": [
             [
              0,
              "#0d0887"
             ],
             [
              0.1111111111111111,
              "#46039f"
             ],
             [
              0.2222222222222222,
              "#7201a8"
             ],
             [
              0.3333333333333333,
              "#9c179e"
             ],
             [
              0.4444444444444444,
              "#bd3786"
             ],
             [
              0.5555555555555556,
              "#d8576b"
             ],
             [
              0.6666666666666666,
              "#ed7953"
             ],
             [
              0.7777777777777778,
              "#fb9f3a"
             ],
             [
              0.8888888888888888,
              "#fdca26"
             ],
             [
              1,
              "#f0f921"
             ]
            ],
            "type": "surface"
           }
          ],
          "table": [
           {
            "cells": {
             "fill": {
              "color": "#EBF0F8"
             },
             "line": {
              "color": "white"
             }
            },
            "header": {
             "fill": {
              "color": "#C8D4E3"
             },
             "line": {
              "color": "white"
             }
            },
            "type": "table"
           }
          ]
         },
         "layout": {
          "annotationdefaults": {
           "arrowcolor": "#2a3f5f",
           "arrowhead": 0,
           "arrowwidth": 1
          },
          "autotypenumbers": "strict",
          "coloraxis": {
           "colorbar": {
            "outlinewidth": 0,
            "ticks": ""
           }
          },
          "colorscale": {
           "diverging": [
            [
             0,
             "#8e0152"
            ],
            [
             0.1,
             "#c51b7d"
            ],
            [
             0.2,
             "#de77ae"
            ],
            [
             0.3,
             "#f1b6da"
            ],
            [
             0.4,
             "#fde0ef"
            ],
            [
             0.5,
             "#f7f7f7"
            ],
            [
             0.6,
             "#e6f5d0"
            ],
            [
             0.7,
             "#b8e186"
            ],
            [
             0.8,
             "#7fbc41"
            ],
            [
             0.9,
             "#4d9221"
            ],
            [
             1,
             "#276419"
            ]
           ],
           "sequential": [
            [
             0,
             "#0d0887"
            ],
            [
             0.1111111111111111,
             "#46039f"
            ],
            [
             0.2222222222222222,
             "#7201a8"
            ],
            [
             0.3333333333333333,
             "#9c179e"
            ],
            [
             0.4444444444444444,
             "#bd3786"
            ],
            [
             0.5555555555555556,
             "#d8576b"
            ],
            [
             0.6666666666666666,
             "#ed7953"
            ],
            [
             0.7777777777777778,
             "#fb9f3a"
            ],
            [
             0.8888888888888888,
             "#fdca26"
            ],
            [
             1,
             "#f0f921"
            ]
           ],
           "sequentialminus": [
            [
             0,
             "#0d0887"
            ],
            [
             0.1111111111111111,
             "#46039f"
            ],
            [
             0.2222222222222222,
             "#7201a8"
            ],
            [
             0.3333333333333333,
             "#9c179e"
            ],
            [
             0.4444444444444444,
             "#bd3786"
            ],
            [
             0.5555555555555556,
             "#d8576b"
            ],
            [
             0.6666666666666666,
             "#ed7953"
            ],
            [
             0.7777777777777778,
             "#fb9f3a"
            ],
            [
             0.8888888888888888,
             "#fdca26"
            ],
            [
             1,
             "#f0f921"
            ]
           ]
          },
          "colorway": [
           "#636efa",
           "#EF553B",
           "#00cc96",
           "#ab63fa",
           "#FFA15A",
           "#19d3f3",
           "#FF6692",
           "#B6E880",
           "#FF97FF",
           "#FECB52"
          ],
          "font": {
           "color": "#2a3f5f"
          },
          "geo": {
           "bgcolor": "white",
           "lakecolor": "white",
           "landcolor": "#E5ECF6",
           "showlakes": true,
           "showland": true,
           "subunitcolor": "white"
          },
          "hoverlabel": {
           "align": "left"
          },
          "hovermode": "closest",
          "mapbox": {
           "style": "light"
          },
          "paper_bgcolor": "white",
          "plot_bgcolor": "#E5ECF6",
          "polar": {
           "angularaxis": {
            "gridcolor": "white",
            "linecolor": "white",
            "ticks": ""
           },
           "bgcolor": "#E5ECF6",
           "radialaxis": {
            "gridcolor": "white",
            "linecolor": "white",
            "ticks": ""
           }
          },
          "scene": {
           "xaxis": {
            "backgroundcolor": "#E5ECF6",
            "gridcolor": "white",
            "gridwidth": 2,
            "linecolor": "white",
            "showbackground": true,
            "ticks": "",
            "zerolinecolor": "white"
           },
           "yaxis": {
            "backgroundcolor": "#E5ECF6",
            "gridcolor": "white",
            "gridwidth": 2,
            "linecolor": "white",
            "showbackground": true,
            "ticks": "",
            "zerolinecolor": "white"
           },
           "zaxis": {
            "backgroundcolor": "#E5ECF6",
            "gridcolor": "white",
            "gridwidth": 2,
            "linecolor": "white",
            "showbackground": true,
            "ticks": "",
            "zerolinecolor": "white"
           }
          },
          "shapedefaults": {
           "line": {
            "color": "#2a3f5f"
           }
          },
          "ternary": {
           "aaxis": {
            "gridcolor": "white",
            "linecolor": "white",
            "ticks": ""
           },
           "baxis": {
            "gridcolor": "white",
            "linecolor": "white",
            "ticks": ""
           },
           "bgcolor": "#E5ECF6",
           "caxis": {
            "gridcolor": "white",
            "linecolor": "white",
            "ticks": ""
           }
          },
          "title": {
           "x": 0.05
          },
          "xaxis": {
           "automargin": true,
           "gridcolor": "white",
           "linecolor": "white",
           "ticks": "",
           "title": {
            "standoff": 15
           },
           "zerolinecolor": "white",
           "zerolinewidth": 2
          },
          "yaxis": {
           "automargin": true,
           "gridcolor": "white",
           "linecolor": "white",
           "ticks": "",
           "title": {
            "standoff": 15
           },
           "zerolinecolor": "white",
           "zerolinewidth": 2
          }
         }
        },
        "xaxis": {
         "anchor": "y",
         "autorange": true,
         "domain": [
          0,
          1
         ],
         "range": [
          -40.50000000000003,
          4529.5
         ],
         "title": {
          "text": "price"
         },
         "type": "linear"
        },
        "yaxis": {
         "anchor": "x",
         "autorange": true,
         "domain": [
          0,
          1
         ],
         "range": [
          -0.5,
          0.5
         ],
         "type": "category"
        }
       }
      },
      "text/html": [
       "<div>                            <div id=\"29acf74c-457d-4581-9775-0440a61a997f\" class=\"plotly-graph-div\" style=\"height:525px; width:100%;\"></div>            <script type=\"text/javascript\">                require([\"plotly\"], function(Plotly) {                    window.PLOTLYENV=window.PLOTLYENV || {};                                    if (document.getElementById(\"29acf74c-457d-4581-9775-0440a61a997f\")) {                    Plotly.newPlot(                        \"29acf74c-457d-4581-9775-0440a61a997f\",                        [{\"alignmentgroup\":\"True\",\"hovertemplate\":\"price=%{x}\\u003cextra\\u003e\\u003c\\u002fextra\\u003e\",\"legendgroup\":\"\",\"marker\":{\"color\":\"#636efa\"},\"name\":\"\",\"notched\":false,\"offsetgroup\":\"\",\"orientation\":\"h\",\"showlegend\":false,\"x\":[626,1892,1405,1293,594,702,990,648,872,1286,810,1210,2064,539,292,1459,962,1244,1459,411,1946,2260,1363,1286,591,842,1293,1190,1303,1568,1135,740,1026,1665,1720,2042,865,1309,833,3211,1612,2412,861,1720,1243,1282,1132,1687,1286,1147,1757,1168,1052,442,1289,1293,1329,1459,802,1866,1150,1093,916,228,1542,1135,1082,2276,1589,1672,2478,311,2835,1059,1183,1059,2439,763,539,485,1405,1968,1157,1079,604,1071,2087,1577,4301,863,1438,1406,521,1297,1297,1179,1854,713,1057,2704,584,1017,1513,3506,699,2217,811,1115,1617,1297,665,418,425,374,1730,885,1730,864,691,1730,541,2487,1228,1262,226,3137,1297,1529,1635,938,430,1449,1838,832,464,2130,594,1492,2975,1113,2408,1420,212,1828,1637,566,470,1806,518,2050,1070,1221,680,2218,300,813,666,1189,4273,848,2596,2350,2640,1236,1762,2412,1946,2055,2485,1092,1708,2531,366,321,648,1297,2435,518,1615,2487,853,2208,1622,1914,972,496,516,1621,1504,506,269,907,734,1254,399,430,767,832,892,1412,2330,703,1771,899,968,360,864,983,1275,747,1189,2812,886,713,524,1258,1297,1436,398,2326,294,2217,539,680,1390,2900,1265,962,626,323,680,2650,1384,1892,2109,1081,2109,188,647,583,1376,1243,1654,1597,572,1854,550,334,1598,564,1113,1243,1785,3786,507,1729,1037,517,2378,797,1265,1622,646,1385,391,1946,1190,1731,946,2516,620,1961,350,431,615,1160,480,366,2056,530,968,1329,901,788,496,312,410,972,595,872,226,779,690,1622,247,826,399,788,496,312,410,972,595,872,226,779,690,1622,247,826,399,788,496,312,410,972,595,872,226,779,690,1622,247,826,399],\"x0\":\" \",\"xaxis\":\"x\",\"y0\":\" \",\"yaxis\":\"y\",\"type\":\"box\"}],                        {\"template\":{\"data\":{\"histogram2dcontour\":[{\"type\":\"histogram2dcontour\",\"colorbar\":{\"outlinewidth\":0,\"ticks\":\"\"},\"colorscale\":[[0.0,\"#0d0887\"],[0.1111111111111111,\"#46039f\"],[0.2222222222222222,\"#7201a8\"],[0.3333333333333333,\"#9c179e\"],[0.4444444444444444,\"#bd3786\"],[0.5555555555555556,\"#d8576b\"],[0.6666666666666666,\"#ed7953\"],[0.7777777777777778,\"#fb9f3a\"],[0.8888888888888888,\"#fdca26\"],[1.0,\"#f0f921\"]]}],\"choropleth\":[{\"type\":\"choropleth\",\"colorbar\":{\"outlinewidth\":0,\"ticks\":\"\"}}],\"histogram2d\":[{\"type\":\"histogram2d\",\"colorbar\":{\"outlinewidth\":0,\"ticks\":\"\"},\"colorscale\":[[0.0,\"#0d0887\"],[0.1111111111111111,\"#46039f\"],[0.2222222222222222,\"#7201a8\"],[0.3333333333333333,\"#9c179e\"],[0.4444444444444444,\"#bd3786\"],[0.5555555555555556,\"#d8576b\"],[0.6666666666666666,\"#ed7953\"],[0.7777777777777778,\"#fb9f3a\"],[0.8888888888888888,\"#fdca26\"],[1.0,\"#f0f921\"]]}],\"heatmap\":[{\"type\":\"heatmap\",\"colorbar\":{\"outlinewidth\":0,\"ticks\":\"\"},\"colorscale\":[[0.0,\"#0d0887\"],[0.1111111111111111,\"#46039f\"],[0.2222222222222222,\"#7201a8\"],[0.3333333333333333,\"#9c179e\"],[0.4444444444444444,\"#bd3786\"],[0.5555555555555556,\"#d8576b\"],[0.6666666666666666,\"#ed7953\"],[0.7777777777777778,\"#fb9f3a\"],[0.8888888888888888,\"#fdca26\"],[1.0,\"#f0f921\"]]}],\"heatmapgl\":[{\"type\":\"heatmapgl\",\"colorbar\":{\"outlinewidth\":0,\"ticks\":\"\"},\"colorscale\":[[0.0,\"#0d0887\"],[0.1111111111111111,\"#46039f\"],[0.2222222222222222,\"#7201a8\"],[0.3333333333333333,\"#9c179e\"],[0.4444444444444444,\"#bd3786\"],[0.5555555555555556,\"#d8576b\"],[0.6666666666666666,\"#ed7953\"],[0.7777777777777778,\"#fb9f3a\"],[0.8888888888888888,\"#fdca26\"],[1.0,\"#f0f921\"]]}],\"contourcarpet\":[{\"type\":\"contourcarpet\",\"colorbar\":{\"outlinewidth\":0,\"ticks\":\"\"}}],\"contour\":[{\"type\":\"contour\",\"colorbar\":{\"outlinewidth\":0,\"ticks\":\"\"},\"colorscale\":[[0.0,\"#0d0887\"],[0.1111111111111111,\"#46039f\"],[0.2222222222222222,\"#7201a8\"],[0.3333333333333333,\"#9c179e\"],[0.4444444444444444,\"#bd3786\"],[0.5555555555555556,\"#d8576b\"],[0.6666666666666666,\"#ed7953\"],[0.7777777777777778,\"#fb9f3a\"],[0.8888888888888888,\"#fdca26\"],[1.0,\"#f0f921\"]]}],\"surface\":[{\"type\":\"surface\",\"colorbar\":{\"outlinewidth\":0,\"ticks\":\"\"},\"colorscale\":[[0.0,\"#0d0887\"],[0.1111111111111111,\"#46039f\"],[0.2222222222222222,\"#7201a8\"],[0.3333333333333333,\"#9c179e\"],[0.4444444444444444,\"#bd3786\"],[0.5555555555555556,\"#d8576b\"],[0.6666666666666666,\"#ed7953\"],[0.7777777777777778,\"#fb9f3a\"],[0.8888888888888888,\"#fdca26\"],[1.0,\"#f0f921\"]]}],\"mesh3d\":[{\"type\":\"mesh3d\",\"colorbar\":{\"outlinewidth\":0,\"ticks\":\"\"}}],\"scatter\":[{\"fillpattern\":{\"fillmode\":\"overlay\",\"size\":10,\"solidity\":0.2},\"type\":\"scatter\"}],\"parcoords\":[{\"type\":\"parcoords\",\"line\":{\"colorbar\":{\"outlinewidth\":0,\"ticks\":\"\"}}}],\"scatterpolargl\":[{\"type\":\"scatterpolargl\",\"marker\":{\"colorbar\":{\"outlinewidth\":0,\"ticks\":\"\"}}}],\"bar\":[{\"error_x\":{\"color\":\"#2a3f5f\"},\"error_y\":{\"color\":\"#2a3f5f\"},\"marker\":{\"line\":{\"color\":\"#E5ECF6\",\"width\":0.5},\"pattern\":{\"fillmode\":\"overlay\",\"size\":10,\"solidity\":0.2}},\"type\":\"bar\"}],\"scattergeo\":[{\"type\":\"scattergeo\",\"marker\":{\"colorbar\":{\"outlinewidth\":0,\"ticks\":\"\"}}}],\"scatterpolar\":[{\"type\":\"scatterpolar\",\"marker\":{\"colorbar\":{\"outlinewidth\":0,\"ticks\":\"\"}}}],\"histogram\":[{\"marker\":{\"pattern\":{\"fillmode\":\"overlay\",\"size\":10,\"solidity\":0.2}},\"type\":\"histogram\"}],\"scattergl\":[{\"type\":\"scattergl\",\"marker\":{\"colorbar\":{\"outlinewidth\":0,\"ticks\":\"\"}}}],\"scatter3d\":[{\"type\":\"scatter3d\",\"line\":{\"colorbar\":{\"outlinewidth\":0,\"ticks\":\"\"}},\"marker\":{\"colorbar\":{\"outlinewidth\":0,\"ticks\":\"\"}}}],\"scattermapbox\":[{\"type\":\"scattermapbox\",\"marker\":{\"colorbar\":{\"outlinewidth\":0,\"ticks\":\"\"}}}],\"scatterternary\":[{\"type\":\"scatterternary\",\"marker\":{\"colorbar\":{\"outlinewidth\":0,\"ticks\":\"\"}}}],\"scattercarpet\":[{\"type\":\"scattercarpet\",\"marker\":{\"colorbar\":{\"outlinewidth\":0,\"ticks\":\"\"}}}],\"carpet\":[{\"aaxis\":{\"endlinecolor\":\"#2a3f5f\",\"gridcolor\":\"white\",\"linecolor\":\"white\",\"minorgridcolor\":\"white\",\"startlinecolor\":\"#2a3f5f\"},\"baxis\":{\"endlinecolor\":\"#2a3f5f\",\"gridcolor\":\"white\",\"linecolor\":\"white\",\"minorgridcolor\":\"white\",\"startlinecolor\":\"#2a3f5f\"},\"type\":\"carpet\"}],\"table\":[{\"cells\":{\"fill\":{\"color\":\"#EBF0F8\"},\"line\":{\"color\":\"white\"}},\"header\":{\"fill\":{\"color\":\"#C8D4E3\"},\"line\":{\"color\":\"white\"}},\"type\":\"table\"}],\"barpolar\":[{\"marker\":{\"line\":{\"color\":\"#E5ECF6\",\"width\":0.5},\"pattern\":{\"fillmode\":\"overlay\",\"size\":10,\"solidity\":0.2}},\"type\":\"barpolar\"}],\"pie\":[{\"automargin\":true,\"type\":\"pie\"}]},\"layout\":{\"autotypenumbers\":\"strict\",\"colorway\":[\"#636efa\",\"#EF553B\",\"#00cc96\",\"#ab63fa\",\"#FFA15A\",\"#19d3f3\",\"#FF6692\",\"#B6E880\",\"#FF97FF\",\"#FECB52\"],\"font\":{\"color\":\"#2a3f5f\"},\"hovermode\":\"closest\",\"hoverlabel\":{\"align\":\"left\"},\"paper_bgcolor\":\"white\",\"plot_bgcolor\":\"#E5ECF6\",\"polar\":{\"bgcolor\":\"#E5ECF6\",\"angularaxis\":{\"gridcolor\":\"white\",\"linecolor\":\"white\",\"ticks\":\"\"},\"radialaxis\":{\"gridcolor\":\"white\",\"linecolor\":\"white\",\"ticks\":\"\"}},\"ternary\":{\"bgcolor\":\"#E5ECF6\",\"aaxis\":{\"gridcolor\":\"white\",\"linecolor\":\"white\",\"ticks\":\"\"},\"baxis\":{\"gridcolor\":\"white\",\"linecolor\":\"white\",\"ticks\":\"\"},\"caxis\":{\"gridcolor\":\"white\",\"linecolor\":\"white\",\"ticks\":\"\"}},\"coloraxis\":{\"colorbar\":{\"outlinewidth\":0,\"ticks\":\"\"}},\"colorscale\":{\"sequential\":[[0.0,\"#0d0887\"],[0.1111111111111111,\"#46039f\"],[0.2222222222222222,\"#7201a8\"],[0.3333333333333333,\"#9c179e\"],[0.4444444444444444,\"#bd3786\"],[0.5555555555555556,\"#d8576b\"],[0.6666666666666666,\"#ed7953\"],[0.7777777777777778,\"#fb9f3a\"],[0.8888888888888888,\"#fdca26\"],[1.0,\"#f0f921\"]],\"sequentialminus\":[[0.0,\"#0d0887\"],[0.1111111111111111,\"#46039f\"],[0.2222222222222222,\"#7201a8\"],[0.3333333333333333,\"#9c179e\"],[0.4444444444444444,\"#bd3786\"],[0.5555555555555556,\"#d8576b\"],[0.6666666666666666,\"#ed7953\"],[0.7777777777777778,\"#fb9f3a\"],[0.8888888888888888,\"#fdca26\"],[1.0,\"#f0f921\"]],\"diverging\":[[0,\"#8e0152\"],[0.1,\"#c51b7d\"],[0.2,\"#de77ae\"],[0.3,\"#f1b6da\"],[0.4,\"#fde0ef\"],[0.5,\"#f7f7f7\"],[0.6,\"#e6f5d0\"],[0.7,\"#b8e186\"],[0.8,\"#7fbc41\"],[0.9,\"#4d9221\"],[1,\"#276419\"]]},\"xaxis\":{\"gridcolor\":\"white\",\"linecolor\":\"white\",\"ticks\":\"\",\"title\":{\"standoff\":15},\"zerolinecolor\":\"white\",\"automargin\":true,\"zerolinewidth\":2},\"yaxis\":{\"gridcolor\":\"white\",\"linecolor\":\"white\",\"ticks\":\"\",\"title\":{\"standoff\":15},\"zerolinecolor\":\"white\",\"automargin\":true,\"zerolinewidth\":2},\"scene\":{\"xaxis\":{\"backgroundcolor\":\"#E5ECF6\",\"gridcolor\":\"white\",\"linecolor\":\"white\",\"showbackground\":true,\"ticks\":\"\",\"zerolinecolor\":\"white\",\"gridwidth\":2},\"yaxis\":{\"backgroundcolor\":\"#E5ECF6\",\"gridcolor\":\"white\",\"linecolor\":\"white\",\"showbackground\":true,\"ticks\":\"\",\"zerolinecolor\":\"white\",\"gridwidth\":2},\"zaxis\":{\"backgroundcolor\":\"#E5ECF6\",\"gridcolor\":\"white\",\"linecolor\":\"white\",\"showbackground\":true,\"ticks\":\"\",\"zerolinecolor\":\"white\",\"gridwidth\":2}},\"shapedefaults\":{\"line\":{\"color\":\"#2a3f5f\"}},\"annotationdefaults\":{\"arrowcolor\":\"#2a3f5f\",\"arrowhead\":0,\"arrowwidth\":1},\"geo\":{\"bgcolor\":\"white\",\"landcolor\":\"#E5ECF6\",\"subunitcolor\":\"white\",\"showland\":true,\"showlakes\":true,\"lakecolor\":\"white\"},\"title\":{\"x\":0.05},\"mapbox\":{\"style\":\"light\"}}},\"xaxis\":{\"anchor\":\"y\",\"domain\":[0.0,1.0],\"title\":{\"text\":\"price\"}},\"yaxis\":{\"anchor\":\"x\",\"domain\":[0.0,1.0]},\"legend\":{\"tracegroupgap\":0},\"margin\":{\"t\":60},\"boxmode\":\"group\"},                        {\"responsive\": true}                    ).then(function(){\n",
       "                            \n",
       "var gd = document.getElementById('29acf74c-457d-4581-9775-0440a61a997f');\n",
       "var x = new MutationObserver(function (mutations, observer) {{\n",
       "        var display = window.getComputedStyle(gd).display;\n",
       "        if (!display || display === 'none') {{\n",
       "            console.log([gd, 'removed!']);\n",
       "            Plotly.purge(gd);\n",
       "            observer.disconnect();\n",
       "        }}\n",
       "}});\n",
       "\n",
       "// Listen for the removal of the full notebook cells\n",
       "var notebookContainer = gd.closest('#notebook-container');\n",
       "if (notebookContainer) {{\n",
       "    x.observe(notebookContainer, {childList: true});\n",
       "}}\n",
       "\n",
       "// Listen for the clearing of the current output cell\n",
       "var outputEl = gd.closest('.output');\n",
       "if (outputEl) {{\n",
       "    x.observe(outputEl, {childList: true});\n",
       "}}\n",
       "\n",
       "                        })                };                });            </script>        </div>"
      ]
     },
     "metadata": {},
     "output_type": "display_data"
    }
   ],
   "source": [
    "px.box(laptops_test, x=\"price\")"
   ]
  },
  {
   "cell_type": "code",
   "execution_count": 236,
   "id": "9fa72beb-4487-4f5e-9049-5fdc2d286922",
   "metadata": {},
   "outputs": [
    {
     "data": {
      "text/plain": [
       "count     977.000000\n",
       "mean     1218.808598\n",
       "std       767.490421\n",
       "min       207.000000\n",
       "25%       648.000000\n",
       "50%      1037.000000\n",
       "75%      1596.000000\n",
       "max      6600.000000\n",
       "Name: price, dtype: float64"
      ]
     },
     "execution_count": 236,
     "metadata": {},
     "output_type": "execute_result"
    }
   ],
   "source": [
    "laptops_train[\"price\"].describe()"
   ]
  },
  {
   "cell_type": "code",
   "execution_count": 237,
   "id": "4bb51838-2673-448c-beb6-4dd0c822f82f",
   "metadata": {},
   "outputs": [
    {
     "data": {
      "text/plain": [
       "count     325.000000\n",
       "mean     1203.329231\n",
       "std       723.305960\n",
       "min       188.000000\n",
       "25%       647.000000\n",
       "50%      1082.000000\n",
       "75%      1621.000000\n",
       "max      4301.000000\n",
       "Name: price, dtype: float64"
      ]
     },
     "execution_count": 237,
     "metadata": {},
     "output_type": "execute_result"
    }
   ],
   "source": [
    "laptops_test[\"price\"].describe()"
   ]
  },
  {
   "cell_type": "markdown",
   "id": "58b33b99-5d54-4d37-ad72-fd597f8ca06f",
   "metadata": {},
   "source": [
    "Se puede apreciar como la variable de salida tiene una forma de campana gaussiana con asimetría positiva. Podemos notar como tanto el set de train y de test tienen una distribución similar, lo cual es importante controlar debido a que ambas tablas fueron provistas por el creador del dataset. A su vez se puede ver como existen valores anómalos y aberrantes en los rangos superiores del dataset. En consecuencia, esto podría generar overfitting debido a los pocos datos en este rango, y optamos por quitar estos dispositivos del dataset directamente."
   ]
  },
  {
   "cell_type": "code",
   "execution_count": 238,
   "id": "8245f878-2a6f-4b4a-9adc-622977d69a8b",
   "metadata": {},
   "outputs": [
    {
     "name": "stdout",
     "output_type": "stream",
     "text": [
      "Valores descartados:\n",
      "Train:8\n",
      "Test:4\n"
     ]
    }
   ],
   "source": [
    "# Descartamos los valores anómalos y aberrantes (donde precio > 3500)\n",
    "\n",
    "descartes_train = laptops_train[laptops_train.price > 3500].index\n",
    "descartes_test = laptops_test[laptops_test.price > 3500].index\n",
    "\n",
    "laptops_train = laptops_train.drop(descartes_train)\n",
    "laptops_test = laptops_test.drop(descartes_test)\n",
    "\n",
    "print(\"Valores descartados:\")\n",
    "print(\"Train:\"+str(len(descartes_train)))\n",
    "print(\"Test:\"+str(len(descartes_test)))"
   ]
  },
  {
   "cell_type": "code",
   "execution_count": 239,
   "id": "25951c4a-b643-4f06-a100-ac2a76492425",
   "metadata": {},
   "outputs": [],
   "source": [
    "# Conversión a rangos de precios\n",
    "# Rangos:\n",
    "# low: 0 < price <= 1000\n",
    "# mid: 1000 < price <= 1500\n",
    "# high: 1500 < price <= 3500\n",
    "\n",
    "laptops_train[\"price_range\"] = pd.cut(x=laptops_train[\"price\"], bins=[0, 1000, 1500, 3500], labels=[\"low\", \"mid\", \"high\"])\n",
    "laptops_test[\"price_range\"] = pd.cut(x=laptops_test[\"price\"], bins=[0, 1000, 1500, 3500], labels=[\"low\", \"mid\", \"high\"])"
   ]
  },
  {
   "cell_type": "code",
   "execution_count": 240,
   "id": "16bec1c9-ca09-4959-9af0-e14a5a58e6b2",
   "metadata": {},
   "outputs": [],
   "source": [
    "# Ordenamos el dataset por la nueva columna de price_range para que los gráficos queden mejor acomodados\n",
    "# (se puede hacer agregando category_orders={\"price_range\": [\"low\", \"mid\", \"high\"]} a cada gráfico, pero de esta manera aplica para todos)\n",
    "\n",
    "laptops_train = laptops_train.sort_values(by=\"price_range\")\n",
    "laptops_test = laptops_test.sort_values(by=\"price_range\")"
   ]
  },
  {
   "cell_type": "code",
   "execution_count": 241,
   "id": "7c8a4087-f8e4-4cce-ac33-e21666a095f5",
   "metadata": {},
   "outputs": [
    {
     "data": {
      "text/html": [
       "<div>\n",
       "<style scoped>\n",
       "    .dataframe tbody tr th:only-of-type {\n",
       "        vertical-align: middle;\n",
       "    }\n",
       "\n",
       "    .dataframe tbody tr th {\n",
       "        vertical-align: top;\n",
       "    }\n",
       "\n",
       "    .dataframe thead th {\n",
       "        text-align: right;\n",
       "    }\n",
       "</style>\n",
       "<table border=\"1\" class=\"dataframe\">\n",
       "  <thead>\n",
       "    <tr style=\"text-align: right;\">\n",
       "      <th></th>\n",
       "      <th>manufacturer</th>\n",
       "      <th>category</th>\n",
       "      <th>screen_size</th>\n",
       "      <th>resolution</th>\n",
       "      <th>cpu</th>\n",
       "      <th>ram</th>\n",
       "      <th>storage</th>\n",
       "      <th>gpu</th>\n",
       "      <th>os</th>\n",
       "      <th>weight</th>\n",
       "      <th>price</th>\n",
       "      <th>price_range</th>\n",
       "    </tr>\n",
       "  </thead>\n",
       "  <tbody>\n",
       "    <tr>\n",
       "      <th>279</th>\n",
       "      <td>Lenovo</td>\n",
       "      <td>Notebook</td>\n",
       "      <td>17.3\"</td>\n",
       "      <td>Full HD 1920x1080</td>\n",
       "      <td>Intel Core i7 8550U 1.8GHz</td>\n",
       "      <td>8GB</td>\n",
       "      <td>2TB HDD</td>\n",
       "      <td>Nvidia GeForce MX150</td>\n",
       "      <td>No OS</td>\n",
       "      <td>2.8kg</td>\n",
       "      <td>918</td>\n",
       "      <td>low</td>\n",
       "    </tr>\n",
       "    <tr>\n",
       "      <th>705</th>\n",
       "      <td>Dell</td>\n",
       "      <td>Notebook</td>\n",
       "      <td>15.6\"</td>\n",
       "      <td>Full HD 1920x1080</td>\n",
       "      <td>Intel Core i5 7200U 2.5GHz</td>\n",
       "      <td>8GB</td>\n",
       "      <td>256GB SSD</td>\n",
       "      <td>Intel HD Graphics 620</td>\n",
       "      <td>Windows</td>\n",
       "      <td>2.18kg</td>\n",
       "      <td>860</td>\n",
       "      <td>low</td>\n",
       "    </tr>\n",
       "    <tr>\n",
       "      <th>368</th>\n",
       "      <td>Dell</td>\n",
       "      <td>Notebook</td>\n",
       "      <td>15.6\"</td>\n",
       "      <td>Full HD 1920x1080</td>\n",
       "      <td>Intel Core i7 7500U 2.7GHz</td>\n",
       "      <td>8GB</td>\n",
       "      <td>256GB SSD</td>\n",
       "      <td>AMD Radeon R7 M445</td>\n",
       "      <td>Windows</td>\n",
       "      <td>2.33kg</td>\n",
       "      <td>972</td>\n",
       "      <td>low</td>\n",
       "    </tr>\n",
       "    <tr>\n",
       "      <th>367</th>\n",
       "      <td>Lenovo</td>\n",
       "      <td>Gaming</td>\n",
       "      <td>15.6\"</td>\n",
       "      <td>IPS Panel Full HD 1920x1080</td>\n",
       "      <td>Intel Core i5 7300HQ 2.5GHz</td>\n",
       "      <td>8GB</td>\n",
       "      <td>128GB SSD +  1TB HDD</td>\n",
       "      <td>Nvidia GeForce GTX 1050</td>\n",
       "      <td>No OS</td>\n",
       "      <td>2.4kg</td>\n",
       "      <td>875</td>\n",
       "      <td>low</td>\n",
       "    </tr>\n",
       "    <tr>\n",
       "      <th>365</th>\n",
       "      <td>HP</td>\n",
       "      <td>Notebook</td>\n",
       "      <td>15.6\"</td>\n",
       "      <td>1366x768</td>\n",
       "      <td>Intel Pentium Quad Core N3710 1.6GHz</td>\n",
       "      <td>8GB</td>\n",
       "      <td>2TB HDD</td>\n",
       "      <td>Intel HD Graphics 405</td>\n",
       "      <td>Windows</td>\n",
       "      <td>2.04kg</td>\n",
       "      <td>420</td>\n",
       "      <td>low</td>\n",
       "    </tr>\n",
       "    <tr>\n",
       "      <th>...</th>\n",
       "      <td>...</td>\n",
       "      <td>...</td>\n",
       "      <td>...</td>\n",
       "      <td>...</td>\n",
       "      <td>...</td>\n",
       "      <td>...</td>\n",
       "      <td>...</td>\n",
       "      <td>...</td>\n",
       "      <td>...</td>\n",
       "      <td>...</td>\n",
       "      <td>...</td>\n",
       "      <td>...</td>\n",
       "    </tr>\n",
       "    <tr>\n",
       "      <th>354</th>\n",
       "      <td>Toshiba</td>\n",
       "      <td>Notebook</td>\n",
       "      <td>15.6\"</td>\n",
       "      <td>IPS Panel Full HD 1920x1080</td>\n",
       "      <td>Intel Core i7 6500U 2.5GHz</td>\n",
       "      <td>16GB</td>\n",
       "      <td>512GB SSD</td>\n",
       "      <td>Nvidia GeForce 930M</td>\n",
       "      <td>Windows</td>\n",
       "      <td>2.4kg</td>\n",
       "      <td>1518</td>\n",
       "      <td>high</td>\n",
       "    </tr>\n",
       "    <tr>\n",
       "      <th>359</th>\n",
       "      <td>Dell</td>\n",
       "      <td>Notebook</td>\n",
       "      <td>14.0\"</td>\n",
       "      <td>Full HD 1920x1080</td>\n",
       "      <td>Intel Core i5 7300U 2.6GHz</td>\n",
       "      <td>8GB</td>\n",
       "      <td>256GB SSD</td>\n",
       "      <td>Intel HD Graphics 620</td>\n",
       "      <td>Windows</td>\n",
       "      <td>1.36kg</td>\n",
       "      <td>1544</td>\n",
       "      <td>high</td>\n",
       "    </tr>\n",
       "    <tr>\n",
       "      <th>707</th>\n",
       "      <td>Lenovo</td>\n",
       "      <td>Workstation</td>\n",
       "      <td>15.6\"</td>\n",
       "      <td>Full HD 1920x1080</td>\n",
       "      <td>Intel Core i7 6500U 2.5GHz</td>\n",
       "      <td>16GB</td>\n",
       "      <td>512GB SSD</td>\n",
       "      <td>Nvidia Quadro M520M</td>\n",
       "      <td>Windows</td>\n",
       "      <td>2.18kg</td>\n",
       "      <td>2007</td>\n",
       "      <td>high</td>\n",
       "    </tr>\n",
       "    <tr>\n",
       "      <th>746</th>\n",
       "      <td>Samsung</td>\n",
       "      <td>Ultrabook</td>\n",
       "      <td>13.3\"</td>\n",
       "      <td>Full HD 1920x1080</td>\n",
       "      <td>Intel Core i7 7500U 2.7GHz</td>\n",
       "      <td>16GB</td>\n",
       "      <td>256GB SSD</td>\n",
       "      <td>Intel HD Graphics 620</td>\n",
       "      <td>Windows</td>\n",
       "      <td>0.81kg</td>\n",
       "      <td>1784</td>\n",
       "      <td>high</td>\n",
       "    </tr>\n",
       "    <tr>\n",
       "      <th>486</th>\n",
       "      <td>Dell</td>\n",
       "      <td>Workstation</td>\n",
       "      <td>15.6\"</td>\n",
       "      <td>IPS Panel Full HD 1920x1080</td>\n",
       "      <td>Intel Core i7 6820HQ 2.7GHz</td>\n",
       "      <td>16GB</td>\n",
       "      <td>512GB SSD</td>\n",
       "      <td>Nvidia Quadro M620</td>\n",
       "      <td>Windows</td>\n",
       "      <td>2.17kg</td>\n",
       "      <td>2530</td>\n",
       "      <td>high</td>\n",
       "    </tr>\n",
       "  </tbody>\n",
       "</table>\n",
       "<p>969 rows × 12 columns</p>\n",
       "</div>"
      ],
      "text/plain": [
       "    manufacturer     category screen_size                   resolution  \\\n",
       "279       Lenovo     Notebook       17.3\"            Full HD 1920x1080   \n",
       "705         Dell     Notebook       15.6\"            Full HD 1920x1080   \n",
       "368         Dell     Notebook       15.6\"            Full HD 1920x1080   \n",
       "367       Lenovo       Gaming       15.6\"  IPS Panel Full HD 1920x1080   \n",
       "365           HP     Notebook       15.6\"                     1366x768   \n",
       "..           ...          ...         ...                          ...   \n",
       "354      Toshiba     Notebook       15.6\"  IPS Panel Full HD 1920x1080   \n",
       "359         Dell     Notebook       14.0\"            Full HD 1920x1080   \n",
       "707       Lenovo  Workstation       15.6\"            Full HD 1920x1080   \n",
       "746      Samsung    Ultrabook       13.3\"            Full HD 1920x1080   \n",
       "486         Dell  Workstation       15.6\"  IPS Panel Full HD 1920x1080   \n",
       "\n",
       "                                      cpu   ram               storage  \\\n",
       "279            Intel Core i7 8550U 1.8GHz   8GB               2TB HDD   \n",
       "705            Intel Core i5 7200U 2.5GHz   8GB             256GB SSD   \n",
       "368            Intel Core i7 7500U 2.7GHz   8GB             256GB SSD   \n",
       "367           Intel Core i5 7300HQ 2.5GHz   8GB  128GB SSD +  1TB HDD   \n",
       "365  Intel Pentium Quad Core N3710 1.6GHz   8GB               2TB HDD   \n",
       "..                                    ...   ...                   ...   \n",
       "354            Intel Core i7 6500U 2.5GHz  16GB             512GB SSD   \n",
       "359            Intel Core i5 7300U 2.6GHz   8GB             256GB SSD   \n",
       "707            Intel Core i7 6500U 2.5GHz  16GB             512GB SSD   \n",
       "746            Intel Core i7 7500U 2.7GHz  16GB             256GB SSD   \n",
       "486           Intel Core i7 6820HQ 2.7GHz  16GB             512GB SSD   \n",
       "\n",
       "                         gpu       os  weight  price price_range  \n",
       "279     Nvidia GeForce MX150    No OS   2.8kg    918         low  \n",
       "705    Intel HD Graphics 620  Windows  2.18kg    860         low  \n",
       "368       AMD Radeon R7 M445  Windows  2.33kg    972         low  \n",
       "367  Nvidia GeForce GTX 1050    No OS   2.4kg    875         low  \n",
       "365    Intel HD Graphics 405  Windows  2.04kg    420         low  \n",
       "..                       ...      ...     ...    ...         ...  \n",
       "354      Nvidia GeForce 930M  Windows   2.4kg   1518        high  \n",
       "359    Intel HD Graphics 620  Windows  1.36kg   1544        high  \n",
       "707      Nvidia Quadro M520M  Windows  2.18kg   2007        high  \n",
       "746    Intel HD Graphics 620  Windows  0.81kg   1784        high  \n",
       "486       Nvidia Quadro M620  Windows  2.17kg   2530        high  \n",
       "\n",
       "[969 rows x 12 columns]"
      ]
     },
     "execution_count": 241,
     "metadata": {},
     "output_type": "execute_result"
    }
   ],
   "source": [
    "laptops_train"
   ]
  },
  {
   "cell_type": "code",
   "execution_count": 242,
   "id": "e2d185dc-d17e-49d8-aa6e-c63eb585b991",
   "metadata": {},
   "outputs": [],
   "source": [
    "#Una ves aplicado los rangos, droppeamos la columna de precio, porque no la vamos a usar\n",
    "laptops_train = laptops_train.drop(columns=\"price\")\n",
    "laptops_test = laptops_test.drop(columns=\"price\")"
   ]
  },
  {
   "cell_type": "code",
   "execution_count": 243,
   "id": "b8142871-055e-4f70-bcc0-b64e8e878772",
   "metadata": {},
   "outputs": [
    {
     "data": {
      "text/html": [
       "<div>\n",
       "<style scoped>\n",
       "    .dataframe tbody tr th:only-of-type {\n",
       "        vertical-align: middle;\n",
       "    }\n",
       "\n",
       "    .dataframe tbody tr th {\n",
       "        vertical-align: top;\n",
       "    }\n",
       "\n",
       "    .dataframe thead th {\n",
       "        text-align: right;\n",
       "    }\n",
       "</style>\n",
       "<table border=\"1\" class=\"dataframe\">\n",
       "  <thead>\n",
       "    <tr style=\"text-align: right;\">\n",
       "      <th></th>\n",
       "      <th>manufacturer</th>\n",
       "      <th>category</th>\n",
       "      <th>screen_size</th>\n",
       "      <th>resolution</th>\n",
       "      <th>cpu</th>\n",
       "      <th>ram</th>\n",
       "      <th>storage</th>\n",
       "      <th>gpu</th>\n",
       "      <th>os</th>\n",
       "      <th>weight</th>\n",
       "      <th>price_range</th>\n",
       "    </tr>\n",
       "  </thead>\n",
       "  <tbody>\n",
       "    <tr>\n",
       "      <th>279</th>\n",
       "      <td>Lenovo</td>\n",
       "      <td>Notebook</td>\n",
       "      <td>17.3\"</td>\n",
       "      <td>Full HD 1920x1080</td>\n",
       "      <td>Intel Core i7 8550U 1.8GHz</td>\n",
       "      <td>8GB</td>\n",
       "      <td>2TB HDD</td>\n",
       "      <td>Nvidia GeForce MX150</td>\n",
       "      <td>No OS</td>\n",
       "      <td>2.8kg</td>\n",
       "      <td>low</td>\n",
       "    </tr>\n",
       "    <tr>\n",
       "      <th>705</th>\n",
       "      <td>Dell</td>\n",
       "      <td>Notebook</td>\n",
       "      <td>15.6\"</td>\n",
       "      <td>Full HD 1920x1080</td>\n",
       "      <td>Intel Core i5 7200U 2.5GHz</td>\n",
       "      <td>8GB</td>\n",
       "      <td>256GB SSD</td>\n",
       "      <td>Intel HD Graphics 620</td>\n",
       "      <td>Windows</td>\n",
       "      <td>2.18kg</td>\n",
       "      <td>low</td>\n",
       "    </tr>\n",
       "    <tr>\n",
       "      <th>368</th>\n",
       "      <td>Dell</td>\n",
       "      <td>Notebook</td>\n",
       "      <td>15.6\"</td>\n",
       "      <td>Full HD 1920x1080</td>\n",
       "      <td>Intel Core i7 7500U 2.7GHz</td>\n",
       "      <td>8GB</td>\n",
       "      <td>256GB SSD</td>\n",
       "      <td>AMD Radeon R7 M445</td>\n",
       "      <td>Windows</td>\n",
       "      <td>2.33kg</td>\n",
       "      <td>low</td>\n",
       "    </tr>\n",
       "    <tr>\n",
       "      <th>367</th>\n",
       "      <td>Lenovo</td>\n",
       "      <td>Gaming</td>\n",
       "      <td>15.6\"</td>\n",
       "      <td>IPS Panel Full HD 1920x1080</td>\n",
       "      <td>Intel Core i5 7300HQ 2.5GHz</td>\n",
       "      <td>8GB</td>\n",
       "      <td>128GB SSD +  1TB HDD</td>\n",
       "      <td>Nvidia GeForce GTX 1050</td>\n",
       "      <td>No OS</td>\n",
       "      <td>2.4kg</td>\n",
       "      <td>low</td>\n",
       "    </tr>\n",
       "    <tr>\n",
       "      <th>365</th>\n",
       "      <td>HP</td>\n",
       "      <td>Notebook</td>\n",
       "      <td>15.6\"</td>\n",
       "      <td>1366x768</td>\n",
       "      <td>Intel Pentium Quad Core N3710 1.6GHz</td>\n",
       "      <td>8GB</td>\n",
       "      <td>2TB HDD</td>\n",
       "      <td>Intel HD Graphics 405</td>\n",
       "      <td>Windows</td>\n",
       "      <td>2.04kg</td>\n",
       "      <td>low</td>\n",
       "    </tr>\n",
       "    <tr>\n",
       "      <th>...</th>\n",
       "      <td>...</td>\n",
       "      <td>...</td>\n",
       "      <td>...</td>\n",
       "      <td>...</td>\n",
       "      <td>...</td>\n",
       "      <td>...</td>\n",
       "      <td>...</td>\n",
       "      <td>...</td>\n",
       "      <td>...</td>\n",
       "      <td>...</td>\n",
       "      <td>...</td>\n",
       "    </tr>\n",
       "    <tr>\n",
       "      <th>354</th>\n",
       "      <td>Toshiba</td>\n",
       "      <td>Notebook</td>\n",
       "      <td>15.6\"</td>\n",
       "      <td>IPS Panel Full HD 1920x1080</td>\n",
       "      <td>Intel Core i7 6500U 2.5GHz</td>\n",
       "      <td>16GB</td>\n",
       "      <td>512GB SSD</td>\n",
       "      <td>Nvidia GeForce 930M</td>\n",
       "      <td>Windows</td>\n",
       "      <td>2.4kg</td>\n",
       "      <td>high</td>\n",
       "    </tr>\n",
       "    <tr>\n",
       "      <th>359</th>\n",
       "      <td>Dell</td>\n",
       "      <td>Notebook</td>\n",
       "      <td>14.0\"</td>\n",
       "      <td>Full HD 1920x1080</td>\n",
       "      <td>Intel Core i5 7300U 2.6GHz</td>\n",
       "      <td>8GB</td>\n",
       "      <td>256GB SSD</td>\n",
       "      <td>Intel HD Graphics 620</td>\n",
       "      <td>Windows</td>\n",
       "      <td>1.36kg</td>\n",
       "      <td>high</td>\n",
       "    </tr>\n",
       "    <tr>\n",
       "      <th>707</th>\n",
       "      <td>Lenovo</td>\n",
       "      <td>Workstation</td>\n",
       "      <td>15.6\"</td>\n",
       "      <td>Full HD 1920x1080</td>\n",
       "      <td>Intel Core i7 6500U 2.5GHz</td>\n",
       "      <td>16GB</td>\n",
       "      <td>512GB SSD</td>\n",
       "      <td>Nvidia Quadro M520M</td>\n",
       "      <td>Windows</td>\n",
       "      <td>2.18kg</td>\n",
       "      <td>high</td>\n",
       "    </tr>\n",
       "    <tr>\n",
       "      <th>746</th>\n",
       "      <td>Samsung</td>\n",
       "      <td>Ultrabook</td>\n",
       "      <td>13.3\"</td>\n",
       "      <td>Full HD 1920x1080</td>\n",
       "      <td>Intel Core i7 7500U 2.7GHz</td>\n",
       "      <td>16GB</td>\n",
       "      <td>256GB SSD</td>\n",
       "      <td>Intel HD Graphics 620</td>\n",
       "      <td>Windows</td>\n",
       "      <td>0.81kg</td>\n",
       "      <td>high</td>\n",
       "    </tr>\n",
       "    <tr>\n",
       "      <th>486</th>\n",
       "      <td>Dell</td>\n",
       "      <td>Workstation</td>\n",
       "      <td>15.6\"</td>\n",
       "      <td>IPS Panel Full HD 1920x1080</td>\n",
       "      <td>Intel Core i7 6820HQ 2.7GHz</td>\n",
       "      <td>16GB</td>\n",
       "      <td>512GB SSD</td>\n",
       "      <td>Nvidia Quadro M620</td>\n",
       "      <td>Windows</td>\n",
       "      <td>2.17kg</td>\n",
       "      <td>high</td>\n",
       "    </tr>\n",
       "  </tbody>\n",
       "</table>\n",
       "<p>969 rows × 11 columns</p>\n",
       "</div>"
      ],
      "text/plain": [
       "    manufacturer     category screen_size                   resolution  \\\n",
       "279       Lenovo     Notebook       17.3\"            Full HD 1920x1080   \n",
       "705         Dell     Notebook       15.6\"            Full HD 1920x1080   \n",
       "368         Dell     Notebook       15.6\"            Full HD 1920x1080   \n",
       "367       Lenovo       Gaming       15.6\"  IPS Panel Full HD 1920x1080   \n",
       "365           HP     Notebook       15.6\"                     1366x768   \n",
       "..           ...          ...         ...                          ...   \n",
       "354      Toshiba     Notebook       15.6\"  IPS Panel Full HD 1920x1080   \n",
       "359         Dell     Notebook       14.0\"            Full HD 1920x1080   \n",
       "707       Lenovo  Workstation       15.6\"            Full HD 1920x1080   \n",
       "746      Samsung    Ultrabook       13.3\"            Full HD 1920x1080   \n",
       "486         Dell  Workstation       15.6\"  IPS Panel Full HD 1920x1080   \n",
       "\n",
       "                                      cpu   ram               storage  \\\n",
       "279            Intel Core i7 8550U 1.8GHz   8GB               2TB HDD   \n",
       "705            Intel Core i5 7200U 2.5GHz   8GB             256GB SSD   \n",
       "368            Intel Core i7 7500U 2.7GHz   8GB             256GB SSD   \n",
       "367           Intel Core i5 7300HQ 2.5GHz   8GB  128GB SSD +  1TB HDD   \n",
       "365  Intel Pentium Quad Core N3710 1.6GHz   8GB               2TB HDD   \n",
       "..                                    ...   ...                   ...   \n",
       "354            Intel Core i7 6500U 2.5GHz  16GB             512GB SSD   \n",
       "359            Intel Core i5 7300U 2.6GHz   8GB             256GB SSD   \n",
       "707            Intel Core i7 6500U 2.5GHz  16GB             512GB SSD   \n",
       "746            Intel Core i7 7500U 2.7GHz  16GB             256GB SSD   \n",
       "486           Intel Core i7 6820HQ 2.7GHz  16GB             512GB SSD   \n",
       "\n",
       "                         gpu       os  weight price_range  \n",
       "279     Nvidia GeForce MX150    No OS   2.8kg         low  \n",
       "705    Intel HD Graphics 620  Windows  2.18kg         low  \n",
       "368       AMD Radeon R7 M445  Windows  2.33kg         low  \n",
       "367  Nvidia GeForce GTX 1050    No OS   2.4kg         low  \n",
       "365    Intel HD Graphics 405  Windows  2.04kg         low  \n",
       "..                       ...      ...     ...         ...  \n",
       "354      Nvidia GeForce 930M  Windows   2.4kg        high  \n",
       "359    Intel HD Graphics 620  Windows  1.36kg        high  \n",
       "707      Nvidia Quadro M520M  Windows  2.18kg        high  \n",
       "746    Intel HD Graphics 620  Windows  0.81kg        high  \n",
       "486       Nvidia Quadro M620  Windows  2.17kg        high  \n",
       "\n",
       "[969 rows x 11 columns]"
      ]
     },
     "execution_count": 243,
     "metadata": {},
     "output_type": "execute_result"
    }
   ],
   "source": [
    "laptops_train"
   ]
  },
  {
   "cell_type": "code",
   "execution_count": 244,
   "id": "483aff6f-9950-4a94-94a3-9ed9131e4151",
   "metadata": {},
   "outputs": [
    {
     "data": {
      "application/vnd.plotly.v1+json": {
       "config": {
        "plotlyServerURL": "https://plot.ly"
       },
       "data": [
        {
         "alignmentgroup": "True",
         "bingroup": "x",
         "hovertemplate": "price_range=%{x}<br>count=%{y}<extra></extra>",
         "legendgroup": "",
         "marker": {
          "color": "#636efa",
          "pattern": {
           "shape": ""
          }
         },
         "name": "",
         "offsetgroup": "",
         "orientation": "v",
         "showlegend": false,
         "type": "histogram",
         "x": [
          "low",
          "low",
          "low",
          "low",
          "low",
          "low",
          "low",
          "low",
          "low",
          "low",
          "low",
          "low",
          "low",
          "low",
          "low",
          "low",
          "low",
          "low",
          "low",
          "low",
          "low",
          "low",
          "low",
          "low",
          "low",
          "low",
          "low",
          "low",
          "low",
          "low",
          "low",
          "low",
          "low",
          "low",
          "low",
          "low",
          "low",
          "low",
          "low",
          "low",
          "low",
          "low",
          "low",
          "low",
          "low",
          "low",
          "low",
          "low",
          "low",
          "low",
          "low",
          "low",
          "low",
          "low",
          "low",
          "low",
          "low",
          "low",
          "low",
          "low",
          "low",
          "low",
          "low",
          "low",
          "low",
          "low",
          "low",
          "low",
          "low",
          "low",
          "low",
          "low",
          "low",
          "low",
          "low",
          "low",
          "low",
          "low",
          "low",
          "low",
          "low",
          "low",
          "low",
          "low",
          "low",
          "low",
          "low",
          "low",
          "low",
          "low",
          "low",
          "low",
          "low",
          "low",
          "low",
          "low",
          "low",
          "low",
          "low",
          "low",
          "low",
          "low",
          "low",
          "low",
          "low",
          "low",
          "low",
          "low",
          "low",
          "low",
          "low",
          "low",
          "low",
          "low",
          "low",
          "low",
          "low",
          "low",
          "low",
          "low",
          "low",
          "low",
          "low",
          "low",
          "low",
          "low",
          "low",
          "low",
          "low",
          "low",
          "low",
          "low",
          "low",
          "low",
          "low",
          "low",
          "low",
          "low",
          "low",
          "low",
          "low",
          "low",
          "low",
          "low",
          "low",
          "low",
          "low",
          "low",
          "low",
          "low",
          "low",
          "low",
          "low",
          "low",
          "low",
          "low",
          "low",
          "low",
          "low",
          "low",
          "low",
          "low",
          "low",
          "low",
          "low",
          "low",
          "low",
          "low",
          "low",
          "low",
          "low",
          "low",
          "low",
          "low",
          "low",
          "low",
          "low",
          "low",
          "low",
          "low",
          "low",
          "low",
          "low",
          "low",
          "low",
          "low",
          "low",
          "low",
          "low",
          "low",
          "low",
          "low",
          "low",
          "low",
          "low",
          "low",
          "low",
          "low",
          "low",
          "low",
          "low",
          "low",
          "low",
          "low",
          "low",
          "low",
          "low",
          "low",
          "low",
          "low",
          "low",
          "low",
          "low",
          "low",
          "low",
          "low",
          "low",
          "low",
          "low",
          "low",
          "low",
          "low",
          "low",
          "low",
          "low",
          "low",
          "low",
          "low",
          "low",
          "low",
          "low",
          "low",
          "low",
          "low",
          "low",
          "low",
          "low",
          "low",
          "low",
          "low",
          "low",
          "low",
          "low",
          "low",
          "low",
          "low",
          "low",
          "low",
          "low",
          "low",
          "low",
          "low",
          "low",
          "low",
          "low",
          "low",
          "low",
          "low",
          "low",
          "low",
          "low",
          "low",
          "low",
          "low",
          "low",
          "low",
          "low",
          "low",
          "low",
          "low",
          "low",
          "low",
          "low",
          "low",
          "low",
          "low",
          "low",
          "low",
          "low",
          "low",
          "low",
          "low",
          "low",
          "low",
          "low",
          "low",
          "low",
          "low",
          "low",
          "low",
          "low",
          "low",
          "low",
          "low",
          "low",
          "low",
          "low",
          "low",
          "low",
          "low",
          "low",
          "low",
          "low",
          "low",
          "low",
          "low",
          "low",
          "low",
          "low",
          "low",
          "low",
          "low",
          "low",
          "low",
          "low",
          "low",
          "low",
          "low",
          "low",
          "low",
          "low",
          "low",
          "low",
          "low",
          "low",
          "low",
          "low",
          "low",
          "low",
          "low",
          "low",
          "low",
          "low",
          "low",
          "low",
          "low",
          "low",
          "low",
          "low",
          "low",
          "low",
          "low",
          "low",
          "low",
          "low",
          "low",
          "low",
          "low",
          "low",
          "low",
          "low",
          "low",
          "low",
          "low",
          "low",
          "low",
          "low",
          "low",
          "low",
          "low",
          "low",
          "low",
          "low",
          "low",
          "low",
          "low",
          "low",
          "low",
          "low",
          "low",
          "low",
          "low",
          "low",
          "low",
          "low",
          "low",
          "low",
          "low",
          "low",
          "low",
          "low",
          "low",
          "low",
          "low",
          "low",
          "low",
          "low",
          "low",
          "low",
          "low",
          "low",
          "low",
          "low",
          "low",
          "low",
          "low",
          "low",
          "low",
          "low",
          "low",
          "low",
          "low",
          "low",
          "low",
          "low",
          "low",
          "low",
          "low",
          "low",
          "low",
          "low",
          "low",
          "low",
          "low",
          "low",
          "low",
          "low",
          "low",
          "low",
          "low",
          "low",
          "low",
          "low",
          "low",
          "low",
          "low",
          "low",
          "low",
          "low",
          "low",
          "low",
          "low",
          "low",
          "low",
          "low",
          "low",
          "low",
          "low",
          "low",
          "low",
          "low",
          "low",
          "low",
          "low",
          "low",
          "low",
          "low",
          "low",
          "low",
          "low",
          "low",
          "low",
          "low",
          "low",
          "low",
          "low",
          "low",
          "low",
          "low",
          "low",
          "low",
          "low",
          "low",
          "mid",
          "mid",
          "mid",
          "mid",
          "mid",
          "mid",
          "mid",
          "mid",
          "mid",
          "mid",
          "mid",
          "mid",
          "mid",
          "mid",
          "mid",
          "mid",
          "mid",
          "mid",
          "mid",
          "mid",
          "mid",
          "mid",
          "mid",
          "mid",
          "mid",
          "mid",
          "mid",
          "mid",
          "mid",
          "mid",
          "mid",
          "mid",
          "mid",
          "mid",
          "mid",
          "mid",
          "mid",
          "mid",
          "mid",
          "mid",
          "mid",
          "mid",
          "mid",
          "mid",
          "mid",
          "mid",
          "mid",
          "mid",
          "mid",
          "mid",
          "mid",
          "mid",
          "mid",
          "mid",
          "mid",
          "mid",
          "mid",
          "mid",
          "mid",
          "mid",
          "mid",
          "mid",
          "mid",
          "mid",
          "mid",
          "mid",
          "mid",
          "mid",
          "mid",
          "mid",
          "mid",
          "mid",
          "mid",
          "mid",
          "mid",
          "mid",
          "mid",
          "mid",
          "mid",
          "mid",
          "mid",
          "mid",
          "mid",
          "mid",
          "mid",
          "mid",
          "mid",
          "mid",
          "mid",
          "mid",
          "mid",
          "mid",
          "mid",
          "mid",
          "mid",
          "mid",
          "mid",
          "mid",
          "mid",
          "mid",
          "mid",
          "mid",
          "mid",
          "mid",
          "mid",
          "mid",
          "mid",
          "mid",
          "mid",
          "mid",
          "mid",
          "mid",
          "mid",
          "mid",
          "mid",
          "mid",
          "mid",
          "mid",
          "mid",
          "mid",
          "mid",
          "mid",
          "mid",
          "mid",
          "mid",
          "mid",
          "mid",
          "mid",
          "mid",
          "mid",
          "mid",
          "mid",
          "mid",
          "mid",
          "mid",
          "mid",
          "mid",
          "mid",
          "mid",
          "mid",
          "mid",
          "mid",
          "mid",
          "mid",
          "mid",
          "mid",
          "mid",
          "mid",
          "mid",
          "mid",
          "mid",
          "mid",
          "mid",
          "mid",
          "mid",
          "mid",
          "mid",
          "mid",
          "mid",
          "mid",
          "mid",
          "mid",
          "mid",
          "mid",
          "mid",
          "mid",
          "mid",
          "mid",
          "mid",
          "mid",
          "mid",
          "mid",
          "mid",
          "mid",
          "mid",
          "mid",
          "mid",
          "mid",
          "mid",
          "mid",
          "mid",
          "mid",
          "mid",
          "mid",
          "mid",
          "mid",
          "mid",
          "mid",
          "mid",
          "mid",
          "mid",
          "mid",
          "mid",
          "mid",
          "mid",
          "mid",
          "mid",
          "mid",
          "mid",
          "mid",
          "mid",
          "mid",
          "mid",
          "mid",
          "mid",
          "mid",
          "mid",
          "mid",
          "mid",
          "mid",
          "mid",
          "mid",
          "mid",
          "mid",
          "mid",
          "mid",
          "mid",
          "mid",
          "mid",
          "mid",
          "mid",
          "mid",
          "mid",
          "mid",
          "mid",
          "mid",
          "mid",
          "mid",
          "mid",
          "mid",
          "mid",
          "mid",
          "mid",
          "mid",
          "mid",
          "mid",
          "mid",
          "high",
          "high",
          "high",
          "high",
          "high",
          "high",
          "high",
          "high",
          "high",
          "high",
          "high",
          "high",
          "high",
          "high",
          "high",
          "high",
          "high",
          "high",
          "high",
          "high",
          "high",
          "high",
          "high",
          "high",
          "high",
          "high",
          "high",
          "high",
          "high",
          "high",
          "high",
          "high",
          "high",
          "high",
          "high",
          "high",
          "high",
          "high",
          "high",
          "high",
          "high",
          "high",
          "high",
          "high",
          "high",
          "high",
          "high",
          "high",
          "high",
          "high",
          "high",
          "high",
          "high",
          "high",
          "high",
          "high",
          "high",
          "high",
          "high",
          "high",
          "high",
          "high",
          "high",
          "high",
          "high",
          "high",
          "high",
          "high",
          "high",
          "high",
          "high",
          "high",
          "high",
          "high",
          "high",
          "high",
          "high",
          "high",
          "high",
          "high",
          "high",
          "high",
          "high",
          "high",
          "high",
          "high",
          "high",
          "high",
          "high",
          "high",
          "high",
          "high",
          "high",
          "high",
          "high",
          "high",
          "high",
          "high",
          "high",
          "high",
          "high",
          "high",
          "high",
          "high",
          "high",
          "high",
          "high",
          "high",
          "high",
          "high",
          "high",
          "high",
          "high",
          "high",
          "high",
          "high",
          "high",
          "high",
          "high",
          "high",
          "high",
          "high",
          "high",
          "high",
          "high",
          "high",
          "high",
          "high",
          "high",
          "high",
          "high",
          "high",
          "high",
          "high",
          "high",
          "high",
          "high",
          "high",
          "high",
          "high",
          "high",
          "high",
          "high",
          "high",
          "high",
          "high",
          "high",
          "high",
          "high",
          "high",
          "high",
          "high",
          "high",
          "high",
          "high",
          "high",
          "high",
          "high",
          "high",
          "high",
          "high",
          "high",
          "high",
          "high",
          "high",
          "high",
          "high",
          "high",
          "high",
          "high",
          "high",
          "high",
          "high",
          "high",
          "high",
          "high",
          "high",
          "high",
          "high",
          "high",
          "high",
          "high",
          "high",
          "high",
          "high",
          "high",
          "high",
          "high",
          "high",
          "high",
          "high",
          "high",
          "high",
          "high",
          "high",
          "high",
          "high",
          "high",
          "high",
          "high",
          "high",
          "high",
          "high",
          "high",
          "high",
          "high",
          "high",
          "high",
          "high",
          "high",
          "high",
          "high",
          "high",
          "high",
          "high",
          "high",
          "high",
          "high",
          "high",
          "high",
          "high",
          "high",
          "high",
          "high",
          "high",
          "high",
          "high",
          "high",
          "high",
          "high",
          "high",
          "high",
          "high",
          "high",
          "high",
          "high",
          "high",
          "high",
          "high",
          "high",
          "high",
          "high",
          "high",
          "high",
          "high",
          "high",
          "high",
          "high",
          "high",
          "high",
          "high",
          "high",
          "high",
          "high",
          "high",
          "high",
          "high",
          "high",
          "high",
          "high",
          "high",
          "high",
          "high",
          "high",
          "high",
          "high",
          "high",
          "high",
          "high"
         ],
         "xaxis": "x",
         "yaxis": "y"
        }
       ],
       "layout": {
        "autosize": true,
        "barmode": "relative",
        "legend": {
         "tracegroupgap": 0
        },
        "margin": {
         "t": 60
        },
        "template": {
         "data": {
          "bar": [
           {
            "error_x": {
             "color": "#2a3f5f"
            },
            "error_y": {
             "color": "#2a3f5f"
            },
            "marker": {
             "line": {
              "color": "#E5ECF6",
              "width": 0.5
             },
             "pattern": {
              "fillmode": "overlay",
              "size": 10,
              "solidity": 0.2
             }
            },
            "type": "bar"
           }
          ],
          "barpolar": [
           {
            "marker": {
             "line": {
              "color": "#E5ECF6",
              "width": 0.5
             },
             "pattern": {
              "fillmode": "overlay",
              "size": 10,
              "solidity": 0.2
             }
            },
            "type": "barpolar"
           }
          ],
          "carpet": [
           {
            "aaxis": {
             "endlinecolor": "#2a3f5f",
             "gridcolor": "white",
             "linecolor": "white",
             "minorgridcolor": "white",
             "startlinecolor": "#2a3f5f"
            },
            "baxis": {
             "endlinecolor": "#2a3f5f",
             "gridcolor": "white",
             "linecolor": "white",
             "minorgridcolor": "white",
             "startlinecolor": "#2a3f5f"
            },
            "type": "carpet"
           }
          ],
          "choropleth": [
           {
            "colorbar": {
             "outlinewidth": 0,
             "ticks": ""
            },
            "type": "choropleth"
           }
          ],
          "contour": [
           {
            "colorbar": {
             "outlinewidth": 0,
             "ticks": ""
            },
            "colorscale": [
             [
              0,
              "#0d0887"
             ],
             [
              0.1111111111111111,
              "#46039f"
             ],
             [
              0.2222222222222222,
              "#7201a8"
             ],
             [
              0.3333333333333333,
              "#9c179e"
             ],
             [
              0.4444444444444444,
              "#bd3786"
             ],
             [
              0.5555555555555556,
              "#d8576b"
             ],
             [
              0.6666666666666666,
              "#ed7953"
             ],
             [
              0.7777777777777778,
              "#fb9f3a"
             ],
             [
              0.8888888888888888,
              "#fdca26"
             ],
             [
              1,
              "#f0f921"
             ]
            ],
            "type": "contour"
           }
          ],
          "contourcarpet": [
           {
            "colorbar": {
             "outlinewidth": 0,
             "ticks": ""
            },
            "type": "contourcarpet"
           }
          ],
          "heatmap": [
           {
            "colorbar": {
             "outlinewidth": 0,
             "ticks": ""
            },
            "colorscale": [
             [
              0,
              "#0d0887"
             ],
             [
              0.1111111111111111,
              "#46039f"
             ],
             [
              0.2222222222222222,
              "#7201a8"
             ],
             [
              0.3333333333333333,
              "#9c179e"
             ],
             [
              0.4444444444444444,
              "#bd3786"
             ],
             [
              0.5555555555555556,
              "#d8576b"
             ],
             [
              0.6666666666666666,
              "#ed7953"
             ],
             [
              0.7777777777777778,
              "#fb9f3a"
             ],
             [
              0.8888888888888888,
              "#fdca26"
             ],
             [
              1,
              "#f0f921"
             ]
            ],
            "type": "heatmap"
           }
          ],
          "heatmapgl": [
           {
            "colorbar": {
             "outlinewidth": 0,
             "ticks": ""
            },
            "colorscale": [
             [
              0,
              "#0d0887"
             ],
             [
              0.1111111111111111,
              "#46039f"
             ],
             [
              0.2222222222222222,
              "#7201a8"
             ],
             [
              0.3333333333333333,
              "#9c179e"
             ],
             [
              0.4444444444444444,
              "#bd3786"
             ],
             [
              0.5555555555555556,
              "#d8576b"
             ],
             [
              0.6666666666666666,
              "#ed7953"
             ],
             [
              0.7777777777777778,
              "#fb9f3a"
             ],
             [
              0.8888888888888888,
              "#fdca26"
             ],
             [
              1,
              "#f0f921"
             ]
            ],
            "type": "heatmapgl"
           }
          ],
          "histogram": [
           {
            "marker": {
             "pattern": {
              "fillmode": "overlay",
              "size": 10,
              "solidity": 0.2
             }
            },
            "type": "histogram"
           }
          ],
          "histogram2d": [
           {
            "colorbar": {
             "outlinewidth": 0,
             "ticks": ""
            },
            "colorscale": [
             [
              0,
              "#0d0887"
             ],
             [
              0.1111111111111111,
              "#46039f"
             ],
             [
              0.2222222222222222,
              "#7201a8"
             ],
             [
              0.3333333333333333,
              "#9c179e"
             ],
             [
              0.4444444444444444,
              "#bd3786"
             ],
             [
              0.5555555555555556,
              "#d8576b"
             ],
             [
              0.6666666666666666,
              "#ed7953"
             ],
             [
              0.7777777777777778,
              "#fb9f3a"
             ],
             [
              0.8888888888888888,
              "#fdca26"
             ],
             [
              1,
              "#f0f921"
             ]
            ],
            "type": "histogram2d"
           }
          ],
          "histogram2dcontour": [
           {
            "colorbar": {
             "outlinewidth": 0,
             "ticks": ""
            },
            "colorscale": [
             [
              0,
              "#0d0887"
             ],
             [
              0.1111111111111111,
              "#46039f"
             ],
             [
              0.2222222222222222,
              "#7201a8"
             ],
             [
              0.3333333333333333,
              "#9c179e"
             ],
             [
              0.4444444444444444,
              "#bd3786"
             ],
             [
              0.5555555555555556,
              "#d8576b"
             ],
             [
              0.6666666666666666,
              "#ed7953"
             ],
             [
              0.7777777777777778,
              "#fb9f3a"
             ],
             [
              0.8888888888888888,
              "#fdca26"
             ],
             [
              1,
              "#f0f921"
             ]
            ],
            "type": "histogram2dcontour"
           }
          ],
          "mesh3d": [
           {
            "colorbar": {
             "outlinewidth": 0,
             "ticks": ""
            },
            "type": "mesh3d"
           }
          ],
          "parcoords": [
           {
            "line": {
             "colorbar": {
              "outlinewidth": 0,
              "ticks": ""
             }
            },
            "type": "parcoords"
           }
          ],
          "pie": [
           {
            "automargin": true,
            "type": "pie"
           }
          ],
          "scatter": [
           {
            "fillpattern": {
             "fillmode": "overlay",
             "size": 10,
             "solidity": 0.2
            },
            "type": "scatter"
           }
          ],
          "scatter3d": [
           {
            "line": {
             "colorbar": {
              "outlinewidth": 0,
              "ticks": ""
             }
            },
            "marker": {
             "colorbar": {
              "outlinewidth": 0,
              "ticks": ""
             }
            },
            "type": "scatter3d"
           }
          ],
          "scattercarpet": [
           {
            "marker": {
             "colorbar": {
              "outlinewidth": 0,
              "ticks": ""
             }
            },
            "type": "scattercarpet"
           }
          ],
          "scattergeo": [
           {
            "marker": {
             "colorbar": {
              "outlinewidth": 0,
              "ticks": ""
             }
            },
            "type": "scattergeo"
           }
          ],
          "scattergl": [
           {
            "marker": {
             "colorbar": {
              "outlinewidth": 0,
              "ticks": ""
             }
            },
            "type": "scattergl"
           }
          ],
          "scattermapbox": [
           {
            "marker": {
             "colorbar": {
              "outlinewidth": 0,
              "ticks": ""
             }
            },
            "type": "scattermapbox"
           }
          ],
          "scatterpolar": [
           {
            "marker": {
             "colorbar": {
              "outlinewidth": 0,
              "ticks": ""
             }
            },
            "type": "scatterpolar"
           }
          ],
          "scatterpolargl": [
           {
            "marker": {
             "colorbar": {
              "outlinewidth": 0,
              "ticks": ""
             }
            },
            "type": "scatterpolargl"
           }
          ],
          "scatterternary": [
           {
            "marker": {
             "colorbar": {
              "outlinewidth": 0,
              "ticks": ""
             }
            },
            "type": "scatterternary"
           }
          ],
          "surface": [
           {
            "colorbar": {
             "outlinewidth": 0,
             "ticks": ""
            },
            "colorscale": [
             [
              0,
              "#0d0887"
             ],
             [
              0.1111111111111111,
              "#46039f"
             ],
             [
              0.2222222222222222,
              "#7201a8"
             ],
             [
              0.3333333333333333,
              "#9c179e"
             ],
             [
              0.4444444444444444,
              "#bd3786"
             ],
             [
              0.5555555555555556,
              "#d8576b"
             ],
             [
              0.6666666666666666,
              "#ed7953"
             ],
             [
              0.7777777777777778,
              "#fb9f3a"
             ],
             [
              0.8888888888888888,
              "#fdca26"
             ],
             [
              1,
              "#f0f921"
             ]
            ],
            "type": "surface"
           }
          ],
          "table": [
           {
            "cells": {
             "fill": {
              "color": "#EBF0F8"
             },
             "line": {
              "color": "white"
             }
            },
            "header": {
             "fill": {
              "color": "#C8D4E3"
             },
             "line": {
              "color": "white"
             }
            },
            "type": "table"
           }
          ]
         },
         "layout": {
          "annotationdefaults": {
           "arrowcolor": "#2a3f5f",
           "arrowhead": 0,
           "arrowwidth": 1
          },
          "autotypenumbers": "strict",
          "coloraxis": {
           "colorbar": {
            "outlinewidth": 0,
            "ticks": ""
           }
          },
          "colorscale": {
           "diverging": [
            [
             0,
             "#8e0152"
            ],
            [
             0.1,
             "#c51b7d"
            ],
            [
             0.2,
             "#de77ae"
            ],
            [
             0.3,
             "#f1b6da"
            ],
            [
             0.4,
             "#fde0ef"
            ],
            [
             0.5,
             "#f7f7f7"
            ],
            [
             0.6,
             "#e6f5d0"
            ],
            [
             0.7,
             "#b8e186"
            ],
            [
             0.8,
             "#7fbc41"
            ],
            [
             0.9,
             "#4d9221"
            ],
            [
             1,
             "#276419"
            ]
           ],
           "sequential": [
            [
             0,
             "#0d0887"
            ],
            [
             0.1111111111111111,
             "#46039f"
            ],
            [
             0.2222222222222222,
             "#7201a8"
            ],
            [
             0.3333333333333333,
             "#9c179e"
            ],
            [
             0.4444444444444444,
             "#bd3786"
            ],
            [
             0.5555555555555556,
             "#d8576b"
            ],
            [
             0.6666666666666666,
             "#ed7953"
            ],
            [
             0.7777777777777778,
             "#fb9f3a"
            ],
            [
             0.8888888888888888,
             "#fdca26"
            ],
            [
             1,
             "#f0f921"
            ]
           ],
           "sequentialminus": [
            [
             0,
             "#0d0887"
            ],
            [
             0.1111111111111111,
             "#46039f"
            ],
            [
             0.2222222222222222,
             "#7201a8"
            ],
            [
             0.3333333333333333,
             "#9c179e"
            ],
            [
             0.4444444444444444,
             "#bd3786"
            ],
            [
             0.5555555555555556,
             "#d8576b"
            ],
            [
             0.6666666666666666,
             "#ed7953"
            ],
            [
             0.7777777777777778,
             "#fb9f3a"
            ],
            [
             0.8888888888888888,
             "#fdca26"
            ],
            [
             1,
             "#f0f921"
            ]
           ]
          },
          "colorway": [
           "#636efa",
           "#EF553B",
           "#00cc96",
           "#ab63fa",
           "#FFA15A",
           "#19d3f3",
           "#FF6692",
           "#B6E880",
           "#FF97FF",
           "#FECB52"
          ],
          "font": {
           "color": "#2a3f5f"
          },
          "geo": {
           "bgcolor": "white",
           "lakecolor": "white",
           "landcolor": "#E5ECF6",
           "showlakes": true,
           "showland": true,
           "subunitcolor": "white"
          },
          "hoverlabel": {
           "align": "left"
          },
          "hovermode": "closest",
          "mapbox": {
           "style": "light"
          },
          "paper_bgcolor": "white",
          "plot_bgcolor": "#E5ECF6",
          "polar": {
           "angularaxis": {
            "gridcolor": "white",
            "linecolor": "white",
            "ticks": ""
           },
           "bgcolor": "#E5ECF6",
           "radialaxis": {
            "gridcolor": "white",
            "linecolor": "white",
            "ticks": ""
           }
          },
          "scene": {
           "xaxis": {
            "backgroundcolor": "#E5ECF6",
            "gridcolor": "white",
            "gridwidth": 2,
            "linecolor": "white",
            "showbackground": true,
            "ticks": "",
            "zerolinecolor": "white"
           },
           "yaxis": {
            "backgroundcolor": "#E5ECF6",
            "gridcolor": "white",
            "gridwidth": 2,
            "linecolor": "white",
            "showbackground": true,
            "ticks": "",
            "zerolinecolor": "white"
           },
           "zaxis": {
            "backgroundcolor": "#E5ECF6",
            "gridcolor": "white",
            "gridwidth": 2,
            "linecolor": "white",
            "showbackground": true,
            "ticks": "",
            "zerolinecolor": "white"
           }
          },
          "shapedefaults": {
           "line": {
            "color": "#2a3f5f"
           }
          },
          "ternary": {
           "aaxis": {
            "gridcolor": "white",
            "linecolor": "white",
            "ticks": ""
           },
           "baxis": {
            "gridcolor": "white",
            "linecolor": "white",
            "ticks": ""
           },
           "bgcolor": "#E5ECF6",
           "caxis": {
            "gridcolor": "white",
            "linecolor": "white",
            "ticks": ""
           }
          },
          "title": {
           "x": 0.05
          },
          "xaxis": {
           "automargin": true,
           "gridcolor": "white",
           "linecolor": "white",
           "ticks": "",
           "title": {
            "standoff": 15
           },
           "zerolinecolor": "white",
           "zerolinewidth": 2
          },
          "yaxis": {
           "automargin": true,
           "gridcolor": "white",
           "linecolor": "white",
           "ticks": "",
           "title": {
            "standoff": 15
           },
           "zerolinecolor": "white",
           "zerolinewidth": 2
          }
         }
        },
        "xaxis": {
         "anchor": "y",
         "autorange": true,
         "domain": [
          0,
          1
         ],
         "range": [
          -0.5,
          2.5
         ],
         "title": {
          "text": "price_range"
         },
         "type": "category"
        },
        "yaxis": {
         "anchor": "x",
         "autorange": true,
         "domain": [
          0,
          1
         ],
         "range": [
          0,
          487.36842105263156
         ],
         "title": {
          "text": "count"
         }
        }
       }
      },
      "text/html": [
       "<div>                            <div id=\"30fd586f-302f-404c-8054-2b2864f2c353\" class=\"plotly-graph-div\" style=\"height:525px; width:100%;\"></div>            <script type=\"text/javascript\">                require([\"plotly\"], function(Plotly) {                    window.PLOTLYENV=window.PLOTLYENV || {};                                    if (document.getElementById(\"30fd586f-302f-404c-8054-2b2864f2c353\")) {                    Plotly.newPlot(                        \"30fd586f-302f-404c-8054-2b2864f2c353\",                        [{\"alignmentgroup\":\"True\",\"bingroup\":\"x\",\"hovertemplate\":\"price_range=%{x}\\u003cbr\\u003ecount=%{y}\\u003cextra\\u003e\\u003c\\u002fextra\\u003e\",\"legendgroup\":\"\",\"marker\":{\"color\":\"#636efa\",\"pattern\":{\"shape\":\"\"}},\"name\":\"\",\"offsetgroup\":\"\",\"orientation\":\"v\",\"showlegend\":false,\"x\":[\"low\",\"low\",\"low\",\"low\",\"low\",\"low\",\"low\",\"low\",\"low\",\"low\",\"low\",\"low\",\"low\",\"low\",\"low\",\"low\",\"low\",\"low\",\"low\",\"low\",\"low\",\"low\",\"low\",\"low\",\"low\",\"low\",\"low\",\"low\",\"low\",\"low\",\"low\",\"low\",\"low\",\"low\",\"low\",\"low\",\"low\",\"low\",\"low\",\"low\",\"low\",\"low\",\"low\",\"low\",\"low\",\"low\",\"low\",\"low\",\"low\",\"low\",\"low\",\"low\",\"low\",\"low\",\"low\",\"low\",\"low\",\"low\",\"low\",\"low\",\"low\",\"low\",\"low\",\"low\",\"low\",\"low\",\"low\",\"low\",\"low\",\"low\",\"low\",\"low\",\"low\",\"low\",\"low\",\"low\",\"low\",\"low\",\"low\",\"low\",\"low\",\"low\",\"low\",\"low\",\"low\",\"low\",\"low\",\"low\",\"low\",\"low\",\"low\",\"low\",\"low\",\"low\",\"low\",\"low\",\"low\",\"low\",\"low\",\"low\",\"low\",\"low\",\"low\",\"low\",\"low\",\"low\",\"low\",\"low\",\"low\",\"low\",\"low\",\"low\",\"low\",\"low\",\"low\",\"low\",\"low\",\"low\",\"low\",\"low\",\"low\",\"low\",\"low\",\"low\",\"low\",\"low\",\"low\",\"low\",\"low\",\"low\",\"low\",\"low\",\"low\",\"low\",\"low\",\"low\",\"low\",\"low\",\"low\",\"low\",\"low\",\"low\",\"low\",\"low\",\"low\",\"low\",\"low\",\"low\",\"low\",\"low\",\"low\",\"low\",\"low\",\"low\",\"low\",\"low\",\"low\",\"low\",\"low\",\"low\",\"low\",\"low\",\"low\",\"low\",\"low\",\"low\",\"low\",\"low\",\"low\",\"low\",\"low\",\"low\",\"low\",\"low\",\"low\",\"low\",\"low\",\"low\",\"low\",\"low\",\"low\",\"low\",\"low\",\"low\",\"low\",\"low\",\"low\",\"low\",\"low\",\"low\",\"low\",\"low\",\"low\",\"low\",\"low\",\"low\",\"low\",\"low\",\"low\",\"low\",\"low\",\"low\",\"low\",\"low\",\"low\",\"low\",\"low\",\"low\",\"low\",\"low\",\"low\",\"low\",\"low\",\"low\",\"low\",\"low\",\"low\",\"low\",\"low\",\"low\",\"low\",\"low\",\"low\",\"low\",\"low\",\"low\",\"low\",\"low\",\"low\",\"low\",\"low\",\"low\",\"low\",\"low\",\"low\",\"low\",\"low\",\"low\",\"low\",\"low\",\"low\",\"low\",\"low\",\"low\",\"low\",\"low\",\"low\",\"low\",\"low\",\"low\",\"low\",\"low\",\"low\",\"low\",\"low\",\"low\",\"low\",\"low\",\"low\",\"low\",\"low\",\"low\",\"low\",\"low\",\"low\",\"low\",\"low\",\"low\",\"low\",\"low\",\"low\",\"low\",\"low\",\"low\",\"low\",\"low\",\"low\",\"low\",\"low\",\"low\",\"low\",\"low\",\"low\",\"low\",\"low\",\"low\",\"low\",\"low\",\"low\",\"low\",\"low\",\"low\",\"low\",\"low\",\"low\",\"low\",\"low\",\"low\",\"low\",\"low\",\"low\",\"low\",\"low\",\"low\",\"low\",\"low\",\"low\",\"low\",\"low\",\"low\",\"low\",\"low\",\"low\",\"low\",\"low\",\"low\",\"low\",\"low\",\"low\",\"low\",\"low\",\"low\",\"low\",\"low\",\"low\",\"low\",\"low\",\"low\",\"low\",\"low\",\"low\",\"low\",\"low\",\"low\",\"low\",\"low\",\"low\",\"low\",\"low\",\"low\",\"low\",\"low\",\"low\",\"low\",\"low\",\"low\",\"low\",\"low\",\"low\",\"low\",\"low\",\"low\",\"low\",\"low\",\"low\",\"low\",\"low\",\"low\",\"low\",\"low\",\"low\",\"low\",\"low\",\"low\",\"low\",\"low\",\"low\",\"low\",\"low\",\"low\",\"low\",\"low\",\"low\",\"low\",\"low\",\"low\",\"low\",\"low\",\"low\",\"low\",\"low\",\"low\",\"low\",\"low\",\"low\",\"low\",\"low\",\"low\",\"low\",\"low\",\"low\",\"low\",\"low\",\"low\",\"low\",\"low\",\"low\",\"low\",\"low\",\"low\",\"low\",\"low\",\"low\",\"low\",\"low\",\"low\",\"low\",\"low\",\"low\",\"low\",\"low\",\"low\",\"low\",\"low\",\"low\",\"low\",\"low\",\"low\",\"low\",\"low\",\"low\",\"low\",\"low\",\"low\",\"low\",\"low\",\"low\",\"low\",\"low\",\"low\",\"low\",\"low\",\"low\",\"low\",\"low\",\"low\",\"low\",\"low\",\"low\",\"low\",\"low\",\"low\",\"low\",\"low\",\"low\",\"low\",\"low\",\"low\",\"low\",\"low\",\"low\",\"low\",\"low\",\"low\",\"low\",\"low\",\"low\",\"low\",\"low\",\"low\",\"low\",\"low\",\"low\",\"mid\",\"mid\",\"mid\",\"mid\",\"mid\",\"mid\",\"mid\",\"mid\",\"mid\",\"mid\",\"mid\",\"mid\",\"mid\",\"mid\",\"mid\",\"mid\",\"mid\",\"mid\",\"mid\",\"mid\",\"mid\",\"mid\",\"mid\",\"mid\",\"mid\",\"mid\",\"mid\",\"mid\",\"mid\",\"mid\",\"mid\",\"mid\",\"mid\",\"mid\",\"mid\",\"mid\",\"mid\",\"mid\",\"mid\",\"mid\",\"mid\",\"mid\",\"mid\",\"mid\",\"mid\",\"mid\",\"mid\",\"mid\",\"mid\",\"mid\",\"mid\",\"mid\",\"mid\",\"mid\",\"mid\",\"mid\",\"mid\",\"mid\",\"mid\",\"mid\",\"mid\",\"mid\",\"mid\",\"mid\",\"mid\",\"mid\",\"mid\",\"mid\",\"mid\",\"mid\",\"mid\",\"mid\",\"mid\",\"mid\",\"mid\",\"mid\",\"mid\",\"mid\",\"mid\",\"mid\",\"mid\",\"mid\",\"mid\",\"mid\",\"mid\",\"mid\",\"mid\",\"mid\",\"mid\",\"mid\",\"mid\",\"mid\",\"mid\",\"mid\",\"mid\",\"mid\",\"mid\",\"mid\",\"mid\",\"mid\",\"mid\",\"mid\",\"mid\",\"mid\",\"mid\",\"mid\",\"mid\",\"mid\",\"mid\",\"mid\",\"mid\",\"mid\",\"mid\",\"mid\",\"mid\",\"mid\",\"mid\",\"mid\",\"mid\",\"mid\",\"mid\",\"mid\",\"mid\",\"mid\",\"mid\",\"mid\",\"mid\",\"mid\",\"mid\",\"mid\",\"mid\",\"mid\",\"mid\",\"mid\",\"mid\",\"mid\",\"mid\",\"mid\",\"mid\",\"mid\",\"mid\",\"mid\",\"mid\",\"mid\",\"mid\",\"mid\",\"mid\",\"mid\",\"mid\",\"mid\",\"mid\",\"mid\",\"mid\",\"mid\",\"mid\",\"mid\",\"mid\",\"mid\",\"mid\",\"mid\",\"mid\",\"mid\",\"mid\",\"mid\",\"mid\",\"mid\",\"mid\",\"mid\",\"mid\",\"mid\",\"mid\",\"mid\",\"mid\",\"mid\",\"mid\",\"mid\",\"mid\",\"mid\",\"mid\",\"mid\",\"mid\",\"mid\",\"mid\",\"mid\",\"mid\",\"mid\",\"mid\",\"mid\",\"mid\",\"mid\",\"mid\",\"mid\",\"mid\",\"mid\",\"mid\",\"mid\",\"mid\",\"mid\",\"mid\",\"mid\",\"mid\",\"mid\",\"mid\",\"mid\",\"mid\",\"mid\",\"mid\",\"mid\",\"mid\",\"mid\",\"mid\",\"mid\",\"mid\",\"mid\",\"mid\",\"mid\",\"mid\",\"mid\",\"mid\",\"mid\",\"mid\",\"mid\",\"mid\",\"mid\",\"mid\",\"mid\",\"mid\",\"mid\",\"mid\",\"mid\",\"mid\",\"mid\",\"mid\",\"mid\",\"mid\",\"mid\",\"mid\",\"high\",\"high\",\"high\",\"high\",\"high\",\"high\",\"high\",\"high\",\"high\",\"high\",\"high\",\"high\",\"high\",\"high\",\"high\",\"high\",\"high\",\"high\",\"high\",\"high\",\"high\",\"high\",\"high\",\"high\",\"high\",\"high\",\"high\",\"high\",\"high\",\"high\",\"high\",\"high\",\"high\",\"high\",\"high\",\"high\",\"high\",\"high\",\"high\",\"high\",\"high\",\"high\",\"high\",\"high\",\"high\",\"high\",\"high\",\"high\",\"high\",\"high\",\"high\",\"high\",\"high\",\"high\",\"high\",\"high\",\"high\",\"high\",\"high\",\"high\",\"high\",\"high\",\"high\",\"high\",\"high\",\"high\",\"high\",\"high\",\"high\",\"high\",\"high\",\"high\",\"high\",\"high\",\"high\",\"high\",\"high\",\"high\",\"high\",\"high\",\"high\",\"high\",\"high\",\"high\",\"high\",\"high\",\"high\",\"high\",\"high\",\"high\",\"high\",\"high\",\"high\",\"high\",\"high\",\"high\",\"high\",\"high\",\"high\",\"high\",\"high\",\"high\",\"high\",\"high\",\"high\",\"high\",\"high\",\"high\",\"high\",\"high\",\"high\",\"high\",\"high\",\"high\",\"high\",\"high\",\"high\",\"high\",\"high\",\"high\",\"high\",\"high\",\"high\",\"high\",\"high\",\"high\",\"high\",\"high\",\"high\",\"high\",\"high\",\"high\",\"high\",\"high\",\"high\",\"high\",\"high\",\"high\",\"high\",\"high\",\"high\",\"high\",\"high\",\"high\",\"high\",\"high\",\"high\",\"high\",\"high\",\"high\",\"high\",\"high\",\"high\",\"high\",\"high\",\"high\",\"high\",\"high\",\"high\",\"high\",\"high\",\"high\",\"high\",\"high\",\"high\",\"high\",\"high\",\"high\",\"high\",\"high\",\"high\",\"high\",\"high\",\"high\",\"high\",\"high\",\"high\",\"high\",\"high\",\"high\",\"high\",\"high\",\"high\",\"high\",\"high\",\"high\",\"high\",\"high\",\"high\",\"high\",\"high\",\"high\",\"high\",\"high\",\"high\",\"high\",\"high\",\"high\",\"high\",\"high\",\"high\",\"high\",\"high\",\"high\",\"high\",\"high\",\"high\",\"high\",\"high\",\"high\",\"high\",\"high\",\"high\",\"high\",\"high\",\"high\",\"high\",\"high\",\"high\",\"high\",\"high\",\"high\",\"high\",\"high\",\"high\",\"high\",\"high\",\"high\",\"high\",\"high\",\"high\",\"high\",\"high\",\"high\",\"high\",\"high\",\"high\",\"high\",\"high\",\"high\",\"high\",\"high\",\"high\",\"high\",\"high\",\"high\",\"high\",\"high\",\"high\",\"high\",\"high\",\"high\",\"high\",\"high\",\"high\",\"high\",\"high\",\"high\",\"high\",\"high\",\"high\",\"high\",\"high\",\"high\",\"high\",\"high\",\"high\",\"high\",\"high\"],\"xaxis\":\"x\",\"yaxis\":\"y\",\"type\":\"histogram\"}],                        {\"template\":{\"data\":{\"histogram2dcontour\":[{\"type\":\"histogram2dcontour\",\"colorbar\":{\"outlinewidth\":0,\"ticks\":\"\"},\"colorscale\":[[0.0,\"#0d0887\"],[0.1111111111111111,\"#46039f\"],[0.2222222222222222,\"#7201a8\"],[0.3333333333333333,\"#9c179e\"],[0.4444444444444444,\"#bd3786\"],[0.5555555555555556,\"#d8576b\"],[0.6666666666666666,\"#ed7953\"],[0.7777777777777778,\"#fb9f3a\"],[0.8888888888888888,\"#fdca26\"],[1.0,\"#f0f921\"]]}],\"choropleth\":[{\"type\":\"choropleth\",\"colorbar\":{\"outlinewidth\":0,\"ticks\":\"\"}}],\"histogram2d\":[{\"type\":\"histogram2d\",\"colorbar\":{\"outlinewidth\":0,\"ticks\":\"\"},\"colorscale\":[[0.0,\"#0d0887\"],[0.1111111111111111,\"#46039f\"],[0.2222222222222222,\"#7201a8\"],[0.3333333333333333,\"#9c179e\"],[0.4444444444444444,\"#bd3786\"],[0.5555555555555556,\"#d8576b\"],[0.6666666666666666,\"#ed7953\"],[0.7777777777777778,\"#fb9f3a\"],[0.8888888888888888,\"#fdca26\"],[1.0,\"#f0f921\"]]}],\"heatmap\":[{\"type\":\"heatmap\",\"colorbar\":{\"outlinewidth\":0,\"ticks\":\"\"},\"colorscale\":[[0.0,\"#0d0887\"],[0.1111111111111111,\"#46039f\"],[0.2222222222222222,\"#7201a8\"],[0.3333333333333333,\"#9c179e\"],[0.4444444444444444,\"#bd3786\"],[0.5555555555555556,\"#d8576b\"],[0.6666666666666666,\"#ed7953\"],[0.7777777777777778,\"#fb9f3a\"],[0.8888888888888888,\"#fdca26\"],[1.0,\"#f0f921\"]]}],\"heatmapgl\":[{\"type\":\"heatmapgl\",\"colorbar\":{\"outlinewidth\":0,\"ticks\":\"\"},\"colorscale\":[[0.0,\"#0d0887\"],[0.1111111111111111,\"#46039f\"],[0.2222222222222222,\"#7201a8\"],[0.3333333333333333,\"#9c179e\"],[0.4444444444444444,\"#bd3786\"],[0.5555555555555556,\"#d8576b\"],[0.6666666666666666,\"#ed7953\"],[0.7777777777777778,\"#fb9f3a\"],[0.8888888888888888,\"#fdca26\"],[1.0,\"#f0f921\"]]}],\"contourcarpet\":[{\"type\":\"contourcarpet\",\"colorbar\":{\"outlinewidth\":0,\"ticks\":\"\"}}],\"contour\":[{\"type\":\"contour\",\"colorbar\":{\"outlinewidth\":0,\"ticks\":\"\"},\"colorscale\":[[0.0,\"#0d0887\"],[0.1111111111111111,\"#46039f\"],[0.2222222222222222,\"#7201a8\"],[0.3333333333333333,\"#9c179e\"],[0.4444444444444444,\"#bd3786\"],[0.5555555555555556,\"#d8576b\"],[0.6666666666666666,\"#ed7953\"],[0.7777777777777778,\"#fb9f3a\"],[0.8888888888888888,\"#fdca26\"],[1.0,\"#f0f921\"]]}],\"surface\":[{\"type\":\"surface\",\"colorbar\":{\"outlinewidth\":0,\"ticks\":\"\"},\"colorscale\":[[0.0,\"#0d0887\"],[0.1111111111111111,\"#46039f\"],[0.2222222222222222,\"#7201a8\"],[0.3333333333333333,\"#9c179e\"],[0.4444444444444444,\"#bd3786\"],[0.5555555555555556,\"#d8576b\"],[0.6666666666666666,\"#ed7953\"],[0.7777777777777778,\"#fb9f3a\"],[0.8888888888888888,\"#fdca26\"],[1.0,\"#f0f921\"]]}],\"mesh3d\":[{\"type\":\"mesh3d\",\"colorbar\":{\"outlinewidth\":0,\"ticks\":\"\"}}],\"scatter\":[{\"fillpattern\":{\"fillmode\":\"overlay\",\"size\":10,\"solidity\":0.2},\"type\":\"scatter\"}],\"parcoords\":[{\"type\":\"parcoords\",\"line\":{\"colorbar\":{\"outlinewidth\":0,\"ticks\":\"\"}}}],\"scatterpolargl\":[{\"type\":\"scatterpolargl\",\"marker\":{\"colorbar\":{\"outlinewidth\":0,\"ticks\":\"\"}}}],\"bar\":[{\"error_x\":{\"color\":\"#2a3f5f\"},\"error_y\":{\"color\":\"#2a3f5f\"},\"marker\":{\"line\":{\"color\":\"#E5ECF6\",\"width\":0.5},\"pattern\":{\"fillmode\":\"overlay\",\"size\":10,\"solidity\":0.2}},\"type\":\"bar\"}],\"scattergeo\":[{\"type\":\"scattergeo\",\"marker\":{\"colorbar\":{\"outlinewidth\":0,\"ticks\":\"\"}}}],\"scatterpolar\":[{\"type\":\"scatterpolar\",\"marker\":{\"colorbar\":{\"outlinewidth\":0,\"ticks\":\"\"}}}],\"histogram\":[{\"marker\":{\"pattern\":{\"fillmode\":\"overlay\",\"size\":10,\"solidity\":0.2}},\"type\":\"histogram\"}],\"scattergl\":[{\"type\":\"scattergl\",\"marker\":{\"colorbar\":{\"outlinewidth\":0,\"ticks\":\"\"}}}],\"scatter3d\":[{\"type\":\"scatter3d\",\"line\":{\"colorbar\":{\"outlinewidth\":0,\"ticks\":\"\"}},\"marker\":{\"colorbar\":{\"outlinewidth\":0,\"ticks\":\"\"}}}],\"scattermapbox\":[{\"type\":\"scattermapbox\",\"marker\":{\"colorbar\":{\"outlinewidth\":0,\"ticks\":\"\"}}}],\"scatterternary\":[{\"type\":\"scatterternary\",\"marker\":{\"colorbar\":{\"outlinewidth\":0,\"ticks\":\"\"}}}],\"scattercarpet\":[{\"type\":\"scattercarpet\",\"marker\":{\"colorbar\":{\"outlinewidth\":0,\"ticks\":\"\"}}}],\"carpet\":[{\"aaxis\":{\"endlinecolor\":\"#2a3f5f\",\"gridcolor\":\"white\",\"linecolor\":\"white\",\"minorgridcolor\":\"white\",\"startlinecolor\":\"#2a3f5f\"},\"baxis\":{\"endlinecolor\":\"#2a3f5f\",\"gridcolor\":\"white\",\"linecolor\":\"white\",\"minorgridcolor\":\"white\",\"startlinecolor\":\"#2a3f5f\"},\"type\":\"carpet\"}],\"table\":[{\"cells\":{\"fill\":{\"color\":\"#EBF0F8\"},\"line\":{\"color\":\"white\"}},\"header\":{\"fill\":{\"color\":\"#C8D4E3\"},\"line\":{\"color\":\"white\"}},\"type\":\"table\"}],\"barpolar\":[{\"marker\":{\"line\":{\"color\":\"#E5ECF6\",\"width\":0.5},\"pattern\":{\"fillmode\":\"overlay\",\"size\":10,\"solidity\":0.2}},\"type\":\"barpolar\"}],\"pie\":[{\"automargin\":true,\"type\":\"pie\"}]},\"layout\":{\"autotypenumbers\":\"strict\",\"colorway\":[\"#636efa\",\"#EF553B\",\"#00cc96\",\"#ab63fa\",\"#FFA15A\",\"#19d3f3\",\"#FF6692\",\"#B6E880\",\"#FF97FF\",\"#FECB52\"],\"font\":{\"color\":\"#2a3f5f\"},\"hovermode\":\"closest\",\"hoverlabel\":{\"align\":\"left\"},\"paper_bgcolor\":\"white\",\"plot_bgcolor\":\"#E5ECF6\",\"polar\":{\"bgcolor\":\"#E5ECF6\",\"angularaxis\":{\"gridcolor\":\"white\",\"linecolor\":\"white\",\"ticks\":\"\"},\"radialaxis\":{\"gridcolor\":\"white\",\"linecolor\":\"white\",\"ticks\":\"\"}},\"ternary\":{\"bgcolor\":\"#E5ECF6\",\"aaxis\":{\"gridcolor\":\"white\",\"linecolor\":\"white\",\"ticks\":\"\"},\"baxis\":{\"gridcolor\":\"white\",\"linecolor\":\"white\",\"ticks\":\"\"},\"caxis\":{\"gridcolor\":\"white\",\"linecolor\":\"white\",\"ticks\":\"\"}},\"coloraxis\":{\"colorbar\":{\"outlinewidth\":0,\"ticks\":\"\"}},\"colorscale\":{\"sequential\":[[0.0,\"#0d0887\"],[0.1111111111111111,\"#46039f\"],[0.2222222222222222,\"#7201a8\"],[0.3333333333333333,\"#9c179e\"],[0.4444444444444444,\"#bd3786\"],[0.5555555555555556,\"#d8576b\"],[0.6666666666666666,\"#ed7953\"],[0.7777777777777778,\"#fb9f3a\"],[0.8888888888888888,\"#fdca26\"],[1.0,\"#f0f921\"]],\"sequentialminus\":[[0.0,\"#0d0887\"],[0.1111111111111111,\"#46039f\"],[0.2222222222222222,\"#7201a8\"],[0.3333333333333333,\"#9c179e\"],[0.4444444444444444,\"#bd3786\"],[0.5555555555555556,\"#d8576b\"],[0.6666666666666666,\"#ed7953\"],[0.7777777777777778,\"#fb9f3a\"],[0.8888888888888888,\"#fdca26\"],[1.0,\"#f0f921\"]],\"diverging\":[[0,\"#8e0152\"],[0.1,\"#c51b7d\"],[0.2,\"#de77ae\"],[0.3,\"#f1b6da\"],[0.4,\"#fde0ef\"],[0.5,\"#f7f7f7\"],[0.6,\"#e6f5d0\"],[0.7,\"#b8e186\"],[0.8,\"#7fbc41\"],[0.9,\"#4d9221\"],[1,\"#276419\"]]},\"xaxis\":{\"gridcolor\":\"white\",\"linecolor\":\"white\",\"ticks\":\"\",\"title\":{\"standoff\":15},\"zerolinecolor\":\"white\",\"automargin\":true,\"zerolinewidth\":2},\"yaxis\":{\"gridcolor\":\"white\",\"linecolor\":\"white\",\"ticks\":\"\",\"title\":{\"standoff\":15},\"zerolinecolor\":\"white\",\"automargin\":true,\"zerolinewidth\":2},\"scene\":{\"xaxis\":{\"backgroundcolor\":\"#E5ECF6\",\"gridcolor\":\"white\",\"linecolor\":\"white\",\"showbackground\":true,\"ticks\":\"\",\"zerolinecolor\":\"white\",\"gridwidth\":2},\"yaxis\":{\"backgroundcolor\":\"#E5ECF6\",\"gridcolor\":\"white\",\"linecolor\":\"white\",\"showbackground\":true,\"ticks\":\"\",\"zerolinecolor\":\"white\",\"gridwidth\":2},\"zaxis\":{\"backgroundcolor\":\"#E5ECF6\",\"gridcolor\":\"white\",\"linecolor\":\"white\",\"showbackground\":true,\"ticks\":\"\",\"zerolinecolor\":\"white\",\"gridwidth\":2}},\"shapedefaults\":{\"line\":{\"color\":\"#2a3f5f\"}},\"annotationdefaults\":{\"arrowcolor\":\"#2a3f5f\",\"arrowhead\":0,\"arrowwidth\":1},\"geo\":{\"bgcolor\":\"white\",\"landcolor\":\"#E5ECF6\",\"subunitcolor\":\"white\",\"showland\":true,\"showlakes\":true,\"lakecolor\":\"white\"},\"title\":{\"x\":0.05},\"mapbox\":{\"style\":\"light\"}}},\"xaxis\":{\"anchor\":\"y\",\"domain\":[0.0,1.0],\"title\":{\"text\":\"price_range\"}},\"yaxis\":{\"anchor\":\"x\",\"domain\":[0.0,1.0],\"title\":{\"text\":\"count\"}},\"legend\":{\"tracegroupgap\":0},\"margin\":{\"t\":60},\"barmode\":\"relative\"},                        {\"responsive\": true}                    ).then(function(){\n",
       "                            \n",
       "var gd = document.getElementById('30fd586f-302f-404c-8054-2b2864f2c353');\n",
       "var x = new MutationObserver(function (mutations, observer) {{\n",
       "        var display = window.getComputedStyle(gd).display;\n",
       "        if (!display || display === 'none') {{\n",
       "            console.log([gd, 'removed!']);\n",
       "            Plotly.purge(gd);\n",
       "            observer.disconnect();\n",
       "        }}\n",
       "}});\n",
       "\n",
       "// Listen for the removal of the full notebook cells\n",
       "var notebookContainer = gd.closest('#notebook-container');\n",
       "if (notebookContainer) {{\n",
       "    x.observe(notebookContainer, {childList: true});\n",
       "}}\n",
       "\n",
       "// Listen for the clearing of the current output cell\n",
       "var outputEl = gd.closest('.output');\n",
       "if (outputEl) {{\n",
       "    x.observe(outputEl, {childList: true});\n",
       "}}\n",
       "\n",
       "                        })                };                });            </script>        </div>"
      ]
     },
     "metadata": {},
     "output_type": "display_data"
    }
   ],
   "source": [
    "px.histogram(laptops_train, x = \"price_range\")"
   ]
  },
  {
   "cell_type": "markdown",
   "id": "a5a3e9c1-e141-4b46-b205-668018dfa694",
   "metadata": {},
   "source": [
    "## Variables de entrada"
   ]
  },
  {
   "cell_type": "markdown",
   "id": "59d25859-ac38-4d20-aef4-eee2ff85bdbf",
   "metadata": {},
   "source": [
    "### Manufacturer"
   ]
  },
  {
   "cell_type": "code",
   "execution_count": 245,
   "id": "254ba90f-6650-43e9-b13b-7d18b23d1926",
   "metadata": {},
   "outputs": [
    {
     "data": {
      "application/vnd.plotly.v1+json": {
       "config": {
        "plotlyServerURL": "https://plot.ly"
       },
       "data": [
        {
         "alignmentgroup": "True",
         "bingroup": "x",
         "hovertemplate": "price_range=low<br>manufacturer=%{x}<br>count=%{y}<extra></extra>",
         "legendgroup": "low",
         "marker": {
          "color": "#636efa",
          "pattern": {
           "shape": ""
          }
         },
         "name": "low",
         "offsetgroup": "low",
         "orientation": "v",
         "showlegend": true,
         "type": "histogram",
         "x": [
          "Lenovo",
          "Dell",
          "Dell",
          "Lenovo",
          "HP",
          "Lenovo",
          "HP",
          "Lenovo",
          "HP",
          "HP",
          "Dell",
          "Lenovo",
          "Dell",
          "Asus",
          "Lenovo",
          "Lenovo",
          "Mediacom",
          "Dell",
          "Asus",
          "HP",
          "HP",
          "Lenovo",
          "HP",
          "Lenovo",
          "Dell",
          "Dell",
          "Asus",
          "Dell",
          "Acer",
          "Lenovo",
          "Lenovo",
          "Dell",
          "HP",
          "Acer",
          "Asus",
          "Lenovo",
          "HP",
          "HP",
          "Dell",
          "HP",
          "HP",
          "Dell",
          "Lenovo",
          "Acer",
          "Acer",
          "Dell",
          "Lenovo",
          "Asus",
          "Lenovo",
          "HP",
          "Dell",
          "Lenovo",
          "Lenovo",
          "Lenovo",
          "Lenovo",
          "Acer",
          "Asus",
          "Dell",
          "Lenovo",
          "HP",
          "Acer",
          "Lenovo",
          "HP",
          "Lenovo",
          "Acer",
          "Acer",
          "Lenovo",
          "Asus",
          "Acer",
          "Acer",
          "Lenovo",
          "Lenovo",
          "Dell",
          "Lenovo",
          "Asus",
          "Lenovo",
          "Acer",
          "Dell",
          "Toshiba",
          "Dell",
          "Asus",
          "Lenovo",
          "Acer",
          "Lenovo",
          "Asus",
          "Dell",
          "Dell",
          "Dell",
          "HP",
          "Lenovo",
          "Lenovo",
          "HP",
          "Dell",
          "Lenovo",
          "Acer",
          "HP",
          "Acer",
          "Lenovo",
          "Dell",
          "Acer",
          "Acer",
          "Lenovo",
          "Acer",
          "HP",
          "Lenovo",
          "Dell",
          "Acer",
          "Lenovo",
          "Dell",
          "Acer",
          "Asus",
          "Acer",
          "HP",
          "Lenovo",
          "HP",
          "Lenovo",
          "Asus",
          "Lenovo",
          "Asus",
          "Lenovo",
          "Lenovo",
          "Asus",
          "Lenovo",
          "Dell",
          "HP",
          "Lenovo",
          "Lenovo",
          "Mediacom",
          "HP",
          "HP",
          "Asus",
          "HP",
          "Dell",
          "Dell",
          "Acer",
          "Dell",
          "Lenovo",
          "Asus",
          "Acer",
          "Dell",
          "Lenovo",
          "Lenovo",
          "Lenovo",
          "HP",
          "Asus",
          "Lenovo",
          "Lenovo",
          "Lenovo",
          "HP",
          "Acer",
          "Acer",
          "Dell",
          "Lenovo",
          "Acer",
          "Dell",
          "Mediacom",
          "Lenovo",
          "HP",
          "HP",
          "HP",
          "Dell",
          "Lenovo",
          "Acer",
          "HP",
          "Lenovo",
          "Lenovo",
          "HP",
          "Asus",
          "Acer",
          "Lenovo",
          "Dell",
          "Dell",
          "Asus",
          "HP",
          "Dell",
          "Fujitsu",
          "Lenovo",
          "Mediacom",
          "Toshiba",
          "HP",
          "HP",
          "Dell",
          "Lenovo",
          "Lenovo",
          "Lenovo",
          "Dell",
          "Lenovo",
          "HP",
          "Dell",
          "Dell",
          "Acer",
          "Acer",
          "Acer",
          "Lenovo",
          "Dell",
          "Lenovo",
          "Asus",
          "HP",
          "HP",
          "Dell",
          "Lenovo",
          "Samsung",
          "Mediacom",
          "Lenovo",
          "Lenovo",
          "HP",
          "Toshiba",
          "Asus",
          "HP",
          "Chuwi",
          "Acer",
          "Dell",
          "Lenovo",
          "Dell",
          "Dell",
          "Acer",
          "HP",
          "Lenovo",
          "Acer",
          "HP",
          "HP",
          "Lenovo",
          "Chuwi",
          "HP",
          "Dell",
          "Dell",
          "Dell",
          "Acer",
          "Dell",
          "Dell",
          "Fujitsu",
          "Lenovo",
          "Mediacom",
          "Lenovo",
          "Dell",
          "Asus",
          "Acer",
          "Asus",
          "Lenovo",
          "Lenovo",
          "Asus",
          "Acer",
          "Acer",
          "HP",
          "Lenovo",
          "Asus",
          "Asus",
          "Dell",
          "Lenovo",
          "Dell",
          "Acer",
          "Mediacom",
          "Asus",
          "Lenovo",
          "HP",
          "Dell",
          "Lenovo",
          "HP",
          "Acer",
          "Dell",
          "HP",
          "HP",
          "Lenovo",
          "Asus",
          "Dell",
          "Dell",
          "Acer",
          "Lenovo",
          "Acer",
          "Asus",
          "Acer",
          "Lenovo",
          "HP",
          "HP",
          "Acer",
          "Lenovo",
          "HP",
          "Dell",
          "Acer",
          "Dell",
          "HP",
          "Acer",
          "Dell",
          "Dell",
          "Asus",
          "Lenovo",
          "HP",
          "Toshiba",
          "Lenovo",
          "Lenovo",
          "Acer",
          "HP",
          "Lenovo",
          "Asus",
          "Lenovo",
          "HP",
          "Acer",
          "Lenovo",
          "Acer",
          "Dell",
          "Dell",
          "HP",
          "Vero",
          "HP",
          "HP",
          "Acer",
          "HP",
          "Lenovo",
          "Asus",
          "Acer",
          "Lenovo",
          "Asus",
          "Dell",
          "Acer",
          "Acer",
          "Dell",
          "Asus",
          "Chuwi",
          "HP",
          "Dell",
          "Dell",
          "Acer",
          "Dell",
          "HP",
          "Dell",
          "HP",
          "Asus",
          "HP",
          "Lenovo",
          "Dell",
          "Acer",
          "Dell",
          "HP",
          "HP",
          "HP",
          "Acer",
          "Dell",
          "Dell",
          "HP",
          "Acer",
          "Lenovo",
          "HP",
          "Apple",
          "HP",
          "Lenovo",
          "Lenovo",
          "Acer",
          "Dell",
          "Lenovo",
          "HP",
          "HP",
          "HP",
          "Lenovo",
          "Lenovo",
          "Dell",
          "HP",
          "Asus",
          "Asus",
          "HP",
          "Dell",
          "Dell",
          "Acer",
          "HP",
          "Acer",
          "Lenovo",
          "Asus",
          "Dell",
          "Lenovo",
          "Asus",
          "Acer",
          "Acer",
          "Asus",
          "Asus",
          "HP",
          "HP",
          "Dell",
          "Acer",
          "Asus",
          "Dell",
          "Asus",
          "HP",
          "Dell",
          "Lenovo",
          "Toshiba",
          "Dell",
          "Asus",
          "HP",
          "Vero",
          "Lenovo",
          "Asus",
          "HP",
          "Lenovo",
          "Dell",
          "Dell",
          "Dell",
          "HP",
          "Toshiba",
          "Dell",
          "Acer",
          "Asus",
          "Asus",
          "HP",
          "Acer",
          "Asus",
          "Lenovo",
          "HP",
          "Dell",
          "Lenovo",
          "Lenovo",
          "HP",
          "Lenovo",
          "Acer",
          "Lenovo",
          "Dell",
          "Lenovo",
          "HP",
          "Dell",
          "Toshiba",
          "HP",
          "Toshiba",
          "Acer",
          "Dell",
          "Dell",
          "Acer",
          "Lenovo",
          "Acer",
          "Acer",
          "Acer",
          "Asus",
          "Dell",
          "HP",
          "Acer",
          "Asus",
          "Dell",
          "HP",
          "Dell",
          "Acer",
          "Lenovo",
          "HP",
          "Acer",
          "Dell",
          "Dell",
          "Acer",
          "Asus",
          "Toshiba",
          "Lenovo",
          "HP",
          "HP",
          "Lenovo",
          "Lenovo",
          "Asus",
          "Dell",
          "Dell",
          "HP",
          "Lenovo",
          "Lenovo",
          "Dell",
          "Toshiba",
          "HP",
          "Lenovo",
          "Dell",
          "Acer",
          "Asus"
         ],
         "xaxis": "x",
         "yaxis": "y"
        },
        {
         "alignmentgroup": "True",
         "bingroup": "x",
         "hovertemplate": "price_range=mid<br>manufacturer=%{x}<br>count=%{y}<extra></extra>",
         "legendgroup": "mid",
         "marker": {
          "color": "#EF553B",
          "pattern": {
           "shape": ""
          }
         },
         "name": "mid",
         "offsetgroup": "mid",
         "orientation": "v",
         "showlegend": true,
         "type": "histogram",
         "x": [
          "Dell",
          "Lenovo",
          "Toshiba",
          "Lenovo",
          "HP",
          "Lenovo",
          "Asus",
          "Asus",
          "Lenovo",
          "Dell",
          "HP",
          "Asus",
          "Dell",
          "Lenovo",
          "Toshiba",
          "MSI",
          "Lenovo",
          "Lenovo",
          "HP",
          "Dell",
          "Dell",
          "Toshiba",
          "Dell",
          "Dell",
          "Apple",
          "Asus",
          "Acer",
          "Dell",
          "Lenovo",
          "MSI",
          "Lenovo",
          "Lenovo",
          "Toshiba",
          "Dell",
          "Dell",
          "Dell",
          "HP",
          "MSI",
          "Dell",
          "Dell",
          "Asus",
          "Toshiba",
          "HP",
          "Lenovo",
          "Dell",
          "Lenovo",
          "Dell",
          "Asus",
          "Acer",
          "Lenovo",
          "MSI",
          "Xiaomi",
          "Lenovo",
          "Acer",
          "Toshiba",
          "HP",
          "Toshiba",
          "Lenovo",
          "Lenovo",
          "MSI",
          "Dell",
          "Asus",
          "Asus",
          "Lenovo",
          "Lenovo",
          "HP",
          "Dell",
          "Asus",
          "Toshiba",
          "MSI",
          "HP",
          "HP",
          "HP",
          "HP",
          "Asus",
          "HP",
          "Toshiba",
          "MSI",
          "Dell",
          "Dell",
          "HP",
          "Lenovo",
          "Lenovo",
          "HP",
          "Asus",
          "Lenovo",
          "Dell",
          "Toshiba",
          "MSI",
          "Toshiba",
          "Lenovo",
          "Apple",
          "Lenovo",
          "Acer",
          "Dell",
          "Microsoft",
          "Lenovo",
          "Asus",
          "MSI",
          "Asus",
          "Acer",
          "Lenovo",
          "Asus",
          "Lenovo",
          "Dell",
          "Asus",
          "Dell",
          "HP",
          "Toshiba",
          "Lenovo",
          "Xiaomi",
          "Dell",
          "Dell",
          "Acer",
          "Dell",
          "MSI",
          "Dell",
          "HP",
          "Dell",
          "Lenovo",
          "HP",
          "HP",
          "Dell",
          "HP",
          "Asus",
          "Asus",
          "HP",
          "HP",
          "Lenovo",
          "Asus",
          "Lenovo",
          "Lenovo",
          "Dell",
          "MSI",
          "Asus",
          "HP",
          "Dell",
          "Asus",
          "Lenovo",
          "HP",
          "Asus",
          "Dell",
          "Asus",
          "Dell",
          "Dell",
          "HP",
          "Lenovo",
          "Asus",
          "Asus",
          "Toshiba",
          "MSI",
          "HP",
          "HP",
          "Huawei",
          "HP",
          "Asus",
          "HP",
          "Lenovo",
          "Dell",
          "Dell",
          "HP",
          "HP",
          "Asus",
          "Lenovo",
          "HP",
          "Asus",
          "Lenovo",
          "Dell",
          "Asus",
          "Asus",
          "Dell",
          "Dell",
          "Dell",
          "HP",
          "Dell",
          "Asus",
          "Dell",
          "Dell",
          "Asus",
          "Apple",
          "HP",
          "Dell",
          "Asus",
          "Apple",
          "Asus",
          "Lenovo",
          "Dell",
          "Lenovo",
          "Dell",
          "Apple",
          "HP",
          "Lenovo",
          "Lenovo",
          "Dell",
          "Dell",
          "Lenovo",
          "Asus",
          "HP",
          "Lenovo",
          "Lenovo",
          "Asus",
          "Apple",
          "Lenovo",
          "Dell",
          "Dell",
          "Lenovo",
          "Dell",
          "Dell",
          "Dell",
          "MSI",
          "Dell",
          "Dell",
          "Dell",
          "Dell",
          "Microsoft",
          "Dell",
          "HP",
          "Microsoft",
          "Asus",
          "Xiaomi",
          "Asus",
          "HP",
          "Dell",
          "HP",
          "HP",
          "HP",
          "Asus",
          "Toshiba",
          "HP",
          "Lenovo",
          "Lenovo",
          "HP",
          "Asus",
          "HP",
          "Google",
          "HP",
          "Dell"
         ],
         "xaxis": "x",
         "yaxis": "y"
        },
        {
         "alignmentgroup": "True",
         "bingroup": "x",
         "hovertemplate": "price_range=high<br>manufacturer=%{x}<br>count=%{y}<extra></extra>",
         "legendgroup": "high",
         "marker": {
          "color": "#00cc96",
          "pattern": {
           "shape": ""
          }
         },
         "name": "high",
         "offsetgroup": "high",
         "orientation": "v",
         "showlegend": true,
         "type": "histogram",
         "x": [
          "Dell",
          "Razer",
          "Huawei",
          "HP",
          "Lenovo",
          "Asus",
          "Dell",
          "Lenovo",
          "MSI",
          "Dell",
          "Asus",
          "Lenovo",
          "Asus",
          "Dell",
          "Lenovo",
          "Dell",
          "HP",
          "Lenovo",
          "Dell",
          "Lenovo",
          "Lenovo",
          "HP",
          "Dell",
          "Dell",
          "Asus",
          "Dell",
          "Lenovo",
          "Lenovo",
          "Lenovo",
          "HP",
          "Dell",
          "HP",
          "Dell",
          "Dell",
          "Dell",
          "Toshiba",
          "Dell",
          "HP",
          "Dell",
          "Dell",
          "Dell",
          "Lenovo",
          "Apple",
          "Dell",
          "Dell",
          "HP",
          "MSI",
          "Lenovo",
          "HP",
          "HP",
          "Asus",
          "Dell",
          "Apple",
          "Asus",
          "Apple",
          "Dell",
          "Dell",
          "Dell",
          "Apple",
          "Dell",
          "Dell",
          "Asus",
          "Apple",
          "Toshiba",
          "Lenovo",
          "Toshiba",
          "Apple",
          "Apple",
          "MSI",
          "Lenovo",
          "Toshiba",
          "Lenovo",
          "HP",
          "HP",
          "MSI",
          "HP",
          "Dell",
          "HP",
          "Dell",
          "Toshiba",
          "HP",
          "Dell",
          "MSI",
          "Lenovo",
          "MSI",
          "Samsung",
          "Lenovo",
          "Samsung",
          "MSI",
          "Apple",
          "MSI",
          "Asus",
          "Dell",
          "HP",
          "LG",
          "Lenovo",
          "HP",
          "Lenovo",
          "Lenovo",
          "Dell",
          "Dell",
          "Lenovo",
          "Toshiba",
          "LG",
          "Samsung",
          "Samsung",
          "HP",
          "Dell",
          "Lenovo",
          "HP",
          "Dell",
          "Lenovo",
          "Dell",
          "Dell",
          "Microsoft",
          "Microsoft",
          "Dell",
          "Asus",
          "Dell",
          "HP",
          "Lenovo",
          "HP",
          "Dell",
          "Lenovo",
          "Dell",
          "Razer",
          "Lenovo",
          "Lenovo",
          "HP",
          "Microsoft",
          "Lenovo",
          "HP",
          "Dell",
          "MSI",
          "HP",
          "Dell",
          "Lenovo",
          "Lenovo",
          "Asus",
          "Google",
          "Lenovo",
          "Lenovo",
          "Dell",
          "Asus",
          "Lenovo",
          "Lenovo",
          "Dell",
          "HP",
          "Asus",
          "Asus",
          "Lenovo",
          "MSI",
          "Lenovo",
          "Toshiba",
          "HP",
          "Xiaomi",
          "Dell",
          "Asus",
          "HP",
          "Dell",
          "Dell",
          "Lenovo",
          "HP",
          "Lenovo",
          "HP",
          "Dell",
          "MSI",
          "HP",
          "Toshiba",
          "Dell",
          "Lenovo",
          "Asus",
          "Toshiba",
          "Toshiba",
          "MSI",
          "MSI",
          "HP",
          "Dell",
          "Dell",
          "Lenovo",
          "Lenovo",
          "Lenovo",
          "Samsung",
          "Asus",
          "Lenovo",
          "MSI",
          "MSI",
          "Dell",
          "Asus",
          "Razer",
          "Lenovo",
          "Apple",
          "Asus",
          "Lenovo",
          "Samsung",
          "Dell",
          "Asus",
          "Google",
          "Dell",
          "Dell",
          "HP",
          "Asus",
          "Asus",
          "HP",
          "HP",
          "Dell",
          "Asus",
          "Toshiba",
          "Lenovo",
          "Dell",
          "Dell",
          "HP",
          "Dell",
          "Dell",
          "Lenovo",
          "HP",
          "Asus",
          "Lenovo",
          "Apple",
          "Asus",
          "Lenovo",
          "Lenovo",
          "Acer",
          "MSI",
          "Lenovo",
          "MSI",
          "Dell",
          "Toshiba",
          "MSI",
          "HP",
          "Lenovo",
          "Toshiba",
          "Lenovo",
          "Dell",
          "Lenovo",
          "Lenovo",
          "HP",
          "Asus",
          "Asus",
          "Dell",
          "Lenovo",
          "Lenovo",
          "Dell",
          "Asus",
          "MSI",
          "LG",
          "Dell",
          "Asus",
          "Asus",
          "HP",
          "Toshiba",
          "MSI",
          "HP",
          "Dell",
          "Acer",
          "Lenovo",
          "Dell",
          "Lenovo",
          "Lenovo",
          "Dell",
          "Dell",
          "MSI",
          "HP",
          "Dell",
          "Toshiba",
          "Dell",
          "Lenovo",
          "Samsung",
          "Dell"
         ],
         "xaxis": "x",
         "yaxis": "y"
        }
       ],
       "layout": {
        "autosize": true,
        "barmode": "relative",
        "legend": {
         "title": {
          "text": "price_range"
         },
         "tracegroupgap": 0
        },
        "margin": {
         "t": 60
        },
        "template": {
         "data": {
          "bar": [
           {
            "error_x": {
             "color": "#2a3f5f"
            },
            "error_y": {
             "color": "#2a3f5f"
            },
            "marker": {
             "line": {
              "color": "#E5ECF6",
              "width": 0.5
             },
             "pattern": {
              "fillmode": "overlay",
              "size": 10,
              "solidity": 0.2
             }
            },
            "type": "bar"
           }
          ],
          "barpolar": [
           {
            "marker": {
             "line": {
              "color": "#E5ECF6",
              "width": 0.5
             },
             "pattern": {
              "fillmode": "overlay",
              "size": 10,
              "solidity": 0.2
             }
            },
            "type": "barpolar"
           }
          ],
          "carpet": [
           {
            "aaxis": {
             "endlinecolor": "#2a3f5f",
             "gridcolor": "white",
             "linecolor": "white",
             "minorgridcolor": "white",
             "startlinecolor": "#2a3f5f"
            },
            "baxis": {
             "endlinecolor": "#2a3f5f",
             "gridcolor": "white",
             "linecolor": "white",
             "minorgridcolor": "white",
             "startlinecolor": "#2a3f5f"
            },
            "type": "carpet"
           }
          ],
          "choropleth": [
           {
            "colorbar": {
             "outlinewidth": 0,
             "ticks": ""
            },
            "type": "choropleth"
           }
          ],
          "contour": [
           {
            "colorbar": {
             "outlinewidth": 0,
             "ticks": ""
            },
            "colorscale": [
             [
              0,
              "#0d0887"
             ],
             [
              0.1111111111111111,
              "#46039f"
             ],
             [
              0.2222222222222222,
              "#7201a8"
             ],
             [
              0.3333333333333333,
              "#9c179e"
             ],
             [
              0.4444444444444444,
              "#bd3786"
             ],
             [
              0.5555555555555556,
              "#d8576b"
             ],
             [
              0.6666666666666666,
              "#ed7953"
             ],
             [
              0.7777777777777778,
              "#fb9f3a"
             ],
             [
              0.8888888888888888,
              "#fdca26"
             ],
             [
              1,
              "#f0f921"
             ]
            ],
            "type": "contour"
           }
          ],
          "contourcarpet": [
           {
            "colorbar": {
             "outlinewidth": 0,
             "ticks": ""
            },
            "type": "contourcarpet"
           }
          ],
          "heatmap": [
           {
            "colorbar": {
             "outlinewidth": 0,
             "ticks": ""
            },
            "colorscale": [
             [
              0,
              "#0d0887"
             ],
             [
              0.1111111111111111,
              "#46039f"
             ],
             [
              0.2222222222222222,
              "#7201a8"
             ],
             [
              0.3333333333333333,
              "#9c179e"
             ],
             [
              0.4444444444444444,
              "#bd3786"
             ],
             [
              0.5555555555555556,
              "#d8576b"
             ],
             [
              0.6666666666666666,
              "#ed7953"
             ],
             [
              0.7777777777777778,
              "#fb9f3a"
             ],
             [
              0.8888888888888888,
              "#fdca26"
             ],
             [
              1,
              "#f0f921"
             ]
            ],
            "type": "heatmap"
           }
          ],
          "heatmapgl": [
           {
            "colorbar": {
             "outlinewidth": 0,
             "ticks": ""
            },
            "colorscale": [
             [
              0,
              "#0d0887"
             ],
             [
              0.1111111111111111,
              "#46039f"
             ],
             [
              0.2222222222222222,
              "#7201a8"
             ],
             [
              0.3333333333333333,
              "#9c179e"
             ],
             [
              0.4444444444444444,
              "#bd3786"
             ],
             [
              0.5555555555555556,
              "#d8576b"
             ],
             [
              0.6666666666666666,
              "#ed7953"
             ],
             [
              0.7777777777777778,
              "#fb9f3a"
             ],
             [
              0.8888888888888888,
              "#fdca26"
             ],
             [
              1,
              "#f0f921"
             ]
            ],
            "type": "heatmapgl"
           }
          ],
          "histogram": [
           {
            "marker": {
             "pattern": {
              "fillmode": "overlay",
              "size": 10,
              "solidity": 0.2
             }
            },
            "type": "histogram"
           }
          ],
          "histogram2d": [
           {
            "colorbar": {
             "outlinewidth": 0,
             "ticks": ""
            },
            "colorscale": [
             [
              0,
              "#0d0887"
             ],
             [
              0.1111111111111111,
              "#46039f"
             ],
             [
              0.2222222222222222,
              "#7201a8"
             ],
             [
              0.3333333333333333,
              "#9c179e"
             ],
             [
              0.4444444444444444,
              "#bd3786"
             ],
             [
              0.5555555555555556,
              "#d8576b"
             ],
             [
              0.6666666666666666,
              "#ed7953"
             ],
             [
              0.7777777777777778,
              "#fb9f3a"
             ],
             [
              0.8888888888888888,
              "#fdca26"
             ],
             [
              1,
              "#f0f921"
             ]
            ],
            "type": "histogram2d"
           }
          ],
          "histogram2dcontour": [
           {
            "colorbar": {
             "outlinewidth": 0,
             "ticks": ""
            },
            "colorscale": [
             [
              0,
              "#0d0887"
             ],
             [
              0.1111111111111111,
              "#46039f"
             ],
             [
              0.2222222222222222,
              "#7201a8"
             ],
             [
              0.3333333333333333,
              "#9c179e"
             ],
             [
              0.4444444444444444,
              "#bd3786"
             ],
             [
              0.5555555555555556,
              "#d8576b"
             ],
             [
              0.6666666666666666,
              "#ed7953"
             ],
             [
              0.7777777777777778,
              "#fb9f3a"
             ],
             [
              0.8888888888888888,
              "#fdca26"
             ],
             [
              1,
              "#f0f921"
             ]
            ],
            "type": "histogram2dcontour"
           }
          ],
          "mesh3d": [
           {
            "colorbar": {
             "outlinewidth": 0,
             "ticks": ""
            },
            "type": "mesh3d"
           }
          ],
          "parcoords": [
           {
            "line": {
             "colorbar": {
              "outlinewidth": 0,
              "ticks": ""
             }
            },
            "type": "parcoords"
           }
          ],
          "pie": [
           {
            "automargin": true,
            "type": "pie"
           }
          ],
          "scatter": [
           {
            "fillpattern": {
             "fillmode": "overlay",
             "size": 10,
             "solidity": 0.2
            },
            "type": "scatter"
           }
          ],
          "scatter3d": [
           {
            "line": {
             "colorbar": {
              "outlinewidth": 0,
              "ticks": ""
             }
            },
            "marker": {
             "colorbar": {
              "outlinewidth": 0,
              "ticks": ""
             }
            },
            "type": "scatter3d"
           }
          ],
          "scattercarpet": [
           {
            "marker": {
             "colorbar": {
              "outlinewidth": 0,
              "ticks": ""
             }
            },
            "type": "scattercarpet"
           }
          ],
          "scattergeo": [
           {
            "marker": {
             "colorbar": {
              "outlinewidth": 0,
              "ticks": ""
             }
            },
            "type": "scattergeo"
           }
          ],
          "scattergl": [
           {
            "marker": {
             "colorbar": {
              "outlinewidth": 0,
              "ticks": ""
             }
            },
            "type": "scattergl"
           }
          ],
          "scattermapbox": [
           {
            "marker": {
             "colorbar": {
              "outlinewidth": 0,
              "ticks": ""
             }
            },
            "type": "scattermapbox"
           }
          ],
          "scatterpolar": [
           {
            "marker": {
             "colorbar": {
              "outlinewidth": 0,
              "ticks": ""
             }
            },
            "type": "scatterpolar"
           }
          ],
          "scatterpolargl": [
           {
            "marker": {
             "colorbar": {
              "outlinewidth": 0,
              "ticks": ""
             }
            },
            "type": "scatterpolargl"
           }
          ],
          "scatterternary": [
           {
            "marker": {
             "colorbar": {
              "outlinewidth": 0,
              "ticks": ""
             }
            },
            "type": "scatterternary"
           }
          ],
          "surface": [
           {
            "colorbar": {
             "outlinewidth": 0,
             "ticks": ""
            },
            "colorscale": [
             [
              0,
              "#0d0887"
             ],
             [
              0.1111111111111111,
              "#46039f"
             ],
             [
              0.2222222222222222,
              "#7201a8"
             ],
             [
              0.3333333333333333,
              "#9c179e"
             ],
             [
              0.4444444444444444,
              "#bd3786"
             ],
             [
              0.5555555555555556,
              "#d8576b"
             ],
             [
              0.6666666666666666,
              "#ed7953"
             ],
             [
              0.7777777777777778,
              "#fb9f3a"
             ],
             [
              0.8888888888888888,
              "#fdca26"
             ],
             [
              1,
              "#f0f921"
             ]
            ],
            "type": "surface"
           }
          ],
          "table": [
           {
            "cells": {
             "fill": {
              "color": "#EBF0F8"
             },
             "line": {
              "color": "white"
             }
            },
            "header": {
             "fill": {
              "color": "#C8D4E3"
             },
             "line": {
              "color": "white"
             }
            },
            "type": "table"
           }
          ]
         },
         "layout": {
          "annotationdefaults": {
           "arrowcolor": "#2a3f5f",
           "arrowhead": 0,
           "arrowwidth": 1
          },
          "autotypenumbers": "strict",
          "coloraxis": {
           "colorbar": {
            "outlinewidth": 0,
            "ticks": ""
           }
          },
          "colorscale": {
           "diverging": [
            [
             0,
             "#8e0152"
            ],
            [
             0.1,
             "#c51b7d"
            ],
            [
             0.2,
             "#de77ae"
            ],
            [
             0.3,
             "#f1b6da"
            ],
            [
             0.4,
             "#fde0ef"
            ],
            [
             0.5,
             "#f7f7f7"
            ],
            [
             0.6,
             "#e6f5d0"
            ],
            [
             0.7,
             "#b8e186"
            ],
            [
             0.8,
             "#7fbc41"
            ],
            [
             0.9,
             "#4d9221"
            ],
            [
             1,
             "#276419"
            ]
           ],
           "sequential": [
            [
             0,
             "#0d0887"
            ],
            [
             0.1111111111111111,
             "#46039f"
            ],
            [
             0.2222222222222222,
             "#7201a8"
            ],
            [
             0.3333333333333333,
             "#9c179e"
            ],
            [
             0.4444444444444444,
             "#bd3786"
            ],
            [
             0.5555555555555556,
             "#d8576b"
            ],
            [
             0.6666666666666666,
             "#ed7953"
            ],
            [
             0.7777777777777778,
             "#fb9f3a"
            ],
            [
             0.8888888888888888,
             "#fdca26"
            ],
            [
             1,
             "#f0f921"
            ]
           ],
           "sequentialminus": [
            [
             0,
             "#0d0887"
            ],
            [
             0.1111111111111111,
             "#46039f"
            ],
            [
             0.2222222222222222,
             "#7201a8"
            ],
            [
             0.3333333333333333,
             "#9c179e"
            ],
            [
             0.4444444444444444,
             "#bd3786"
            ],
            [
             0.5555555555555556,
             "#d8576b"
            ],
            [
             0.6666666666666666,
             "#ed7953"
            ],
            [
             0.7777777777777778,
             "#fb9f3a"
            ],
            [
             0.8888888888888888,
             "#fdca26"
            ],
            [
             1,
             "#f0f921"
            ]
           ]
          },
          "colorway": [
           "#636efa",
           "#EF553B",
           "#00cc96",
           "#ab63fa",
           "#FFA15A",
           "#19d3f3",
           "#FF6692",
           "#B6E880",
           "#FF97FF",
           "#FECB52"
          ],
          "font": {
           "color": "#2a3f5f"
          },
          "geo": {
           "bgcolor": "white",
           "lakecolor": "white",
           "landcolor": "#E5ECF6",
           "showlakes": true,
           "showland": true,
           "subunitcolor": "white"
          },
          "hoverlabel": {
           "align": "left"
          },
          "hovermode": "closest",
          "mapbox": {
           "style": "light"
          },
          "paper_bgcolor": "white",
          "plot_bgcolor": "#E5ECF6",
          "polar": {
           "angularaxis": {
            "gridcolor": "white",
            "linecolor": "white",
            "ticks": ""
           },
           "bgcolor": "#E5ECF6",
           "radialaxis": {
            "gridcolor": "white",
            "linecolor": "white",
            "ticks": ""
           }
          },
          "scene": {
           "xaxis": {
            "backgroundcolor": "#E5ECF6",
            "gridcolor": "white",
            "gridwidth": 2,
            "linecolor": "white",
            "showbackground": true,
            "ticks": "",
            "zerolinecolor": "white"
           },
           "yaxis": {
            "backgroundcolor": "#E5ECF6",
            "gridcolor": "white",
            "gridwidth": 2,
            "linecolor": "white",
            "showbackground": true,
            "ticks": "",
            "zerolinecolor": "white"
           },
           "zaxis": {
            "backgroundcolor": "#E5ECF6",
            "gridcolor": "white",
            "gridwidth": 2,
            "linecolor": "white",
            "showbackground": true,
            "ticks": "",
            "zerolinecolor": "white"
           }
          },
          "shapedefaults": {
           "line": {
            "color": "#2a3f5f"
           }
          },
          "ternary": {
           "aaxis": {
            "gridcolor": "white",
            "linecolor": "white",
            "ticks": ""
           },
           "baxis": {
            "gridcolor": "white",
            "linecolor": "white",
            "ticks": ""
           },
           "bgcolor": "#E5ECF6",
           "caxis": {
            "gridcolor": "white",
            "linecolor": "white",
            "ticks": ""
           }
          },
          "title": {
           "x": 0.05
          },
          "xaxis": {
           "automargin": true,
           "gridcolor": "white",
           "linecolor": "white",
           "ticks": "",
           "title": {
            "standoff": 15
           },
           "zerolinecolor": "white",
           "zerolinewidth": 2
          },
          "yaxis": {
           "automargin": true,
           "gridcolor": "white",
           "linecolor": "white",
           "ticks": "",
           "title": {
            "standoff": 15
           },
           "zerolinecolor": "white",
           "zerolinewidth": 2
          }
         }
        },
        "xaxis": {
         "anchor": "y",
         "autorange": true,
         "domain": [
          0,
          1
         ],
         "range": [
          -0.5,
          18.5
         ],
         "title": {
          "text": "manufacturer"
         },
         "type": "category"
        },
        "yaxis": {
         "anchor": "x",
         "autorange": true,
         "domain": [
          0,
          1
         ],
         "range": [
          0,
          242.10526315789474
         ],
         "title": {
          "text": "count"
         }
        }
       }
      },
      "text/html": [
       "<div>                            <div id=\"8a4538d1-7655-4302-bceb-f30a940146cb\" class=\"plotly-graph-div\" style=\"height:525px; width:100%;\"></div>            <script type=\"text/javascript\">                require([\"plotly\"], function(Plotly) {                    window.PLOTLYENV=window.PLOTLYENV || {};                                    if (document.getElementById(\"8a4538d1-7655-4302-bceb-f30a940146cb\")) {                    Plotly.newPlot(                        \"8a4538d1-7655-4302-bceb-f30a940146cb\",                        [{\"alignmentgroup\":\"True\",\"bingroup\":\"x\",\"hovertemplate\":\"price_range=low\\u003cbr\\u003emanufacturer=%{x}\\u003cbr\\u003ecount=%{y}\\u003cextra\\u003e\\u003c\\u002fextra\\u003e\",\"legendgroup\":\"low\",\"marker\":{\"color\":\"#636efa\",\"pattern\":{\"shape\":\"\"}},\"name\":\"low\",\"offsetgroup\":\"low\",\"orientation\":\"v\",\"showlegend\":true,\"x\":[\"Lenovo\",\"Dell\",\"Dell\",\"Lenovo\",\"HP\",\"Lenovo\",\"HP\",\"Lenovo\",\"HP\",\"HP\",\"Dell\",\"Lenovo\",\"Dell\",\"Asus\",\"Lenovo\",\"Lenovo\",\"Mediacom\",\"Dell\",\"Asus\",\"HP\",\"HP\",\"Lenovo\",\"HP\",\"Lenovo\",\"Dell\",\"Dell\",\"Asus\",\"Dell\",\"Acer\",\"Lenovo\",\"Lenovo\",\"Dell\",\"HP\",\"Acer\",\"Asus\",\"Lenovo\",\"HP\",\"HP\",\"Dell\",\"HP\",\"HP\",\"Dell\",\"Lenovo\",\"Acer\",\"Acer\",\"Dell\",\"Lenovo\",\"Asus\",\"Lenovo\",\"HP\",\"Dell\",\"Lenovo\",\"Lenovo\",\"Lenovo\",\"Lenovo\",\"Acer\",\"Asus\",\"Dell\",\"Lenovo\",\"HP\",\"Acer\",\"Lenovo\",\"HP\",\"Lenovo\",\"Acer\",\"Acer\",\"Lenovo\",\"Asus\",\"Acer\",\"Acer\",\"Lenovo\",\"Lenovo\",\"Dell\",\"Lenovo\",\"Asus\",\"Lenovo\",\"Acer\",\"Dell\",\"Toshiba\",\"Dell\",\"Asus\",\"Lenovo\",\"Acer\",\"Lenovo\",\"Asus\",\"Dell\",\"Dell\",\"Dell\",\"HP\",\"Lenovo\",\"Lenovo\",\"HP\",\"Dell\",\"Lenovo\",\"Acer\",\"HP\",\"Acer\",\"Lenovo\",\"Dell\",\"Acer\",\"Acer\",\"Lenovo\",\"Acer\",\"HP\",\"Lenovo\",\"Dell\",\"Acer\",\"Lenovo\",\"Dell\",\"Acer\",\"Asus\",\"Acer\",\"HP\",\"Lenovo\",\"HP\",\"Lenovo\",\"Asus\",\"Lenovo\",\"Asus\",\"Lenovo\",\"Lenovo\",\"Asus\",\"Lenovo\",\"Dell\",\"HP\",\"Lenovo\",\"Lenovo\",\"Mediacom\",\"HP\",\"HP\",\"Asus\",\"HP\",\"Dell\",\"Dell\",\"Acer\",\"Dell\",\"Lenovo\",\"Asus\",\"Acer\",\"Dell\",\"Lenovo\",\"Lenovo\",\"Lenovo\",\"HP\",\"Asus\",\"Lenovo\",\"Lenovo\",\"Lenovo\",\"HP\",\"Acer\",\"Acer\",\"Dell\",\"Lenovo\",\"Acer\",\"Dell\",\"Mediacom\",\"Lenovo\",\"HP\",\"HP\",\"HP\",\"Dell\",\"Lenovo\",\"Acer\",\"HP\",\"Lenovo\",\"Lenovo\",\"HP\",\"Asus\",\"Acer\",\"Lenovo\",\"Dell\",\"Dell\",\"Asus\",\"HP\",\"Dell\",\"Fujitsu\",\"Lenovo\",\"Mediacom\",\"Toshiba\",\"HP\",\"HP\",\"Dell\",\"Lenovo\",\"Lenovo\",\"Lenovo\",\"Dell\",\"Lenovo\",\"HP\",\"Dell\",\"Dell\",\"Acer\",\"Acer\",\"Acer\",\"Lenovo\",\"Dell\",\"Lenovo\",\"Asus\",\"HP\",\"HP\",\"Dell\",\"Lenovo\",\"Samsung\",\"Mediacom\",\"Lenovo\",\"Lenovo\",\"HP\",\"Toshiba\",\"Asus\",\"HP\",\"Chuwi\",\"Acer\",\"Dell\",\"Lenovo\",\"Dell\",\"Dell\",\"Acer\",\"HP\",\"Lenovo\",\"Acer\",\"HP\",\"HP\",\"Lenovo\",\"Chuwi\",\"HP\",\"Dell\",\"Dell\",\"Dell\",\"Acer\",\"Dell\",\"Dell\",\"Fujitsu\",\"Lenovo\",\"Mediacom\",\"Lenovo\",\"Dell\",\"Asus\",\"Acer\",\"Asus\",\"Lenovo\",\"Lenovo\",\"Asus\",\"Acer\",\"Acer\",\"HP\",\"Lenovo\",\"Asus\",\"Asus\",\"Dell\",\"Lenovo\",\"Dell\",\"Acer\",\"Mediacom\",\"Asus\",\"Lenovo\",\"HP\",\"Dell\",\"Lenovo\",\"HP\",\"Acer\",\"Dell\",\"HP\",\"HP\",\"Lenovo\",\"Asus\",\"Dell\",\"Dell\",\"Acer\",\"Lenovo\",\"Acer\",\"Asus\",\"Acer\",\"Lenovo\",\"HP\",\"HP\",\"Acer\",\"Lenovo\",\"HP\",\"Dell\",\"Acer\",\"Dell\",\"HP\",\"Acer\",\"Dell\",\"Dell\",\"Asus\",\"Lenovo\",\"HP\",\"Toshiba\",\"Lenovo\",\"Lenovo\",\"Acer\",\"HP\",\"Lenovo\",\"Asus\",\"Lenovo\",\"HP\",\"Acer\",\"Lenovo\",\"Acer\",\"Dell\",\"Dell\",\"HP\",\"Vero\",\"HP\",\"HP\",\"Acer\",\"HP\",\"Lenovo\",\"Asus\",\"Acer\",\"Lenovo\",\"Asus\",\"Dell\",\"Acer\",\"Acer\",\"Dell\",\"Asus\",\"Chuwi\",\"HP\",\"Dell\",\"Dell\",\"Acer\",\"Dell\",\"HP\",\"Dell\",\"HP\",\"Asus\",\"HP\",\"Lenovo\",\"Dell\",\"Acer\",\"Dell\",\"HP\",\"HP\",\"HP\",\"Acer\",\"Dell\",\"Dell\",\"HP\",\"Acer\",\"Lenovo\",\"HP\",\"Apple\",\"HP\",\"Lenovo\",\"Lenovo\",\"Acer\",\"Dell\",\"Lenovo\",\"HP\",\"HP\",\"HP\",\"Lenovo\",\"Lenovo\",\"Dell\",\"HP\",\"Asus\",\"Asus\",\"HP\",\"Dell\",\"Dell\",\"Acer\",\"HP\",\"Acer\",\"Lenovo\",\"Asus\",\"Dell\",\"Lenovo\",\"Asus\",\"Acer\",\"Acer\",\"Asus\",\"Asus\",\"HP\",\"HP\",\"Dell\",\"Acer\",\"Asus\",\"Dell\",\"Asus\",\"HP\",\"Dell\",\"Lenovo\",\"Toshiba\",\"Dell\",\"Asus\",\"HP\",\"Vero\",\"Lenovo\",\"Asus\",\"HP\",\"Lenovo\",\"Dell\",\"Dell\",\"Dell\",\"HP\",\"Toshiba\",\"Dell\",\"Acer\",\"Asus\",\"Asus\",\"HP\",\"Acer\",\"Asus\",\"Lenovo\",\"HP\",\"Dell\",\"Lenovo\",\"Lenovo\",\"HP\",\"Lenovo\",\"Acer\",\"Lenovo\",\"Dell\",\"Lenovo\",\"HP\",\"Dell\",\"Toshiba\",\"HP\",\"Toshiba\",\"Acer\",\"Dell\",\"Dell\",\"Acer\",\"Lenovo\",\"Acer\",\"Acer\",\"Acer\",\"Asus\",\"Dell\",\"HP\",\"Acer\",\"Asus\",\"Dell\",\"HP\",\"Dell\",\"Acer\",\"Lenovo\",\"HP\",\"Acer\",\"Dell\",\"Dell\",\"Acer\",\"Asus\",\"Toshiba\",\"Lenovo\",\"HP\",\"HP\",\"Lenovo\",\"Lenovo\",\"Asus\",\"Dell\",\"Dell\",\"HP\",\"Lenovo\",\"Lenovo\",\"Dell\",\"Toshiba\",\"HP\",\"Lenovo\",\"Dell\",\"Acer\",\"Asus\"],\"xaxis\":\"x\",\"yaxis\":\"y\",\"type\":\"histogram\"},{\"alignmentgroup\":\"True\",\"bingroup\":\"x\",\"hovertemplate\":\"price_range=mid\\u003cbr\\u003emanufacturer=%{x}\\u003cbr\\u003ecount=%{y}\\u003cextra\\u003e\\u003c\\u002fextra\\u003e\",\"legendgroup\":\"mid\",\"marker\":{\"color\":\"#EF553B\",\"pattern\":{\"shape\":\"\"}},\"name\":\"mid\",\"offsetgroup\":\"mid\",\"orientation\":\"v\",\"showlegend\":true,\"x\":[\"Dell\",\"Lenovo\",\"Toshiba\",\"Lenovo\",\"HP\",\"Lenovo\",\"Asus\",\"Asus\",\"Lenovo\",\"Dell\",\"HP\",\"Asus\",\"Dell\",\"Lenovo\",\"Toshiba\",\"MSI\",\"Lenovo\",\"Lenovo\",\"HP\",\"Dell\",\"Dell\",\"Toshiba\",\"Dell\",\"Dell\",\"Apple\",\"Asus\",\"Acer\",\"Dell\",\"Lenovo\",\"MSI\",\"Lenovo\",\"Lenovo\",\"Toshiba\",\"Dell\",\"Dell\",\"Dell\",\"HP\",\"MSI\",\"Dell\",\"Dell\",\"Asus\",\"Toshiba\",\"HP\",\"Lenovo\",\"Dell\",\"Lenovo\",\"Dell\",\"Asus\",\"Acer\",\"Lenovo\",\"MSI\",\"Xiaomi\",\"Lenovo\",\"Acer\",\"Toshiba\",\"HP\",\"Toshiba\",\"Lenovo\",\"Lenovo\",\"MSI\",\"Dell\",\"Asus\",\"Asus\",\"Lenovo\",\"Lenovo\",\"HP\",\"Dell\",\"Asus\",\"Toshiba\",\"MSI\",\"HP\",\"HP\",\"HP\",\"HP\",\"Asus\",\"HP\",\"Toshiba\",\"MSI\",\"Dell\",\"Dell\",\"HP\",\"Lenovo\",\"Lenovo\",\"HP\",\"Asus\",\"Lenovo\",\"Dell\",\"Toshiba\",\"MSI\",\"Toshiba\",\"Lenovo\",\"Apple\",\"Lenovo\",\"Acer\",\"Dell\",\"Microsoft\",\"Lenovo\",\"Asus\",\"MSI\",\"Asus\",\"Acer\",\"Lenovo\",\"Asus\",\"Lenovo\",\"Dell\",\"Asus\",\"Dell\",\"HP\",\"Toshiba\",\"Lenovo\",\"Xiaomi\",\"Dell\",\"Dell\",\"Acer\",\"Dell\",\"MSI\",\"Dell\",\"HP\",\"Dell\",\"Lenovo\",\"HP\",\"HP\",\"Dell\",\"HP\",\"Asus\",\"Asus\",\"HP\",\"HP\",\"Lenovo\",\"Asus\",\"Lenovo\",\"Lenovo\",\"Dell\",\"MSI\",\"Asus\",\"HP\",\"Dell\",\"Asus\",\"Lenovo\",\"HP\",\"Asus\",\"Dell\",\"Asus\",\"Dell\",\"Dell\",\"HP\",\"Lenovo\",\"Asus\",\"Asus\",\"Toshiba\",\"MSI\",\"HP\",\"HP\",\"Huawei\",\"HP\",\"Asus\",\"HP\",\"Lenovo\",\"Dell\",\"Dell\",\"HP\",\"HP\",\"Asus\",\"Lenovo\",\"HP\",\"Asus\",\"Lenovo\",\"Dell\",\"Asus\",\"Asus\",\"Dell\",\"Dell\",\"Dell\",\"HP\",\"Dell\",\"Asus\",\"Dell\",\"Dell\",\"Asus\",\"Apple\",\"HP\",\"Dell\",\"Asus\",\"Apple\",\"Asus\",\"Lenovo\",\"Dell\",\"Lenovo\",\"Dell\",\"Apple\",\"HP\",\"Lenovo\",\"Lenovo\",\"Dell\",\"Dell\",\"Lenovo\",\"Asus\",\"HP\",\"Lenovo\",\"Lenovo\",\"Asus\",\"Apple\",\"Lenovo\",\"Dell\",\"Dell\",\"Lenovo\",\"Dell\",\"Dell\",\"Dell\",\"MSI\",\"Dell\",\"Dell\",\"Dell\",\"Dell\",\"Microsoft\",\"Dell\",\"HP\",\"Microsoft\",\"Asus\",\"Xiaomi\",\"Asus\",\"HP\",\"Dell\",\"HP\",\"HP\",\"HP\",\"Asus\",\"Toshiba\",\"HP\",\"Lenovo\",\"Lenovo\",\"HP\",\"Asus\",\"HP\",\"Google\",\"HP\",\"Dell\"],\"xaxis\":\"x\",\"yaxis\":\"y\",\"type\":\"histogram\"},{\"alignmentgroup\":\"True\",\"bingroup\":\"x\",\"hovertemplate\":\"price_range=high\\u003cbr\\u003emanufacturer=%{x}\\u003cbr\\u003ecount=%{y}\\u003cextra\\u003e\\u003c\\u002fextra\\u003e\",\"legendgroup\":\"high\",\"marker\":{\"color\":\"#00cc96\",\"pattern\":{\"shape\":\"\"}},\"name\":\"high\",\"offsetgroup\":\"high\",\"orientation\":\"v\",\"showlegend\":true,\"x\":[\"Dell\",\"Razer\",\"Huawei\",\"HP\",\"Lenovo\",\"Asus\",\"Dell\",\"Lenovo\",\"MSI\",\"Dell\",\"Asus\",\"Lenovo\",\"Asus\",\"Dell\",\"Lenovo\",\"Dell\",\"HP\",\"Lenovo\",\"Dell\",\"Lenovo\",\"Lenovo\",\"HP\",\"Dell\",\"Dell\",\"Asus\",\"Dell\",\"Lenovo\",\"Lenovo\",\"Lenovo\",\"HP\",\"Dell\",\"HP\",\"Dell\",\"Dell\",\"Dell\",\"Toshiba\",\"Dell\",\"HP\",\"Dell\",\"Dell\",\"Dell\",\"Lenovo\",\"Apple\",\"Dell\",\"Dell\",\"HP\",\"MSI\",\"Lenovo\",\"HP\",\"HP\",\"Asus\",\"Dell\",\"Apple\",\"Asus\",\"Apple\",\"Dell\",\"Dell\",\"Dell\",\"Apple\",\"Dell\",\"Dell\",\"Asus\",\"Apple\",\"Toshiba\",\"Lenovo\",\"Toshiba\",\"Apple\",\"Apple\",\"MSI\",\"Lenovo\",\"Toshiba\",\"Lenovo\",\"HP\",\"HP\",\"MSI\",\"HP\",\"Dell\",\"HP\",\"Dell\",\"Toshiba\",\"HP\",\"Dell\",\"MSI\",\"Lenovo\",\"MSI\",\"Samsung\",\"Lenovo\",\"Samsung\",\"MSI\",\"Apple\",\"MSI\",\"Asus\",\"Dell\",\"HP\",\"LG\",\"Lenovo\",\"HP\",\"Lenovo\",\"Lenovo\",\"Dell\",\"Dell\",\"Lenovo\",\"Toshiba\",\"LG\",\"Samsung\",\"Samsung\",\"HP\",\"Dell\",\"Lenovo\",\"HP\",\"Dell\",\"Lenovo\",\"Dell\",\"Dell\",\"Microsoft\",\"Microsoft\",\"Dell\",\"Asus\",\"Dell\",\"HP\",\"Lenovo\",\"HP\",\"Dell\",\"Lenovo\",\"Dell\",\"Razer\",\"Lenovo\",\"Lenovo\",\"HP\",\"Microsoft\",\"Lenovo\",\"HP\",\"Dell\",\"MSI\",\"HP\",\"Dell\",\"Lenovo\",\"Lenovo\",\"Asus\",\"Google\",\"Lenovo\",\"Lenovo\",\"Dell\",\"Asus\",\"Lenovo\",\"Lenovo\",\"Dell\",\"HP\",\"Asus\",\"Asus\",\"Lenovo\",\"MSI\",\"Lenovo\",\"Toshiba\",\"HP\",\"Xiaomi\",\"Dell\",\"Asus\",\"HP\",\"Dell\",\"Dell\",\"Lenovo\",\"HP\",\"Lenovo\",\"HP\",\"Dell\",\"MSI\",\"HP\",\"Toshiba\",\"Dell\",\"Lenovo\",\"Asus\",\"Toshiba\",\"Toshiba\",\"MSI\",\"MSI\",\"HP\",\"Dell\",\"Dell\",\"Lenovo\",\"Lenovo\",\"Lenovo\",\"Samsung\",\"Asus\",\"Lenovo\",\"MSI\",\"MSI\",\"Dell\",\"Asus\",\"Razer\",\"Lenovo\",\"Apple\",\"Asus\",\"Lenovo\",\"Samsung\",\"Dell\",\"Asus\",\"Google\",\"Dell\",\"Dell\",\"HP\",\"Asus\",\"Asus\",\"HP\",\"HP\",\"Dell\",\"Asus\",\"Toshiba\",\"Lenovo\",\"Dell\",\"Dell\",\"HP\",\"Dell\",\"Dell\",\"Lenovo\",\"HP\",\"Asus\",\"Lenovo\",\"Apple\",\"Asus\",\"Lenovo\",\"Lenovo\",\"Acer\",\"MSI\",\"Lenovo\",\"MSI\",\"Dell\",\"Toshiba\",\"MSI\",\"HP\",\"Lenovo\",\"Toshiba\",\"Lenovo\",\"Dell\",\"Lenovo\",\"Lenovo\",\"HP\",\"Asus\",\"Asus\",\"Dell\",\"Lenovo\",\"Lenovo\",\"Dell\",\"Asus\",\"MSI\",\"LG\",\"Dell\",\"Asus\",\"Asus\",\"HP\",\"Toshiba\",\"MSI\",\"HP\",\"Dell\",\"Acer\",\"Lenovo\",\"Dell\",\"Lenovo\",\"Lenovo\",\"Dell\",\"Dell\",\"MSI\",\"HP\",\"Dell\",\"Toshiba\",\"Dell\",\"Lenovo\",\"Samsung\",\"Dell\"],\"xaxis\":\"x\",\"yaxis\":\"y\",\"type\":\"histogram\"}],                        {\"template\":{\"data\":{\"histogram2dcontour\":[{\"type\":\"histogram2dcontour\",\"colorbar\":{\"outlinewidth\":0,\"ticks\":\"\"},\"colorscale\":[[0.0,\"#0d0887\"],[0.1111111111111111,\"#46039f\"],[0.2222222222222222,\"#7201a8\"],[0.3333333333333333,\"#9c179e\"],[0.4444444444444444,\"#bd3786\"],[0.5555555555555556,\"#d8576b\"],[0.6666666666666666,\"#ed7953\"],[0.7777777777777778,\"#fb9f3a\"],[0.8888888888888888,\"#fdca26\"],[1.0,\"#f0f921\"]]}],\"choropleth\":[{\"type\":\"choropleth\",\"colorbar\":{\"outlinewidth\":0,\"ticks\":\"\"}}],\"histogram2d\":[{\"type\":\"histogram2d\",\"colorbar\":{\"outlinewidth\":0,\"ticks\":\"\"},\"colorscale\":[[0.0,\"#0d0887\"],[0.1111111111111111,\"#46039f\"],[0.2222222222222222,\"#7201a8\"],[0.3333333333333333,\"#9c179e\"],[0.4444444444444444,\"#bd3786\"],[0.5555555555555556,\"#d8576b\"],[0.6666666666666666,\"#ed7953\"],[0.7777777777777778,\"#fb9f3a\"],[0.8888888888888888,\"#fdca26\"],[1.0,\"#f0f921\"]]}],\"heatmap\":[{\"type\":\"heatmap\",\"colorbar\":{\"outlinewidth\":0,\"ticks\":\"\"},\"colorscale\":[[0.0,\"#0d0887\"],[0.1111111111111111,\"#46039f\"],[0.2222222222222222,\"#7201a8\"],[0.3333333333333333,\"#9c179e\"],[0.4444444444444444,\"#bd3786\"],[0.5555555555555556,\"#d8576b\"],[0.6666666666666666,\"#ed7953\"],[0.7777777777777778,\"#fb9f3a\"],[0.8888888888888888,\"#fdca26\"],[1.0,\"#f0f921\"]]}],\"heatmapgl\":[{\"type\":\"heatmapgl\",\"colorbar\":{\"outlinewidth\":0,\"ticks\":\"\"},\"colorscale\":[[0.0,\"#0d0887\"],[0.1111111111111111,\"#46039f\"],[0.2222222222222222,\"#7201a8\"],[0.3333333333333333,\"#9c179e\"],[0.4444444444444444,\"#bd3786\"],[0.5555555555555556,\"#d8576b\"],[0.6666666666666666,\"#ed7953\"],[0.7777777777777778,\"#fb9f3a\"],[0.8888888888888888,\"#fdca26\"],[1.0,\"#f0f921\"]]}],\"contourcarpet\":[{\"type\":\"contourcarpet\",\"colorbar\":{\"outlinewidth\":0,\"ticks\":\"\"}}],\"contour\":[{\"type\":\"contour\",\"colorbar\":{\"outlinewidth\":0,\"ticks\":\"\"},\"colorscale\":[[0.0,\"#0d0887\"],[0.1111111111111111,\"#46039f\"],[0.2222222222222222,\"#7201a8\"],[0.3333333333333333,\"#9c179e\"],[0.4444444444444444,\"#bd3786\"],[0.5555555555555556,\"#d8576b\"],[0.6666666666666666,\"#ed7953\"],[0.7777777777777778,\"#fb9f3a\"],[0.8888888888888888,\"#fdca26\"],[1.0,\"#f0f921\"]]}],\"surface\":[{\"type\":\"surface\",\"colorbar\":{\"outlinewidth\":0,\"ticks\":\"\"},\"colorscale\":[[0.0,\"#0d0887\"],[0.1111111111111111,\"#46039f\"],[0.2222222222222222,\"#7201a8\"],[0.3333333333333333,\"#9c179e\"],[0.4444444444444444,\"#bd3786\"],[0.5555555555555556,\"#d8576b\"],[0.6666666666666666,\"#ed7953\"],[0.7777777777777778,\"#fb9f3a\"],[0.8888888888888888,\"#fdca26\"],[1.0,\"#f0f921\"]]}],\"mesh3d\":[{\"type\":\"mesh3d\",\"colorbar\":{\"outlinewidth\":0,\"ticks\":\"\"}}],\"scatter\":[{\"fillpattern\":{\"fillmode\":\"overlay\",\"size\":10,\"solidity\":0.2},\"type\":\"scatter\"}],\"parcoords\":[{\"type\":\"parcoords\",\"line\":{\"colorbar\":{\"outlinewidth\":0,\"ticks\":\"\"}}}],\"scatterpolargl\":[{\"type\":\"scatterpolargl\",\"marker\":{\"colorbar\":{\"outlinewidth\":0,\"ticks\":\"\"}}}],\"bar\":[{\"error_x\":{\"color\":\"#2a3f5f\"},\"error_y\":{\"color\":\"#2a3f5f\"},\"marker\":{\"line\":{\"color\":\"#E5ECF6\",\"width\":0.5},\"pattern\":{\"fillmode\":\"overlay\",\"size\":10,\"solidity\":0.2}},\"type\":\"bar\"}],\"scattergeo\":[{\"type\":\"scattergeo\",\"marker\":{\"colorbar\":{\"outlinewidth\":0,\"ticks\":\"\"}}}],\"scatterpolar\":[{\"type\":\"scatterpolar\",\"marker\":{\"colorbar\":{\"outlinewidth\":0,\"ticks\":\"\"}}}],\"histogram\":[{\"marker\":{\"pattern\":{\"fillmode\":\"overlay\",\"size\":10,\"solidity\":0.2}},\"type\":\"histogram\"}],\"scattergl\":[{\"type\":\"scattergl\",\"marker\":{\"colorbar\":{\"outlinewidth\":0,\"ticks\":\"\"}}}],\"scatter3d\":[{\"type\":\"scatter3d\",\"line\":{\"colorbar\":{\"outlinewidth\":0,\"ticks\":\"\"}},\"marker\":{\"colorbar\":{\"outlinewidth\":0,\"ticks\":\"\"}}}],\"scattermapbox\":[{\"type\":\"scattermapbox\",\"marker\":{\"colorbar\":{\"outlinewidth\":0,\"ticks\":\"\"}}}],\"scatterternary\":[{\"type\":\"scatterternary\",\"marker\":{\"colorbar\":{\"outlinewidth\":0,\"ticks\":\"\"}}}],\"scattercarpet\":[{\"type\":\"scattercarpet\",\"marker\":{\"colorbar\":{\"outlinewidth\":0,\"ticks\":\"\"}}}],\"carpet\":[{\"aaxis\":{\"endlinecolor\":\"#2a3f5f\",\"gridcolor\":\"white\",\"linecolor\":\"white\",\"minorgridcolor\":\"white\",\"startlinecolor\":\"#2a3f5f\"},\"baxis\":{\"endlinecolor\":\"#2a3f5f\",\"gridcolor\":\"white\",\"linecolor\":\"white\",\"minorgridcolor\":\"white\",\"startlinecolor\":\"#2a3f5f\"},\"type\":\"carpet\"}],\"table\":[{\"cells\":{\"fill\":{\"color\":\"#EBF0F8\"},\"line\":{\"color\":\"white\"}},\"header\":{\"fill\":{\"color\":\"#C8D4E3\"},\"line\":{\"color\":\"white\"}},\"type\":\"table\"}],\"barpolar\":[{\"marker\":{\"line\":{\"color\":\"#E5ECF6\",\"width\":0.5},\"pattern\":{\"fillmode\":\"overlay\",\"size\":10,\"solidity\":0.2}},\"type\":\"barpolar\"}],\"pie\":[{\"automargin\":true,\"type\":\"pie\"}]},\"layout\":{\"autotypenumbers\":\"strict\",\"colorway\":[\"#636efa\",\"#EF553B\",\"#00cc96\",\"#ab63fa\",\"#FFA15A\",\"#19d3f3\",\"#FF6692\",\"#B6E880\",\"#FF97FF\",\"#FECB52\"],\"font\":{\"color\":\"#2a3f5f\"},\"hovermode\":\"closest\",\"hoverlabel\":{\"align\":\"left\"},\"paper_bgcolor\":\"white\",\"plot_bgcolor\":\"#E5ECF6\",\"polar\":{\"bgcolor\":\"#E5ECF6\",\"angularaxis\":{\"gridcolor\":\"white\",\"linecolor\":\"white\",\"ticks\":\"\"},\"radialaxis\":{\"gridcolor\":\"white\",\"linecolor\":\"white\",\"ticks\":\"\"}},\"ternary\":{\"bgcolor\":\"#E5ECF6\",\"aaxis\":{\"gridcolor\":\"white\",\"linecolor\":\"white\",\"ticks\":\"\"},\"baxis\":{\"gridcolor\":\"white\",\"linecolor\":\"white\",\"ticks\":\"\"},\"caxis\":{\"gridcolor\":\"white\",\"linecolor\":\"white\",\"ticks\":\"\"}},\"coloraxis\":{\"colorbar\":{\"outlinewidth\":0,\"ticks\":\"\"}},\"colorscale\":{\"sequential\":[[0.0,\"#0d0887\"],[0.1111111111111111,\"#46039f\"],[0.2222222222222222,\"#7201a8\"],[0.3333333333333333,\"#9c179e\"],[0.4444444444444444,\"#bd3786\"],[0.5555555555555556,\"#d8576b\"],[0.6666666666666666,\"#ed7953\"],[0.7777777777777778,\"#fb9f3a\"],[0.8888888888888888,\"#fdca26\"],[1.0,\"#f0f921\"]],\"sequentialminus\":[[0.0,\"#0d0887\"],[0.1111111111111111,\"#46039f\"],[0.2222222222222222,\"#7201a8\"],[0.3333333333333333,\"#9c179e\"],[0.4444444444444444,\"#bd3786\"],[0.5555555555555556,\"#d8576b\"],[0.6666666666666666,\"#ed7953\"],[0.7777777777777778,\"#fb9f3a\"],[0.8888888888888888,\"#fdca26\"],[1.0,\"#f0f921\"]],\"diverging\":[[0,\"#8e0152\"],[0.1,\"#c51b7d\"],[0.2,\"#de77ae\"],[0.3,\"#f1b6da\"],[0.4,\"#fde0ef\"],[0.5,\"#f7f7f7\"],[0.6,\"#e6f5d0\"],[0.7,\"#b8e186\"],[0.8,\"#7fbc41\"],[0.9,\"#4d9221\"],[1,\"#276419\"]]},\"xaxis\":{\"gridcolor\":\"white\",\"linecolor\":\"white\",\"ticks\":\"\",\"title\":{\"standoff\":15},\"zerolinecolor\":\"white\",\"automargin\":true,\"zerolinewidth\":2},\"yaxis\":{\"gridcolor\":\"white\",\"linecolor\":\"white\",\"ticks\":\"\",\"title\":{\"standoff\":15},\"zerolinecolor\":\"white\",\"automargin\":true,\"zerolinewidth\":2},\"scene\":{\"xaxis\":{\"backgroundcolor\":\"#E5ECF6\",\"gridcolor\":\"white\",\"linecolor\":\"white\",\"showbackground\":true,\"ticks\":\"\",\"zerolinecolor\":\"white\",\"gridwidth\":2},\"yaxis\":{\"backgroundcolor\":\"#E5ECF6\",\"gridcolor\":\"white\",\"linecolor\":\"white\",\"showbackground\":true,\"ticks\":\"\",\"zerolinecolor\":\"white\",\"gridwidth\":2},\"zaxis\":{\"backgroundcolor\":\"#E5ECF6\",\"gridcolor\":\"white\",\"linecolor\":\"white\",\"showbackground\":true,\"ticks\":\"\",\"zerolinecolor\":\"white\",\"gridwidth\":2}},\"shapedefaults\":{\"line\":{\"color\":\"#2a3f5f\"}},\"annotationdefaults\":{\"arrowcolor\":\"#2a3f5f\",\"arrowhead\":0,\"arrowwidth\":1},\"geo\":{\"bgcolor\":\"white\",\"landcolor\":\"#E5ECF6\",\"subunitcolor\":\"white\",\"showland\":true,\"showlakes\":true,\"lakecolor\":\"white\"},\"title\":{\"x\":0.05},\"mapbox\":{\"style\":\"light\"}}},\"xaxis\":{\"anchor\":\"y\",\"domain\":[0.0,1.0],\"title\":{\"text\":\"manufacturer\"}},\"yaxis\":{\"anchor\":\"x\",\"domain\":[0.0,1.0],\"title\":{\"text\":\"count\"}},\"legend\":{\"title\":{\"text\":\"price_range\"},\"tracegroupgap\":0},\"margin\":{\"t\":60},\"barmode\":\"relative\"},                        {\"responsive\": true}                    ).then(function(){\n",
       "                            \n",
       "var gd = document.getElementById('8a4538d1-7655-4302-bceb-f30a940146cb');\n",
       "var x = new MutationObserver(function (mutations, observer) {{\n",
       "        var display = window.getComputedStyle(gd).display;\n",
       "        if (!display || display === 'none') {{\n",
       "            console.log([gd, 'removed!']);\n",
       "            Plotly.purge(gd);\n",
       "            observer.disconnect();\n",
       "        }}\n",
       "}});\n",
       "\n",
       "// Listen for the removal of the full notebook cells\n",
       "var notebookContainer = gd.closest('#notebook-container');\n",
       "if (notebookContainer) {{\n",
       "    x.observe(notebookContainer, {childList: true});\n",
       "}}\n",
       "\n",
       "// Listen for the clearing of the current output cell\n",
       "var outputEl = gd.closest('.output');\n",
       "if (outputEl) {{\n",
       "    x.observe(outputEl, {childList: true});\n",
       "}}\n",
       "\n",
       "                        })                };                });            </script>        </div>"
      ]
     },
     "metadata": {},
     "output_type": "display_data"
    }
   ],
   "source": [
    "px.histogram(laptops_train,x=\"manufacturer\", color=\"price_range\")"
   ]
  },
  {
   "cell_type": "markdown",
   "id": "9d21d6c3-db2e-4758-a5df-69d8e5e4422f",
   "metadata": {},
   "source": [
    "Se puede observar como el dataset cuenta en su mayoria con 4 manufacturadores predominantes, Lenovo, Dell, HP y Asus."
   ]
  },
  {
   "cell_type": "markdown",
   "id": "e3a19a0a-1f74-440c-bf9b-b55ca0dad46a",
   "metadata": {},
   "source": [
    "### Category"
   ]
  },
  {
   "cell_type": "code",
   "execution_count": 246,
   "id": "591ee396-0ff2-4ba6-a22a-c83e3641b201",
   "metadata": {},
   "outputs": [
    {
     "data": {
      "application/vnd.plotly.v1+json": {
       "config": {
        "plotlyServerURL": "https://plot.ly"
       },
       "data": [
        {
         "alignmentgroup": "True",
         "bingroup": "x",
         "hovertemplate": "price_range=low<br>category=%{x}<br>count=%{y}<extra></extra>",
         "legendgroup": "low",
         "marker": {
          "color": "#636efa",
          "pattern": {
           "shape": ""
          }
         },
         "name": "low",
         "offsetgroup": "low",
         "orientation": "v",
         "showlegend": true,
         "type": "histogram",
         "x": [
          "Notebook",
          "Notebook",
          "Notebook",
          "Gaming",
          "Notebook",
          "Notebook",
          "Notebook",
          "Notebook",
          "Notebook",
          "Notebook",
          "Notebook",
          "Notebook",
          "Notebook",
          "Notebook",
          "Notebook",
          "Notebook",
          "Notebook",
          "Ultrabook",
          "2 in 1 Convertible",
          "Notebook",
          "2 in 1 Convertible",
          "Notebook",
          "Notebook",
          "Notebook",
          "Notebook",
          "Notebook",
          "Notebook",
          "2 in 1 Convertible",
          "Notebook",
          "Notebook",
          "Notebook",
          "2 in 1 Convertible",
          "2 in 1 Convertible",
          "Notebook",
          "Notebook",
          "Notebook",
          "Notebook",
          "Notebook",
          "Notebook",
          "Notebook",
          "Ultrabook",
          "Notebook",
          "Notebook",
          "Notebook",
          "Notebook",
          "Notebook",
          "Notebook",
          "2 in 1 Convertible",
          "Notebook",
          "Notebook",
          "Gaming",
          "Notebook",
          "Notebook",
          "Notebook",
          "Notebook",
          "Notebook",
          "Notebook",
          "Notebook",
          "Netbook",
          "Notebook",
          "Netbook",
          "Notebook",
          "Notebook",
          "Notebook",
          "Notebook",
          "Notebook",
          "Notebook",
          "Notebook",
          "Notebook",
          "Notebook",
          "Notebook",
          "Gaming",
          "Notebook",
          "Notebook",
          "Notebook",
          "Notebook",
          "Notebook",
          "Notebook",
          "Notebook",
          "Notebook",
          "2 in 1 Convertible",
          "Notebook",
          "Notebook",
          "Notebook",
          "Notebook",
          "2 in 1 Convertible",
          "Notebook",
          "Notebook",
          "Notebook",
          "Notebook",
          "Notebook",
          "Notebook",
          "Notebook",
          "Notebook",
          "Notebook",
          "Notebook",
          "Notebook",
          "Notebook",
          "2 in 1 Convertible",
          "Notebook",
          "Notebook",
          "Notebook",
          "Notebook",
          "Notebook",
          "Notebook",
          "Notebook",
          "Notebook",
          "Notebook",
          "Notebook",
          "Notebook",
          "2 in 1 Convertible",
          "Notebook",
          "Notebook",
          "Netbook",
          "Notebook",
          "Notebook",
          "Notebook",
          "Notebook",
          "Notebook",
          "Notebook",
          "Notebook",
          "Notebook",
          "Notebook",
          "Notebook",
          "Notebook",
          "Notebook",
          "Notebook",
          "Notebook",
          "Notebook",
          "Notebook",
          "Netbook",
          "Notebook",
          "Netbook",
          "Notebook",
          "Notebook",
          "Ultrabook",
          "Notebook",
          "2 in 1 Convertible",
          "Notebook",
          "2 in 1 Convertible",
          "Netbook",
          "Notebook",
          "Notebook",
          "Notebook",
          "Netbook",
          "Notebook",
          "Notebook",
          "Notebook",
          "Notebook",
          "Notebook",
          "Notebook",
          "Notebook",
          "Notebook",
          "Notebook",
          "Notebook",
          "Notebook",
          "Notebook",
          "Notebook",
          "Notebook",
          "Notebook",
          "Notebook",
          "Notebook",
          "2 in 1 Convertible",
          "Notebook",
          "Notebook",
          "Notebook",
          "Notebook",
          "Notebook",
          "Gaming",
          "Notebook",
          "Notebook",
          "Gaming",
          "Notebook",
          "Notebook",
          "Notebook",
          "Notebook",
          "Notebook",
          "Notebook",
          "Notebook",
          "Notebook",
          "Notebook",
          "Notebook",
          "Notebook",
          "Notebook",
          "Notebook",
          "Notebook",
          "Notebook",
          "2 in 1 Convertible",
          "Notebook",
          "Notebook",
          "Ultrabook",
          "Notebook",
          "Gaming",
          "Notebook",
          "Notebook",
          "Notebook",
          "Notebook",
          "Notebook",
          "Notebook",
          "Notebook",
          "Notebook",
          "Netbook",
          "2 in 1 Convertible",
          "Notebook",
          "Notebook",
          "Notebook",
          "Notebook",
          "Notebook",
          "Notebook",
          "Notebook",
          "Notebook",
          "Notebook",
          "Notebook",
          "Notebook",
          "Notebook",
          "2 in 1 Convertible",
          "Notebook",
          "Notebook",
          "Notebook",
          "Notebook",
          "Notebook",
          "Notebook",
          "Notebook",
          "Notebook",
          "Notebook",
          "Notebook",
          "Notebook",
          "2 in 1 Convertible",
          "Notebook",
          "Notebook",
          "Notebook",
          "Notebook",
          "Notebook",
          "Notebook",
          "Notebook",
          "2 in 1 Convertible",
          "Notebook",
          "Notebook",
          "Notebook",
          "Notebook",
          "Notebook",
          "Netbook",
          "Notebook",
          "Notebook",
          "Notebook",
          "Notebook",
          "Notebook",
          "2 in 1 Convertible",
          "Notebook",
          "Notebook",
          "Notebook",
          "Notebook",
          "Notebook",
          "Notebook",
          "Notebook",
          "Notebook",
          "Notebook",
          "Notebook",
          "Notebook",
          "Notebook",
          "Notebook",
          "Notebook",
          "Notebook",
          "Notebook",
          "Notebook",
          "Notebook",
          "2 in 1 Convertible",
          "Notebook",
          "Notebook",
          "Gaming",
          "Notebook",
          "Notebook",
          "Notebook",
          "Ultrabook",
          "Notebook",
          "Notebook",
          "Notebook",
          "Notebook",
          "Notebook",
          "Notebook",
          "Notebook",
          "Netbook",
          "Notebook",
          "Notebook",
          "Notebook",
          "Notebook",
          "Notebook",
          "Notebook",
          "Gaming",
          "Notebook",
          "Notebook",
          "Notebook",
          "Notebook",
          "Notebook",
          "Notebook",
          "Notebook",
          "Notebook",
          "Notebook",
          "Ultrabook",
          "Notebook",
          "Notebook",
          "Notebook",
          "Notebook",
          "Notebook",
          "Notebook",
          "Notebook",
          "2 in 1 Convertible",
          "Notebook",
          "Notebook",
          "Notebook",
          "Notebook",
          "Notebook",
          "Notebook",
          "Notebook",
          "Notebook",
          "Notebook",
          "Notebook",
          "Notebook",
          "Notebook",
          "Notebook",
          "Notebook",
          "Notebook",
          "Notebook",
          "Ultrabook",
          "2 in 1 Convertible",
          "Notebook",
          "Netbook",
          "2 in 1 Convertible",
          "Notebook",
          "Notebook",
          "2 in 1 Convertible",
          "Notebook",
          "Notebook",
          "Notebook",
          "Notebook",
          "Ultrabook",
          "Notebook",
          "Notebook",
          "Notebook",
          "Notebook",
          "Notebook",
          "Notebook",
          "Ultrabook",
          "Notebook",
          "Notebook",
          "Notebook",
          "Notebook",
          "Notebook",
          "Notebook",
          "Notebook",
          "Notebook",
          "Notebook",
          "Notebook",
          "Notebook",
          "Ultrabook",
          "Notebook",
          "Notebook",
          "Notebook",
          "Notebook",
          "Notebook",
          "Notebook",
          "Notebook",
          "Notebook",
          "Notebook",
          "2 in 1 Convertible",
          "Notebook",
          "Notebook",
          "Notebook",
          "Notebook",
          "Notebook",
          "Notebook",
          "Notebook",
          "Notebook",
          "Notebook",
          "Notebook",
          "Notebook",
          "Notebook",
          "Notebook",
          "Gaming",
          "Notebook",
          "Notebook",
          "2 in 1 Convertible",
          "Notebook",
          "Notebook",
          "Netbook",
          "Notebook",
          "Notebook",
          "Notebook",
          "Notebook",
          "Notebook",
          "Notebook",
          "Gaming",
          "Notebook",
          "Notebook",
          "Notebook",
          "2 in 1 Convertible",
          "Notebook",
          "Notebook",
          "Notebook",
          "Notebook",
          "Notebook",
          "Notebook",
          "Notebook",
          "Notebook",
          "Notebook",
          "Netbook",
          "Notebook",
          "Notebook",
          "Notebook",
          "Notebook",
          "Notebook",
          "Notebook",
          "Notebook",
          "Notebook",
          "2 in 1 Convertible",
          "Notebook",
          "Notebook",
          "Notebook",
          "Notebook",
          "Notebook",
          "Notebook",
          "Notebook",
          "Notebook",
          "Notebook",
          "Notebook",
          "Netbook",
          "Gaming",
          "2 in 1 Convertible",
          "Notebook",
          "Notebook",
          "Notebook",
          "Notebook",
          "Notebook",
          "Notebook",
          "Notebook",
          "Notebook",
          "Notebook",
          "Notebook",
          "Notebook",
          "Notebook",
          "Notebook",
          "2 in 1 Convertible",
          "Notebook",
          "Notebook",
          "Notebook",
          "2 in 1 Convertible",
          "Notebook",
          "Notebook",
          "Notebook",
          "Notebook",
          "Notebook",
          "Notebook",
          "Notebook",
          "Notebook",
          "Notebook",
          "Notebook",
          "Gaming",
          "Notebook",
          "Notebook",
          "Notebook",
          "Notebook",
          "Notebook",
          "Notebook"
         ],
         "xaxis": "x",
         "yaxis": "y"
        },
        {
         "alignmentgroup": "True",
         "bingroup": "x",
         "hovertemplate": "price_range=mid<br>category=%{x}<br>count=%{y}<extra></extra>",
         "legendgroup": "mid",
         "marker": {
          "color": "#EF553B",
          "pattern": {
           "shape": ""
          }
         },
         "name": "mid",
         "offsetgroup": "mid",
         "orientation": "v",
         "showlegend": true,
         "type": "histogram",
         "x": [
          "Gaming",
          "Gaming",
          "Notebook",
          "2 in 1 Convertible",
          "Ultrabook",
          "Gaming",
          "Ultrabook",
          "Gaming",
          "Notebook",
          "Notebook",
          "Notebook",
          "2 in 1 Convertible",
          "Gaming",
          "Notebook",
          "Notebook",
          "Gaming",
          "Gaming",
          "Notebook",
          "Notebook",
          "Notebook",
          "Ultrabook",
          "Notebook",
          "Notebook",
          "Gaming",
          "Ultrabook",
          "Notebook",
          "Notebook",
          "Notebook",
          "2 in 1 Convertible",
          "Gaming",
          "2 in 1 Convertible",
          "2 in 1 Convertible",
          "Notebook",
          "Notebook",
          "Notebook",
          "Gaming",
          "Notebook",
          "Gaming",
          "Notebook",
          "Notebook",
          "Gaming",
          "Notebook",
          "Notebook",
          "2 in 1 Convertible",
          "Notebook",
          "Gaming",
          "Notebook",
          "Ultrabook",
          "Gaming",
          "Gaming",
          "Gaming",
          "Ultrabook",
          "Notebook",
          "2 in 1 Convertible",
          "Notebook",
          "Notebook",
          "Notebook",
          "Gaming",
          "Notebook",
          "Gaming",
          "Notebook",
          "Ultrabook",
          "Gaming",
          "2 in 1 Convertible",
          "Ultrabook",
          "Notebook",
          "Notebook",
          "Gaming",
          "Ultrabook",
          "Gaming",
          "Notebook",
          "Notebook",
          "Ultrabook",
          "Notebook",
          "2 in 1 Convertible",
          "Ultrabook",
          "Ultrabook",
          "Gaming",
          "Gaming",
          "Notebook",
          "Notebook",
          "Notebook",
          "Gaming",
          "Notebook",
          "Gaming",
          "Notebook",
          "Notebook",
          "Notebook",
          "Gaming",
          "Notebook",
          "2 in 1 Convertible",
          "Ultrabook",
          "Notebook",
          "Notebook",
          "Gaming",
          "Ultrabook",
          "Ultrabook",
          "Ultrabook",
          "Gaming",
          "2 in 1 Convertible",
          "Notebook",
          "Gaming",
          "Ultrabook",
          "Notebook",
          "Ultrabook",
          "Gaming",
          "Ultrabook",
          "Notebook",
          "Notebook",
          "Notebook",
          "Notebook",
          "Notebook",
          "Ultrabook",
          "Ultrabook",
          "Notebook",
          "Gaming",
          "Gaming",
          "Ultrabook",
          "Notebook",
          "Notebook",
          "Notebook",
          "Gaming",
          "Gaming",
          "Notebook",
          "Ultrabook",
          "Ultrabook",
          "Gaming",
          "Ultrabook",
          "Gaming",
          "Gaming",
          "Notebook",
          "Notebook",
          "Ultrabook",
          "Gaming",
          "Gaming",
          "Notebook",
          "Gaming",
          "Ultrabook",
          "Gaming",
          "Ultrabook",
          "2 in 1 Convertible",
          "2 in 1 Convertible",
          "Notebook",
          "Notebook",
          "Ultrabook",
          "Notebook",
          "Gaming",
          "Gaming",
          "Notebook",
          "Notebook",
          "Gaming",
          "Notebook",
          "Notebook",
          "Ultrabook",
          "Notebook",
          "Notebook",
          "Notebook",
          "Notebook",
          "Notebook",
          "Workstation",
          "Notebook",
          "Notebook",
          "Gaming",
          "Notebook",
          "Gaming",
          "2 in 1 Convertible",
          "Notebook",
          "Notebook",
          "Notebook",
          "Ultrabook",
          "Gaming",
          "Notebook",
          "Notebook",
          "Notebook",
          "Gaming",
          "Gaming",
          "Ultrabook",
          "2 in 1 Convertible",
          "Notebook",
          "Ultrabook",
          "Notebook",
          "Notebook",
          "Gaming",
          "Ultrabook",
          "Gaming",
          "Ultrabook",
          "Notebook",
          "Notebook",
          "Ultrabook",
          "Ultrabook",
          "Notebook",
          "Notebook",
          "Notebook",
          "Ultrabook",
          "Notebook",
          "Notebook",
          "Notebook",
          "Ultrabook",
          "Gaming",
          "Gaming",
          "Notebook",
          "Ultrabook",
          "2 in 1 Convertible",
          "Notebook",
          "Notebook",
          "Notebook",
          "Notebook",
          "Ultrabook",
          "Notebook",
          "Gaming",
          "Notebook",
          "Notebook",
          "2 in 1 Convertible",
          "Notebook",
          "Ultrabook",
          "Ultrabook",
          "Ultrabook",
          "Ultrabook",
          "Gaming",
          "Ultrabook",
          "Notebook",
          "Notebook",
          "Notebook",
          "Gaming",
          "Notebook",
          "Notebook",
          "Notebook",
          "Ultrabook",
          "Notebook",
          "Notebook",
          "Notebook",
          "Notebook",
          "Gaming",
          "Notebook",
          "Ultrabook",
          "Notebook",
          "Notebook"
         ],
         "xaxis": "x",
         "yaxis": "y"
        },
        {
         "alignmentgroup": "True",
         "bingroup": "x",
         "hovertemplate": "price_range=high<br>category=%{x}<br>count=%{y}<extra></extra>",
         "legendgroup": "high",
         "marker": {
          "color": "#00cc96",
          "pattern": {
           "shape": ""
          }
         },
         "name": "high",
         "offsetgroup": "high",
         "orientation": "v",
         "showlegend": true,
         "type": "histogram",
         "x": [
          "Gaming",
          "Ultrabook",
          "Ultrabook",
          "2 in 1 Convertible",
          "Ultrabook",
          "Gaming",
          "Ultrabook",
          "Gaming",
          "Gaming",
          "Gaming",
          "Gaming",
          "2 in 1 Convertible",
          "Gaming",
          "Gaming",
          "Notebook",
          "Notebook",
          "Ultrabook",
          "Ultrabook",
          "Notebook",
          "Ultrabook",
          "2 in 1 Convertible",
          "Ultrabook",
          "Ultrabook",
          "Gaming",
          "Gaming",
          "Workstation",
          "Gaming",
          "Ultrabook",
          "Ultrabook",
          "2 in 1 Convertible",
          "Ultrabook",
          "2 in 1 Convertible",
          "Gaming",
          "Ultrabook",
          "Ultrabook",
          "Notebook",
          "Ultrabook",
          "Workstation",
          "Ultrabook",
          "Ultrabook",
          "Gaming",
          "Ultrabook",
          "Ultrabook",
          "Gaming",
          "Ultrabook",
          "Netbook",
          "Gaming",
          "2 in 1 Convertible",
          "Ultrabook",
          "Gaming",
          "Ultrabook",
          "Gaming",
          "Ultrabook",
          "Gaming",
          "Ultrabook",
          "Gaming",
          "Ultrabook",
          "2 in 1 Convertible",
          "Ultrabook",
          "2 in 1 Convertible",
          "Gaming",
          "Ultrabook",
          "Ultrabook",
          "Ultrabook",
          "Ultrabook",
          "Notebook",
          "Ultrabook",
          "Ultrabook",
          "Gaming",
          "Ultrabook",
          "Notebook",
          "2 in 1 Convertible",
          "2 in 1 Convertible",
          "2 in 1 Convertible",
          "Gaming",
          "2 in 1 Convertible",
          "Notebook",
          "2 in 1 Convertible",
          "Ultrabook",
          "Notebook",
          "Ultrabook",
          "Workstation",
          "Gaming",
          "2 in 1 Convertible",
          "Gaming",
          "Ultrabook",
          "2 in 1 Convertible",
          "Ultrabook",
          "Gaming",
          "Ultrabook",
          "Gaming",
          "Gaming",
          "Ultrabook",
          "Ultrabook",
          "Ultrabook",
          "Ultrabook",
          "Netbook",
          "Notebook",
          "Ultrabook",
          "2 in 1 Convertible",
          "2 in 1 Convertible",
          "Notebook",
          "Notebook",
          "Ultrabook",
          "Ultrabook",
          "Ultrabook",
          "Gaming",
          "Workstation",
          "Ultrabook",
          "Workstation",
          "Notebook",
          "2 in 1 Convertible",
          "Ultrabook",
          "Notebook",
          "Ultrabook",
          "Ultrabook",
          "Gaming",
          "Ultrabook",
          "Notebook",
          "Gaming",
          "Ultrabook",
          "2 in 1 Convertible",
          "Ultrabook",
          "Notebook",
          "Workstation",
          "Gaming",
          "Ultrabook",
          "Ultrabook",
          "Ultrabook",
          "Ultrabook",
          "2 in 1 Convertible",
          "Notebook",
          "Gaming",
          "Gaming",
          "Gaming",
          "Gaming",
          "Workstation",
          "Notebook",
          "Gaming",
          "Ultrabook",
          "Ultrabook",
          "Ultrabook",
          "Ultrabook",
          "Gaming",
          "Notebook",
          "Workstation",
          "Workstation",
          "Ultrabook",
          "Gaming",
          "Gaming",
          "Gaming",
          "Gaming",
          "Gaming",
          "Ultrabook",
          "Ultrabook",
          "Notebook",
          "Gaming",
          "Gaming",
          "Gaming",
          "Ultrabook",
          "Ultrabook",
          "Notebook",
          "Ultrabook",
          "Notebook",
          "Workstation",
          "Notebook",
          "Gaming",
          "Gaming",
          "Notebook",
          "Notebook",
          "Ultrabook",
          "Ultrabook",
          "Ultrabook",
          "Notebook",
          "Gaming",
          "Gaming",
          "Notebook",
          "Workstation",
          "2 in 1 Convertible",
          "Notebook",
          "2 in 1 Convertible",
          "2 in 1 Convertible",
          "Notebook",
          "Gaming",
          "Ultrabook",
          "Gaming",
          "Gaming",
          "Ultrabook",
          "Ultrabook",
          "Gaming",
          "Notebook",
          "Ultrabook",
          "Gaming",
          "2 in 1 Convertible",
          "2 in 1 Convertible",
          "Notebook",
          "2 in 1 Convertible",
          "Ultrabook",
          "Workstation",
          "Gaming",
          "Workstation",
          "Ultrabook",
          "Gaming",
          "2 in 1 Convertible",
          "Notebook",
          "Ultrabook",
          "Gaming",
          "Ultrabook",
          "Ultrabook",
          "Gaming",
          "Gaming",
          "Netbook",
          "Notebook",
          "Ultrabook",
          "Gaming",
          "Workstation",
          "Gaming",
          "2 in 1 Convertible",
          "Ultrabook",
          "Gaming",
          "2 in 1 Convertible",
          "2 in 1 Convertible",
          "Gaming",
          "Gaming",
          "2 in 1 Convertible",
          "Gaming",
          "Ultrabook",
          "Ultrabook",
          "Gaming",
          "2 in 1 Convertible",
          "Ultrabook",
          "Ultrabook",
          "2 in 1 Convertible",
          "Workstation",
          "2 in 1 Convertible",
          "2 in 1 Convertible",
          "Workstation",
          "Ultrabook",
          "Gaming",
          "Gaming",
          "2 in 1 Convertible",
          "Ultrabook",
          "Gaming",
          "Gaming",
          "Gaming",
          "Ultrabook",
          "Workstation",
          "Gaming",
          "Gaming",
          "Ultrabook",
          "Notebook",
          "Gaming",
          "Workstation",
          "Notebook",
          "Gaming",
          "2 in 1 Convertible",
          "Ultrabook",
          "Ultrabook",
          "Ultrabook",
          "Ultrabook",
          "Notebook",
          "Gaming",
          "Workstation",
          "Notebook",
          "Notebook",
          "Notebook",
          "Workstation",
          "Ultrabook",
          "Workstation"
         ],
         "xaxis": "x",
         "yaxis": "y"
        }
       ],
       "layout": {
        "autosize": true,
        "barmode": "relative",
        "legend": {
         "title": {
          "text": "price_range"
         },
         "tracegroupgap": 0
        },
        "margin": {
         "t": 60
        },
        "template": {
         "data": {
          "bar": [
           {
            "error_x": {
             "color": "#2a3f5f"
            },
            "error_y": {
             "color": "#2a3f5f"
            },
            "marker": {
             "line": {
              "color": "#E5ECF6",
              "width": 0.5
             },
             "pattern": {
              "fillmode": "overlay",
              "size": 10,
              "solidity": 0.2
             }
            },
            "type": "bar"
           }
          ],
          "barpolar": [
           {
            "marker": {
             "line": {
              "color": "#E5ECF6",
              "width": 0.5
             },
             "pattern": {
              "fillmode": "overlay",
              "size": 10,
              "solidity": 0.2
             }
            },
            "type": "barpolar"
           }
          ],
          "carpet": [
           {
            "aaxis": {
             "endlinecolor": "#2a3f5f",
             "gridcolor": "white",
             "linecolor": "white",
             "minorgridcolor": "white",
             "startlinecolor": "#2a3f5f"
            },
            "baxis": {
             "endlinecolor": "#2a3f5f",
             "gridcolor": "white",
             "linecolor": "white",
             "minorgridcolor": "white",
             "startlinecolor": "#2a3f5f"
            },
            "type": "carpet"
           }
          ],
          "choropleth": [
           {
            "colorbar": {
             "outlinewidth": 0,
             "ticks": ""
            },
            "type": "choropleth"
           }
          ],
          "contour": [
           {
            "colorbar": {
             "outlinewidth": 0,
             "ticks": ""
            },
            "colorscale": [
             [
              0,
              "#0d0887"
             ],
             [
              0.1111111111111111,
              "#46039f"
             ],
             [
              0.2222222222222222,
              "#7201a8"
             ],
             [
              0.3333333333333333,
              "#9c179e"
             ],
             [
              0.4444444444444444,
              "#bd3786"
             ],
             [
              0.5555555555555556,
              "#d8576b"
             ],
             [
              0.6666666666666666,
              "#ed7953"
             ],
             [
              0.7777777777777778,
              "#fb9f3a"
             ],
             [
              0.8888888888888888,
              "#fdca26"
             ],
             [
              1,
              "#f0f921"
             ]
            ],
            "type": "contour"
           }
          ],
          "contourcarpet": [
           {
            "colorbar": {
             "outlinewidth": 0,
             "ticks": ""
            },
            "type": "contourcarpet"
           }
          ],
          "heatmap": [
           {
            "colorbar": {
             "outlinewidth": 0,
             "ticks": ""
            },
            "colorscale": [
             [
              0,
              "#0d0887"
             ],
             [
              0.1111111111111111,
              "#46039f"
             ],
             [
              0.2222222222222222,
              "#7201a8"
             ],
             [
              0.3333333333333333,
              "#9c179e"
             ],
             [
              0.4444444444444444,
              "#bd3786"
             ],
             [
              0.5555555555555556,
              "#d8576b"
             ],
             [
              0.6666666666666666,
              "#ed7953"
             ],
             [
              0.7777777777777778,
              "#fb9f3a"
             ],
             [
              0.8888888888888888,
              "#fdca26"
             ],
             [
              1,
              "#f0f921"
             ]
            ],
            "type": "heatmap"
           }
          ],
          "heatmapgl": [
           {
            "colorbar": {
             "outlinewidth": 0,
             "ticks": ""
            },
            "colorscale": [
             [
              0,
              "#0d0887"
             ],
             [
              0.1111111111111111,
              "#46039f"
             ],
             [
              0.2222222222222222,
              "#7201a8"
             ],
             [
              0.3333333333333333,
              "#9c179e"
             ],
             [
              0.4444444444444444,
              "#bd3786"
             ],
             [
              0.5555555555555556,
              "#d8576b"
             ],
             [
              0.6666666666666666,
              "#ed7953"
             ],
             [
              0.7777777777777778,
              "#fb9f3a"
             ],
             [
              0.8888888888888888,
              "#fdca26"
             ],
             [
              1,
              "#f0f921"
             ]
            ],
            "type": "heatmapgl"
           }
          ],
          "histogram": [
           {
            "marker": {
             "pattern": {
              "fillmode": "overlay",
              "size": 10,
              "solidity": 0.2
             }
            },
            "type": "histogram"
           }
          ],
          "histogram2d": [
           {
            "colorbar": {
             "outlinewidth": 0,
             "ticks": ""
            },
            "colorscale": [
             [
              0,
              "#0d0887"
             ],
             [
              0.1111111111111111,
              "#46039f"
             ],
             [
              0.2222222222222222,
              "#7201a8"
             ],
             [
              0.3333333333333333,
              "#9c179e"
             ],
             [
              0.4444444444444444,
              "#bd3786"
             ],
             [
              0.5555555555555556,
              "#d8576b"
             ],
             [
              0.6666666666666666,
              "#ed7953"
             ],
             [
              0.7777777777777778,
              "#fb9f3a"
             ],
             [
              0.8888888888888888,
              "#fdca26"
             ],
             [
              1,
              "#f0f921"
             ]
            ],
            "type": "histogram2d"
           }
          ],
          "histogram2dcontour": [
           {
            "colorbar": {
             "outlinewidth": 0,
             "ticks": ""
            },
            "colorscale": [
             [
              0,
              "#0d0887"
             ],
             [
              0.1111111111111111,
              "#46039f"
             ],
             [
              0.2222222222222222,
              "#7201a8"
             ],
             [
              0.3333333333333333,
              "#9c179e"
             ],
             [
              0.4444444444444444,
              "#bd3786"
             ],
             [
              0.5555555555555556,
              "#d8576b"
             ],
             [
              0.6666666666666666,
              "#ed7953"
             ],
             [
              0.7777777777777778,
              "#fb9f3a"
             ],
             [
              0.8888888888888888,
              "#fdca26"
             ],
             [
              1,
              "#f0f921"
             ]
            ],
            "type": "histogram2dcontour"
           }
          ],
          "mesh3d": [
           {
            "colorbar": {
             "outlinewidth": 0,
             "ticks": ""
            },
            "type": "mesh3d"
           }
          ],
          "parcoords": [
           {
            "line": {
             "colorbar": {
              "outlinewidth": 0,
              "ticks": ""
             }
            },
            "type": "parcoords"
           }
          ],
          "pie": [
           {
            "automargin": true,
            "type": "pie"
           }
          ],
          "scatter": [
           {
            "fillpattern": {
             "fillmode": "overlay",
             "size": 10,
             "solidity": 0.2
            },
            "type": "scatter"
           }
          ],
          "scatter3d": [
           {
            "line": {
             "colorbar": {
              "outlinewidth": 0,
              "ticks": ""
             }
            },
            "marker": {
             "colorbar": {
              "outlinewidth": 0,
              "ticks": ""
             }
            },
            "type": "scatter3d"
           }
          ],
          "scattercarpet": [
           {
            "marker": {
             "colorbar": {
              "outlinewidth": 0,
              "ticks": ""
             }
            },
            "type": "scattercarpet"
           }
          ],
          "scattergeo": [
           {
            "marker": {
             "colorbar": {
              "outlinewidth": 0,
              "ticks": ""
             }
            },
            "type": "scattergeo"
           }
          ],
          "scattergl": [
           {
            "marker": {
             "colorbar": {
              "outlinewidth": 0,
              "ticks": ""
             }
            },
            "type": "scattergl"
           }
          ],
          "scattermapbox": [
           {
            "marker": {
             "colorbar": {
              "outlinewidth": 0,
              "ticks": ""
             }
            },
            "type": "scattermapbox"
           }
          ],
          "scatterpolar": [
           {
            "marker": {
             "colorbar": {
              "outlinewidth": 0,
              "ticks": ""
             }
            },
            "type": "scatterpolar"
           }
          ],
          "scatterpolargl": [
           {
            "marker": {
             "colorbar": {
              "outlinewidth": 0,
              "ticks": ""
             }
            },
            "type": "scatterpolargl"
           }
          ],
          "scatterternary": [
           {
            "marker": {
             "colorbar": {
              "outlinewidth": 0,
              "ticks": ""
             }
            },
            "type": "scatterternary"
           }
          ],
          "surface": [
           {
            "colorbar": {
             "outlinewidth": 0,
             "ticks": ""
            },
            "colorscale": [
             [
              0,
              "#0d0887"
             ],
             [
              0.1111111111111111,
              "#46039f"
             ],
             [
              0.2222222222222222,
              "#7201a8"
             ],
             [
              0.3333333333333333,
              "#9c179e"
             ],
             [
              0.4444444444444444,
              "#bd3786"
             ],
             [
              0.5555555555555556,
              "#d8576b"
             ],
             [
              0.6666666666666666,
              "#ed7953"
             ],
             [
              0.7777777777777778,
              "#fb9f3a"
             ],
             [
              0.8888888888888888,
              "#fdca26"
             ],
             [
              1,
              "#f0f921"
             ]
            ],
            "type": "surface"
           }
          ],
          "table": [
           {
            "cells": {
             "fill": {
              "color": "#EBF0F8"
             },
             "line": {
              "color": "white"
             }
            },
            "header": {
             "fill": {
              "color": "#C8D4E3"
             },
             "line": {
              "color": "white"
             }
            },
            "type": "table"
           }
          ]
         },
         "layout": {
          "annotationdefaults": {
           "arrowcolor": "#2a3f5f",
           "arrowhead": 0,
           "arrowwidth": 1
          },
          "autotypenumbers": "strict",
          "coloraxis": {
           "colorbar": {
            "outlinewidth": 0,
            "ticks": ""
           }
          },
          "colorscale": {
           "diverging": [
            [
             0,
             "#8e0152"
            ],
            [
             0.1,
             "#c51b7d"
            ],
            [
             0.2,
             "#de77ae"
            ],
            [
             0.3,
             "#f1b6da"
            ],
            [
             0.4,
             "#fde0ef"
            ],
            [
             0.5,
             "#f7f7f7"
            ],
            [
             0.6,
             "#e6f5d0"
            ],
            [
             0.7,
             "#b8e186"
            ],
            [
             0.8,
             "#7fbc41"
            ],
            [
             0.9,
             "#4d9221"
            ],
            [
             1,
             "#276419"
            ]
           ],
           "sequential": [
            [
             0,
             "#0d0887"
            ],
            [
             0.1111111111111111,
             "#46039f"
            ],
            [
             0.2222222222222222,
             "#7201a8"
            ],
            [
             0.3333333333333333,
             "#9c179e"
            ],
            [
             0.4444444444444444,
             "#bd3786"
            ],
            [
             0.5555555555555556,
             "#d8576b"
            ],
            [
             0.6666666666666666,
             "#ed7953"
            ],
            [
             0.7777777777777778,
             "#fb9f3a"
            ],
            [
             0.8888888888888888,
             "#fdca26"
            ],
            [
             1,
             "#f0f921"
            ]
           ],
           "sequentialminus": [
            [
             0,
             "#0d0887"
            ],
            [
             0.1111111111111111,
             "#46039f"
            ],
            [
             0.2222222222222222,
             "#7201a8"
            ],
            [
             0.3333333333333333,
             "#9c179e"
            ],
            [
             0.4444444444444444,
             "#bd3786"
            ],
            [
             0.5555555555555556,
             "#d8576b"
            ],
            [
             0.6666666666666666,
             "#ed7953"
            ],
            [
             0.7777777777777778,
             "#fb9f3a"
            ],
            [
             0.8888888888888888,
             "#fdca26"
            ],
            [
             1,
             "#f0f921"
            ]
           ]
          },
          "colorway": [
           "#636efa",
           "#EF553B",
           "#00cc96",
           "#ab63fa",
           "#FFA15A",
           "#19d3f3",
           "#FF6692",
           "#B6E880",
           "#FF97FF",
           "#FECB52"
          ],
          "font": {
           "color": "#2a3f5f"
          },
          "geo": {
           "bgcolor": "white",
           "lakecolor": "white",
           "landcolor": "#E5ECF6",
           "showlakes": true,
           "showland": true,
           "subunitcolor": "white"
          },
          "hoverlabel": {
           "align": "left"
          },
          "hovermode": "closest",
          "mapbox": {
           "style": "light"
          },
          "paper_bgcolor": "white",
          "plot_bgcolor": "#E5ECF6",
          "polar": {
           "angularaxis": {
            "gridcolor": "white",
            "linecolor": "white",
            "ticks": ""
           },
           "bgcolor": "#E5ECF6",
           "radialaxis": {
            "gridcolor": "white",
            "linecolor": "white",
            "ticks": ""
           }
          },
          "scene": {
           "xaxis": {
            "backgroundcolor": "#E5ECF6",
            "gridcolor": "white",
            "gridwidth": 2,
            "linecolor": "white",
            "showbackground": true,
            "ticks": "",
            "zerolinecolor": "white"
           },
           "yaxis": {
            "backgroundcolor": "#E5ECF6",
            "gridcolor": "white",
            "gridwidth": 2,
            "linecolor": "white",
            "showbackground": true,
            "ticks": "",
            "zerolinecolor": "white"
           },
           "zaxis": {
            "backgroundcolor": "#E5ECF6",
            "gridcolor": "white",
            "gridwidth": 2,
            "linecolor": "white",
            "showbackground": true,
            "ticks": "",
            "zerolinecolor": "white"
           }
          },
          "shapedefaults": {
           "line": {
            "color": "#2a3f5f"
           }
          },
          "ternary": {
           "aaxis": {
            "gridcolor": "white",
            "linecolor": "white",
            "ticks": ""
           },
           "baxis": {
            "gridcolor": "white",
            "linecolor": "white",
            "ticks": ""
           },
           "bgcolor": "#E5ECF6",
           "caxis": {
            "gridcolor": "white",
            "linecolor": "white",
            "ticks": ""
           }
          },
          "title": {
           "x": 0.05
          },
          "xaxis": {
           "automargin": true,
           "gridcolor": "white",
           "linecolor": "white",
           "ticks": "",
           "title": {
            "standoff": 15
           },
           "zerolinecolor": "white",
           "zerolinewidth": 2
          },
          "yaxis": {
           "automargin": true,
           "gridcolor": "white",
           "linecolor": "white",
           "ticks": "",
           "title": {
            "standoff": 15
           },
           "zerolinecolor": "white",
           "zerolinewidth": 2
          }
         }
        },
        "xaxis": {
         "anchor": "y",
         "autorange": true,
         "domain": [
          0,
          1
         ],
         "range": [
          -0.5,
          5.5
         ],
         "title": {
          "text": "category"
         },
         "type": "category"
        },
        "yaxis": {
         "anchor": "x",
         "autorange": true,
         "domain": [
          0,
          1
         ],
         "range": [
          0,
          576.8421052631579
         ],
         "title": {
          "text": "count"
         }
        }
       }
      },
      "text/html": [
       "<div>                            <div id=\"bfad4393-c01b-4013-89af-212f1b0ea01c\" class=\"plotly-graph-div\" style=\"height:525px; width:100%;\"></div>            <script type=\"text/javascript\">                require([\"plotly\"], function(Plotly) {                    window.PLOTLYENV=window.PLOTLYENV || {};                                    if (document.getElementById(\"bfad4393-c01b-4013-89af-212f1b0ea01c\")) {                    Plotly.newPlot(                        \"bfad4393-c01b-4013-89af-212f1b0ea01c\",                        [{\"alignmentgroup\":\"True\",\"bingroup\":\"x\",\"hovertemplate\":\"price_range=low\\u003cbr\\u003ecategory=%{x}\\u003cbr\\u003ecount=%{y}\\u003cextra\\u003e\\u003c\\u002fextra\\u003e\",\"legendgroup\":\"low\",\"marker\":{\"color\":\"#636efa\",\"pattern\":{\"shape\":\"\"}},\"name\":\"low\",\"offsetgroup\":\"low\",\"orientation\":\"v\",\"showlegend\":true,\"x\":[\"Notebook\",\"Notebook\",\"Notebook\",\"Gaming\",\"Notebook\",\"Notebook\",\"Notebook\",\"Notebook\",\"Notebook\",\"Notebook\",\"Notebook\",\"Notebook\",\"Notebook\",\"Notebook\",\"Notebook\",\"Notebook\",\"Notebook\",\"Ultrabook\",\"2 in 1 Convertible\",\"Notebook\",\"2 in 1 Convertible\",\"Notebook\",\"Notebook\",\"Notebook\",\"Notebook\",\"Notebook\",\"Notebook\",\"2 in 1 Convertible\",\"Notebook\",\"Notebook\",\"Notebook\",\"2 in 1 Convertible\",\"2 in 1 Convertible\",\"Notebook\",\"Notebook\",\"Notebook\",\"Notebook\",\"Notebook\",\"Notebook\",\"Notebook\",\"Ultrabook\",\"Notebook\",\"Notebook\",\"Notebook\",\"Notebook\",\"Notebook\",\"Notebook\",\"2 in 1 Convertible\",\"Notebook\",\"Notebook\",\"Gaming\",\"Notebook\",\"Notebook\",\"Notebook\",\"Notebook\",\"Notebook\",\"Notebook\",\"Notebook\",\"Netbook\",\"Notebook\",\"Netbook\",\"Notebook\",\"Notebook\",\"Notebook\",\"Notebook\",\"Notebook\",\"Notebook\",\"Notebook\",\"Notebook\",\"Notebook\",\"Notebook\",\"Gaming\",\"Notebook\",\"Notebook\",\"Notebook\",\"Notebook\",\"Notebook\",\"Notebook\",\"Notebook\",\"Notebook\",\"2 in 1 Convertible\",\"Notebook\",\"Notebook\",\"Notebook\",\"Notebook\",\"2 in 1 Convertible\",\"Notebook\",\"Notebook\",\"Notebook\",\"Notebook\",\"Notebook\",\"Notebook\",\"Notebook\",\"Notebook\",\"Notebook\",\"Notebook\",\"Notebook\",\"Notebook\",\"2 in 1 Convertible\",\"Notebook\",\"Notebook\",\"Notebook\",\"Notebook\",\"Notebook\",\"Notebook\",\"Notebook\",\"Notebook\",\"Notebook\",\"Notebook\",\"Notebook\",\"2 in 1 Convertible\",\"Notebook\",\"Notebook\",\"Netbook\",\"Notebook\",\"Notebook\",\"Notebook\",\"Notebook\",\"Notebook\",\"Notebook\",\"Notebook\",\"Notebook\",\"Notebook\",\"Notebook\",\"Notebook\",\"Notebook\",\"Notebook\",\"Notebook\",\"Notebook\",\"Notebook\",\"Netbook\",\"Notebook\",\"Netbook\",\"Notebook\",\"Notebook\",\"Ultrabook\",\"Notebook\",\"2 in 1 Convertible\",\"Notebook\",\"2 in 1 Convertible\",\"Netbook\",\"Notebook\",\"Notebook\",\"Notebook\",\"Netbook\",\"Notebook\",\"Notebook\",\"Notebook\",\"Notebook\",\"Notebook\",\"Notebook\",\"Notebook\",\"Notebook\",\"Notebook\",\"Notebook\",\"Notebook\",\"Notebook\",\"Notebook\",\"Notebook\",\"Notebook\",\"Notebook\",\"Notebook\",\"2 in 1 Convertible\",\"Notebook\",\"Notebook\",\"Notebook\",\"Notebook\",\"Notebook\",\"Gaming\",\"Notebook\",\"Notebook\",\"Gaming\",\"Notebook\",\"Notebook\",\"Notebook\",\"Notebook\",\"Notebook\",\"Notebook\",\"Notebook\",\"Notebook\",\"Notebook\",\"Notebook\",\"Notebook\",\"Notebook\",\"Notebook\",\"Notebook\",\"Notebook\",\"2 in 1 Convertible\",\"Notebook\",\"Notebook\",\"Ultrabook\",\"Notebook\",\"Gaming\",\"Notebook\",\"Notebook\",\"Notebook\",\"Notebook\",\"Notebook\",\"Notebook\",\"Notebook\",\"Notebook\",\"Netbook\",\"2 in 1 Convertible\",\"Notebook\",\"Notebook\",\"Notebook\",\"Notebook\",\"Notebook\",\"Notebook\",\"Notebook\",\"Notebook\",\"Notebook\",\"Notebook\",\"Notebook\",\"Notebook\",\"2 in 1 Convertible\",\"Notebook\",\"Notebook\",\"Notebook\",\"Notebook\",\"Notebook\",\"Notebook\",\"Notebook\",\"Notebook\",\"Notebook\",\"Notebook\",\"Notebook\",\"2 in 1 Convertible\",\"Notebook\",\"Notebook\",\"Notebook\",\"Notebook\",\"Notebook\",\"Notebook\",\"Notebook\",\"2 in 1 Convertible\",\"Notebook\",\"Notebook\",\"Notebook\",\"Notebook\",\"Notebook\",\"Netbook\",\"Notebook\",\"Notebook\",\"Notebook\",\"Notebook\",\"Notebook\",\"2 in 1 Convertible\",\"Notebook\",\"Notebook\",\"Notebook\",\"Notebook\",\"Notebook\",\"Notebook\",\"Notebook\",\"Notebook\",\"Notebook\",\"Notebook\",\"Notebook\",\"Notebook\",\"Notebook\",\"Notebook\",\"Notebook\",\"Notebook\",\"Notebook\",\"Notebook\",\"2 in 1 Convertible\",\"Notebook\",\"Notebook\",\"Gaming\",\"Notebook\",\"Notebook\",\"Notebook\",\"Ultrabook\",\"Notebook\",\"Notebook\",\"Notebook\",\"Notebook\",\"Notebook\",\"Notebook\",\"Notebook\",\"Netbook\",\"Notebook\",\"Notebook\",\"Notebook\",\"Notebook\",\"Notebook\",\"Notebook\",\"Gaming\",\"Notebook\",\"Notebook\",\"Notebook\",\"Notebook\",\"Notebook\",\"Notebook\",\"Notebook\",\"Notebook\",\"Notebook\",\"Ultrabook\",\"Notebook\",\"Notebook\",\"Notebook\",\"Notebook\",\"Notebook\",\"Notebook\",\"Notebook\",\"2 in 1 Convertible\",\"Notebook\",\"Notebook\",\"Notebook\",\"Notebook\",\"Notebook\",\"Notebook\",\"Notebook\",\"Notebook\",\"Notebook\",\"Notebook\",\"Notebook\",\"Notebook\",\"Notebook\",\"Notebook\",\"Notebook\",\"Notebook\",\"Ultrabook\",\"2 in 1 Convertible\",\"Notebook\",\"Netbook\",\"2 in 1 Convertible\",\"Notebook\",\"Notebook\",\"2 in 1 Convertible\",\"Notebook\",\"Notebook\",\"Notebook\",\"Notebook\",\"Ultrabook\",\"Notebook\",\"Notebook\",\"Notebook\",\"Notebook\",\"Notebook\",\"Notebook\",\"Ultrabook\",\"Notebook\",\"Notebook\",\"Notebook\",\"Notebook\",\"Notebook\",\"Notebook\",\"Notebook\",\"Notebook\",\"Notebook\",\"Notebook\",\"Notebook\",\"Ultrabook\",\"Notebook\",\"Notebook\",\"Notebook\",\"Notebook\",\"Notebook\",\"Notebook\",\"Notebook\",\"Notebook\",\"Notebook\",\"2 in 1 Convertible\",\"Notebook\",\"Notebook\",\"Notebook\",\"Notebook\",\"Notebook\",\"Notebook\",\"Notebook\",\"Notebook\",\"Notebook\",\"Notebook\",\"Notebook\",\"Notebook\",\"Notebook\",\"Gaming\",\"Notebook\",\"Notebook\",\"2 in 1 Convertible\",\"Notebook\",\"Notebook\",\"Netbook\",\"Notebook\",\"Notebook\",\"Notebook\",\"Notebook\",\"Notebook\",\"Notebook\",\"Gaming\",\"Notebook\",\"Notebook\",\"Notebook\",\"2 in 1 Convertible\",\"Notebook\",\"Notebook\",\"Notebook\",\"Notebook\",\"Notebook\",\"Notebook\",\"Notebook\",\"Notebook\",\"Notebook\",\"Netbook\",\"Notebook\",\"Notebook\",\"Notebook\",\"Notebook\",\"Notebook\",\"Notebook\",\"Notebook\",\"Notebook\",\"2 in 1 Convertible\",\"Notebook\",\"Notebook\",\"Notebook\",\"Notebook\",\"Notebook\",\"Notebook\",\"Notebook\",\"Notebook\",\"Notebook\",\"Notebook\",\"Netbook\",\"Gaming\",\"2 in 1 Convertible\",\"Notebook\",\"Notebook\",\"Notebook\",\"Notebook\",\"Notebook\",\"Notebook\",\"Notebook\",\"Notebook\",\"Notebook\",\"Notebook\",\"Notebook\",\"Notebook\",\"Notebook\",\"2 in 1 Convertible\",\"Notebook\",\"Notebook\",\"Notebook\",\"2 in 1 Convertible\",\"Notebook\",\"Notebook\",\"Notebook\",\"Notebook\",\"Notebook\",\"Notebook\",\"Notebook\",\"Notebook\",\"Notebook\",\"Notebook\",\"Gaming\",\"Notebook\",\"Notebook\",\"Notebook\",\"Notebook\",\"Notebook\",\"Notebook\"],\"xaxis\":\"x\",\"yaxis\":\"y\",\"type\":\"histogram\"},{\"alignmentgroup\":\"True\",\"bingroup\":\"x\",\"hovertemplate\":\"price_range=mid\\u003cbr\\u003ecategory=%{x}\\u003cbr\\u003ecount=%{y}\\u003cextra\\u003e\\u003c\\u002fextra\\u003e\",\"legendgroup\":\"mid\",\"marker\":{\"color\":\"#EF553B\",\"pattern\":{\"shape\":\"\"}},\"name\":\"mid\",\"offsetgroup\":\"mid\",\"orientation\":\"v\",\"showlegend\":true,\"x\":[\"Gaming\",\"Gaming\",\"Notebook\",\"2 in 1 Convertible\",\"Ultrabook\",\"Gaming\",\"Ultrabook\",\"Gaming\",\"Notebook\",\"Notebook\",\"Notebook\",\"2 in 1 Convertible\",\"Gaming\",\"Notebook\",\"Notebook\",\"Gaming\",\"Gaming\",\"Notebook\",\"Notebook\",\"Notebook\",\"Ultrabook\",\"Notebook\",\"Notebook\",\"Gaming\",\"Ultrabook\",\"Notebook\",\"Notebook\",\"Notebook\",\"2 in 1 Convertible\",\"Gaming\",\"2 in 1 Convertible\",\"2 in 1 Convertible\",\"Notebook\",\"Notebook\",\"Notebook\",\"Gaming\",\"Notebook\",\"Gaming\",\"Notebook\",\"Notebook\",\"Gaming\",\"Notebook\",\"Notebook\",\"2 in 1 Convertible\",\"Notebook\",\"Gaming\",\"Notebook\",\"Ultrabook\",\"Gaming\",\"Gaming\",\"Gaming\",\"Ultrabook\",\"Notebook\",\"2 in 1 Convertible\",\"Notebook\",\"Notebook\",\"Notebook\",\"Gaming\",\"Notebook\",\"Gaming\",\"Notebook\",\"Ultrabook\",\"Gaming\",\"2 in 1 Convertible\",\"Ultrabook\",\"Notebook\",\"Notebook\",\"Gaming\",\"Ultrabook\",\"Gaming\",\"Notebook\",\"Notebook\",\"Ultrabook\",\"Notebook\",\"2 in 1 Convertible\",\"Ultrabook\",\"Ultrabook\",\"Gaming\",\"Gaming\",\"Notebook\",\"Notebook\",\"Notebook\",\"Gaming\",\"Notebook\",\"Gaming\",\"Notebook\",\"Notebook\",\"Notebook\",\"Gaming\",\"Notebook\",\"2 in 1 Convertible\",\"Ultrabook\",\"Notebook\",\"Notebook\",\"Gaming\",\"Ultrabook\",\"Ultrabook\",\"Ultrabook\",\"Gaming\",\"2 in 1 Convertible\",\"Notebook\",\"Gaming\",\"Ultrabook\",\"Notebook\",\"Ultrabook\",\"Gaming\",\"Ultrabook\",\"Notebook\",\"Notebook\",\"Notebook\",\"Notebook\",\"Notebook\",\"Ultrabook\",\"Ultrabook\",\"Notebook\",\"Gaming\",\"Gaming\",\"Ultrabook\",\"Notebook\",\"Notebook\",\"Notebook\",\"Gaming\",\"Gaming\",\"Notebook\",\"Ultrabook\",\"Ultrabook\",\"Gaming\",\"Ultrabook\",\"Gaming\",\"Gaming\",\"Notebook\",\"Notebook\",\"Ultrabook\",\"Gaming\",\"Gaming\",\"Notebook\",\"Gaming\",\"Ultrabook\",\"Gaming\",\"Ultrabook\",\"2 in 1 Convertible\",\"2 in 1 Convertible\",\"Notebook\",\"Notebook\",\"Ultrabook\",\"Notebook\",\"Gaming\",\"Gaming\",\"Notebook\",\"Notebook\",\"Gaming\",\"Notebook\",\"Notebook\",\"Ultrabook\",\"Notebook\",\"Notebook\",\"Notebook\",\"Notebook\",\"Notebook\",\"Workstation\",\"Notebook\",\"Notebook\",\"Gaming\",\"Notebook\",\"Gaming\",\"2 in 1 Convertible\",\"Notebook\",\"Notebook\",\"Notebook\",\"Ultrabook\",\"Gaming\",\"Notebook\",\"Notebook\",\"Notebook\",\"Gaming\",\"Gaming\",\"Ultrabook\",\"2 in 1 Convertible\",\"Notebook\",\"Ultrabook\",\"Notebook\",\"Notebook\",\"Gaming\",\"Ultrabook\",\"Gaming\",\"Ultrabook\",\"Notebook\",\"Notebook\",\"Ultrabook\",\"Ultrabook\",\"Notebook\",\"Notebook\",\"Notebook\",\"Ultrabook\",\"Notebook\",\"Notebook\",\"Notebook\",\"Ultrabook\",\"Gaming\",\"Gaming\",\"Notebook\",\"Ultrabook\",\"2 in 1 Convertible\",\"Notebook\",\"Notebook\",\"Notebook\",\"Notebook\",\"Ultrabook\",\"Notebook\",\"Gaming\",\"Notebook\",\"Notebook\",\"2 in 1 Convertible\",\"Notebook\",\"Ultrabook\",\"Ultrabook\",\"Ultrabook\",\"Ultrabook\",\"Gaming\",\"Ultrabook\",\"Notebook\",\"Notebook\",\"Notebook\",\"Gaming\",\"Notebook\",\"Notebook\",\"Notebook\",\"Ultrabook\",\"Notebook\",\"Notebook\",\"Notebook\",\"Notebook\",\"Gaming\",\"Notebook\",\"Ultrabook\",\"Notebook\",\"Notebook\"],\"xaxis\":\"x\",\"yaxis\":\"y\",\"type\":\"histogram\"},{\"alignmentgroup\":\"True\",\"bingroup\":\"x\",\"hovertemplate\":\"price_range=high\\u003cbr\\u003ecategory=%{x}\\u003cbr\\u003ecount=%{y}\\u003cextra\\u003e\\u003c\\u002fextra\\u003e\",\"legendgroup\":\"high\",\"marker\":{\"color\":\"#00cc96\",\"pattern\":{\"shape\":\"\"}},\"name\":\"high\",\"offsetgroup\":\"high\",\"orientation\":\"v\",\"showlegend\":true,\"x\":[\"Gaming\",\"Ultrabook\",\"Ultrabook\",\"2 in 1 Convertible\",\"Ultrabook\",\"Gaming\",\"Ultrabook\",\"Gaming\",\"Gaming\",\"Gaming\",\"Gaming\",\"2 in 1 Convertible\",\"Gaming\",\"Gaming\",\"Notebook\",\"Notebook\",\"Ultrabook\",\"Ultrabook\",\"Notebook\",\"Ultrabook\",\"2 in 1 Convertible\",\"Ultrabook\",\"Ultrabook\",\"Gaming\",\"Gaming\",\"Workstation\",\"Gaming\",\"Ultrabook\",\"Ultrabook\",\"2 in 1 Convertible\",\"Ultrabook\",\"2 in 1 Convertible\",\"Gaming\",\"Ultrabook\",\"Ultrabook\",\"Notebook\",\"Ultrabook\",\"Workstation\",\"Ultrabook\",\"Ultrabook\",\"Gaming\",\"Ultrabook\",\"Ultrabook\",\"Gaming\",\"Ultrabook\",\"Netbook\",\"Gaming\",\"2 in 1 Convertible\",\"Ultrabook\",\"Gaming\",\"Ultrabook\",\"Gaming\",\"Ultrabook\",\"Gaming\",\"Ultrabook\",\"Gaming\",\"Ultrabook\",\"2 in 1 Convertible\",\"Ultrabook\",\"2 in 1 Convertible\",\"Gaming\",\"Ultrabook\",\"Ultrabook\",\"Ultrabook\",\"Ultrabook\",\"Notebook\",\"Ultrabook\",\"Ultrabook\",\"Gaming\",\"Ultrabook\",\"Notebook\",\"2 in 1 Convertible\",\"2 in 1 Convertible\",\"2 in 1 Convertible\",\"Gaming\",\"2 in 1 Convertible\",\"Notebook\",\"2 in 1 Convertible\",\"Ultrabook\",\"Notebook\",\"Ultrabook\",\"Workstation\",\"Gaming\",\"2 in 1 Convertible\",\"Gaming\",\"Ultrabook\",\"2 in 1 Convertible\",\"Ultrabook\",\"Gaming\",\"Ultrabook\",\"Gaming\",\"Gaming\",\"Ultrabook\",\"Ultrabook\",\"Ultrabook\",\"Ultrabook\",\"Netbook\",\"Notebook\",\"Ultrabook\",\"2 in 1 Convertible\",\"2 in 1 Convertible\",\"Notebook\",\"Notebook\",\"Ultrabook\",\"Ultrabook\",\"Ultrabook\",\"Gaming\",\"Workstation\",\"Ultrabook\",\"Workstation\",\"Notebook\",\"2 in 1 Convertible\",\"Ultrabook\",\"Notebook\",\"Ultrabook\",\"Ultrabook\",\"Gaming\",\"Ultrabook\",\"Notebook\",\"Gaming\",\"Ultrabook\",\"2 in 1 Convertible\",\"Ultrabook\",\"Notebook\",\"Workstation\",\"Gaming\",\"Ultrabook\",\"Ultrabook\",\"Ultrabook\",\"Ultrabook\",\"2 in 1 Convertible\",\"Notebook\",\"Gaming\",\"Gaming\",\"Gaming\",\"Gaming\",\"Workstation\",\"Notebook\",\"Gaming\",\"Ultrabook\",\"Ultrabook\",\"Ultrabook\",\"Ultrabook\",\"Gaming\",\"Notebook\",\"Workstation\",\"Workstation\",\"Ultrabook\",\"Gaming\",\"Gaming\",\"Gaming\",\"Gaming\",\"Gaming\",\"Ultrabook\",\"Ultrabook\",\"Notebook\",\"Gaming\",\"Gaming\",\"Gaming\",\"Ultrabook\",\"Ultrabook\",\"Notebook\",\"Ultrabook\",\"Notebook\",\"Workstation\",\"Notebook\",\"Gaming\",\"Gaming\",\"Notebook\",\"Notebook\",\"Ultrabook\",\"Ultrabook\",\"Ultrabook\",\"Notebook\",\"Gaming\",\"Gaming\",\"Notebook\",\"Workstation\",\"2 in 1 Convertible\",\"Notebook\",\"2 in 1 Convertible\",\"2 in 1 Convertible\",\"Notebook\",\"Gaming\",\"Ultrabook\",\"Gaming\",\"Gaming\",\"Ultrabook\",\"Ultrabook\",\"Gaming\",\"Notebook\",\"Ultrabook\",\"Gaming\",\"2 in 1 Convertible\",\"2 in 1 Convertible\",\"Notebook\",\"2 in 1 Convertible\",\"Ultrabook\",\"Workstation\",\"Gaming\",\"Workstation\",\"Ultrabook\",\"Gaming\",\"2 in 1 Convertible\",\"Notebook\",\"Ultrabook\",\"Gaming\",\"Ultrabook\",\"Ultrabook\",\"Gaming\",\"Gaming\",\"Netbook\",\"Notebook\",\"Ultrabook\",\"Gaming\",\"Workstation\",\"Gaming\",\"2 in 1 Convertible\",\"Ultrabook\",\"Gaming\",\"2 in 1 Convertible\",\"2 in 1 Convertible\",\"Gaming\",\"Gaming\",\"2 in 1 Convertible\",\"Gaming\",\"Ultrabook\",\"Ultrabook\",\"Gaming\",\"2 in 1 Convertible\",\"Ultrabook\",\"Ultrabook\",\"2 in 1 Convertible\",\"Workstation\",\"2 in 1 Convertible\",\"2 in 1 Convertible\",\"Workstation\",\"Ultrabook\",\"Gaming\",\"Gaming\",\"2 in 1 Convertible\",\"Ultrabook\",\"Gaming\",\"Gaming\",\"Gaming\",\"Ultrabook\",\"Workstation\",\"Gaming\",\"Gaming\",\"Ultrabook\",\"Notebook\",\"Gaming\",\"Workstation\",\"Notebook\",\"Gaming\",\"2 in 1 Convertible\",\"Ultrabook\",\"Ultrabook\",\"Ultrabook\",\"Ultrabook\",\"Notebook\",\"Gaming\",\"Workstation\",\"Notebook\",\"Notebook\",\"Notebook\",\"Workstation\",\"Ultrabook\",\"Workstation\"],\"xaxis\":\"x\",\"yaxis\":\"y\",\"type\":\"histogram\"}],                        {\"template\":{\"data\":{\"histogram2dcontour\":[{\"type\":\"histogram2dcontour\",\"colorbar\":{\"outlinewidth\":0,\"ticks\":\"\"},\"colorscale\":[[0.0,\"#0d0887\"],[0.1111111111111111,\"#46039f\"],[0.2222222222222222,\"#7201a8\"],[0.3333333333333333,\"#9c179e\"],[0.4444444444444444,\"#bd3786\"],[0.5555555555555556,\"#d8576b\"],[0.6666666666666666,\"#ed7953\"],[0.7777777777777778,\"#fb9f3a\"],[0.8888888888888888,\"#fdca26\"],[1.0,\"#f0f921\"]]}],\"choropleth\":[{\"type\":\"choropleth\",\"colorbar\":{\"outlinewidth\":0,\"ticks\":\"\"}}],\"histogram2d\":[{\"type\":\"histogram2d\",\"colorbar\":{\"outlinewidth\":0,\"ticks\":\"\"},\"colorscale\":[[0.0,\"#0d0887\"],[0.1111111111111111,\"#46039f\"],[0.2222222222222222,\"#7201a8\"],[0.3333333333333333,\"#9c179e\"],[0.4444444444444444,\"#bd3786\"],[0.5555555555555556,\"#d8576b\"],[0.6666666666666666,\"#ed7953\"],[0.7777777777777778,\"#fb9f3a\"],[0.8888888888888888,\"#fdca26\"],[1.0,\"#f0f921\"]]}],\"heatmap\":[{\"type\":\"heatmap\",\"colorbar\":{\"outlinewidth\":0,\"ticks\":\"\"},\"colorscale\":[[0.0,\"#0d0887\"],[0.1111111111111111,\"#46039f\"],[0.2222222222222222,\"#7201a8\"],[0.3333333333333333,\"#9c179e\"],[0.4444444444444444,\"#bd3786\"],[0.5555555555555556,\"#d8576b\"],[0.6666666666666666,\"#ed7953\"],[0.7777777777777778,\"#fb9f3a\"],[0.8888888888888888,\"#fdca26\"],[1.0,\"#f0f921\"]]}],\"heatmapgl\":[{\"type\":\"heatmapgl\",\"colorbar\":{\"outlinewidth\":0,\"ticks\":\"\"},\"colorscale\":[[0.0,\"#0d0887\"],[0.1111111111111111,\"#46039f\"],[0.2222222222222222,\"#7201a8\"],[0.3333333333333333,\"#9c179e\"],[0.4444444444444444,\"#bd3786\"],[0.5555555555555556,\"#d8576b\"],[0.6666666666666666,\"#ed7953\"],[0.7777777777777778,\"#fb9f3a\"],[0.8888888888888888,\"#fdca26\"],[1.0,\"#f0f921\"]]}],\"contourcarpet\":[{\"type\":\"contourcarpet\",\"colorbar\":{\"outlinewidth\":0,\"ticks\":\"\"}}],\"contour\":[{\"type\":\"contour\",\"colorbar\":{\"outlinewidth\":0,\"ticks\":\"\"},\"colorscale\":[[0.0,\"#0d0887\"],[0.1111111111111111,\"#46039f\"],[0.2222222222222222,\"#7201a8\"],[0.3333333333333333,\"#9c179e\"],[0.4444444444444444,\"#bd3786\"],[0.5555555555555556,\"#d8576b\"],[0.6666666666666666,\"#ed7953\"],[0.7777777777777778,\"#fb9f3a\"],[0.8888888888888888,\"#fdca26\"],[1.0,\"#f0f921\"]]}],\"surface\":[{\"type\":\"surface\",\"colorbar\":{\"outlinewidth\":0,\"ticks\":\"\"},\"colorscale\":[[0.0,\"#0d0887\"],[0.1111111111111111,\"#46039f\"],[0.2222222222222222,\"#7201a8\"],[0.3333333333333333,\"#9c179e\"],[0.4444444444444444,\"#bd3786\"],[0.5555555555555556,\"#d8576b\"],[0.6666666666666666,\"#ed7953\"],[0.7777777777777778,\"#fb9f3a\"],[0.8888888888888888,\"#fdca26\"],[1.0,\"#f0f921\"]]}],\"mesh3d\":[{\"type\":\"mesh3d\",\"colorbar\":{\"outlinewidth\":0,\"ticks\":\"\"}}],\"scatter\":[{\"fillpattern\":{\"fillmode\":\"overlay\",\"size\":10,\"solidity\":0.2},\"type\":\"scatter\"}],\"parcoords\":[{\"type\":\"parcoords\",\"line\":{\"colorbar\":{\"outlinewidth\":0,\"ticks\":\"\"}}}],\"scatterpolargl\":[{\"type\":\"scatterpolargl\",\"marker\":{\"colorbar\":{\"outlinewidth\":0,\"ticks\":\"\"}}}],\"bar\":[{\"error_x\":{\"color\":\"#2a3f5f\"},\"error_y\":{\"color\":\"#2a3f5f\"},\"marker\":{\"line\":{\"color\":\"#E5ECF6\",\"width\":0.5},\"pattern\":{\"fillmode\":\"overlay\",\"size\":10,\"solidity\":0.2}},\"type\":\"bar\"}],\"scattergeo\":[{\"type\":\"scattergeo\",\"marker\":{\"colorbar\":{\"outlinewidth\":0,\"ticks\":\"\"}}}],\"scatterpolar\":[{\"type\":\"scatterpolar\",\"marker\":{\"colorbar\":{\"outlinewidth\":0,\"ticks\":\"\"}}}],\"histogram\":[{\"marker\":{\"pattern\":{\"fillmode\":\"overlay\",\"size\":10,\"solidity\":0.2}},\"type\":\"histogram\"}],\"scattergl\":[{\"type\":\"scattergl\",\"marker\":{\"colorbar\":{\"outlinewidth\":0,\"ticks\":\"\"}}}],\"scatter3d\":[{\"type\":\"scatter3d\",\"line\":{\"colorbar\":{\"outlinewidth\":0,\"ticks\":\"\"}},\"marker\":{\"colorbar\":{\"outlinewidth\":0,\"ticks\":\"\"}}}],\"scattermapbox\":[{\"type\":\"scattermapbox\",\"marker\":{\"colorbar\":{\"outlinewidth\":0,\"ticks\":\"\"}}}],\"scatterternary\":[{\"type\":\"scatterternary\",\"marker\":{\"colorbar\":{\"outlinewidth\":0,\"ticks\":\"\"}}}],\"scattercarpet\":[{\"type\":\"scattercarpet\",\"marker\":{\"colorbar\":{\"outlinewidth\":0,\"ticks\":\"\"}}}],\"carpet\":[{\"aaxis\":{\"endlinecolor\":\"#2a3f5f\",\"gridcolor\":\"white\",\"linecolor\":\"white\",\"minorgridcolor\":\"white\",\"startlinecolor\":\"#2a3f5f\"},\"baxis\":{\"endlinecolor\":\"#2a3f5f\",\"gridcolor\":\"white\",\"linecolor\":\"white\",\"minorgridcolor\":\"white\",\"startlinecolor\":\"#2a3f5f\"},\"type\":\"carpet\"}],\"table\":[{\"cells\":{\"fill\":{\"color\":\"#EBF0F8\"},\"line\":{\"color\":\"white\"}},\"header\":{\"fill\":{\"color\":\"#C8D4E3\"},\"line\":{\"color\":\"white\"}},\"type\":\"table\"}],\"barpolar\":[{\"marker\":{\"line\":{\"color\":\"#E5ECF6\",\"width\":0.5},\"pattern\":{\"fillmode\":\"overlay\",\"size\":10,\"solidity\":0.2}},\"type\":\"barpolar\"}],\"pie\":[{\"automargin\":true,\"type\":\"pie\"}]},\"layout\":{\"autotypenumbers\":\"strict\",\"colorway\":[\"#636efa\",\"#EF553B\",\"#00cc96\",\"#ab63fa\",\"#FFA15A\",\"#19d3f3\",\"#FF6692\",\"#B6E880\",\"#FF97FF\",\"#FECB52\"],\"font\":{\"color\":\"#2a3f5f\"},\"hovermode\":\"closest\",\"hoverlabel\":{\"align\":\"left\"},\"paper_bgcolor\":\"white\",\"plot_bgcolor\":\"#E5ECF6\",\"polar\":{\"bgcolor\":\"#E5ECF6\",\"angularaxis\":{\"gridcolor\":\"white\",\"linecolor\":\"white\",\"ticks\":\"\"},\"radialaxis\":{\"gridcolor\":\"white\",\"linecolor\":\"white\",\"ticks\":\"\"}},\"ternary\":{\"bgcolor\":\"#E5ECF6\",\"aaxis\":{\"gridcolor\":\"white\",\"linecolor\":\"white\",\"ticks\":\"\"},\"baxis\":{\"gridcolor\":\"white\",\"linecolor\":\"white\",\"ticks\":\"\"},\"caxis\":{\"gridcolor\":\"white\",\"linecolor\":\"white\",\"ticks\":\"\"}},\"coloraxis\":{\"colorbar\":{\"outlinewidth\":0,\"ticks\":\"\"}},\"colorscale\":{\"sequential\":[[0.0,\"#0d0887\"],[0.1111111111111111,\"#46039f\"],[0.2222222222222222,\"#7201a8\"],[0.3333333333333333,\"#9c179e\"],[0.4444444444444444,\"#bd3786\"],[0.5555555555555556,\"#d8576b\"],[0.6666666666666666,\"#ed7953\"],[0.7777777777777778,\"#fb9f3a\"],[0.8888888888888888,\"#fdca26\"],[1.0,\"#f0f921\"]],\"sequentialminus\":[[0.0,\"#0d0887\"],[0.1111111111111111,\"#46039f\"],[0.2222222222222222,\"#7201a8\"],[0.3333333333333333,\"#9c179e\"],[0.4444444444444444,\"#bd3786\"],[0.5555555555555556,\"#d8576b\"],[0.6666666666666666,\"#ed7953\"],[0.7777777777777778,\"#fb9f3a\"],[0.8888888888888888,\"#fdca26\"],[1.0,\"#f0f921\"]],\"diverging\":[[0,\"#8e0152\"],[0.1,\"#c51b7d\"],[0.2,\"#de77ae\"],[0.3,\"#f1b6da\"],[0.4,\"#fde0ef\"],[0.5,\"#f7f7f7\"],[0.6,\"#e6f5d0\"],[0.7,\"#b8e186\"],[0.8,\"#7fbc41\"],[0.9,\"#4d9221\"],[1,\"#276419\"]]},\"xaxis\":{\"gridcolor\":\"white\",\"linecolor\":\"white\",\"ticks\":\"\",\"title\":{\"standoff\":15},\"zerolinecolor\":\"white\",\"automargin\":true,\"zerolinewidth\":2},\"yaxis\":{\"gridcolor\":\"white\",\"linecolor\":\"white\",\"ticks\":\"\",\"title\":{\"standoff\":15},\"zerolinecolor\":\"white\",\"automargin\":true,\"zerolinewidth\":2},\"scene\":{\"xaxis\":{\"backgroundcolor\":\"#E5ECF6\",\"gridcolor\":\"white\",\"linecolor\":\"white\",\"showbackground\":true,\"ticks\":\"\",\"zerolinecolor\":\"white\",\"gridwidth\":2},\"yaxis\":{\"backgroundcolor\":\"#E5ECF6\",\"gridcolor\":\"white\",\"linecolor\":\"white\",\"showbackground\":true,\"ticks\":\"\",\"zerolinecolor\":\"white\",\"gridwidth\":2},\"zaxis\":{\"backgroundcolor\":\"#E5ECF6\",\"gridcolor\":\"white\",\"linecolor\":\"white\",\"showbackground\":true,\"ticks\":\"\",\"zerolinecolor\":\"white\",\"gridwidth\":2}},\"shapedefaults\":{\"line\":{\"color\":\"#2a3f5f\"}},\"annotationdefaults\":{\"arrowcolor\":\"#2a3f5f\",\"arrowhead\":0,\"arrowwidth\":1},\"geo\":{\"bgcolor\":\"white\",\"landcolor\":\"#E5ECF6\",\"subunitcolor\":\"white\",\"showland\":true,\"showlakes\":true,\"lakecolor\":\"white\"},\"title\":{\"x\":0.05},\"mapbox\":{\"style\":\"light\"}}},\"xaxis\":{\"anchor\":\"y\",\"domain\":[0.0,1.0],\"title\":{\"text\":\"category\"}},\"yaxis\":{\"anchor\":\"x\",\"domain\":[0.0,1.0],\"title\":{\"text\":\"count\"}},\"legend\":{\"title\":{\"text\":\"price_range\"},\"tracegroupgap\":0},\"margin\":{\"t\":60},\"barmode\":\"relative\"},                        {\"responsive\": true}                    ).then(function(){\n",
       "                            \n",
       "var gd = document.getElementById('bfad4393-c01b-4013-89af-212f1b0ea01c');\n",
       "var x = new MutationObserver(function (mutations, observer) {{\n",
       "        var display = window.getComputedStyle(gd).display;\n",
       "        if (!display || display === 'none') {{\n",
       "            console.log([gd, 'removed!']);\n",
       "            Plotly.purge(gd);\n",
       "            observer.disconnect();\n",
       "        }}\n",
       "}});\n",
       "\n",
       "// Listen for the removal of the full notebook cells\n",
       "var notebookContainer = gd.closest('#notebook-container');\n",
       "if (notebookContainer) {{\n",
       "    x.observe(notebookContainer, {childList: true});\n",
       "}}\n",
       "\n",
       "// Listen for the clearing of the current output cell\n",
       "var outputEl = gd.closest('.output');\n",
       "if (outputEl) {{\n",
       "    x.observe(outputEl, {childList: true});\n",
       "}}\n",
       "\n",
       "                        })                };                });            </script>        </div>"
      ]
     },
     "metadata": {},
     "output_type": "display_data"
    }
   ],
   "source": [
    "px.histogram(laptops_train, x=\"category\", color=\"price_range\")"
   ]
  },
  {
   "cell_type": "markdown",
   "id": "1fae806e-2741-4a10-ac22-1130c08b0b20",
   "metadata": {},
   "source": [
    "Se observa como la mayoria de los datos ingresados tienen como categoria \"Notebook\". Ademas, la categoria \"Workstation\" contiene solo valores donde el rango de precio es \"High\" lo cual influira en la decision tomada por el modelo. Se puede notar tambien como las categorias \"Gaming\" y \"Ultrabook\" cuentan con muchos valores \"mid\" y \"high\", lo que tambien influye en las decisiones finales."
   ]
  },
  {
   "cell_type": "markdown",
   "id": "c56023c0-c686-4791-9d05-f5805ce38233",
   "metadata": {},
   "source": [
    "### Screen size"
   ]
  },
  {
   "cell_type": "code",
   "execution_count": 247,
   "id": "01e7debc-b632-4ecd-8e9f-65d568a967af",
   "metadata": {},
   "outputs": [
    {
     "data": {
      "application/vnd.plotly.v1+json": {
       "config": {
        "plotlyServerURL": "https://plot.ly"
       },
       "data": [
        {
         "alignmentgroup": "True",
         "bingroup": "x",
         "hovertemplate": "price_range=low<br>screen_size=%{x}<br>count=%{y}<extra></extra>",
         "legendgroup": "low",
         "marker": {
          "color": "#636efa",
          "pattern": {
           "shape": ""
          }
         },
         "name": "low",
         "offsetgroup": "low",
         "orientation": "v",
         "showlegend": true,
         "type": "histogram",
         "x": [
          "17.3\"",
          "15.6\"",
          "15.6\"",
          "15.6\"",
          "15.6\"",
          "15.6\"",
          "15.6\"",
          "17.3\"",
          "17.3\"",
          "15.6\"",
          "15.6\"",
          "15.6\"",
          "15.6\"",
          "14.0\"",
          "14.0\"",
          "15.6\"",
          "14.0\"",
          "15.6\"",
          "11.6\"",
          "14.0\"",
          "13.3\"",
          "15.6\"",
          "15.6\"",
          "15.6\"",
          "15.6\"",
          "15.6\"",
          "15.6\"",
          "13.3\"",
          "15.6\"",
          "15.6\"",
          "17.3\"",
          "13.3\"",
          "11.6\"",
          "15.6\"",
          "15.6\"",
          "15.6\"",
          "17.3\"",
          "15.6\"",
          "15.6\"",
          "17.3\"",
          "15.6\"",
          "15.6\"",
          "15.6\"",
          "15.6\"",
          "14.0\"",
          "15.6\"",
          "14.0\"",
          "12.5\"",
          "13.3\"",
          "15.6\"",
          "15.6\"",
          "15.6\"",
          "15.6\"",
          "15.6\"",
          "15.6\"",
          "15.6\"",
          "14.0\"",
          "15.6\"",
          "11.6\"",
          "15.6\"",
          "11.6\"",
          "15.6\"",
          "15.6\"",
          "15.6\"",
          "13.3\"",
          "15.6\"",
          "15.6\"",
          "17.3\"",
          "15.6\"",
          "15.6\"",
          "15.6\"",
          "15.6\"",
          "15.6\"",
          "17.3\"",
          "15.6\"",
          "17.3\"",
          "15.6\"",
          "15.6\"",
          "15.6\"",
          "15.6\"",
          "15.6\"",
          "15.6\"",
          "14.0\"",
          "15.6\"",
          "15.6\"",
          "15.6\"",
          "15.6\"",
          "15.6\"",
          "15.6\"",
          "15.6\"",
          "15.6\"",
          "17.3\"",
          "13.3\"",
          "15.6\"",
          "15.6\"",
          "15.6\"",
          "15.6\"",
          "15.6\"",
          "13.3\"",
          "15.6\"",
          "15.6\"",
          "14.0\"",
          "15.6\"",
          "15.6\"",
          "17.3\"",
          "15.6\"",
          "11.6\"",
          "13.3\"",
          "15.6\"",
          "14.0\"",
          "11.6\"",
          "15.6\"",
          "15.6\"",
          "11.6\"",
          "15.6\"",
          "15.6\"",
          "15.6\"",
          "15.6\"",
          "15.6\"",
          "15.6\"",
          "17.3\"",
          "14.0\"",
          "15.6\"",
          "15.6\"",
          "15.6\"",
          "11.6\"",
          "15.6\"",
          "14.0\"",
          "15.6\"",
          "15.6\"",
          "11.6\"",
          "13.3\"",
          "11.6\"",
          "15.6\"",
          "15.6\"",
          "13.3\"",
          "15.6\"",
          "15.6\"",
          "15.6\"",
          "11.6\"",
          "11.6\"",
          "14.0\"",
          "17.3\"",
          "15.6\"",
          "11.6\"",
          "15.6\"",
          "15.6\"",
          "15.6\"",
          "15.6\"",
          "14.0\"",
          "15.6\"",
          "15.6\"",
          "15.6\"",
          "14.0\"",
          "15.6\"",
          "14.0\"",
          "15.6\"",
          "15.6\"",
          "17.3\"",
          "15.6\"",
          "15.6\"",
          "15.6\"",
          "11.6\"",
          "15.6\"",
          "15.6\"",
          "14.0\"",
          "15.6\"",
          "15.6\"",
          "15.6\"",
          "15.6\"",
          "14.0\"",
          "15.6\"",
          "15.6\"",
          "15.6\"",
          "15.6\"",
          "15.6\"",
          "15.6\"",
          "13.3\"",
          "15.6\"",
          "14.0\"",
          "15.6\"",
          "15.6\"",
          "15.6\"",
          "15.6\"",
          "15.6\"",
          "17.3\"",
          "14.0\"",
          "14.0\"",
          "15.6\"",
          "15.6\"",
          "14.0\"",
          "15.6\"",
          "15.6\"",
          "15.6\"",
          "15.6\"",
          "17.3\"",
          "15.6\"",
          "15.6\"",
          "15.6\"",
          "15.6\"",
          "14.0\"",
          "11.6\"",
          "11.6\"",
          "15.6\"",
          "15.6\"",
          "15.6\"",
          "15.6\"",
          "15.6\"",
          "15.6\"",
          "12.3\"",
          "15.6\"",
          "15.6\"",
          "15.6\"",
          "13.3\"",
          "15.6\"",
          "13.3\"",
          "15.6\"",
          "14.0\"",
          "15.6\"",
          "15.6\"",
          "17.0\"",
          "15.6\"",
          "15.6\"",
          "13.3\"",
          "15.6\"",
          "15.6\"",
          "15.6\"",
          "11.6\"",
          "14.0\"",
          "15.6\"",
          "15.6\"",
          "15.6\"",
          "14.0\"",
          "15.6\"",
          "15.6\"",
          "13.3\"",
          "15.6\"",
          "15.6\"",
          "15.6\"",
          "14.0\"",
          "15.6\"",
          "11.6\"",
          "15.6\"",
          "17.3\"",
          "15.6\"",
          "15.6\"",
          "15.6\"",
          "11.6\"",
          "14.0\"",
          "15.6\"",
          "17.3\"",
          "13.3\"",
          "15.6\"",
          "17.3\"",
          "15.6\"",
          "15.6\"",
          "15.6\"",
          "14.0\"",
          "15.6\"",
          "15.6\"",
          "15.6\"",
          "15.6\"",
          "15.6\"",
          "15.6\"",
          "15.6\"",
          "15.6\"",
          "13.3\"",
          "15.6\"",
          "15.6\"",
          "15.6\"",
          "15.6\"",
          "13.3\"",
          "15.6\"",
          "15.6\"",
          "15.6\"",
          "15.6\"",
          "14.0\"",
          "15.6\"",
          "15.6\"",
          "15.6\"",
          "14.0\"",
          "11.6\"",
          "15.6\"",
          "15.6\"",
          "15.6\"",
          "15.6\"",
          "15.6\"",
          "15.6\"",
          "15.6\"",
          "13.3\"",
          "17.3\"",
          "13.3\"",
          "15.6\"",
          "15.6\"",
          "15.6\"",
          "15.6\"",
          "15.6\"",
          "15.6\"",
          "14.0\"",
          "15.6\"",
          "15.6\"",
          "15.6\"",
          "14.0\"",
          "14.0\"",
          "15.6\"",
          "15.6\"",
          "15.6\"",
          "15.6\"",
          "14.1\"",
          "15.6\"",
          "15.6\"",
          "17.3\"",
          "15.6\"",
          "14.0\"",
          "14.0\"",
          "15.6\"",
          "14.0\"",
          "15.6\"",
          "17.3\"",
          "17.3\"",
          "15.6\"",
          "14.0\"",
          "15.6\"",
          "15.6\"",
          "13.3\"",
          "15.6\"",
          "11.6\"",
          "11.6\"",
          "15.6\"",
          "15.6\"",
          "11.6\"",
          "15.6\"",
          "15.6\"",
          "15.6\"",
          "15.6\"",
          "14.0\"",
          "15.6\"",
          "15.6\"",
          "15.6\"",
          "15.6\"",
          "15.6\"",
          "15.6\"",
          "13.3\"",
          "17.3\"",
          "15.6\"",
          "14.0\"",
          "15.6\"",
          "15.6\"",
          "15.6\"",
          "14.0\"",
          "15.6\"",
          "15.6\"",
          "15.6\"",
          "14.0\"",
          "14.0\"",
          "15.6\"",
          "15.6\"",
          "15.6\"",
          "15.6\"",
          "15.6\"",
          "15.6\"",
          "15.6\"",
          "15.6\"",
          "15.6\"",
          "10.1\"",
          "17.3\"",
          "15.6\"",
          "15.6\"",
          "17.3\"",
          "15.6\"",
          "15.6\"",
          "15.6\"",
          "15.6\"",
          "15.6\"",
          "15.6\"",
          "15.6\"",
          "15.6\"",
          "14.0\"",
          "15.6\"",
          "15.6\"",
          "17.3\"",
          "13.3\"",
          "17.3\"",
          "15.6\"",
          "11.6\"",
          "15.6\"",
          "15.6\"",
          "14.0\"",
          "14.0\"",
          "15.6\"",
          "17.3\"",
          "15.6\"",
          "14.0\"",
          "15.6\"",
          "15.6\"",
          "11.6\"",
          "15.6\"",
          "15.6\"",
          "15.6\"",
          "15.6\"",
          "17.3\"",
          "15.6\"",
          "14.0\"",
          "15.6\"",
          "17.3\"",
          "11.6\"",
          "14.0\"",
          "15.6\"",
          "15.6\"",
          "15.6\"",
          "15.6\"",
          "15.6\"",
          "15.6\"",
          "15.6\"",
          "14.0\"",
          "15.6\"",
          "15.6\"",
          "14.0\"",
          "15.6\"",
          "15.6\"",
          "15.6\"",
          "14.0\"",
          "15.6\"",
          "15.6\"",
          "15.6\"",
          "11.6\"",
          "15.6\"",
          "13.3\"",
          "15.6\"",
          "15.6\"",
          "15.6\"",
          "17.3\"",
          "14.0\"",
          "17.3\"",
          "13.3\"",
          "13.3\"",
          "15.6\"",
          "15.6\"",
          "13.3\"",
          "15.6\"",
          "15.6\"",
          "15.6\"",
          "17.3\"",
          "15.6\"",
          "15.6\"",
          "14.0\"",
          "15.6\"",
          "15.6\"",
          "15.6\"",
          "15.6\"",
          "15.6\"",
          "15.6\"",
          "15.6\"",
          "17.3\"",
          "15.6\"",
          "15.6\"",
          "15.6\"",
          "15.6\"",
          "17.3\"",
          "15.6\"",
          "15.6\"",
          "15.6\"",
          "17.3\""
         ],
         "xaxis": "x",
         "yaxis": "y"
        },
        {
         "alignmentgroup": "True",
         "bingroup": "x",
         "hovertemplate": "price_range=mid<br>screen_size=%{x}<br>count=%{y}<extra></extra>",
         "legendgroup": "mid",
         "marker": {
          "color": "#EF553B",
          "pattern": {
           "shape": ""
          }
         },
         "name": "mid",
         "offsetgroup": "mid",
         "orientation": "v",
         "showlegend": true,
         "type": "histogram",
         "x": [
          "15.6\"",
          "15.6\"",
          "14.0\"",
          "15.6\"",
          "12.5\"",
          "15.6\"",
          "13.3\"",
          "15.6\"",
          "17.3\"",
          "15.6\"",
          "15.6\"",
          "12.5\"",
          "15.6\"",
          "14.0\"",
          "14.0\"",
          "15.6\"",
          "15.6\"",
          "15.6\"",
          "15.6\"",
          "15.6\"",
          "13.3\"",
          "15.6\"",
          "15.6\"",
          "15.6\"",
          "12.0\"",
          "15.6\"",
          "15.6\"",
          "15.6\"",
          "13.9\"",
          "15.6\"",
          "11.3\"",
          "14.0\"",
          "14.0\"",
          "14.0\"",
          "15.6\"",
          "15.6\"",
          "14.0\"",
          "17.3\"",
          "15.6\"",
          "15.6\"",
          "17.3\"",
          "15.6\"",
          "17.3\"",
          "13.3\"",
          "15.6\"",
          "15.6\"",
          "14.0\"",
          "14.0\"",
          "15.6\"",
          "15.6\"",
          "15.6\"",
          "13.3\"",
          "14.0\"",
          "13.3\"",
          "13.3\"",
          "15.6\"",
          "13.3\"",
          "15.6\"",
          "15.6\"",
          "15.6\"",
          "15.6\"",
          "13.3\"",
          "17.3\"",
          "15.6\"",
          "14.0\"",
          "14.0\"",
          "14.0\"",
          "17.3\"",
          "14.0\"",
          "15.6\"",
          "15.6\"",
          "14.0\"",
          "13.3\"",
          "15.6\"",
          "13.3\"",
          "15.6\"",
          "13.3\"",
          "15.6\"",
          "15.6\"",
          "15.6\"",
          "13.3\"",
          "14.0\"",
          "15.6\"",
          "15.6\"",
          "15.6\"",
          "13.3\"",
          "14.0\"",
          "13.3\"",
          "15.6\"",
          "15.6\"",
          "13.3\"",
          "13.3\"",
          "14.0\"",
          "15.6\"",
          "15.6\"",
          "13.5\"",
          "14.0\"",
          "14.0\"",
          "15.6\"",
          "13.3\"",
          "15.6\"",
          "15.6\"",
          "15.6\"",
          "15.6\"",
          "13.3\"",
          "15.6\"",
          "14.0\"",
          "14.0\"",
          "15.6\"",
          "14.0\"",
          "15.6\"",
          "15.6\"",
          "14.0\"",
          "13.3\"",
          "17.3\"",
          "15.6\"",
          "15.6\"",
          "12.5\"",
          "14.0\"",
          "15.6\"",
          "13.3\"",
          "15.6\"",
          "15.6\"",
          "17.3\"",
          "14.0\"",
          "15.6\"",
          "15.6\"",
          "13.3\"",
          "15.6\"",
          "17.3\"",
          "13.3\"",
          "15.6\"",
          "15.6\"",
          "17.3\"",
          "17.3\"",
          "15.6\"",
          "15.6\"",
          "15.6\"",
          "15.6\"",
          "14.0\"",
          "13.3\"",
          "15.6\"",
          "14.0\"",
          "15.6\"",
          "15.6\"",
          "14.0\"",
          "15.6\"",
          "15.6\"",
          "14.0\"",
          "15.6\"",
          "17.3\"",
          "15.6\"",
          "14.0\"",
          "13.0\"",
          "14.0\"",
          "15.6\"",
          "17.3\"",
          "13.3\"",
          "15.6\"",
          "15.6\"",
          "17.3\"",
          "14.0\"",
          "17.3\"",
          "14.0\"",
          "17.3\"",
          "15.6\"",
          "14.0\"",
          "17.3\"",
          "14.0\"",
          "14.0\"",
          "15.6\"",
          "15.6\"",
          "15.6\"",
          "17.3\"",
          "15.6\"",
          "15.6\"",
          "13.3\"",
          "17.3\"",
          "15.6\"",
          "13.3\"",
          "17.3\"",
          "17.3\"",
          "15.6\"",
          "13.3\"",
          "17.3\"",
          "12.5\"",
          "15.6\"",
          "14.0\"",
          "15.6\"",
          "13.3\"",
          "17.3\"",
          "13.3\"",
          "14.0\"",
          "13.3\"",
          "14.0\"",
          "13.3\"",
          "15.6\"",
          "13.3\"",
          "15.6\"",
          "15.6\"",
          "17.3\"",
          "12.0\"",
          "13.9\"",
          "15.6\"",
          "15.6\"",
          "15.6\"",
          "15.6\"",
          "13.3\"",
          "17.3\"",
          "17.3\"",
          "15.6\"",
          "15.6\"",
          "13.3\"",
          "17.3\"",
          "13.5\"",
          "13.3\"",
          "13.3\"",
          "13.5\"",
          "17.3\"",
          "13.3\"",
          "14.0\"",
          "17.3\"",
          "17.3\"",
          "17.3\"",
          "15.6\"",
          "14.0\"",
          "15.6\"",
          "13.3\"",
          "15.6\"",
          "14.0\"",
          "14.0\"",
          "13.3\"",
          "17.3\"",
          "13.3\"",
          "12.3\"",
          "15.6\"",
          "15.6\""
         ],
         "xaxis": "x",
         "yaxis": "y"
        },
        {
         "alignmentgroup": "True",
         "bingroup": "x",
         "hovertemplate": "price_range=high<br>screen_size=%{x}<br>count=%{y}<extra></extra>",
         "legendgroup": "high",
         "marker": {
          "color": "#00cc96",
          "pattern": {
           "shape": ""
          }
         },
         "name": "high",
         "offsetgroup": "high",
         "orientation": "v",
         "showlegend": true,
         "type": "histogram",
         "x": [
          "17.3\"",
          "12.5\"",
          "13.0\"",
          "13.3\"",
          "14.0\"",
          "17.3\"",
          "13.3\"",
          "15.6\"",
          "18.4\"",
          "17.3\"",
          "17.3\"",
          "14.0\"",
          "17.3\"",
          "15.6\"",
          "14.0\"",
          "15.6\"",
          "14.0\"",
          "14.0\"",
          "17.3\"",
          "14.0\"",
          "13.9\"",
          "14.0\"",
          "13.3\"",
          "15.6\"",
          "15.6\"",
          "15.6\"",
          "15.6\"",
          "14.0\"",
          "14.0\"",
          "13.3\"",
          "13.3\"",
          "13.3\"",
          "17.3\"",
          "13.3\"",
          "13.3\"",
          "13.3\"",
          "14.0\"",
          "15.6\"",
          "13.3\"",
          "12.5\"",
          "15.6\"",
          "14.0\"",
          "13.3\"",
          "17.3\"",
          "14.0\"",
          "12.5\"",
          "17.3\"",
          "13.3\"",
          "12.5\"",
          "17.3\"",
          "15.6\"",
          "17.3\"",
          "15.4\"",
          "17.3\"",
          "15.4\"",
          "17.3\"",
          "14.0\"",
          "13.3\"",
          "13.3\"",
          "13.3\"",
          "17.3\"",
          "14.0\"",
          "15.4\"",
          "12.5\"",
          "12.5\"",
          "13.3\"",
          "13.3\"",
          "15.4\"",
          "15.6\"",
          "12.5\"",
          "15.6\"",
          "13.3\"",
          "13.3\"",
          "13.3\"",
          "15.6\"",
          "13.3\"",
          "17.3\"",
          "13.3\"",
          "12.5\"",
          "15.6\"",
          "12.5\"",
          "15.6\"",
          "17.3\"",
          "13.3\"",
          "17.3\"",
          "15.0\"",
          "13.3\"",
          "15.0\"",
          "17.3\"",
          "12.0\"",
          "17.3\"",
          "15.6\"",
          "13.3\"",
          "12.5\"",
          "14.0\"",
          "14.0\"",
          "12.5\"",
          "15.6\"",
          "14.0\"",
          "13.3\"",
          "13.3\"",
          "14.0\"",
          "13.3\"",
          "15.6\"",
          "13.3\"",
          "13.3\"",
          "17.3\"",
          "15.6\"",
          "14.0\"",
          "15.6\"",
          "15.6\"",
          "13.3\"",
          "13.3\"",
          "17.3\"",
          "13.5\"",
          "13.5\"",
          "15.6\"",
          "14.0\"",
          "15.6\"",
          "17.3\"",
          "14.0\"",
          "13.3\"",
          "13.3\"",
          "15.6\"",
          "15.6\"",
          "14.0\"",
          "12.5\"",
          "14.0\"",
          "14.0\"",
          "13.5\"",
          "15.6\"",
          "15.6\"",
          "17.3\"",
          "17.3\"",
          "17.3\"",
          "17.3\"",
          "15.6\"",
          "15.6\"",
          "17.3\"",
          "12.3\"",
          "14.0\"",
          "12.5\"",
          "13.3\"",
          "17.3\"",
          "14.0\"",
          "15.6\"",
          "15.6\"",
          "15.6\"",
          "15.6\"",
          "17.3\"",
          "15.6\"",
          "17.3\"",
          "17.3\"",
          "14.0\"",
          "13.3\"",
          "15.6\"",
          "17.3\"",
          "15.6\"",
          "17.3\"",
          "13.3\"",
          "13.3\"",
          "17.3\"",
          "13.3\"",
          "15.6\"",
          "17.3\"",
          "15.6\"",
          "17.3\"",
          "17.3\"",
          "13.3\"",
          "15.6\"",
          "12.5\"",
          "12.5\"",
          "13.3\"",
          "15.6\"",
          "15.6\"",
          "17.3\"",
          "14.0\"",
          "15.6\"",
          "12.5\"",
          "14.0\"",
          "13.3\"",
          "13.9\"",
          "15.6\"",
          "17.3\"",
          "14.0\"",
          "15.6\"",
          "17.3\"",
          "14.0\"",
          "14.0\"",
          "14.0\"",
          "15.6\"",
          "13.3\"",
          "17.3\"",
          "14.0\"",
          "15.0\"",
          "15.6\"",
          "13.3\"",
          "12.3\"",
          "17.3\"",
          "15.6\"",
          "15.6\"",
          "15.6\"",
          "17.3\"",
          "13.3\"",
          "15.6\"",
          "12.5\"",
          "17.3\"",
          "14.0\"",
          "14.0\"",
          "15.6\"",
          "17.3\"",
          "12.5\"",
          "15.6\"",
          "13.3\"",
          "15.6\"",
          "15.6\"",
          "17.3\"",
          "14.0\"",
          "13.3\"",
          "17.3\"",
          "13.3\"",
          "13.9\"",
          "17.3\"",
          "17.3\"",
          "15.6\"",
          "14.0\"",
          "13.3\"",
          "13.3\"",
          "15.6\"",
          "13.3\"",
          "14.0\"",
          "13.3\"",
          "14.0\"",
          "15.6\"",
          "14.0\"",
          "14.0\"",
          "17.3\"",
          "13.3\"",
          "17.3\"",
          "15.6\"",
          "13.3\"",
          "14.0\"",
          "15.6\"",
          "17.3\"",
          "17.3\"",
          "15.6\"",
          "15.6\"",
          "15.6\"",
          "17.3\"",
          "14.0\"",
          "14.0\"",
          "15.6\"",
          "15.6\"",
          "15.6\"",
          "17.3\"",
          "13.9\"",
          "13.3\"",
          "14.0\"",
          "14.0\"",
          "15.6\"",
          "15.6\"",
          "17.3\"",
          "15.6\"",
          "15.6\"",
          "15.6\"",
          "14.0\"",
          "15.6\"",
          "13.3\"",
          "15.6\""
         ],
         "xaxis": "x",
         "yaxis": "y"
        }
       ],
       "layout": {
        "autosize": true,
        "barmode": "relative",
        "legend": {
         "title": {
          "text": "price_range"
         },
         "tracegroupgap": 0
        },
        "margin": {
         "t": 60
        },
        "template": {
         "data": {
          "bar": [
           {
            "error_x": {
             "color": "#2a3f5f"
            },
            "error_y": {
             "color": "#2a3f5f"
            },
            "marker": {
             "line": {
              "color": "#E5ECF6",
              "width": 0.5
             },
             "pattern": {
              "fillmode": "overlay",
              "size": 10,
              "solidity": 0.2
             }
            },
            "type": "bar"
           }
          ],
          "barpolar": [
           {
            "marker": {
             "line": {
              "color": "#E5ECF6",
              "width": 0.5
             },
             "pattern": {
              "fillmode": "overlay",
              "size": 10,
              "solidity": 0.2
             }
            },
            "type": "barpolar"
           }
          ],
          "carpet": [
           {
            "aaxis": {
             "endlinecolor": "#2a3f5f",
             "gridcolor": "white",
             "linecolor": "white",
             "minorgridcolor": "white",
             "startlinecolor": "#2a3f5f"
            },
            "baxis": {
             "endlinecolor": "#2a3f5f",
             "gridcolor": "white",
             "linecolor": "white",
             "minorgridcolor": "white",
             "startlinecolor": "#2a3f5f"
            },
            "type": "carpet"
           }
          ],
          "choropleth": [
           {
            "colorbar": {
             "outlinewidth": 0,
             "ticks": ""
            },
            "type": "choropleth"
           }
          ],
          "contour": [
           {
            "colorbar": {
             "outlinewidth": 0,
             "ticks": ""
            },
            "colorscale": [
             [
              0,
              "#0d0887"
             ],
             [
              0.1111111111111111,
              "#46039f"
             ],
             [
              0.2222222222222222,
              "#7201a8"
             ],
             [
              0.3333333333333333,
              "#9c179e"
             ],
             [
              0.4444444444444444,
              "#bd3786"
             ],
             [
              0.5555555555555556,
              "#d8576b"
             ],
             [
              0.6666666666666666,
              "#ed7953"
             ],
             [
              0.7777777777777778,
              "#fb9f3a"
             ],
             [
              0.8888888888888888,
              "#fdca26"
             ],
             [
              1,
              "#f0f921"
             ]
            ],
            "type": "contour"
           }
          ],
          "contourcarpet": [
           {
            "colorbar": {
             "outlinewidth": 0,
             "ticks": ""
            },
            "type": "contourcarpet"
           }
          ],
          "heatmap": [
           {
            "colorbar": {
             "outlinewidth": 0,
             "ticks": ""
            },
            "colorscale": [
             [
              0,
              "#0d0887"
             ],
             [
              0.1111111111111111,
              "#46039f"
             ],
             [
              0.2222222222222222,
              "#7201a8"
             ],
             [
              0.3333333333333333,
              "#9c179e"
             ],
             [
              0.4444444444444444,
              "#bd3786"
             ],
             [
              0.5555555555555556,
              "#d8576b"
             ],
             [
              0.6666666666666666,
              "#ed7953"
             ],
             [
              0.7777777777777778,
              "#fb9f3a"
             ],
             [
              0.8888888888888888,
              "#fdca26"
             ],
             [
              1,
              "#f0f921"
             ]
            ],
            "type": "heatmap"
           }
          ],
          "heatmapgl": [
           {
            "colorbar": {
             "outlinewidth": 0,
             "ticks": ""
            },
            "colorscale": [
             [
              0,
              "#0d0887"
             ],
             [
              0.1111111111111111,
              "#46039f"
             ],
             [
              0.2222222222222222,
              "#7201a8"
             ],
             [
              0.3333333333333333,
              "#9c179e"
             ],
             [
              0.4444444444444444,
              "#bd3786"
             ],
             [
              0.5555555555555556,
              "#d8576b"
             ],
             [
              0.6666666666666666,
              "#ed7953"
             ],
             [
              0.7777777777777778,
              "#fb9f3a"
             ],
             [
              0.8888888888888888,
              "#fdca26"
             ],
             [
              1,
              "#f0f921"
             ]
            ],
            "type": "heatmapgl"
           }
          ],
          "histogram": [
           {
            "marker": {
             "pattern": {
              "fillmode": "overlay",
              "size": 10,
              "solidity": 0.2
             }
            },
            "type": "histogram"
           }
          ],
          "histogram2d": [
           {
            "colorbar": {
             "outlinewidth": 0,
             "ticks": ""
            },
            "colorscale": [
             [
              0,
              "#0d0887"
             ],
             [
              0.1111111111111111,
              "#46039f"
             ],
             [
              0.2222222222222222,
              "#7201a8"
             ],
             [
              0.3333333333333333,
              "#9c179e"
             ],
             [
              0.4444444444444444,
              "#bd3786"
             ],
             [
              0.5555555555555556,
              "#d8576b"
             ],
             [
              0.6666666666666666,
              "#ed7953"
             ],
             [
              0.7777777777777778,
              "#fb9f3a"
             ],
             [
              0.8888888888888888,
              "#fdca26"
             ],
             [
              1,
              "#f0f921"
             ]
            ],
            "type": "histogram2d"
           }
          ],
          "histogram2dcontour": [
           {
            "colorbar": {
             "outlinewidth": 0,
             "ticks": ""
            },
            "colorscale": [
             [
              0,
              "#0d0887"
             ],
             [
              0.1111111111111111,
              "#46039f"
             ],
             [
              0.2222222222222222,
              "#7201a8"
             ],
             [
              0.3333333333333333,
              "#9c179e"
             ],
             [
              0.4444444444444444,
              "#bd3786"
             ],
             [
              0.5555555555555556,
              "#d8576b"
             ],
             [
              0.6666666666666666,
              "#ed7953"
             ],
             [
              0.7777777777777778,
              "#fb9f3a"
             ],
             [
              0.8888888888888888,
              "#fdca26"
             ],
             [
              1,
              "#f0f921"
             ]
            ],
            "type": "histogram2dcontour"
           }
          ],
          "mesh3d": [
           {
            "colorbar": {
             "outlinewidth": 0,
             "ticks": ""
            },
            "type": "mesh3d"
           }
          ],
          "parcoords": [
           {
            "line": {
             "colorbar": {
              "outlinewidth": 0,
              "ticks": ""
             }
            },
            "type": "parcoords"
           }
          ],
          "pie": [
           {
            "automargin": true,
            "type": "pie"
           }
          ],
          "scatter": [
           {
            "fillpattern": {
             "fillmode": "overlay",
             "size": 10,
             "solidity": 0.2
            },
            "type": "scatter"
           }
          ],
          "scatter3d": [
           {
            "line": {
             "colorbar": {
              "outlinewidth": 0,
              "ticks": ""
             }
            },
            "marker": {
             "colorbar": {
              "outlinewidth": 0,
              "ticks": ""
             }
            },
            "type": "scatter3d"
           }
          ],
          "scattercarpet": [
           {
            "marker": {
             "colorbar": {
              "outlinewidth": 0,
              "ticks": ""
             }
            },
            "type": "scattercarpet"
           }
          ],
          "scattergeo": [
           {
            "marker": {
             "colorbar": {
              "outlinewidth": 0,
              "ticks": ""
             }
            },
            "type": "scattergeo"
           }
          ],
          "scattergl": [
           {
            "marker": {
             "colorbar": {
              "outlinewidth": 0,
              "ticks": ""
             }
            },
            "type": "scattergl"
           }
          ],
          "scattermapbox": [
           {
            "marker": {
             "colorbar": {
              "outlinewidth": 0,
              "ticks": ""
             }
            },
            "type": "scattermapbox"
           }
          ],
          "scatterpolar": [
           {
            "marker": {
             "colorbar": {
              "outlinewidth": 0,
              "ticks": ""
             }
            },
            "type": "scatterpolar"
           }
          ],
          "scatterpolargl": [
           {
            "marker": {
             "colorbar": {
              "outlinewidth": 0,
              "ticks": ""
             }
            },
            "type": "scatterpolargl"
           }
          ],
          "scatterternary": [
           {
            "marker": {
             "colorbar": {
              "outlinewidth": 0,
              "ticks": ""
             }
            },
            "type": "scatterternary"
           }
          ],
          "surface": [
           {
            "colorbar": {
             "outlinewidth": 0,
             "ticks": ""
            },
            "colorscale": [
             [
              0,
              "#0d0887"
             ],
             [
              0.1111111111111111,
              "#46039f"
             ],
             [
              0.2222222222222222,
              "#7201a8"
             ],
             [
              0.3333333333333333,
              "#9c179e"
             ],
             [
              0.4444444444444444,
              "#bd3786"
             ],
             [
              0.5555555555555556,
              "#d8576b"
             ],
             [
              0.6666666666666666,
              "#ed7953"
             ],
             [
              0.7777777777777778,
              "#fb9f3a"
             ],
             [
              0.8888888888888888,
              "#fdca26"
             ],
             [
              1,
              "#f0f921"
             ]
            ],
            "type": "surface"
           }
          ],
          "table": [
           {
            "cells": {
             "fill": {
              "color": "#EBF0F8"
             },
             "line": {
              "color": "white"
             }
            },
            "header": {
             "fill": {
              "color": "#C8D4E3"
             },
             "line": {
              "color": "white"
             }
            },
            "type": "table"
           }
          ]
         },
         "layout": {
          "annotationdefaults": {
           "arrowcolor": "#2a3f5f",
           "arrowhead": 0,
           "arrowwidth": 1
          },
          "autotypenumbers": "strict",
          "coloraxis": {
           "colorbar": {
            "outlinewidth": 0,
            "ticks": ""
           }
          },
          "colorscale": {
           "diverging": [
            [
             0,
             "#8e0152"
            ],
            [
             0.1,
             "#c51b7d"
            ],
            [
             0.2,
             "#de77ae"
            ],
            [
             0.3,
             "#f1b6da"
            ],
            [
             0.4,
             "#fde0ef"
            ],
            [
             0.5,
             "#f7f7f7"
            ],
            [
             0.6,
             "#e6f5d0"
            ],
            [
             0.7,
             "#b8e186"
            ],
            [
             0.8,
             "#7fbc41"
            ],
            [
             0.9,
             "#4d9221"
            ],
            [
             1,
             "#276419"
            ]
           ],
           "sequential": [
            [
             0,
             "#0d0887"
            ],
            [
             0.1111111111111111,
             "#46039f"
            ],
            [
             0.2222222222222222,
             "#7201a8"
            ],
            [
             0.3333333333333333,
             "#9c179e"
            ],
            [
             0.4444444444444444,
             "#bd3786"
            ],
            [
             0.5555555555555556,
             "#d8576b"
            ],
            [
             0.6666666666666666,
             "#ed7953"
            ],
            [
             0.7777777777777778,
             "#fb9f3a"
            ],
            [
             0.8888888888888888,
             "#fdca26"
            ],
            [
             1,
             "#f0f921"
            ]
           ],
           "sequentialminus": [
            [
             0,
             "#0d0887"
            ],
            [
             0.1111111111111111,
             "#46039f"
            ],
            [
             0.2222222222222222,
             "#7201a8"
            ],
            [
             0.3333333333333333,
             "#9c179e"
            ],
            [
             0.4444444444444444,
             "#bd3786"
            ],
            [
             0.5555555555555556,
             "#d8576b"
            ],
            [
             0.6666666666666666,
             "#ed7953"
            ],
            [
             0.7777777777777778,
             "#fb9f3a"
            ],
            [
             0.8888888888888888,
             "#fdca26"
            ],
            [
             1,
             "#f0f921"
            ]
           ]
          },
          "colorway": [
           "#636efa",
           "#EF553B",
           "#00cc96",
           "#ab63fa",
           "#FFA15A",
           "#19d3f3",
           "#FF6692",
           "#B6E880",
           "#FF97FF",
           "#FECB52"
          ],
          "font": {
           "color": "#2a3f5f"
          },
          "geo": {
           "bgcolor": "white",
           "lakecolor": "white",
           "landcolor": "#E5ECF6",
           "showlakes": true,
           "showland": true,
           "subunitcolor": "white"
          },
          "hoverlabel": {
           "align": "left"
          },
          "hovermode": "closest",
          "mapbox": {
           "style": "light"
          },
          "paper_bgcolor": "white",
          "plot_bgcolor": "#E5ECF6",
          "polar": {
           "angularaxis": {
            "gridcolor": "white",
            "linecolor": "white",
            "ticks": ""
           },
           "bgcolor": "#E5ECF6",
           "radialaxis": {
            "gridcolor": "white",
            "linecolor": "white",
            "ticks": ""
           }
          },
          "scene": {
           "xaxis": {
            "backgroundcolor": "#E5ECF6",
            "gridcolor": "white",
            "gridwidth": 2,
            "linecolor": "white",
            "showbackground": true,
            "ticks": "",
            "zerolinecolor": "white"
           },
           "yaxis": {
            "backgroundcolor": "#E5ECF6",
            "gridcolor": "white",
            "gridwidth": 2,
            "linecolor": "white",
            "showbackground": true,
            "ticks": "",
            "zerolinecolor": "white"
           },
           "zaxis": {
            "backgroundcolor": "#E5ECF6",
            "gridcolor": "white",
            "gridwidth": 2,
            "linecolor": "white",
            "showbackground": true,
            "ticks": "",
            "zerolinecolor": "white"
           }
          },
          "shapedefaults": {
           "line": {
            "color": "#2a3f5f"
           }
          },
          "ternary": {
           "aaxis": {
            "gridcolor": "white",
            "linecolor": "white",
            "ticks": ""
           },
           "baxis": {
            "gridcolor": "white",
            "linecolor": "white",
            "ticks": ""
           },
           "bgcolor": "#E5ECF6",
           "caxis": {
            "gridcolor": "white",
            "linecolor": "white",
            "ticks": ""
           }
          },
          "title": {
           "x": 0.05
          },
          "xaxis": {
           "automargin": true,
           "gridcolor": "white",
           "linecolor": "white",
           "ticks": "",
           "title": {
            "standoff": 15
           },
           "zerolinecolor": "white",
           "zerolinewidth": 2
          },
          "yaxis": {
           "automargin": true,
           "gridcolor": "white",
           "linecolor": "white",
           "ticks": "",
           "title": {
            "standoff": 15
           },
           "zerolinecolor": "white",
           "zerolinewidth": 2
          }
         }
        },
        "xaxis": {
         "anchor": "y",
         "autorange": true,
         "categoryorder": "category ascending",
         "domain": [
          0,
          1
         ],
         "range": [
          -0.5,
          17.5
         ],
         "title": {
          "text": "screen_size"
         },
         "type": "category"
        },
        "yaxis": {
         "anchor": "x",
         "autorange": true,
         "domain": [
          0,
          1
         ],
         "range": [
          0,
          517.8947368421052
         ],
         "title": {
          "text": "count"
         }
        }
       }
      },
      "text/html": [
       "<div>                            <div id=\"bf744e61-17a2-4eae-bca1-86b7575bdc3f\" class=\"plotly-graph-div\" style=\"height:525px; width:100%;\"></div>            <script type=\"text/javascript\">                require([\"plotly\"], function(Plotly) {                    window.PLOTLYENV=window.PLOTLYENV || {};                                    if (document.getElementById(\"bf744e61-17a2-4eae-bca1-86b7575bdc3f\")) {                    Plotly.newPlot(                        \"bf744e61-17a2-4eae-bca1-86b7575bdc3f\",                        [{\"alignmentgroup\":\"True\",\"bingroup\":\"x\",\"hovertemplate\":\"price_range=low\\u003cbr\\u003escreen_size=%{x}\\u003cbr\\u003ecount=%{y}\\u003cextra\\u003e\\u003c\\u002fextra\\u003e\",\"legendgroup\":\"low\",\"marker\":{\"color\":\"#636efa\",\"pattern\":{\"shape\":\"\"}},\"name\":\"low\",\"offsetgroup\":\"low\",\"orientation\":\"v\",\"showlegend\":true,\"x\":[\"17.3\\\"\",\"15.6\\\"\",\"15.6\\\"\",\"15.6\\\"\",\"15.6\\\"\",\"15.6\\\"\",\"15.6\\\"\",\"17.3\\\"\",\"17.3\\\"\",\"15.6\\\"\",\"15.6\\\"\",\"15.6\\\"\",\"15.6\\\"\",\"14.0\\\"\",\"14.0\\\"\",\"15.6\\\"\",\"14.0\\\"\",\"15.6\\\"\",\"11.6\\\"\",\"14.0\\\"\",\"13.3\\\"\",\"15.6\\\"\",\"15.6\\\"\",\"15.6\\\"\",\"15.6\\\"\",\"15.6\\\"\",\"15.6\\\"\",\"13.3\\\"\",\"15.6\\\"\",\"15.6\\\"\",\"17.3\\\"\",\"13.3\\\"\",\"11.6\\\"\",\"15.6\\\"\",\"15.6\\\"\",\"15.6\\\"\",\"17.3\\\"\",\"15.6\\\"\",\"15.6\\\"\",\"17.3\\\"\",\"15.6\\\"\",\"15.6\\\"\",\"15.6\\\"\",\"15.6\\\"\",\"14.0\\\"\",\"15.6\\\"\",\"14.0\\\"\",\"12.5\\\"\",\"13.3\\\"\",\"15.6\\\"\",\"15.6\\\"\",\"15.6\\\"\",\"15.6\\\"\",\"15.6\\\"\",\"15.6\\\"\",\"15.6\\\"\",\"14.0\\\"\",\"15.6\\\"\",\"11.6\\\"\",\"15.6\\\"\",\"11.6\\\"\",\"15.6\\\"\",\"15.6\\\"\",\"15.6\\\"\",\"13.3\\\"\",\"15.6\\\"\",\"15.6\\\"\",\"17.3\\\"\",\"15.6\\\"\",\"15.6\\\"\",\"15.6\\\"\",\"15.6\\\"\",\"15.6\\\"\",\"17.3\\\"\",\"15.6\\\"\",\"17.3\\\"\",\"15.6\\\"\",\"15.6\\\"\",\"15.6\\\"\",\"15.6\\\"\",\"15.6\\\"\",\"15.6\\\"\",\"14.0\\\"\",\"15.6\\\"\",\"15.6\\\"\",\"15.6\\\"\",\"15.6\\\"\",\"15.6\\\"\",\"15.6\\\"\",\"15.6\\\"\",\"15.6\\\"\",\"17.3\\\"\",\"13.3\\\"\",\"15.6\\\"\",\"15.6\\\"\",\"15.6\\\"\",\"15.6\\\"\",\"15.6\\\"\",\"13.3\\\"\",\"15.6\\\"\",\"15.6\\\"\",\"14.0\\\"\",\"15.6\\\"\",\"15.6\\\"\",\"17.3\\\"\",\"15.6\\\"\",\"11.6\\\"\",\"13.3\\\"\",\"15.6\\\"\",\"14.0\\\"\",\"11.6\\\"\",\"15.6\\\"\",\"15.6\\\"\",\"11.6\\\"\",\"15.6\\\"\",\"15.6\\\"\",\"15.6\\\"\",\"15.6\\\"\",\"15.6\\\"\",\"15.6\\\"\",\"17.3\\\"\",\"14.0\\\"\",\"15.6\\\"\",\"15.6\\\"\",\"15.6\\\"\",\"11.6\\\"\",\"15.6\\\"\",\"14.0\\\"\",\"15.6\\\"\",\"15.6\\\"\",\"11.6\\\"\",\"13.3\\\"\",\"11.6\\\"\",\"15.6\\\"\",\"15.6\\\"\",\"13.3\\\"\",\"15.6\\\"\",\"15.6\\\"\",\"15.6\\\"\",\"11.6\\\"\",\"11.6\\\"\",\"14.0\\\"\",\"17.3\\\"\",\"15.6\\\"\",\"11.6\\\"\",\"15.6\\\"\",\"15.6\\\"\",\"15.6\\\"\",\"15.6\\\"\",\"14.0\\\"\",\"15.6\\\"\",\"15.6\\\"\",\"15.6\\\"\",\"14.0\\\"\",\"15.6\\\"\",\"14.0\\\"\",\"15.6\\\"\",\"15.6\\\"\",\"17.3\\\"\",\"15.6\\\"\",\"15.6\\\"\",\"15.6\\\"\",\"11.6\\\"\",\"15.6\\\"\",\"15.6\\\"\",\"14.0\\\"\",\"15.6\\\"\",\"15.6\\\"\",\"15.6\\\"\",\"15.6\\\"\",\"14.0\\\"\",\"15.6\\\"\",\"15.6\\\"\",\"15.6\\\"\",\"15.6\\\"\",\"15.6\\\"\",\"15.6\\\"\",\"13.3\\\"\",\"15.6\\\"\",\"14.0\\\"\",\"15.6\\\"\",\"15.6\\\"\",\"15.6\\\"\",\"15.6\\\"\",\"15.6\\\"\",\"17.3\\\"\",\"14.0\\\"\",\"14.0\\\"\",\"15.6\\\"\",\"15.6\\\"\",\"14.0\\\"\",\"15.6\\\"\",\"15.6\\\"\",\"15.6\\\"\",\"15.6\\\"\",\"17.3\\\"\",\"15.6\\\"\",\"15.6\\\"\",\"15.6\\\"\",\"15.6\\\"\",\"14.0\\\"\",\"11.6\\\"\",\"11.6\\\"\",\"15.6\\\"\",\"15.6\\\"\",\"15.6\\\"\",\"15.6\\\"\",\"15.6\\\"\",\"15.6\\\"\",\"12.3\\\"\",\"15.6\\\"\",\"15.6\\\"\",\"15.6\\\"\",\"13.3\\\"\",\"15.6\\\"\",\"13.3\\\"\",\"15.6\\\"\",\"14.0\\\"\",\"15.6\\\"\",\"15.6\\\"\",\"17.0\\\"\",\"15.6\\\"\",\"15.6\\\"\",\"13.3\\\"\",\"15.6\\\"\",\"15.6\\\"\",\"15.6\\\"\",\"11.6\\\"\",\"14.0\\\"\",\"15.6\\\"\",\"15.6\\\"\",\"15.6\\\"\",\"14.0\\\"\",\"15.6\\\"\",\"15.6\\\"\",\"13.3\\\"\",\"15.6\\\"\",\"15.6\\\"\",\"15.6\\\"\",\"14.0\\\"\",\"15.6\\\"\",\"11.6\\\"\",\"15.6\\\"\",\"17.3\\\"\",\"15.6\\\"\",\"15.6\\\"\",\"15.6\\\"\",\"11.6\\\"\",\"14.0\\\"\",\"15.6\\\"\",\"17.3\\\"\",\"13.3\\\"\",\"15.6\\\"\",\"17.3\\\"\",\"15.6\\\"\",\"15.6\\\"\",\"15.6\\\"\",\"14.0\\\"\",\"15.6\\\"\",\"15.6\\\"\",\"15.6\\\"\",\"15.6\\\"\",\"15.6\\\"\",\"15.6\\\"\",\"15.6\\\"\",\"15.6\\\"\",\"13.3\\\"\",\"15.6\\\"\",\"15.6\\\"\",\"15.6\\\"\",\"15.6\\\"\",\"13.3\\\"\",\"15.6\\\"\",\"15.6\\\"\",\"15.6\\\"\",\"15.6\\\"\",\"14.0\\\"\",\"15.6\\\"\",\"15.6\\\"\",\"15.6\\\"\",\"14.0\\\"\",\"11.6\\\"\",\"15.6\\\"\",\"15.6\\\"\",\"15.6\\\"\",\"15.6\\\"\",\"15.6\\\"\",\"15.6\\\"\",\"15.6\\\"\",\"13.3\\\"\",\"17.3\\\"\",\"13.3\\\"\",\"15.6\\\"\",\"15.6\\\"\",\"15.6\\\"\",\"15.6\\\"\",\"15.6\\\"\",\"15.6\\\"\",\"14.0\\\"\",\"15.6\\\"\",\"15.6\\\"\",\"15.6\\\"\",\"14.0\\\"\",\"14.0\\\"\",\"15.6\\\"\",\"15.6\\\"\",\"15.6\\\"\",\"15.6\\\"\",\"14.1\\\"\",\"15.6\\\"\",\"15.6\\\"\",\"17.3\\\"\",\"15.6\\\"\",\"14.0\\\"\",\"14.0\\\"\",\"15.6\\\"\",\"14.0\\\"\",\"15.6\\\"\",\"17.3\\\"\",\"17.3\\\"\",\"15.6\\\"\",\"14.0\\\"\",\"15.6\\\"\",\"15.6\\\"\",\"13.3\\\"\",\"15.6\\\"\",\"11.6\\\"\",\"11.6\\\"\",\"15.6\\\"\",\"15.6\\\"\",\"11.6\\\"\",\"15.6\\\"\",\"15.6\\\"\",\"15.6\\\"\",\"15.6\\\"\",\"14.0\\\"\",\"15.6\\\"\",\"15.6\\\"\",\"15.6\\\"\",\"15.6\\\"\",\"15.6\\\"\",\"15.6\\\"\",\"13.3\\\"\",\"17.3\\\"\",\"15.6\\\"\",\"14.0\\\"\",\"15.6\\\"\",\"15.6\\\"\",\"15.6\\\"\",\"14.0\\\"\",\"15.6\\\"\",\"15.6\\\"\",\"15.6\\\"\",\"14.0\\\"\",\"14.0\\\"\",\"15.6\\\"\",\"15.6\\\"\",\"15.6\\\"\",\"15.6\\\"\",\"15.6\\\"\",\"15.6\\\"\",\"15.6\\\"\",\"15.6\\\"\",\"15.6\\\"\",\"10.1\\\"\",\"17.3\\\"\",\"15.6\\\"\",\"15.6\\\"\",\"17.3\\\"\",\"15.6\\\"\",\"15.6\\\"\",\"15.6\\\"\",\"15.6\\\"\",\"15.6\\\"\",\"15.6\\\"\",\"15.6\\\"\",\"15.6\\\"\",\"14.0\\\"\",\"15.6\\\"\",\"15.6\\\"\",\"17.3\\\"\",\"13.3\\\"\",\"17.3\\\"\",\"15.6\\\"\",\"11.6\\\"\",\"15.6\\\"\",\"15.6\\\"\",\"14.0\\\"\",\"14.0\\\"\",\"15.6\\\"\",\"17.3\\\"\",\"15.6\\\"\",\"14.0\\\"\",\"15.6\\\"\",\"15.6\\\"\",\"11.6\\\"\",\"15.6\\\"\",\"15.6\\\"\",\"15.6\\\"\",\"15.6\\\"\",\"17.3\\\"\",\"15.6\\\"\",\"14.0\\\"\",\"15.6\\\"\",\"17.3\\\"\",\"11.6\\\"\",\"14.0\\\"\",\"15.6\\\"\",\"15.6\\\"\",\"15.6\\\"\",\"15.6\\\"\",\"15.6\\\"\",\"15.6\\\"\",\"15.6\\\"\",\"14.0\\\"\",\"15.6\\\"\",\"15.6\\\"\",\"14.0\\\"\",\"15.6\\\"\",\"15.6\\\"\",\"15.6\\\"\",\"14.0\\\"\",\"15.6\\\"\",\"15.6\\\"\",\"15.6\\\"\",\"11.6\\\"\",\"15.6\\\"\",\"13.3\\\"\",\"15.6\\\"\",\"15.6\\\"\",\"15.6\\\"\",\"17.3\\\"\",\"14.0\\\"\",\"17.3\\\"\",\"13.3\\\"\",\"13.3\\\"\",\"15.6\\\"\",\"15.6\\\"\",\"13.3\\\"\",\"15.6\\\"\",\"15.6\\\"\",\"15.6\\\"\",\"17.3\\\"\",\"15.6\\\"\",\"15.6\\\"\",\"14.0\\\"\",\"15.6\\\"\",\"15.6\\\"\",\"15.6\\\"\",\"15.6\\\"\",\"15.6\\\"\",\"15.6\\\"\",\"15.6\\\"\",\"17.3\\\"\",\"15.6\\\"\",\"15.6\\\"\",\"15.6\\\"\",\"15.6\\\"\",\"17.3\\\"\",\"15.6\\\"\",\"15.6\\\"\",\"15.6\\\"\",\"17.3\\\"\"],\"xaxis\":\"x\",\"yaxis\":\"y\",\"type\":\"histogram\"},{\"alignmentgroup\":\"True\",\"bingroup\":\"x\",\"hovertemplate\":\"price_range=mid\\u003cbr\\u003escreen_size=%{x}\\u003cbr\\u003ecount=%{y}\\u003cextra\\u003e\\u003c\\u002fextra\\u003e\",\"legendgroup\":\"mid\",\"marker\":{\"color\":\"#EF553B\",\"pattern\":{\"shape\":\"\"}},\"name\":\"mid\",\"offsetgroup\":\"mid\",\"orientation\":\"v\",\"showlegend\":true,\"x\":[\"15.6\\\"\",\"15.6\\\"\",\"14.0\\\"\",\"15.6\\\"\",\"12.5\\\"\",\"15.6\\\"\",\"13.3\\\"\",\"15.6\\\"\",\"17.3\\\"\",\"15.6\\\"\",\"15.6\\\"\",\"12.5\\\"\",\"15.6\\\"\",\"14.0\\\"\",\"14.0\\\"\",\"15.6\\\"\",\"15.6\\\"\",\"15.6\\\"\",\"15.6\\\"\",\"15.6\\\"\",\"13.3\\\"\",\"15.6\\\"\",\"15.6\\\"\",\"15.6\\\"\",\"12.0\\\"\",\"15.6\\\"\",\"15.6\\\"\",\"15.6\\\"\",\"13.9\\\"\",\"15.6\\\"\",\"11.3\\\"\",\"14.0\\\"\",\"14.0\\\"\",\"14.0\\\"\",\"15.6\\\"\",\"15.6\\\"\",\"14.0\\\"\",\"17.3\\\"\",\"15.6\\\"\",\"15.6\\\"\",\"17.3\\\"\",\"15.6\\\"\",\"17.3\\\"\",\"13.3\\\"\",\"15.6\\\"\",\"15.6\\\"\",\"14.0\\\"\",\"14.0\\\"\",\"15.6\\\"\",\"15.6\\\"\",\"15.6\\\"\",\"13.3\\\"\",\"14.0\\\"\",\"13.3\\\"\",\"13.3\\\"\",\"15.6\\\"\",\"13.3\\\"\",\"15.6\\\"\",\"15.6\\\"\",\"15.6\\\"\",\"15.6\\\"\",\"13.3\\\"\",\"17.3\\\"\",\"15.6\\\"\",\"14.0\\\"\",\"14.0\\\"\",\"14.0\\\"\",\"17.3\\\"\",\"14.0\\\"\",\"15.6\\\"\",\"15.6\\\"\",\"14.0\\\"\",\"13.3\\\"\",\"15.6\\\"\",\"13.3\\\"\",\"15.6\\\"\",\"13.3\\\"\",\"15.6\\\"\",\"15.6\\\"\",\"15.6\\\"\",\"13.3\\\"\",\"14.0\\\"\",\"15.6\\\"\",\"15.6\\\"\",\"15.6\\\"\",\"13.3\\\"\",\"14.0\\\"\",\"13.3\\\"\",\"15.6\\\"\",\"15.6\\\"\",\"13.3\\\"\",\"13.3\\\"\",\"14.0\\\"\",\"15.6\\\"\",\"15.6\\\"\",\"13.5\\\"\",\"14.0\\\"\",\"14.0\\\"\",\"15.6\\\"\",\"13.3\\\"\",\"15.6\\\"\",\"15.6\\\"\",\"15.6\\\"\",\"15.6\\\"\",\"13.3\\\"\",\"15.6\\\"\",\"14.0\\\"\",\"14.0\\\"\",\"15.6\\\"\",\"14.0\\\"\",\"15.6\\\"\",\"15.6\\\"\",\"14.0\\\"\",\"13.3\\\"\",\"17.3\\\"\",\"15.6\\\"\",\"15.6\\\"\",\"12.5\\\"\",\"14.0\\\"\",\"15.6\\\"\",\"13.3\\\"\",\"15.6\\\"\",\"15.6\\\"\",\"17.3\\\"\",\"14.0\\\"\",\"15.6\\\"\",\"15.6\\\"\",\"13.3\\\"\",\"15.6\\\"\",\"17.3\\\"\",\"13.3\\\"\",\"15.6\\\"\",\"15.6\\\"\",\"17.3\\\"\",\"17.3\\\"\",\"15.6\\\"\",\"15.6\\\"\",\"15.6\\\"\",\"15.6\\\"\",\"14.0\\\"\",\"13.3\\\"\",\"15.6\\\"\",\"14.0\\\"\",\"15.6\\\"\",\"15.6\\\"\",\"14.0\\\"\",\"15.6\\\"\",\"15.6\\\"\",\"14.0\\\"\",\"15.6\\\"\",\"17.3\\\"\",\"15.6\\\"\",\"14.0\\\"\",\"13.0\\\"\",\"14.0\\\"\",\"15.6\\\"\",\"17.3\\\"\",\"13.3\\\"\",\"15.6\\\"\",\"15.6\\\"\",\"17.3\\\"\",\"14.0\\\"\",\"17.3\\\"\",\"14.0\\\"\",\"17.3\\\"\",\"15.6\\\"\",\"14.0\\\"\",\"17.3\\\"\",\"14.0\\\"\",\"14.0\\\"\",\"15.6\\\"\",\"15.6\\\"\",\"15.6\\\"\",\"17.3\\\"\",\"15.6\\\"\",\"15.6\\\"\",\"13.3\\\"\",\"17.3\\\"\",\"15.6\\\"\",\"13.3\\\"\",\"17.3\\\"\",\"17.3\\\"\",\"15.6\\\"\",\"13.3\\\"\",\"17.3\\\"\",\"12.5\\\"\",\"15.6\\\"\",\"14.0\\\"\",\"15.6\\\"\",\"13.3\\\"\",\"17.3\\\"\",\"13.3\\\"\",\"14.0\\\"\",\"13.3\\\"\",\"14.0\\\"\",\"13.3\\\"\",\"15.6\\\"\",\"13.3\\\"\",\"15.6\\\"\",\"15.6\\\"\",\"17.3\\\"\",\"12.0\\\"\",\"13.9\\\"\",\"15.6\\\"\",\"15.6\\\"\",\"15.6\\\"\",\"15.6\\\"\",\"13.3\\\"\",\"17.3\\\"\",\"17.3\\\"\",\"15.6\\\"\",\"15.6\\\"\",\"13.3\\\"\",\"17.3\\\"\",\"13.5\\\"\",\"13.3\\\"\",\"13.3\\\"\",\"13.5\\\"\",\"17.3\\\"\",\"13.3\\\"\",\"14.0\\\"\",\"17.3\\\"\",\"17.3\\\"\",\"17.3\\\"\",\"15.6\\\"\",\"14.0\\\"\",\"15.6\\\"\",\"13.3\\\"\",\"15.6\\\"\",\"14.0\\\"\",\"14.0\\\"\",\"13.3\\\"\",\"17.3\\\"\",\"13.3\\\"\",\"12.3\\\"\",\"15.6\\\"\",\"15.6\\\"\"],\"xaxis\":\"x\",\"yaxis\":\"y\",\"type\":\"histogram\"},{\"alignmentgroup\":\"True\",\"bingroup\":\"x\",\"hovertemplate\":\"price_range=high\\u003cbr\\u003escreen_size=%{x}\\u003cbr\\u003ecount=%{y}\\u003cextra\\u003e\\u003c\\u002fextra\\u003e\",\"legendgroup\":\"high\",\"marker\":{\"color\":\"#00cc96\",\"pattern\":{\"shape\":\"\"}},\"name\":\"high\",\"offsetgroup\":\"high\",\"orientation\":\"v\",\"showlegend\":true,\"x\":[\"17.3\\\"\",\"12.5\\\"\",\"13.0\\\"\",\"13.3\\\"\",\"14.0\\\"\",\"17.3\\\"\",\"13.3\\\"\",\"15.6\\\"\",\"18.4\\\"\",\"17.3\\\"\",\"17.3\\\"\",\"14.0\\\"\",\"17.3\\\"\",\"15.6\\\"\",\"14.0\\\"\",\"15.6\\\"\",\"14.0\\\"\",\"14.0\\\"\",\"17.3\\\"\",\"14.0\\\"\",\"13.9\\\"\",\"14.0\\\"\",\"13.3\\\"\",\"15.6\\\"\",\"15.6\\\"\",\"15.6\\\"\",\"15.6\\\"\",\"14.0\\\"\",\"14.0\\\"\",\"13.3\\\"\",\"13.3\\\"\",\"13.3\\\"\",\"17.3\\\"\",\"13.3\\\"\",\"13.3\\\"\",\"13.3\\\"\",\"14.0\\\"\",\"15.6\\\"\",\"13.3\\\"\",\"12.5\\\"\",\"15.6\\\"\",\"14.0\\\"\",\"13.3\\\"\",\"17.3\\\"\",\"14.0\\\"\",\"12.5\\\"\",\"17.3\\\"\",\"13.3\\\"\",\"12.5\\\"\",\"17.3\\\"\",\"15.6\\\"\",\"17.3\\\"\",\"15.4\\\"\",\"17.3\\\"\",\"15.4\\\"\",\"17.3\\\"\",\"14.0\\\"\",\"13.3\\\"\",\"13.3\\\"\",\"13.3\\\"\",\"17.3\\\"\",\"14.0\\\"\",\"15.4\\\"\",\"12.5\\\"\",\"12.5\\\"\",\"13.3\\\"\",\"13.3\\\"\",\"15.4\\\"\",\"15.6\\\"\",\"12.5\\\"\",\"15.6\\\"\",\"13.3\\\"\",\"13.3\\\"\",\"13.3\\\"\",\"15.6\\\"\",\"13.3\\\"\",\"17.3\\\"\",\"13.3\\\"\",\"12.5\\\"\",\"15.6\\\"\",\"12.5\\\"\",\"15.6\\\"\",\"17.3\\\"\",\"13.3\\\"\",\"17.3\\\"\",\"15.0\\\"\",\"13.3\\\"\",\"15.0\\\"\",\"17.3\\\"\",\"12.0\\\"\",\"17.3\\\"\",\"15.6\\\"\",\"13.3\\\"\",\"12.5\\\"\",\"14.0\\\"\",\"14.0\\\"\",\"12.5\\\"\",\"15.6\\\"\",\"14.0\\\"\",\"13.3\\\"\",\"13.3\\\"\",\"14.0\\\"\",\"13.3\\\"\",\"15.6\\\"\",\"13.3\\\"\",\"13.3\\\"\",\"17.3\\\"\",\"15.6\\\"\",\"14.0\\\"\",\"15.6\\\"\",\"15.6\\\"\",\"13.3\\\"\",\"13.3\\\"\",\"17.3\\\"\",\"13.5\\\"\",\"13.5\\\"\",\"15.6\\\"\",\"14.0\\\"\",\"15.6\\\"\",\"17.3\\\"\",\"14.0\\\"\",\"13.3\\\"\",\"13.3\\\"\",\"15.6\\\"\",\"15.6\\\"\",\"14.0\\\"\",\"12.5\\\"\",\"14.0\\\"\",\"14.0\\\"\",\"13.5\\\"\",\"15.6\\\"\",\"15.6\\\"\",\"17.3\\\"\",\"17.3\\\"\",\"17.3\\\"\",\"17.3\\\"\",\"15.6\\\"\",\"15.6\\\"\",\"17.3\\\"\",\"12.3\\\"\",\"14.0\\\"\",\"12.5\\\"\",\"13.3\\\"\",\"17.3\\\"\",\"14.0\\\"\",\"15.6\\\"\",\"15.6\\\"\",\"15.6\\\"\",\"15.6\\\"\",\"17.3\\\"\",\"15.6\\\"\",\"17.3\\\"\",\"17.3\\\"\",\"14.0\\\"\",\"13.3\\\"\",\"15.6\\\"\",\"17.3\\\"\",\"15.6\\\"\",\"17.3\\\"\",\"13.3\\\"\",\"13.3\\\"\",\"17.3\\\"\",\"13.3\\\"\",\"15.6\\\"\",\"17.3\\\"\",\"15.6\\\"\",\"17.3\\\"\",\"17.3\\\"\",\"13.3\\\"\",\"15.6\\\"\",\"12.5\\\"\",\"12.5\\\"\",\"13.3\\\"\",\"15.6\\\"\",\"15.6\\\"\",\"17.3\\\"\",\"14.0\\\"\",\"15.6\\\"\",\"12.5\\\"\",\"14.0\\\"\",\"13.3\\\"\",\"13.9\\\"\",\"15.6\\\"\",\"17.3\\\"\",\"14.0\\\"\",\"15.6\\\"\",\"17.3\\\"\",\"14.0\\\"\",\"14.0\\\"\",\"14.0\\\"\",\"15.6\\\"\",\"13.3\\\"\",\"17.3\\\"\",\"14.0\\\"\",\"15.0\\\"\",\"15.6\\\"\",\"13.3\\\"\",\"12.3\\\"\",\"17.3\\\"\",\"15.6\\\"\",\"15.6\\\"\",\"15.6\\\"\",\"17.3\\\"\",\"13.3\\\"\",\"15.6\\\"\",\"12.5\\\"\",\"17.3\\\"\",\"14.0\\\"\",\"14.0\\\"\",\"15.6\\\"\",\"17.3\\\"\",\"12.5\\\"\",\"15.6\\\"\",\"13.3\\\"\",\"15.6\\\"\",\"15.6\\\"\",\"17.3\\\"\",\"14.0\\\"\",\"13.3\\\"\",\"17.3\\\"\",\"13.3\\\"\",\"13.9\\\"\",\"17.3\\\"\",\"17.3\\\"\",\"15.6\\\"\",\"14.0\\\"\",\"13.3\\\"\",\"13.3\\\"\",\"15.6\\\"\",\"13.3\\\"\",\"14.0\\\"\",\"13.3\\\"\",\"14.0\\\"\",\"15.6\\\"\",\"14.0\\\"\",\"14.0\\\"\",\"17.3\\\"\",\"13.3\\\"\",\"17.3\\\"\",\"15.6\\\"\",\"13.3\\\"\",\"14.0\\\"\",\"15.6\\\"\",\"17.3\\\"\",\"17.3\\\"\",\"15.6\\\"\",\"15.6\\\"\",\"15.6\\\"\",\"17.3\\\"\",\"14.0\\\"\",\"14.0\\\"\",\"15.6\\\"\",\"15.6\\\"\",\"15.6\\\"\",\"17.3\\\"\",\"13.9\\\"\",\"13.3\\\"\",\"14.0\\\"\",\"14.0\\\"\",\"15.6\\\"\",\"15.6\\\"\",\"17.3\\\"\",\"15.6\\\"\",\"15.6\\\"\",\"15.6\\\"\",\"14.0\\\"\",\"15.6\\\"\",\"13.3\\\"\",\"15.6\\\"\"],\"xaxis\":\"x\",\"yaxis\":\"y\",\"type\":\"histogram\"}],                        {\"template\":{\"data\":{\"histogram2dcontour\":[{\"type\":\"histogram2dcontour\",\"colorbar\":{\"outlinewidth\":0,\"ticks\":\"\"},\"colorscale\":[[0.0,\"#0d0887\"],[0.1111111111111111,\"#46039f\"],[0.2222222222222222,\"#7201a8\"],[0.3333333333333333,\"#9c179e\"],[0.4444444444444444,\"#bd3786\"],[0.5555555555555556,\"#d8576b\"],[0.6666666666666666,\"#ed7953\"],[0.7777777777777778,\"#fb9f3a\"],[0.8888888888888888,\"#fdca26\"],[1.0,\"#f0f921\"]]}],\"choropleth\":[{\"type\":\"choropleth\",\"colorbar\":{\"outlinewidth\":0,\"ticks\":\"\"}}],\"histogram2d\":[{\"type\":\"histogram2d\",\"colorbar\":{\"outlinewidth\":0,\"ticks\":\"\"},\"colorscale\":[[0.0,\"#0d0887\"],[0.1111111111111111,\"#46039f\"],[0.2222222222222222,\"#7201a8\"],[0.3333333333333333,\"#9c179e\"],[0.4444444444444444,\"#bd3786\"],[0.5555555555555556,\"#d8576b\"],[0.6666666666666666,\"#ed7953\"],[0.7777777777777778,\"#fb9f3a\"],[0.8888888888888888,\"#fdca26\"],[1.0,\"#f0f921\"]]}],\"heatmap\":[{\"type\":\"heatmap\",\"colorbar\":{\"outlinewidth\":0,\"ticks\":\"\"},\"colorscale\":[[0.0,\"#0d0887\"],[0.1111111111111111,\"#46039f\"],[0.2222222222222222,\"#7201a8\"],[0.3333333333333333,\"#9c179e\"],[0.4444444444444444,\"#bd3786\"],[0.5555555555555556,\"#d8576b\"],[0.6666666666666666,\"#ed7953\"],[0.7777777777777778,\"#fb9f3a\"],[0.8888888888888888,\"#fdca26\"],[1.0,\"#f0f921\"]]}],\"heatmapgl\":[{\"type\":\"heatmapgl\",\"colorbar\":{\"outlinewidth\":0,\"ticks\":\"\"},\"colorscale\":[[0.0,\"#0d0887\"],[0.1111111111111111,\"#46039f\"],[0.2222222222222222,\"#7201a8\"],[0.3333333333333333,\"#9c179e\"],[0.4444444444444444,\"#bd3786\"],[0.5555555555555556,\"#d8576b\"],[0.6666666666666666,\"#ed7953\"],[0.7777777777777778,\"#fb9f3a\"],[0.8888888888888888,\"#fdca26\"],[1.0,\"#f0f921\"]]}],\"contourcarpet\":[{\"type\":\"contourcarpet\",\"colorbar\":{\"outlinewidth\":0,\"ticks\":\"\"}}],\"contour\":[{\"type\":\"contour\",\"colorbar\":{\"outlinewidth\":0,\"ticks\":\"\"},\"colorscale\":[[0.0,\"#0d0887\"],[0.1111111111111111,\"#46039f\"],[0.2222222222222222,\"#7201a8\"],[0.3333333333333333,\"#9c179e\"],[0.4444444444444444,\"#bd3786\"],[0.5555555555555556,\"#d8576b\"],[0.6666666666666666,\"#ed7953\"],[0.7777777777777778,\"#fb9f3a\"],[0.8888888888888888,\"#fdca26\"],[1.0,\"#f0f921\"]]}],\"surface\":[{\"type\":\"surface\",\"colorbar\":{\"outlinewidth\":0,\"ticks\":\"\"},\"colorscale\":[[0.0,\"#0d0887\"],[0.1111111111111111,\"#46039f\"],[0.2222222222222222,\"#7201a8\"],[0.3333333333333333,\"#9c179e\"],[0.4444444444444444,\"#bd3786\"],[0.5555555555555556,\"#d8576b\"],[0.6666666666666666,\"#ed7953\"],[0.7777777777777778,\"#fb9f3a\"],[0.8888888888888888,\"#fdca26\"],[1.0,\"#f0f921\"]]}],\"mesh3d\":[{\"type\":\"mesh3d\",\"colorbar\":{\"outlinewidth\":0,\"ticks\":\"\"}}],\"scatter\":[{\"fillpattern\":{\"fillmode\":\"overlay\",\"size\":10,\"solidity\":0.2},\"type\":\"scatter\"}],\"parcoords\":[{\"type\":\"parcoords\",\"line\":{\"colorbar\":{\"outlinewidth\":0,\"ticks\":\"\"}}}],\"scatterpolargl\":[{\"type\":\"scatterpolargl\",\"marker\":{\"colorbar\":{\"outlinewidth\":0,\"ticks\":\"\"}}}],\"bar\":[{\"error_x\":{\"color\":\"#2a3f5f\"},\"error_y\":{\"color\":\"#2a3f5f\"},\"marker\":{\"line\":{\"color\":\"#E5ECF6\",\"width\":0.5},\"pattern\":{\"fillmode\":\"overlay\",\"size\":10,\"solidity\":0.2}},\"type\":\"bar\"}],\"scattergeo\":[{\"type\":\"scattergeo\",\"marker\":{\"colorbar\":{\"outlinewidth\":0,\"ticks\":\"\"}}}],\"scatterpolar\":[{\"type\":\"scatterpolar\",\"marker\":{\"colorbar\":{\"outlinewidth\":0,\"ticks\":\"\"}}}],\"histogram\":[{\"marker\":{\"pattern\":{\"fillmode\":\"overlay\",\"size\":10,\"solidity\":0.2}},\"type\":\"histogram\"}],\"scattergl\":[{\"type\":\"scattergl\",\"marker\":{\"colorbar\":{\"outlinewidth\":0,\"ticks\":\"\"}}}],\"scatter3d\":[{\"type\":\"scatter3d\",\"line\":{\"colorbar\":{\"outlinewidth\":0,\"ticks\":\"\"}},\"marker\":{\"colorbar\":{\"outlinewidth\":0,\"ticks\":\"\"}}}],\"scattermapbox\":[{\"type\":\"scattermapbox\",\"marker\":{\"colorbar\":{\"outlinewidth\":0,\"ticks\":\"\"}}}],\"scatterternary\":[{\"type\":\"scatterternary\",\"marker\":{\"colorbar\":{\"outlinewidth\":0,\"ticks\":\"\"}}}],\"scattercarpet\":[{\"type\":\"scattercarpet\",\"marker\":{\"colorbar\":{\"outlinewidth\":0,\"ticks\":\"\"}}}],\"carpet\":[{\"aaxis\":{\"endlinecolor\":\"#2a3f5f\",\"gridcolor\":\"white\",\"linecolor\":\"white\",\"minorgridcolor\":\"white\",\"startlinecolor\":\"#2a3f5f\"},\"baxis\":{\"endlinecolor\":\"#2a3f5f\",\"gridcolor\":\"white\",\"linecolor\":\"white\",\"minorgridcolor\":\"white\",\"startlinecolor\":\"#2a3f5f\"},\"type\":\"carpet\"}],\"table\":[{\"cells\":{\"fill\":{\"color\":\"#EBF0F8\"},\"line\":{\"color\":\"white\"}},\"header\":{\"fill\":{\"color\":\"#C8D4E3\"},\"line\":{\"color\":\"white\"}},\"type\":\"table\"}],\"barpolar\":[{\"marker\":{\"line\":{\"color\":\"#E5ECF6\",\"width\":0.5},\"pattern\":{\"fillmode\":\"overlay\",\"size\":10,\"solidity\":0.2}},\"type\":\"barpolar\"}],\"pie\":[{\"automargin\":true,\"type\":\"pie\"}]},\"layout\":{\"autotypenumbers\":\"strict\",\"colorway\":[\"#636efa\",\"#EF553B\",\"#00cc96\",\"#ab63fa\",\"#FFA15A\",\"#19d3f3\",\"#FF6692\",\"#B6E880\",\"#FF97FF\",\"#FECB52\"],\"font\":{\"color\":\"#2a3f5f\"},\"hovermode\":\"closest\",\"hoverlabel\":{\"align\":\"left\"},\"paper_bgcolor\":\"white\",\"plot_bgcolor\":\"#E5ECF6\",\"polar\":{\"bgcolor\":\"#E5ECF6\",\"angularaxis\":{\"gridcolor\":\"white\",\"linecolor\":\"white\",\"ticks\":\"\"},\"radialaxis\":{\"gridcolor\":\"white\",\"linecolor\":\"white\",\"ticks\":\"\"}},\"ternary\":{\"bgcolor\":\"#E5ECF6\",\"aaxis\":{\"gridcolor\":\"white\",\"linecolor\":\"white\",\"ticks\":\"\"},\"baxis\":{\"gridcolor\":\"white\",\"linecolor\":\"white\",\"ticks\":\"\"},\"caxis\":{\"gridcolor\":\"white\",\"linecolor\":\"white\",\"ticks\":\"\"}},\"coloraxis\":{\"colorbar\":{\"outlinewidth\":0,\"ticks\":\"\"}},\"colorscale\":{\"sequential\":[[0.0,\"#0d0887\"],[0.1111111111111111,\"#46039f\"],[0.2222222222222222,\"#7201a8\"],[0.3333333333333333,\"#9c179e\"],[0.4444444444444444,\"#bd3786\"],[0.5555555555555556,\"#d8576b\"],[0.6666666666666666,\"#ed7953\"],[0.7777777777777778,\"#fb9f3a\"],[0.8888888888888888,\"#fdca26\"],[1.0,\"#f0f921\"]],\"sequentialminus\":[[0.0,\"#0d0887\"],[0.1111111111111111,\"#46039f\"],[0.2222222222222222,\"#7201a8\"],[0.3333333333333333,\"#9c179e\"],[0.4444444444444444,\"#bd3786\"],[0.5555555555555556,\"#d8576b\"],[0.6666666666666666,\"#ed7953\"],[0.7777777777777778,\"#fb9f3a\"],[0.8888888888888888,\"#fdca26\"],[1.0,\"#f0f921\"]],\"diverging\":[[0,\"#8e0152\"],[0.1,\"#c51b7d\"],[0.2,\"#de77ae\"],[0.3,\"#f1b6da\"],[0.4,\"#fde0ef\"],[0.5,\"#f7f7f7\"],[0.6,\"#e6f5d0\"],[0.7,\"#b8e186\"],[0.8,\"#7fbc41\"],[0.9,\"#4d9221\"],[1,\"#276419\"]]},\"xaxis\":{\"gridcolor\":\"white\",\"linecolor\":\"white\",\"ticks\":\"\",\"title\":{\"standoff\":15},\"zerolinecolor\":\"white\",\"automargin\":true,\"zerolinewidth\":2},\"yaxis\":{\"gridcolor\":\"white\",\"linecolor\":\"white\",\"ticks\":\"\",\"title\":{\"standoff\":15},\"zerolinecolor\":\"white\",\"automargin\":true,\"zerolinewidth\":2},\"scene\":{\"xaxis\":{\"backgroundcolor\":\"#E5ECF6\",\"gridcolor\":\"white\",\"linecolor\":\"white\",\"showbackground\":true,\"ticks\":\"\",\"zerolinecolor\":\"white\",\"gridwidth\":2},\"yaxis\":{\"backgroundcolor\":\"#E5ECF6\",\"gridcolor\":\"white\",\"linecolor\":\"white\",\"showbackground\":true,\"ticks\":\"\",\"zerolinecolor\":\"white\",\"gridwidth\":2},\"zaxis\":{\"backgroundcolor\":\"#E5ECF6\",\"gridcolor\":\"white\",\"linecolor\":\"white\",\"showbackground\":true,\"ticks\":\"\",\"zerolinecolor\":\"white\",\"gridwidth\":2}},\"shapedefaults\":{\"line\":{\"color\":\"#2a3f5f\"}},\"annotationdefaults\":{\"arrowcolor\":\"#2a3f5f\",\"arrowhead\":0,\"arrowwidth\":1},\"geo\":{\"bgcolor\":\"white\",\"landcolor\":\"#E5ECF6\",\"subunitcolor\":\"white\",\"showland\":true,\"showlakes\":true,\"lakecolor\":\"white\"},\"title\":{\"x\":0.05},\"mapbox\":{\"style\":\"light\"}}},\"xaxis\":{\"anchor\":\"y\",\"domain\":[0.0,1.0],\"title\":{\"text\":\"screen_size\"},\"categoryorder\":\"category ascending\"},\"yaxis\":{\"anchor\":\"x\",\"domain\":[0.0,1.0],\"title\":{\"text\":\"count\"}},\"legend\":{\"title\":{\"text\":\"price_range\"},\"tracegroupgap\":0},\"margin\":{\"t\":60},\"barmode\":\"relative\"},                        {\"responsive\": true}                    ).then(function(){\n",
       "                            \n",
       "var gd = document.getElementById('bf744e61-17a2-4eae-bca1-86b7575bdc3f');\n",
       "var x = new MutationObserver(function (mutations, observer) {{\n",
       "        var display = window.getComputedStyle(gd).display;\n",
       "        if (!display || display === 'none') {{\n",
       "            console.log([gd, 'removed!']);\n",
       "            Plotly.purge(gd);\n",
       "            observer.disconnect();\n",
       "        }}\n",
       "}});\n",
       "\n",
       "// Listen for the removal of the full notebook cells\n",
       "var notebookContainer = gd.closest('#notebook-container');\n",
       "if (notebookContainer) {{\n",
       "    x.observe(notebookContainer, {childList: true});\n",
       "}}\n",
       "\n",
       "// Listen for the clearing of the current output cell\n",
       "var outputEl = gd.closest('.output');\n",
       "if (outputEl) {{\n",
       "    x.observe(outputEl, {childList: true});\n",
       "}}\n",
       "\n",
       "                        })                };                });            </script>        </div>"
      ]
     },
     "metadata": {},
     "output_type": "display_data"
    }
   ],
   "source": [
    "px.histogram(laptops_train, x=\"screen_size\", color=\"price_range\").update_xaxes(categoryorder=\"category ascending\")"
   ]
  },
  {
   "cell_type": "markdown",
   "id": "ee4be1f2-031a-4ae3-b0f6-e353074c4b0b",
   "metadata": {},
   "source": [
    "Se puede ver como la mayoria de los datos cuentan con un tamaño de pantalla de 15,6 pulgadas. Tambien se puede notar algunos datos individuales esparcidos entre los otros tamaños. A esta columna le aplicaremos una conversión de string a float, y dividimos arbitrariamente por 10 su valor"
   ]
  },
  {
   "cell_type": "code",
   "execution_count": 248,
   "id": "44ffb282-3e2a-4808-b42c-9f9b79142c81",
   "metadata": {},
   "outputs": [],
   "source": [
    "# Conversión de string a float\n",
    "\n",
    "def convertir_tamanio_pantalla(tamanio):\n",
    "    return float(tamanio[:-1])/10\n",
    "\n",
    "laptops_train[\"screen_size\"] = laptops_train[\"screen_size\"].apply(convertir_tamanio_pantalla)\n",
    "laptops_test[\"screen_size\"] = laptops_test[\"screen_size\"].apply(convertir_tamanio_pantalla)"
   ]
  },
  {
   "cell_type": "code",
   "execution_count": 249,
   "id": "15b2b635-d220-4a1a-a32c-e244b3c66f99",
   "metadata": {},
   "outputs": [
    {
     "data": {
      "application/vnd.plotly.v1+json": {
       "config": {
        "plotlyServerURL": "https://plot.ly"
       },
       "data": [
        {
         "alignmentgroup": "True",
         "bingroup": "x",
         "hovertemplate": "price_range=low<br>screen_size=%{x}<br>count=%{y}<extra></extra>",
         "legendgroup": "low",
         "marker": {
          "color": "#636efa",
          "pattern": {
           "shape": ""
          }
         },
         "name": "low",
         "offsetgroup": "low",
         "orientation": "v",
         "showlegend": true,
         "type": "histogram",
         "x": [
          1.73,
          1.56,
          1.56,
          1.56,
          1.56,
          1.56,
          1.56,
          1.73,
          1.73,
          1.56,
          1.56,
          1.56,
          1.56,
          1.4,
          1.4,
          1.56,
          1.4,
          1.56,
          1.16,
          1.4,
          1.33,
          1.56,
          1.56,
          1.56,
          1.56,
          1.56,
          1.56,
          1.33,
          1.56,
          1.56,
          1.73,
          1.33,
          1.16,
          1.56,
          1.56,
          1.56,
          1.73,
          1.56,
          1.56,
          1.73,
          1.56,
          1.56,
          1.56,
          1.56,
          1.4,
          1.56,
          1.4,
          1.25,
          1.33,
          1.56,
          1.56,
          1.56,
          1.56,
          1.56,
          1.56,
          1.56,
          1.4,
          1.56,
          1.16,
          1.56,
          1.16,
          1.56,
          1.56,
          1.56,
          1.33,
          1.56,
          1.56,
          1.73,
          1.56,
          1.56,
          1.56,
          1.56,
          1.56,
          1.73,
          1.56,
          1.73,
          1.56,
          1.56,
          1.56,
          1.56,
          1.56,
          1.56,
          1.4,
          1.56,
          1.56,
          1.56,
          1.56,
          1.56,
          1.56,
          1.56,
          1.56,
          1.73,
          1.33,
          1.56,
          1.56,
          1.56,
          1.56,
          1.56,
          1.33,
          1.56,
          1.56,
          1.4,
          1.56,
          1.56,
          1.73,
          1.56,
          1.16,
          1.33,
          1.56,
          1.4,
          1.16,
          1.56,
          1.56,
          1.16,
          1.56,
          1.56,
          1.56,
          1.56,
          1.56,
          1.56,
          1.73,
          1.4,
          1.56,
          1.56,
          1.56,
          1.16,
          1.56,
          1.4,
          1.56,
          1.56,
          1.16,
          1.33,
          1.16,
          1.56,
          1.56,
          1.33,
          1.56,
          1.56,
          1.56,
          1.16,
          1.16,
          1.4,
          1.73,
          1.56,
          1.16,
          1.56,
          1.56,
          1.56,
          1.56,
          1.4,
          1.56,
          1.56,
          1.56,
          1.4,
          1.56,
          1.4,
          1.56,
          1.56,
          1.73,
          1.56,
          1.56,
          1.56,
          1.16,
          1.56,
          1.56,
          1.4,
          1.56,
          1.56,
          1.56,
          1.56,
          1.4,
          1.56,
          1.56,
          1.56,
          1.56,
          1.56,
          1.56,
          1.33,
          1.56,
          1.4,
          1.56,
          1.56,
          1.56,
          1.56,
          1.56,
          1.73,
          1.4,
          1.4,
          1.56,
          1.56,
          1.4,
          1.56,
          1.56,
          1.56,
          1.56,
          1.73,
          1.56,
          1.56,
          1.56,
          1.56,
          1.4,
          1.16,
          1.16,
          1.56,
          1.56,
          1.56,
          1.56,
          1.56,
          1.56,
          1.23,
          1.56,
          1.56,
          1.56,
          1.33,
          1.56,
          1.33,
          1.56,
          1.4,
          1.56,
          1.56,
          1.7,
          1.56,
          1.56,
          1.33,
          1.56,
          1.56,
          1.56,
          1.16,
          1.4,
          1.56,
          1.56,
          1.56,
          1.4,
          1.56,
          1.56,
          1.33,
          1.56,
          1.56,
          1.56,
          1.4,
          1.56,
          1.16,
          1.56,
          1.73,
          1.56,
          1.56,
          1.56,
          1.16,
          1.4,
          1.56,
          1.73,
          1.33,
          1.56,
          1.73,
          1.56,
          1.56,
          1.56,
          1.4,
          1.56,
          1.56,
          1.56,
          1.56,
          1.56,
          1.56,
          1.56,
          1.56,
          1.33,
          1.56,
          1.56,
          1.56,
          1.56,
          1.33,
          1.56,
          1.56,
          1.56,
          1.56,
          1.4,
          1.56,
          1.56,
          1.56,
          1.4,
          1.16,
          1.56,
          1.56,
          1.56,
          1.56,
          1.56,
          1.56,
          1.56,
          1.33,
          1.73,
          1.33,
          1.56,
          1.56,
          1.56,
          1.56,
          1.56,
          1.56,
          1.4,
          1.56,
          1.56,
          1.56,
          1.4,
          1.4,
          1.56,
          1.56,
          1.56,
          1.56,
          1.41,
          1.56,
          1.56,
          1.73,
          1.56,
          1.4,
          1.4,
          1.56,
          1.4,
          1.56,
          1.73,
          1.73,
          1.56,
          1.4,
          1.56,
          1.56,
          1.33,
          1.56,
          1.16,
          1.16,
          1.56,
          1.56,
          1.16,
          1.56,
          1.56,
          1.56,
          1.56,
          1.4,
          1.56,
          1.56,
          1.56,
          1.56,
          1.56,
          1.56,
          1.33,
          1.73,
          1.56,
          1.4,
          1.56,
          1.56,
          1.56,
          1.4,
          1.56,
          1.56,
          1.56,
          1.4,
          1.4,
          1.56,
          1.56,
          1.56,
          1.56,
          1.56,
          1.56,
          1.56,
          1.56,
          1.56,
          1.01,
          1.73,
          1.56,
          1.56,
          1.73,
          1.56,
          1.56,
          1.56,
          1.56,
          1.56,
          1.56,
          1.56,
          1.56,
          1.4,
          1.56,
          1.56,
          1.73,
          1.33,
          1.73,
          1.56,
          1.16,
          1.56,
          1.56,
          1.4,
          1.4,
          1.56,
          1.73,
          1.56,
          1.4,
          1.56,
          1.56,
          1.16,
          1.56,
          1.56,
          1.56,
          1.56,
          1.73,
          1.56,
          1.4,
          1.56,
          1.73,
          1.16,
          1.4,
          1.56,
          1.56,
          1.56,
          1.56,
          1.56,
          1.56,
          1.56,
          1.4,
          1.56,
          1.56,
          1.4,
          1.56,
          1.56,
          1.56,
          1.4,
          1.56,
          1.56,
          1.56,
          1.16,
          1.56,
          1.33,
          1.56,
          1.56,
          1.56,
          1.73,
          1.4,
          1.73,
          1.33,
          1.33,
          1.56,
          1.56,
          1.33,
          1.56,
          1.56,
          1.56,
          1.73,
          1.56,
          1.56,
          1.4,
          1.56,
          1.56,
          1.56,
          1.56,
          1.56,
          1.56,
          1.56,
          1.73,
          1.56,
          1.56,
          1.56,
          1.56,
          1.73,
          1.56,
          1.56,
          1.56,
          1.73
         ],
         "xaxis": "x",
         "yaxis": "y"
        },
        {
         "alignmentgroup": "True",
         "bingroup": "x",
         "hovertemplate": "price_range=mid<br>screen_size=%{x}<br>count=%{y}<extra></extra>",
         "legendgroup": "mid",
         "marker": {
          "color": "#EF553B",
          "pattern": {
           "shape": ""
          }
         },
         "name": "mid",
         "offsetgroup": "mid",
         "orientation": "v",
         "showlegend": true,
         "type": "histogram",
         "x": [
          1.56,
          1.56,
          1.4,
          1.56,
          1.25,
          1.56,
          1.33,
          1.56,
          1.73,
          1.56,
          1.56,
          1.25,
          1.56,
          1.4,
          1.4,
          1.56,
          1.56,
          1.56,
          1.56,
          1.56,
          1.33,
          1.56,
          1.56,
          1.56,
          1.2,
          1.56,
          1.56,
          1.56,
          1.3900000000000001,
          1.56,
          1.1300000000000001,
          1.4,
          1.4,
          1.4,
          1.56,
          1.56,
          1.4,
          1.73,
          1.56,
          1.56,
          1.73,
          1.56,
          1.73,
          1.33,
          1.56,
          1.56,
          1.4,
          1.4,
          1.56,
          1.56,
          1.56,
          1.33,
          1.4,
          1.33,
          1.33,
          1.56,
          1.33,
          1.56,
          1.56,
          1.56,
          1.56,
          1.33,
          1.73,
          1.56,
          1.4,
          1.4,
          1.4,
          1.73,
          1.4,
          1.56,
          1.56,
          1.4,
          1.33,
          1.56,
          1.33,
          1.56,
          1.33,
          1.56,
          1.56,
          1.56,
          1.33,
          1.4,
          1.56,
          1.56,
          1.56,
          1.33,
          1.4,
          1.33,
          1.56,
          1.56,
          1.33,
          1.33,
          1.4,
          1.56,
          1.56,
          1.35,
          1.4,
          1.4,
          1.56,
          1.33,
          1.56,
          1.56,
          1.56,
          1.56,
          1.33,
          1.56,
          1.4,
          1.4,
          1.56,
          1.4,
          1.56,
          1.56,
          1.4,
          1.33,
          1.73,
          1.56,
          1.56,
          1.25,
          1.4,
          1.56,
          1.33,
          1.56,
          1.56,
          1.73,
          1.4,
          1.56,
          1.56,
          1.33,
          1.56,
          1.73,
          1.33,
          1.56,
          1.56,
          1.73,
          1.73,
          1.56,
          1.56,
          1.56,
          1.56,
          1.4,
          1.33,
          1.56,
          1.4,
          1.56,
          1.56,
          1.4,
          1.56,
          1.56,
          1.4,
          1.56,
          1.73,
          1.56,
          1.4,
          1.3,
          1.4,
          1.56,
          1.73,
          1.33,
          1.56,
          1.56,
          1.73,
          1.4,
          1.73,
          1.4,
          1.73,
          1.56,
          1.4,
          1.73,
          1.4,
          1.4,
          1.56,
          1.56,
          1.56,
          1.73,
          1.56,
          1.56,
          1.33,
          1.73,
          1.56,
          1.33,
          1.73,
          1.73,
          1.56,
          1.33,
          1.73,
          1.25,
          1.56,
          1.4,
          1.56,
          1.33,
          1.73,
          1.33,
          1.4,
          1.33,
          1.4,
          1.33,
          1.56,
          1.33,
          1.56,
          1.56,
          1.73,
          1.2,
          1.3900000000000001,
          1.56,
          1.56,
          1.56,
          1.56,
          1.33,
          1.73,
          1.73,
          1.56,
          1.56,
          1.33,
          1.73,
          1.35,
          1.33,
          1.33,
          1.35,
          1.73,
          1.33,
          1.4,
          1.73,
          1.73,
          1.73,
          1.56,
          1.4,
          1.56,
          1.33,
          1.56,
          1.4,
          1.4,
          1.33,
          1.73,
          1.33,
          1.23,
          1.56,
          1.56
         ],
         "xaxis": "x",
         "yaxis": "y"
        },
        {
         "alignmentgroup": "True",
         "bingroup": "x",
         "hovertemplate": "price_range=high<br>screen_size=%{x}<br>count=%{y}<extra></extra>",
         "legendgroup": "high",
         "marker": {
          "color": "#00cc96",
          "pattern": {
           "shape": ""
          }
         },
         "name": "high",
         "offsetgroup": "high",
         "orientation": "v",
         "showlegend": true,
         "type": "histogram",
         "x": [
          1.73,
          1.25,
          1.3,
          1.33,
          1.4,
          1.73,
          1.33,
          1.56,
          1.8399999999999999,
          1.73,
          1.73,
          1.4,
          1.73,
          1.56,
          1.4,
          1.56,
          1.4,
          1.4,
          1.73,
          1.4,
          1.3900000000000001,
          1.4,
          1.33,
          1.56,
          1.56,
          1.56,
          1.56,
          1.4,
          1.4,
          1.33,
          1.33,
          1.33,
          1.73,
          1.33,
          1.33,
          1.33,
          1.4,
          1.56,
          1.33,
          1.25,
          1.56,
          1.4,
          1.33,
          1.73,
          1.4,
          1.25,
          1.73,
          1.33,
          1.25,
          1.73,
          1.56,
          1.73,
          1.54,
          1.73,
          1.54,
          1.73,
          1.4,
          1.33,
          1.33,
          1.33,
          1.73,
          1.4,
          1.54,
          1.25,
          1.25,
          1.33,
          1.33,
          1.54,
          1.56,
          1.25,
          1.56,
          1.33,
          1.33,
          1.33,
          1.56,
          1.33,
          1.73,
          1.33,
          1.25,
          1.56,
          1.25,
          1.56,
          1.73,
          1.33,
          1.73,
          1.5,
          1.33,
          1.5,
          1.73,
          1.2,
          1.73,
          1.56,
          1.33,
          1.25,
          1.4,
          1.4,
          1.25,
          1.56,
          1.4,
          1.33,
          1.33,
          1.4,
          1.33,
          1.56,
          1.33,
          1.33,
          1.73,
          1.56,
          1.4,
          1.56,
          1.56,
          1.33,
          1.33,
          1.73,
          1.35,
          1.35,
          1.56,
          1.4,
          1.56,
          1.73,
          1.4,
          1.33,
          1.33,
          1.56,
          1.56,
          1.4,
          1.25,
          1.4,
          1.4,
          1.35,
          1.56,
          1.56,
          1.73,
          1.73,
          1.73,
          1.73,
          1.56,
          1.56,
          1.73,
          1.23,
          1.4,
          1.25,
          1.33,
          1.73,
          1.4,
          1.56,
          1.56,
          1.56,
          1.56,
          1.73,
          1.56,
          1.73,
          1.73,
          1.4,
          1.33,
          1.56,
          1.73,
          1.56,
          1.73,
          1.33,
          1.33,
          1.73,
          1.33,
          1.56,
          1.73,
          1.56,
          1.73,
          1.73,
          1.33,
          1.56,
          1.25,
          1.25,
          1.33,
          1.56,
          1.56,
          1.73,
          1.4,
          1.56,
          1.25,
          1.4,
          1.33,
          1.3900000000000001,
          1.56,
          1.73,
          1.4,
          1.56,
          1.73,
          1.4,
          1.4,
          1.4,
          1.56,
          1.33,
          1.73,
          1.4,
          1.5,
          1.56,
          1.33,
          1.23,
          1.73,
          1.56,
          1.56,
          1.56,
          1.73,
          1.33,
          1.56,
          1.25,
          1.73,
          1.4,
          1.4,
          1.56,
          1.73,
          1.25,
          1.56,
          1.33,
          1.56,
          1.56,
          1.73,
          1.4,
          1.33,
          1.73,
          1.33,
          1.3900000000000001,
          1.73,
          1.73,
          1.56,
          1.4,
          1.33,
          1.33,
          1.56,
          1.33,
          1.4,
          1.33,
          1.4,
          1.56,
          1.4,
          1.4,
          1.73,
          1.33,
          1.73,
          1.56,
          1.33,
          1.4,
          1.56,
          1.73,
          1.73,
          1.56,
          1.56,
          1.56,
          1.73,
          1.4,
          1.4,
          1.56,
          1.56,
          1.56,
          1.73,
          1.3900000000000001,
          1.33,
          1.4,
          1.4,
          1.56,
          1.56,
          1.73,
          1.56,
          1.56,
          1.56,
          1.4,
          1.56,
          1.33,
          1.56
         ],
         "xaxis": "x",
         "yaxis": "y"
        }
       ],
       "layout": {
        "autosize": true,
        "barmode": "relative",
        "legend": {
         "title": {
          "text": "price_range"
         },
         "tracegroupgap": 0
        },
        "margin": {
         "t": 60
        },
        "template": {
         "data": {
          "bar": [
           {
            "error_x": {
             "color": "#2a3f5f"
            },
            "error_y": {
             "color": "#2a3f5f"
            },
            "marker": {
             "line": {
              "color": "#E5ECF6",
              "width": 0.5
             },
             "pattern": {
              "fillmode": "overlay",
              "size": 10,
              "solidity": 0.2
             }
            },
            "type": "bar"
           }
          ],
          "barpolar": [
           {
            "marker": {
             "line": {
              "color": "#E5ECF6",
              "width": 0.5
             },
             "pattern": {
              "fillmode": "overlay",
              "size": 10,
              "solidity": 0.2
             }
            },
            "type": "barpolar"
           }
          ],
          "carpet": [
           {
            "aaxis": {
             "endlinecolor": "#2a3f5f",
             "gridcolor": "white",
             "linecolor": "white",
             "minorgridcolor": "white",
             "startlinecolor": "#2a3f5f"
            },
            "baxis": {
             "endlinecolor": "#2a3f5f",
             "gridcolor": "white",
             "linecolor": "white",
             "minorgridcolor": "white",
             "startlinecolor": "#2a3f5f"
            },
            "type": "carpet"
           }
          ],
          "choropleth": [
           {
            "colorbar": {
             "outlinewidth": 0,
             "ticks": ""
            },
            "type": "choropleth"
           }
          ],
          "contour": [
           {
            "colorbar": {
             "outlinewidth": 0,
             "ticks": ""
            },
            "colorscale": [
             [
              0,
              "#0d0887"
             ],
             [
              0.1111111111111111,
              "#46039f"
             ],
             [
              0.2222222222222222,
              "#7201a8"
             ],
             [
              0.3333333333333333,
              "#9c179e"
             ],
             [
              0.4444444444444444,
              "#bd3786"
             ],
             [
              0.5555555555555556,
              "#d8576b"
             ],
             [
              0.6666666666666666,
              "#ed7953"
             ],
             [
              0.7777777777777778,
              "#fb9f3a"
             ],
             [
              0.8888888888888888,
              "#fdca26"
             ],
             [
              1,
              "#f0f921"
             ]
            ],
            "type": "contour"
           }
          ],
          "contourcarpet": [
           {
            "colorbar": {
             "outlinewidth": 0,
             "ticks": ""
            },
            "type": "contourcarpet"
           }
          ],
          "heatmap": [
           {
            "colorbar": {
             "outlinewidth": 0,
             "ticks": ""
            },
            "colorscale": [
             [
              0,
              "#0d0887"
             ],
             [
              0.1111111111111111,
              "#46039f"
             ],
             [
              0.2222222222222222,
              "#7201a8"
             ],
             [
              0.3333333333333333,
              "#9c179e"
             ],
             [
              0.4444444444444444,
              "#bd3786"
             ],
             [
              0.5555555555555556,
              "#d8576b"
             ],
             [
              0.6666666666666666,
              "#ed7953"
             ],
             [
              0.7777777777777778,
              "#fb9f3a"
             ],
             [
              0.8888888888888888,
              "#fdca26"
             ],
             [
              1,
              "#f0f921"
             ]
            ],
            "type": "heatmap"
           }
          ],
          "heatmapgl": [
           {
            "colorbar": {
             "outlinewidth": 0,
             "ticks": ""
            },
            "colorscale": [
             [
              0,
              "#0d0887"
             ],
             [
              0.1111111111111111,
              "#46039f"
             ],
             [
              0.2222222222222222,
              "#7201a8"
             ],
             [
              0.3333333333333333,
              "#9c179e"
             ],
             [
              0.4444444444444444,
              "#bd3786"
             ],
             [
              0.5555555555555556,
              "#d8576b"
             ],
             [
              0.6666666666666666,
              "#ed7953"
             ],
             [
              0.7777777777777778,
              "#fb9f3a"
             ],
             [
              0.8888888888888888,
              "#fdca26"
             ],
             [
              1,
              "#f0f921"
             ]
            ],
            "type": "heatmapgl"
           }
          ],
          "histogram": [
           {
            "marker": {
             "pattern": {
              "fillmode": "overlay",
              "size": 10,
              "solidity": 0.2
             }
            },
            "type": "histogram"
           }
          ],
          "histogram2d": [
           {
            "colorbar": {
             "outlinewidth": 0,
             "ticks": ""
            },
            "colorscale": [
             [
              0,
              "#0d0887"
             ],
             [
              0.1111111111111111,
              "#46039f"
             ],
             [
              0.2222222222222222,
              "#7201a8"
             ],
             [
              0.3333333333333333,
              "#9c179e"
             ],
             [
              0.4444444444444444,
              "#bd3786"
             ],
             [
              0.5555555555555556,
              "#d8576b"
             ],
             [
              0.6666666666666666,
              "#ed7953"
             ],
             [
              0.7777777777777778,
              "#fb9f3a"
             ],
             [
              0.8888888888888888,
              "#fdca26"
             ],
             [
              1,
              "#f0f921"
             ]
            ],
            "type": "histogram2d"
           }
          ],
          "histogram2dcontour": [
           {
            "colorbar": {
             "outlinewidth": 0,
             "ticks": ""
            },
            "colorscale": [
             [
              0,
              "#0d0887"
             ],
             [
              0.1111111111111111,
              "#46039f"
             ],
             [
              0.2222222222222222,
              "#7201a8"
             ],
             [
              0.3333333333333333,
              "#9c179e"
             ],
             [
              0.4444444444444444,
              "#bd3786"
             ],
             [
              0.5555555555555556,
              "#d8576b"
             ],
             [
              0.6666666666666666,
              "#ed7953"
             ],
             [
              0.7777777777777778,
              "#fb9f3a"
             ],
             [
              0.8888888888888888,
              "#fdca26"
             ],
             [
              1,
              "#f0f921"
             ]
            ],
            "type": "histogram2dcontour"
           }
          ],
          "mesh3d": [
           {
            "colorbar": {
             "outlinewidth": 0,
             "ticks": ""
            },
            "type": "mesh3d"
           }
          ],
          "parcoords": [
           {
            "line": {
             "colorbar": {
              "outlinewidth": 0,
              "ticks": ""
             }
            },
            "type": "parcoords"
           }
          ],
          "pie": [
           {
            "automargin": true,
            "type": "pie"
           }
          ],
          "scatter": [
           {
            "fillpattern": {
             "fillmode": "overlay",
             "size": 10,
             "solidity": 0.2
            },
            "type": "scatter"
           }
          ],
          "scatter3d": [
           {
            "line": {
             "colorbar": {
              "outlinewidth": 0,
              "ticks": ""
             }
            },
            "marker": {
             "colorbar": {
              "outlinewidth": 0,
              "ticks": ""
             }
            },
            "type": "scatter3d"
           }
          ],
          "scattercarpet": [
           {
            "marker": {
             "colorbar": {
              "outlinewidth": 0,
              "ticks": ""
             }
            },
            "type": "scattercarpet"
           }
          ],
          "scattergeo": [
           {
            "marker": {
             "colorbar": {
              "outlinewidth": 0,
              "ticks": ""
             }
            },
            "type": "scattergeo"
           }
          ],
          "scattergl": [
           {
            "marker": {
             "colorbar": {
              "outlinewidth": 0,
              "ticks": ""
             }
            },
            "type": "scattergl"
           }
          ],
          "scattermapbox": [
           {
            "marker": {
             "colorbar": {
              "outlinewidth": 0,
              "ticks": ""
             }
            },
            "type": "scattermapbox"
           }
          ],
          "scatterpolar": [
           {
            "marker": {
             "colorbar": {
              "outlinewidth": 0,
              "ticks": ""
             }
            },
            "type": "scatterpolar"
           }
          ],
          "scatterpolargl": [
           {
            "marker": {
             "colorbar": {
              "outlinewidth": 0,
              "ticks": ""
             }
            },
            "type": "scatterpolargl"
           }
          ],
          "scatterternary": [
           {
            "marker": {
             "colorbar": {
              "outlinewidth": 0,
              "ticks": ""
             }
            },
            "type": "scatterternary"
           }
          ],
          "surface": [
           {
            "colorbar": {
             "outlinewidth": 0,
             "ticks": ""
            },
            "colorscale": [
             [
              0,
              "#0d0887"
             ],
             [
              0.1111111111111111,
              "#46039f"
             ],
             [
              0.2222222222222222,
              "#7201a8"
             ],
             [
              0.3333333333333333,
              "#9c179e"
             ],
             [
              0.4444444444444444,
              "#bd3786"
             ],
             [
              0.5555555555555556,
              "#d8576b"
             ],
             [
              0.6666666666666666,
              "#ed7953"
             ],
             [
              0.7777777777777778,
              "#fb9f3a"
             ],
             [
              0.8888888888888888,
              "#fdca26"
             ],
             [
              1,
              "#f0f921"
             ]
            ],
            "type": "surface"
           }
          ],
          "table": [
           {
            "cells": {
             "fill": {
              "color": "#EBF0F8"
             },
             "line": {
              "color": "white"
             }
            },
            "header": {
             "fill": {
              "color": "#C8D4E3"
             },
             "line": {
              "color": "white"
             }
            },
            "type": "table"
           }
          ]
         },
         "layout": {
          "annotationdefaults": {
           "arrowcolor": "#2a3f5f",
           "arrowhead": 0,
           "arrowwidth": 1
          },
          "autotypenumbers": "strict",
          "coloraxis": {
           "colorbar": {
            "outlinewidth": 0,
            "ticks": ""
           }
          },
          "colorscale": {
           "diverging": [
            [
             0,
             "#8e0152"
            ],
            [
             0.1,
             "#c51b7d"
            ],
            [
             0.2,
             "#de77ae"
            ],
            [
             0.3,
             "#f1b6da"
            ],
            [
             0.4,
             "#fde0ef"
            ],
            [
             0.5,
             "#f7f7f7"
            ],
            [
             0.6,
             "#e6f5d0"
            ],
            [
             0.7,
             "#b8e186"
            ],
            [
             0.8,
             "#7fbc41"
            ],
            [
             0.9,
             "#4d9221"
            ],
            [
             1,
             "#276419"
            ]
           ],
           "sequential": [
            [
             0,
             "#0d0887"
            ],
            [
             0.1111111111111111,
             "#46039f"
            ],
            [
             0.2222222222222222,
             "#7201a8"
            ],
            [
             0.3333333333333333,
             "#9c179e"
            ],
            [
             0.4444444444444444,
             "#bd3786"
            ],
            [
             0.5555555555555556,
             "#d8576b"
            ],
            [
             0.6666666666666666,
             "#ed7953"
            ],
            [
             0.7777777777777778,
             "#fb9f3a"
            ],
            [
             0.8888888888888888,
             "#fdca26"
            ],
            [
             1,
             "#f0f921"
            ]
           ],
           "sequentialminus": [
            [
             0,
             "#0d0887"
            ],
            [
             0.1111111111111111,
             "#46039f"
            ],
            [
             0.2222222222222222,
             "#7201a8"
            ],
            [
             0.3333333333333333,
             "#9c179e"
            ],
            [
             0.4444444444444444,
             "#bd3786"
            ],
            [
             0.5555555555555556,
             "#d8576b"
            ],
            [
             0.6666666666666666,
             "#ed7953"
            ],
            [
             0.7777777777777778,
             "#fb9f3a"
            ],
            [
             0.8888888888888888,
             "#fdca26"
            ],
            [
             1,
             "#f0f921"
            ]
           ]
          },
          "colorway": [
           "#636efa",
           "#EF553B",
           "#00cc96",
           "#ab63fa",
           "#FFA15A",
           "#19d3f3",
           "#FF6692",
           "#B6E880",
           "#FF97FF",
           "#FECB52"
          ],
          "font": {
           "color": "#2a3f5f"
          },
          "geo": {
           "bgcolor": "white",
           "lakecolor": "white",
           "landcolor": "#E5ECF6",
           "showlakes": true,
           "showland": true,
           "subunitcolor": "white"
          },
          "hoverlabel": {
           "align": "left"
          },
          "hovermode": "closest",
          "mapbox": {
           "style": "light"
          },
          "paper_bgcolor": "white",
          "plot_bgcolor": "#E5ECF6",
          "polar": {
           "angularaxis": {
            "gridcolor": "white",
            "linecolor": "white",
            "ticks": ""
           },
           "bgcolor": "#E5ECF6",
           "radialaxis": {
            "gridcolor": "white",
            "linecolor": "white",
            "ticks": ""
           }
          },
          "scene": {
           "xaxis": {
            "backgroundcolor": "#E5ECF6",
            "gridcolor": "white",
            "gridwidth": 2,
            "linecolor": "white",
            "showbackground": true,
            "ticks": "",
            "zerolinecolor": "white"
           },
           "yaxis": {
            "backgroundcolor": "#E5ECF6",
            "gridcolor": "white",
            "gridwidth": 2,
            "linecolor": "white",
            "showbackground": true,
            "ticks": "",
            "zerolinecolor": "white"
           },
           "zaxis": {
            "backgroundcolor": "#E5ECF6",
            "gridcolor": "white",
            "gridwidth": 2,
            "linecolor": "white",
            "showbackground": true,
            "ticks": "",
            "zerolinecolor": "white"
           }
          },
          "shapedefaults": {
           "line": {
            "color": "#2a3f5f"
           }
          },
          "ternary": {
           "aaxis": {
            "gridcolor": "white",
            "linecolor": "white",
            "ticks": ""
           },
           "baxis": {
            "gridcolor": "white",
            "linecolor": "white",
            "ticks": ""
           },
           "bgcolor": "#E5ECF6",
           "caxis": {
            "gridcolor": "white",
            "linecolor": "white",
            "ticks": ""
           }
          },
          "title": {
           "x": 0.05
          },
          "xaxis": {
           "automargin": true,
           "gridcolor": "white",
           "linecolor": "white",
           "ticks": "",
           "title": {
            "standoff": 15
           },
           "zerolinecolor": "white",
           "zerolinewidth": 2
          },
          "yaxis": {
           "automargin": true,
           "gridcolor": "white",
           "linecolor": "white",
           "ticks": "",
           "title": {
            "standoff": 15
           },
           "zerolinecolor": "white",
           "zerolinewidth": 2
          }
         }
        },
        "xaxis": {
         "anchor": "y",
         "autorange": true,
         "domain": [
          0,
          1
         ],
         "range": [
          1,
          1.7399999999999998
         ],
         "title": {
          "text": "screen_size"
         },
         "type": "linear"
        },
        "yaxis": {
         "anchor": "x",
         "autorange": true,
         "domain": [
          0,
          1
         ],
         "range": [
          0,
          517.8947368421052
         ],
         "title": {
          "text": "count"
         }
        }
       }
      },
      "text/html": [
       "<div>                            <div id=\"6371bda0-c599-4ab4-9646-7652ece66850\" class=\"plotly-graph-div\" style=\"height:525px; width:100%;\"></div>            <script type=\"text/javascript\">                require([\"plotly\"], function(Plotly) {                    window.PLOTLYENV=window.PLOTLYENV || {};                                    if (document.getElementById(\"6371bda0-c599-4ab4-9646-7652ece66850\")) {                    Plotly.newPlot(                        \"6371bda0-c599-4ab4-9646-7652ece66850\",                        [{\"alignmentgroup\":\"True\",\"bingroup\":\"x\",\"hovertemplate\":\"price_range=low\\u003cbr\\u003escreen_size=%{x}\\u003cbr\\u003ecount=%{y}\\u003cextra\\u003e\\u003c\\u002fextra\\u003e\",\"legendgroup\":\"low\",\"marker\":{\"color\":\"#636efa\",\"pattern\":{\"shape\":\"\"}},\"name\":\"low\",\"offsetgroup\":\"low\",\"orientation\":\"v\",\"showlegend\":true,\"x\":[1.73,1.56,1.56,1.56,1.56,1.56,1.56,1.73,1.73,1.56,1.56,1.56,1.56,1.4,1.4,1.56,1.4,1.56,1.16,1.4,1.33,1.56,1.56,1.56,1.56,1.56,1.56,1.33,1.56,1.56,1.73,1.33,1.16,1.56,1.56,1.56,1.73,1.56,1.56,1.73,1.56,1.56,1.56,1.56,1.4,1.56,1.4,1.25,1.33,1.56,1.56,1.56,1.56,1.56,1.56,1.56,1.4,1.56,1.16,1.56,1.16,1.56,1.56,1.56,1.33,1.56,1.56,1.73,1.56,1.56,1.56,1.56,1.56,1.73,1.56,1.73,1.56,1.56,1.56,1.56,1.56,1.56,1.4,1.56,1.56,1.56,1.56,1.56,1.56,1.56,1.56,1.73,1.33,1.56,1.56,1.56,1.56,1.56,1.33,1.56,1.56,1.4,1.56,1.56,1.73,1.56,1.16,1.33,1.56,1.4,1.16,1.56,1.56,1.16,1.56,1.56,1.56,1.56,1.56,1.56,1.73,1.4,1.56,1.56,1.56,1.16,1.56,1.4,1.56,1.56,1.16,1.33,1.16,1.56,1.56,1.33,1.56,1.56,1.56,1.16,1.16,1.4,1.73,1.56,1.16,1.56,1.56,1.56,1.56,1.4,1.56,1.56,1.56,1.4,1.56,1.4,1.56,1.56,1.73,1.56,1.56,1.56,1.16,1.56,1.56,1.4,1.56,1.56,1.56,1.56,1.4,1.56,1.56,1.56,1.56,1.56,1.56,1.33,1.56,1.4,1.56,1.56,1.56,1.56,1.56,1.73,1.4,1.4,1.56,1.56,1.4,1.56,1.56,1.56,1.56,1.73,1.56,1.56,1.56,1.56,1.4,1.16,1.16,1.56,1.56,1.56,1.56,1.56,1.56,1.23,1.56,1.56,1.56,1.33,1.56,1.33,1.56,1.4,1.56,1.56,1.7,1.56,1.56,1.33,1.56,1.56,1.56,1.16,1.4,1.56,1.56,1.56,1.4,1.56,1.56,1.33,1.56,1.56,1.56,1.4,1.56,1.16,1.56,1.73,1.56,1.56,1.56,1.16,1.4,1.56,1.73,1.33,1.56,1.73,1.56,1.56,1.56,1.4,1.56,1.56,1.56,1.56,1.56,1.56,1.56,1.56,1.33,1.56,1.56,1.56,1.56,1.33,1.56,1.56,1.56,1.56,1.4,1.56,1.56,1.56,1.4,1.16,1.56,1.56,1.56,1.56,1.56,1.56,1.56,1.33,1.73,1.33,1.56,1.56,1.56,1.56,1.56,1.56,1.4,1.56,1.56,1.56,1.4,1.4,1.56,1.56,1.56,1.56,1.41,1.56,1.56,1.73,1.56,1.4,1.4,1.56,1.4,1.56,1.73,1.73,1.56,1.4,1.56,1.56,1.33,1.56,1.16,1.16,1.56,1.56,1.16,1.56,1.56,1.56,1.56,1.4,1.56,1.56,1.56,1.56,1.56,1.56,1.33,1.73,1.56,1.4,1.56,1.56,1.56,1.4,1.56,1.56,1.56,1.4,1.4,1.56,1.56,1.56,1.56,1.56,1.56,1.56,1.56,1.56,1.01,1.73,1.56,1.56,1.73,1.56,1.56,1.56,1.56,1.56,1.56,1.56,1.56,1.4,1.56,1.56,1.73,1.33,1.73,1.56,1.16,1.56,1.56,1.4,1.4,1.56,1.73,1.56,1.4,1.56,1.56,1.16,1.56,1.56,1.56,1.56,1.73,1.56,1.4,1.56,1.73,1.16,1.4,1.56,1.56,1.56,1.56,1.56,1.56,1.56,1.4,1.56,1.56,1.4,1.56,1.56,1.56,1.4,1.56,1.56,1.56,1.16,1.56,1.33,1.56,1.56,1.56,1.73,1.4,1.73,1.33,1.33,1.56,1.56,1.33,1.56,1.56,1.56,1.73,1.56,1.56,1.4,1.56,1.56,1.56,1.56,1.56,1.56,1.56,1.73,1.56,1.56,1.56,1.56,1.73,1.56,1.56,1.56,1.73],\"xaxis\":\"x\",\"yaxis\":\"y\",\"type\":\"histogram\"},{\"alignmentgroup\":\"True\",\"bingroup\":\"x\",\"hovertemplate\":\"price_range=mid\\u003cbr\\u003escreen_size=%{x}\\u003cbr\\u003ecount=%{y}\\u003cextra\\u003e\\u003c\\u002fextra\\u003e\",\"legendgroup\":\"mid\",\"marker\":{\"color\":\"#EF553B\",\"pattern\":{\"shape\":\"\"}},\"name\":\"mid\",\"offsetgroup\":\"mid\",\"orientation\":\"v\",\"showlegend\":true,\"x\":[1.56,1.56,1.4,1.56,1.25,1.56,1.33,1.56,1.73,1.56,1.56,1.25,1.56,1.4,1.4,1.56,1.56,1.56,1.56,1.56,1.33,1.56,1.56,1.56,1.2,1.56,1.56,1.56,1.3900000000000001,1.56,1.1300000000000001,1.4,1.4,1.4,1.56,1.56,1.4,1.73,1.56,1.56,1.73,1.56,1.73,1.33,1.56,1.56,1.4,1.4,1.56,1.56,1.56,1.33,1.4,1.33,1.33,1.56,1.33,1.56,1.56,1.56,1.56,1.33,1.73,1.56,1.4,1.4,1.4,1.73,1.4,1.56,1.56,1.4,1.33,1.56,1.33,1.56,1.33,1.56,1.56,1.56,1.33,1.4,1.56,1.56,1.56,1.33,1.4,1.33,1.56,1.56,1.33,1.33,1.4,1.56,1.56,1.35,1.4,1.4,1.56,1.33,1.56,1.56,1.56,1.56,1.33,1.56,1.4,1.4,1.56,1.4,1.56,1.56,1.4,1.33,1.73,1.56,1.56,1.25,1.4,1.56,1.33,1.56,1.56,1.73,1.4,1.56,1.56,1.33,1.56,1.73,1.33,1.56,1.56,1.73,1.73,1.56,1.56,1.56,1.56,1.4,1.33,1.56,1.4,1.56,1.56,1.4,1.56,1.56,1.4,1.56,1.73,1.56,1.4,1.3,1.4,1.56,1.73,1.33,1.56,1.56,1.73,1.4,1.73,1.4,1.73,1.56,1.4,1.73,1.4,1.4,1.56,1.56,1.56,1.73,1.56,1.56,1.33,1.73,1.56,1.33,1.73,1.73,1.56,1.33,1.73,1.25,1.56,1.4,1.56,1.33,1.73,1.33,1.4,1.33,1.4,1.33,1.56,1.33,1.56,1.56,1.73,1.2,1.3900000000000001,1.56,1.56,1.56,1.56,1.33,1.73,1.73,1.56,1.56,1.33,1.73,1.35,1.33,1.33,1.35,1.73,1.33,1.4,1.73,1.73,1.73,1.56,1.4,1.56,1.33,1.56,1.4,1.4,1.33,1.73,1.33,1.23,1.56,1.56],\"xaxis\":\"x\",\"yaxis\":\"y\",\"type\":\"histogram\"},{\"alignmentgroup\":\"True\",\"bingroup\":\"x\",\"hovertemplate\":\"price_range=high\\u003cbr\\u003escreen_size=%{x}\\u003cbr\\u003ecount=%{y}\\u003cextra\\u003e\\u003c\\u002fextra\\u003e\",\"legendgroup\":\"high\",\"marker\":{\"color\":\"#00cc96\",\"pattern\":{\"shape\":\"\"}},\"name\":\"high\",\"offsetgroup\":\"high\",\"orientation\":\"v\",\"showlegend\":true,\"x\":[1.73,1.25,1.3,1.33,1.4,1.73,1.33,1.56,1.8399999999999999,1.73,1.73,1.4,1.73,1.56,1.4,1.56,1.4,1.4,1.73,1.4,1.3900000000000001,1.4,1.33,1.56,1.56,1.56,1.56,1.4,1.4,1.33,1.33,1.33,1.73,1.33,1.33,1.33,1.4,1.56,1.33,1.25,1.56,1.4,1.33,1.73,1.4,1.25,1.73,1.33,1.25,1.73,1.56,1.73,1.54,1.73,1.54,1.73,1.4,1.33,1.33,1.33,1.73,1.4,1.54,1.25,1.25,1.33,1.33,1.54,1.56,1.25,1.56,1.33,1.33,1.33,1.56,1.33,1.73,1.33,1.25,1.56,1.25,1.56,1.73,1.33,1.73,1.5,1.33,1.5,1.73,1.2,1.73,1.56,1.33,1.25,1.4,1.4,1.25,1.56,1.4,1.33,1.33,1.4,1.33,1.56,1.33,1.33,1.73,1.56,1.4,1.56,1.56,1.33,1.33,1.73,1.35,1.35,1.56,1.4,1.56,1.73,1.4,1.33,1.33,1.56,1.56,1.4,1.25,1.4,1.4,1.35,1.56,1.56,1.73,1.73,1.73,1.73,1.56,1.56,1.73,1.23,1.4,1.25,1.33,1.73,1.4,1.56,1.56,1.56,1.56,1.73,1.56,1.73,1.73,1.4,1.33,1.56,1.73,1.56,1.73,1.33,1.33,1.73,1.33,1.56,1.73,1.56,1.73,1.73,1.33,1.56,1.25,1.25,1.33,1.56,1.56,1.73,1.4,1.56,1.25,1.4,1.33,1.3900000000000001,1.56,1.73,1.4,1.56,1.73,1.4,1.4,1.4,1.56,1.33,1.73,1.4,1.5,1.56,1.33,1.23,1.73,1.56,1.56,1.56,1.73,1.33,1.56,1.25,1.73,1.4,1.4,1.56,1.73,1.25,1.56,1.33,1.56,1.56,1.73,1.4,1.33,1.73,1.33,1.3900000000000001,1.73,1.73,1.56,1.4,1.33,1.33,1.56,1.33,1.4,1.33,1.4,1.56,1.4,1.4,1.73,1.33,1.73,1.56,1.33,1.4,1.56,1.73,1.73,1.56,1.56,1.56,1.73,1.4,1.4,1.56,1.56,1.56,1.73,1.3900000000000001,1.33,1.4,1.4,1.56,1.56,1.73,1.56,1.56,1.56,1.4,1.56,1.33,1.56],\"xaxis\":\"x\",\"yaxis\":\"y\",\"type\":\"histogram\"}],                        {\"template\":{\"data\":{\"histogram2dcontour\":[{\"type\":\"histogram2dcontour\",\"colorbar\":{\"outlinewidth\":0,\"ticks\":\"\"},\"colorscale\":[[0.0,\"#0d0887\"],[0.1111111111111111,\"#46039f\"],[0.2222222222222222,\"#7201a8\"],[0.3333333333333333,\"#9c179e\"],[0.4444444444444444,\"#bd3786\"],[0.5555555555555556,\"#d8576b\"],[0.6666666666666666,\"#ed7953\"],[0.7777777777777778,\"#fb9f3a\"],[0.8888888888888888,\"#fdca26\"],[1.0,\"#f0f921\"]]}],\"choropleth\":[{\"type\":\"choropleth\",\"colorbar\":{\"outlinewidth\":0,\"ticks\":\"\"}}],\"histogram2d\":[{\"type\":\"histogram2d\",\"colorbar\":{\"outlinewidth\":0,\"ticks\":\"\"},\"colorscale\":[[0.0,\"#0d0887\"],[0.1111111111111111,\"#46039f\"],[0.2222222222222222,\"#7201a8\"],[0.3333333333333333,\"#9c179e\"],[0.4444444444444444,\"#bd3786\"],[0.5555555555555556,\"#d8576b\"],[0.6666666666666666,\"#ed7953\"],[0.7777777777777778,\"#fb9f3a\"],[0.8888888888888888,\"#fdca26\"],[1.0,\"#f0f921\"]]}],\"heatmap\":[{\"type\":\"heatmap\",\"colorbar\":{\"outlinewidth\":0,\"ticks\":\"\"},\"colorscale\":[[0.0,\"#0d0887\"],[0.1111111111111111,\"#46039f\"],[0.2222222222222222,\"#7201a8\"],[0.3333333333333333,\"#9c179e\"],[0.4444444444444444,\"#bd3786\"],[0.5555555555555556,\"#d8576b\"],[0.6666666666666666,\"#ed7953\"],[0.7777777777777778,\"#fb9f3a\"],[0.8888888888888888,\"#fdca26\"],[1.0,\"#f0f921\"]]}],\"heatmapgl\":[{\"type\":\"heatmapgl\",\"colorbar\":{\"outlinewidth\":0,\"ticks\":\"\"},\"colorscale\":[[0.0,\"#0d0887\"],[0.1111111111111111,\"#46039f\"],[0.2222222222222222,\"#7201a8\"],[0.3333333333333333,\"#9c179e\"],[0.4444444444444444,\"#bd3786\"],[0.5555555555555556,\"#d8576b\"],[0.6666666666666666,\"#ed7953\"],[0.7777777777777778,\"#fb9f3a\"],[0.8888888888888888,\"#fdca26\"],[1.0,\"#f0f921\"]]}],\"contourcarpet\":[{\"type\":\"contourcarpet\",\"colorbar\":{\"outlinewidth\":0,\"ticks\":\"\"}}],\"contour\":[{\"type\":\"contour\",\"colorbar\":{\"outlinewidth\":0,\"ticks\":\"\"},\"colorscale\":[[0.0,\"#0d0887\"],[0.1111111111111111,\"#46039f\"],[0.2222222222222222,\"#7201a8\"],[0.3333333333333333,\"#9c179e\"],[0.4444444444444444,\"#bd3786\"],[0.5555555555555556,\"#d8576b\"],[0.6666666666666666,\"#ed7953\"],[0.7777777777777778,\"#fb9f3a\"],[0.8888888888888888,\"#fdca26\"],[1.0,\"#f0f921\"]]}],\"surface\":[{\"type\":\"surface\",\"colorbar\":{\"outlinewidth\":0,\"ticks\":\"\"},\"colorscale\":[[0.0,\"#0d0887\"],[0.1111111111111111,\"#46039f\"],[0.2222222222222222,\"#7201a8\"],[0.3333333333333333,\"#9c179e\"],[0.4444444444444444,\"#bd3786\"],[0.5555555555555556,\"#d8576b\"],[0.6666666666666666,\"#ed7953\"],[0.7777777777777778,\"#fb9f3a\"],[0.8888888888888888,\"#fdca26\"],[1.0,\"#f0f921\"]]}],\"mesh3d\":[{\"type\":\"mesh3d\",\"colorbar\":{\"outlinewidth\":0,\"ticks\":\"\"}}],\"scatter\":[{\"fillpattern\":{\"fillmode\":\"overlay\",\"size\":10,\"solidity\":0.2},\"type\":\"scatter\"}],\"parcoords\":[{\"type\":\"parcoords\",\"line\":{\"colorbar\":{\"outlinewidth\":0,\"ticks\":\"\"}}}],\"scatterpolargl\":[{\"type\":\"scatterpolargl\",\"marker\":{\"colorbar\":{\"outlinewidth\":0,\"ticks\":\"\"}}}],\"bar\":[{\"error_x\":{\"color\":\"#2a3f5f\"},\"error_y\":{\"color\":\"#2a3f5f\"},\"marker\":{\"line\":{\"color\":\"#E5ECF6\",\"width\":0.5},\"pattern\":{\"fillmode\":\"overlay\",\"size\":10,\"solidity\":0.2}},\"type\":\"bar\"}],\"scattergeo\":[{\"type\":\"scattergeo\",\"marker\":{\"colorbar\":{\"outlinewidth\":0,\"ticks\":\"\"}}}],\"scatterpolar\":[{\"type\":\"scatterpolar\",\"marker\":{\"colorbar\":{\"outlinewidth\":0,\"ticks\":\"\"}}}],\"histogram\":[{\"marker\":{\"pattern\":{\"fillmode\":\"overlay\",\"size\":10,\"solidity\":0.2}},\"type\":\"histogram\"}],\"scattergl\":[{\"type\":\"scattergl\",\"marker\":{\"colorbar\":{\"outlinewidth\":0,\"ticks\":\"\"}}}],\"scatter3d\":[{\"type\":\"scatter3d\",\"line\":{\"colorbar\":{\"outlinewidth\":0,\"ticks\":\"\"}},\"marker\":{\"colorbar\":{\"outlinewidth\":0,\"ticks\":\"\"}}}],\"scattermapbox\":[{\"type\":\"scattermapbox\",\"marker\":{\"colorbar\":{\"outlinewidth\":0,\"ticks\":\"\"}}}],\"scatterternary\":[{\"type\":\"scatterternary\",\"marker\":{\"colorbar\":{\"outlinewidth\":0,\"ticks\":\"\"}}}],\"scattercarpet\":[{\"type\":\"scattercarpet\",\"marker\":{\"colorbar\":{\"outlinewidth\":0,\"ticks\":\"\"}}}],\"carpet\":[{\"aaxis\":{\"endlinecolor\":\"#2a3f5f\",\"gridcolor\":\"white\",\"linecolor\":\"white\",\"minorgridcolor\":\"white\",\"startlinecolor\":\"#2a3f5f\"},\"baxis\":{\"endlinecolor\":\"#2a3f5f\",\"gridcolor\":\"white\",\"linecolor\":\"white\",\"minorgridcolor\":\"white\",\"startlinecolor\":\"#2a3f5f\"},\"type\":\"carpet\"}],\"table\":[{\"cells\":{\"fill\":{\"color\":\"#EBF0F8\"},\"line\":{\"color\":\"white\"}},\"header\":{\"fill\":{\"color\":\"#C8D4E3\"},\"line\":{\"color\":\"white\"}},\"type\":\"table\"}],\"barpolar\":[{\"marker\":{\"line\":{\"color\":\"#E5ECF6\",\"width\":0.5},\"pattern\":{\"fillmode\":\"overlay\",\"size\":10,\"solidity\":0.2}},\"type\":\"barpolar\"}],\"pie\":[{\"automargin\":true,\"type\":\"pie\"}]},\"layout\":{\"autotypenumbers\":\"strict\",\"colorway\":[\"#636efa\",\"#EF553B\",\"#00cc96\",\"#ab63fa\",\"#FFA15A\",\"#19d3f3\",\"#FF6692\",\"#B6E880\",\"#FF97FF\",\"#FECB52\"],\"font\":{\"color\":\"#2a3f5f\"},\"hovermode\":\"closest\",\"hoverlabel\":{\"align\":\"left\"},\"paper_bgcolor\":\"white\",\"plot_bgcolor\":\"#E5ECF6\",\"polar\":{\"bgcolor\":\"#E5ECF6\",\"angularaxis\":{\"gridcolor\":\"white\",\"linecolor\":\"white\",\"ticks\":\"\"},\"radialaxis\":{\"gridcolor\":\"white\",\"linecolor\":\"white\",\"ticks\":\"\"}},\"ternary\":{\"bgcolor\":\"#E5ECF6\",\"aaxis\":{\"gridcolor\":\"white\",\"linecolor\":\"white\",\"ticks\":\"\"},\"baxis\":{\"gridcolor\":\"white\",\"linecolor\":\"white\",\"ticks\":\"\"},\"caxis\":{\"gridcolor\":\"white\",\"linecolor\":\"white\",\"ticks\":\"\"}},\"coloraxis\":{\"colorbar\":{\"outlinewidth\":0,\"ticks\":\"\"}},\"colorscale\":{\"sequential\":[[0.0,\"#0d0887\"],[0.1111111111111111,\"#46039f\"],[0.2222222222222222,\"#7201a8\"],[0.3333333333333333,\"#9c179e\"],[0.4444444444444444,\"#bd3786\"],[0.5555555555555556,\"#d8576b\"],[0.6666666666666666,\"#ed7953\"],[0.7777777777777778,\"#fb9f3a\"],[0.8888888888888888,\"#fdca26\"],[1.0,\"#f0f921\"]],\"sequentialminus\":[[0.0,\"#0d0887\"],[0.1111111111111111,\"#46039f\"],[0.2222222222222222,\"#7201a8\"],[0.3333333333333333,\"#9c179e\"],[0.4444444444444444,\"#bd3786\"],[0.5555555555555556,\"#d8576b\"],[0.6666666666666666,\"#ed7953\"],[0.7777777777777778,\"#fb9f3a\"],[0.8888888888888888,\"#fdca26\"],[1.0,\"#f0f921\"]],\"diverging\":[[0,\"#8e0152\"],[0.1,\"#c51b7d\"],[0.2,\"#de77ae\"],[0.3,\"#f1b6da\"],[0.4,\"#fde0ef\"],[0.5,\"#f7f7f7\"],[0.6,\"#e6f5d0\"],[0.7,\"#b8e186\"],[0.8,\"#7fbc41\"],[0.9,\"#4d9221\"],[1,\"#276419\"]]},\"xaxis\":{\"gridcolor\":\"white\",\"linecolor\":\"white\",\"ticks\":\"\",\"title\":{\"standoff\":15},\"zerolinecolor\":\"white\",\"automargin\":true,\"zerolinewidth\":2},\"yaxis\":{\"gridcolor\":\"white\",\"linecolor\":\"white\",\"ticks\":\"\",\"title\":{\"standoff\":15},\"zerolinecolor\":\"white\",\"automargin\":true,\"zerolinewidth\":2},\"scene\":{\"xaxis\":{\"backgroundcolor\":\"#E5ECF6\",\"gridcolor\":\"white\",\"linecolor\":\"white\",\"showbackground\":true,\"ticks\":\"\",\"zerolinecolor\":\"white\",\"gridwidth\":2},\"yaxis\":{\"backgroundcolor\":\"#E5ECF6\",\"gridcolor\":\"white\",\"linecolor\":\"white\",\"showbackground\":true,\"ticks\":\"\",\"zerolinecolor\":\"white\",\"gridwidth\":2},\"zaxis\":{\"backgroundcolor\":\"#E5ECF6\",\"gridcolor\":\"white\",\"linecolor\":\"white\",\"showbackground\":true,\"ticks\":\"\",\"zerolinecolor\":\"white\",\"gridwidth\":2}},\"shapedefaults\":{\"line\":{\"color\":\"#2a3f5f\"}},\"annotationdefaults\":{\"arrowcolor\":\"#2a3f5f\",\"arrowhead\":0,\"arrowwidth\":1},\"geo\":{\"bgcolor\":\"white\",\"landcolor\":\"#E5ECF6\",\"subunitcolor\":\"white\",\"showland\":true,\"showlakes\":true,\"lakecolor\":\"white\"},\"title\":{\"x\":0.05},\"mapbox\":{\"style\":\"light\"}}},\"xaxis\":{\"anchor\":\"y\",\"domain\":[0.0,1.0],\"title\":{\"text\":\"screen_size\"}},\"yaxis\":{\"anchor\":\"x\",\"domain\":[0.0,1.0],\"title\":{\"text\":\"count\"}},\"legend\":{\"title\":{\"text\":\"price_range\"},\"tracegroupgap\":0},\"margin\":{\"t\":60},\"barmode\":\"relative\"},                        {\"responsive\": true}                    ).then(function(){\n",
       "                            \n",
       "var gd = document.getElementById('6371bda0-c599-4ab4-9646-7652ece66850');\n",
       "var x = new MutationObserver(function (mutations, observer) {{\n",
       "        var display = window.getComputedStyle(gd).display;\n",
       "        if (!display || display === 'none') {{\n",
       "            console.log([gd, 'removed!']);\n",
       "            Plotly.purge(gd);\n",
       "            observer.disconnect();\n",
       "        }}\n",
       "}});\n",
       "\n",
       "// Listen for the removal of the full notebook cells\n",
       "var notebookContainer = gd.closest('#notebook-container');\n",
       "if (notebookContainer) {{\n",
       "    x.observe(notebookContainer, {childList: true});\n",
       "}}\n",
       "\n",
       "// Listen for the clearing of the current output cell\n",
       "var outputEl = gd.closest('.output');\n",
       "if (outputEl) {{\n",
       "    x.observe(outputEl, {childList: true});\n",
       "}}\n",
       "\n",
       "                        })                };                });            </script>        </div>"
      ]
     },
     "metadata": {},
     "output_type": "display_data"
    }
   ],
   "source": [
    "px.histogram(laptops_train, x=\"screen_size\", color=\"price_range\")"
   ]
  },
  {
   "cell_type": "markdown",
   "id": "476c2dfa-ec8c-485d-bf64-f5940fb91bc0",
   "metadata": {},
   "source": [
    "### Resolution"
   ]
  },
  {
   "cell_type": "code",
   "execution_count": 250,
   "id": "af7d9789-ba2d-4c17-abc6-e6b649ab954c",
   "metadata": {},
   "outputs": [
    {
     "data": {
      "application/vnd.plotly.v1+json": {
       "config": {
        "plotlyServerURL": "https://plot.ly"
       },
       "data": [
        {
         "alignmentgroup": "True",
         "bingroup": "x",
         "hovertemplate": "price_range=low<br>resolution=%{x}<br>count=%{y}<extra></extra>",
         "legendgroup": "low",
         "marker": {
          "color": "#636efa",
          "pattern": {
           "shape": ""
          }
         },
         "name": "low",
         "offsetgroup": "low",
         "orientation": "v",
         "showlegend": true,
         "type": "histogram",
         "x": [
          "Full HD 1920x1080",
          "Full HD 1920x1080",
          "Full HD 1920x1080",
          "IPS Panel Full HD 1920x1080",
          "1366x768",
          "1366x768",
          "Full HD 1920x1080",
          "1600x900",
          "IPS Panel Full HD 1920x1080",
          "1366x768",
          "Touchscreen 1366x768",
          "1366x768",
          "Full HD 1920x1080",
          "Full HD 1920x1080",
          "IPS Panel Full HD 1920x1080",
          "1366x768",
          "IPS Panel Full HD 1920x1200",
          "Full HD 1920x1080",
          "Touchscreen 1366x768",
          "1366x768",
          "IPS Panel Touchscreen 1366x768",
          "1366x768",
          "IPS Panel Full HD 1920x1080",
          "Full HD 1920x1080",
          "1366x768",
          "Full HD 1920x1080",
          "1366x768",
          "Full HD / Touchscreen 1920x1080",
          "1366x768",
          "1366x768",
          "1600x900",
          "Full HD / Touchscreen 1920x1080",
          "Touchscreen 1366x768",
          "Full HD 1920x1080",
          "1366x768",
          "1366x768",
          "IPS Panel Full HD 1920x1080",
          "1366x768",
          "1366x768",
          "IPS Panel Full HD 1920x1080",
          "Full HD 1920x1080",
          "Full HD 1920x1080",
          "1366x768",
          "IPS Panel 1366x768",
          "1366x768",
          "1366x768",
          "Full HD 1920x1080",
          "Full HD / Touchscreen 1920x1080",
          "IPS Panel Full HD 1920x1080",
          "IPS Panel Full HD 1920x1080",
          "Full HD 1920x1080",
          "Full HD 1920x1080",
          "1366x768",
          "Full HD 1920x1080",
          "Full HD 1920x1080",
          "Full HD 1920x1080",
          "1366x768",
          "1366x768",
          "IPS Panel 1366x768",
          "Full HD 1920x1080",
          "1366x768",
          "Full HD 1920x1080",
          "Full HD 1920x1080",
          "Full HD 1920x1080",
          "1366x768",
          "1366x768",
          "Full HD 1920x1080",
          "1366x768",
          "1366x768",
          "IPS Panel Full HD / Touchscreen 1920x1080",
          "Full HD 1920x1080",
          "IPS Panel Full HD 1920x1080",
          "Full HD 1920x1080",
          "1600x900",
          "1366x768",
          "1600x900",
          "IPS Panel Full HD 1920x1080",
          "1366x768",
          "1366x768",
          "Full HD 1920x1080",
          "Full HD / Touchscreen 1920x1080",
          "Full HD 1920x1080",
          "IPS Panel Full HD 1920x1080",
          "Full HD 1920x1080",
          "1920x1080",
          "Full HD / Touchscreen 1920x1080",
          "Full HD 1920x1080",
          "Full HD 1920x1080",
          "IPS Panel Full HD 1920x1080",
          "Full HD 1920x1080",
          "1366x768",
          "1600x900",
          "1366x768",
          "Full HD 1920x1080",
          "1366x768",
          "Full HD 1920x1080",
          "1366x768",
          "Full HD 1920x1080",
          "Full HD / Touchscreen 1920x1080",
          "1366x768",
          "1366x768",
          "1366x768",
          "1366x768",
          "IPS Panel Full HD 1366x768",
          "1600x900",
          "1366x768",
          "1366x768",
          "1366x768",
          "1366x768",
          "1366x768",
          "Touchscreen 1366x768",
          "Full HD 1920x1080",
          "Full HD 1920x1080",
          "Touchscreen 1366x768",
          "Full HD 1920x1080",
          "Full HD 1920x1080",
          "1366x768",
          "1366x768",
          "1366x768",
          "1366x768",
          "1600x900",
          "1366x768",
          "Full HD 1920x1080",
          "Full HD 1920x1080",
          "1366x768",
          "1366x768",
          "1366x768",
          "IPS Panel Full HD 1920x1080",
          "Full HD 1920x1080",
          "Touchscreen 1366x768",
          "1366x768",
          "Full HD 1920x1080",
          "1366x768",
          "Full HD 1920x1080",
          "Full HD 1920x1080",
          "IPS Panel Full HD / Touchscreen 1920x1080",
          "Touchscreen 1366x768",
          "Touchscreen 1366x768",
          "IPS Panel Full HD 1920x1080",
          "Touchscreen 1366x768",
          "1366x768",
          "1366x768",
          "Full HD 1920x1080",
          "1366x768",
          "1366x768",
          "IPS Panel Full HD 1920x1080",
          "1366x768",
          "Full HD 1920x1080",
          "1366x768",
          "Full HD 1920x1080",
          "1366x768",
          "1366x768",
          "Full HD 1920x1080",
          "1366x768",
          "Full HD 1920x1080",
          "Full HD 1920x1080",
          "Full HD 1920x1080",
          "1366x768",
          "1600x900",
          "IPS Panel Full HD 1920x1080",
          "1366x768",
          "Full HD 1920x1080",
          "IPS Panel Full HD / Touchscreen 1920x1080",
          "Full HD 1920x1080",
          "Full HD 1920x1080",
          "Full HD 1920x1080",
          "Full HD 1920x1080",
          "1366x768",
          "Full HD 1920x1080",
          "Full HD 1920x1080",
          "Full HD 1920x1080",
          "Full HD 1920x1080",
          "Full HD 1920x1080",
          "Full HD 1920x1080",
          "Full HD 1920x1080",
          "1366x768",
          "Full HD 1920x1080",
          "IPS Panel Full HD 1920x1080",
          "IPS Panel Full HD 1920x1080",
          "1366x768",
          "IPS Panel Full HD 1920x1080",
          "Full HD 1920x1080",
          "1366x768",
          "Full HD 1920x1080",
          "Full HD 1920x1080",
          "IPS Panel Full HD 1920x1080",
          "IPS Panel Full HD 1920x1080",
          "IPS Panel Full HD / Touchscreen 1920x1080",
          "1366x768",
          "1366x768",
          "IPS Panel Full HD 1920x1080",
          "1366x768",
          "Full HD 1920x1080",
          "Full HD 1920x1080",
          "Full HD 1920x1080",
          "1600x900",
          "Full HD 1920x1080",
          "1366x768",
          "1366x768",
          "Full HD 1920x1080",
          "IPS Panel Full HD 1920x1080",
          "1366x768",
          "IPS Panel Full HD / Touchscreen 1920x1080",
          "1366x768",
          "Full HD 1920x1080",
          "1920x1080",
          "1366x768",
          "Full HD 1920x1080",
          "Full HD 1920x1080",
          "IPS Panel Retina Display 2736x1824",
          "1366x768",
          "1366x768",
          "Full HD 1920x1080",
          "1366x768",
          "Full HD 1920x1080",
          "IPS Panel Full HD / Touchscreen 1920x1080",
          "Full HD 1920x1080",
          "1366x768",
          "1366x768",
          "1366x768",
          "1600x900",
          "1366x768",
          "Full HD 1920x1080",
          "IPS Panel Full HD 1920x1080",
          "1366x768",
          "Full HD 1920x1080",
          "Full HD 1920x1080",
          "IPS Panel Touchscreen 1366x768",
          "1366x768",
          "Full HD 1920x1080",
          "1366x768",
          "Full HD 1920x1080",
          "Full HD 1920x1080",
          "Full HD 1920x1080",
          "1366x768",
          "Full HD / Touchscreen 1920x1080",
          "1366x768",
          "1366x768",
          "Full HD 1920x1080",
          "IPS Panel Full HD 1920x1080",
          "Full HD 1920x1080",
          "1366x768",
          "Full HD 1920x1080",
          "1600x900",
          "Full HD 1920x1080",
          "1366x768",
          "Full HD 1920x1080",
          "Touchscreen 1366x768",
          "1366x768",
          "Full HD 1920x1080",
          "IPS Panel Full HD 1920x1080",
          "IPS Panel Full HD 1920x1080",
          "1366x768",
          "1600x900",
          "Full HD 1920x1080",
          "1366x768",
          "Full HD 1920x1080",
          "IPS Panel Full HD 1920x1080",
          "IPS Panel Full HD 1920x1080",
          "Full HD 1920x1080",
          "Full HD 1920x1080",
          "Full HD 1920x1080",
          "IPS Panel Full HD 1920x1080",
          "Full HD 1920x1080",
          "Full HD 1920x1080",
          "Full HD 1920x1080",
          "IPS Panel Full HD / Touchscreen 1920x1080",
          "Full HD 1920x1080",
          "Full HD 1920x1080",
          "Full HD 1920x1080",
          "Full HD 1920x1080",
          "Full HD 1920x1080",
          "Full HD 1920x1080",
          "IPS Panel Full HD 1920x1080",
          "1366x768",
          "Full HD 1920x1080",
          "Full HD 1920x1080",
          "1366x768",
          "Full HD 1920x1080",
          "Full HD 1920x1080",
          "IPS Panel 1366x768",
          "IPS Panel 1366x768",
          "1366x768",
          "1366x768",
          "Full HD 1920x1080",
          "Full HD 1920x1080",
          "1366x768",
          "1366x768",
          "IPS Panel Full HD 1920x1080",
          "IPS Panel Full HD 1920x1080",
          "IPS Panel Full HD 1920x1080",
          "IPS Panel Full HD 1920x1080",
          "Full HD 1920x1080",
          "1366x768",
          "1366x768",
          "1366x768",
          "Full HD 1920x1080",
          "Full HD 1920x1080",
          "IPS Panel Full HD 1920x1080",
          "1366x768",
          "Full HD 1920x1080",
          "Full HD 1920x1080",
          "1920x1080",
          "Full HD 1920x1080",
          "1366x768",
          "1366x768",
          "Touchscreen 1366x768",
          "Full HD 1920x1080",
          "1366x768",
          "IPS Panel Full HD / Touchscreen 1920x1080",
          "IPS Panel Full HD 1920x1080",
          "Full HD 1920x1080",
          "Full HD 1920x1080",
          "IPS Panel Full HD 1920x1080",
          "1366x768",
          "1366x768",
          "1366x768",
          "Full HD 1920x1080",
          "Full HD 1920x1080",
          "1600x900",
          "Full HD 1920x1080",
          "1366x768",
          "1366x768",
          "Full HD 1920x1080",
          "Full HD / Touchscreen 1920x1080",
          "1366x768",
          "1366x768",
          "Touchscreen 1366x768",
          "Full HD 1920x1080",
          "Full HD 1920x1080",
          "IPS Panel Touchscreen 1366x768",
          "Full HD 1920x1080",
          "1366x768",
          "Full HD 1920x1080",
          "1366x768",
          "IPS Panel Full HD 1920x1080",
          "1366x768",
          "1366x768",
          "Full HD 1920x1080",
          "1366x768",
          "Full HD 1920x1080",
          "Full HD 1920x1080",
          "1440x900",
          "Full HD 1920x1080",
          "Full HD 1920x1080",
          "1366x768",
          "1366x768",
          "1366x768",
          "Full HD 1920x1080",
          "1366x768",
          "1366x768",
          "Full HD 1920x1080",
          "1366x768",
          "IPS Panel Full HD 1920x1080",
          "Full HD 1920x1080",
          "1366x768",
          "Full HD 1920x1080",
          "1366x768",
          "Full HD 1920x1080",
          "Full HD 1920x1080",
          "Full HD 1920x1080",
          "1366x768",
          "Full HD 1920x1080",
          "IPS Panel Full HD 1920x1080",
          "IPS Panel Touchscreen 1920x1200",
          "1366x768",
          "Full HD 1920x1080",
          "1366x768",
          "1600x900",
          "1366x768",
          "IPS Panel Full HD 1920x1080",
          "1366x768",
          "Full HD 1920x1080",
          "Full HD 1920x1080",
          "1366x768",
          "1366x768",
          "1366x768",
          "1366x768",
          "Full HD 1920x1080",
          "Full HD 1920x1080",
          "IPS Panel Full HD 1920x1080",
          "IPS Panel Full HD / Touchscreen 1920x1080",
          "1600x900",
          "1366x768",
          "1366x768",
          "1366x768",
          "1366x768",
          "IPS Panel Full HD 1920x1080",
          "1366x768",
          "Full HD 1920x1080",
          "1600x900",
          "IPS Panel Full HD 1920x1080",
          "Full HD 1920x1080",
          "1366x768",
          "Full HD 1920x1080",
          "Touchscreen 1366x768",
          "1366x768",
          "Full HD 1920x1080",
          "1366x768",
          "Full HD 1920x1080",
          "Full HD 1920x1080",
          "1366x768",
          "IPS Panel Full HD 1920x1080",
          "Full HD 1920x1080",
          "1600x900",
          "1366x768",
          "1366x768",
          "Full HD 1920x1080",
          "Full HD 1920x1080",
          "Full HD 1920x1080",
          "1366x768",
          "Full HD 1920x1080",
          "1366x768",
          "Full HD 1920x1080",
          "IPS Panel Full HD 1920x1080",
          "1366x768",
          "Touchscreen 1366x768",
          "1366x768",
          "Full HD 1920x1080",
          "1366x768",
          "Full HD 1920x1080",
          "1366x768",
          "Full HD / Touchscreen 1920x1080",
          "Full HD 1920x1080",
          "1366x768",
          "IPS Panel 1366x768",
          "IPS Panel Full HD 1920x1080",
          "IPS Panel Full HD / Touchscreen 1920x1080",
          "IPS Panel Full HD 1920x1080",
          "1366x768",
          "Touchscreen 1366x768",
          "IPS Panel Full HD 1920x1080",
          "1366x768",
          "Full HD 1920x1080",
          "IPS Panel Full HD 1920x1080",
          "Full HD / Touchscreen 1920x1080",
          "1366x768",
          "Full HD 1920x1080",
          "IPS Panel Full HD 1920x1080",
          "1366x768",
          "Full HD 1920x1080",
          "IPS Panel Full HD / Touchscreen 1920x1080",
          "IPS Panel Full HD 1920x1080",
          "1366x768",
          "1366x768",
          "IPS Panel Full HD / Touchscreen 1920x1080",
          "Full HD 1920x1080",
          "Full HD 1920x1080",
          "1366x768",
          "IPS Panel Full HD 1920x1080",
          "1366x768",
          "Full HD 1920x1080",
          "1366x768",
          "IPS Panel Full HD 1920x1080",
          "1366x768",
          "1366x768",
          "Full HD 1920x1080",
          "1366x768",
          "Full HD 1920x1080",
          "Full HD 1920x1080",
          "Full HD 1920x1080",
          "1366x768",
          "Full HD 1920x1080"
         ],
         "xaxis": "x",
         "yaxis": "y"
        },
        {
         "alignmentgroup": "True",
         "bingroup": "x",
         "hovertemplate": "price_range=mid<br>resolution=%{x}<br>count=%{y}<extra></extra>",
         "legendgroup": "mid",
         "marker": {
          "color": "#EF553B",
          "pattern": {
           "shape": ""
          }
         },
         "name": "mid",
         "offsetgroup": "mid",
         "orientation": "v",
         "showlegend": true,
         "type": "histogram",
         "x": [
          "Full HD 1920x1080",
          "IPS Panel Full HD 1920x1080",
          "Full HD 1920x1080",
          "Full HD / Touchscreen 1920x1080",
          "1366x768",
          "IPS Panel Full HD 1920x1080",
          "IPS Panel Quad HD+ 3200x1800",
          "Full HD 1920x1080",
          "1600x900",
          "Full HD 1920x1080",
          "Full HD 1920x1080",
          "Full HD 1920x1080",
          "Full HD 1920x1080",
          "1366x768",
          "IPS Panel 1366x768",
          "Full HD 1920x1080",
          "IPS Panel Full HD 1920x1080",
          "Full HD 1920x1080",
          "IPS Panel Full HD 1920x1080",
          "1366x768",
          "Quad HD+ 3200x1800",
          "1366x768",
          "1366x768",
          "IPS Panel Touchscreen / 4K Ultra HD 3840x2160",
          "IPS Panel Retina Display 2304x1440",
          "Full HD 1920x1080",
          "Full HD 1920x1080",
          "Full HD 1920x1080",
          "IPS Panel Full HD / Touchscreen 1920x1080",
          "Full HD 1920x1080",
          "IPS Panel Full HD / Touchscreen 1920x1080",
          "Full HD / Touchscreen 1920x1080",
          "IPS Panel Full HD 1920x1080",
          "Full HD 1920x1080",
          "Full HD 1920x1080",
          "Full HD 1920x1080",
          "Full HD 1920x1080",
          "Full HD 1920x1080",
          "Full HD 1920x1080",
          "Full HD 1920x1080",
          "Full HD 1920x1080",
          "IPS Panel Full HD 1920x1080",
          "Full HD 1920x1080",
          "IPS Panel Full HD / Touchscreen 1920x1080",
          "Full HD 1920x1080",
          "IPS Panel Full HD 1920x1080",
          "Full HD 1920x1080",
          "Full HD 1920x1080",
          "Full HD 1920x1080",
          "IPS Panel Full HD 1920x1080",
          "Full HD 1920x1080",
          "IPS Panel Full HD 1920x1080",
          "Full HD 1920x1080",
          "IPS Panel Full HD / Touchscreen 1920x1080",
          "IPS Panel Full HD 1920x1080",
          "Full HD 1920x1080",
          "Full HD 1920x1080",
          "IPS Panel Full HD 1920x1080",
          "1366x768",
          "Full HD 1920x1080",
          "Full HD 1920x1080",
          "IPS Panel Full HD 1920x1080",
          "IPS Panel Full HD 1920x1080",
          "IPS Panel Full HD / Touchscreen 1920x1080",
          "Full HD 1920x1080",
          "1366x768",
          "1366x768",
          "Full HD 1920x1080",
          "1366x768",
          "Full HD 1920x1080",
          "Full HD 1920x1080",
          "1366x768",
          "Quad HD+ / Touchscreen 3200x1800",
          "1366x768",
          "Touchscreen / Full HD 1920x1080",
          "Full HD 1920x1080",
          "1366x768",
          "Full HD 1920x1080",
          "Full HD 1920x1080",
          "Full HD 1920x1080",
          "Full HD 1920x1080",
          "Full HD 1920x1080",
          "IPS Panel Full HD 1920x1080",
          "Full HD 1920x1080",
          "IPS Panel Full HD 1920x1080",
          "IPS Panel Full HD 1920x1080",
          "Full HD 1920x1080",
          "Full HD 1920x1080",
          "Full HD 1920x1080",
          "IPS Panel Full HD 1920x1080",
          "IPS Panel Quad HD+ / Touchscreen 3200x1800",
          "IPS Panel Retina Display 2560x1600",
          "1366x768",
          "IPS Panel Full HD 1920x1080",
          "IPS Panel Full HD 1920x1080",
          "Touchscreen 2256x1504",
          "IPS Panel Full HD 1920x1080",
          "IPS Panel Full HD 1920x1080",
          "Full HD 1920x1080",
          "IPS Panel Full HD / Touchscreen 1920x1080",
          "Full HD 1920x1080",
          "IPS Panel Full HD 1920x1080",
          "Full HD 1920x1080",
          "IPS Panel Full HD 1920x1080",
          "Quad HD+ / Touchscreen 3200x1800",
          "Full HD 1920x1080",
          "Full HD 1920x1080",
          "Full HD 1920x1080",
          "IPS Panel Full HD 1920x1080",
          "IPS Panel Full HD 1920x1080",
          "IPS Panel Full HD 1920x1080",
          "Full HD 1920x1080",
          "Full HD 1920x1080",
          "IPS Panel Full HD 1920x1080",
          "Full HD 1920x1080",
          "Full HD 1920x1080",
          "IPS Panel Full HD 1920x1080",
          "Full HD 1920x1080",
          "Full HD 1920x1080",
          "IPS Panel Full HD 1920x1080",
          "Full HD 1920x1080",
          "IPS Panel Full HD 1920x1080",
          "Full HD 1920x1080",
          "Full HD 1920x1080",
          "Full HD 1920x1080",
          "Full HD 1920x1080",
          "IPS Panel Full HD 1920x1080",
          "IPS Panel Full HD 1920x1080",
          "IPS Panel Full HD 1920x1080",
          "Full HD 1920x1080",
          "IPS Panel Full HD 1920x1080",
          "IPS Panel Full HD 1920x1080",
          "IPS Panel Full HD 1920x1080",
          "Full HD 1920x1080",
          "Full HD 1920x1080",
          "Full HD 1920x1080",
          "Full HD 1920x1080",
          "Full HD 1920x1080",
          "IPS Panel Full HD 1920x1080",
          "Full HD 1920x1080",
          "Full HD / Touchscreen 1920x1080",
          "Full HD / Touchscreen 1920x1080",
          "Full HD 1920x1080",
          "Full HD 1920x1080",
          "IPS Panel Full HD 1920x1080",
          "Full HD 1920x1080",
          "IPS Panel Full HD 1920x1080",
          "Full HD 1920x1080",
          "Full HD 1920x1080",
          "IPS Panel Full HD 1920x1080",
          "Full HD 1920x1080",
          "Full HD 1920x1080",
          "Full HD 1920x1080",
          "IPS Panel Full HD 2160x1440",
          "Full HD 1920x1080",
          "Full HD 1920x1080",
          "Full HD 1920x1080",
          "IPS Panel Full HD 1920x1080",
          "Full HD 1920x1080",
          "Full HD 1920x1080",
          "Full HD 1920x1080",
          "Full HD 1920x1080",
          "Full HD 1920x1080",
          "IPS Panel Full HD 1920x1080",
          "IPS Panel Full HD 1920x1080",
          "Full HD / Touchscreen 1920x1080",
          "IPS Panel Full HD 1920x1080",
          "Full HD 1920x1080",
          "Full HD 1920x1080",
          "Full HD 1920x1080",
          "Full HD 1920x1080",
          "Full HD 1920x1080",
          "IPS Panel Full HD 1920x1080",
          "Full HD 1920x1080",
          "Full HD 1920x1080",
          "Full HD 1920x1080",
          "IPS Panel Full HD / Touchscreen 1920x1080",
          "Full HD / Touchscreen 1920x1080",
          "IPS Panel 4K Ultra HD 3840x2160",
          "1440x900",
          "Full HD 1920x1080",
          "IPS Panel Full HD 1920x1080",
          "Full HD 1920x1080",
          "1440x900",
          "IPS Panel Full HD / Touchscreen 1920x1080",
          "IPS Panel 1366x768",
          "Full HD 1920x1080",
          "Full HD 1920x1080",
          "Full HD 1920x1080",
          "1440x900",
          "IPS Panel Full HD 1920x1080",
          "IPS Panel Full HD 1920x1080",
          "Full HD 1920x1080",
          "Full HD 1920x1080",
          "Full HD 1920x1080",
          "Full HD 1920x1080",
          "Full HD 1920x1080",
          "IPS Panel Full HD 1920x1080",
          "IPS Panel Full HD 1920x1080",
          "IPS Panel Full HD 1920x1080",
          "Full HD 1920x1080",
          "IPS Panel Retina Display 2304x1440",
          "IPS Panel Full HD / Touchscreen 1920x1080",
          "Full HD 1920x1080",
          "Full HD 1920x1080",
          "IPS Panel Full HD 1920x1080",
          "Full HD 1920x1080",
          "IPS Panel Full HD 1920x1080",
          "Full HD 1920x1080",
          "Full HD 1920x1080",
          "Full HD 1920x1080",
          "Full HD 1920x1080",
          "Full HD / Touchscreen 1920x1080",
          "Full HD 1920x1080",
          "Touchscreen 2256x1504",
          "IPS Panel Full HD 1920x1080",
          "IPS Panel Quad HD+ 3200x1800",
          "Touchscreen 2256x1504",
          "Full HD 1920x1080",
          "IPS Panel Full HD 1920x1080",
          "Full HD 1920x1080",
          "Full HD 1920x1080",
          "Full HD 1920x1080",
          "IPS Panel Full HD 1920x1080",
          "Full HD 1920x1080",
          "Full HD 1920x1080",
          "IPS Panel 4K Ultra HD 3840x2160",
          "Full HD 1920x1080",
          "IPS Panel Full HD 1920x1080",
          "Full HD 1920x1080",
          "IPS Panel Full HD 1920x1080",
          "Full HD 1920x1080",
          "Full HD 1920x1080",
          "Full HD 1920x1080",
          "Touchscreen 2400x1600",
          "Full HD 1920x1080",
          "IPS Panel Full HD 1920x1080"
         ],
         "xaxis": "x",
         "yaxis": "y"
        },
        {
         "alignmentgroup": "True",
         "bingroup": "x",
         "hovertemplate": "price_range=high<br>resolution=%{x}<br>count=%{y}<extra></extra>",
         "legendgroup": "high",
         "marker": {
          "color": "#00cc96",
          "pattern": {
           "shape": ""
          }
         },
         "name": "high",
         "offsetgroup": "high",
         "orientation": "v",
         "showlegend": true,
         "type": "histogram",
         "x": [
          "IPS Panel Full HD 1920x1080",
          "IPS Panel 4K Ultra HD / Touchscreen 3840x2160",
          "IPS Panel Full HD 2160x1440",
          "Full HD / Touchscreen 1920x1080",
          "Full HD 1920x1080",
          "Full HD 1920x1080",
          "Full HD 1920x1080",
          "IPS Panel Full HD 1920x1080",
          "Full HD 1920x1080",
          "IPS Panel Full HD 1920x1080",
          "Full HD 1920x1080",
          "Touchscreen 2560x1440",
          "Full HD 1920x1080",
          "Full HD 1920x1080",
          "IPS Panel Full HD 1920x1080",
          "4K Ultra HD / Touchscreen 3840x2160",
          "Full HD 1920x1080",
          "IPS Panel Quad HD+ 2560x1440",
          "Full HD / Touchscreen 1920x1080",
          "IPS Panel Full HD 1920x1080",
          "IPS Panel 4K Ultra HD / Touchscreen 3840x2160",
          "Full HD 1920x1080",
          "Full HD 1920x1080",
          "IPS Panel 4K Ultra HD 3840x2160",
          "Full HD 1920x1080",
          "4K Ultra HD 3840x2160",
          "Full HD 1920x1080",
          "IPS Panel Full HD 1920x1080",
          "IPS Panel Full HD 1920x1080",
          "IPS Panel 4K Ultra HD / Touchscreen 3840x2160",
          "IPS Panel 4K Ultra HD / Touchscreen 3840x2160",
          "Full HD / Touchscreen 1920x1080",
          "IPS Panel Full HD 1920x1080",
          "IPS Panel Full HD 1920x1080",
          "Quad HD+ / Touchscreen 3200x1800",
          "Full HD 1920x1080",
          "Full HD 1920x1080",
          "IPS Panel Full HD 1920x1080",
          "Touchscreen / Quad HD+ 3200x1800",
          "Full HD / Touchscreen 1920x1080",
          "IPS Panel Full HD 1920x1080",
          "IPS Panel Full HD 1920x1080",
          "IPS Panel Retina Display 2560x1600",
          "2560x1440",
          "Full HD 1920x1080",
          "Full HD 1920x1080",
          "Full HD 1920x1080",
          "IPS Panel Quad HD+ / Touchscreen 3200x1800",
          "Full HD 1920x1080",
          "IPS Panel Full HD 1920x1080",
          "Full HD 1920x1080",
          "IPS Panel 4K Ultra HD 3840x2160",
          "IPS Panel Retina Display 2880x1800",
          "Full HD 1920x1080",
          "IPS Panel Retina Display 2880x1800",
          "Full HD 1920x1080",
          "Touchscreen 2560x1440",
          "Quad HD+ / Touchscreen 3200x1800",
          "IPS Panel Retina Display 2560x1600",
          "Full HD / Touchscreen 1920x1080",
          "IPS Panel Full HD 1920x1080",
          "Full HD 1920x1080",
          "IPS Panel Retina Display 2880x1800",
          "Full HD / Touchscreen 1920x1080",
          "IPS Panel Full HD 1920x1080",
          "Full HD 1920x1080",
          "IPS Panel Retina Display 2560x1600",
          "IPS Panel Retina Display 2880x1800",
          "IPS Panel Full HD 1920x1080",
          "IPS Panel Full HD 1920x1080",
          "IPS Panel Full HD 1920x1080",
          "IPS Panel Full HD / Touchscreen 1920x1080",
          "IPS Panel Full HD / Touchscreen 1920x1080",
          "Full HD / Touchscreen 1920x1080",
          "Full HD 1920x1080",
          "Full HD / Touchscreen 1920x1080",
          "Full HD 1920x1080",
          "Quad HD+ / Touchscreen 3200x1800",
          "Full HD 1920x1080",
          "IPS Panel Full HD 1920x1080",
          "IPS Panel 4K Ultra HD / Touchscreen 3840x2160",
          "Full HD 1920x1080",
          "Full HD 1920x1080",
          "IPS Panel Full HD / Touchscreen 1920x1080",
          "Full HD 1920x1080",
          "Full HD 1920x1080",
          "IPS Panel Full HD / Touchscreen 1920x1080",
          "Full HD 1920x1080",
          "IPS Panel 4K Ultra HD 3840x2160",
          "IPS Panel Retina Display 2304x1440",
          "Full HD 1920x1080",
          "IPS Panel Full HD 1920x1080",
          "IPS Panel Full HD 1920x1080",
          "4K Ultra HD / Touchscreen 3840x2160",
          "IPS Panel Full HD / Touchscreen 1920x1080",
          "IPS Panel Full HD 1920x1080",
          "Full HD 1920x1080",
          "IPS Panel Full HD 1920x1080",
          "IPS Panel Full HD 1920x1080",
          "Full HD / Touchscreen 1920x1080",
          "Quad HD+ / Touchscreen 3200x1800",
          "IPS Panel Full HD 1920x1080",
          "Full HD 1920x1080",
          "IPS Panel Full HD / Touchscreen 1920x1080",
          "Full HD 1920x1080",
          "Full HD / Touchscreen 1920x1080",
          "IPS Panel Full HD 1920x1080",
          "IPS Panel Full HD 1920x1080",
          "IPS Panel Full HD 1920x1080",
          "IPS Panel Full HD 1920x1080",
          "4K Ultra HD / Touchscreen 3840x2160",
          "IPS Panel Full HD / Touchscreen 1920x1080",
          "Quad HD+ / Touchscreen 3200x1800",
          "IPS Panel Full HD 1920x1080",
          "Touchscreen 2256x1504",
          "Touchscreen 2256x1504",
          "Full HD 1920x1080",
          "Full HD 1920x1080",
          "Full HD 1920x1080",
          "IPS Panel Full HD 1920x1080",
          "IPS Panel Quad HD+ 2560x1440",
          "IPS Panel 4K Ultra HD / Touchscreen 3840x2160",
          "Full HD / Touchscreen 1920x1080",
          "Full HD 1920x1080",
          "Full HD 1920x1080",
          "Full HD 1920x1080",
          "IPS Panel Full HD 1920x1080",
          "IPS Panel Full HD 2560x1440",
          "Full HD 1920x1080",
          "Touchscreen 2256x1504",
          "IPS Panel 4K Ultra HD / Touchscreen 3840x2160",
          "Full HD 1920x1080",
          "IPS Panel 2560x1440",
          "Full HD 1920x1080",
          "Full HD 1920x1080",
          "IPS Panel 4K Ultra HD 3840x2160",
          "IPS Panel 4K Ultra HD 3840x2160",
          "Full HD 1920x1080",
          "Full HD 1920x1080",
          "Touchscreen 2400x1600",
          "2560x1440",
          "IPS Panel Full HD 1920x1080",
          "Full HD 1920x1080",
          "IPS Panel Full HD 1920x1080",
          "Full HD 1920x1080",
          "Full HD 1920x1080",
          "Full HD 1920x1080",
          "Full HD 1920x1080",
          "Full HD 1920x1080",
          "Full HD 1920x1080",
          "IPS Panel Full HD 1920x1080",
          "Full HD 1920x1080",
          "IPS Panel Full HD 1920x1080",
          "Full HD / Touchscreen 1920x1080",
          "IPS Panel Full HD 1920x1080",
          "IPS Panel Full HD 1920x1080",
          "IPS Panel Full HD 1920x1080",
          "IPS Panel Full HD 1920x1080",
          "Full HD 1920x1080",
          "IPS Panel 4K Ultra HD / Touchscreen 3840x2160",
          "Quad HD+ / Touchscreen 3200x1800",
          "IPS Panel Full HD 1920x1080",
          "IPS Panel Quad HD+ / Touchscreen 3200x1800",
          "IPS Panel Full HD 1920x1080",
          "1600x900",
          "Full HD 1920x1080",
          "Full HD 1920x1080",
          "IPS Panel Full HD 1920x1080",
          "IPS Panel Full HD 1920x1080",
          "Full HD 1920x1080",
          "IPS Panel Full HD 1920x1080",
          "Full HD 1920x1080",
          "Full HD / Touchscreen 1920x1080",
          "IPS Panel Full HD 1920x1080",
          "4K Ultra HD 3840x2160",
          "Full HD 1920x1080",
          "Full HD 1920x1080",
          "Full HD / Touchscreen 1920x1080",
          "Full HD / Touchscreen 1920x1080",
          "IPS Panel Full HD 1920x1080",
          "IPS Panel Full HD / Touchscreen 1920x1080",
          "IPS Panel Full HD / Touchscreen 1920x1080",
          "Full HD 1920x1080",
          "IPS Panel Full HD 1920x1080",
          "IPS Panel Full HD 1920x1080",
          "Full HD 1920x1080",
          "Full HD 1920x1080",
          "Full HD 1920x1080",
          "Full HD 1920x1080",
          "Full HD 1920x1080",
          "4K Ultra HD 3840x2160",
          "IPS Panel Retina Display 2560x1600",
          "Full HD 1920x1080",
          "Touchscreen 2560x1440",
          "Full HD / Touchscreen 1920x1080",
          "Full HD 1920x1080",
          "Full HD / Touchscreen 1920x1080",
          "Touchscreen 2400x1600",
          "Full HD 1920x1080",
          "IPS Panel 4K Ultra HD 3840x2160",
          "Full HD 1920x1080",
          "Full HD 1920x1080",
          "Full HD 1920x1080",
          "Full HD / Touchscreen 1920x1080",
          "Full HD 1920x1080",
          "Full HD 1920x1080",
          "IPS Panel Full HD 1920x1080",
          "IPS Panel Full HD 1920x1080",
          "Full HD 1920x1080",
          "4K Ultra HD 3840x2160",
          "IPS Panel Full HD 1920x1080",
          "1366x768",
          "4K Ultra HD / Touchscreen 3840x2160",
          "Full HD 1920x1080",
          "IPS Panel Full HD 1920x1080",
          "Full HD 1920x1080",
          "Full HD 1920x1080",
          "IPS Panel Touchscreen 2560x1440",
          "IPS Panel Retina Display 2560x1600",
          "Full HD 1920x1080",
          "IPS Panel Full HD / Touchscreen 1920x1080",
          "IPS Panel Full HD / Touchscreen 1920x1080",
          "IPS Panel Full HD 1920x1080",
          "Full HD 1920x1080",
          "IPS Panel Full HD / Touchscreen 1920x1080",
          "IPS Panel Full HD 1920x1080",
          "IPS Panel 4K Ultra HD / Touchscreen 3840x2160",
          "Full HD 1920x1080",
          "IPS Panel Full HD 1920x1080",
          "IPS Panel 4K Ultra HD / Touchscreen 3840x2160",
          "IPS Panel 2560x1440",
          "Full HD / Touchscreen 1920x1080",
          "Full HD / Touchscreen 1920x1080",
          "IPS Panel Full HD 1920x1080",
          "Touchscreen 2560x1440",
          "Touchscreen 2560x1440",
          "Full HD 1920x1080",
          "Full HD / Touchscreen 1920x1080",
          "Full HD 1920x1080",
          "Full HD 1920x1080",
          "IPS Panel Full HD / Touchscreen 1920x1080",
          "IPS Panel 2560x1440",
          "Full HD 1920x1080",
          "Full HD 1920x1080",
          "Full HD 1920x1080",
          "IPS Panel Full HD 1920x1080",
          "4K Ultra HD / Touchscreen 3840x2160",
          "IPS Panel Full HD 1920x1080",
          "IPS Panel Full HD 1920x1080",
          "IPS Panel Full HD 1920x1080",
          "IPS Panel Full HD / Touchscreen 1920x1080",
          "Full HD 1920x1080",
          "Full HD 1920x1080",
          "4K Ultra HD / Touchscreen 3840x2160",
          "IPS Panel Full HD 1920x1080",
          "IPS Panel 4K Ultra HD / Touchscreen 3840x2160",
          "Full HD 1920x1080",
          "IPS Panel Full HD 1920x1080",
          "IPS Panel Quad HD+ 2560x1440",
          "Full HD 1920x1080",
          "4K Ultra HD / Touchscreen 3840x2160",
          "Full HD 1920x1080",
          "Full HD 1920x1080",
          "Full HD 1920x1080",
          "IPS Panel Full HD 1920x1080",
          "Full HD 1920x1080",
          "Full HD 1920x1080",
          "Full HD 1920x1080",
          "IPS Panel Full HD 1920x1080"
         ],
         "xaxis": "x",
         "yaxis": "y"
        }
       ],
       "layout": {
        "autosize": true,
        "barmode": "relative",
        "legend": {
         "title": {
          "text": "price_range"
         },
         "tracegroupgap": 0
        },
        "margin": {
         "t": 60
        },
        "template": {
         "data": {
          "bar": [
           {
            "error_x": {
             "color": "#2a3f5f"
            },
            "error_y": {
             "color": "#2a3f5f"
            },
            "marker": {
             "line": {
              "color": "#E5ECF6",
              "width": 0.5
             },
             "pattern": {
              "fillmode": "overlay",
              "size": 10,
              "solidity": 0.2
             }
            },
            "type": "bar"
           }
          ],
          "barpolar": [
           {
            "marker": {
             "line": {
              "color": "#E5ECF6",
              "width": 0.5
             },
             "pattern": {
              "fillmode": "overlay",
              "size": 10,
              "solidity": 0.2
             }
            },
            "type": "barpolar"
           }
          ],
          "carpet": [
           {
            "aaxis": {
             "endlinecolor": "#2a3f5f",
             "gridcolor": "white",
             "linecolor": "white",
             "minorgridcolor": "white",
             "startlinecolor": "#2a3f5f"
            },
            "baxis": {
             "endlinecolor": "#2a3f5f",
             "gridcolor": "white",
             "linecolor": "white",
             "minorgridcolor": "white",
             "startlinecolor": "#2a3f5f"
            },
            "type": "carpet"
           }
          ],
          "choropleth": [
           {
            "colorbar": {
             "outlinewidth": 0,
             "ticks": ""
            },
            "type": "choropleth"
           }
          ],
          "contour": [
           {
            "colorbar": {
             "outlinewidth": 0,
             "ticks": ""
            },
            "colorscale": [
             [
              0,
              "#0d0887"
             ],
             [
              0.1111111111111111,
              "#46039f"
             ],
             [
              0.2222222222222222,
              "#7201a8"
             ],
             [
              0.3333333333333333,
              "#9c179e"
             ],
             [
              0.4444444444444444,
              "#bd3786"
             ],
             [
              0.5555555555555556,
              "#d8576b"
             ],
             [
              0.6666666666666666,
              "#ed7953"
             ],
             [
              0.7777777777777778,
              "#fb9f3a"
             ],
             [
              0.8888888888888888,
              "#fdca26"
             ],
             [
              1,
              "#f0f921"
             ]
            ],
            "type": "contour"
           }
          ],
          "contourcarpet": [
           {
            "colorbar": {
             "outlinewidth": 0,
             "ticks": ""
            },
            "type": "contourcarpet"
           }
          ],
          "heatmap": [
           {
            "colorbar": {
             "outlinewidth": 0,
             "ticks": ""
            },
            "colorscale": [
             [
              0,
              "#0d0887"
             ],
             [
              0.1111111111111111,
              "#46039f"
             ],
             [
              0.2222222222222222,
              "#7201a8"
             ],
             [
              0.3333333333333333,
              "#9c179e"
             ],
             [
              0.4444444444444444,
              "#bd3786"
             ],
             [
              0.5555555555555556,
              "#d8576b"
             ],
             [
              0.6666666666666666,
              "#ed7953"
             ],
             [
              0.7777777777777778,
              "#fb9f3a"
             ],
             [
              0.8888888888888888,
              "#fdca26"
             ],
             [
              1,
              "#f0f921"
             ]
            ],
            "type": "heatmap"
           }
          ],
          "heatmapgl": [
           {
            "colorbar": {
             "outlinewidth": 0,
             "ticks": ""
            },
            "colorscale": [
             [
              0,
              "#0d0887"
             ],
             [
              0.1111111111111111,
              "#46039f"
             ],
             [
              0.2222222222222222,
              "#7201a8"
             ],
             [
              0.3333333333333333,
              "#9c179e"
             ],
             [
              0.4444444444444444,
              "#bd3786"
             ],
             [
              0.5555555555555556,
              "#d8576b"
             ],
             [
              0.6666666666666666,
              "#ed7953"
             ],
             [
              0.7777777777777778,
              "#fb9f3a"
             ],
             [
              0.8888888888888888,
              "#fdca26"
             ],
             [
              1,
              "#f0f921"
             ]
            ],
            "type": "heatmapgl"
           }
          ],
          "histogram": [
           {
            "marker": {
             "pattern": {
              "fillmode": "overlay",
              "size": 10,
              "solidity": 0.2
             }
            },
            "type": "histogram"
           }
          ],
          "histogram2d": [
           {
            "colorbar": {
             "outlinewidth": 0,
             "ticks": ""
            },
            "colorscale": [
             [
              0,
              "#0d0887"
             ],
             [
              0.1111111111111111,
              "#46039f"
             ],
             [
              0.2222222222222222,
              "#7201a8"
             ],
             [
              0.3333333333333333,
              "#9c179e"
             ],
             [
              0.4444444444444444,
              "#bd3786"
             ],
             [
              0.5555555555555556,
              "#d8576b"
             ],
             [
              0.6666666666666666,
              "#ed7953"
             ],
             [
              0.7777777777777778,
              "#fb9f3a"
             ],
             [
              0.8888888888888888,
              "#fdca26"
             ],
             [
              1,
              "#f0f921"
             ]
            ],
            "type": "histogram2d"
           }
          ],
          "histogram2dcontour": [
           {
            "colorbar": {
             "outlinewidth": 0,
             "ticks": ""
            },
            "colorscale": [
             [
              0,
              "#0d0887"
             ],
             [
              0.1111111111111111,
              "#46039f"
             ],
             [
              0.2222222222222222,
              "#7201a8"
             ],
             [
              0.3333333333333333,
              "#9c179e"
             ],
             [
              0.4444444444444444,
              "#bd3786"
             ],
             [
              0.5555555555555556,
              "#d8576b"
             ],
             [
              0.6666666666666666,
              "#ed7953"
             ],
             [
              0.7777777777777778,
              "#fb9f3a"
             ],
             [
              0.8888888888888888,
              "#fdca26"
             ],
             [
              1,
              "#f0f921"
             ]
            ],
            "type": "histogram2dcontour"
           }
          ],
          "mesh3d": [
           {
            "colorbar": {
             "outlinewidth": 0,
             "ticks": ""
            },
            "type": "mesh3d"
           }
          ],
          "parcoords": [
           {
            "line": {
             "colorbar": {
              "outlinewidth": 0,
              "ticks": ""
             }
            },
            "type": "parcoords"
           }
          ],
          "pie": [
           {
            "automargin": true,
            "type": "pie"
           }
          ],
          "scatter": [
           {
            "fillpattern": {
             "fillmode": "overlay",
             "size": 10,
             "solidity": 0.2
            },
            "type": "scatter"
           }
          ],
          "scatter3d": [
           {
            "line": {
             "colorbar": {
              "outlinewidth": 0,
              "ticks": ""
             }
            },
            "marker": {
             "colorbar": {
              "outlinewidth": 0,
              "ticks": ""
             }
            },
            "type": "scatter3d"
           }
          ],
          "scattercarpet": [
           {
            "marker": {
             "colorbar": {
              "outlinewidth": 0,
              "ticks": ""
             }
            },
            "type": "scattercarpet"
           }
          ],
          "scattergeo": [
           {
            "marker": {
             "colorbar": {
              "outlinewidth": 0,
              "ticks": ""
             }
            },
            "type": "scattergeo"
           }
          ],
          "scattergl": [
           {
            "marker": {
             "colorbar": {
              "outlinewidth": 0,
              "ticks": ""
             }
            },
            "type": "scattergl"
           }
          ],
          "scattermapbox": [
           {
            "marker": {
             "colorbar": {
              "outlinewidth": 0,
              "ticks": ""
             }
            },
            "type": "scattermapbox"
           }
          ],
          "scatterpolar": [
           {
            "marker": {
             "colorbar": {
              "outlinewidth": 0,
              "ticks": ""
             }
            },
            "type": "scatterpolar"
           }
          ],
          "scatterpolargl": [
           {
            "marker": {
             "colorbar": {
              "outlinewidth": 0,
              "ticks": ""
             }
            },
            "type": "scatterpolargl"
           }
          ],
          "scatterternary": [
           {
            "marker": {
             "colorbar": {
              "outlinewidth": 0,
              "ticks": ""
             }
            },
            "type": "scatterternary"
           }
          ],
          "surface": [
           {
            "colorbar": {
             "outlinewidth": 0,
             "ticks": ""
            },
            "colorscale": [
             [
              0,
              "#0d0887"
             ],
             [
              0.1111111111111111,
              "#46039f"
             ],
             [
              0.2222222222222222,
              "#7201a8"
             ],
             [
              0.3333333333333333,
              "#9c179e"
             ],
             [
              0.4444444444444444,
              "#bd3786"
             ],
             [
              0.5555555555555556,
              "#d8576b"
             ],
             [
              0.6666666666666666,
              "#ed7953"
             ],
             [
              0.7777777777777778,
              "#fb9f3a"
             ],
             [
              0.8888888888888888,
              "#fdca26"
             ],
             [
              1,
              "#f0f921"
             ]
            ],
            "type": "surface"
           }
          ],
          "table": [
           {
            "cells": {
             "fill": {
              "color": "#EBF0F8"
             },
             "line": {
              "color": "white"
             }
            },
            "header": {
             "fill": {
              "color": "#C8D4E3"
             },
             "line": {
              "color": "white"
             }
            },
            "type": "table"
           }
          ]
         },
         "layout": {
          "annotationdefaults": {
           "arrowcolor": "#2a3f5f",
           "arrowhead": 0,
           "arrowwidth": 1
          },
          "autotypenumbers": "strict",
          "coloraxis": {
           "colorbar": {
            "outlinewidth": 0,
            "ticks": ""
           }
          },
          "colorscale": {
           "diverging": [
            [
             0,
             "#8e0152"
            ],
            [
             0.1,
             "#c51b7d"
            ],
            [
             0.2,
             "#de77ae"
            ],
            [
             0.3,
             "#f1b6da"
            ],
            [
             0.4,
             "#fde0ef"
            ],
            [
             0.5,
             "#f7f7f7"
            ],
            [
             0.6,
             "#e6f5d0"
            ],
            [
             0.7,
             "#b8e186"
            ],
            [
             0.8,
             "#7fbc41"
            ],
            [
             0.9,
             "#4d9221"
            ],
            [
             1,
             "#276419"
            ]
           ],
           "sequential": [
            [
             0,
             "#0d0887"
            ],
            [
             0.1111111111111111,
             "#46039f"
            ],
            [
             0.2222222222222222,
             "#7201a8"
            ],
            [
             0.3333333333333333,
             "#9c179e"
            ],
            [
             0.4444444444444444,
             "#bd3786"
            ],
            [
             0.5555555555555556,
             "#d8576b"
            ],
            [
             0.6666666666666666,
             "#ed7953"
            ],
            [
             0.7777777777777778,
             "#fb9f3a"
            ],
            [
             0.8888888888888888,
             "#fdca26"
            ],
            [
             1,
             "#f0f921"
            ]
           ],
           "sequentialminus": [
            [
             0,
             "#0d0887"
            ],
            [
             0.1111111111111111,
             "#46039f"
            ],
            [
             0.2222222222222222,
             "#7201a8"
            ],
            [
             0.3333333333333333,
             "#9c179e"
            ],
            [
             0.4444444444444444,
             "#bd3786"
            ],
            [
             0.5555555555555556,
             "#d8576b"
            ],
            [
             0.6666666666666666,
             "#ed7953"
            ],
            [
             0.7777777777777778,
             "#fb9f3a"
            ],
            [
             0.8888888888888888,
             "#fdca26"
            ],
            [
             1,
             "#f0f921"
            ]
           ]
          },
          "colorway": [
           "#636efa",
           "#EF553B",
           "#00cc96",
           "#ab63fa",
           "#FFA15A",
           "#19d3f3",
           "#FF6692",
           "#B6E880",
           "#FF97FF",
           "#FECB52"
          ],
          "font": {
           "color": "#2a3f5f"
          },
          "geo": {
           "bgcolor": "white",
           "lakecolor": "white",
           "landcolor": "#E5ECF6",
           "showlakes": true,
           "showland": true,
           "subunitcolor": "white"
          },
          "hoverlabel": {
           "align": "left"
          },
          "hovermode": "closest",
          "mapbox": {
           "style": "light"
          },
          "paper_bgcolor": "white",
          "plot_bgcolor": "#E5ECF6",
          "polar": {
           "angularaxis": {
            "gridcolor": "white",
            "linecolor": "white",
            "ticks": ""
           },
           "bgcolor": "#E5ECF6",
           "radialaxis": {
            "gridcolor": "white",
            "linecolor": "white",
            "ticks": ""
           }
          },
          "scene": {
           "xaxis": {
            "backgroundcolor": "#E5ECF6",
            "gridcolor": "white",
            "gridwidth": 2,
            "linecolor": "white",
            "showbackground": true,
            "ticks": "",
            "zerolinecolor": "white"
           },
           "yaxis": {
            "backgroundcolor": "#E5ECF6",
            "gridcolor": "white",
            "gridwidth": 2,
            "linecolor": "white",
            "showbackground": true,
            "ticks": "",
            "zerolinecolor": "white"
           },
           "zaxis": {
            "backgroundcolor": "#E5ECF6",
            "gridcolor": "white",
            "gridwidth": 2,
            "linecolor": "white",
            "showbackground": true,
            "ticks": "",
            "zerolinecolor": "white"
           }
          },
          "shapedefaults": {
           "line": {
            "color": "#2a3f5f"
           }
          },
          "ternary": {
           "aaxis": {
            "gridcolor": "white",
            "linecolor": "white",
            "ticks": ""
           },
           "baxis": {
            "gridcolor": "white",
            "linecolor": "white",
            "ticks": ""
           },
           "bgcolor": "#E5ECF6",
           "caxis": {
            "gridcolor": "white",
            "linecolor": "white",
            "ticks": ""
           }
          },
          "title": {
           "x": 0.05
          },
          "xaxis": {
           "automargin": true,
           "gridcolor": "white",
           "linecolor": "white",
           "ticks": "",
           "title": {
            "standoff": 15
           },
           "zerolinecolor": "white",
           "zerolinewidth": 2
          },
          "yaxis": {
           "automargin": true,
           "gridcolor": "white",
           "linecolor": "white",
           "ticks": "",
           "title": {
            "standoff": 15
           },
           "zerolinecolor": "white",
           "zerolinewidth": 2
          }
         }
        },
        "xaxis": {
         "anchor": "y",
         "autorange": true,
         "domain": [
          0,
          1
         ],
         "range": [
          -0.5,
          37.5
         ],
         "title": {
          "text": "resolution"
         },
         "type": "category"
        },
        "yaxis": {
         "anchor": "x",
         "autorange": true,
         "domain": [
          0,
          1
         ],
         "range": [
          0,
          416.8421052631579
         ],
         "title": {
          "text": "count"
         }
        }
       }
      },
      "text/html": [
       "<div>                            <div id=\"ca2fc6f1-27ba-468b-b83c-e74b601e0468\" class=\"plotly-graph-div\" style=\"height:600px; width:100%;\"></div>            <script type=\"text/javascript\">                require([\"plotly\"], function(Plotly) {                    window.PLOTLYENV=window.PLOTLYENV || {};                                    if (document.getElementById(\"ca2fc6f1-27ba-468b-b83c-e74b601e0468\")) {                    Plotly.newPlot(                        \"ca2fc6f1-27ba-468b-b83c-e74b601e0468\",                        [{\"alignmentgroup\":\"True\",\"bingroup\":\"x\",\"hovertemplate\":\"price_range=low\\u003cbr\\u003eresolution=%{x}\\u003cbr\\u003ecount=%{y}\\u003cextra\\u003e\\u003c\\u002fextra\\u003e\",\"legendgroup\":\"low\",\"marker\":{\"color\":\"#636efa\",\"pattern\":{\"shape\":\"\"}},\"name\":\"low\",\"offsetgroup\":\"low\",\"orientation\":\"v\",\"showlegend\":true,\"x\":[\"Full HD 1920x1080\",\"Full HD 1920x1080\",\"Full HD 1920x1080\",\"IPS Panel Full HD 1920x1080\",\"1366x768\",\"1366x768\",\"Full HD 1920x1080\",\"1600x900\",\"IPS Panel Full HD 1920x1080\",\"1366x768\",\"Touchscreen 1366x768\",\"1366x768\",\"Full HD 1920x1080\",\"Full HD 1920x1080\",\"IPS Panel Full HD 1920x1080\",\"1366x768\",\"IPS Panel Full HD 1920x1200\",\"Full HD 1920x1080\",\"Touchscreen 1366x768\",\"1366x768\",\"IPS Panel Touchscreen 1366x768\",\"1366x768\",\"IPS Panel Full HD 1920x1080\",\"Full HD 1920x1080\",\"1366x768\",\"Full HD 1920x1080\",\"1366x768\",\"Full HD \\u002f Touchscreen 1920x1080\",\"1366x768\",\"1366x768\",\"1600x900\",\"Full HD \\u002f Touchscreen 1920x1080\",\"Touchscreen 1366x768\",\"Full HD 1920x1080\",\"1366x768\",\"1366x768\",\"IPS Panel Full HD 1920x1080\",\"1366x768\",\"1366x768\",\"IPS Panel Full HD 1920x1080\",\"Full HD 1920x1080\",\"Full HD 1920x1080\",\"1366x768\",\"IPS Panel 1366x768\",\"1366x768\",\"1366x768\",\"Full HD 1920x1080\",\"Full HD \\u002f Touchscreen 1920x1080\",\"IPS Panel Full HD 1920x1080\",\"IPS Panel Full HD 1920x1080\",\"Full HD 1920x1080\",\"Full HD 1920x1080\",\"1366x768\",\"Full HD 1920x1080\",\"Full HD 1920x1080\",\"Full HD 1920x1080\",\"1366x768\",\"1366x768\",\"IPS Panel 1366x768\",\"Full HD 1920x1080\",\"1366x768\",\"Full HD 1920x1080\",\"Full HD 1920x1080\",\"Full HD 1920x1080\",\"1366x768\",\"1366x768\",\"Full HD 1920x1080\",\"1366x768\",\"1366x768\",\"IPS Panel Full HD \\u002f Touchscreen 1920x1080\",\"Full HD 1920x1080\",\"IPS Panel Full HD 1920x1080\",\"Full HD 1920x1080\",\"1600x900\",\"1366x768\",\"1600x900\",\"IPS Panel Full HD 1920x1080\",\"1366x768\",\"1366x768\",\"Full HD 1920x1080\",\"Full HD \\u002f Touchscreen 1920x1080\",\"Full HD 1920x1080\",\"IPS Panel Full HD 1920x1080\",\"Full HD 1920x1080\",\"1920x1080\",\"Full HD \\u002f Touchscreen 1920x1080\",\"Full HD 1920x1080\",\"Full HD 1920x1080\",\"IPS Panel Full HD 1920x1080\",\"Full HD 1920x1080\",\"1366x768\",\"1600x900\",\"1366x768\",\"Full HD 1920x1080\",\"1366x768\",\"Full HD 1920x1080\",\"1366x768\",\"Full HD 1920x1080\",\"Full HD \\u002f Touchscreen 1920x1080\",\"1366x768\",\"1366x768\",\"1366x768\",\"1366x768\",\"IPS Panel Full HD 1366x768\",\"1600x900\",\"1366x768\",\"1366x768\",\"1366x768\",\"1366x768\",\"1366x768\",\"Touchscreen 1366x768\",\"Full HD 1920x1080\",\"Full HD 1920x1080\",\"Touchscreen 1366x768\",\"Full HD 1920x1080\",\"Full HD 1920x1080\",\"1366x768\",\"1366x768\",\"1366x768\",\"1366x768\",\"1600x900\",\"1366x768\",\"Full HD 1920x1080\",\"Full HD 1920x1080\",\"1366x768\",\"1366x768\",\"1366x768\",\"IPS Panel Full HD 1920x1080\",\"Full HD 1920x1080\",\"Touchscreen 1366x768\",\"1366x768\",\"Full HD 1920x1080\",\"1366x768\",\"Full HD 1920x1080\",\"Full HD 1920x1080\",\"IPS Panel Full HD \\u002f Touchscreen 1920x1080\",\"Touchscreen 1366x768\",\"Touchscreen 1366x768\",\"IPS Panel Full HD 1920x1080\",\"Touchscreen 1366x768\",\"1366x768\",\"1366x768\",\"Full HD 1920x1080\",\"1366x768\",\"1366x768\",\"IPS Panel Full HD 1920x1080\",\"1366x768\",\"Full HD 1920x1080\",\"1366x768\",\"Full HD 1920x1080\",\"1366x768\",\"1366x768\",\"Full HD 1920x1080\",\"1366x768\",\"Full HD 1920x1080\",\"Full HD 1920x1080\",\"Full HD 1920x1080\",\"1366x768\",\"1600x900\",\"IPS Panel Full HD 1920x1080\",\"1366x768\",\"Full HD 1920x1080\",\"IPS Panel Full HD \\u002f Touchscreen 1920x1080\",\"Full HD 1920x1080\",\"Full HD 1920x1080\",\"Full HD 1920x1080\",\"Full HD 1920x1080\",\"1366x768\",\"Full HD 1920x1080\",\"Full HD 1920x1080\",\"Full HD 1920x1080\",\"Full HD 1920x1080\",\"Full HD 1920x1080\",\"Full HD 1920x1080\",\"Full HD 1920x1080\",\"1366x768\",\"Full HD 1920x1080\",\"IPS Panel Full HD 1920x1080\",\"IPS Panel Full HD 1920x1080\",\"1366x768\",\"IPS Panel Full HD 1920x1080\",\"Full HD 1920x1080\",\"1366x768\",\"Full HD 1920x1080\",\"Full HD 1920x1080\",\"IPS Panel Full HD 1920x1080\",\"IPS Panel Full HD 1920x1080\",\"IPS Panel Full HD \\u002f Touchscreen 1920x1080\",\"1366x768\",\"1366x768\",\"IPS Panel Full HD 1920x1080\",\"1366x768\",\"Full HD 1920x1080\",\"Full HD 1920x1080\",\"Full HD 1920x1080\",\"1600x900\",\"Full HD 1920x1080\",\"1366x768\",\"1366x768\",\"Full HD 1920x1080\",\"IPS Panel Full HD 1920x1080\",\"1366x768\",\"IPS Panel Full HD \\u002f Touchscreen 1920x1080\",\"1366x768\",\"Full HD 1920x1080\",\"1920x1080\",\"1366x768\",\"Full HD 1920x1080\",\"Full HD 1920x1080\",\"IPS Panel Retina Display 2736x1824\",\"1366x768\",\"1366x768\",\"Full HD 1920x1080\",\"1366x768\",\"Full HD 1920x1080\",\"IPS Panel Full HD \\u002f Touchscreen 1920x1080\",\"Full HD 1920x1080\",\"1366x768\",\"1366x768\",\"1366x768\",\"1600x900\",\"1366x768\",\"Full HD 1920x1080\",\"IPS Panel Full HD 1920x1080\",\"1366x768\",\"Full HD 1920x1080\",\"Full HD 1920x1080\",\"IPS Panel Touchscreen 1366x768\",\"1366x768\",\"Full HD 1920x1080\",\"1366x768\",\"Full HD 1920x1080\",\"Full HD 1920x1080\",\"Full HD 1920x1080\",\"1366x768\",\"Full HD \\u002f Touchscreen 1920x1080\",\"1366x768\",\"1366x768\",\"Full HD 1920x1080\",\"IPS Panel Full HD 1920x1080\",\"Full HD 1920x1080\",\"1366x768\",\"Full HD 1920x1080\",\"1600x900\",\"Full HD 1920x1080\",\"1366x768\",\"Full HD 1920x1080\",\"Touchscreen 1366x768\",\"1366x768\",\"Full HD 1920x1080\",\"IPS Panel Full HD 1920x1080\",\"IPS Panel Full HD 1920x1080\",\"1366x768\",\"1600x900\",\"Full HD 1920x1080\",\"1366x768\",\"Full HD 1920x1080\",\"IPS Panel Full HD 1920x1080\",\"IPS Panel Full HD 1920x1080\",\"Full HD 1920x1080\",\"Full HD 1920x1080\",\"Full HD 1920x1080\",\"IPS Panel Full HD 1920x1080\",\"Full HD 1920x1080\",\"Full HD 1920x1080\",\"Full HD 1920x1080\",\"IPS Panel Full HD \\u002f Touchscreen 1920x1080\",\"Full HD 1920x1080\",\"Full HD 1920x1080\",\"Full HD 1920x1080\",\"Full HD 1920x1080\",\"Full HD 1920x1080\",\"Full HD 1920x1080\",\"IPS Panel Full HD 1920x1080\",\"1366x768\",\"Full HD 1920x1080\",\"Full HD 1920x1080\",\"1366x768\",\"Full HD 1920x1080\",\"Full HD 1920x1080\",\"IPS Panel 1366x768\",\"IPS Panel 1366x768\",\"1366x768\",\"1366x768\",\"Full HD 1920x1080\",\"Full HD 1920x1080\",\"1366x768\",\"1366x768\",\"IPS Panel Full HD 1920x1080\",\"IPS Panel Full HD 1920x1080\",\"IPS Panel Full HD 1920x1080\",\"IPS Panel Full HD 1920x1080\",\"Full HD 1920x1080\",\"1366x768\",\"1366x768\",\"1366x768\",\"Full HD 1920x1080\",\"Full HD 1920x1080\",\"IPS Panel Full HD 1920x1080\",\"1366x768\",\"Full HD 1920x1080\",\"Full HD 1920x1080\",\"1920x1080\",\"Full HD 1920x1080\",\"1366x768\",\"1366x768\",\"Touchscreen 1366x768\",\"Full HD 1920x1080\",\"1366x768\",\"IPS Panel Full HD \\u002f Touchscreen 1920x1080\",\"IPS Panel Full HD 1920x1080\",\"Full HD 1920x1080\",\"Full HD 1920x1080\",\"IPS Panel Full HD 1920x1080\",\"1366x768\",\"1366x768\",\"1366x768\",\"Full HD 1920x1080\",\"Full HD 1920x1080\",\"1600x900\",\"Full HD 1920x1080\",\"1366x768\",\"1366x768\",\"Full HD 1920x1080\",\"Full HD \\u002f Touchscreen 1920x1080\",\"1366x768\",\"1366x768\",\"Touchscreen 1366x768\",\"Full HD 1920x1080\",\"Full HD 1920x1080\",\"IPS Panel Touchscreen 1366x768\",\"Full HD 1920x1080\",\"1366x768\",\"Full HD 1920x1080\",\"1366x768\",\"IPS Panel Full HD 1920x1080\",\"1366x768\",\"1366x768\",\"Full HD 1920x1080\",\"1366x768\",\"Full HD 1920x1080\",\"Full HD 1920x1080\",\"1440x900\",\"Full HD 1920x1080\",\"Full HD 1920x1080\",\"1366x768\",\"1366x768\",\"1366x768\",\"Full HD 1920x1080\",\"1366x768\",\"1366x768\",\"Full HD 1920x1080\",\"1366x768\",\"IPS Panel Full HD 1920x1080\",\"Full HD 1920x1080\",\"1366x768\",\"Full HD 1920x1080\",\"1366x768\",\"Full HD 1920x1080\",\"Full HD 1920x1080\",\"Full HD 1920x1080\",\"1366x768\",\"Full HD 1920x1080\",\"IPS Panel Full HD 1920x1080\",\"IPS Panel Touchscreen 1920x1200\",\"1366x768\",\"Full HD 1920x1080\",\"1366x768\",\"1600x900\",\"1366x768\",\"IPS Panel Full HD 1920x1080\",\"1366x768\",\"Full HD 1920x1080\",\"Full HD 1920x1080\",\"1366x768\",\"1366x768\",\"1366x768\",\"1366x768\",\"Full HD 1920x1080\",\"Full HD 1920x1080\",\"IPS Panel Full HD 1920x1080\",\"IPS Panel Full HD \\u002f Touchscreen 1920x1080\",\"1600x900\",\"1366x768\",\"1366x768\",\"1366x768\",\"1366x768\",\"IPS Panel Full HD 1920x1080\",\"1366x768\",\"Full HD 1920x1080\",\"1600x900\",\"IPS Panel Full HD 1920x1080\",\"Full HD 1920x1080\",\"1366x768\",\"Full HD 1920x1080\",\"Touchscreen 1366x768\",\"1366x768\",\"Full HD 1920x1080\",\"1366x768\",\"Full HD 1920x1080\",\"Full HD 1920x1080\",\"1366x768\",\"IPS Panel Full HD 1920x1080\",\"Full HD 1920x1080\",\"1600x900\",\"1366x768\",\"1366x768\",\"Full HD 1920x1080\",\"Full HD 1920x1080\",\"Full HD 1920x1080\",\"1366x768\",\"Full HD 1920x1080\",\"1366x768\",\"Full HD 1920x1080\",\"IPS Panel Full HD 1920x1080\",\"1366x768\",\"Touchscreen 1366x768\",\"1366x768\",\"Full HD 1920x1080\",\"1366x768\",\"Full HD 1920x1080\",\"1366x768\",\"Full HD \\u002f Touchscreen 1920x1080\",\"Full HD 1920x1080\",\"1366x768\",\"IPS Panel 1366x768\",\"IPS Panel Full HD 1920x1080\",\"IPS Panel Full HD \\u002f Touchscreen 1920x1080\",\"IPS Panel Full HD 1920x1080\",\"1366x768\",\"Touchscreen 1366x768\",\"IPS Panel Full HD 1920x1080\",\"1366x768\",\"Full HD 1920x1080\",\"IPS Panel Full HD 1920x1080\",\"Full HD \\u002f Touchscreen 1920x1080\",\"1366x768\",\"Full HD 1920x1080\",\"IPS Panel Full HD 1920x1080\",\"1366x768\",\"Full HD 1920x1080\",\"IPS Panel Full HD \\u002f Touchscreen 1920x1080\",\"IPS Panel Full HD 1920x1080\",\"1366x768\",\"1366x768\",\"IPS Panel Full HD \\u002f Touchscreen 1920x1080\",\"Full HD 1920x1080\",\"Full HD 1920x1080\",\"1366x768\",\"IPS Panel Full HD 1920x1080\",\"1366x768\",\"Full HD 1920x1080\",\"1366x768\",\"IPS Panel Full HD 1920x1080\",\"1366x768\",\"1366x768\",\"Full HD 1920x1080\",\"1366x768\",\"Full HD 1920x1080\",\"Full HD 1920x1080\",\"Full HD 1920x1080\",\"1366x768\",\"Full HD 1920x1080\"],\"xaxis\":\"x\",\"yaxis\":\"y\",\"type\":\"histogram\"},{\"alignmentgroup\":\"True\",\"bingroup\":\"x\",\"hovertemplate\":\"price_range=mid\\u003cbr\\u003eresolution=%{x}\\u003cbr\\u003ecount=%{y}\\u003cextra\\u003e\\u003c\\u002fextra\\u003e\",\"legendgroup\":\"mid\",\"marker\":{\"color\":\"#EF553B\",\"pattern\":{\"shape\":\"\"}},\"name\":\"mid\",\"offsetgroup\":\"mid\",\"orientation\":\"v\",\"showlegend\":true,\"x\":[\"Full HD 1920x1080\",\"IPS Panel Full HD 1920x1080\",\"Full HD 1920x1080\",\"Full HD \\u002f Touchscreen 1920x1080\",\"1366x768\",\"IPS Panel Full HD 1920x1080\",\"IPS Panel Quad HD+ 3200x1800\",\"Full HD 1920x1080\",\"1600x900\",\"Full HD 1920x1080\",\"Full HD 1920x1080\",\"Full HD 1920x1080\",\"Full HD 1920x1080\",\"1366x768\",\"IPS Panel 1366x768\",\"Full HD 1920x1080\",\"IPS Panel Full HD 1920x1080\",\"Full HD 1920x1080\",\"IPS Panel Full HD 1920x1080\",\"1366x768\",\"Quad HD+ 3200x1800\",\"1366x768\",\"1366x768\",\"IPS Panel Touchscreen \\u002f 4K Ultra HD 3840x2160\",\"IPS Panel Retina Display 2304x1440\",\"Full HD 1920x1080\",\"Full HD 1920x1080\",\"Full HD 1920x1080\",\"IPS Panel Full HD \\u002f Touchscreen 1920x1080\",\"Full HD 1920x1080\",\"IPS Panel Full HD \\u002f Touchscreen 1920x1080\",\"Full HD \\u002f Touchscreen 1920x1080\",\"IPS Panel Full HD 1920x1080\",\"Full HD 1920x1080\",\"Full HD 1920x1080\",\"Full HD 1920x1080\",\"Full HD 1920x1080\",\"Full HD 1920x1080\",\"Full HD 1920x1080\",\"Full HD 1920x1080\",\"Full HD 1920x1080\",\"IPS Panel Full HD 1920x1080\",\"Full HD 1920x1080\",\"IPS Panel Full HD \\u002f Touchscreen 1920x1080\",\"Full HD 1920x1080\",\"IPS Panel Full HD 1920x1080\",\"Full HD 1920x1080\",\"Full HD 1920x1080\",\"Full HD 1920x1080\",\"IPS Panel Full HD 1920x1080\",\"Full HD 1920x1080\",\"IPS Panel Full HD 1920x1080\",\"Full HD 1920x1080\",\"IPS Panel Full HD \\u002f Touchscreen 1920x1080\",\"IPS Panel Full HD 1920x1080\",\"Full HD 1920x1080\",\"Full HD 1920x1080\",\"IPS Panel Full HD 1920x1080\",\"1366x768\",\"Full HD 1920x1080\",\"Full HD 1920x1080\",\"IPS Panel Full HD 1920x1080\",\"IPS Panel Full HD 1920x1080\",\"IPS Panel Full HD \\u002f Touchscreen 1920x1080\",\"Full HD 1920x1080\",\"1366x768\",\"1366x768\",\"Full HD 1920x1080\",\"1366x768\",\"Full HD 1920x1080\",\"Full HD 1920x1080\",\"1366x768\",\"Quad HD+ \\u002f Touchscreen 3200x1800\",\"1366x768\",\"Touchscreen \\u002f Full HD 1920x1080\",\"Full HD 1920x1080\",\"1366x768\",\"Full HD 1920x1080\",\"Full HD 1920x1080\",\"Full HD 1920x1080\",\"Full HD 1920x1080\",\"Full HD 1920x1080\",\"IPS Panel Full HD 1920x1080\",\"Full HD 1920x1080\",\"IPS Panel Full HD 1920x1080\",\"IPS Panel Full HD 1920x1080\",\"Full HD 1920x1080\",\"Full HD 1920x1080\",\"Full HD 1920x1080\",\"IPS Panel Full HD 1920x1080\",\"IPS Panel Quad HD+ \\u002f Touchscreen 3200x1800\",\"IPS Panel Retina Display 2560x1600\",\"1366x768\",\"IPS Panel Full HD 1920x1080\",\"IPS Panel Full HD 1920x1080\",\"Touchscreen 2256x1504\",\"IPS Panel Full HD 1920x1080\",\"IPS Panel Full HD 1920x1080\",\"Full HD 1920x1080\",\"IPS Panel Full HD \\u002f Touchscreen 1920x1080\",\"Full HD 1920x1080\",\"IPS Panel Full HD 1920x1080\",\"Full HD 1920x1080\",\"IPS Panel Full HD 1920x1080\",\"Quad HD+ \\u002f Touchscreen 3200x1800\",\"Full HD 1920x1080\",\"Full HD 1920x1080\",\"Full HD 1920x1080\",\"IPS Panel Full HD 1920x1080\",\"IPS Panel Full HD 1920x1080\",\"IPS Panel Full HD 1920x1080\",\"Full HD 1920x1080\",\"Full HD 1920x1080\",\"IPS Panel Full HD 1920x1080\",\"Full HD 1920x1080\",\"Full HD 1920x1080\",\"IPS Panel Full HD 1920x1080\",\"Full HD 1920x1080\",\"Full HD 1920x1080\",\"IPS Panel Full HD 1920x1080\",\"Full HD 1920x1080\",\"IPS Panel Full HD 1920x1080\",\"Full HD 1920x1080\",\"Full HD 1920x1080\",\"Full HD 1920x1080\",\"Full HD 1920x1080\",\"IPS Panel Full HD 1920x1080\",\"IPS Panel Full HD 1920x1080\",\"IPS Panel Full HD 1920x1080\",\"Full HD 1920x1080\",\"IPS Panel Full HD 1920x1080\",\"IPS Panel Full HD 1920x1080\",\"IPS Panel Full HD 1920x1080\",\"Full HD 1920x1080\",\"Full HD 1920x1080\",\"Full HD 1920x1080\",\"Full HD 1920x1080\",\"Full HD 1920x1080\",\"IPS Panel Full HD 1920x1080\",\"Full HD 1920x1080\",\"Full HD \\u002f Touchscreen 1920x1080\",\"Full HD \\u002f Touchscreen 1920x1080\",\"Full HD 1920x1080\",\"Full HD 1920x1080\",\"IPS Panel Full HD 1920x1080\",\"Full HD 1920x1080\",\"IPS Panel Full HD 1920x1080\",\"Full HD 1920x1080\",\"Full HD 1920x1080\",\"IPS Panel Full HD 1920x1080\",\"Full HD 1920x1080\",\"Full HD 1920x1080\",\"Full HD 1920x1080\",\"IPS Panel Full HD 2160x1440\",\"Full HD 1920x1080\",\"Full HD 1920x1080\",\"Full HD 1920x1080\",\"IPS Panel Full HD 1920x1080\",\"Full HD 1920x1080\",\"Full HD 1920x1080\",\"Full HD 1920x1080\",\"Full HD 1920x1080\",\"Full HD 1920x1080\",\"IPS Panel Full HD 1920x1080\",\"IPS Panel Full HD 1920x1080\",\"Full HD \\u002f Touchscreen 1920x1080\",\"IPS Panel Full HD 1920x1080\",\"Full HD 1920x1080\",\"Full HD 1920x1080\",\"Full HD 1920x1080\",\"Full HD 1920x1080\",\"Full HD 1920x1080\",\"IPS Panel Full HD 1920x1080\",\"Full HD 1920x1080\",\"Full HD 1920x1080\",\"Full HD 1920x1080\",\"IPS Panel Full HD \\u002f Touchscreen 1920x1080\",\"Full HD \\u002f Touchscreen 1920x1080\",\"IPS Panel 4K Ultra HD 3840x2160\",\"1440x900\",\"Full HD 1920x1080\",\"IPS Panel Full HD 1920x1080\",\"Full HD 1920x1080\",\"1440x900\",\"IPS Panel Full HD \\u002f Touchscreen 1920x1080\",\"IPS Panel 1366x768\",\"Full HD 1920x1080\",\"Full HD 1920x1080\",\"Full HD 1920x1080\",\"1440x900\",\"IPS Panel Full HD 1920x1080\",\"IPS Panel Full HD 1920x1080\",\"Full HD 1920x1080\",\"Full HD 1920x1080\",\"Full HD 1920x1080\",\"Full HD 1920x1080\",\"Full HD 1920x1080\",\"IPS Panel Full HD 1920x1080\",\"IPS Panel Full HD 1920x1080\",\"IPS Panel Full HD 1920x1080\",\"Full HD 1920x1080\",\"IPS Panel Retina Display 2304x1440\",\"IPS Panel Full HD \\u002f Touchscreen 1920x1080\",\"Full HD 1920x1080\",\"Full HD 1920x1080\",\"IPS Panel Full HD 1920x1080\",\"Full HD 1920x1080\",\"IPS Panel Full HD 1920x1080\",\"Full HD 1920x1080\",\"Full HD 1920x1080\",\"Full HD 1920x1080\",\"Full HD 1920x1080\",\"Full HD \\u002f Touchscreen 1920x1080\",\"Full HD 1920x1080\",\"Touchscreen 2256x1504\",\"IPS Panel Full HD 1920x1080\",\"IPS Panel Quad HD+ 3200x1800\",\"Touchscreen 2256x1504\",\"Full HD 1920x1080\",\"IPS Panel Full HD 1920x1080\",\"Full HD 1920x1080\",\"Full HD 1920x1080\",\"Full HD 1920x1080\",\"IPS Panel Full HD 1920x1080\",\"Full HD 1920x1080\",\"Full HD 1920x1080\",\"IPS Panel 4K Ultra HD 3840x2160\",\"Full HD 1920x1080\",\"IPS Panel Full HD 1920x1080\",\"Full HD 1920x1080\",\"IPS Panel Full HD 1920x1080\",\"Full HD 1920x1080\",\"Full HD 1920x1080\",\"Full HD 1920x1080\",\"Touchscreen 2400x1600\",\"Full HD 1920x1080\",\"IPS Panel Full HD 1920x1080\"],\"xaxis\":\"x\",\"yaxis\":\"y\",\"type\":\"histogram\"},{\"alignmentgroup\":\"True\",\"bingroup\":\"x\",\"hovertemplate\":\"price_range=high\\u003cbr\\u003eresolution=%{x}\\u003cbr\\u003ecount=%{y}\\u003cextra\\u003e\\u003c\\u002fextra\\u003e\",\"legendgroup\":\"high\",\"marker\":{\"color\":\"#00cc96\",\"pattern\":{\"shape\":\"\"}},\"name\":\"high\",\"offsetgroup\":\"high\",\"orientation\":\"v\",\"showlegend\":true,\"x\":[\"IPS Panel Full HD 1920x1080\",\"IPS Panel 4K Ultra HD \\u002f Touchscreen 3840x2160\",\"IPS Panel Full HD 2160x1440\",\"Full HD \\u002f Touchscreen 1920x1080\",\"Full HD 1920x1080\",\"Full HD 1920x1080\",\"Full HD 1920x1080\",\"IPS Panel Full HD 1920x1080\",\"Full HD 1920x1080\",\"IPS Panel Full HD 1920x1080\",\"Full HD 1920x1080\",\"Touchscreen 2560x1440\",\"Full HD 1920x1080\",\"Full HD 1920x1080\",\"IPS Panel Full HD 1920x1080\",\"4K Ultra HD \\u002f Touchscreen 3840x2160\",\"Full HD 1920x1080\",\"IPS Panel Quad HD+ 2560x1440\",\"Full HD \\u002f Touchscreen 1920x1080\",\"IPS Panel Full HD 1920x1080\",\"IPS Panel 4K Ultra HD \\u002f Touchscreen 3840x2160\",\"Full HD 1920x1080\",\"Full HD 1920x1080\",\"IPS Panel 4K Ultra HD 3840x2160\",\"Full HD 1920x1080\",\"4K Ultra HD 3840x2160\",\"Full HD 1920x1080\",\"IPS Panel Full HD 1920x1080\",\"IPS Panel Full HD 1920x1080\",\"IPS Panel 4K Ultra HD \\u002f Touchscreen 3840x2160\",\"IPS Panel 4K Ultra HD \\u002f Touchscreen 3840x2160\",\"Full HD \\u002f Touchscreen 1920x1080\",\"IPS Panel Full HD 1920x1080\",\"IPS Panel Full HD 1920x1080\",\"Quad HD+ \\u002f Touchscreen 3200x1800\",\"Full HD 1920x1080\",\"Full HD 1920x1080\",\"IPS Panel Full HD 1920x1080\",\"Touchscreen \\u002f Quad HD+ 3200x1800\",\"Full HD \\u002f Touchscreen 1920x1080\",\"IPS Panel Full HD 1920x1080\",\"IPS Panel Full HD 1920x1080\",\"IPS Panel Retina Display 2560x1600\",\"2560x1440\",\"Full HD 1920x1080\",\"Full HD 1920x1080\",\"Full HD 1920x1080\",\"IPS Panel Quad HD+ \\u002f Touchscreen 3200x1800\",\"Full HD 1920x1080\",\"IPS Panel Full HD 1920x1080\",\"Full HD 1920x1080\",\"IPS Panel 4K Ultra HD 3840x2160\",\"IPS Panel Retina Display 2880x1800\",\"Full HD 1920x1080\",\"IPS Panel Retina Display 2880x1800\",\"Full HD 1920x1080\",\"Touchscreen 2560x1440\",\"Quad HD+ \\u002f Touchscreen 3200x1800\",\"IPS Panel Retina Display 2560x1600\",\"Full HD \\u002f Touchscreen 1920x1080\",\"IPS Panel Full HD 1920x1080\",\"Full HD 1920x1080\",\"IPS Panel Retina Display 2880x1800\",\"Full HD \\u002f Touchscreen 1920x1080\",\"IPS Panel Full HD 1920x1080\",\"Full HD 1920x1080\",\"IPS Panel Retina Display 2560x1600\",\"IPS Panel Retina Display 2880x1800\",\"IPS Panel Full HD 1920x1080\",\"IPS Panel Full HD 1920x1080\",\"IPS Panel Full HD 1920x1080\",\"IPS Panel Full HD \\u002f Touchscreen 1920x1080\",\"IPS Panel Full HD \\u002f Touchscreen 1920x1080\",\"Full HD \\u002f Touchscreen 1920x1080\",\"Full HD 1920x1080\",\"Full HD \\u002f Touchscreen 1920x1080\",\"Full HD 1920x1080\",\"Quad HD+ \\u002f Touchscreen 3200x1800\",\"Full HD 1920x1080\",\"IPS Panel Full HD 1920x1080\",\"IPS Panel 4K Ultra HD \\u002f Touchscreen 3840x2160\",\"Full HD 1920x1080\",\"Full HD 1920x1080\",\"IPS Panel Full HD \\u002f Touchscreen 1920x1080\",\"Full HD 1920x1080\",\"Full HD 1920x1080\",\"IPS Panel Full HD \\u002f Touchscreen 1920x1080\",\"Full HD 1920x1080\",\"IPS Panel 4K Ultra HD 3840x2160\",\"IPS Panel Retina Display 2304x1440\",\"Full HD 1920x1080\",\"IPS Panel Full HD 1920x1080\",\"IPS Panel Full HD 1920x1080\",\"4K Ultra HD \\u002f Touchscreen 3840x2160\",\"IPS Panel Full HD \\u002f Touchscreen 1920x1080\",\"IPS Panel Full HD 1920x1080\",\"Full HD 1920x1080\",\"IPS Panel Full HD 1920x1080\",\"IPS Panel Full HD 1920x1080\",\"Full HD \\u002f Touchscreen 1920x1080\",\"Quad HD+ \\u002f Touchscreen 3200x1800\",\"IPS Panel Full HD 1920x1080\",\"Full HD 1920x1080\",\"IPS Panel Full HD \\u002f Touchscreen 1920x1080\",\"Full HD 1920x1080\",\"Full HD \\u002f Touchscreen 1920x1080\",\"IPS Panel Full HD 1920x1080\",\"IPS Panel Full HD 1920x1080\",\"IPS Panel Full HD 1920x1080\",\"IPS Panel Full HD 1920x1080\",\"4K Ultra HD \\u002f Touchscreen 3840x2160\",\"IPS Panel Full HD \\u002f Touchscreen 1920x1080\",\"Quad HD+ \\u002f Touchscreen 3200x1800\",\"IPS Panel Full HD 1920x1080\",\"Touchscreen 2256x1504\",\"Touchscreen 2256x1504\",\"Full HD 1920x1080\",\"Full HD 1920x1080\",\"Full HD 1920x1080\",\"IPS Panel Full HD 1920x1080\",\"IPS Panel Quad HD+ 2560x1440\",\"IPS Panel 4K Ultra HD \\u002f Touchscreen 3840x2160\",\"Full HD \\u002f Touchscreen 1920x1080\",\"Full HD 1920x1080\",\"Full HD 1920x1080\",\"Full HD 1920x1080\",\"IPS Panel Full HD 1920x1080\",\"IPS Panel Full HD 2560x1440\",\"Full HD 1920x1080\",\"Touchscreen 2256x1504\",\"IPS Panel 4K Ultra HD \\u002f Touchscreen 3840x2160\",\"Full HD 1920x1080\",\"IPS Panel 2560x1440\",\"Full HD 1920x1080\",\"Full HD 1920x1080\",\"IPS Panel 4K Ultra HD 3840x2160\",\"IPS Panel 4K Ultra HD 3840x2160\",\"Full HD 1920x1080\",\"Full HD 1920x1080\",\"Touchscreen 2400x1600\",\"2560x1440\",\"IPS Panel Full HD 1920x1080\",\"Full HD 1920x1080\",\"IPS Panel Full HD 1920x1080\",\"Full HD 1920x1080\",\"Full HD 1920x1080\",\"Full HD 1920x1080\",\"Full HD 1920x1080\",\"Full HD 1920x1080\",\"Full HD 1920x1080\",\"IPS Panel Full HD 1920x1080\",\"Full HD 1920x1080\",\"IPS Panel Full HD 1920x1080\",\"Full HD \\u002f Touchscreen 1920x1080\",\"IPS Panel Full HD 1920x1080\",\"IPS Panel Full HD 1920x1080\",\"IPS Panel Full HD 1920x1080\",\"IPS Panel Full HD 1920x1080\",\"Full HD 1920x1080\",\"IPS Panel 4K Ultra HD \\u002f Touchscreen 3840x2160\",\"Quad HD+ \\u002f Touchscreen 3200x1800\",\"IPS Panel Full HD 1920x1080\",\"IPS Panel Quad HD+ \\u002f Touchscreen 3200x1800\",\"IPS Panel Full HD 1920x1080\",\"1600x900\",\"Full HD 1920x1080\",\"Full HD 1920x1080\",\"IPS Panel Full HD 1920x1080\",\"IPS Panel Full HD 1920x1080\",\"Full HD 1920x1080\",\"IPS Panel Full HD 1920x1080\",\"Full HD 1920x1080\",\"Full HD \\u002f Touchscreen 1920x1080\",\"IPS Panel Full HD 1920x1080\",\"4K Ultra HD 3840x2160\",\"Full HD 1920x1080\",\"Full HD 1920x1080\",\"Full HD \\u002f Touchscreen 1920x1080\",\"Full HD \\u002f Touchscreen 1920x1080\",\"IPS Panel Full HD 1920x1080\",\"IPS Panel Full HD \\u002f Touchscreen 1920x1080\",\"IPS Panel Full HD \\u002f Touchscreen 1920x1080\",\"Full HD 1920x1080\",\"IPS Panel Full HD 1920x1080\",\"IPS Panel Full HD 1920x1080\",\"Full HD 1920x1080\",\"Full HD 1920x1080\",\"Full HD 1920x1080\",\"Full HD 1920x1080\",\"Full HD 1920x1080\",\"4K Ultra HD 3840x2160\",\"IPS Panel Retina Display 2560x1600\",\"Full HD 1920x1080\",\"Touchscreen 2560x1440\",\"Full HD \\u002f Touchscreen 1920x1080\",\"Full HD 1920x1080\",\"Full HD \\u002f Touchscreen 1920x1080\",\"Touchscreen 2400x1600\",\"Full HD 1920x1080\",\"IPS Panel 4K Ultra HD 3840x2160\",\"Full HD 1920x1080\",\"Full HD 1920x1080\",\"Full HD 1920x1080\",\"Full HD \\u002f Touchscreen 1920x1080\",\"Full HD 1920x1080\",\"Full HD 1920x1080\",\"IPS Panel Full HD 1920x1080\",\"IPS Panel Full HD 1920x1080\",\"Full HD 1920x1080\",\"4K Ultra HD 3840x2160\",\"IPS Panel Full HD 1920x1080\",\"1366x768\",\"4K Ultra HD \\u002f Touchscreen 3840x2160\",\"Full HD 1920x1080\",\"IPS Panel Full HD 1920x1080\",\"Full HD 1920x1080\",\"Full HD 1920x1080\",\"IPS Panel Touchscreen 2560x1440\",\"IPS Panel Retina Display 2560x1600\",\"Full HD 1920x1080\",\"IPS Panel Full HD \\u002f Touchscreen 1920x1080\",\"IPS Panel Full HD \\u002f Touchscreen 1920x1080\",\"IPS Panel Full HD 1920x1080\",\"Full HD 1920x1080\",\"IPS Panel Full HD \\u002f Touchscreen 1920x1080\",\"IPS Panel Full HD 1920x1080\",\"IPS Panel 4K Ultra HD \\u002f Touchscreen 3840x2160\",\"Full HD 1920x1080\",\"IPS Panel Full HD 1920x1080\",\"IPS Panel 4K Ultra HD \\u002f Touchscreen 3840x2160\",\"IPS Panel 2560x1440\",\"Full HD \\u002f Touchscreen 1920x1080\",\"Full HD \\u002f Touchscreen 1920x1080\",\"IPS Panel Full HD 1920x1080\",\"Touchscreen 2560x1440\",\"Touchscreen 2560x1440\",\"Full HD 1920x1080\",\"Full HD \\u002f Touchscreen 1920x1080\",\"Full HD 1920x1080\",\"Full HD 1920x1080\",\"IPS Panel Full HD \\u002f Touchscreen 1920x1080\",\"IPS Panel 2560x1440\",\"Full HD 1920x1080\",\"Full HD 1920x1080\",\"Full HD 1920x1080\",\"IPS Panel Full HD 1920x1080\",\"4K Ultra HD \\u002f Touchscreen 3840x2160\",\"IPS Panel Full HD 1920x1080\",\"IPS Panel Full HD 1920x1080\",\"IPS Panel Full HD 1920x1080\",\"IPS Panel Full HD \\u002f Touchscreen 1920x1080\",\"Full HD 1920x1080\",\"Full HD 1920x1080\",\"4K Ultra HD \\u002f Touchscreen 3840x2160\",\"IPS Panel Full HD 1920x1080\",\"IPS Panel 4K Ultra HD \\u002f Touchscreen 3840x2160\",\"Full HD 1920x1080\",\"IPS Panel Full HD 1920x1080\",\"IPS Panel Quad HD+ 2560x1440\",\"Full HD 1920x1080\",\"4K Ultra HD \\u002f Touchscreen 3840x2160\",\"Full HD 1920x1080\",\"Full HD 1920x1080\",\"Full HD 1920x1080\",\"IPS Panel Full HD 1920x1080\",\"Full HD 1920x1080\",\"Full HD 1920x1080\",\"Full HD 1920x1080\",\"IPS Panel Full HD 1920x1080\"],\"xaxis\":\"x\",\"yaxis\":\"y\",\"type\":\"histogram\"}],                        {\"template\":{\"data\":{\"histogram2dcontour\":[{\"type\":\"histogram2dcontour\",\"colorbar\":{\"outlinewidth\":0,\"ticks\":\"\"},\"colorscale\":[[0.0,\"#0d0887\"],[0.1111111111111111,\"#46039f\"],[0.2222222222222222,\"#7201a8\"],[0.3333333333333333,\"#9c179e\"],[0.4444444444444444,\"#bd3786\"],[0.5555555555555556,\"#d8576b\"],[0.6666666666666666,\"#ed7953\"],[0.7777777777777778,\"#fb9f3a\"],[0.8888888888888888,\"#fdca26\"],[1.0,\"#f0f921\"]]}],\"choropleth\":[{\"type\":\"choropleth\",\"colorbar\":{\"outlinewidth\":0,\"ticks\":\"\"}}],\"histogram2d\":[{\"type\":\"histogram2d\",\"colorbar\":{\"outlinewidth\":0,\"ticks\":\"\"},\"colorscale\":[[0.0,\"#0d0887\"],[0.1111111111111111,\"#46039f\"],[0.2222222222222222,\"#7201a8\"],[0.3333333333333333,\"#9c179e\"],[0.4444444444444444,\"#bd3786\"],[0.5555555555555556,\"#d8576b\"],[0.6666666666666666,\"#ed7953\"],[0.7777777777777778,\"#fb9f3a\"],[0.8888888888888888,\"#fdca26\"],[1.0,\"#f0f921\"]]}],\"heatmap\":[{\"type\":\"heatmap\",\"colorbar\":{\"outlinewidth\":0,\"ticks\":\"\"},\"colorscale\":[[0.0,\"#0d0887\"],[0.1111111111111111,\"#46039f\"],[0.2222222222222222,\"#7201a8\"],[0.3333333333333333,\"#9c179e\"],[0.4444444444444444,\"#bd3786\"],[0.5555555555555556,\"#d8576b\"],[0.6666666666666666,\"#ed7953\"],[0.7777777777777778,\"#fb9f3a\"],[0.8888888888888888,\"#fdca26\"],[1.0,\"#f0f921\"]]}],\"heatmapgl\":[{\"type\":\"heatmapgl\",\"colorbar\":{\"outlinewidth\":0,\"ticks\":\"\"},\"colorscale\":[[0.0,\"#0d0887\"],[0.1111111111111111,\"#46039f\"],[0.2222222222222222,\"#7201a8\"],[0.3333333333333333,\"#9c179e\"],[0.4444444444444444,\"#bd3786\"],[0.5555555555555556,\"#d8576b\"],[0.6666666666666666,\"#ed7953\"],[0.7777777777777778,\"#fb9f3a\"],[0.8888888888888888,\"#fdca26\"],[1.0,\"#f0f921\"]]}],\"contourcarpet\":[{\"type\":\"contourcarpet\",\"colorbar\":{\"outlinewidth\":0,\"ticks\":\"\"}}],\"contour\":[{\"type\":\"contour\",\"colorbar\":{\"outlinewidth\":0,\"ticks\":\"\"},\"colorscale\":[[0.0,\"#0d0887\"],[0.1111111111111111,\"#46039f\"],[0.2222222222222222,\"#7201a8\"],[0.3333333333333333,\"#9c179e\"],[0.4444444444444444,\"#bd3786\"],[0.5555555555555556,\"#d8576b\"],[0.6666666666666666,\"#ed7953\"],[0.7777777777777778,\"#fb9f3a\"],[0.8888888888888888,\"#fdca26\"],[1.0,\"#f0f921\"]]}],\"surface\":[{\"type\":\"surface\",\"colorbar\":{\"outlinewidth\":0,\"ticks\":\"\"},\"colorscale\":[[0.0,\"#0d0887\"],[0.1111111111111111,\"#46039f\"],[0.2222222222222222,\"#7201a8\"],[0.3333333333333333,\"#9c179e\"],[0.4444444444444444,\"#bd3786\"],[0.5555555555555556,\"#d8576b\"],[0.6666666666666666,\"#ed7953\"],[0.7777777777777778,\"#fb9f3a\"],[0.8888888888888888,\"#fdca26\"],[1.0,\"#f0f921\"]]}],\"mesh3d\":[{\"type\":\"mesh3d\",\"colorbar\":{\"outlinewidth\":0,\"ticks\":\"\"}}],\"scatter\":[{\"fillpattern\":{\"fillmode\":\"overlay\",\"size\":10,\"solidity\":0.2},\"type\":\"scatter\"}],\"parcoords\":[{\"type\":\"parcoords\",\"line\":{\"colorbar\":{\"outlinewidth\":0,\"ticks\":\"\"}}}],\"scatterpolargl\":[{\"type\":\"scatterpolargl\",\"marker\":{\"colorbar\":{\"outlinewidth\":0,\"ticks\":\"\"}}}],\"bar\":[{\"error_x\":{\"color\":\"#2a3f5f\"},\"error_y\":{\"color\":\"#2a3f5f\"},\"marker\":{\"line\":{\"color\":\"#E5ECF6\",\"width\":0.5},\"pattern\":{\"fillmode\":\"overlay\",\"size\":10,\"solidity\":0.2}},\"type\":\"bar\"}],\"scattergeo\":[{\"type\":\"scattergeo\",\"marker\":{\"colorbar\":{\"outlinewidth\":0,\"ticks\":\"\"}}}],\"scatterpolar\":[{\"type\":\"scatterpolar\",\"marker\":{\"colorbar\":{\"outlinewidth\":0,\"ticks\":\"\"}}}],\"histogram\":[{\"marker\":{\"pattern\":{\"fillmode\":\"overlay\",\"size\":10,\"solidity\":0.2}},\"type\":\"histogram\"}],\"scattergl\":[{\"type\":\"scattergl\",\"marker\":{\"colorbar\":{\"outlinewidth\":0,\"ticks\":\"\"}}}],\"scatter3d\":[{\"type\":\"scatter3d\",\"line\":{\"colorbar\":{\"outlinewidth\":0,\"ticks\":\"\"}},\"marker\":{\"colorbar\":{\"outlinewidth\":0,\"ticks\":\"\"}}}],\"scattermapbox\":[{\"type\":\"scattermapbox\",\"marker\":{\"colorbar\":{\"outlinewidth\":0,\"ticks\":\"\"}}}],\"scatterternary\":[{\"type\":\"scatterternary\",\"marker\":{\"colorbar\":{\"outlinewidth\":0,\"ticks\":\"\"}}}],\"scattercarpet\":[{\"type\":\"scattercarpet\",\"marker\":{\"colorbar\":{\"outlinewidth\":0,\"ticks\":\"\"}}}],\"carpet\":[{\"aaxis\":{\"endlinecolor\":\"#2a3f5f\",\"gridcolor\":\"white\",\"linecolor\":\"white\",\"minorgridcolor\":\"white\",\"startlinecolor\":\"#2a3f5f\"},\"baxis\":{\"endlinecolor\":\"#2a3f5f\",\"gridcolor\":\"white\",\"linecolor\":\"white\",\"minorgridcolor\":\"white\",\"startlinecolor\":\"#2a3f5f\"},\"type\":\"carpet\"}],\"table\":[{\"cells\":{\"fill\":{\"color\":\"#EBF0F8\"},\"line\":{\"color\":\"white\"}},\"header\":{\"fill\":{\"color\":\"#C8D4E3\"},\"line\":{\"color\":\"white\"}},\"type\":\"table\"}],\"barpolar\":[{\"marker\":{\"line\":{\"color\":\"#E5ECF6\",\"width\":0.5},\"pattern\":{\"fillmode\":\"overlay\",\"size\":10,\"solidity\":0.2}},\"type\":\"barpolar\"}],\"pie\":[{\"automargin\":true,\"type\":\"pie\"}]},\"layout\":{\"autotypenumbers\":\"strict\",\"colorway\":[\"#636efa\",\"#EF553B\",\"#00cc96\",\"#ab63fa\",\"#FFA15A\",\"#19d3f3\",\"#FF6692\",\"#B6E880\",\"#FF97FF\",\"#FECB52\"],\"font\":{\"color\":\"#2a3f5f\"},\"hovermode\":\"closest\",\"hoverlabel\":{\"align\":\"left\"},\"paper_bgcolor\":\"white\",\"plot_bgcolor\":\"#E5ECF6\",\"polar\":{\"bgcolor\":\"#E5ECF6\",\"angularaxis\":{\"gridcolor\":\"white\",\"linecolor\":\"white\",\"ticks\":\"\"},\"radialaxis\":{\"gridcolor\":\"white\",\"linecolor\":\"white\",\"ticks\":\"\"}},\"ternary\":{\"bgcolor\":\"#E5ECF6\",\"aaxis\":{\"gridcolor\":\"white\",\"linecolor\":\"white\",\"ticks\":\"\"},\"baxis\":{\"gridcolor\":\"white\",\"linecolor\":\"white\",\"ticks\":\"\"},\"caxis\":{\"gridcolor\":\"white\",\"linecolor\":\"white\",\"ticks\":\"\"}},\"coloraxis\":{\"colorbar\":{\"outlinewidth\":0,\"ticks\":\"\"}},\"colorscale\":{\"sequential\":[[0.0,\"#0d0887\"],[0.1111111111111111,\"#46039f\"],[0.2222222222222222,\"#7201a8\"],[0.3333333333333333,\"#9c179e\"],[0.4444444444444444,\"#bd3786\"],[0.5555555555555556,\"#d8576b\"],[0.6666666666666666,\"#ed7953\"],[0.7777777777777778,\"#fb9f3a\"],[0.8888888888888888,\"#fdca26\"],[1.0,\"#f0f921\"]],\"sequentialminus\":[[0.0,\"#0d0887\"],[0.1111111111111111,\"#46039f\"],[0.2222222222222222,\"#7201a8\"],[0.3333333333333333,\"#9c179e\"],[0.4444444444444444,\"#bd3786\"],[0.5555555555555556,\"#d8576b\"],[0.6666666666666666,\"#ed7953\"],[0.7777777777777778,\"#fb9f3a\"],[0.8888888888888888,\"#fdca26\"],[1.0,\"#f0f921\"]],\"diverging\":[[0,\"#8e0152\"],[0.1,\"#c51b7d\"],[0.2,\"#de77ae\"],[0.3,\"#f1b6da\"],[0.4,\"#fde0ef\"],[0.5,\"#f7f7f7\"],[0.6,\"#e6f5d0\"],[0.7,\"#b8e186\"],[0.8,\"#7fbc41\"],[0.9,\"#4d9221\"],[1,\"#276419\"]]},\"xaxis\":{\"gridcolor\":\"white\",\"linecolor\":\"white\",\"ticks\":\"\",\"title\":{\"standoff\":15},\"zerolinecolor\":\"white\",\"automargin\":true,\"zerolinewidth\":2},\"yaxis\":{\"gridcolor\":\"white\",\"linecolor\":\"white\",\"ticks\":\"\",\"title\":{\"standoff\":15},\"zerolinecolor\":\"white\",\"automargin\":true,\"zerolinewidth\":2},\"scene\":{\"xaxis\":{\"backgroundcolor\":\"#E5ECF6\",\"gridcolor\":\"white\",\"linecolor\":\"white\",\"showbackground\":true,\"ticks\":\"\",\"zerolinecolor\":\"white\",\"gridwidth\":2},\"yaxis\":{\"backgroundcolor\":\"#E5ECF6\",\"gridcolor\":\"white\",\"linecolor\":\"white\",\"showbackground\":true,\"ticks\":\"\",\"zerolinecolor\":\"white\",\"gridwidth\":2},\"zaxis\":{\"backgroundcolor\":\"#E5ECF6\",\"gridcolor\":\"white\",\"linecolor\":\"white\",\"showbackground\":true,\"ticks\":\"\",\"zerolinecolor\":\"white\",\"gridwidth\":2}},\"shapedefaults\":{\"line\":{\"color\":\"#2a3f5f\"}},\"annotationdefaults\":{\"arrowcolor\":\"#2a3f5f\",\"arrowhead\":0,\"arrowwidth\":1},\"geo\":{\"bgcolor\":\"white\",\"landcolor\":\"#E5ECF6\",\"subunitcolor\":\"white\",\"showland\":true,\"showlakes\":true,\"lakecolor\":\"white\"},\"title\":{\"x\":0.05},\"mapbox\":{\"style\":\"light\"}}},\"xaxis\":{\"anchor\":\"y\",\"domain\":[0.0,1.0],\"title\":{\"text\":\"resolution\"}},\"yaxis\":{\"anchor\":\"x\",\"domain\":[0.0,1.0],\"title\":{\"text\":\"count\"}},\"legend\":{\"title\":{\"text\":\"price_range\"},\"tracegroupgap\":0},\"margin\":{\"t\":60},\"barmode\":\"relative\",\"height\":600},                        {\"responsive\": true}                    ).then(function(){\n",
       "                            \n",
       "var gd = document.getElementById('ca2fc6f1-27ba-468b-b83c-e74b601e0468');\n",
       "var x = new MutationObserver(function (mutations, observer) {{\n",
       "        var display = window.getComputedStyle(gd).display;\n",
       "        if (!display || display === 'none') {{\n",
       "            console.log([gd, 'removed!']);\n",
       "            Plotly.purge(gd);\n",
       "            observer.disconnect();\n",
       "        }}\n",
       "}});\n",
       "\n",
       "// Listen for the removal of the full notebook cells\n",
       "var notebookContainer = gd.closest('#notebook-container');\n",
       "if (notebookContainer) {{\n",
       "    x.observe(notebookContainer, {childList: true});\n",
       "}}\n",
       "\n",
       "// Listen for the clearing of the current output cell\n",
       "var outputEl = gd.closest('.output');\n",
       "if (outputEl) {{\n",
       "    x.observe(outputEl, {childList: true});\n",
       "}}\n",
       "\n",
       "                        })                };                });            </script>        </div>"
      ]
     },
     "metadata": {},
     "output_type": "display_data"
    }
   ],
   "source": [
    "px.histogram(laptops_train, x=\"resolution\", color=\"price_range\", height=600)"
   ]
  },
  {
   "cell_type": "markdown",
   "id": "2ac97b7c-1e15-4ca4-8f48-495800d07bef",
   "metadata": {},
   "source": [
    "Esta columna posee valores conflictivos, debido a que varios términos representan lo mismo, y que estas strings no son útiles a la hora de entrenar un modelo, por lo cual esta columna será subdividida en 3:\n",
    "* res_x: resolución en el eje X\n",
    "* res_y: resolución en el eje Y\n",
    "* panel_tech: lista de términos de features como \"IPS\" o \"Touchscreen\", usada luego como entrada de un one-hot encoder"
   ]
  },
  {
   "cell_type": "code",
   "execution_count": 251,
   "id": "f6a5b907-19ae-4413-8213-db091e521356",
   "metadata": {},
   "outputs": [],
   "source": [
    "def obtener_pixeles_resolucion(resolution_string, axis):\n",
    "    res_array = resolution_string.split()\n",
    "    res = [substring for substring in res_array if \"x\" in substring][0]\n",
    "    axis = 0 if axis == \"x\" else 1\n",
    "    return int(res.split('x')[axis])"
   ]
  },
  {
   "cell_type": "code",
   "execution_count": 252,
   "id": "b21824e6-6cb1-4a27-a476-f5bb0a3b19cb",
   "metadata": {},
   "outputs": [],
   "source": [
    "# Creación de la columna res_x\n",
    "\n",
    "laptops_train.insert(4, \"res_x\", laptops_train[\"resolution\"].apply(obtener_pixeles_resolucion, args=(\"x\")))\n",
    "laptops_test.insert(4, \"res_x\", laptops_test[\"resolution\"].apply(obtener_pixeles_resolucion, args=(\"x\")))"
   ]
  },
  {
   "cell_type": "code",
   "execution_count": 253,
   "id": "04d8b1b0-0b77-4758-a260-1ea9bc1e9af9",
   "metadata": {},
   "outputs": [
    {
     "ename": "IndexError",
     "evalue": "list index out of range",
     "output_type": "error",
     "traceback": [
      "\u001b[0;31m---------------------------------------------------------------------------\u001b[0m",
      "\u001b[0;31mIndexError\u001b[0m                                Traceback (most recent call last)",
      "Cell \u001b[0;32mIn[253], line 3\u001b[0m\n\u001b[1;32m      1\u001b[0m \u001b[38;5;66;03m# Creación de la columna res_y\u001b[39;00m\n\u001b[0;32m----> 3\u001b[0m laptops_train\u001b[38;5;241m.\u001b[39minsert(\u001b[38;5;241m5\u001b[39m, \u001b[38;5;124m\"\u001b[39m\u001b[38;5;124mres_y\u001b[39m\u001b[38;5;124m\"\u001b[39m, \u001b[43mlaptops_train\u001b[49m\u001b[43m[\u001b[49m\u001b[38;5;124;43m\"\u001b[39;49m\u001b[38;5;124;43mresolution\u001b[39;49m\u001b[38;5;124;43m\"\u001b[39;49m\u001b[43m]\u001b[49m\u001b[38;5;241;43m.\u001b[39;49m\u001b[43mapply\u001b[49m\u001b[43m(\u001b[49m\u001b[43mobtener_pixeles_resolucion\u001b[49m\u001b[43m,\u001b[49m\u001b[43m \u001b[49m\u001b[43margs\u001b[49m\u001b[38;5;241;43m=\u001b[39;49m\u001b[43m(\u001b[49m\u001b[38;5;124;43m\"\u001b[39;49m\u001b[38;5;124;43my\u001b[39;49m\u001b[38;5;124;43m\"\u001b[39;49m\u001b[43m)\u001b[49m\u001b[43m)\u001b[49m)\n\u001b[1;32m      4\u001b[0m laptops_test\u001b[38;5;241m.\u001b[39minsert(\u001b[38;5;241m5\u001b[39m, \u001b[38;5;124m\"\u001b[39m\u001b[38;5;124mres_y\u001b[39m\u001b[38;5;124m\"\u001b[39m, laptops_test[\u001b[38;5;124m\"\u001b[39m\u001b[38;5;124mresolution\u001b[39m\u001b[38;5;124m\"\u001b[39m]\u001b[38;5;241m.\u001b[39mapply(obtener_pixeles_resolucion, args\u001b[38;5;241m=\u001b[39m(\u001b[38;5;124m\"\u001b[39m\u001b[38;5;124my\u001b[39m\u001b[38;5;124m\"\u001b[39m)))\n",
      "File \u001b[0;32m~/repos/UCSE-ML-TP1-2024/.venv/lib/python3.12/site-packages/pandas/core/series.py:4924\u001b[0m, in \u001b[0;36mSeries.apply\u001b[0;34m(self, func, convert_dtype, args, by_row, **kwargs)\u001b[0m\n\u001b[1;32m   4789\u001b[0m \u001b[38;5;28;01mdef\u001b[39;00m \u001b[38;5;21mapply\u001b[39m(\n\u001b[1;32m   4790\u001b[0m     \u001b[38;5;28mself\u001b[39m,\n\u001b[1;32m   4791\u001b[0m     func: AggFuncType,\n\u001b[0;32m   (...)\u001b[0m\n\u001b[1;32m   4796\u001b[0m     \u001b[38;5;241m*\u001b[39m\u001b[38;5;241m*\u001b[39mkwargs,\n\u001b[1;32m   4797\u001b[0m ) \u001b[38;5;241m-\u001b[39m\u001b[38;5;241m>\u001b[39m DataFrame \u001b[38;5;241m|\u001b[39m Series:\n\u001b[1;32m   4798\u001b[0m \u001b[38;5;250m    \u001b[39m\u001b[38;5;124;03m\"\"\"\u001b[39;00m\n\u001b[1;32m   4799\u001b[0m \u001b[38;5;124;03m    Invoke function on values of Series.\u001b[39;00m\n\u001b[1;32m   4800\u001b[0m \n\u001b[0;32m   (...)\u001b[0m\n\u001b[1;32m   4915\u001b[0m \u001b[38;5;124;03m    dtype: float64\u001b[39;00m\n\u001b[1;32m   4916\u001b[0m \u001b[38;5;124;03m    \"\"\"\u001b[39;00m\n\u001b[1;32m   4917\u001b[0m     \u001b[38;5;28;01mreturn\u001b[39;00m \u001b[43mSeriesApply\u001b[49m\u001b[43m(\u001b[49m\n\u001b[1;32m   4918\u001b[0m \u001b[43m        \u001b[49m\u001b[38;5;28;43mself\u001b[39;49m\u001b[43m,\u001b[49m\n\u001b[1;32m   4919\u001b[0m \u001b[43m        \u001b[49m\u001b[43mfunc\u001b[49m\u001b[43m,\u001b[49m\n\u001b[1;32m   4920\u001b[0m \u001b[43m        \u001b[49m\u001b[43mconvert_dtype\u001b[49m\u001b[38;5;241;43m=\u001b[39;49m\u001b[43mconvert_dtype\u001b[49m\u001b[43m,\u001b[49m\n\u001b[1;32m   4921\u001b[0m \u001b[43m        \u001b[49m\u001b[43mby_row\u001b[49m\u001b[38;5;241;43m=\u001b[39;49m\u001b[43mby_row\u001b[49m\u001b[43m,\u001b[49m\n\u001b[1;32m   4922\u001b[0m \u001b[43m        \u001b[49m\u001b[43margs\u001b[49m\u001b[38;5;241;43m=\u001b[39;49m\u001b[43margs\u001b[49m\u001b[43m,\u001b[49m\n\u001b[1;32m   4923\u001b[0m \u001b[43m        \u001b[49m\u001b[43mkwargs\u001b[49m\u001b[38;5;241;43m=\u001b[39;49m\u001b[43mkwargs\u001b[49m\u001b[43m,\u001b[49m\n\u001b[0;32m-> 4924\u001b[0m \u001b[43m    \u001b[49m\u001b[43m)\u001b[49m\u001b[38;5;241;43m.\u001b[39;49m\u001b[43mapply\u001b[49m\u001b[43m(\u001b[49m\u001b[43m)\u001b[49m\n",
      "File \u001b[0;32m~/repos/UCSE-ML-TP1-2024/.venv/lib/python3.12/site-packages/pandas/core/apply.py:1427\u001b[0m, in \u001b[0;36mSeriesApply.apply\u001b[0;34m(self)\u001b[0m\n\u001b[1;32m   1424\u001b[0m     \u001b[38;5;28;01mreturn\u001b[39;00m \u001b[38;5;28mself\u001b[39m\u001b[38;5;241m.\u001b[39mapply_compat()\n\u001b[1;32m   1426\u001b[0m \u001b[38;5;66;03m# self.func is Callable\u001b[39;00m\n\u001b[0;32m-> 1427\u001b[0m \u001b[38;5;28;01mreturn\u001b[39;00m \u001b[38;5;28;43mself\u001b[39;49m\u001b[38;5;241;43m.\u001b[39;49m\u001b[43mapply_standard\u001b[49m\u001b[43m(\u001b[49m\u001b[43m)\u001b[49m\n",
      "File \u001b[0;32m~/repos/UCSE-ML-TP1-2024/.venv/lib/python3.12/site-packages/pandas/core/apply.py:1507\u001b[0m, in \u001b[0;36mSeriesApply.apply_standard\u001b[0;34m(self)\u001b[0m\n\u001b[1;32m   1501\u001b[0m \u001b[38;5;66;03m# row-wise access\u001b[39;00m\n\u001b[1;32m   1502\u001b[0m \u001b[38;5;66;03m# apply doesn't have a `na_action` keyword and for backward compat reasons\u001b[39;00m\n\u001b[1;32m   1503\u001b[0m \u001b[38;5;66;03m# we need to give `na_action=\"ignore\"` for categorical data.\u001b[39;00m\n\u001b[1;32m   1504\u001b[0m \u001b[38;5;66;03m# TODO: remove the `na_action=\"ignore\"` when that default has been changed in\u001b[39;00m\n\u001b[1;32m   1505\u001b[0m \u001b[38;5;66;03m#  Categorical (GH51645).\u001b[39;00m\n\u001b[1;32m   1506\u001b[0m action \u001b[38;5;241m=\u001b[39m \u001b[38;5;124m\"\u001b[39m\u001b[38;5;124mignore\u001b[39m\u001b[38;5;124m\"\u001b[39m \u001b[38;5;28;01mif\u001b[39;00m \u001b[38;5;28misinstance\u001b[39m(obj\u001b[38;5;241m.\u001b[39mdtype, CategoricalDtype) \u001b[38;5;28;01melse\u001b[39;00m \u001b[38;5;28;01mNone\u001b[39;00m\n\u001b[0;32m-> 1507\u001b[0m mapped \u001b[38;5;241m=\u001b[39m \u001b[43mobj\u001b[49m\u001b[38;5;241;43m.\u001b[39;49m\u001b[43m_map_values\u001b[49m\u001b[43m(\u001b[49m\n\u001b[1;32m   1508\u001b[0m \u001b[43m    \u001b[49m\u001b[43mmapper\u001b[49m\u001b[38;5;241;43m=\u001b[39;49m\u001b[43mcurried\u001b[49m\u001b[43m,\u001b[49m\u001b[43m \u001b[49m\u001b[43mna_action\u001b[49m\u001b[38;5;241;43m=\u001b[39;49m\u001b[43maction\u001b[49m\u001b[43m,\u001b[49m\u001b[43m \u001b[49m\u001b[43mconvert\u001b[49m\u001b[38;5;241;43m=\u001b[39;49m\u001b[38;5;28;43mself\u001b[39;49m\u001b[38;5;241;43m.\u001b[39;49m\u001b[43mconvert_dtype\u001b[49m\n\u001b[1;32m   1509\u001b[0m \u001b[43m\u001b[49m\u001b[43m)\u001b[49m\n\u001b[1;32m   1511\u001b[0m \u001b[38;5;28;01mif\u001b[39;00m \u001b[38;5;28mlen\u001b[39m(mapped) \u001b[38;5;129;01mand\u001b[39;00m \u001b[38;5;28misinstance\u001b[39m(mapped[\u001b[38;5;241m0\u001b[39m], ABCSeries):\n\u001b[1;32m   1512\u001b[0m     \u001b[38;5;66;03m# GH#43986 Need to do list(mapped) in order to get treated as nested\u001b[39;00m\n\u001b[1;32m   1513\u001b[0m     \u001b[38;5;66;03m#  See also GH#25959 regarding EA support\u001b[39;00m\n\u001b[1;32m   1514\u001b[0m     \u001b[38;5;28;01mreturn\u001b[39;00m obj\u001b[38;5;241m.\u001b[39m_constructor_expanddim(\u001b[38;5;28mlist\u001b[39m(mapped), index\u001b[38;5;241m=\u001b[39mobj\u001b[38;5;241m.\u001b[39mindex)\n",
      "File \u001b[0;32m~/repos/UCSE-ML-TP1-2024/.venv/lib/python3.12/site-packages/pandas/core/base.py:921\u001b[0m, in \u001b[0;36mIndexOpsMixin._map_values\u001b[0;34m(self, mapper, na_action, convert)\u001b[0m\n\u001b[1;32m    918\u001b[0m \u001b[38;5;28;01mif\u001b[39;00m \u001b[38;5;28misinstance\u001b[39m(arr, ExtensionArray):\n\u001b[1;32m    919\u001b[0m     \u001b[38;5;28;01mreturn\u001b[39;00m arr\u001b[38;5;241m.\u001b[39mmap(mapper, na_action\u001b[38;5;241m=\u001b[39mna_action)\n\u001b[0;32m--> 921\u001b[0m \u001b[38;5;28;01mreturn\u001b[39;00m \u001b[43malgorithms\u001b[49m\u001b[38;5;241;43m.\u001b[39;49m\u001b[43mmap_array\u001b[49m\u001b[43m(\u001b[49m\u001b[43marr\u001b[49m\u001b[43m,\u001b[49m\u001b[43m \u001b[49m\u001b[43mmapper\u001b[49m\u001b[43m,\u001b[49m\u001b[43m \u001b[49m\u001b[43mna_action\u001b[49m\u001b[38;5;241;43m=\u001b[39;49m\u001b[43mna_action\u001b[49m\u001b[43m,\u001b[49m\u001b[43m \u001b[49m\u001b[43mconvert\u001b[49m\u001b[38;5;241;43m=\u001b[39;49m\u001b[43mconvert\u001b[49m\u001b[43m)\u001b[49m\n",
      "File \u001b[0;32m~/repos/UCSE-ML-TP1-2024/.venv/lib/python3.12/site-packages/pandas/core/algorithms.py:1743\u001b[0m, in \u001b[0;36mmap_array\u001b[0;34m(arr, mapper, na_action, convert)\u001b[0m\n\u001b[1;32m   1741\u001b[0m values \u001b[38;5;241m=\u001b[39m arr\u001b[38;5;241m.\u001b[39mastype(\u001b[38;5;28mobject\u001b[39m, copy\u001b[38;5;241m=\u001b[39m\u001b[38;5;28;01mFalse\u001b[39;00m)\n\u001b[1;32m   1742\u001b[0m \u001b[38;5;28;01mif\u001b[39;00m na_action \u001b[38;5;129;01mis\u001b[39;00m \u001b[38;5;28;01mNone\u001b[39;00m:\n\u001b[0;32m-> 1743\u001b[0m     \u001b[38;5;28;01mreturn\u001b[39;00m \u001b[43mlib\u001b[49m\u001b[38;5;241;43m.\u001b[39;49m\u001b[43mmap_infer\u001b[49m\u001b[43m(\u001b[49m\u001b[43mvalues\u001b[49m\u001b[43m,\u001b[49m\u001b[43m \u001b[49m\u001b[43mmapper\u001b[49m\u001b[43m,\u001b[49m\u001b[43m \u001b[49m\u001b[43mconvert\u001b[49m\u001b[38;5;241;43m=\u001b[39;49m\u001b[43mconvert\u001b[49m\u001b[43m)\u001b[49m\n\u001b[1;32m   1744\u001b[0m \u001b[38;5;28;01melse\u001b[39;00m:\n\u001b[1;32m   1745\u001b[0m     \u001b[38;5;28;01mreturn\u001b[39;00m lib\u001b[38;5;241m.\u001b[39mmap_infer_mask(\n\u001b[1;32m   1746\u001b[0m         values, mapper, mask\u001b[38;5;241m=\u001b[39misna(values)\u001b[38;5;241m.\u001b[39mview(np\u001b[38;5;241m.\u001b[39muint8), convert\u001b[38;5;241m=\u001b[39mconvert\n\u001b[1;32m   1747\u001b[0m     )\n",
      "File \u001b[0;32mlib.pyx:2972\u001b[0m, in \u001b[0;36mpandas._libs.lib.map_infer\u001b[0;34m()\u001b[0m\n",
      "File \u001b[0;32m~/repos/UCSE-ML-TP1-2024/.venv/lib/python3.12/site-packages/pandas/core/apply.py:1496\u001b[0m, in \u001b[0;36mSeriesApply.apply_standard.<locals>.curried\u001b[0;34m(x)\u001b[0m\n\u001b[1;32m   1495\u001b[0m \u001b[38;5;28;01mdef\u001b[39;00m \u001b[38;5;21mcurried\u001b[39m(x):\n\u001b[0;32m-> 1496\u001b[0m     \u001b[38;5;28;01mreturn\u001b[39;00m \u001b[43mfunc\u001b[49m\u001b[43m(\u001b[49m\u001b[43mx\u001b[49m\u001b[43m,\u001b[49m\u001b[43m \u001b[49m\u001b[38;5;241;43m*\u001b[39;49m\u001b[38;5;28;43mself\u001b[39;49m\u001b[38;5;241;43m.\u001b[39;49m\u001b[43margs\u001b[49m\u001b[43m,\u001b[49m\u001b[43m \u001b[49m\u001b[38;5;241;43m*\u001b[39;49m\u001b[38;5;241;43m*\u001b[39;49m\u001b[38;5;28;43mself\u001b[39;49m\u001b[38;5;241;43m.\u001b[39;49m\u001b[43mkwargs\u001b[49m\u001b[43m)\u001b[49m\n",
      "Cell \u001b[0;32mIn[251], line 5\u001b[0m, in \u001b[0;36mobtener_pixeles_resolucion\u001b[0;34m(resolution_string, axis)\u001b[0m\n\u001b[1;32m      3\u001b[0m res \u001b[38;5;241m=\u001b[39m [substring \u001b[38;5;28;01mfor\u001b[39;00m substring \u001b[38;5;129;01min\u001b[39;00m res_array \u001b[38;5;28;01mif\u001b[39;00m \u001b[38;5;124m\"\u001b[39m\u001b[38;5;124mx\u001b[39m\u001b[38;5;124m\"\u001b[39m \u001b[38;5;129;01min\u001b[39;00m substring][\u001b[38;5;241m0\u001b[39m]\n\u001b[1;32m      4\u001b[0m axis \u001b[38;5;241m=\u001b[39m \u001b[38;5;241m0\u001b[39m \u001b[38;5;28;01mif\u001b[39;00m axis \u001b[38;5;241m==\u001b[39m \u001b[38;5;124m\"\u001b[39m\u001b[38;5;124mx\u001b[39m\u001b[38;5;124m\"\u001b[39m \u001b[38;5;28;01melse\u001b[39;00m \u001b[38;5;241m2\u001b[39m\n\u001b[0;32m----> 5\u001b[0m \u001b[38;5;28;01mreturn\u001b[39;00m \u001b[38;5;28mint\u001b[39m(\u001b[43mres\u001b[49m\u001b[38;5;241;43m.\u001b[39;49m\u001b[43msplit\u001b[49m\u001b[43m(\u001b[49m\u001b[38;5;124;43m'\u001b[39;49m\u001b[38;5;124;43mx\u001b[39;49m\u001b[38;5;124;43m'\u001b[39;49m\u001b[43m)\u001b[49m\u001b[43m[\u001b[49m\u001b[43maxis\u001b[49m\u001b[43m]\u001b[49m)\n",
      "\u001b[0;31mIndexError\u001b[0m: list index out of range"
     ]
    }
   ],
   "source": [
    "# Creación de la columna res_y\n",
    "\n",
    "laptops_train.insert(5, \"res_y\", laptops_train[\"resolution\"].apply(obtener_pixeles_resolucion, args=(\"y\")))\n",
    "laptops_test.insert(5, \"res_y\", laptops_test[\"resolution\"].apply(obtener_pixeles_resolucion, args=(\"y\")))"
   ]
  },
  {
   "cell_type": "code",
   "execution_count": null,
   "id": "dfc7362a-02e0-4a35-b1de-416b2234fc5a",
   "metadata": {},
   "outputs": [],
   "source": [
    "laptops_train"
   ]
  },
  {
   "cell_type": "markdown",
   "id": "cd01d915-70f3-4738-b530-6762b9d7a04b",
   "metadata": {},
   "source": [
    "### CPU"
   ]
  },
  {
   "cell_type": "code",
   "execution_count": null,
   "id": "aef0154d-b356-43ca-8bd7-7e374246a941",
   "metadata": {},
   "outputs": [],
   "source": [
    "px.histogram(laptops_train, x=\"cpu\", color=\"price_range\", height=700)"
   ]
  },
  {
   "cell_type": "markdown",
   "id": "21dc57d2-5c55-4de0-a532-3832c811314e",
   "metadata": {},
   "source": [
    "Se nota como la variable con mas ejemplares es la de Intel Core i5, y como el rango de precios aumenta con CPUs mas modernos"
   ]
  },
  {
   "cell_type": "markdown",
   "id": "84c51819-3e62-4d87-b3ac-c4a10a7451e7",
   "metadata": {},
   "source": [
    "### RAM"
   ]
  },
  {
   "cell_type": "code",
   "execution_count": null,
   "id": "3fd7fec3-a7d1-492c-85cf-8a09f3389f8d",
   "metadata": {},
   "outputs": [],
   "source": [
    "px.histogram(laptops_train, x=\"ram\", color=\"price_range\", category_orders={\"ram\": [\"2GB\", \"4GB\", \"6GB\", \"8GB\", \"12GB\", \"16GB\", \"24GB\", \"32GB\"]})"
   ]
  },
  {
   "cell_type": "markdown",
   "id": "15218e2e-dbec-4fcb-a764-b51b05d225cd",
   "metadata": {},
   "source": [
    "Se puede notar como al incrementar el valor de la RAM, aumenta el precio del laptop. Es una relacion lineal"
   ]
  },
  {
   "cell_type": "markdown",
   "id": "e05c2843-4cee-4e88-b2c0-30836b74b943",
   "metadata": {},
   "source": [
    "### Storage"
   ]
  },
  {
   "cell_type": "code",
   "execution_count": null,
   "id": "1c3a11cb-8e1e-49c5-8388-ef45ab6714d4",
   "metadata": {},
   "outputs": [],
   "source": [
    "px.histogram(laptops_train, x=\"storage\", color=\"price_range\", height=600)"
   ]
  },
  {
   "cell_type": "markdown",
   "id": "5f0971c4-0a70-454b-8d36-1711b9852193",
   "metadata": {},
   "source": [
    "Para esta variable, aplicaremos separaciones en GB de SSD y HDD. Se puede notar en el grafico como la mayoria de laptops cuentan con 256GB de SSD. Esta variable cuenta con muchos datos esparcidos."
   ]
  },
  {
   "cell_type": "markdown",
   "id": "aa174db2-bf21-43cd-9f56-97d199f09ff9",
   "metadata": {},
   "source": [
    "### GPU"
   ]
  },
  {
   "cell_type": "code",
   "execution_count": null,
   "id": "838fc264-ec64-40f0-a443-fdadd273cb1c",
   "metadata": {},
   "outputs": [],
   "source": [
    "px.histogram(laptops_train, x=\"gpu\", color=\"price_range\", height=600)"
   ]
  },
  {
   "cell_type": "markdown",
   "id": "3ef7e9ce-35dd-4688-ac69-bdab43b09dbc",
   "metadata": {},
   "source": [
    "Las GPU mas caras resultan ser las pertenecientes a NVidia, aumentando el precio con las gpu mas modernas. La mas comun en el dataset son las de Intel HD Graphics."
   ]
  },
  {
   "cell_type": "markdown",
   "id": "58517c05-650b-433e-9f69-fee01ec0e8a5",
   "metadata": {},
   "source": [
    "### OS"
   ]
  },
  {
   "cell_type": "code",
   "execution_count": null,
   "id": "5f0228b9-66fc-426b-8ff3-c77ce0992775",
   "metadata": {},
   "outputs": [],
   "source": [
    "px.histogram(laptops_train, x=\"os\", color=\"price_range\")"
   ]
  },
  {
   "cell_type": "markdown",
   "id": "64f28bff-e0e3-40a8-8455-2bfe9bafa156",
   "metadata": {},
   "source": [
    "La gran mayoria de las laptops tiene como sistema operativo a Windows. Se aprecia una discrepancia al haber dos columnas de mac OS, lo cual resolvemos con la siguiente operación"
   ]
  },
  {
   "cell_type": "code",
   "execution_count": null,
   "id": "96091ead-5057-4c7d-a314-7412b8321ff5",
   "metadata": {},
   "outputs": [],
   "source": [
    "# Normalización de nombres de macOS\n",
    "\n",
    "def acomodar_nombre_os(nombre):\n",
    "    if nombre == \"Mac OS\":\n",
    "        nombre = \"macOS\"\n",
    "    return nombre\n",
    "\n",
    "laptops_train[\"os\"] = laptops_train[\"os\"].apply(acomodar_nombre_os)\n",
    "laptops_test[\"os\"] = laptops_test[\"os\"].apply(acomodar_nombre_os)"
   ]
  },
  {
   "cell_type": "code",
   "execution_count": null,
   "id": "de32b21f-9eca-4018-a6ba-129b08759145",
   "metadata": {},
   "outputs": [],
   "source": [
    "px.histogram(laptops_train, x=\"os\", color=\"price_range\")"
   ]
  },
  {
   "cell_type": "markdown",
   "id": "5a977303-3e85-4bc6-9da8-a4481eed41e0",
   "metadata": {
    "editable": true,
    "slideshow": {
     "slide_type": ""
    },
    "tags": []
   },
   "source": [
    "### Weight"
   ]
  },
  {
   "cell_type": "code",
   "execution_count": null,
   "id": "3f9f9226-549a-4480-a452-39cea0af765f",
   "metadata": {},
   "outputs": [],
   "source": [
    "px.histogram(laptops_train, x=\"weight\", color=\"price_range\").update_xaxes(categoryorder=\"category ascending\")"
   ]
  },
  {
   "cell_type": "markdown",
   "id": "dbb5f347-348d-4f58-880b-ee60cd3816a5",
   "metadata": {},
   "source": [
    "En cuanto al peso, se puede notar como la mayoria de los equipos pesan 2.2kg, marcando su precio como \"bajo\".\n",
    "Observando la grafica podemos ver como el precio aumenta extremos, manteniendose en un precio bajo en los pesos intermedios"
   ]
  },
  {
   "cell_type": "code",
   "execution_count": null,
   "id": "6450e3b7-ecac-4ee3-92ef-1d2d698663be",
   "metadata": {},
   "outputs": [],
   "source": [
    "# Conversión de pesos a floats\n",
    "\n",
    "def convertir_peso(peso):\n",
    "    return float(peso.strip('kgs '))\n",
    "\n",
    "laptops_train[\"weight\"] = laptops_train[\"weight\"].apply(convertir_peso)\n",
    "laptops_test[\"weight\"] = laptops_test[\"weight\"].apply(convertir_peso)"
   ]
  },
  {
   "cell_type": "code",
   "execution_count": null,
   "id": "5ba09187-f022-4e2e-b494-276167ea65ee",
   "metadata": {},
   "outputs": [],
   "source": [
    "px.histogram(laptops_train, x=\"weight\", color=\"price_range\")"
   ]
  },
  {
   "cell_type": "markdown",
   "id": "2a37221f-c73f-4401-b69d-27da55c0e4e0",
   "metadata": {},
   "source": [
    "## Listado de dudas/preguntas para el proveedor del dataset\n",
    "\n",
    "* De que fuentes provienen estos precios? y que metodos fueron utilizados para recolectarlos?\n",
    "* Porque la columna de SO Type tiene tantos valores nulos?\n",
    "* Pensas que el tipo de SO afecta al precio?\n",
    "* Pensas que existen otros factores que afecten el precio de una laptop? como serían el material de chasis, distribución de teclado, etc.\n",
    "* Cual crees que es la variable que mas afecta al precio de una laptop?\n",
    "* Omitiste alguna variable al creear el dataset?"
   ]
  },
  {
   "cell_type": "markdown",
   "id": "ff2f5a6f-a2a5-4d3e-b101-379582d2a298",
   "metadata": {},
   "source": [
    "## 3 - Hipotesis sobre los datos\n",
    "\n",
    "* Pensamos que la variable OS influye poco sobre el rango de precio final\n",
    "* Creemos que las variables mas influyentes son GPU, Storage, RAM y CPU\n",
    "* La variable Category se ve afectada principalmente por el GPU? "
   ]
  },
  {
   "cell_type": "markdown",
   "id": "46474d40-a775-421f-8953-f42f36d0d68d",
   "metadata": {},
   "source": [
    "## Comprobacion de la hipotesis"
   ]
  },
  {
   "cell_type": "markdown",
   "id": "f310b814-6339-4f4b-8a05-e870fa47fbb0",
   "metadata": {},
   "source": [
    "## Creacion de nuevas variables"
   ]
  },
  {
   "cell_type": "markdown",
   "id": "6bedd662-5507-40ff-b856-90fb87b9756e",
   "metadata": {},
   "source": [
    "## 4 - Modelado"
   ]
  },
  {
   "cell_type": "code",
   "execution_count": null,
   "id": "315492e6-b0e0-40e9-b7f1-f88354ecb13f",
   "metadata": {},
   "outputs": [],
   "source": []
  }
 ],
 "metadata": {
  "kernelspec": {
   "display_name": "Python 3 (ipykernel)",
   "language": "python",
   "name": "python3"
  },
  "language_info": {
   "codemirror_mode": {
    "name": "ipython",
    "version": 3
   },
   "file_extension": ".py",
   "mimetype": "text/x-python",
   "name": "python",
   "nbconvert_exporter": "python",
   "pygments_lexer": "ipython3",
   "version": "3.12.5"
  }
 },
 "nbformat": 4,
 "nbformat_minor": 5
}
