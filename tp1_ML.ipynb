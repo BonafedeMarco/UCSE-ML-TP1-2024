{
 "cells": [
  {
   "cell_type": "markdown",
   "id": "4da6622e-79fa-4753-acb1-8573cc2ec73c",
   "metadata": {},
   "source": [
    "# 1 - Listado de variables y selección\n",
    "\n",
    "## Entrada\n",
    "* Manufacturer: Marca / fabricante del equipo\n",
    "* Model Name: Nombre / número de modelo del equipo\n",
    "* Category: Tipo de notebook\n",
    "* Screen Size: Tamaño diagonal de la pantalla en pulgadas\n",
    "* Screen Type: Resolución y tipo de panel\n",
    "* CPU: Modelo de procesador\n",
    "* RAM: Capacidad de memoria\n",
    "* Storage: Tipo y tamaño de almacenamiento interno\n",
    "* GPU: Tipo y modelo de procesador de gráficos\n",
    "* OS: Sistema operativo\n",
    "* Weight: Peso\n",
    "\n",
    "## Salida\n",
    "* Price: Será reducida con rangos a valores \"bajo\", \"medio\" o \"alto\"\n",
    "\n",
    "## No utilizadas\n",
    "* OS Version: No usada debido a su gran cantidad de nulos y presunta poca importancia"
   ]
  },
  {
   "cell_type": "markdown",
   "id": "3050e4c0-e31f-4d53-9c57-2396b4dada74",
   "metadata": {},
   "source": [
    "# 2 - Análisis detallado de un conjunto de variables\n"
   ]
  },
  {
   "cell_type": "code",
   "execution_count": null,
   "id": "7fb1e001-fc54-4fed-a971-db7fa28f29d8",
   "metadata": {},
   "outputs": [],
   "source": [
    "import pandas as pd"
   ]
  },
  {
   "cell_type": "code",
   "execution_count": null,
   "id": "d008d871-5090-4c28-ae9c-2996fff72252",
   "metadata": {},
   "outputs": [],
   "source": [
    "laptops_train = pd.read_csv('laptops_train.csv')\n",
    "laptops_test = pd.read_csv('laptops_test.csv')"
   ]
  },
  {
   "cell_type": "code",
   "execution_count": null,
   "id": "bd454cda-a531-461e-aff6-24e25eaae7b3",
   "metadata": {},
   "outputs": [],
   "source": [
    "print(\"Entries de train: \"+str(len(laptops_train)))\n",
    "print(\"Entries de test: \"+str(len(laptops_test)))"
   ]
  },
  {
   "cell_type": "markdown",
   "id": "4342b27c-4c97-4c26-9b16-eb6731dc6af3",
   "metadata": {},
   "source": [
    "### Valores nulos"
   ]
  },
  {
   "cell_type": "code",
   "execution_count": null,
   "id": "af739fd0-b4af-406a-a565-47279ed3942d",
   "metadata": {},
   "outputs": [],
   "source": [
    "laptops_train.isnull().sum()"
   ]
  },
  {
   "cell_type": "code",
   "execution_count": null,
   "id": "7e9787de-0959-4a72-b157-eebb6219e24d",
   "metadata": {
    "scrolled": true
   },
   "outputs": [],
   "source": [
    "laptops_test.isnull().sum()"
   ]
  },
  {
   "cell_type": "markdown",
   "id": "e0310ae5-0d21-4238-96f3-c3ecc34a8c89",
   "metadata": {},
   "source": [
    "Este dataset solo presenta valores nulos en la columna \"Operating System Version\", la cual se decidió no utilizar anteriormente, por lo cual no es un problema a tener en cuenta en este caso"
   ]
  },
  {
   "cell_type": "code",
   "execution_count": null,
   "id": "5fe44481-ef9e-4727-a665-5d3e7316f862",
   "metadata": {
    "scrolled": true
   },
   "outputs": [],
   "source": [
    "laptops_train"
   ]
  },
  {
   "cell_type": "code",
   "execution_count": null,
   "id": "5952abb6-852b-4678-8fab-124b3dddb799",
   "metadata": {},
   "outputs": [],
   "source": [
    "# Renombre de las series\n",
    "new_col_names = {\n",
    "    \"Manufacturer\":\"manufacturer\",\n",
    "    \"Model Name\":\"model\",\n",
    "    \"Category\":\"category\",\n",
    "    \"Screen Size\":\"screen_size\",\n",
    "    \"Screen\":\"resolution\",\n",
    "    \"CPU\":\"cpu\",\n",
    "    \"RAM\":\"ram\",\n",
    "    \" Storage\":\"storage\", # la string original tiene el espacio, sin eso no lo cambia\n",
    "    \"GPU\":\"gpu\",\n",
    "    \"Operating System\":\"os\",\n",
    "    #\"Operating System Version\":\"os_version\",\n",
    "    \"Weight\":\"weight\",\n",
    "    \"Price\":\"price\"\n",
    "}\n",
    "\n",
    "laptops_train = laptops_train.rename(columns=new_col_names).drop(columns=\"Operating System Version\")\n",
    "laptops_test = laptops_test.rename(columns=new_col_names).drop(columns=\"Operating System Version\")"
   ]
  },
  {
   "cell_type": "code",
   "execution_count": null,
   "id": "1c15d532-d226-47aa-9a0f-2228a2809ccd",
   "metadata": {
    "scrolled": true
   },
   "outputs": [],
   "source": [
    "laptops_train"
   ]
  },
  {
   "cell_type": "markdown",
   "id": "8f600f0e-74d4-4c9d-bcc2-7c23a843bd79",
   "metadata": {},
   "source": [
    "## Variable de salida"
   ]
  },
  {
   "cell_type": "code",
   "execution_count": null,
   "id": "f1d4fe45-cd1a-4bcb-97d9-028a68870ce7",
   "metadata": {},
   "outputs": [],
   "source": [
    "# Conversión de la variable de salida de rupias a dólares, tomando como base la cotización del 28/03/2023, según la última actualización del dataset\n",
    "# Se dividió por 100 el valor obtenido debido a que los precios convertidos con la cotización de referencia se encontraban fuera del rango esperado\n",
    "# Cotización: 1 INR = 0.0001217 USD\n",
    "\n",
    "\n",
    "cotizacion = 0.0001217\n",
    "\n",
    "def convertir_precio(precio):\n",
    "    return int(precio * cotizacion)\n",
    "\n",
    "laptops_train[\"price\"] = laptops_train[\"price\"].apply(convertir_precio)\n",
    "laptops_test[\"price\"] = laptops_test[\"price\"].apply(convertir_precio)"
   ]
  },
  {
   "cell_type": "code",
   "execution_count": null,
   "id": "2b06b65a-712a-4eb1-a22b-3fe009b71a05",
   "metadata": {},
   "outputs": [],
   "source": [
    "laptops_train"
   ]
  },
  {
   "cell_type": "code",
   "execution_count": null,
   "id": "4be3cc5d-2d01-4469-9210-ffcabeee371a",
   "metadata": {},
   "outputs": [],
   "source": [
    "laptops_test"
   ]
  },
  {
   "cell_type": "code",
   "execution_count": null,
   "id": "107908e8-078c-466b-b0e2-3f46cf5a29ef",
   "metadata": {},
   "outputs": [],
   "source": [
    "import matplotlib as plt\n",
    "import plotly.express as px"
   ]
  },
  {
   "cell_type": "code",
   "execution_count": null,
   "id": "ec6921ac-77b5-445d-9b99-db2488cf8257",
   "metadata": {},
   "outputs": [],
   "source": [
    "px.histogram(laptops_train, x=\"price\")"
   ]
  },
  {
   "cell_type": "code",
   "execution_count": null,
   "id": "168044ab-d3fd-4109-b4f8-ff8421c808d2",
   "metadata": {},
   "outputs": [],
   "source": [
    "px.histogram(laptops_test, x=\"price\")"
   ]
  },
  {
   "cell_type": "code",
   "execution_count": null,
   "id": "d1cb3cb1-fd3f-4b7b-bb75-91e1eba60f70",
   "metadata": {},
   "outputs": [],
   "source": [
    "px.box(laptops_train, x=\"price\")"
   ]
  },
  {
   "cell_type": "code",
   "execution_count": null,
   "id": "4d1ce3f4-808b-4bae-919f-7efe38c9e6f3",
   "metadata": {},
   "outputs": [],
   "source": [
    "px.box(laptops_test, x=\"price\")"
   ]
  },
  {
   "cell_type": "code",
   "execution_count": null,
   "id": "9fa72beb-4487-4f5e-9049-5fdc2d286922",
   "metadata": {},
   "outputs": [],
   "source": [
    "laptops_train[\"price\"].describe()"
   ]
  },
  {
   "cell_type": "code",
   "execution_count": null,
   "id": "4bb51838-2673-448c-beb6-4dd0c822f82f",
   "metadata": {},
   "outputs": [],
   "source": [
    "laptops_test[\"price\"].describe()"
   ]
  },
  {
   "cell_type": "markdown",
   "id": "58b33b99-5d54-4d37-ad72-fd597f8ca06f",
   "metadata": {},
   "source": [
    "Se puede apreciar como la variable de salida tiene una forma de campana gaussiana con asimetría positiva. Podemos notar como tanto el set de train y de test tienen una distribución similar, lo cual es importante controlar debido a que ambas tablas fueron provistas por el creador del dataset. A su vez se puede ver como existen valores anómalos y aberrantes en los rangos superiores del dataset. En consecuencia, esto podría generar overfitting debido a los pocos datos en este rango, y optamos por quitar estos dispositivos del dataset directamente."
   ]
  },
  {
   "cell_type": "code",
   "execution_count": null,
   "id": "8245f878-2a6f-4b4a-9adc-622977d69a8b",
   "metadata": {},
   "outputs": [],
   "source": [
    "# Descartamos los valores anómalos y aberrantes (donde precio > 3500)\n",
    "\n",
    "descartes_train = laptops_train[laptops_train.price > 3500].index\n",
    "descartes_test = laptops_test[laptops_test.price > 3500].index\n",
    "\n",
    "laptops_train = laptops_train.drop(descartes_train)\n",
    "laptops_test = laptops_test.drop(descartes_test)\n",
    "\n",
    "print(\"Valores descartados:\")\n",
    "print(\"Train:\"+str(len(descartes_train)))\n",
    "print(\"Test:\"+str(len(descartes_test)))"
   ]
  },
  {
   "cell_type": "code",
   "execution_count": null,
   "id": "25951c4a-b643-4f06-a100-ac2a76492425",
   "metadata": {},
   "outputs": [],
   "source": [
    "# Conversión a rangos de precios\n",
    "# Rangos:\n",
    "# low: 0 < price <= 1000\n",
    "# mid: 1000 < price <= 1500\n",
    "# high: 1500 < price <= 3500\n",
    "\n",
    "laptops_train[\"price_range\"] = pd.cut(x=laptops_train[\"price\"], bins=[0, 1000, 1500, 3500], labels=[\"low\", \"mid\", \"high\"])\n",
    "laptops_test[\"price_range\"] = pd.cut(x=laptops_test[\"price\"], bins=[0, 1000, 1500, 3500], labels=[\"low\", \"mid\", \"high\"])"
   ]
  },
  {
   "cell_type": "code",
   "execution_count": null,
   "id": "16bec1c9-ca09-4959-9af0-e14a5a58e6b2",
   "metadata": {},
   "outputs": [],
   "source": [
    "# Ordenamos el dataset por la nueva columna de price_range para que los gráficos queden mejor acomodados\n",
    "# (se puede hacer agregando category_orders={\"price_range\": [\"low\", \"mid\", \"high\"]} a cada gráfico, pero de esta manera aplica para todos)\n",
    "\n",
    "laptops_train = laptops_train.sort_values(by=\"price_range\")\n",
    "laptops_test = laptops_test.sort_values(by=\"price_range\")"
   ]
  },
  {
   "cell_type": "code",
   "execution_count": null,
   "id": "7c8a4087-f8e4-4cce-ac33-e21666a095f5",
   "metadata": {},
   "outputs": [],
   "source": [
    "laptops_train"
   ]
  },
  {
   "cell_type": "code",
   "execution_count": null,
   "id": "e2d185dc-d17e-49d8-aa6e-c63eb585b991",
   "metadata": {},
   "outputs": [],
   "source": [
    "#Una ves aplicado los rangos, droppeamos la columna de precio, porque no la vamos a usar\n",
    "laptops_train = laptops_train.drop(columns=\"price\")\n",
    "laptops_test = laptops_test.drop(columns=\"price\")"
   ]
  },
  {
   "cell_type": "code",
   "execution_count": null,
   "id": "b8142871-055e-4f70-bcc0-b64e8e878772",
   "metadata": {},
   "outputs": [],
   "source": [
    "laptops_train"
   ]
  },
  {
   "cell_type": "code",
   "execution_count": null,
   "id": "483aff6f-9950-4a94-94a3-9ed9131e4151",
   "metadata": {},
   "outputs": [],
   "source": [
    "px.histogram(laptops_train, x = \"price_range\")"
   ]
  },
  {
   "cell_type": "markdown",
   "id": "a5a3e9c1-e141-4b46-b205-668018dfa694",
   "metadata": {},
   "source": [
    "## Variables de entrada"
   ]
  },
  {
   "cell_type": "markdown",
   "id": "59d25859-ac38-4d20-aef4-eee2ff85bdbf",
   "metadata": {},
   "source": [
    "### Manufacturer"
   ]
  },
  {
   "cell_type": "code",
   "execution_count": null,
   "id": "254ba90f-6650-43e9-b13b-7d18b23d1926",
   "metadata": {},
   "outputs": [],
   "source": [
    "px.histogram(laptops_train,x=\"manufacturer\", color=\"price_range\")"
   ]
  },
  {
   "cell_type": "markdown",
   "id": "9d21d6c3-db2e-4758-a5df-69d8e5e4422f",
   "metadata": {},
   "source": [
    "Se puede observar como el dataset cuenta en su mayoria con 4 manufacturadores predominantes, Lenovo, Dell, HP y Asus."
   ]
  },
  {
   "cell_type": "markdown",
   "id": "0369777e-8a61-45c9-8975-5fea66b1a1ba",
   "metadata": {},
   "source": [
    "### Model"
   ]
  },
  {
   "cell_type": "code",
   "execution_count": null,
   "id": "744ac8ca-7bc0-4876-9cf2-c8b5c95582fb",
   "metadata": {},
   "outputs": [],
   "source": [
    "px.box(laptops_train,x=\"model\", color=\"price_range\", height=800)"
   ]
  },
  {
   "cell_type": "markdown",
   "id": "4c3dbd28-a4aa-4006-adab-c6f88af4b4ae",
   "metadata": {},
   "source": [
    "Se puede notar como el precio aumenta dependiendo de que tan nuevo es el modelo del laptop. Estas variables estan correlacionadas linealmente ?"
   ]
  },
  {
   "cell_type": "markdown",
   "id": "e3a19a0a-1f74-440c-bf9b-b55ca0dad46a",
   "metadata": {},
   "source": [
    "### Category"
   ]
  },
  {
   "cell_type": "code",
   "execution_count": null,
   "id": "591ee396-0ff2-4ba6-a22a-c83e3641b201",
   "metadata": {},
   "outputs": [],
   "source": [
    "px.histogram(laptops_train, x=\"category\", color=\"price_range\")"
   ]
  },
  {
   "cell_type": "markdown",
   "id": "1fae806e-2741-4a10-ac22-1130c08b0b20",
   "metadata": {},
   "source": [
    "Se observa como la mayoria de los datos ingresados tienen como categoria \"Notebook\". Ademas, la categoria \"Workstation\" contiene solo valores donde el rango de precio es \"High\" lo cual influira en la decision tomada por el modelo. Se puede notar tambien como las categorias \"Gaming\" y \"Ultrabook\" cuentan con muchos valores \"mid\" y \"high\", lo que tambien influye en las decisiones finales."
   ]
  },
  {
   "cell_type": "markdown",
   "id": "c56023c0-c686-4791-9d05-f5805ce38233",
   "metadata": {},
   "source": [
    "### Screen size"
   ]
  },
  {
   "cell_type": "code",
   "execution_count": null,
   "id": "01e7debc-b632-4ecd-8e9f-65d568a967af",
   "metadata": {},
   "outputs": [],
   "source": [
    "px.histogram(laptops_train, x=\"screen_size\", color=\"price_range\").update_xaxes(categoryorder=\"category ascending\")"
   ]
  },
  {
   "cell_type": "markdown",
   "id": "ee4be1f2-031a-4ae3-b0f6-e353074c4b0b",
   "metadata": {},
   "source": [
    "Se puede ver como la mayoria de los datos cuentan con un tamaño de pantalla de 15,6 pulgadas. Tambien se puede notar algunos datos individuales esparcidos entre los otros tamaños"
   ]
  },
  {
   "cell_type": "markdown",
   "id": "476c2dfa-ec8c-485d-bf64-f5940fb91bc0",
   "metadata": {},
   "source": [
    "### Resolution"
   ]
  },
  {
   "cell_type": "code",
   "execution_count": null,
   "id": "af7d9789-ba2d-4c17-abc6-e6b649ab954c",
   "metadata": {},
   "outputs": [],
   "source": [
    "px.histogram(laptops_train, x=\"resolution\", color=\"price_range\", height=600)"
   ]
  },
  {
   "cell_type": "markdown",
   "id": "2ac97b7c-1e15-4ca4-8f48-495800d07bef",
   "metadata": {},
   "source": [
    "En este grafico demuestra que existen tres tipos de resolucion predominantes, siendo \"Full HD\" la que contiene mas ejemplares. \n",
    "Para facilitar el aprendizaje del modelo, modificaremos los datos de esta variable..."
   ]
  },
  {
   "cell_type": "markdown",
   "id": "cd01d915-70f3-4738-b530-6762b9d7a04b",
   "metadata": {},
   "source": [
    "### CPU"
   ]
  },
  {
   "cell_type": "code",
   "execution_count": null,
   "id": "aef0154d-b356-43ca-8bd7-7e374246a941",
   "metadata": {},
   "outputs": [],
   "source": [
    "px.histogram(laptops_train, x=\"cpu\", color=\"price_range\", height=700)"
   ]
  },
  {
   "cell_type": "markdown",
   "id": "21dc57d2-5c55-4de0-a532-3832c811314e",
   "metadata": {},
   "source": [
    "Se nota como la variable con mas ejemplares es la de Intel Core i5, y como el rango de precios aumenta con CPUs mas modernos"
   ]
  },
  {
   "cell_type": "markdown",
   "id": "84c51819-3e62-4d87-b3ac-c4a10a7451e7",
   "metadata": {},
   "source": [
    "### RAM"
   ]
  },
  {
   "cell_type": "code",
   "execution_count": null,
   "id": "3fd7fec3-a7d1-492c-85cf-8a09f3389f8d",
   "metadata": {},
   "outputs": [],
   "source": [
    "px.histogram(laptops_train, x=\"ram\", color=\"price_range\", category_orders={\"ram\": [\"2GB\", \"4GB\", \"6GB\", \"8GB\", \"12GB\", \"16GB\", \"24GB\", \"32GB\"]})"
   ]
  },
  {
   "cell_type": "markdown",
   "id": "15218e2e-dbec-4fcb-a764-b51b05d225cd",
   "metadata": {},
   "source": [
    "Se puede notar como al incrementar el valor de la RAM, aumenta el precio del laptop. Es una relacion lineal"
   ]
  },
  {
   "cell_type": "markdown",
   "id": "e05c2843-4cee-4e88-b2c0-30836b74b943",
   "metadata": {},
   "source": [
    "### Storage"
   ]
  },
  {
   "cell_type": "code",
   "execution_count": null,
   "id": "1c3a11cb-8e1e-49c5-8388-ef45ab6714d4",
   "metadata": {},
   "outputs": [],
   "source": [
    "px.histogram(laptops_train, x=\"storage\", color=\"price_range\", height=600)"
   ]
  },
  {
   "cell_type": "markdown",
   "id": "5f0971c4-0a70-454b-8d36-1711b9852193",
   "metadata": {},
   "source": [
    "Para esta variable, aplicaremos separaciones en GB de SSD y HDD. Se puede notar en el grafico como la mayoria de laptops cuentan con 256GB de SSD. Esta variable cuenta con muchos datos esparcidos."
   ]
  },
  {
   "cell_type": "markdown",
   "id": "aa174db2-bf21-43cd-9f56-97d199f09ff9",
   "metadata": {},
   "source": [
    "### GPU"
   ]
  },
  {
   "cell_type": "code",
   "execution_count": null,
   "id": "838fc264-ec64-40f0-a443-fdadd273cb1c",
   "metadata": {},
   "outputs": [],
   "source": [
    "px.histogram(laptops_train, x=\"gpu\", color=\"price_range\", height=600)"
   ]
  },
  {
   "cell_type": "markdown",
   "id": "3ef7e9ce-35dd-4688-ac69-bdab43b09dbc",
   "metadata": {},
   "source": [
    "Las GPU mas caras resultan ser las pertenecientes a NVidia, aumentando el precio con las gpu mas modernas. La mas comun en el dataset son las de Intel HD Graphics."
   ]
  },
  {
   "cell_type": "markdown",
   "id": "58517c05-650b-433e-9f69-fee01ec0e8a5",
   "metadata": {},
   "source": [
    "### OS"
   ]
  },
  {
   "cell_type": "code",
   "execution_count": null,
   "id": "5f0228b9-66fc-426b-8ff3-c77ce0992775",
   "metadata": {},
   "outputs": [],
   "source": [
    "px.histogram(laptops_train, x=\"os\", color=\"price_range\")"
   ]
  },
  {
   "cell_type": "markdown",
   "id": "64f28bff-e0e3-40a8-8455-2bfe9bafa156",
   "metadata": {},
   "source": [
    "La gran mayoria de las laptops tiene como sistema operativo a Windows. Se aprecia una discrepancia al haber dos columnas de mac OS, que sera resuelta en breve."
   ]
  },
  {
   "cell_type": "markdown",
   "id": "5a977303-3e85-4bc6-9da8-a4481eed41e0",
   "metadata": {},
   "source": [
    "### Weight"
   ]
  },
  {
   "cell_type": "code",
   "execution_count": null,
   "id": "3f9f9226-549a-4480-a452-39cea0af765f",
   "metadata": {},
   "outputs": [],
   "source": [
    "px.histogram(laptops_train, x=\"weight\", color=\"price_range\").update_xaxes(categoryorder=\"category ascending\")"
   ]
  },
  {
   "cell_type": "markdown",
   "id": "dbb5f347-348d-4f58-880b-ee60cd3816a5",
   "metadata": {},
   "source": [
    "En cuanto al Peso, se puede notar como la mayoria de los equipos pesan 2.3kg, marcando su precio como \"bajo\".\n",
    "Observando la grafica podemos ver como el precio aumenta en los Pesos mas bajos y mas altos?, manteniendose en un precio bajo en los pesos intermedios"
   ]
  },
  {
   "cell_type": "markdown",
   "id": "2a37221f-c73f-4401-b69d-27da55c0e4e0",
   "metadata": {},
   "source": [
    "## Listado de dudas/preguntas para el proveedor del dataset\n",
    "\n",
    "* De que fuentes provienen estos precios? y que metodos fueron utilizados para recolectarlos?\n",
    "* Porque la columna de SO Type tiene tantos valores nulos?\n",
    "* Pensas que el tipo de SO afecta al precio?\n",
    "* Pensas que existen otros factores que afecten el precio de una laptop? como serían el material de chasis, distribución de teclado, etc.\n",
    "* Cual crees que es la variable que mas afecta al precio de una laptop?\n",
    "* Omitiste alguna variable al creear el dataset?"
   ]
  },
  {
   "cell_type": "markdown",
   "id": "ff2f5a6f-a2a5-4d3e-b101-379582d2a298",
   "metadata": {},
   "source": [
    "## 3 - Hipotesis sobre los datos\n",
    "\n",
    "* Pensamos que la variable OS influye poco sobre el rango de precio final\n",
    "* Creemos que las variables mas influyentes son GPU, Storage, RAM y CPU\n",
    "* La variable Category se ve afectada principalmente por el GPU? "
   ]
  },
  {
   "cell_type": "markdown",
   "id": "46474d40-a775-421f-8953-f42f36d0d68d",
   "metadata": {},
   "source": [
    "## Comprobacion de la hipotesis"
   ]
  },
  {
   "cell_type": "markdown",
   "id": "f310b814-6339-4f4b-8a05-e870fa47fbb0",
   "metadata": {},
   "source": [
    "## Creacion de nuevas variables"
   ]
  },
  {
   "cell_type": "markdown",
   "id": "6bedd662-5507-40ff-b856-90fb87b9756e",
   "metadata": {},
   "source": [
    "## 4 - Modelado"
   ]
  },
  {
   "cell_type": "code",
   "execution_count": null,
   "id": "315492e6-b0e0-40e9-b7f1-f88354ecb13f",
   "metadata": {},
   "outputs": [],
   "source": []
  }
 ],
 "metadata": {
  "kernelspec": {
   "display_name": "Python 3 (ipykernel)",
   "language": "python",
   "name": "python3"
  },
  "language_info": {
   "codemirror_mode": {
    "name": "ipython",
    "version": 3
   },
   "file_extension": ".py",
   "mimetype": "text/x-python",
   "name": "python",
   "nbconvert_exporter": "python",
   "pygments_lexer": "ipython3",
   "version": "3.10.12"
  }
 },
 "nbformat": 4,
 "nbformat_minor": 5
}
